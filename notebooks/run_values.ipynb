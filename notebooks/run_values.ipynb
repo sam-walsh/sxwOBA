{
 "cells": [
  {
   "cell_type": "code",
   "execution_count": 2,
   "metadata": {},
   "outputs": [],
   "source": [
    "import pandas as pd\n",
    "import numpy as np\n",
    "import os"
   ]
  },
  {
   "cell_type": "code",
   "execution_count": 3,
   "metadata": {},
   "outputs": [],
   "source": [
    "base_dir = 'C:/Users/wampl/sxwOBA/'"
   ]
  },
  {
   "cell_type": "code",
   "execution_count": 4,
   "metadata": {},
   "outputs": [],
   "source": [
    "df = pd.read_csv(os.path.join(base_dir, 'statcast_data', '2023.csv'))"
   ]
  },
  {
   "cell_type": "code",
   "execution_count": 5,
   "metadata": {},
   "outputs": [
    {
     "data": {
      "text/plain": [
       "field_out                       40547\n",
       "strikeout                       23181\n",
       "single                          14587\n",
       "walk                             8536\n",
       "double                           4647\n",
       "home_run                         3151\n",
       "force_out                        2019\n",
       "grounded_into_double_play        1923\n",
       "hit_by_pitch                     1143\n",
       "sac_fly                           700\n",
       "field_error                       585\n",
       "triple                            375\n",
       "sac_bunt                          237\n",
       "double_play                       222\n",
       "fielders_choice                   208\n",
       "fielders_choice_out               158\n",
       "caught_stealing_2b                119\n",
       "catcher_interf                     64\n",
       "strikeout_double_play              58\n",
       "other_out                          12\n",
       "sac_fly_double_play                11\n",
       "pickoff_caught_stealing_2b          7\n",
       "pickoff_1b                          7\n",
       "caught_stealing_home                7\n",
       "caught_stealing_3b                  5\n",
       "wild_pitch                          4\n",
       "pickoff_3b                          2\n",
       "pickoff_caught_stealing_home        1\n",
       "stolen_base_2b                      1\n",
       "Name: events, dtype: int64"
      ]
     },
     "execution_count": 5,
     "metadata": {},
     "output_type": "execute_result"
    }
   ],
   "source": [
    "df.events.value_counts()"
   ]
  },
  {
   "cell_type": "code",
   "execution_count": null,
   "metadata": {},
   "outputs": [],
   "source": [
    "df.loc[df['description']=='hit_into_play', 'events'].value_counts()"
   ]
  }
 ],
 "metadata": {
  "kernelspec": {
   "display_name": "datasci",
   "language": "python",
   "name": "python3"
  },
  "language_info": {
   "codemirror_mode": {
    "name": "ipython",
    "version": 3
   },
   "file_extension": ".py",
   "mimetype": "text/x-python",
   "name": "python",
   "nbconvert_exporter": "python",
   "pygments_lexer": "ipython3",
   "version": "3.10.8"
  },
  "orig_nbformat": 4
 },
 "nbformat": 4,
 "nbformat_minor": 2
}
