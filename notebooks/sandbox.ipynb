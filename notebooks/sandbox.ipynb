{
 "cells": [
  {
   "cell_type": "code",
   "execution_count": 44,
   "metadata": {},
   "outputs": [],
   "source": [
    "import pandas as pd\n",
    "import numpy as np\n",
    "import pybaseball as pb\n",
    "import matplotlib.pyplot as plt\n",
    "import seaborn as sns\n",
    "import joblib"
   ]
  },
  {
   "cell_type": "code",
   "execution_count": 45,
   "metadata": {},
   "outputs": [],
   "source": [
    "df_2023 = pd.read_csv(\"C:/Users/wampl/sxwOBA/statcast_data/2023.csv\")\n",
    "sample_df = df_2023.sample(n=10000)\n",
    "sample_df.to_csv('C:/Users/wampl/sxwOBA/statcast_data/sample_2023.csv', index=False)"
   ]
  },
  {
   "cell_type": "code",
   "execution_count": 46,
   "metadata": {},
   "outputs": [],
   "source": [
    "df1 = pd.read_csv(\"C:/Users/wampl/sxwOBA/statcast_data/woba_events_2021.csv\")\n",
    "df2 = pd.read_csv(\"C:/Users/wampl/sxwOBA/statcast_data/woba_events_2022.csv\")\n",
    "df3 = pd.read_csv(\"C:/Users/wampl/sxwOBA/statcast_data/woba_events_2023.csv\")"
   ]
  },
  {
   "cell_type": "code",
   "execution_count": 47,
   "metadata": {},
   "outputs": [
    {
     "data": {
      "text/html": [
       "<div>\n",
       "<style scoped>\n",
       "    .dataframe tbody tr th:only-of-type {\n",
       "        vertical-align: middle;\n",
       "    }\n",
       "\n",
       "    .dataframe tbody tr th {\n",
       "        vertical-align: top;\n",
       "    }\n",
       "\n",
       "    .dataframe thead th {\n",
       "        text-align: right;\n",
       "    }\n",
       "</style>\n",
       "<table border=\"1\" class=\"dataframe\">\n",
       "  <thead>\n",
       "    <tr style=\"text-align: right;\">\n",
       "      <th></th>\n",
       "      <th></th>\n",
       "      <th>mean</th>\n",
       "      <th>count</th>\n",
       "    </tr>\n",
       "    <tr>\n",
       "      <th>player_name</th>\n",
       "      <th>pitcher</th>\n",
       "      <th></th>\n",
       "      <th></th>\n",
       "    </tr>\n",
       "  </thead>\n",
       "  <tbody>\n",
       "    <tr>\n",
       "      <th>Wheeler, Zack</th>\n",
       "      <th>554430</th>\n",
       "      <td>0.258952</td>\n",
       "      <td>839</td>\n",
       "    </tr>\n",
       "    <tr>\n",
       "      <th>Alcantara, Sandy</th>\n",
       "      <th>645261</th>\n",
       "      <td>0.297152</td>\n",
       "      <td>833</td>\n",
       "    </tr>\n",
       "    <tr>\n",
       "      <th>Wainwright, Adam</th>\n",
       "      <th>425794</th>\n",
       "      <td>0.299090</td>\n",
       "      <td>821</td>\n",
       "    </tr>\n",
       "    <tr>\n",
       "      <th>Buehler, Walker</th>\n",
       "      <th>621111</th>\n",
       "      <td>0.271766</td>\n",
       "      <td>801</td>\n",
       "    </tr>\n",
       "    <tr>\n",
       "      <th>Castillo, Luis</th>\n",
       "      <th>622491</th>\n",
       "      <td>0.300465</td>\n",
       "      <td>788</td>\n",
       "    </tr>\n",
       "    <tr>\n",
       "      <th>Berríos, José</th>\n",
       "      <th>621244</th>\n",
       "      <td>0.301280</td>\n",
       "      <td>779</td>\n",
       "    </tr>\n",
       "    <tr>\n",
       "      <th>Hendricks, Kyle</th>\n",
       "      <th>543294</th>\n",
       "      <td>0.340939</td>\n",
       "      <td>778</td>\n",
       "    </tr>\n",
       "    <tr>\n",
       "      <th>Gausman, Kevin</th>\n",
       "      <th>592332</th>\n",
       "      <td>0.291373</td>\n",
       "      <td>771</td>\n",
       "    </tr>\n",
       "    <tr>\n",
       "      <th>Ray, Robbie</th>\n",
       "      <th>592662</th>\n",
       "      <td>0.295327</td>\n",
       "      <td>770</td>\n",
       "    </tr>\n",
       "    <tr>\n",
       "      <th>Montas, Frankie</th>\n",
       "      <th>593423</th>\n",
       "      <td>0.304314</td>\n",
       "      <td>769</td>\n",
       "    </tr>\n",
       "    <tr>\n",
       "      <th>Lyles, Jordan</th>\n",
       "      <th>543475</th>\n",
       "      <td>0.350609</td>\n",
       "      <td>765</td>\n",
       "    </tr>\n",
       "    <tr>\n",
       "      <th>Irvin, Cole</th>\n",
       "      <th>608344</th>\n",
       "      <td>0.339962</td>\n",
       "      <td>761</td>\n",
       "    </tr>\n",
       "    <tr>\n",
       "      <th>Eovaldi, Nathan</th>\n",
       "      <th>543135</th>\n",
       "      <td>0.294595</td>\n",
       "      <td>760</td>\n",
       "    </tr>\n",
       "    <tr>\n",
       "      <th>Manaea, Sean</th>\n",
       "      <th>640455</th>\n",
       "      <td>0.315454</td>\n",
       "      <td>752</td>\n",
       "    </tr>\n",
       "    <tr>\n",
       "      <th>Gibson, Kyle</th>\n",
       "      <th>502043</th>\n",
       "      <td>0.302876</td>\n",
       "      <td>749</td>\n",
       "    </tr>\n",
       "    <tr>\n",
       "      <th>Mahle, Tyler</th>\n",
       "      <th>641816</th>\n",
       "      <td>0.302604</td>\n",
       "      <td>749</td>\n",
       "    </tr>\n",
       "    <tr>\n",
       "      <th>Morton, Charlie</th>\n",
       "      <th>450203</th>\n",
       "      <td>0.283676</td>\n",
       "      <td>747</td>\n",
       "    </tr>\n",
       "    <tr>\n",
       "      <th>Nola, Aaron</th>\n",
       "      <th>605400</th>\n",
       "      <td>0.280298</td>\n",
       "      <td>743</td>\n",
       "    </tr>\n",
       "    <tr>\n",
       "      <th>Musgrove, Joe</th>\n",
       "      <th>605397</th>\n",
       "      <td>0.299389</td>\n",
       "      <td>743</td>\n",
       "    </tr>\n",
       "    <tr>\n",
       "      <th>Márquez, Germán</th>\n",
       "      <th>608566</th>\n",
       "      <td>0.310751</td>\n",
       "      <td>739</td>\n",
       "    </tr>\n",
       "  </tbody>\n",
       "</table>\n",
       "</div>"
      ],
      "text/plain": [
       "                              mean  count\n",
       "player_name      pitcher                 \n",
       "Wheeler, Zack    554430   0.258952    839\n",
       "Alcantara, Sandy 645261   0.297152    833\n",
       "Wainwright, Adam 425794   0.299090    821\n",
       "Buehler, Walker  621111   0.271766    801\n",
       "Castillo, Luis   622491   0.300465    788\n",
       "Berríos, José    621244   0.301280    779\n",
       "Hendricks, Kyle  543294   0.340939    778\n",
       "Gausman, Kevin   592332   0.291373    771\n",
       "Ray, Robbie      592662   0.295327    770\n",
       "Montas, Frankie  593423   0.304314    769\n",
       "Lyles, Jordan    543475   0.350609    765\n",
       "Irvin, Cole      608344   0.339962    761\n",
       "Eovaldi, Nathan  543135   0.294595    760\n",
       "Manaea, Sean     640455   0.315454    752\n",
       "Gibson, Kyle     502043   0.302876    749\n",
       "Mahle, Tyler     641816   0.302604    749\n",
       "Morton, Charlie  450203   0.283676    747\n",
       "Nola, Aaron      605400   0.280298    743\n",
       "Musgrove, Joe    605397   0.299389    743\n",
       "Márquez, Germán  608566   0.310751    739"
      ]
     },
     "execution_count": 47,
     "metadata": {},
     "output_type": "execute_result"
    }
   ],
   "source": [
    "df1.groupby(['player_name', 'pitcher'], as_index=False)['sxwOBA_adj'].agg(['mean', 'count']).sort_values('count', ascending=False).head(20)"
   ]
  },
  {
   "cell_type": "code",
   "execution_count": 48,
   "metadata": {},
   "outputs": [
    {
     "data": {
      "text/html": [
       "<div>\n",
       "<style scoped>\n",
       "    .dataframe tbody tr th:only-of-type {\n",
       "        vertical-align: middle;\n",
       "    }\n",
       "\n",
       "    .dataframe tbody tr th {\n",
       "        vertical-align: top;\n",
       "    }\n",
       "\n",
       "    .dataframe thead th {\n",
       "        text-align: right;\n",
       "    }\n",
       "</style>\n",
       "<table border=\"1\" class=\"dataframe\">\n",
       "  <thead>\n",
       "    <tr style=\"text-align: right;\">\n",
       "      <th></th>\n",
       "      <th></th>\n",
       "      <th>mean</th>\n",
       "      <th>count</th>\n",
       "    </tr>\n",
       "    <tr>\n",
       "      <th>player_name</th>\n",
       "      <th>pitcher</th>\n",
       "      <th></th>\n",
       "      <th></th>\n",
       "    </tr>\n",
       "  </thead>\n",
       "  <tbody>\n",
       "    <tr>\n",
       "      <th>Alcantara, Sandy</th>\n",
       "      <th>645261</th>\n",
       "      <td>0.270309</td>\n",
       "      <td>880</td>\n",
       "    </tr>\n",
       "    <tr>\n",
       "      <th>Wainwright, Adam</th>\n",
       "      <th>425794</th>\n",
       "      <td>0.332386</td>\n",
       "      <td>803</td>\n",
       "    </tr>\n",
       "    <tr>\n",
       "      <th>Valdez, Framber</th>\n",
       "      <th>664285</th>\n",
       "      <td>0.291388</td>\n",
       "      <td>801</td>\n",
       "    </tr>\n",
       "    <tr>\n",
       "      <th>Pérez, Martín</th>\n",
       "      <th>527048</th>\n",
       "      <td>0.289988</td>\n",
       "      <td>789</td>\n",
       "    </tr>\n",
       "    <tr>\n",
       "      <th>Mikolas, Miles</th>\n",
       "      <th>571945</th>\n",
       "      <td>0.312121</td>\n",
       "      <td>789</td>\n",
       "    </tr>\n",
       "    <tr>\n",
       "      <th>Burnes, Corbin</th>\n",
       "      <th>669203</th>\n",
       "      <td>0.277542</td>\n",
       "      <td>786</td>\n",
       "    </tr>\n",
       "    <tr>\n",
       "      <th>Bieber, Shane</th>\n",
       "      <th>669456</th>\n",
       "      <td>0.290363</td>\n",
       "      <td>786</td>\n",
       "    </tr>\n",
       "    <tr>\n",
       "      <th>Manoah, Alek</th>\n",
       "      <th>666201</th>\n",
       "      <td>0.285947</td>\n",
       "      <td>782</td>\n",
       "    </tr>\n",
       "    <tr>\n",
       "      <th>Nola, Aaron</th>\n",
       "      <th>605400</th>\n",
       "      <td>0.267631</td>\n",
       "      <td>781</td>\n",
       "    </tr>\n",
       "    <tr>\n",
       "      <th>Webb, Logan</th>\n",
       "      <th>657277</th>\n",
       "      <td>0.301815</td>\n",
       "      <td>779</td>\n",
       "    </tr>\n",
       "    <tr>\n",
       "      <th>Kelly, Merrill</th>\n",
       "      <th>518876</th>\n",
       "      <td>0.296396</td>\n",
       "      <td>778</td>\n",
       "    </tr>\n",
       "    <tr>\n",
       "      <th>Márquez, Germán</th>\n",
       "      <th>608566</th>\n",
       "      <td>0.341070</td>\n",
       "      <td>776</td>\n",
       "    </tr>\n",
       "    <tr>\n",
       "      <th>Lyles, Jordan</th>\n",
       "      <th>543475</th>\n",
       "      <td>0.345732</td>\n",
       "      <td>774</td>\n",
       "    </tr>\n",
       "    <tr>\n",
       "      <th>Ray, Robbie</th>\n",
       "      <th>592662</th>\n",
       "      <td>0.302615</td>\n",
       "      <td>772</td>\n",
       "    </tr>\n",
       "    <tr>\n",
       "      <th>Darvish, Yu</th>\n",
       "      <th>506433</th>\n",
       "      <td>0.289035</td>\n",
       "      <td>768</td>\n",
       "    </tr>\n",
       "    <tr>\n",
       "      <th>Freeland, Kyle</th>\n",
       "      <th>607536</th>\n",
       "      <td>0.345828</td>\n",
       "      <td>764</td>\n",
       "    </tr>\n",
       "    <tr>\n",
       "      <th>Cole, Gerrit</th>\n",
       "      <th>543037</th>\n",
       "      <td>0.291146</td>\n",
       "      <td>763</td>\n",
       "    </tr>\n",
       "    <tr>\n",
       "      <th>Gilbert, Logan</th>\n",
       "      <th>669302</th>\n",
       "      <td>0.314506</td>\n",
       "      <td>758</td>\n",
       "    </tr>\n",
       "    <tr>\n",
       "      <th>Pivetta, Nick</th>\n",
       "      <th>601713</th>\n",
       "      <td>0.338351</td>\n",
       "      <td>751</td>\n",
       "    </tr>\n",
       "    <tr>\n",
       "      <th>Cease, Dylan</th>\n",
       "      <th>656302</th>\n",
       "      <td>0.267860</td>\n",
       "      <td>745</td>\n",
       "    </tr>\n",
       "  </tbody>\n",
       "</table>\n",
       "</div>"
      ],
      "text/plain": [
       "                              mean  count\n",
       "player_name      pitcher                 \n",
       "Alcantara, Sandy 645261   0.270309    880\n",
       "Wainwright, Adam 425794   0.332386    803\n",
       "Valdez, Framber  664285   0.291388    801\n",
       "Pérez, Martín    527048   0.289988    789\n",
       "Mikolas, Miles   571945   0.312121    789\n",
       "Burnes, Corbin   669203   0.277542    786\n",
       "Bieber, Shane    669456   0.290363    786\n",
       "Manoah, Alek     666201   0.285947    782\n",
       "Nola, Aaron      605400   0.267631    781\n",
       "Webb, Logan      657277   0.301815    779\n",
       "Kelly, Merrill   518876   0.296396    778\n",
       "Márquez, Germán  608566   0.341070    776\n",
       "Lyles, Jordan    543475   0.345732    774\n",
       "Ray, Robbie      592662   0.302615    772\n",
       "Darvish, Yu      506433   0.289035    768\n",
       "Freeland, Kyle   607536   0.345828    764\n",
       "Cole, Gerrit     543037   0.291146    763\n",
       "Gilbert, Logan   669302   0.314506    758\n",
       "Pivetta, Nick    601713   0.338351    751\n",
       "Cease, Dylan     656302   0.267860    745"
      ]
     },
     "execution_count": 48,
     "metadata": {},
     "output_type": "execute_result"
    }
   ],
   "source": [
    "df2.groupby(['player_name', 'pitcher'], as_index=False)['sxwOBA_adj'].agg(['mean', 'count']).sort_values('count', ascending=False).head(20)"
   ]
  },
  {
   "cell_type": "code",
   "execution_count": 49,
   "metadata": {},
   "outputs": [
    {
     "ename": "KeyError",
     "evalue": "\"Columns not found: 'xwOBA_adj'\"",
     "output_type": "error",
     "traceback": [
      "\u001b[1;31m---------------------------------------------------------------------------\u001b[0m",
      "\u001b[1;31mKeyError\u001b[0m                                  Traceback (most recent call last)",
      "\u001b[1;32mc:\\Users\\wampl\\sxwOBA\\notebooks\\sandbox.ipynb Cell 6\u001b[0m in \u001b[0;36m1\n\u001b[1;32m----> <a href='vscode-notebook-cell:/c%3A/Users/wampl/sxwOBA/notebooks/sandbox.ipynb#W5sZmlsZQ%3D%3D?line=0'>1</a>\u001b[0m df2\u001b[39m.\u001b[39;49mgroupby([\u001b[39m'\u001b[39;49m\u001b[39mplayer_name\u001b[39;49m\u001b[39m'\u001b[39;49m, \u001b[39m'\u001b[39;49m\u001b[39mpitcher\u001b[39;49m\u001b[39m'\u001b[39;49m], as_index\u001b[39m=\u001b[39;49m\u001b[39mFalse\u001b[39;49;00m)[[\u001b[39m'\u001b[39;49m\u001b[39mestimated_woba_using_speedangle\u001b[39;49m\u001b[39m'\u001b[39;49m, \u001b[39m'\u001b[39;49m\u001b[39mxwOBA_adj\u001b[39;49m\u001b[39m'\u001b[39;49m]]\u001b[39m.\u001b[39magg([\u001b[39m'\u001b[39m\u001b[39mmean\u001b[39m\u001b[39m'\u001b[39m, \u001b[39m'\u001b[39m\u001b[39mcount\u001b[39m\u001b[39m'\u001b[39m])\u001b[39m.\u001b[39msort_values((\u001b[39m'\u001b[39m\u001b[39mestimated_woba_using_speedangle\u001b[39m\u001b[39m'\u001b[39m, \u001b[39m'\u001b[39m\u001b[39mcount\u001b[39m\u001b[39m'\u001b[39m), ascending\u001b[39m=\u001b[39m\u001b[39mFalse\u001b[39;00m)\u001b[39m.\u001b[39mround(\u001b[39m3\u001b[39m)\u001b[39m.\u001b[39mhead(\u001b[39m20\u001b[39m)\n",
      "File \u001b[1;32mc:\\Users\\wampl\\anaconda3\\envs\\datasci\\lib\\site-packages\\pandas\\core\\groupby\\generic.py:1415\u001b[0m, in \u001b[0;36mDataFrameGroupBy.__getitem__\u001b[1;34m(self, key)\u001b[0m\n\u001b[0;32m   1406\u001b[0m \u001b[39mif\u001b[39;00m \u001b[39misinstance\u001b[39m(key, \u001b[39mtuple\u001b[39m) \u001b[39mand\u001b[39;00m \u001b[39mlen\u001b[39m(key) \u001b[39m>\u001b[39m \u001b[39m1\u001b[39m:\n\u001b[0;32m   1407\u001b[0m     \u001b[39m# if len == 1, then it becomes a SeriesGroupBy and this is actually\u001b[39;00m\n\u001b[0;32m   1408\u001b[0m     \u001b[39m# valid syntax, so don't raise warning\u001b[39;00m\n\u001b[0;32m   1409\u001b[0m     warnings\u001b[39m.\u001b[39mwarn(\n\u001b[0;32m   1410\u001b[0m         \u001b[39m\"\u001b[39m\u001b[39mIndexing with multiple keys (implicitly converted to a tuple \u001b[39m\u001b[39m\"\u001b[39m\n\u001b[0;32m   1411\u001b[0m         \u001b[39m\"\u001b[39m\u001b[39mof keys) will be deprecated, use a list instead.\u001b[39m\u001b[39m\"\u001b[39m,\n\u001b[0;32m   1412\u001b[0m         \u001b[39mFutureWarning\u001b[39;00m,\n\u001b[0;32m   1413\u001b[0m         stacklevel\u001b[39m=\u001b[39mfind_stack_level(),\n\u001b[0;32m   1414\u001b[0m     )\n\u001b[1;32m-> 1415\u001b[0m \u001b[39mreturn\u001b[39;00m \u001b[39msuper\u001b[39;49m()\u001b[39m.\u001b[39;49m\u001b[39m__getitem__\u001b[39;49m(key)\n",
      "File \u001b[1;32mc:\\Users\\wampl\\anaconda3\\envs\\datasci\\lib\\site-packages\\pandas\\core\\base.py:238\u001b[0m, in \u001b[0;36mSelectionMixin.__getitem__\u001b[1;34m(self, key)\u001b[0m\n\u001b[0;32m    236\u001b[0m     \u001b[39mif\u001b[39;00m \u001b[39mlen\u001b[39m(\u001b[39mself\u001b[39m\u001b[39m.\u001b[39mobj\u001b[39m.\u001b[39mcolumns\u001b[39m.\u001b[39mintersection(key)) \u001b[39m!=\u001b[39m \u001b[39mlen\u001b[39m(\u001b[39mset\u001b[39m(key)):\n\u001b[0;32m    237\u001b[0m         bad_keys \u001b[39m=\u001b[39m \u001b[39mlist\u001b[39m(\u001b[39mset\u001b[39m(key)\u001b[39m.\u001b[39mdifference(\u001b[39mself\u001b[39m\u001b[39m.\u001b[39mobj\u001b[39m.\u001b[39mcolumns))\n\u001b[1;32m--> 238\u001b[0m         \u001b[39mraise\u001b[39;00m \u001b[39mKeyError\u001b[39;00m(\u001b[39mf\u001b[39m\u001b[39m\"\u001b[39m\u001b[39mColumns not found: \u001b[39m\u001b[39m{\u001b[39;00m\u001b[39mstr\u001b[39m(bad_keys)[\u001b[39m1\u001b[39m:\u001b[39m-\u001b[39m\u001b[39m1\u001b[39m]\u001b[39m}\u001b[39;00m\u001b[39m\"\u001b[39m)\n\u001b[0;32m    239\u001b[0m     \u001b[39mreturn\u001b[39;00m \u001b[39mself\u001b[39m\u001b[39m.\u001b[39m_gotitem(\u001b[39mlist\u001b[39m(key), ndim\u001b[39m=\u001b[39m\u001b[39m2\u001b[39m)\n\u001b[0;32m    241\u001b[0m \u001b[39melif\u001b[39;00m \u001b[39mnot\u001b[39;00m \u001b[39mgetattr\u001b[39m(\u001b[39mself\u001b[39m, \u001b[39m\"\u001b[39m\u001b[39mas_index\u001b[39m\u001b[39m\"\u001b[39m, \u001b[39mFalse\u001b[39;00m):\n",
      "\u001b[1;31mKeyError\u001b[0m: \"Columns not found: 'xwOBA_adj'\""
     ]
    }
   ],
   "source": [
    "df2.groupby(['player_name', 'pitcher'], as_index=False)[['estimated_woba_using_speedangle', 'xwOBA_adj']].agg(['mean', 'count']).sort_values(('estimated_woba_using_speedangle', 'count'), ascending=False).round(3).head(20)"
   ]
  },
  {
   "cell_type": "code",
   "execution_count": null,
   "metadata": {},
   "outputs": [
    {
     "name": "stderr",
     "output_type": "stream",
     "text": [
      "C:\\Users\\wampl\\AppData\\Local\\Temp\\ipykernel_3736\\1807637183.py:1: FutureWarning: Indexing with multiple keys (implicitly converted to a tuple of keys) will be deprecated, use a list instead.\n",
      "  leaders_23 = df3.groupby(['player_name', 'pitcher'], as_index=False)['xwOBA_adj', 'sxwOBA_adj'].mean()\n"
     ]
    }
   ],
   "source": [
    "leaders_23 = df3.groupby(['player_name', 'pitcher'], as_index=False)['xwOBA_adj', 'sxwOBA_adj'].mean()\n"
   ]
  },
  {
   "cell_type": "code",
   "execution_count": null,
   "metadata": {},
   "outputs": [
    {
     "data": {
      "text/plain": [
       "field_out                    0.40\n",
       "strikeout                    0.23\n",
       "single                       0.14\n",
       "walk                         0.08\n",
       "double                       0.05\n",
       "home_run                     0.03\n",
       "force_out                    0.02\n",
       "grounded_into_double_play    0.02\n",
       "hit_by_pitch                 0.01\n",
       "sac_fly                      0.01\n",
       "field_error                  0.01\n",
       "triple                       0.00\n",
       "double_play                  0.00\n",
       "fielders_choice              0.00\n",
       "fielders_choice_out          0.00\n",
       "strikeout_double_play        0.00\n",
       "sac_fly_double_play          0.00\n",
       "Name: events, dtype: float64"
      ]
     },
     "execution_count": 12,
     "metadata": {},
     "output_type": "execute_result"
    }
   ],
   "source": [
    "df3.events.value_counts(normalize=True).round(2)"
   ]
  },
  {
   "cell_type": "code",
   "execution_count": null,
   "metadata": {},
   "outputs": [
    {
     "data": {
      "text/plain": [
       "0.3142880715370057"
      ]
     },
     "execution_count": 18,
     "metadata": {},
     "output_type": "execute_result"
    }
   ],
   "source": [
    "df3['xwOBA_adj'].mean()"
   ]
  },
  {
   "cell_type": "code",
   "execution_count": null,
   "metadata": {},
   "outputs": [],
   "source": [
    "def get_mlbam_id(row):\n",
    "    \"\"\"\n",
    "    Attempts to find the mlbam id for a player using their fangraphs id and name\n",
    "    \"\"\"\n",
    "    # First try fuzzy lookup using player first and last name\n",
    "    result = pb.playerid_lookup(row['last_name'], row['first_name'], fuzzy=True)\n",
    "    try:\n",
    "        # If there are multiple results, try to find the one that matches the fangraphs id\n",
    "        result = result.loc[result['key_fangraphs'] == row['IDfg']].iloc[0]\n",
    "        return result['key_mlbam']\n",
    "    except:\n",
    "        # If no match, try reverse lookup using fangraphs id\n",
    "        try:\n",
    "            print('failed to find mlbam id for', row['Name'], row['last_name'], row['first_name'])\n",
    "            print('trying reverse lookup')\n",
    "            result = pb.playerid_reverse_lookup([row['IDfg']], key_type='fangraphs').iloc[0]\n",
    "            return result['key_mlbam']\n",
    "        except:\n",
    "        # If no match, try to find the player with the same name that played in the mlb most recently\n",
    "            result['mlb_played_last'].replace('', np.nan, inplace=True)\n",
    "            result = result.loc[result['mlb_played_last'] > 2015].iloc[0]\n",
    "            if len(result) != 0:\n",
    "                return result['key_mlbam']\n",
    "            else:\n",
    "                return 000000"
   ]
  },
  {
   "cell_type": "code",
   "execution_count": null,
   "metadata": {},
   "outputs": [],
   "source": [
    "def get_fg_stats(year, selected_stats):\n",
    "    import pybaseball as pb\n",
    "    \"\"\"\n",
    "    returns fangraphs batting stats for a given year\n",
    "    \"\"\"\n",
    "    out = pb.fg_pitching_data(year, qual=20)\n",
    "    out['first_name'] = out['Name'].str.split(n=1).str[0]\n",
    "    out['last_name'] = out['Name'].str.split(n=1).str[1]\n",
    "    out['key_mlbam'] = out.apply(get_mlbam_id, axis=1)\n",
    "    out.dropna(subset=['key_mlbam'], inplace=True)\n",
    "    return out[selected_stats]\n"
   ]
  },
  {
   "cell_type": "code",
   "execution_count": null,
   "metadata": {},
   "outputs": [
    {
     "name": "stdout",
     "output_type": "stream",
     "text": [
      "No identically matched names found! Returning the 5 most similar names.\n",
      "No identically matched names found! Returning the 5 most similar names.\n",
      "No identically matched names found! Returning the 5 most similar names.\n",
      "No identically matched names found! Returning the 5 most similar names.\n",
      "No identically matched names found! Returning the 5 most similar names.\n",
      "No identically matched names found! Returning the 5 most similar names.\n",
      "No identically matched names found! Returning the 5 most similar names.\n",
      "No identically matched names found! Returning the 5 most similar names.\n",
      "failed to find mlbam id for Carlos Hernandez Hernandez Carlos\n",
      "trying reverse lookup\n",
      "No identically matched names found! Returning the 5 most similar names.\n",
      "No identically matched names found! Returning the 5 most similar names.\n",
      "No identically matched names found! Returning the 5 most similar names.\n",
      "No identically matched names found! Returning the 5 most similar names.\n",
      "No identically matched names found! Returning the 5 most similar names.\n",
      "No identically matched names found! Returning the 5 most similar names.\n",
      "No identically matched names found! Returning the 5 most similar names.\n",
      "No identically matched names found! Returning the 5 most similar names.\n",
      "No identically matched names found! Returning the 5 most similar names.\n",
      "No identically matched names found! Returning the 5 most similar names.\n",
      "No identically matched names found! Returning the 5 most similar names.\n",
      "No identically matched names found! Returning the 5 most similar names.\n",
      "failed to find mlbam id for Michael King King Michael\n",
      "trying reverse lookup\n",
      "No identically matched names found! Returning the 5 most similar names.\n",
      "No identically matched names found! Returning the 5 most similar names.\n",
      "No identically matched names found! Returning the 5 most similar names.\n",
      "No identically matched names found! Returning the 5 most similar names.\n",
      "No identically matched names found! Returning the 5 most similar names.\n",
      "No identically matched names found! Returning the 5 most similar names.\n",
      "No identically matched names found! Returning the 5 most similar names.\n",
      "No identically matched names found! Returning the 5 most similar names.\n",
      "No identically matched names found! Returning the 5 most similar names.\n",
      "No identically matched names found! Returning the 5 most similar names.\n",
      "No identically matched names found! Returning the 5 most similar names.\n",
      "No identically matched names found! Returning the 5 most similar names.\n",
      "No identically matched names found! Returning the 5 most similar names.\n",
      "No identically matched names found! Returning the 5 most similar names.\n",
      "failed to find mlbam id for Erasmo Ramirez Ramirez Erasmo\n",
      "trying reverse lookup\n",
      "failed to find mlbam id for Luis Garcia Garcia Luis\n",
      "trying reverse lookup\n",
      "No identically matched names found! Returning the 5 most similar names.\n",
      "No identically matched names found! Returning the 5 most similar names.\n",
      "No identically matched names found! Returning the 5 most similar names.\n",
      "No identically matched names found! Returning the 5 most similar names.\n",
      "No identically matched names found! Returning the 5 most similar names.\n",
      "No identically matched names found! Returning the 5 most similar names.\n",
      "No identically matched names found! Returning the 5 most similar names.\n",
      "No identically matched names found! Returning the 5 most similar names.\n"
     ]
    }
   ],
   "source": [
    "pitching_23 = get_fg_stats(2023, ['Name', 'IP', 'ERA', 'FIP', 'xFIP', 'SIERA', 'xERA', 'GB%', 'key_mlbam'])"
   ]
  },
  {
   "cell_type": "code",
   "execution_count": null,
   "metadata": {},
   "outputs": [
    {
     "data": {
      "text/html": [
       "<div>\n",
       "<style scoped>\n",
       "    .dataframe tbody tr th:only-of-type {\n",
       "        vertical-align: middle;\n",
       "    }\n",
       "\n",
       "    .dataframe tbody tr th {\n",
       "        vertical-align: top;\n",
       "    }\n",
       "\n",
       "    .dataframe thead th {\n",
       "        text-align: right;\n",
       "    }\n",
       "</style>\n",
       "<table border=\"1\" class=\"dataframe\">\n",
       "  <thead>\n",
       "    <tr style=\"text-align: right;\">\n",
       "      <th></th>\n",
       "      <th>Name</th>\n",
       "      <th>IP</th>\n",
       "      <th>ERA</th>\n",
       "      <th>FIP</th>\n",
       "      <th>xFIP</th>\n",
       "      <th>SIERA</th>\n",
       "      <th>xERA</th>\n",
       "      <th>GB%</th>\n",
       "      <th>key_mlbam</th>\n",
       "    </tr>\n",
       "  </thead>\n",
       "  <tbody>\n",
       "    <tr>\n",
       "      <th>94</th>\n",
       "      <td>Kevin Gausman</td>\n",
       "      <td>115.2</td>\n",
       "      <td>3.03</td>\n",
       "      <td>2.47</td>\n",
       "      <td>2.93</td>\n",
       "      <td>3.05</td>\n",
       "      <td>3.53</td>\n",
       "      <td>0.430</td>\n",
       "      <td>592332</td>\n",
       "    </tr>\n",
       "    <tr>\n",
       "      <th>110</th>\n",
       "      <td>Zac Gallen</td>\n",
       "      <td>123.1</td>\n",
       "      <td>3.14</td>\n",
       "      <td>2.90</td>\n",
       "      <td>3.50</td>\n",
       "      <td>3.62</td>\n",
       "      <td>3.66</td>\n",
       "      <td>0.385</td>\n",
       "      <td>668678</td>\n",
       "    </tr>\n",
       "    <tr>\n",
       "      <th>219</th>\n",
       "      <td>Zack Wheeler</td>\n",
       "      <td>111.1</td>\n",
       "      <td>4.04</td>\n",
       "      <td>2.98</td>\n",
       "      <td>3.49</td>\n",
       "      <td>3.48</td>\n",
       "      <td>3.23</td>\n",
       "      <td>0.412</td>\n",
       "      <td>554430</td>\n",
       "    </tr>\n",
       "    <tr>\n",
       "      <th>69</th>\n",
       "      <td>Framber Valdez</td>\n",
       "      <td>117.1</td>\n",
       "      <td>2.76</td>\n",
       "      <td>2.91</td>\n",
       "      <td>2.91</td>\n",
       "      <td>3.25</td>\n",
       "      <td>3.90</td>\n",
       "      <td>0.546</td>\n",
       "      <td>664285</td>\n",
       "    </tr>\n",
       "    <tr>\n",
       "      <th>169</th>\n",
       "      <td>Spencer Strider</td>\n",
       "      <td>110.2</td>\n",
       "      <td>3.66</td>\n",
       "      <td>2.82</td>\n",
       "      <td>2.79</td>\n",
       "      <td>2.65</td>\n",
       "      <td>3.05</td>\n",
       "      <td>0.326</td>\n",
       "      <td>675911</td>\n",
       "    </tr>\n",
       "  </tbody>\n",
       "</table>\n",
       "</div>"
      ],
      "text/plain": [
       "                Name     IP   ERA   FIP  xFIP  SIERA  xERA    GB%  key_mlbam\n",
       "94     Kevin Gausman  115.2  3.03  2.47  2.93   3.05  3.53  0.430     592332\n",
       "110       Zac Gallen  123.1  3.14  2.90  3.50   3.62  3.66  0.385     668678\n",
       "219     Zack Wheeler  111.1  4.04  2.98  3.49   3.48  3.23  0.412     554430\n",
       "69    Framber Valdez  117.1  2.76  2.91  2.91   3.25  3.90  0.546     664285\n",
       "169  Spencer Strider  110.2  3.66  2.82  2.79   2.65  3.05  0.326     675911"
      ]
     },
     "execution_count": 16,
     "metadata": {},
     "output_type": "execute_result"
    }
   ],
   "source": [
    "pitching_23.head()"
   ]
  },
  {
   "cell_type": "code",
   "execution_count": null,
   "metadata": {},
   "outputs": [
    {
     "data": {
      "text/html": [
       "<div>\n",
       "<style scoped>\n",
       "    .dataframe tbody tr th:only-of-type {\n",
       "        vertical-align: middle;\n",
       "    }\n",
       "\n",
       "    .dataframe tbody tr th {\n",
       "        vertical-align: top;\n",
       "    }\n",
       "\n",
       "    .dataframe thead th {\n",
       "        text-align: right;\n",
       "    }\n",
       "</style>\n",
       "<table border=\"1\" class=\"dataframe\">\n",
       "  <thead>\n",
       "    <tr style=\"text-align: right;\">\n",
       "      <th></th>\n",
       "      <th>player_name</th>\n",
       "      <th>pitcher</th>\n",
       "      <th>xwOBA_adj</th>\n",
       "      <th>sxwOBA_adj</th>\n",
       "      <th>Name</th>\n",
       "      <th>IP</th>\n",
       "      <th>ERA</th>\n",
       "      <th>FIP</th>\n",
       "      <th>xFIP</th>\n",
       "      <th>SIERA</th>\n",
       "      <th>xERA</th>\n",
       "      <th>GB%</th>\n",
       "      <th>key_mlbam</th>\n",
       "    </tr>\n",
       "  </thead>\n",
       "  <tbody>\n",
       "    <tr>\n",
       "      <th>0</th>\n",
       "      <td>Abad, Fernando</td>\n",
       "      <td>472551</td>\n",
       "      <td>0.427053</td>\n",
       "      <td>0.530503</td>\n",
       "      <td>NaN</td>\n",
       "      <td>NaN</td>\n",
       "      <td>NaN</td>\n",
       "      <td>NaN</td>\n",
       "      <td>NaN</td>\n",
       "      <td>NaN</td>\n",
       "      <td>NaN</td>\n",
       "      <td>NaN</td>\n",
       "      <td>NaN</td>\n",
       "    </tr>\n",
       "    <tr>\n",
       "      <th>1</th>\n",
       "      <td>Abbott, Andrew</td>\n",
       "      <td>671096</td>\n",
       "      <td>0.286405</td>\n",
       "      <td>0.294729</td>\n",
       "      <td>Andrew Abbott</td>\n",
       "      <td>47.2</td>\n",
       "      <td>2.45</td>\n",
       "      <td>4.35</td>\n",
       "      <td>4.60</td>\n",
       "      <td>4.33</td>\n",
       "      <td>3.58</td>\n",
       "      <td>0.203</td>\n",
       "      <td>671096.0</td>\n",
       "    </tr>\n",
       "    <tr>\n",
       "      <th>2</th>\n",
       "      <td>Abbott, Cory</td>\n",
       "      <td>676265</td>\n",
       "      <td>0.317033</td>\n",
       "      <td>0.323518</td>\n",
       "      <td>NaN</td>\n",
       "      <td>NaN</td>\n",
       "      <td>NaN</td>\n",
       "      <td>NaN</td>\n",
       "      <td>NaN</td>\n",
       "      <td>NaN</td>\n",
       "      <td>NaN</td>\n",
       "      <td>NaN</td>\n",
       "      <td>NaN</td>\n",
       "    </tr>\n",
       "    <tr>\n",
       "      <th>3</th>\n",
       "      <td>Abreu, Albert</td>\n",
       "      <td>656061</td>\n",
       "      <td>0.305239</td>\n",
       "      <td>0.325440</td>\n",
       "      <td>Albert Abreu</td>\n",
       "      <td>41.1</td>\n",
       "      <td>4.14</td>\n",
       "      <td>4.70</td>\n",
       "      <td>4.37</td>\n",
       "      <td>4.06</td>\n",
       "      <td>4.18</td>\n",
       "      <td>0.464</td>\n",
       "      <td>656061.0</td>\n",
       "    </tr>\n",
       "    <tr>\n",
       "      <th>4</th>\n",
       "      <td>Abreu, Bryan</td>\n",
       "      <td>650556</td>\n",
       "      <td>0.279196</td>\n",
       "      <td>0.286540</td>\n",
       "      <td>Bryan Abreu</td>\n",
       "      <td>45.1</td>\n",
       "      <td>2.78</td>\n",
       "      <td>3.45</td>\n",
       "      <td>3.05</td>\n",
       "      <td>2.79</td>\n",
       "      <td>3.31</td>\n",
       "      <td>0.374</td>\n",
       "      <td>650556.0</td>\n",
       "    </tr>\n",
       "  </tbody>\n",
       "</table>\n",
       "</div>"
      ],
      "text/plain": [
       "      player_name  pitcher  xwOBA_adj  sxwOBA_adj           Name    IP   ERA  \\\n",
       "0  Abad, Fernando   472551   0.427053    0.530503            NaN   NaN   NaN   \n",
       "1  Abbott, Andrew   671096   0.286405    0.294729  Andrew Abbott  47.2  2.45   \n",
       "2    Abbott, Cory   676265   0.317033    0.323518            NaN   NaN   NaN   \n",
       "3   Abreu, Albert   656061   0.305239    0.325440   Albert Abreu  41.1  4.14   \n",
       "4    Abreu, Bryan   650556   0.279196    0.286540    Bryan Abreu  45.1  2.78   \n",
       "\n",
       "    FIP  xFIP  SIERA  xERA    GB%  key_mlbam  \n",
       "0   NaN   NaN    NaN   NaN    NaN        NaN  \n",
       "1  4.35  4.60   4.33  3.58  0.203   671096.0  \n",
       "2   NaN   NaN    NaN   NaN    NaN        NaN  \n",
       "3  4.70  4.37   4.06  4.18  0.464   656061.0  \n",
       "4  3.45  3.05   2.79  3.31  0.374   650556.0  "
      ]
     },
     "execution_count": 20,
     "metadata": {},
     "output_type": "execute_result"
    }
   ],
   "source": [
    "df_2023 = pd.merge(leaders_23, pitching_23, left_on='pitcher', right_on='key_mlbam', how='left')\n",
    "df_2023.head()"
   ]
  },
  {
   "cell_type": "code",
   "execution_count": null,
   "metadata": {},
   "outputs": [],
   "source": [
    "from sklearn.linear_model import LinearRegression"
   ]
  },
  {
   "cell_type": "code",
   "execution_count": null,
   "metadata": {},
   "outputs": [],
   "source": [
    "runs_per_nine_2023 = 4.31\n",
    "\n",
    "\n",
    "df_2023['xERA_adj'] = round(runs_per_nine_2023 * ((df_2023['xwOBA_adj'] / df3['xwOBA_adj'].mean())**2), 2)\n",
    "df_2023['sxERA_adj'] = round(runs_per_nine_2023 * ((df_2023['sxwOBA_adj'] / df3['sxwOBA_adj'].mean())**2), 2)"
   ]
  },
  {
   "cell_type": "code",
   "execution_count": null,
   "metadata": {},
   "outputs": [],
   "source": [
    "df_2023 = df_2023.dropna()"
   ]
  },
  {
   "cell_type": "code",
   "execution_count": null,
   "metadata": {},
   "outputs": [
    {
     "data": {
      "text/html": [
       "<div>\n",
       "<style scoped>\n",
       "    .dataframe tbody tr th:only-of-type {\n",
       "        vertical-align: middle;\n",
       "    }\n",
       "\n",
       "    .dataframe tbody tr th {\n",
       "        vertical-align: top;\n",
       "    }\n",
       "\n",
       "    .dataframe thead th {\n",
       "        text-align: right;\n",
       "    }\n",
       "</style>\n",
       "<table border=\"1\" class=\"dataframe\">\n",
       "  <thead>\n",
       "    <tr style=\"text-align: right;\">\n",
       "      <th></th>\n",
       "      <th>player_name</th>\n",
       "      <th>pitcher</th>\n",
       "      <th>xwOBA_adj</th>\n",
       "      <th>sxwOBA_adj</th>\n",
       "      <th>Name</th>\n",
       "      <th>IP</th>\n",
       "      <th>ERA</th>\n",
       "      <th>FIP</th>\n",
       "      <th>xFIP</th>\n",
       "      <th>SIERA</th>\n",
       "      <th>xERA</th>\n",
       "      <th>GB%</th>\n",
       "      <th>key_mlbam</th>\n",
       "      <th>xERA_adj</th>\n",
       "      <th>sxERA_adj</th>\n",
       "    </tr>\n",
       "  </thead>\n",
       "  <tbody>\n",
       "    <tr>\n",
       "      <th>721</th>\n",
       "      <td>Webb, Logan</td>\n",
       "      <td>657277</td>\n",
       "      <td>0.28</td>\n",
       "      <td>0.29</td>\n",
       "      <td>Logan Webb</td>\n",
       "      <td>133.0</td>\n",
       "      <td>3.11</td>\n",
       "      <td>3.33</td>\n",
       "      <td>2.91</td>\n",
       "      <td>3.11</td>\n",
       "      <td>3.58</td>\n",
       "      <td>0.60</td>\n",
       "      <td>657277.0</td>\n",
       "      <td>3.52</td>\n",
       "      <td>3.47</td>\n",
       "    </tr>\n",
       "    <tr>\n",
       "      <th>496</th>\n",
       "      <td>Nola, Aaron</td>\n",
       "      <td>605400</td>\n",
       "      <td>0.29</td>\n",
       "      <td>0.30</td>\n",
       "      <td>Aaron Nola</td>\n",
       "      <td>126.1</td>\n",
       "      <td>4.27</td>\n",
       "      <td>4.20</td>\n",
       "      <td>3.82</td>\n",
       "      <td>3.85</td>\n",
       "      <td>3.74</td>\n",
       "      <td>0.41</td>\n",
       "      <td>605400.0</td>\n",
       "      <td>3.73</td>\n",
       "      <td>3.63</td>\n",
       "    </tr>\n",
       "    <tr>\n",
       "      <th>191</th>\n",
       "      <td>Eovaldi, Nathan</td>\n",
       "      <td>543135</td>\n",
       "      <td>0.28</td>\n",
       "      <td>0.29</td>\n",
       "      <td>Nathan Eovaldi</td>\n",
       "      <td>123.2</td>\n",
       "      <td>2.69</td>\n",
       "      <td>3.27</td>\n",
       "      <td>3.79</td>\n",
       "      <td>3.98</td>\n",
       "      <td>3.41</td>\n",
       "      <td>0.52</td>\n",
       "      <td>543135.0</td>\n",
       "      <td>3.47</td>\n",
       "      <td>3.51</td>\n",
       "    </tr>\n",
       "    <tr>\n",
       "      <th>226</th>\n",
       "      <td>Gallen, Zac</td>\n",
       "      <td>668678</td>\n",
       "      <td>0.29</td>\n",
       "      <td>0.29</td>\n",
       "      <td>Zac Gallen</td>\n",
       "      <td>123.1</td>\n",
       "      <td>3.14</td>\n",
       "      <td>2.90</td>\n",
       "      <td>3.50</td>\n",
       "      <td>3.62</td>\n",
       "      <td>3.66</td>\n",
       "      <td>0.38</td>\n",
       "      <td>668678.0</td>\n",
       "      <td>3.73</td>\n",
       "      <td>3.53</td>\n",
       "    </tr>\n",
       "    <tr>\n",
       "      <th>137</th>\n",
       "      <td>Cole, Gerrit</td>\n",
       "      <td>543037</td>\n",
       "      <td>0.29</td>\n",
       "      <td>0.29</td>\n",
       "      <td>Gerrit Cole</td>\n",
       "      <td>123.0</td>\n",
       "      <td>2.78</td>\n",
       "      <td>3.39</td>\n",
       "      <td>3.76</td>\n",
       "      <td>3.75</td>\n",
       "      <td>3.74</td>\n",
       "      <td>0.38</td>\n",
       "      <td>543037.0</td>\n",
       "      <td>3.64</td>\n",
       "      <td>3.55</td>\n",
       "    </tr>\n",
       "    <tr>\n",
       "      <th>341</th>\n",
       "      <td>Keller, Mitch</td>\n",
       "      <td>656605</td>\n",
       "      <td>0.29</td>\n",
       "      <td>0.30</td>\n",
       "      <td>Mitch Keller</td>\n",
       "      <td>123.0</td>\n",
       "      <td>3.73</td>\n",
       "      <td>3.61</td>\n",
       "      <td>3.73</td>\n",
       "      <td>3.84</td>\n",
       "      <td>3.38</td>\n",
       "      <td>0.45</td>\n",
       "      <td>656605.0</td>\n",
       "      <td>3.63</td>\n",
       "      <td>3.79</td>\n",
       "    </tr>\n",
       "    <tr>\n",
       "      <th>453</th>\n",
       "      <td>Mikolas, Miles</td>\n",
       "      <td>571945</td>\n",
       "      <td>0.33</td>\n",
       "      <td>0.33</td>\n",
       "      <td>Miles Mikolas</td>\n",
       "      <td>121.2</td>\n",
       "      <td>4.14</td>\n",
       "      <td>3.95</td>\n",
       "      <td>4.65</td>\n",
       "      <td>4.76</td>\n",
       "      <td>4.96</td>\n",
       "      <td>0.39</td>\n",
       "      <td>571945.0</td>\n",
       "      <td>4.88</td>\n",
       "      <td>4.42</td>\n",
       "    </tr>\n",
       "    <tr>\n",
       "      <th>14</th>\n",
       "      <td>Alcantara, Sandy</td>\n",
       "      <td>645261</td>\n",
       "      <td>0.31</td>\n",
       "      <td>0.32</td>\n",
       "      <td>Sandy Alcantara</td>\n",
       "      <td>120.1</td>\n",
       "      <td>4.64</td>\n",
       "      <td>4.00</td>\n",
       "      <td>4.07</td>\n",
       "      <td>4.31</td>\n",
       "      <td>4.39</td>\n",
       "      <td>0.50</td>\n",
       "      <td>645261.0</td>\n",
       "      <td>4.32</td>\n",
       "      <td>4.14</td>\n",
       "    </tr>\n",
       "    <tr>\n",
       "      <th>651</th>\n",
       "      <td>Stroman, Marcus</td>\n",
       "      <td>573186</td>\n",
       "      <td>0.30</td>\n",
       "      <td>0.30</td>\n",
       "      <td>Marcus Stroman</td>\n",
       "      <td>118.2</td>\n",
       "      <td>2.88</td>\n",
       "      <td>3.39</td>\n",
       "      <td>3.71</td>\n",
       "      <td>4.09</td>\n",
       "      <td>3.71</td>\n",
       "      <td>0.58</td>\n",
       "      <td>573186.0</td>\n",
       "      <td>3.85</td>\n",
       "      <td>3.69</td>\n",
       "    </tr>\n",
       "    <tr>\n",
       "      <th>689</th>\n",
       "      <td>Valdez, Framber</td>\n",
       "      <td>664285</td>\n",
       "      <td>0.30</td>\n",
       "      <td>0.31</td>\n",
       "      <td>Framber Valdez</td>\n",
       "      <td>117.1</td>\n",
       "      <td>2.76</td>\n",
       "      <td>2.91</td>\n",
       "      <td>2.91</td>\n",
       "      <td>3.25</td>\n",
       "      <td>3.90</td>\n",
       "      <td>0.55</td>\n",
       "      <td>664285.0</td>\n",
       "      <td>3.96</td>\n",
       "      <td>3.97</td>\n",
       "    </tr>\n",
       "    <tr>\n",
       "      <th>61</th>\n",
       "      <td>Bieber, Shane</td>\n",
       "      <td>669456</td>\n",
       "      <td>0.33</td>\n",
       "      <td>0.34</td>\n",
       "      <td>Shane Bieber</td>\n",
       "      <td>117.0</td>\n",
       "      <td>3.77</td>\n",
       "      <td>4.15</td>\n",
       "      <td>4.08</td>\n",
       "      <td>4.40</td>\n",
       "      <td>4.86</td>\n",
       "      <td>0.46</td>\n",
       "      <td>669456.0</td>\n",
       "      <td>4.84</td>\n",
       "      <td>4.79</td>\n",
       "    </tr>\n",
       "    <tr>\n",
       "      <th>409</th>\n",
       "      <td>López, Pablo</td>\n",
       "      <td>641154</td>\n",
       "      <td>0.28</td>\n",
       "      <td>0.28</td>\n",
       "      <td>Pablo Lopez</td>\n",
       "      <td>116.2</td>\n",
       "      <td>4.24</td>\n",
       "      <td>3.37</td>\n",
       "      <td>3.53</td>\n",
       "      <td>3.39</td>\n",
       "      <td>3.09</td>\n",
       "      <td>0.40</td>\n",
       "      <td>641154.0</td>\n",
       "      <td>3.31</td>\n",
       "      <td>3.19</td>\n",
       "    </tr>\n",
       "    <tr>\n",
       "      <th>245</th>\n",
       "      <td>Giolito, Lucas</td>\n",
       "      <td>608337</td>\n",
       "      <td>0.32</td>\n",
       "      <td>0.32</td>\n",
       "      <td>Lucas Giolito</td>\n",
       "      <td>116.0</td>\n",
       "      <td>3.96</td>\n",
       "      <td>4.57</td>\n",
       "      <td>4.39</td>\n",
       "      <td>4.13</td>\n",
       "      <td>4.18</td>\n",
       "      <td>0.35</td>\n",
       "      <td>608337.0</td>\n",
       "      <td>4.45</td>\n",
       "      <td>4.29</td>\n",
       "    </tr>\n",
       "    <tr>\n",
       "      <th>237</th>\n",
       "      <td>Gausman, Kevin</td>\n",
       "      <td>592332</td>\n",
       "      <td>0.29</td>\n",
       "      <td>0.29</td>\n",
       "      <td>Kevin Gausman</td>\n",
       "      <td>115.2</td>\n",
       "      <td>3.03</td>\n",
       "      <td>2.47</td>\n",
       "      <td>2.93</td>\n",
       "      <td>3.05</td>\n",
       "      <td>3.53</td>\n",
       "      <td>0.43</td>\n",
       "      <td>592332.0</td>\n",
       "      <td>3.69</td>\n",
       "      <td>3.54</td>\n",
       "    </tr>\n",
       "    <tr>\n",
       "      <th>43</th>\n",
       "      <td>Bassitt, Chris</td>\n",
       "      <td>605135</td>\n",
       "      <td>0.32</td>\n",
       "      <td>0.33</td>\n",
       "      <td>Chris Bassitt</td>\n",
       "      <td>115.2</td>\n",
       "      <td>4.12</td>\n",
       "      <td>4.66</td>\n",
       "      <td>4.37</td>\n",
       "      <td>4.32</td>\n",
       "      <td>4.51</td>\n",
       "      <td>0.42</td>\n",
       "      <td>605135.0</td>\n",
       "      <td>4.37</td>\n",
       "      <td>4.53</td>\n",
       "    </tr>\n",
       "    <tr>\n",
       "      <th>240</th>\n",
       "      <td>Gibson, Kyle</td>\n",
       "      <td>502043</td>\n",
       "      <td>0.32</td>\n",
       "      <td>0.32</td>\n",
       "      <td>Kyle Gibson</td>\n",
       "      <td>115.0</td>\n",
       "      <td>4.77</td>\n",
       "      <td>3.96</td>\n",
       "      <td>4.48</td>\n",
       "      <td>4.68</td>\n",
       "      <td>4.70</td>\n",
       "      <td>0.47</td>\n",
       "      <td>502043.0</td>\n",
       "      <td>4.60</td>\n",
       "      <td>4.33</td>\n",
       "    </tr>\n",
       "    <tr>\n",
       "      <th>141</th>\n",
       "      <td>Corbin, Patrick</td>\n",
       "      <td>571578</td>\n",
       "      <td>0.37</td>\n",
       "      <td>0.38</td>\n",
       "      <td>Patrick Corbin</td>\n",
       "      <td>114.0</td>\n",
       "      <td>4.89</td>\n",
       "      <td>4.89</td>\n",
       "      <td>4.49</td>\n",
       "      <td>4.85</td>\n",
       "      <td>6.26</td>\n",
       "      <td>0.45</td>\n",
       "      <td>571578.0</td>\n",
       "      <td>5.85</td>\n",
       "      <td>5.82</td>\n",
       "    </tr>\n",
       "    <tr>\n",
       "      <th>404</th>\n",
       "      <td>Luzardo, Jesús</td>\n",
       "      <td>666200</td>\n",
       "      <td>0.29</td>\n",
       "      <td>0.30</td>\n",
       "      <td>Jesus Luzardo</td>\n",
       "      <td>113.1</td>\n",
       "      <td>3.34</td>\n",
       "      <td>3.29</td>\n",
       "      <td>3.58</td>\n",
       "      <td>3.53</td>\n",
       "      <td>3.56</td>\n",
       "      <td>0.42</td>\n",
       "      <td>666200.0</td>\n",
       "      <td>3.60</td>\n",
       "      <td>3.72</td>\n",
       "    </tr>\n",
       "    <tr>\n",
       "      <th>56</th>\n",
       "      <td>Berríos, José</td>\n",
       "      <td>621244</td>\n",
       "      <td>0.32</td>\n",
       "      <td>0.32</td>\n",
       "      <td>Jose Berrios</td>\n",
       "      <td>113.1</td>\n",
       "      <td>3.41</td>\n",
       "      <td>3.89</td>\n",
       "      <td>3.96</td>\n",
       "      <td>4.06</td>\n",
       "      <td>4.57</td>\n",
       "      <td>0.46</td>\n",
       "      <td>621244.0</td>\n",
       "      <td>4.60</td>\n",
       "      <td>4.23</td>\n",
       "    </tr>\n",
       "    <tr>\n",
       "      <th>241</th>\n",
       "      <td>Gilbert, Logan</td>\n",
       "      <td>669302</td>\n",
       "      <td>0.29</td>\n",
       "      <td>0.30</td>\n",
       "      <td>Logan Gilbert</td>\n",
       "      <td>113.1</td>\n",
       "      <td>3.65</td>\n",
       "      <td>3.41</td>\n",
       "      <td>3.71</td>\n",
       "      <td>3.72</td>\n",
       "      <td>3.46</td>\n",
       "      <td>0.41</td>\n",
       "      <td>669302.0</td>\n",
       "      <td>3.60</td>\n",
       "      <td>3.71</td>\n",
       "    </tr>\n",
       "    <tr>\n",
       "      <th>98</th>\n",
       "      <td>Burnes, Corbin</td>\n",
       "      <td>669203</td>\n",
       "      <td>0.28</td>\n",
       "      <td>0.29</td>\n",
       "      <td>Corbin Burnes</td>\n",
       "      <td>113.1</td>\n",
       "      <td>3.73</td>\n",
       "      <td>4.09</td>\n",
       "      <td>4.05</td>\n",
       "      <td>4.17</td>\n",
       "      <td>3.56</td>\n",
       "      <td>0.41</td>\n",
       "      <td>669203.0</td>\n",
       "      <td>3.38</td>\n",
       "      <td>3.41</td>\n",
       "    </tr>\n",
       "    <tr>\n",
       "      <th>359</th>\n",
       "      <td>Kirby, George</td>\n",
       "      <td>669923</td>\n",
       "      <td>0.30</td>\n",
       "      <td>0.31</td>\n",
       "      <td>George Kirby</td>\n",
       "      <td>112.2</td>\n",
       "      <td>3.43</td>\n",
       "      <td>3.49</td>\n",
       "      <td>3.77</td>\n",
       "      <td>3.90</td>\n",
       "      <td>3.98</td>\n",
       "      <td>0.45</td>\n",
       "      <td>669923.0</td>\n",
       "      <td>3.80</td>\n",
       "      <td>3.93</td>\n",
       "    </tr>\n",
       "    <tr>\n",
       "      <th>114</th>\n",
       "      <td>Castillo, Luis</td>\n",
       "      <td>622491</td>\n",
       "      <td>0.30</td>\n",
       "      <td>0.31</td>\n",
       "      <td>Luis Castillo</td>\n",
       "      <td>112.1</td>\n",
       "      <td>2.96</td>\n",
       "      <td>3.92</td>\n",
       "      <td>3.73</td>\n",
       "      <td>3.66</td>\n",
       "      <td>3.79</td>\n",
       "      <td>0.41</td>\n",
       "      <td>622491.0</td>\n",
       "      <td>3.85</td>\n",
       "      <td>3.93</td>\n",
       "    </tr>\n",
       "    <tr>\n",
       "      <th>584</th>\n",
       "      <td>Ryan, Joe</td>\n",
       "      <td>657746</td>\n",
       "      <td>0.26</td>\n",
       "      <td>0.27</td>\n",
       "      <td>Joe Ryan</td>\n",
       "      <td>112.1</td>\n",
       "      <td>3.77</td>\n",
       "      <td>3.60</td>\n",
       "      <td>3.70</td>\n",
       "      <td>3.41</td>\n",
       "      <td>2.98</td>\n",
       "      <td>0.32</td>\n",
       "      <td>657746.0</td>\n",
       "      <td>3.01</td>\n",
       "      <td>3.13</td>\n",
       "    </tr>\n",
       "    <tr>\n",
       "      <th>729</th>\n",
       "      <td>Wheeler, Zack</td>\n",
       "      <td>554430</td>\n",
       "      <td>0.28</td>\n",
       "      <td>0.28</td>\n",
       "      <td>Zack Wheeler</td>\n",
       "      <td>111.1</td>\n",
       "      <td>4.04</td>\n",
       "      <td>2.98</td>\n",
       "      <td>3.49</td>\n",
       "      <td>3.48</td>\n",
       "      <td>3.23</td>\n",
       "      <td>0.41</td>\n",
       "      <td>554430.0</td>\n",
       "      <td>3.36</td>\n",
       "      <td>3.22</td>\n",
       "    </tr>\n",
       "    <tr>\n",
       "      <th>649</th>\n",
       "      <td>Strider, Spencer</td>\n",
       "      <td>675911</td>\n",
       "      <td>0.27</td>\n",
       "      <td>0.27</td>\n",
       "      <td>Spencer Strider</td>\n",
       "      <td>110.2</td>\n",
       "      <td>3.66</td>\n",
       "      <td>2.82</td>\n",
       "      <td>2.79</td>\n",
       "      <td>2.65</td>\n",
       "      <td>3.05</td>\n",
       "      <td>0.33</td>\n",
       "      <td>675911.0</td>\n",
       "      <td>3.20</td>\n",
       "      <td>3.07</td>\n",
       "    </tr>\n",
       "    <tr>\n",
       "      <th>469</th>\n",
       "      <td>Montgomery, Jordan</td>\n",
       "      <td>656756</td>\n",
       "      <td>0.31</td>\n",
       "      <td>0.32</td>\n",
       "      <td>Jordan Montgomery</td>\n",
       "      <td>109.0</td>\n",
       "      <td>3.14</td>\n",
       "      <td>3.49</td>\n",
       "      <td>3.82</td>\n",
       "      <td>4.08</td>\n",
       "      <td>4.04</td>\n",
       "      <td>0.46</td>\n",
       "      <td>656756.0</td>\n",
       "      <td>4.10</td>\n",
       "      <td>4.22</td>\n",
       "    </tr>\n",
       "    <tr>\n",
       "      <th>189</th>\n",
       "      <td>Elder, Bryce</td>\n",
       "      <td>693821</td>\n",
       "      <td>0.31</td>\n",
       "      <td>0.31</td>\n",
       "      <td>Bryce Elder</td>\n",
       "      <td>108.2</td>\n",
       "      <td>3.31</td>\n",
       "      <td>4.20</td>\n",
       "      <td>4.17</td>\n",
       "      <td>4.41</td>\n",
       "      <td>4.04</td>\n",
       "      <td>0.54</td>\n",
       "      <td>693821.0</td>\n",
       "      <td>4.08</td>\n",
       "      <td>4.07</td>\n",
       "    </tr>\n",
       "    <tr>\n",
       "      <th>407</th>\n",
       "      <td>Lynn, Lance</td>\n",
       "      <td>458681</td>\n",
       "      <td>0.33</td>\n",
       "      <td>0.34</td>\n",
       "      <td>Lance Lynn</td>\n",
       "      <td>108.1</td>\n",
       "      <td>6.06</td>\n",
       "      <td>4.97</td>\n",
       "      <td>3.84</td>\n",
       "      <td>3.81</td>\n",
       "      <td>4.67</td>\n",
       "      <td>0.38</td>\n",
       "      <td>458681.0</td>\n",
       "      <td>4.81</td>\n",
       "      <td>4.70</td>\n",
       "    </tr>\n",
       "    <tr>\n",
       "      <th>119</th>\n",
       "      <td>Cease, Dylan</td>\n",
       "      <td>656302</td>\n",
       "      <td>0.31</td>\n",
       "      <td>0.31</td>\n",
       "      <td>Dylan Cease</td>\n",
       "      <td>107.2</td>\n",
       "      <td>4.18</td>\n",
       "      <td>3.77</td>\n",
       "      <td>3.98</td>\n",
       "      <td>3.98</td>\n",
       "      <td>4.10</td>\n",
       "      <td>0.39</td>\n",
       "      <td>656302.0</td>\n",
       "      <td>4.06</td>\n",
       "      <td>4.10</td>\n",
       "    </tr>\n",
       "    <tr>\n",
       "      <th>511</th>\n",
       "      <td>Oviedo, Johan</td>\n",
       "      <td>670912</td>\n",
       "      <td>0.33</td>\n",
       "      <td>0.33</td>\n",
       "      <td>Johan Oviedo</td>\n",
       "      <td>107.1</td>\n",
       "      <td>4.53</td>\n",
       "      <td>4.19</td>\n",
       "      <td>4.57</td>\n",
       "      <td>4.64</td>\n",
       "      <td>4.51</td>\n",
       "      <td>0.46</td>\n",
       "      <td>670912.0</td>\n",
       "      <td>4.69</td>\n",
       "      <td>4.51</td>\n",
       "    </tr>\n",
       "    <tr>\n",
       "      <th>726</th>\n",
       "      <td>Wells, Tyler</td>\n",
       "      <td>669330</td>\n",
       "      <td>0.30</td>\n",
       "      <td>0.30</td>\n",
       "      <td>Tyler Wells</td>\n",
       "      <td>106.2</td>\n",
       "      <td>3.54</td>\n",
       "      <td>4.77</td>\n",
       "      <td>4.43</td>\n",
       "      <td>4.07</td>\n",
       "      <td>3.74</td>\n",
       "      <td>0.32</td>\n",
       "      <td>669330.0</td>\n",
       "      <td>3.95</td>\n",
       "      <td>3.60</td>\n",
       "    </tr>\n",
       "    <tr>\n",
       "      <th>605</th>\n",
       "      <td>Sears, JP</td>\n",
       "      <td>676664</td>\n",
       "      <td>0.32</td>\n",
       "      <td>0.33</td>\n",
       "      <td>JP Sears</td>\n",
       "      <td>106.0</td>\n",
       "      <td>3.99</td>\n",
       "      <td>4.95</td>\n",
       "      <td>4.91</td>\n",
       "      <td>4.35</td>\n",
       "      <td>4.42</td>\n",
       "      <td>0.27</td>\n",
       "      <td>676664.0</td>\n",
       "      <td>4.57</td>\n",
       "      <td>4.57</td>\n",
       "    </tr>\n",
       "    <tr>\n",
       "      <th>259</th>\n",
       "      <td>Gray, Sonny</td>\n",
       "      <td>543243</td>\n",
       "      <td>0.30</td>\n",
       "      <td>0.31</td>\n",
       "      <td>Sonny Gray</td>\n",
       "      <td>105.1</td>\n",
       "      <td>3.16</td>\n",
       "      <td>2.94</td>\n",
       "      <td>3.82</td>\n",
       "      <td>4.23</td>\n",
       "      <td>3.98</td>\n",
       "      <td>0.49</td>\n",
       "      <td>543243.0</td>\n",
       "      <td>4.05</td>\n",
       "      <td>3.99</td>\n",
       "    </tr>\n",
       "    <tr>\n",
       "      <th>258</th>\n",
       "      <td>Gray, Josiah</td>\n",
       "      <td>680686</td>\n",
       "      <td>0.32</td>\n",
       "      <td>0.33</td>\n",
       "      <td>Josiah Gray</td>\n",
       "      <td>105.1</td>\n",
       "      <td>3.59</td>\n",
       "      <td>4.87</td>\n",
       "      <td>4.83</td>\n",
       "      <td>4.88</td>\n",
       "      <td>4.51</td>\n",
       "      <td>0.42</td>\n",
       "      <td>680686.0</td>\n",
       "      <td>4.51</td>\n",
       "      <td>4.48</td>\n",
       "    </tr>\n",
       "    <tr>\n",
       "      <th>188</th>\n",
       "      <td>Eflin, Zach</td>\n",
       "      <td>621107</td>\n",
       "      <td>0.27</td>\n",
       "      <td>0.27</td>\n",
       "      <td>Zach Eflin</td>\n",
       "      <td>105.1</td>\n",
       "      <td>3.59</td>\n",
       "      <td>3.15</td>\n",
       "      <td>3.18</td>\n",
       "      <td>3.35</td>\n",
       "      <td>3.19</td>\n",
       "      <td>0.53</td>\n",
       "      <td>621107.0</td>\n",
       "      <td>3.12</td>\n",
       "      <td>3.09</td>\n",
       "    </tr>\n",
       "    <tr>\n",
       "      <th>500</th>\n",
       "      <td>Ohtani, Shohei</td>\n",
       "      <td>660271</td>\n",
       "      <td>0.30</td>\n",
       "      <td>0.31</td>\n",
       "      <td>Shohei Ohtani</td>\n",
       "      <td>105.1</td>\n",
       "      <td>3.50</td>\n",
       "      <td>3.98</td>\n",
       "      <td>3.54</td>\n",
       "      <td>3.61</td>\n",
       "      <td>3.79</td>\n",
       "      <td>0.45</td>\n",
       "      <td>660271.0</td>\n",
       "      <td>4.01</td>\n",
       "      <td>4.03</td>\n",
       "    </tr>\n",
       "    <tr>\n",
       "      <th>296</th>\n",
       "      <td>Hill, Rich</td>\n",
       "      <td>448179</td>\n",
       "      <td>0.35</td>\n",
       "      <td>0.36</td>\n",
       "      <td>Rich Hill</td>\n",
       "      <td>104.0</td>\n",
       "      <td>4.76</td>\n",
       "      <td>4.40</td>\n",
       "      <td>4.65</td>\n",
       "      <td>4.74</td>\n",
       "      <td>5.40</td>\n",
       "      <td>0.37</td>\n",
       "      <td>448179.0</td>\n",
       "      <td>5.38</td>\n",
       "      <td>5.21</td>\n",
       "    </tr>\n",
       "    <tr>\n",
       "      <th>366</th>\n",
       "      <td>Kremer, Dean</td>\n",
       "      <td>665152</td>\n",
       "      <td>0.35</td>\n",
       "      <td>0.36</td>\n",
       "      <td>Dean Kremer</td>\n",
       "      <td>104.0</td>\n",
       "      <td>4.59</td>\n",
       "      <td>4.80</td>\n",
       "      <td>4.23</td>\n",
       "      <td>4.16</td>\n",
       "      <td>5.37</td>\n",
       "      <td>0.35</td>\n",
       "      <td>665152.0</td>\n",
       "      <td>5.48</td>\n",
       "      <td>5.48</td>\n",
       "    </tr>\n",
       "    <tr>\n",
       "      <th>478</th>\n",
       "      <td>Morton, Charlie</td>\n",
       "      <td>450203</td>\n",
       "      <td>0.32</td>\n",
       "      <td>0.33</td>\n",
       "      <td>Charlie Morton</td>\n",
       "      <td>104.0</td>\n",
       "      <td>3.20</td>\n",
       "      <td>3.72</td>\n",
       "      <td>3.86</td>\n",
       "      <td>4.08</td>\n",
       "      <td>4.42</td>\n",
       "      <td>0.48</td>\n",
       "      <td>450203.0</td>\n",
       "      <td>4.48</td>\n",
       "      <td>4.42</td>\n",
       "    </tr>\n",
       "    <tr>\n",
       "      <th>217</th>\n",
       "      <td>Freeland, Kyle</td>\n",
       "      <td>607536</td>\n",
       "      <td>0.35</td>\n",
       "      <td>0.34</td>\n",
       "      <td>Kyle Freeland</td>\n",
       "      <td>103.0</td>\n",
       "      <td>4.72</td>\n",
       "      <td>5.21</td>\n",
       "      <td>5.25</td>\n",
       "      <td>5.37</td>\n",
       "      <td>5.40</td>\n",
       "      <td>0.39</td>\n",
       "      <td>607536.0</td>\n",
       "      <td>5.28</td>\n",
       "      <td>4.76</td>\n",
       "    </tr>\n",
       "    <tr>\n",
       "      <th>627</th>\n",
       "      <td>Snell, Blake</td>\n",
       "      <td>605483</td>\n",
       "      <td>0.30</td>\n",
       "      <td>0.31</td>\n",
       "      <td>Blake Snell</td>\n",
       "      <td>103.0</td>\n",
       "      <td>2.71</td>\n",
       "      <td>3.56</td>\n",
       "      <td>3.39</td>\n",
       "      <td>3.78</td>\n",
       "      <td>3.82</td>\n",
       "      <td>0.43</td>\n",
       "      <td>605483.0</td>\n",
       "      <td>3.99</td>\n",
       "      <td>3.89</td>\n",
       "    </tr>\n",
       "    <tr>\n",
       "      <th>618</th>\n",
       "      <td>Singer, Brady</td>\n",
       "      <td>663903</td>\n",
       "      <td>0.34</td>\n",
       "      <td>0.35</td>\n",
       "      <td>Brady Singer</td>\n",
       "      <td>102.2</td>\n",
       "      <td>5.70</td>\n",
       "      <td>4.41</td>\n",
       "      <td>4.49</td>\n",
       "      <td>4.69</td>\n",
       "      <td>5.47</td>\n",
       "      <td>0.47</td>\n",
       "      <td>663903.0</td>\n",
       "      <td>5.00</td>\n",
       "      <td>5.12</td>\n",
       "    </tr>\n",
       "    <tr>\n",
       "      <th>405</th>\n",
       "      <td>Lyles, Jordan</td>\n",
       "      <td>543475</td>\n",
       "      <td>0.33</td>\n",
       "      <td>0.33</td>\n",
       "      <td>Jordan Lyles</td>\n",
       "      <td>102.2</td>\n",
       "      <td>6.05</td>\n",
       "      <td>5.34</td>\n",
       "      <td>5.34</td>\n",
       "      <td>5.15</td>\n",
       "      <td>4.73</td>\n",
       "      <td>0.33</td>\n",
       "      <td>543475.0</td>\n",
       "      <td>4.68</td>\n",
       "      <td>4.44</td>\n",
       "    </tr>\n",
       "    <tr>\n",
       "      <th>437</th>\n",
       "      <td>McClanahan, Shane</td>\n",
       "      <td>663556</td>\n",
       "      <td>0.30</td>\n",
       "      <td>0.31</td>\n",
       "      <td>Shane McClanahan</td>\n",
       "      <td>102.0</td>\n",
       "      <td>2.56</td>\n",
       "      <td>3.85</td>\n",
       "      <td>3.83</td>\n",
       "      <td>4.06</td>\n",
       "      <td>3.90</td>\n",
       "      <td>0.44</td>\n",
       "      <td>663556.0</td>\n",
       "      <td>3.95</td>\n",
       "      <td>4.08</td>\n",
       "    </tr>\n",
       "    <tr>\n",
       "      <th>713</th>\n",
       "      <td>Walker, Taijuan</td>\n",
       "      <td>592836</td>\n",
       "      <td>0.30</td>\n",
       "      <td>0.31</td>\n",
       "      <td>Taijuan Walker</td>\n",
       "      <td>101.1</td>\n",
       "      <td>4.00</td>\n",
       "      <td>4.37</td>\n",
       "      <td>4.42</td>\n",
       "      <td>4.65</td>\n",
       "      <td>3.98</td>\n",
       "      <td>0.48</td>\n",
       "      <td>592836.0</td>\n",
       "      <td>3.99</td>\n",
       "      <td>3.93</td>\n",
       "    </tr>\n",
       "    <tr>\n",
       "      <th>626</th>\n",
       "      <td>Smyly, Drew</td>\n",
       "      <td>592767</td>\n",
       "      <td>0.31</td>\n",
       "      <td>0.32</td>\n",
       "      <td>Drew Smyly</td>\n",
       "      <td>100.0</td>\n",
       "      <td>4.50</td>\n",
       "      <td>4.83</td>\n",
       "      <td>4.89</td>\n",
       "      <td>4.76</td>\n",
       "      <td>4.07</td>\n",
       "      <td>0.34</td>\n",
       "      <td>592767.0</td>\n",
       "      <td>4.33</td>\n",
       "      <td>4.14</td>\n",
       "    </tr>\n",
       "    <tr>\n",
       "      <th>492</th>\n",
       "      <td>Nelson, Ryne</td>\n",
       "      <td>669194</td>\n",
       "      <td>0.33</td>\n",
       "      <td>0.33</td>\n",
       "      <td>Ryne Nelson</td>\n",
       "      <td>99.1</td>\n",
       "      <td>4.98</td>\n",
       "      <td>4.67</td>\n",
       "      <td>5.06</td>\n",
       "      <td>5.09</td>\n",
       "      <td>4.89</td>\n",
       "      <td>0.37</td>\n",
       "      <td>669194.0</td>\n",
       "      <td>4.85</td>\n",
       "      <td>4.59</td>\n",
       "    </tr>\n",
       "    <tr>\n",
       "      <th>88</th>\n",
       "      <td>Brown, Hunter</td>\n",
       "      <td>686613</td>\n",
       "      <td>0.30</td>\n",
       "      <td>0.29</td>\n",
       "      <td>Hunter Brown</td>\n",
       "      <td>99.1</td>\n",
       "      <td>4.26</td>\n",
       "      <td>3.51</td>\n",
       "      <td>3.04</td>\n",
       "      <td>3.42</td>\n",
       "      <td>3.79</td>\n",
       "      <td>0.54</td>\n",
       "      <td>686613.0</td>\n",
       "      <td>3.80</td>\n",
       "      <td>3.58</td>\n",
       "    </tr>\n",
       "    <tr>\n",
       "      <th>183</th>\n",
       "      <td>Dunning, Dane</td>\n",
       "      <td>641540</td>\n",
       "      <td>0.33</td>\n",
       "      <td>0.32</td>\n",
       "      <td>Dane Dunning</td>\n",
       "      <td>99.0</td>\n",
       "      <td>2.82</td>\n",
       "      <td>3.91</td>\n",
       "      <td>4.65</td>\n",
       "      <td>4.76</td>\n",
       "      <td>4.70</td>\n",
       "      <td>0.45</td>\n",
       "      <td>641540.0</td>\n",
       "      <td>4.86</td>\n",
       "      <td>4.26</td>\n",
       "    </tr>\n",
       "  </tbody>\n",
       "</table>\n",
       "</div>"
      ],
      "text/plain": [
       "            player_name  pitcher  xwOBA_adj  sxwOBA_adj               Name  \\\n",
       "721         Webb, Logan   657277       0.28        0.29         Logan Webb   \n",
       "496         Nola, Aaron   605400       0.29        0.30         Aaron Nola   \n",
       "191     Eovaldi, Nathan   543135       0.28        0.29     Nathan Eovaldi   \n",
       "226         Gallen, Zac   668678       0.29        0.29         Zac Gallen   \n",
       "137        Cole, Gerrit   543037       0.29        0.29        Gerrit Cole   \n",
       "341       Keller, Mitch   656605       0.29        0.30       Mitch Keller   \n",
       "453      Mikolas, Miles   571945       0.33        0.33      Miles Mikolas   \n",
       "14     Alcantara, Sandy   645261       0.31        0.32    Sandy Alcantara   \n",
       "651     Stroman, Marcus   573186       0.30        0.30     Marcus Stroman   \n",
       "689     Valdez, Framber   664285       0.30        0.31     Framber Valdez   \n",
       "61        Bieber, Shane   669456       0.33        0.34       Shane Bieber   \n",
       "409        López, Pablo   641154       0.28        0.28        Pablo Lopez   \n",
       "245      Giolito, Lucas   608337       0.32        0.32      Lucas Giolito   \n",
       "237      Gausman, Kevin   592332       0.29        0.29      Kevin Gausman   \n",
       "43       Bassitt, Chris   605135       0.32        0.33      Chris Bassitt   \n",
       "240        Gibson, Kyle   502043       0.32        0.32        Kyle Gibson   \n",
       "141     Corbin, Patrick   571578       0.37        0.38     Patrick Corbin   \n",
       "404      Luzardo, Jesús   666200       0.29        0.30      Jesus Luzardo   \n",
       "56        Berríos, José   621244       0.32        0.32       Jose Berrios   \n",
       "241      Gilbert, Logan   669302       0.29        0.30      Logan Gilbert   \n",
       "98       Burnes, Corbin   669203       0.28        0.29      Corbin Burnes   \n",
       "359       Kirby, George   669923       0.30        0.31       George Kirby   \n",
       "114      Castillo, Luis   622491       0.30        0.31      Luis Castillo   \n",
       "584           Ryan, Joe   657746       0.26        0.27           Joe Ryan   \n",
       "729       Wheeler, Zack   554430       0.28        0.28       Zack Wheeler   \n",
       "649    Strider, Spencer   675911       0.27        0.27    Spencer Strider   \n",
       "469  Montgomery, Jordan   656756       0.31        0.32  Jordan Montgomery   \n",
       "189        Elder, Bryce   693821       0.31        0.31        Bryce Elder   \n",
       "407         Lynn, Lance   458681       0.33        0.34         Lance Lynn   \n",
       "119        Cease, Dylan   656302       0.31        0.31        Dylan Cease   \n",
       "511       Oviedo, Johan   670912       0.33        0.33       Johan Oviedo   \n",
       "726        Wells, Tyler   669330       0.30        0.30        Tyler Wells   \n",
       "605           Sears, JP   676664       0.32        0.33           JP Sears   \n",
       "259         Gray, Sonny   543243       0.30        0.31         Sonny Gray   \n",
       "258        Gray, Josiah   680686       0.32        0.33        Josiah Gray   \n",
       "188         Eflin, Zach   621107       0.27        0.27         Zach Eflin   \n",
       "500      Ohtani, Shohei   660271       0.30        0.31      Shohei Ohtani   \n",
       "296          Hill, Rich   448179       0.35        0.36          Rich Hill   \n",
       "366        Kremer, Dean   665152       0.35        0.36        Dean Kremer   \n",
       "478     Morton, Charlie   450203       0.32        0.33     Charlie Morton   \n",
       "217      Freeland, Kyle   607536       0.35        0.34      Kyle Freeland   \n",
       "627        Snell, Blake   605483       0.30        0.31        Blake Snell   \n",
       "618       Singer, Brady   663903       0.34        0.35       Brady Singer   \n",
       "405       Lyles, Jordan   543475       0.33        0.33       Jordan Lyles   \n",
       "437   McClanahan, Shane   663556       0.30        0.31   Shane McClanahan   \n",
       "713     Walker, Taijuan   592836       0.30        0.31     Taijuan Walker   \n",
       "626         Smyly, Drew   592767       0.31        0.32         Drew Smyly   \n",
       "492        Nelson, Ryne   669194       0.33        0.33        Ryne Nelson   \n",
       "88        Brown, Hunter   686613       0.30        0.29       Hunter Brown   \n",
       "183       Dunning, Dane   641540       0.33        0.32       Dane Dunning   \n",
       "\n",
       "        IP   ERA   FIP  xFIP  SIERA  xERA   GB%  key_mlbam  xERA_adj  \\\n",
       "721  133.0  3.11  3.33  2.91   3.11  3.58  0.60   657277.0      3.52   \n",
       "496  126.1  4.27  4.20  3.82   3.85  3.74  0.41   605400.0      3.73   \n",
       "191  123.2  2.69  3.27  3.79   3.98  3.41  0.52   543135.0      3.47   \n",
       "226  123.1  3.14  2.90  3.50   3.62  3.66  0.38   668678.0      3.73   \n",
       "137  123.0  2.78  3.39  3.76   3.75  3.74  0.38   543037.0      3.64   \n",
       "341  123.0  3.73  3.61  3.73   3.84  3.38  0.45   656605.0      3.63   \n",
       "453  121.2  4.14  3.95  4.65   4.76  4.96  0.39   571945.0      4.88   \n",
       "14   120.1  4.64  4.00  4.07   4.31  4.39  0.50   645261.0      4.32   \n",
       "651  118.2  2.88  3.39  3.71   4.09  3.71  0.58   573186.0      3.85   \n",
       "689  117.1  2.76  2.91  2.91   3.25  3.90  0.55   664285.0      3.96   \n",
       "61   117.0  3.77  4.15  4.08   4.40  4.86  0.46   669456.0      4.84   \n",
       "409  116.2  4.24  3.37  3.53   3.39  3.09  0.40   641154.0      3.31   \n",
       "245  116.0  3.96  4.57  4.39   4.13  4.18  0.35   608337.0      4.45   \n",
       "237  115.2  3.03  2.47  2.93   3.05  3.53  0.43   592332.0      3.69   \n",
       "43   115.2  4.12  4.66  4.37   4.32  4.51  0.42   605135.0      4.37   \n",
       "240  115.0  4.77  3.96  4.48   4.68  4.70  0.47   502043.0      4.60   \n",
       "141  114.0  4.89  4.89  4.49   4.85  6.26  0.45   571578.0      5.85   \n",
       "404  113.1  3.34  3.29  3.58   3.53  3.56  0.42   666200.0      3.60   \n",
       "56   113.1  3.41  3.89  3.96   4.06  4.57  0.46   621244.0      4.60   \n",
       "241  113.1  3.65  3.41  3.71   3.72  3.46  0.41   669302.0      3.60   \n",
       "98   113.1  3.73  4.09  4.05   4.17  3.56  0.41   669203.0      3.38   \n",
       "359  112.2  3.43  3.49  3.77   3.90  3.98  0.45   669923.0      3.80   \n",
       "114  112.1  2.96  3.92  3.73   3.66  3.79  0.41   622491.0      3.85   \n",
       "584  112.1  3.77  3.60  3.70   3.41  2.98  0.32   657746.0      3.01   \n",
       "729  111.1  4.04  2.98  3.49   3.48  3.23  0.41   554430.0      3.36   \n",
       "649  110.2  3.66  2.82  2.79   2.65  3.05  0.33   675911.0      3.20   \n",
       "469  109.0  3.14  3.49  3.82   4.08  4.04  0.46   656756.0      4.10   \n",
       "189  108.2  3.31  4.20  4.17   4.41  4.04  0.54   693821.0      4.08   \n",
       "407  108.1  6.06  4.97  3.84   3.81  4.67  0.38   458681.0      4.81   \n",
       "119  107.2  4.18  3.77  3.98   3.98  4.10  0.39   656302.0      4.06   \n",
       "511  107.1  4.53  4.19  4.57   4.64  4.51  0.46   670912.0      4.69   \n",
       "726  106.2  3.54  4.77  4.43   4.07  3.74  0.32   669330.0      3.95   \n",
       "605  106.0  3.99  4.95  4.91   4.35  4.42  0.27   676664.0      4.57   \n",
       "259  105.1  3.16  2.94  3.82   4.23  3.98  0.49   543243.0      4.05   \n",
       "258  105.1  3.59  4.87  4.83   4.88  4.51  0.42   680686.0      4.51   \n",
       "188  105.1  3.59  3.15  3.18   3.35  3.19  0.53   621107.0      3.12   \n",
       "500  105.1  3.50  3.98  3.54   3.61  3.79  0.45   660271.0      4.01   \n",
       "296  104.0  4.76  4.40  4.65   4.74  5.40  0.37   448179.0      5.38   \n",
       "366  104.0  4.59  4.80  4.23   4.16  5.37  0.35   665152.0      5.48   \n",
       "478  104.0  3.20  3.72  3.86   4.08  4.42  0.48   450203.0      4.48   \n",
       "217  103.0  4.72  5.21  5.25   5.37  5.40  0.39   607536.0      5.28   \n",
       "627  103.0  2.71  3.56  3.39   3.78  3.82  0.43   605483.0      3.99   \n",
       "618  102.2  5.70  4.41  4.49   4.69  5.47  0.47   663903.0      5.00   \n",
       "405  102.2  6.05  5.34  5.34   5.15  4.73  0.33   543475.0      4.68   \n",
       "437  102.0  2.56  3.85  3.83   4.06  3.90  0.44   663556.0      3.95   \n",
       "713  101.1  4.00  4.37  4.42   4.65  3.98  0.48   592836.0      3.99   \n",
       "626  100.0  4.50  4.83  4.89   4.76  4.07  0.34   592767.0      4.33   \n",
       "492   99.1  4.98  4.67  5.06   5.09  4.89  0.37   669194.0      4.85   \n",
       "88    99.1  4.26  3.51  3.04   3.42  3.79  0.54   686613.0      3.80   \n",
       "183   99.0  2.82  3.91  4.65   4.76  4.70  0.45   641540.0      4.86   \n",
       "\n",
       "     sxERA_adj  \n",
       "721       3.47  \n",
       "496       3.63  \n",
       "191       3.51  \n",
       "226       3.53  \n",
       "137       3.55  \n",
       "341       3.79  \n",
       "453       4.42  \n",
       "14        4.14  \n",
       "651       3.69  \n",
       "689       3.97  \n",
       "61        4.79  \n",
       "409       3.19  \n",
       "245       4.29  \n",
       "237       3.54  \n",
       "43        4.53  \n",
       "240       4.33  \n",
       "141       5.82  \n",
       "404       3.72  \n",
       "56        4.23  \n",
       "241       3.71  \n",
       "98        3.41  \n",
       "359       3.93  \n",
       "114       3.93  \n",
       "584       3.13  \n",
       "729       3.22  \n",
       "649       3.07  \n",
       "469       4.22  \n",
       "189       4.07  \n",
       "407       4.70  \n",
       "119       4.10  \n",
       "511       4.51  \n",
       "726       3.60  \n",
       "605       4.57  \n",
       "259       3.99  \n",
       "258       4.48  \n",
       "188       3.09  \n",
       "500       4.03  \n",
       "296       5.21  \n",
       "366       5.48  \n",
       "478       4.42  \n",
       "217       4.76  \n",
       "627       3.89  \n",
       "618       5.12  \n",
       "405       4.44  \n",
       "437       4.08  \n",
       "713       3.93  \n",
       "626       4.14  \n",
       "492       4.59  \n",
       "88        3.58  \n",
       "183       4.26  "
      ]
     },
     "execution_count": 33,
     "metadata": {},
     "output_type": "execute_result"
    }
   ],
   "source": [
    "df_2023.sort_values('IP', ascending=False).head(50).round(2)"
   ]
  },
  {
   "cell_type": "code",
   "execution_count": null,
   "metadata": {},
   "outputs": [
    {
     "data": {
      "text/html": [
       "<div>\n",
       "<style scoped>\n",
       "    .dataframe tbody tr th:only-of-type {\n",
       "        vertical-align: middle;\n",
       "    }\n",
       "\n",
       "    .dataframe tbody tr th {\n",
       "        vertical-align: top;\n",
       "    }\n",
       "\n",
       "    .dataframe thead th {\n",
       "        text-align: right;\n",
       "    }\n",
       "</style>\n",
       "<table border=\"1\" class=\"dataframe\">\n",
       "  <thead>\n",
       "    <tr style=\"text-align: right;\">\n",
       "      <th></th>\n",
       "      <th>player_name</th>\n",
       "      <th>pitcher</th>\n",
       "      <th>xwOBA_adj</th>\n",
       "      <th>sxwOBA_adj</th>\n",
       "      <th>Name</th>\n",
       "      <th>IP</th>\n",
       "      <th>ERA</th>\n",
       "      <th>FIP</th>\n",
       "      <th>xFIP</th>\n",
       "      <th>SIERA</th>\n",
       "      <th>xERA</th>\n",
       "      <th>GB%</th>\n",
       "      <th>key_mlbam</th>\n",
       "      <th>sxERA</th>\n",
       "    </tr>\n",
       "  </thead>\n",
       "  <tbody>\n",
       "    <tr>\n",
       "      <th>609</th>\n",
       "      <td>Sewald, Paul</td>\n",
       "      <td>623149</td>\n",
       "      <td>0.200757</td>\n",
       "      <td>0.213251</td>\n",
       "      <td>Paul Sewald</td>\n",
       "      <td>37.2</td>\n",
       "      <td>3.11</td>\n",
       "      <td>2.71</td>\n",
       "      <td>3.00</td>\n",
       "      <td>2.51</td>\n",
       "      <td>1.69</td>\n",
       "      <td>0.304</td>\n",
       "      <td>623149.0</td>\n",
       "      <td>1.06</td>\n",
       "    </tr>\n",
       "    <tr>\n",
       "      <th>766</th>\n",
       "      <td>deGrom, Jacob</td>\n",
       "      <td>594798</td>\n",
       "      <td>0.204070</td>\n",
       "      <td>0.218777</td>\n",
       "      <td>Jacob deGrom</td>\n",
       "      <td>30.1</td>\n",
       "      <td>2.67</td>\n",
       "      <td>1.58</td>\n",
       "      <td>2.32</td>\n",
       "      <td>2.22</td>\n",
       "      <td>1.85</td>\n",
       "      <td>0.379</td>\n",
       "      <td>594798.0</td>\n",
       "      <td>1.16</td>\n",
       "    </tr>\n",
       "    <tr>\n",
       "      <th>46</th>\n",
       "      <td>Bautista, Félix</td>\n",
       "      <td>642585</td>\n",
       "      <td>0.207615</td>\n",
       "      <td>0.213987</td>\n",
       "      <td>Felix Bautista</td>\n",
       "      <td>44.0</td>\n",
       "      <td>1.02</td>\n",
       "      <td>1.59</td>\n",
       "      <td>1.70</td>\n",
       "      <td>1.74</td>\n",
       "      <td>1.85</td>\n",
       "      <td>0.381</td>\n",
       "      <td>642585.0</td>\n",
       "      <td>1.26</td>\n",
       "    </tr>\n",
       "    <tr>\n",
       "      <th>265</th>\n",
       "      <td>Hader, Josh</td>\n",
       "      <td>623352</td>\n",
       "      <td>0.212073</td>\n",
       "      <td>0.209321</td>\n",
       "      <td>Josh Hader</td>\n",
       "      <td>35.0</td>\n",
       "      <td>1.03</td>\n",
       "      <td>2.41</td>\n",
       "      <td>3.42</td>\n",
       "      <td>3.17</td>\n",
       "      <td>1.99</td>\n",
       "      <td>0.418</td>\n",
       "      <td>623352.0</td>\n",
       "      <td>1.39</td>\n",
       "    </tr>\n",
       "    <tr>\n",
       "      <th>122</th>\n",
       "      <td>Chapman, Aroldis</td>\n",
       "      <td>547973</td>\n",
       "      <td>0.212857</td>\n",
       "      <td>0.223190</td>\n",
       "      <td>Aroldis Chapman</td>\n",
       "      <td>35.1</td>\n",
       "      <td>2.04</td>\n",
       "      <td>1.43</td>\n",
       "      <td>2.25</td>\n",
       "      <td>2.64</td>\n",
       "      <td>1.95</td>\n",
       "      <td>0.508</td>\n",
       "      <td>547973.0</td>\n",
       "      <td>1.42</td>\n",
       "    </tr>\n",
       "    <tr>\n",
       "      <th>27</th>\n",
       "      <td>Armstrong, Shawn</td>\n",
       "      <td>542888</td>\n",
       "      <td>0.219714</td>\n",
       "      <td>0.234196</td>\n",
       "      <td>Shawn Armstrong</td>\n",
       "      <td>20.2</td>\n",
       "      <td>0.87</td>\n",
       "      <td>2.52</td>\n",
       "      <td>3.53</td>\n",
       "      <td>3.24</td>\n",
       "      <td>2.20</td>\n",
       "      <td>0.426</td>\n",
       "      <td>542888.0</td>\n",
       "      <td>1.61</td>\n",
       "    </tr>\n",
       "    <tr>\n",
       "      <th>577</th>\n",
       "      <td>Rogers, Tyler</td>\n",
       "      <td>643511</td>\n",
       "      <td>0.219763</td>\n",
       "      <td>0.233723</td>\n",
       "      <td>Tyler Rogers</td>\n",
       "      <td>49.0</td>\n",
       "      <td>2.20</td>\n",
       "      <td>3.46</td>\n",
       "      <td>4.34</td>\n",
       "      <td>4.15</td>\n",
       "      <td>2.09</td>\n",
       "      <td>0.493</td>\n",
       "      <td>643511.0</td>\n",
       "      <td>1.62</td>\n",
       "    </tr>\n",
       "    <tr>\n",
       "      <th>50</th>\n",
       "      <td>Bednar, David</td>\n",
       "      <td>670280</td>\n",
       "      <td>0.226360</td>\n",
       "      <td>0.217736</td>\n",
       "      <td>David Bednar</td>\n",
       "      <td>37.0</td>\n",
       "      <td>1.22</td>\n",
       "      <td>1.78</td>\n",
       "      <td>3.44</td>\n",
       "      <td>2.83</td>\n",
       "      <td>2.13</td>\n",
       "      <td>0.366</td>\n",
       "      <td>670280.0</td>\n",
       "      <td>1.81</td>\n",
       "    </tr>\n",
       "    <tr>\n",
       "      <th>602</th>\n",
       "      <td>Scott, Tanner</td>\n",
       "      <td>656945</td>\n",
       "      <td>0.233114</td>\n",
       "      <td>0.241457</td>\n",
       "      <td>Tanner Scott</td>\n",
       "      <td>46.0</td>\n",
       "      <td>2.74</td>\n",
       "      <td>2.17</td>\n",
       "      <td>2.55</td>\n",
       "      <td>2.59</td>\n",
       "      <td>2.39</td>\n",
       "      <td>0.489</td>\n",
       "      <td>656945.0</td>\n",
       "      <td>2.00</td>\n",
       "    </tr>\n",
       "    <tr>\n",
       "      <th>218</th>\n",
       "      <td>Fried, Max</td>\n",
       "      <td>608331</td>\n",
       "      <td>0.233933</td>\n",
       "      <td>0.252621</td>\n",
       "      <td>Max Fried</td>\n",
       "      <td>26.0</td>\n",
       "      <td>2.08</td>\n",
       "      <td>3.07</td>\n",
       "      <td>3.18</td>\n",
       "      <td>3.46</td>\n",
       "      <td>2.37</td>\n",
       "      <td>0.609</td>\n",
       "      <td>608331.0</td>\n",
       "      <td>2.03</td>\n",
       "    </tr>\n",
       "    <tr>\n",
       "      <th>144</th>\n",
       "      <td>Cosgrove, Tom</td>\n",
       "      <td>676680</td>\n",
       "      <td>0.236601</td>\n",
       "      <td>0.256236</td>\n",
       "      <td>Tom Cosgrove</td>\n",
       "      <td>25.2</td>\n",
       "      <td>1.40</td>\n",
       "      <td>3.30</td>\n",
       "      <td>4.36</td>\n",
       "      <td>3.83</td>\n",
       "      <td>2.20</td>\n",
       "      <td>0.450</td>\n",
       "      <td>676680.0</td>\n",
       "      <td>2.10</td>\n",
       "    </tr>\n",
       "    <tr>\n",
       "      <th>21</th>\n",
       "      <td>Alzolay, Adbert</td>\n",
       "      <td>640470</td>\n",
       "      <td>0.237177</td>\n",
       "      <td>0.240623</td>\n",
       "      <td>Adbert Alzolay</td>\n",
       "      <td>41.0</td>\n",
       "      <td>2.63</td>\n",
       "      <td>2.66</td>\n",
       "      <td>3.17</td>\n",
       "      <td>2.83</td>\n",
       "      <td>2.39</td>\n",
       "      <td>0.471</td>\n",
       "      <td>640470.0</td>\n",
       "      <td>2.12</td>\n",
       "    </tr>\n",
       "    <tr>\n",
       "      <th>280</th>\n",
       "      <td>Helsley, Ryan</td>\n",
       "      <td>664854</td>\n",
       "      <td>0.237400</td>\n",
       "      <td>0.234259</td>\n",
       "      <td>Ryan Helsley</td>\n",
       "      <td>25.0</td>\n",
       "      <td>3.24</td>\n",
       "      <td>2.62</td>\n",
       "      <td>3.52</td>\n",
       "      <td>3.27</td>\n",
       "      <td>2.16</td>\n",
       "      <td>0.431</td>\n",
       "      <td>664854.0</td>\n",
       "      <td>2.13</td>\n",
       "    </tr>\n",
       "    <tr>\n",
       "      <th>327</th>\n",
       "      <td>Jax, Griffin</td>\n",
       "      <td>643377</td>\n",
       "      <td>0.237920</td>\n",
       "      <td>0.263122</td>\n",
       "      <td>Griffin Jax</td>\n",
       "      <td>38.2</td>\n",
       "      <td>2.79</td>\n",
       "      <td>2.11</td>\n",
       "      <td>3.32</td>\n",
       "      <td>3.24</td>\n",
       "      <td>2.29</td>\n",
       "      <td>0.573</td>\n",
       "      <td>643377.0</td>\n",
       "      <td>2.14</td>\n",
       "    </tr>\n",
       "    <tr>\n",
       "      <th>712</th>\n",
       "      <td>Walker, Ryan</td>\n",
       "      <td>676254</td>\n",
       "      <td>0.242727</td>\n",
       "      <td>0.259534</td>\n",
       "      <td>Ryan Walker</td>\n",
       "      <td>25.0</td>\n",
       "      <td>2.88</td>\n",
       "      <td>4.14</td>\n",
       "      <td>3.48</td>\n",
       "      <td>3.41</td>\n",
       "      <td>2.84</td>\n",
       "      <td>0.486</td>\n",
       "      <td>676254.0</td>\n",
       "      <td>2.28</td>\n",
       "    </tr>\n",
       "    <tr>\n",
       "      <th>644</th>\n",
       "      <td>Stewart, Brock</td>\n",
       "      <td>592779</td>\n",
       "      <td>0.243211</td>\n",
       "      <td>0.267784</td>\n",
       "      <td>Brock Stewart</td>\n",
       "      <td>25.2</td>\n",
       "      <td>0.70</td>\n",
       "      <td>2.48</td>\n",
       "      <td>3.42</td>\n",
       "      <td>3.02</td>\n",
       "      <td>2.45</td>\n",
       "      <td>0.353</td>\n",
       "      <td>592779.0</td>\n",
       "      <td>2.30</td>\n",
       "    </tr>\n",
       "    <tr>\n",
       "      <th>657</th>\n",
       "      <td>Suter, Brent</td>\n",
       "      <td>608718</td>\n",
       "      <td>0.243241</td>\n",
       "      <td>0.254821</td>\n",
       "      <td>Brent Suter</td>\n",
       "      <td>41.2</td>\n",
       "      <td>2.81</td>\n",
       "      <td>3.42</td>\n",
       "      <td>4.57</td>\n",
       "      <td>4.38</td>\n",
       "      <td>2.65</td>\n",
       "      <td>0.417</td>\n",
       "      <td>608718.0</td>\n",
       "      <td>2.30</td>\n",
       "    </tr>\n",
       "    <tr>\n",
       "      <th>145</th>\n",
       "      <td>Coulombe, Danny</td>\n",
       "      <td>543056</td>\n",
       "      <td>0.247022</td>\n",
       "      <td>0.258781</td>\n",
       "      <td>Danny Coulombe</td>\n",
       "      <td>31.0</td>\n",
       "      <td>2.90</td>\n",
       "      <td>2.97</td>\n",
       "      <td>3.38</td>\n",
       "      <td>2.91</td>\n",
       "      <td>2.76</td>\n",
       "      <td>0.438</td>\n",
       "      <td>543056.0</td>\n",
       "      <td>2.41</td>\n",
       "    </tr>\n",
       "    <tr>\n",
       "      <th>596</th>\n",
       "      <td>Sborz, Josh</td>\n",
       "      <td>622250</td>\n",
       "      <td>0.247064</td>\n",
       "      <td>0.257223</td>\n",
       "      <td>Josh Sborz</td>\n",
       "      <td>37.2</td>\n",
       "      <td>4.54</td>\n",
       "      <td>3.03</td>\n",
       "      <td>2.68</td>\n",
       "      <td>2.70</td>\n",
       "      <td>2.63</td>\n",
       "      <td>0.535</td>\n",
       "      <td>622250.0</td>\n",
       "      <td>2.41</td>\n",
       "    </tr>\n",
       "    <tr>\n",
       "      <th>355</th>\n",
       "      <td>Kimbrel, Craig</td>\n",
       "      <td>518886</td>\n",
       "      <td>0.248962</td>\n",
       "      <td>0.257487</td>\n",
       "      <td>Craig Kimbrel</td>\n",
       "      <td>40.0</td>\n",
       "      <td>3.15</td>\n",
       "      <td>3.27</td>\n",
       "      <td>3.22</td>\n",
       "      <td>2.64</td>\n",
       "      <td>2.59</td>\n",
       "      <td>0.354</td>\n",
       "      <td>518886.0</td>\n",
       "      <td>2.46</td>\n",
       "    </tr>\n",
       "    <tr>\n",
       "      <th>184</th>\n",
       "      <td>Duran, Jhoan</td>\n",
       "      <td>661395</td>\n",
       "      <td>0.252656</td>\n",
       "      <td>0.256630</td>\n",
       "      <td>Jhoan Duran</td>\n",
       "      <td>37.1</td>\n",
       "      <td>2.17</td>\n",
       "      <td>3.27</td>\n",
       "      <td>3.05</td>\n",
       "      <td>2.95</td>\n",
       "      <td>2.63</td>\n",
       "      <td>0.654</td>\n",
       "      <td>661395.0</td>\n",
       "      <td>2.57</td>\n",
       "    </tr>\n",
       "    <tr>\n",
       "      <th>557</th>\n",
       "      <td>Rasmussen, Drew</td>\n",
       "      <td>656876</td>\n",
       "      <td>0.253534</td>\n",
       "      <td>0.265673</td>\n",
       "      <td>Drew Rasmussen</td>\n",
       "      <td>44.2</td>\n",
       "      <td>2.62</td>\n",
       "      <td>2.58</td>\n",
       "      <td>3.12</td>\n",
       "      <td>3.44</td>\n",
       "      <td>2.82</td>\n",
       "      <td>0.526</td>\n",
       "      <td>656876.0</td>\n",
       "      <td>2.60</td>\n",
       "    </tr>\n",
       "    <tr>\n",
       "      <th>493</th>\n",
       "      <td>Neris, Hector</td>\n",
       "      <td>593576</td>\n",
       "      <td>0.253751</td>\n",
       "      <td>0.256972</td>\n",
       "      <td>Hector Neris</td>\n",
       "      <td>40.2</td>\n",
       "      <td>1.55</td>\n",
       "      <td>3.96</td>\n",
       "      <td>4.11</td>\n",
       "      <td>3.55</td>\n",
       "      <td>2.82</td>\n",
       "      <td>0.367</td>\n",
       "      <td>593576.0</td>\n",
       "      <td>2.60</td>\n",
       "    </tr>\n",
       "    <tr>\n",
       "      <th>185</th>\n",
       "      <td>Díaz, Alexis</td>\n",
       "      <td>664747</td>\n",
       "      <td>0.254102</td>\n",
       "      <td>0.260293</td>\n",
       "      <td>Alexis Diaz</td>\n",
       "      <td>41.2</td>\n",
       "      <td>1.94</td>\n",
       "      <td>2.31</td>\n",
       "      <td>3.16</td>\n",
       "      <td>2.85</td>\n",
       "      <td>2.89</td>\n",
       "      <td>0.383</td>\n",
       "      <td>664747.0</td>\n",
       "      <td>2.61</td>\n",
       "    </tr>\n",
       "    <tr>\n",
       "      <th>678</th>\n",
       "      <td>Topa, Justin</td>\n",
       "      <td>623437</td>\n",
       "      <td>0.253960</td>\n",
       "      <td>0.279335</td>\n",
       "      <td>Justin Topa</td>\n",
       "      <td>35.2</td>\n",
       "      <td>2.78</td>\n",
       "      <td>3.16</td>\n",
       "      <td>3.51</td>\n",
       "      <td>3.44</td>\n",
       "      <td>2.84</td>\n",
       "      <td>0.587</td>\n",
       "      <td>623437.0</td>\n",
       "      <td>2.61</td>\n",
       "    </tr>\n",
       "    <tr>\n",
       "      <th>542</th>\n",
       "      <td>Puk, A.J.</td>\n",
       "      <td>640462</td>\n",
       "      <td>0.254512</td>\n",
       "      <td>0.279230</td>\n",
       "      <td>A.J. Puk</td>\n",
       "      <td>30.2</td>\n",
       "      <td>4.40</td>\n",
       "      <td>3.69</td>\n",
       "      <td>3.36</td>\n",
       "      <td>3.01</td>\n",
       "      <td>2.74</td>\n",
       "      <td>0.414</td>\n",
       "      <td>640462.0</td>\n",
       "      <td>2.62</td>\n",
       "    </tr>\n",
       "    <tr>\n",
       "      <th>379</th>\n",
       "      <td>Lawrence, Justin</td>\n",
       "      <td>664875</td>\n",
       "      <td>0.254527</td>\n",
       "      <td>0.264446</td>\n",
       "      <td>Justin Lawrence</td>\n",
       "      <td>49.0</td>\n",
       "      <td>2.57</td>\n",
       "      <td>2.89</td>\n",
       "      <td>3.87</td>\n",
       "      <td>3.86</td>\n",
       "      <td>2.82</td>\n",
       "      <td>0.533</td>\n",
       "      <td>664875.0</td>\n",
       "      <td>2.62</td>\n",
       "    </tr>\n",
       "    <tr>\n",
       "      <th>325</th>\n",
       "      <td>Jansen, Kenley</td>\n",
       "      <td>445276</td>\n",
       "      <td>0.254744</td>\n",
       "      <td>0.265235</td>\n",
       "      <td>Kenley Jansen</td>\n",
       "      <td>31.0</td>\n",
       "      <td>3.19</td>\n",
       "      <td>3.01</td>\n",
       "      <td>4.20</td>\n",
       "      <td>3.70</td>\n",
       "      <td>2.76</td>\n",
       "      <td>0.296</td>\n",
       "      <td>445276.0</td>\n",
       "      <td>2.63</td>\n",
       "    </tr>\n",
       "    <tr>\n",
       "      <th>488</th>\n",
       "      <td>Nardi, Andrew</td>\n",
       "      <td>677053</td>\n",
       "      <td>0.255048</td>\n",
       "      <td>0.276073</td>\n",
       "      <td>Andrew Nardi</td>\n",
       "      <td>36.2</td>\n",
       "      <td>3.19</td>\n",
       "      <td>4.14</td>\n",
       "      <td>3.15</td>\n",
       "      <td>2.86</td>\n",
       "      <td>2.76</td>\n",
       "      <td>0.414</td>\n",
       "      <td>677053.0</td>\n",
       "      <td>2.64</td>\n",
       "    </tr>\n",
       "    <tr>\n",
       "      <th>123</th>\n",
       "      <td>Chargois, JT</td>\n",
       "      <td>608638</td>\n",
       "      <td>0.255974</td>\n",
       "      <td>0.278716</td>\n",
       "      <td>JT Chargois</td>\n",
       "      <td>24.2</td>\n",
       "      <td>2.92</td>\n",
       "      <td>3.50</td>\n",
       "      <td>4.08</td>\n",
       "      <td>4.14</td>\n",
       "      <td>2.51</td>\n",
       "      <td>0.612</td>\n",
       "      <td>608638.0</td>\n",
       "      <td>2.67</td>\n",
       "    </tr>\n",
       "    <tr>\n",
       "      <th>107</th>\n",
       "      <td>Cano, Yennier</td>\n",
       "      <td>666974</td>\n",
       "      <td>0.256666</td>\n",
       "      <td>0.278065</td>\n",
       "      <td>Yennier Cano</td>\n",
       "      <td>44.2</td>\n",
       "      <td>1.61</td>\n",
       "      <td>2.67</td>\n",
       "      <td>2.88</td>\n",
       "      <td>2.65</td>\n",
       "      <td>2.76</td>\n",
       "      <td>0.625</td>\n",
       "      <td>666974.0</td>\n",
       "      <td>2.69</td>\n",
       "    </tr>\n",
       "    <tr>\n",
       "      <th>633</th>\n",
       "      <td>Soto, Gregory</td>\n",
       "      <td>642397</td>\n",
       "      <td>0.258544</td>\n",
       "      <td>0.262762</td>\n",
       "      <td>Gregory Soto</td>\n",
       "      <td>35.2</td>\n",
       "      <td>4.79</td>\n",
       "      <td>3.47</td>\n",
       "      <td>4.36</td>\n",
       "      <td>4.03</td>\n",
       "      <td>2.87</td>\n",
       "      <td>0.479</td>\n",
       "      <td>642397.0</td>\n",
       "      <td>2.74</td>\n",
       "    </tr>\n",
       "    <tr>\n",
       "      <th>701</th>\n",
       "      <td>Vest, Will</td>\n",
       "      <td>676684</td>\n",
       "      <td>0.258684</td>\n",
       "      <td>0.267918</td>\n",
       "      <td>Will Vest</td>\n",
       "      <td>29.2</td>\n",
       "      <td>2.73</td>\n",
       "      <td>2.49</td>\n",
       "      <td>3.52</td>\n",
       "      <td>3.43</td>\n",
       "      <td>2.87</td>\n",
       "      <td>0.449</td>\n",
       "      <td>676684.0</td>\n",
       "      <td>2.75</td>\n",
       "    </tr>\n",
       "    <tr>\n",
       "      <th>178</th>\n",
       "      <td>Doval, Camilo</td>\n",
       "      <td>666808</td>\n",
       "      <td>0.259490</td>\n",
       "      <td>0.270271</td>\n",
       "      <td>Camilo Doval</td>\n",
       "      <td>45.0</td>\n",
       "      <td>2.40</td>\n",
       "      <td>2.85</td>\n",
       "      <td>3.31</td>\n",
       "      <td>3.05</td>\n",
       "      <td>2.84</td>\n",
       "      <td>0.540</td>\n",
       "      <td>666808.0</td>\n",
       "      <td>2.77</td>\n",
       "    </tr>\n",
       "    <tr>\n",
       "      <th>344</th>\n",
       "      <td>Kelly, Joe</td>\n",
       "      <td>523260</td>\n",
       "      <td>0.259869</td>\n",
       "      <td>0.277360</td>\n",
       "      <td>Joe Kelly</td>\n",
       "      <td>28.0</td>\n",
       "      <td>4.82</td>\n",
       "      <td>3.23</td>\n",
       "      <td>2.98</td>\n",
       "      <td>2.91</td>\n",
       "      <td>3.00</td>\n",
       "      <td>0.569</td>\n",
       "      <td>523260.0</td>\n",
       "      <td>2.78</td>\n",
       "    </tr>\n",
       "    <tr>\n",
       "      <th>93</th>\n",
       "      <td>Bummer, Aaron</td>\n",
       "      <td>607481</td>\n",
       "      <td>0.260036</td>\n",
       "      <td>0.288434</td>\n",
       "      <td>Aaron Bummer</td>\n",
       "      <td>31.2</td>\n",
       "      <td>7.11</td>\n",
       "      <td>2.32</td>\n",
       "      <td>3.13</td>\n",
       "      <td>3.41</td>\n",
       "      <td>3.09</td>\n",
       "      <td>0.553</td>\n",
       "      <td>607481.0</td>\n",
       "      <td>2.78</td>\n",
       "    </tr>\n",
       "    <tr>\n",
       "      <th>130</th>\n",
       "      <td>Clase, Emmanuel</td>\n",
       "      <td>661403</td>\n",
       "      <td>0.259880</td>\n",
       "      <td>0.278040</td>\n",
       "      <td>Emmanuel Clase</td>\n",
       "      <td>43.2</td>\n",
       "      <td>3.30</td>\n",
       "      <td>2.84</td>\n",
       "      <td>3.39</td>\n",
       "      <td>3.39</td>\n",
       "      <td>2.96</td>\n",
       "      <td>0.563</td>\n",
       "      <td>661403.0</td>\n",
       "      <td>2.78</td>\n",
       "    </tr>\n",
       "    <tr>\n",
       "      <th>423</th>\n",
       "      <td>Martin, Chris</td>\n",
       "      <td>455119</td>\n",
       "      <td>0.261076</td>\n",
       "      <td>0.282283</td>\n",
       "      <td>Chris Martin</td>\n",
       "      <td>29.2</td>\n",
       "      <td>1.52</td>\n",
       "      <td>2.39</td>\n",
       "      <td>2.93</td>\n",
       "      <td>3.02</td>\n",
       "      <td>2.98</td>\n",
       "      <td>0.524</td>\n",
       "      <td>455119.0</td>\n",
       "      <td>2.81</td>\n",
       "    </tr>\n",
       "    <tr>\n",
       "      <th>564</th>\n",
       "      <td>Richards, Trevor</td>\n",
       "      <td>670950</td>\n",
       "      <td>0.261296</td>\n",
       "      <td>0.268293</td>\n",
       "      <td>Trevor Richards</td>\n",
       "      <td>47.1</td>\n",
       "      <td>3.04</td>\n",
       "      <td>3.78</td>\n",
       "      <td>3.32</td>\n",
       "      <td>2.80</td>\n",
       "      <td>2.89</td>\n",
       "      <td>0.300</td>\n",
       "      <td>670950.0</td>\n",
       "      <td>2.82</td>\n",
       "    </tr>\n",
       "    <tr>\n",
       "      <th>213</th>\n",
       "      <td>Foley, Jason</td>\n",
       "      <td>671345</td>\n",
       "      <td>0.262211</td>\n",
       "      <td>0.276843</td>\n",
       "      <td>Jason Foley</td>\n",
       "      <td>40.1</td>\n",
       "      <td>2.23</td>\n",
       "      <td>2.13</td>\n",
       "      <td>3.13</td>\n",
       "      <td>2.98</td>\n",
       "      <td>2.91</td>\n",
       "      <td>0.602</td>\n",
       "      <td>671345.0</td>\n",
       "      <td>2.85</td>\n",
       "    </tr>\n",
       "    <tr>\n",
       "      <th>381</th>\n",
       "      <td>Leclerc, José</td>\n",
       "      <td>600917</td>\n",
       "      <td>0.262782</td>\n",
       "      <td>0.271989</td>\n",
       "      <td>Jose Leclerc</td>\n",
       "      <td>28.2</td>\n",
       "      <td>3.14</td>\n",
       "      <td>4.24</td>\n",
       "      <td>5.35</td>\n",
       "      <td>4.71</td>\n",
       "      <td>2.78</td>\n",
       "      <td>0.247</td>\n",
       "      <td>600917.0</td>\n",
       "      <td>2.86</td>\n",
       "    </tr>\n",
       "    <tr>\n",
       "      <th>584</th>\n",
       "      <td>Ryan, Joe</td>\n",
       "      <td>657746</td>\n",
       "      <td>0.262621</td>\n",
       "      <td>0.274995</td>\n",
       "      <td>Joe Ryan</td>\n",
       "      <td>112.1</td>\n",
       "      <td>3.77</td>\n",
       "      <td>3.60</td>\n",
       "      <td>3.70</td>\n",
       "      <td>3.41</td>\n",
       "      <td>2.98</td>\n",
       "      <td>0.325</td>\n",
       "      <td>657746.0</td>\n",
       "      <td>2.86</td>\n",
       "    </tr>\n",
       "    <tr>\n",
       "      <th>467</th>\n",
       "      <td>Moll, Sam</td>\n",
       "      <td>594580</td>\n",
       "      <td>0.262874</td>\n",
       "      <td>0.276867</td>\n",
       "      <td>Sam Moll</td>\n",
       "      <td>35.1</td>\n",
       "      <td>4.58</td>\n",
       "      <td>3.13</td>\n",
       "      <td>3.90</td>\n",
       "      <td>3.52</td>\n",
       "      <td>3.02</td>\n",
       "      <td>0.505</td>\n",
       "      <td>594580.0</td>\n",
       "      <td>2.87</td>\n",
       "    </tr>\n",
       "    <tr>\n",
       "      <th>255</th>\n",
       "      <td>Graterol, Brusdar</td>\n",
       "      <td>660813</td>\n",
       "      <td>0.262954</td>\n",
       "      <td>0.293643</td>\n",
       "      <td>Brusdar Graterol</td>\n",
       "      <td>40.1</td>\n",
       "      <td>1.79</td>\n",
       "      <td>3.10</td>\n",
       "      <td>3.57</td>\n",
       "      <td>3.39</td>\n",
       "      <td>3.16</td>\n",
       "      <td>0.625</td>\n",
       "      <td>660813.0</td>\n",
       "      <td>2.87</td>\n",
       "    </tr>\n",
       "    <tr>\n",
       "      <th>594</th>\n",
       "      <td>Santos, Gregory</td>\n",
       "      <td>666619</td>\n",
       "      <td>0.263481</td>\n",
       "      <td>0.282391</td>\n",
       "      <td>Gregory Santos</td>\n",
       "      <td>47.1</td>\n",
       "      <td>2.66</td>\n",
       "      <td>2.45</td>\n",
       "      <td>3.10</td>\n",
       "      <td>3.09</td>\n",
       "      <td>2.98</td>\n",
       "      <td>0.540</td>\n",
       "      <td>666619.0</td>\n",
       "      <td>2.88</td>\n",
       "    </tr>\n",
       "    <tr>\n",
       "      <th>483</th>\n",
       "      <td>Musgrove, Joe</td>\n",
       "      <td>605397</td>\n",
       "      <td>0.263349</td>\n",
       "      <td>0.274811</td>\n",
       "      <td>Joe Musgrove</td>\n",
       "      <td>85.1</td>\n",
       "      <td>3.16</td>\n",
       "      <td>3.45</td>\n",
       "      <td>3.74</td>\n",
       "      <td>3.73</td>\n",
       "      <td>3.07</td>\n",
       "      <td>0.439</td>\n",
       "      <td>605397.0</td>\n",
       "      <td>2.88</td>\n",
       "    </tr>\n",
       "    <tr>\n",
       "      <th>429</th>\n",
       "      <td>Maton, Phil</td>\n",
       "      <td>664208</td>\n",
       "      <td>0.263706</td>\n",
       "      <td>0.278008</td>\n",
       "      <td>Phil Maton</td>\n",
       "      <td>46.2</td>\n",
       "      <td>2.51</td>\n",
       "      <td>3.30</td>\n",
       "      <td>4.12</td>\n",
       "      <td>3.37</td>\n",
       "      <td>2.74</td>\n",
       "      <td>0.438</td>\n",
       "      <td>664208.0</td>\n",
       "      <td>2.89</td>\n",
       "    </tr>\n",
       "    <tr>\n",
       "      <th>537</th>\n",
       "      <td>Poche, Colin</td>\n",
       "      <td>621363</td>\n",
       "      <td>0.263875</td>\n",
       "      <td>0.266023</td>\n",
       "      <td>Colin Poche</td>\n",
       "      <td>35.0</td>\n",
       "      <td>2.06</td>\n",
       "      <td>4.35</td>\n",
       "      <td>5.59</td>\n",
       "      <td>5.06</td>\n",
       "      <td>3.02</td>\n",
       "      <td>0.316</td>\n",
       "      <td>621363.0</td>\n",
       "      <td>2.90</td>\n",
       "    </tr>\n",
       "    <tr>\n",
       "      <th>521</th>\n",
       "      <td>Payamps, Joel</td>\n",
       "      <td>606303</td>\n",
       "      <td>0.264016</td>\n",
       "      <td>0.263928</td>\n",
       "      <td>Joel Payamps</td>\n",
       "      <td>44.1</td>\n",
       "      <td>1.83</td>\n",
       "      <td>3.21</td>\n",
       "      <td>3.19</td>\n",
       "      <td>2.82</td>\n",
       "      <td>3.28</td>\n",
       "      <td>0.450</td>\n",
       "      <td>606303.0</td>\n",
       "      <td>2.90</td>\n",
       "    </tr>\n",
       "    <tr>\n",
       "      <th>565</th>\n",
       "      <td>Robertson, David</td>\n",
       "      <td>502085</td>\n",
       "      <td>0.264084</td>\n",
       "      <td>0.270204</td>\n",
       "      <td>David Robertson</td>\n",
       "      <td>42.1</td>\n",
       "      <td>2.13</td>\n",
       "      <td>3.68</td>\n",
       "      <td>3.81</td>\n",
       "      <td>3.33</td>\n",
       "      <td>3.00</td>\n",
       "      <td>0.427</td>\n",
       "      <td>502085.0</td>\n",
       "      <td>2.90</td>\n",
       "    </tr>\n",
       "  </tbody>\n",
       "</table>\n",
       "</div>"
      ],
      "text/plain": [
       "           player_name  pitcher  xwOBA_adj  sxwOBA_adj              Name  \\\n",
       "609       Sewald, Paul   623149   0.200757    0.213251       Paul Sewald   \n",
       "766      deGrom, Jacob   594798   0.204070    0.218777      Jacob deGrom   \n",
       "46     Bautista, Félix   642585   0.207615    0.213987    Felix Bautista   \n",
       "265        Hader, Josh   623352   0.212073    0.209321        Josh Hader   \n",
       "122   Chapman, Aroldis   547973   0.212857    0.223190   Aroldis Chapman   \n",
       "27    Armstrong, Shawn   542888   0.219714    0.234196   Shawn Armstrong   \n",
       "577      Rogers, Tyler   643511   0.219763    0.233723      Tyler Rogers   \n",
       "50       Bednar, David   670280   0.226360    0.217736      David Bednar   \n",
       "602      Scott, Tanner   656945   0.233114    0.241457      Tanner Scott   \n",
       "218         Fried, Max   608331   0.233933    0.252621         Max Fried   \n",
       "144      Cosgrove, Tom   676680   0.236601    0.256236      Tom Cosgrove   \n",
       "21     Alzolay, Adbert   640470   0.237177    0.240623    Adbert Alzolay   \n",
       "280      Helsley, Ryan   664854   0.237400    0.234259      Ryan Helsley   \n",
       "327       Jax, Griffin   643377   0.237920    0.263122       Griffin Jax   \n",
       "712       Walker, Ryan   676254   0.242727    0.259534       Ryan Walker   \n",
       "644     Stewart, Brock   592779   0.243211    0.267784     Brock Stewart   \n",
       "657       Suter, Brent   608718   0.243241    0.254821       Brent Suter   \n",
       "145    Coulombe, Danny   543056   0.247022    0.258781    Danny Coulombe   \n",
       "596        Sborz, Josh   622250   0.247064    0.257223        Josh Sborz   \n",
       "355     Kimbrel, Craig   518886   0.248962    0.257487     Craig Kimbrel   \n",
       "184       Duran, Jhoan   661395   0.252656    0.256630       Jhoan Duran   \n",
       "557    Rasmussen, Drew   656876   0.253534    0.265673    Drew Rasmussen   \n",
       "493      Neris, Hector   593576   0.253751    0.256972      Hector Neris   \n",
       "185       Díaz, Alexis   664747   0.254102    0.260293       Alexis Diaz   \n",
       "678       Topa, Justin   623437   0.253960    0.279335       Justin Topa   \n",
       "542          Puk, A.J.   640462   0.254512    0.279230          A.J. Puk   \n",
       "379   Lawrence, Justin   664875   0.254527    0.264446   Justin Lawrence   \n",
       "325     Jansen, Kenley   445276   0.254744    0.265235     Kenley Jansen   \n",
       "488      Nardi, Andrew   677053   0.255048    0.276073      Andrew Nardi   \n",
       "123       Chargois, JT   608638   0.255974    0.278716       JT Chargois   \n",
       "107      Cano, Yennier   666974   0.256666    0.278065      Yennier Cano   \n",
       "633      Soto, Gregory   642397   0.258544    0.262762      Gregory Soto   \n",
       "701         Vest, Will   676684   0.258684    0.267918         Will Vest   \n",
       "178      Doval, Camilo   666808   0.259490    0.270271      Camilo Doval   \n",
       "344         Kelly, Joe   523260   0.259869    0.277360         Joe Kelly   \n",
       "93       Bummer, Aaron   607481   0.260036    0.288434      Aaron Bummer   \n",
       "130    Clase, Emmanuel   661403   0.259880    0.278040    Emmanuel Clase   \n",
       "423      Martin, Chris   455119   0.261076    0.282283      Chris Martin   \n",
       "564   Richards, Trevor   670950   0.261296    0.268293   Trevor Richards   \n",
       "213       Foley, Jason   671345   0.262211    0.276843       Jason Foley   \n",
       "381      Leclerc, José   600917   0.262782    0.271989      Jose Leclerc   \n",
       "584          Ryan, Joe   657746   0.262621    0.274995          Joe Ryan   \n",
       "467          Moll, Sam   594580   0.262874    0.276867          Sam Moll   \n",
       "255  Graterol, Brusdar   660813   0.262954    0.293643  Brusdar Graterol   \n",
       "594    Santos, Gregory   666619   0.263481    0.282391    Gregory Santos   \n",
       "483      Musgrove, Joe   605397   0.263349    0.274811      Joe Musgrove   \n",
       "429        Maton, Phil   664208   0.263706    0.278008        Phil Maton   \n",
       "537       Poche, Colin   621363   0.263875    0.266023       Colin Poche   \n",
       "521      Payamps, Joel   606303   0.264016    0.263928      Joel Payamps   \n",
       "565   Robertson, David   502085   0.264084    0.270204   David Robertson   \n",
       "\n",
       "        IP   ERA   FIP  xFIP  SIERA  xERA    GB%  key_mlbam  sxERA  \n",
       "609   37.2  3.11  2.71  3.00   2.51  1.69  0.304   623149.0   1.06  \n",
       "766   30.1  2.67  1.58  2.32   2.22  1.85  0.379   594798.0   1.16  \n",
       "46    44.0  1.02  1.59  1.70   1.74  1.85  0.381   642585.0   1.26  \n",
       "265   35.0  1.03  2.41  3.42   3.17  1.99  0.418   623352.0   1.39  \n",
       "122   35.1  2.04  1.43  2.25   2.64  1.95  0.508   547973.0   1.42  \n",
       "27    20.2  0.87  2.52  3.53   3.24  2.20  0.426   542888.0   1.61  \n",
       "577   49.0  2.20  3.46  4.34   4.15  2.09  0.493   643511.0   1.62  \n",
       "50    37.0  1.22  1.78  3.44   2.83  2.13  0.366   670280.0   1.81  \n",
       "602   46.0  2.74  2.17  2.55   2.59  2.39  0.489   656945.0   2.00  \n",
       "218   26.0  2.08  3.07  3.18   3.46  2.37  0.609   608331.0   2.03  \n",
       "144   25.2  1.40  3.30  4.36   3.83  2.20  0.450   676680.0   2.10  \n",
       "21    41.0  2.63  2.66  3.17   2.83  2.39  0.471   640470.0   2.12  \n",
       "280   25.0  3.24  2.62  3.52   3.27  2.16  0.431   664854.0   2.13  \n",
       "327   38.2  2.79  2.11  3.32   3.24  2.29  0.573   643377.0   2.14  \n",
       "712   25.0  2.88  4.14  3.48   3.41  2.84  0.486   676254.0   2.28  \n",
       "644   25.2  0.70  2.48  3.42   3.02  2.45  0.353   592779.0   2.30  \n",
       "657   41.2  2.81  3.42  4.57   4.38  2.65  0.417   608718.0   2.30  \n",
       "145   31.0  2.90  2.97  3.38   2.91  2.76  0.438   543056.0   2.41  \n",
       "596   37.2  4.54  3.03  2.68   2.70  2.63  0.535   622250.0   2.41  \n",
       "355   40.0  3.15  3.27  3.22   2.64  2.59  0.354   518886.0   2.46  \n",
       "184   37.1  2.17  3.27  3.05   2.95  2.63  0.654   661395.0   2.57  \n",
       "557   44.2  2.62  2.58  3.12   3.44  2.82  0.526   656876.0   2.60  \n",
       "493   40.2  1.55  3.96  4.11   3.55  2.82  0.367   593576.0   2.60  \n",
       "185   41.2  1.94  2.31  3.16   2.85  2.89  0.383   664747.0   2.61  \n",
       "678   35.2  2.78  3.16  3.51   3.44  2.84  0.587   623437.0   2.61  \n",
       "542   30.2  4.40  3.69  3.36   3.01  2.74  0.414   640462.0   2.62  \n",
       "379   49.0  2.57  2.89  3.87   3.86  2.82  0.533   664875.0   2.62  \n",
       "325   31.0  3.19  3.01  4.20   3.70  2.76  0.296   445276.0   2.63  \n",
       "488   36.2  3.19  4.14  3.15   2.86  2.76  0.414   677053.0   2.64  \n",
       "123   24.2  2.92  3.50  4.08   4.14  2.51  0.612   608638.0   2.67  \n",
       "107   44.2  1.61  2.67  2.88   2.65  2.76  0.625   666974.0   2.69  \n",
       "633   35.2  4.79  3.47  4.36   4.03  2.87  0.479   642397.0   2.74  \n",
       "701   29.2  2.73  2.49  3.52   3.43  2.87  0.449   676684.0   2.75  \n",
       "178   45.0  2.40  2.85  3.31   3.05  2.84  0.540   666808.0   2.77  \n",
       "344   28.0  4.82  3.23  2.98   2.91  3.00  0.569   523260.0   2.78  \n",
       "93    31.2  7.11  2.32  3.13   3.41  3.09  0.553   607481.0   2.78  \n",
       "130   43.2  3.30  2.84  3.39   3.39  2.96  0.563   661403.0   2.78  \n",
       "423   29.2  1.52  2.39  2.93   3.02  2.98  0.524   455119.0   2.81  \n",
       "564   47.1  3.04  3.78  3.32   2.80  2.89  0.300   670950.0   2.82  \n",
       "213   40.1  2.23  2.13  3.13   2.98  2.91  0.602   671345.0   2.85  \n",
       "381   28.2  3.14  4.24  5.35   4.71  2.78  0.247   600917.0   2.86  \n",
       "584  112.1  3.77  3.60  3.70   3.41  2.98  0.325   657746.0   2.86  \n",
       "467   35.1  4.58  3.13  3.90   3.52  3.02  0.505   594580.0   2.87  \n",
       "255   40.1  1.79  3.10  3.57   3.39  3.16  0.625   660813.0   2.87  \n",
       "594   47.1  2.66  2.45  3.10   3.09  2.98  0.540   666619.0   2.88  \n",
       "483   85.1  3.16  3.45  3.74   3.73  3.07  0.439   605397.0   2.88  \n",
       "429   46.2  2.51  3.30  4.12   3.37  2.74  0.438   664208.0   2.89  \n",
       "537   35.0  2.06  4.35  5.59   5.06  3.02  0.316   621363.0   2.90  \n",
       "521   44.1  1.83  3.21  3.19   2.82  3.28  0.450   606303.0   2.90  \n",
       "565   42.1  2.13  3.68  3.81   3.33  3.00  0.427   502085.0   2.90  "
      ]
     },
     "execution_count": 45,
     "metadata": {},
     "output_type": "execute_result"
    }
   ],
   "source": [
    "df_2023.sort_values('sxERA', ascending=True).head(50)"
   ]
  },
  {
   "cell_type": "code",
   "execution_count": null,
   "metadata": {},
   "outputs": [],
   "source": [
    "df_2023['diff'] = df_2023['xERA'].sub(df_2023['sxERA'])"
   ]
  },
  {
   "cell_type": "code",
   "execution_count": null,
   "metadata": {},
   "outputs": [
    {
     "name": "stderr",
     "output_type": "stream",
     "text": [
      "C:\\Users\\wampl\\AppData\\Local\\Temp\\ipykernel_9640\\4051704210.py:1: FutureWarning:\n",
      "\n",
      "The default value of numeric_only in DataFrame.corr is deprecated. In a future version, it will default to False. Select only valid columns or specify the value of numeric_only to silence this warning.\n",
      "\n"
     ]
    },
    {
     "data": {
      "text/html": [
       "<div>\n",
       "<style scoped>\n",
       "    .dataframe tbody tr th:only-of-type {\n",
       "        vertical-align: middle;\n",
       "    }\n",
       "\n",
       "    .dataframe tbody tr th {\n",
       "        vertical-align: top;\n",
       "    }\n",
       "\n",
       "    .dataframe thead th {\n",
       "        text-align: right;\n",
       "    }\n",
       "</style>\n",
       "<table border=\"1\" class=\"dataframe\">\n",
       "  <thead>\n",
       "    <tr style=\"text-align: right;\">\n",
       "      <th></th>\n",
       "      <th>pitcher</th>\n",
       "      <th>xwOBA_adj</th>\n",
       "      <th>sxwOBA_adj</th>\n",
       "      <th>IP</th>\n",
       "      <th>ERA</th>\n",
       "      <th>FIP</th>\n",
       "      <th>xFIP</th>\n",
       "      <th>SIERA</th>\n",
       "      <th>xERA</th>\n",
       "      <th>GB%</th>\n",
       "      <th>key_mlbam</th>\n",
       "      <th>sxERA</th>\n",
       "      <th>diff</th>\n",
       "    </tr>\n",
       "  </thead>\n",
       "  <tbody>\n",
       "    <tr>\n",
       "      <th>pitcher</th>\n",
       "      <td>1.000000</td>\n",
       "      <td>0.015047</td>\n",
       "      <td>0.026884</td>\n",
       "      <td>-0.088847</td>\n",
       "      <td>0.032831</td>\n",
       "      <td>0.017176</td>\n",
       "      <td>0.023368</td>\n",
       "      <td>0.014750</td>\n",
       "      <td>0.006024</td>\n",
       "      <td>0.003726</td>\n",
       "      <td>1.000000</td>\n",
       "      <td>0.014976</td>\n",
       "      <td>-0.033589</td>\n",
       "    </tr>\n",
       "    <tr>\n",
       "      <th>xwOBA_adj</th>\n",
       "      <td>0.015047</td>\n",
       "      <td>1.000000</td>\n",
       "      <td>0.955758</td>\n",
       "      <td>0.056113</td>\n",
       "      <td>0.695448</td>\n",
       "      <td>0.796259</td>\n",
       "      <td>0.689673</td>\n",
       "      <td>0.743327</td>\n",
       "      <td>0.971694</td>\n",
       "      <td>-0.172415</td>\n",
       "      <td>0.015047</td>\n",
       "      <td>0.999996</td>\n",
       "      <td>0.143684</td>\n",
       "    </tr>\n",
       "    <tr>\n",
       "      <th>sxwOBA_adj</th>\n",
       "      <td>0.026884</td>\n",
       "      <td>0.955758</td>\n",
       "      <td>1.000000</td>\n",
       "      <td>0.003579</td>\n",
       "      <td>0.716701</td>\n",
       "      <td>0.799788</td>\n",
       "      <td>0.667549</td>\n",
       "      <td>0.715513</td>\n",
       "      <td>0.937102</td>\n",
       "      <td>-0.111078</td>\n",
       "      <td>0.026884</td>\n",
       "      <td>0.955779</td>\n",
       "      <td>0.172422</td>\n",
       "    </tr>\n",
       "    <tr>\n",
       "      <th>IP</th>\n",
       "      <td>-0.088847</td>\n",
       "      <td>0.056113</td>\n",
       "      <td>0.003579</td>\n",
       "      <td>1.000000</td>\n",
       "      <td>-0.065054</td>\n",
       "      <td>-0.037001</td>\n",
       "      <td>-0.087888</td>\n",
       "      <td>0.070458</td>\n",
       "      <td>0.020091</td>\n",
       "      <td>-0.025679</td>\n",
       "      <td>-0.088847</td>\n",
       "      <td>0.056173</td>\n",
       "      <td>-0.136477</td>\n",
       "    </tr>\n",
       "    <tr>\n",
       "      <th>ERA</th>\n",
       "      <td>0.032831</td>\n",
       "      <td>0.695448</td>\n",
       "      <td>0.716701</td>\n",
       "      <td>-0.065054</td>\n",
       "      <td>1.000000</td>\n",
       "      <td>0.689703</td>\n",
       "      <td>0.535857</td>\n",
       "      <td>0.544545</td>\n",
       "      <td>0.700436</td>\n",
       "      <td>-0.178336</td>\n",
       "      <td>0.032831</td>\n",
       "      <td>0.695476</td>\n",
       "      <td>0.203205</td>\n",
       "    </tr>\n",
       "    <tr>\n",
       "      <th>FIP</th>\n",
       "      <td>0.017176</td>\n",
       "      <td>0.796259</td>\n",
       "      <td>0.799788</td>\n",
       "      <td>-0.037001</td>\n",
       "      <td>0.689703</td>\n",
       "      <td>1.000000</td>\n",
       "      <td>0.788980</td>\n",
       "      <td>0.761411</td>\n",
       "      <td>0.791694</td>\n",
       "      <td>-0.233178</td>\n",
       "      <td>0.017176</td>\n",
       "      <td>0.796292</td>\n",
       "      <td>0.189595</td>\n",
       "    </tr>\n",
       "    <tr>\n",
       "      <th>xFIP</th>\n",
       "      <td>0.023368</td>\n",
       "      <td>0.689673</td>\n",
       "      <td>0.667549</td>\n",
       "      <td>-0.087888</td>\n",
       "      <td>0.535857</td>\n",
       "      <td>0.788980</td>\n",
       "      <td>1.000000</td>\n",
       "      <td>0.933732</td>\n",
       "      <td>0.674683</td>\n",
       "      <td>-0.382389</td>\n",
       "      <td>0.023368</td>\n",
       "      <td>0.689744</td>\n",
       "      <td>0.117802</td>\n",
       "    </tr>\n",
       "    <tr>\n",
       "      <th>SIERA</th>\n",
       "      <td>0.014750</td>\n",
       "      <td>0.743327</td>\n",
       "      <td>0.715513</td>\n",
       "      <td>0.070458</td>\n",
       "      <td>0.544545</td>\n",
       "      <td>0.761411</td>\n",
       "      <td>0.933732</td>\n",
       "      <td>1.000000</td>\n",
       "      <td>0.734955</td>\n",
       "      <td>-0.213785</td>\n",
       "      <td>0.014750</td>\n",
       "      <td>0.743382</td>\n",
       "      <td>0.159667</td>\n",
       "    </tr>\n",
       "    <tr>\n",
       "      <th>xERA</th>\n",
       "      <td>0.006024</td>\n",
       "      <td>0.971694</td>\n",
       "      <td>0.937102</td>\n",
       "      <td>0.020091</td>\n",
       "      <td>0.700436</td>\n",
       "      <td>0.791694</td>\n",
       "      <td>0.674683</td>\n",
       "      <td>0.734955</td>\n",
       "      <td>1.000000</td>\n",
       "      <td>-0.143648</td>\n",
       "      <td>0.006024</td>\n",
       "      <td>0.971718</td>\n",
       "      <td>0.373396</td>\n",
       "    </tr>\n",
       "    <tr>\n",
       "      <th>GB%</th>\n",
       "      <td>0.003726</td>\n",
       "      <td>-0.172415</td>\n",
       "      <td>-0.111078</td>\n",
       "      <td>-0.025679</td>\n",
       "      <td>-0.178336</td>\n",
       "      <td>-0.233178</td>\n",
       "      <td>-0.382389</td>\n",
       "      <td>-0.213785</td>\n",
       "      <td>-0.143648</td>\n",
       "      <td>1.000000</td>\n",
       "      <td>0.003726</td>\n",
       "      <td>-0.172308</td>\n",
       "      <td>0.074912</td>\n",
       "    </tr>\n",
       "    <tr>\n",
       "      <th>key_mlbam</th>\n",
       "      <td>1.000000</td>\n",
       "      <td>0.015047</td>\n",
       "      <td>0.026884</td>\n",
       "      <td>-0.088847</td>\n",
       "      <td>0.032831</td>\n",
       "      <td>0.017176</td>\n",
       "      <td>0.023368</td>\n",
       "      <td>0.014750</td>\n",
       "      <td>0.006024</td>\n",
       "      <td>0.003726</td>\n",
       "      <td>1.000000</td>\n",
       "      <td>0.014976</td>\n",
       "      <td>-0.033589</td>\n",
       "    </tr>\n",
       "    <tr>\n",
       "      <th>sxERA</th>\n",
       "      <td>0.014976</td>\n",
       "      <td>0.999996</td>\n",
       "      <td>0.955779</td>\n",
       "      <td>0.056173</td>\n",
       "      <td>0.695476</td>\n",
       "      <td>0.796292</td>\n",
       "      <td>0.689744</td>\n",
       "      <td>0.743382</td>\n",
       "      <td>0.971718</td>\n",
       "      <td>-0.172308</td>\n",
       "      <td>0.014976</td>\n",
       "      <td>1.000000</td>\n",
       "      <td>0.143772</td>\n",
       "    </tr>\n",
       "    <tr>\n",
       "      <th>diff</th>\n",
       "      <td>-0.033589</td>\n",
       "      <td>0.143684</td>\n",
       "      <td>0.172422</td>\n",
       "      <td>-0.136477</td>\n",
       "      <td>0.203205</td>\n",
       "      <td>0.189595</td>\n",
       "      <td>0.117802</td>\n",
       "      <td>0.159667</td>\n",
       "      <td>0.373396</td>\n",
       "      <td>0.074912</td>\n",
       "      <td>-0.033589</td>\n",
       "      <td>0.143772</td>\n",
       "      <td>1.000000</td>\n",
       "    </tr>\n",
       "  </tbody>\n",
       "</table>\n",
       "</div>"
      ],
      "text/plain": [
       "             pitcher  xwOBA_adj  sxwOBA_adj        IP       ERA       FIP  \\\n",
       "pitcher     1.000000   0.015047    0.026884 -0.088847  0.032831  0.017176   \n",
       "xwOBA_adj   0.015047   1.000000    0.955758  0.056113  0.695448  0.796259   \n",
       "sxwOBA_adj  0.026884   0.955758    1.000000  0.003579  0.716701  0.799788   \n",
       "IP         -0.088847   0.056113    0.003579  1.000000 -0.065054 -0.037001   \n",
       "ERA         0.032831   0.695448    0.716701 -0.065054  1.000000  0.689703   \n",
       "FIP         0.017176   0.796259    0.799788 -0.037001  0.689703  1.000000   \n",
       "xFIP        0.023368   0.689673    0.667549 -0.087888  0.535857  0.788980   \n",
       "SIERA       0.014750   0.743327    0.715513  0.070458  0.544545  0.761411   \n",
       "xERA        0.006024   0.971694    0.937102  0.020091  0.700436  0.791694   \n",
       "GB%         0.003726  -0.172415   -0.111078 -0.025679 -0.178336 -0.233178   \n",
       "key_mlbam   1.000000   0.015047    0.026884 -0.088847  0.032831  0.017176   \n",
       "sxERA       0.014976   0.999996    0.955779  0.056173  0.695476  0.796292   \n",
       "diff       -0.033589   0.143684    0.172422 -0.136477  0.203205  0.189595   \n",
       "\n",
       "                xFIP     SIERA      xERA       GB%  key_mlbam     sxERA  \\\n",
       "pitcher     0.023368  0.014750  0.006024  0.003726   1.000000  0.014976   \n",
       "xwOBA_adj   0.689673  0.743327  0.971694 -0.172415   0.015047  0.999996   \n",
       "sxwOBA_adj  0.667549  0.715513  0.937102 -0.111078   0.026884  0.955779   \n",
       "IP         -0.087888  0.070458  0.020091 -0.025679  -0.088847  0.056173   \n",
       "ERA         0.535857  0.544545  0.700436 -0.178336   0.032831  0.695476   \n",
       "FIP         0.788980  0.761411  0.791694 -0.233178   0.017176  0.796292   \n",
       "xFIP        1.000000  0.933732  0.674683 -0.382389   0.023368  0.689744   \n",
       "SIERA       0.933732  1.000000  0.734955 -0.213785   0.014750  0.743382   \n",
       "xERA        0.674683  0.734955  1.000000 -0.143648   0.006024  0.971718   \n",
       "GB%        -0.382389 -0.213785 -0.143648  1.000000   0.003726 -0.172308   \n",
       "key_mlbam   0.023368  0.014750  0.006024  0.003726   1.000000  0.014976   \n",
       "sxERA       0.689744  0.743382  0.971718 -0.172308   0.014976  1.000000   \n",
       "diff        0.117802  0.159667  0.373396  0.074912  -0.033589  0.143772   \n",
       "\n",
       "                diff  \n",
       "pitcher    -0.033589  \n",
       "xwOBA_adj   0.143684  \n",
       "sxwOBA_adj  0.172422  \n",
       "IP         -0.136477  \n",
       "ERA         0.203205  \n",
       "FIP         0.189595  \n",
       "xFIP        0.117802  \n",
       "SIERA       0.159667  \n",
       "xERA        0.373396  \n",
       "GB%         0.074912  \n",
       "key_mlbam  -0.033589  \n",
       "sxERA       0.143772  \n",
       "diff        1.000000  "
      ]
     },
     "execution_count": 47,
     "metadata": {},
     "output_type": "execute_result"
    }
   ],
   "source": [
    "df_2023.corr()"
   ]
  },
  {
   "cell_type": "code",
   "execution_count": null,
   "metadata": {},
   "outputs": [
    {
     "name": "stderr",
     "output_type": "stream",
     "text": [
      "C:\\Users\\wampl\\AppData\\Local\\Temp\\ipykernel_9640\\1416161095.py:1: FutureWarning:\n",
      "\n",
      "Indexing with multiple keys (implicitly converted to a tuple of keys) will be deprecated, use a list instead.\n",
      "\n"
     ]
    },
    {
     "data": {
      "text/html": [
       "<div>\n",
       "<style scoped>\n",
       "    .dataframe tbody tr th:only-of-type {\n",
       "        vertical-align: middle;\n",
       "    }\n",
       "\n",
       "    .dataframe tbody tr th {\n",
       "        vertical-align: top;\n",
       "    }\n",
       "\n",
       "    .dataframe thead tr th {\n",
       "        text-align: left;\n",
       "    }\n",
       "\n",
       "    .dataframe thead tr:last-of-type th {\n",
       "        text-align: right;\n",
       "    }\n",
       "</style>\n",
       "<table border=\"1\" class=\"dataframe\">\n",
       "  <thead>\n",
       "    <tr>\n",
       "      <th></th>\n",
       "      <th colspan=\"3\" halign=\"left\">sxwOBA</th>\n",
       "      <th colspan=\"3\" halign=\"left\">sxwOBA_adj</th>\n",
       "      <th colspan=\"3\" halign=\"left\">launch_speed</th>\n",
       "      <th colspan=\"3\" halign=\"left\">launch_angle</th>\n",
       "      <th colspan=\"3\" halign=\"left\">gidp_prob</th>\n",
       "    </tr>\n",
       "    <tr>\n",
       "      <th></th>\n",
       "      <th>mean</th>\n",
       "      <th>count</th>\n",
       "      <th>sum</th>\n",
       "      <th>mean</th>\n",
       "      <th>count</th>\n",
       "      <th>sum</th>\n",
       "      <th>mean</th>\n",
       "      <th>count</th>\n",
       "      <th>sum</th>\n",
       "      <th>mean</th>\n",
       "      <th>count</th>\n",
       "      <th>sum</th>\n",
       "      <th>mean</th>\n",
       "      <th>count</th>\n",
       "      <th>sum</th>\n",
       "    </tr>\n",
       "    <tr>\n",
       "      <th>player_name</th>\n",
       "      <th></th>\n",
       "      <th></th>\n",
       "      <th></th>\n",
       "      <th></th>\n",
       "      <th></th>\n",
       "      <th></th>\n",
       "      <th></th>\n",
       "      <th></th>\n",
       "      <th></th>\n",
       "      <th></th>\n",
       "      <th></th>\n",
       "      <th></th>\n",
       "      <th></th>\n",
       "      <th></th>\n",
       "      <th></th>\n",
       "    </tr>\n",
       "  </thead>\n",
       "  <tbody>\n",
       "    <tr>\n",
       "      <th>Webb, Logan</th>\n",
       "      <td>0.297078</td>\n",
       "      <td>532</td>\n",
       "      <td>158.045413</td>\n",
       "      <td>0.289879</td>\n",
       "      <td>532</td>\n",
       "      <td>154.215635</td>\n",
       "      <td>90.452575</td>\n",
       "      <td>369</td>\n",
       "      <td>33377.0</td>\n",
       "      <td>2.872973</td>\n",
       "      <td>370</td>\n",
       "      <td>1063.0</td>\n",
       "      <td>0.032428</td>\n",
       "      <td>369</td>\n",
       "      <td>11.965757</td>\n",
       "    </tr>\n",
       "    <tr>\n",
       "      <th>Alcantara, Sandy</th>\n",
       "      <td>0.323532</td>\n",
       "      <td>529</td>\n",
       "      <td>171.148551</td>\n",
       "      <td>0.316573</td>\n",
       "      <td>529</td>\n",
       "      <td>167.467172</td>\n",
       "      <td>89.010444</td>\n",
       "      <td>383</td>\n",
       "      <td>34091.0</td>\n",
       "      <td>7.553525</td>\n",
       "      <td>383</td>\n",
       "      <td>2893.0</td>\n",
       "      <td>0.030032</td>\n",
       "      <td>383</td>\n",
       "      <td>11.502100</td>\n",
       "    </tr>\n",
       "    <tr>\n",
       "      <th>Stroman, Marcus</th>\n",
       "      <td>0.305994</td>\n",
       "      <td>495</td>\n",
       "      <td>151.467259</td>\n",
       "      <td>0.298886</td>\n",
       "      <td>495</td>\n",
       "      <td>147.948616</td>\n",
       "      <td>90.026023</td>\n",
       "      <td>342</td>\n",
       "      <td>30788.9</td>\n",
       "      <td>2.935860</td>\n",
       "      <td>343</td>\n",
       "      <td>1007.0</td>\n",
       "      <td>0.032239</td>\n",
       "      <td>341</td>\n",
       "      <td>10.993648</td>\n",
       "    </tr>\n",
       "    <tr>\n",
       "      <th>Corbin, Patrick</th>\n",
       "      <td>0.382062</td>\n",
       "      <td>507</td>\n",
       "      <td>193.705628</td>\n",
       "      <td>0.375153</td>\n",
       "      <td>507</td>\n",
       "      <td>190.202645</td>\n",
       "      <td>90.429668</td>\n",
       "      <td>391</td>\n",
       "      <td>35358.0</td>\n",
       "      <td>9.774936</td>\n",
       "      <td>391</td>\n",
       "      <td>3822.0</td>\n",
       "      <td>0.027992</td>\n",
       "      <td>391</td>\n",
       "      <td>10.944719</td>\n",
       "    </tr>\n",
       "    <tr>\n",
       "      <th>Eovaldi, Nathan</th>\n",
       "      <td>0.298613</td>\n",
       "      <td>475</td>\n",
       "      <td>141.841331</td>\n",
       "      <td>0.291371</td>\n",
       "      <td>475</td>\n",
       "      <td>138.401136</td>\n",
       "      <td>87.996341</td>\n",
       "      <td>328</td>\n",
       "      <td>28862.8</td>\n",
       "      <td>5.307927</td>\n",
       "      <td>328</td>\n",
       "      <td>1741.0</td>\n",
       "      <td>0.032971</td>\n",
       "      <td>326</td>\n",
       "      <td>10.748545</td>\n",
       "    </tr>\n",
       "    <tr>\n",
       "      <th>Gibson, Kyle</th>\n",
       "      <td>0.330192</td>\n",
       "      <td>514</td>\n",
       "      <td>169.718727</td>\n",
       "      <td>0.323507</td>\n",
       "      <td>514</td>\n",
       "      <td>166.282522</td>\n",
       "      <td>89.257796</td>\n",
       "      <td>372</td>\n",
       "      <td>33203.9</td>\n",
       "      <td>8.903226</td>\n",
       "      <td>372</td>\n",
       "      <td>3312.0</td>\n",
       "      <td>0.028938</td>\n",
       "      <td>371</td>\n",
       "      <td>10.736078</td>\n",
       "    </tr>\n",
       "    <tr>\n",
       "      <th>Mikolas, Miles</th>\n",
       "      <td>0.333015</td>\n",
       "      <td>542</td>\n",
       "      <td>180.494198</td>\n",
       "      <td>0.326807</td>\n",
       "      <td>542</td>\n",
       "      <td>177.129582</td>\n",
       "      <td>89.711294</td>\n",
       "      <td>425</td>\n",
       "      <td>38127.3</td>\n",
       "      <td>14.164706</td>\n",
       "      <td>425</td>\n",
       "      <td>6020.0</td>\n",
       "      <td>0.024735</td>\n",
       "      <td>425</td>\n",
       "      <td>10.512405</td>\n",
       "    </tr>\n",
       "    <tr>\n",
       "      <th>Cobb, Alex</th>\n",
       "      <td>0.335462</td>\n",
       "      <td>430</td>\n",
       "      <td>144.248458</td>\n",
       "      <td>0.327677</td>\n",
       "      <td>430</td>\n",
       "      <td>140.901011</td>\n",
       "      <td>89.404531</td>\n",
       "      <td>309</td>\n",
       "      <td>27626.0</td>\n",
       "      <td>1.411003</td>\n",
       "      <td>309</td>\n",
       "      <td>436.0</td>\n",
       "      <td>0.033847</td>\n",
       "      <td>309</td>\n",
       "      <td>10.458763</td>\n",
       "    </tr>\n",
       "    <tr>\n",
       "      <th>Valdez, Framber</th>\n",
       "      <td>0.316460</td>\n",
       "      <td>489</td>\n",
       "      <td>154.749055</td>\n",
       "      <td>0.309854</td>\n",
       "      <td>489</td>\n",
       "      <td>151.518436</td>\n",
       "      <td>91.639752</td>\n",
       "      <td>322</td>\n",
       "      <td>29508.0</td>\n",
       "      <td>3.596273</td>\n",
       "      <td>322</td>\n",
       "      <td>1158.0</td>\n",
       "      <td>0.031445</td>\n",
       "      <td>321</td>\n",
       "      <td>10.093745</td>\n",
       "    </tr>\n",
       "    <tr>\n",
       "      <th>Bieber, Shane</th>\n",
       "      <td>0.347153</td>\n",
       "      <td>485</td>\n",
       "      <td>168.369258</td>\n",
       "      <td>0.340530</td>\n",
       "      <td>485</td>\n",
       "      <td>165.157108</td>\n",
       "      <td>91.258989</td>\n",
       "      <td>356</td>\n",
       "      <td>32488.2</td>\n",
       "      <td>9.528090</td>\n",
       "      <td>356</td>\n",
       "      <td>3392.0</td>\n",
       "      <td>0.028271</td>\n",
       "      <td>355</td>\n",
       "      <td>10.036038</td>\n",
       "    </tr>\n",
       "    <tr>\n",
       "      <th>Keller, Mitch</th>\n",
       "      <td>0.308771</td>\n",
       "      <td>514</td>\n",
       "      <td>158.708502</td>\n",
       "      <td>0.302671</td>\n",
       "      <td>514</td>\n",
       "      <td>155.572853</td>\n",
       "      <td>86.493842</td>\n",
       "      <td>341</td>\n",
       "      <td>29494.4</td>\n",
       "      <td>9.222874</td>\n",
       "      <td>341</td>\n",
       "      <td>3145.0</td>\n",
       "      <td>0.028730</td>\n",
       "      <td>341</td>\n",
       "      <td>9.797022</td>\n",
       "    </tr>\n",
       "    <tr>\n",
       "      <th>Bassitt, Chris</th>\n",
       "      <td>0.337199</td>\n",
       "      <td>509</td>\n",
       "      <td>171.634468</td>\n",
       "      <td>0.331179</td>\n",
       "      <td>509</td>\n",
       "      <td>168.569868</td>\n",
       "      <td>87.665242</td>\n",
       "      <td>351</td>\n",
       "      <td>30770.5</td>\n",
       "      <td>12.504274</td>\n",
       "      <td>351</td>\n",
       "      <td>4389.0</td>\n",
       "      <td>0.027357</td>\n",
       "      <td>350</td>\n",
       "      <td>9.575036</td>\n",
       "    </tr>\n",
       "    <tr>\n",
       "      <th>Kirby, George</th>\n",
       "      <td>0.314983</td>\n",
       "      <td>472</td>\n",
       "      <td>148.671836</td>\n",
       "      <td>0.308511</td>\n",
       "      <td>472</td>\n",
       "      <td>145.617149</td>\n",
       "      <td>88.669577</td>\n",
       "      <td>355</td>\n",
       "      <td>31477.7</td>\n",
       "      <td>12.602817</td>\n",
       "      <td>355</td>\n",
       "      <td>4474.0</td>\n",
       "      <td>0.026885</td>\n",
       "      <td>355</td>\n",
       "      <td>9.544065</td>\n",
       "    </tr>\n",
       "    <tr>\n",
       "      <th>Elder, Bryce</th>\n",
       "      <td>0.320421</td>\n",
       "      <td>451</td>\n",
       "      <td>144.509902</td>\n",
       "      <td>0.313650</td>\n",
       "      <td>451</td>\n",
       "      <td>141.456185</td>\n",
       "      <td>89.626380</td>\n",
       "      <td>326</td>\n",
       "      <td>29218.2</td>\n",
       "      <td>7.122699</td>\n",
       "      <td>326</td>\n",
       "      <td>2322.0</td>\n",
       "      <td>0.029267</td>\n",
       "      <td>326</td>\n",
       "      <td>9.541032</td>\n",
       "    </tr>\n",
       "    <tr>\n",
       "      <th>Ashcraft, Graham</th>\n",
       "      <td>0.361416</td>\n",
       "      <td>415</td>\n",
       "      <td>149.987783</td>\n",
       "      <td>0.354093</td>\n",
       "      <td>415</td>\n",
       "      <td>146.948663</td>\n",
       "      <td>88.593092</td>\n",
       "      <td>304</td>\n",
       "      <td>26932.3</td>\n",
       "      <td>7.144737</td>\n",
       "      <td>304</td>\n",
       "      <td>2172.0</td>\n",
       "      <td>0.031235</td>\n",
       "      <td>304</td>\n",
       "      <td>9.495424</td>\n",
       "    </tr>\n",
       "    <tr>\n",
       "      <th>Oviedo, Johan</th>\n",
       "      <td>0.336531</td>\n",
       "      <td>490</td>\n",
       "      <td>164.900101</td>\n",
       "      <td>0.330379</td>\n",
       "      <td>490</td>\n",
       "      <td>161.885703</td>\n",
       "      <td>88.767857</td>\n",
       "      <td>336</td>\n",
       "      <td>29826.0</td>\n",
       "      <td>9.845238</td>\n",
       "      <td>336</td>\n",
       "      <td>3308.0</td>\n",
       "      <td>0.028030</td>\n",
       "      <td>336</td>\n",
       "      <td>9.418187</td>\n",
       "    </tr>\n",
       "    <tr>\n",
       "      <th>Nelson, Ryne</th>\n",
       "      <td>0.339691</td>\n",
       "      <td>450</td>\n",
       "      <td>152.861105</td>\n",
       "      <td>0.333032</td>\n",
       "      <td>450</td>\n",
       "      <td>149.864501</td>\n",
       "      <td>91.103170</td>\n",
       "      <td>347</td>\n",
       "      <td>31612.8</td>\n",
       "      <td>14.671470</td>\n",
       "      <td>347</td>\n",
       "      <td>5091.0</td>\n",
       "      <td>0.026982</td>\n",
       "      <td>347</td>\n",
       "      <td>9.362589</td>\n",
       "    </tr>\n",
       "    <tr>\n",
       "      <th>Berríos, José</th>\n",
       "      <td>0.325898</td>\n",
       "      <td>487</td>\n",
       "      <td>158.712169</td>\n",
       "      <td>0.319773</td>\n",
       "      <td>487</td>\n",
       "      <td>155.729306</td>\n",
       "      <td>87.632931</td>\n",
       "      <td>331</td>\n",
       "      <td>29006.5</td>\n",
       "      <td>9.909366</td>\n",
       "      <td>331</td>\n",
       "      <td>3280.0</td>\n",
       "      <td>0.028156</td>\n",
       "      <td>331</td>\n",
       "      <td>9.319657</td>\n",
       "    </tr>\n",
       "    <tr>\n",
       "      <th>Singer, Brady</th>\n",
       "      <td>0.358111</td>\n",
       "      <td>476</td>\n",
       "      <td>170.460824</td>\n",
       "      <td>0.351854</td>\n",
       "      <td>476</td>\n",
       "      <td>167.482606</td>\n",
       "      <td>91.449565</td>\n",
       "      <td>345</td>\n",
       "      <td>31550.1</td>\n",
       "      <td>9.872464</td>\n",
       "      <td>345</td>\n",
       "      <td>3406.0</td>\n",
       "      <td>0.026971</td>\n",
       "      <td>345</td>\n",
       "      <td>9.305142</td>\n",
       "    </tr>\n",
       "    <tr>\n",
       "      <th>Gomber, Austin</th>\n",
       "      <td>0.380245</td>\n",
       "      <td>439</td>\n",
       "      <td>166.927643</td>\n",
       "      <td>0.373473</td>\n",
       "      <td>439</td>\n",
       "      <td>163.954842</td>\n",
       "      <td>90.105588</td>\n",
       "      <td>340</td>\n",
       "      <td>30635.9</td>\n",
       "      <td>11.392962</td>\n",
       "      <td>341</td>\n",
       "      <td>3885.0</td>\n",
       "      <td>0.027318</td>\n",
       "      <td>340</td>\n",
       "      <td>9.288220</td>\n",
       "    </tr>\n",
       "  </tbody>\n",
       "</table>\n",
       "</div>"
      ],
      "text/plain": [
       "                    sxwOBA                   sxwOBA_adj                    \\\n",
       "                      mean count         sum       mean count         sum   \n",
       "player_name                                                                 \n",
       "Webb, Logan       0.297078   532  158.045413   0.289879   532  154.215635   \n",
       "Alcantara, Sandy  0.323532   529  171.148551   0.316573   529  167.467172   \n",
       "Stroman, Marcus   0.305994   495  151.467259   0.298886   495  147.948616   \n",
       "Corbin, Patrick   0.382062   507  193.705628   0.375153   507  190.202645   \n",
       "Eovaldi, Nathan   0.298613   475  141.841331   0.291371   475  138.401136   \n",
       "Gibson, Kyle      0.330192   514  169.718727   0.323507   514  166.282522   \n",
       "Mikolas, Miles    0.333015   542  180.494198   0.326807   542  177.129582   \n",
       "Cobb, Alex        0.335462   430  144.248458   0.327677   430  140.901011   \n",
       "Valdez, Framber   0.316460   489  154.749055   0.309854   489  151.518436   \n",
       "Bieber, Shane     0.347153   485  168.369258   0.340530   485  165.157108   \n",
       "Keller, Mitch     0.308771   514  158.708502   0.302671   514  155.572853   \n",
       "Bassitt, Chris    0.337199   509  171.634468   0.331179   509  168.569868   \n",
       "Kirby, George     0.314983   472  148.671836   0.308511   472  145.617149   \n",
       "Elder, Bryce      0.320421   451  144.509902   0.313650   451  141.456185   \n",
       "Ashcraft, Graham  0.361416   415  149.987783   0.354093   415  146.948663   \n",
       "Oviedo, Johan     0.336531   490  164.900101   0.330379   490  161.885703   \n",
       "Nelson, Ryne      0.339691   450  152.861105   0.333032   450  149.864501   \n",
       "Berríos, José     0.325898   487  158.712169   0.319773   487  155.729306   \n",
       "Singer, Brady     0.358111   476  170.460824   0.351854   476  167.482606   \n",
       "Gomber, Austin    0.380245   439  166.927643   0.373473   439  163.954842   \n",
       "\n",
       "                 launch_speed                launch_angle                \\\n",
       "                         mean count      sum         mean count     sum   \n",
       "player_name                                                               \n",
       "Webb, Logan         90.452575   369  33377.0     2.872973   370  1063.0   \n",
       "Alcantara, Sandy    89.010444   383  34091.0     7.553525   383  2893.0   \n",
       "Stroman, Marcus     90.026023   342  30788.9     2.935860   343  1007.0   \n",
       "Corbin, Patrick     90.429668   391  35358.0     9.774936   391  3822.0   \n",
       "Eovaldi, Nathan     87.996341   328  28862.8     5.307927   328  1741.0   \n",
       "Gibson, Kyle        89.257796   372  33203.9     8.903226   372  3312.0   \n",
       "Mikolas, Miles      89.711294   425  38127.3    14.164706   425  6020.0   \n",
       "Cobb, Alex          89.404531   309  27626.0     1.411003   309   436.0   \n",
       "Valdez, Framber     91.639752   322  29508.0     3.596273   322  1158.0   \n",
       "Bieber, Shane       91.258989   356  32488.2     9.528090   356  3392.0   \n",
       "Keller, Mitch       86.493842   341  29494.4     9.222874   341  3145.0   \n",
       "Bassitt, Chris      87.665242   351  30770.5    12.504274   351  4389.0   \n",
       "Kirby, George       88.669577   355  31477.7    12.602817   355  4474.0   \n",
       "Elder, Bryce        89.626380   326  29218.2     7.122699   326  2322.0   \n",
       "Ashcraft, Graham    88.593092   304  26932.3     7.144737   304  2172.0   \n",
       "Oviedo, Johan       88.767857   336  29826.0     9.845238   336  3308.0   \n",
       "Nelson, Ryne        91.103170   347  31612.8    14.671470   347  5091.0   \n",
       "Berríos, José       87.632931   331  29006.5     9.909366   331  3280.0   \n",
       "Singer, Brady       91.449565   345  31550.1     9.872464   345  3406.0   \n",
       "Gomber, Austin      90.105588   340  30635.9    11.392962   341  3885.0   \n",
       "\n",
       "                 gidp_prob                   \n",
       "                      mean count        sum  \n",
       "player_name                                  \n",
       "Webb, Logan       0.032428   369  11.965757  \n",
       "Alcantara, Sandy  0.030032   383  11.502100  \n",
       "Stroman, Marcus   0.032239   341  10.993648  \n",
       "Corbin, Patrick   0.027992   391  10.944719  \n",
       "Eovaldi, Nathan   0.032971   326  10.748545  \n",
       "Gibson, Kyle      0.028938   371  10.736078  \n",
       "Mikolas, Miles    0.024735   425  10.512405  \n",
       "Cobb, Alex        0.033847   309  10.458763  \n",
       "Valdez, Framber   0.031445   321  10.093745  \n",
       "Bieber, Shane     0.028271   355  10.036038  \n",
       "Keller, Mitch     0.028730   341   9.797022  \n",
       "Bassitt, Chris    0.027357   350   9.575036  \n",
       "Kirby, George     0.026885   355   9.544065  \n",
       "Elder, Bryce      0.029267   326   9.541032  \n",
       "Ashcraft, Graham  0.031235   304   9.495424  \n",
       "Oviedo, Johan     0.028030   336   9.418187  \n",
       "Nelson, Ryne      0.026982   347   9.362589  \n",
       "Berríos, José     0.028156   331   9.319657  \n",
       "Singer, Brady     0.026971   345   9.305142  \n",
       "Gomber, Austin    0.027318   340   9.288220  "
      ]
     },
     "execution_count": 52,
     "metadata": {},
     "output_type": "execute_result"
    }
   ],
   "source": [
    "df3.groupby(['player_name'], as_index=False)['sxwOBA', 'sxwOBA_adj', 'launch_speed', 'launch_angle', 'gidp_prob'].agg(['mean', 'count', 'sum']).sort_values(('gidp_prob', 'sum'), ascending=False).head(20)"
   ]
  },
  {
   "cell_type": "code",
   "execution_count": null,
   "metadata": {},
   "outputs": [],
   "source": [
    "def get_sum_gidp_probs(df, player_name):\n",
    "    return df.loc[df['player_name']==player_name, 'gidp_prob'].sum().round()"
   ]
  },
  {
   "cell_type": "code",
   "execution_count": null,
   "metadata": {},
   "outputs": [
    {
     "data": {
      "text/plain": [
       "14.0"
      ]
     },
     "execution_count": 45,
     "metadata": {},
     "output_type": "execute_result"
    }
   ],
   "source": [
    "get_sum_gidp_probs(df3, 'Webb, Logan')"
   ]
  },
  {
   "cell_type": "code",
   "execution_count": null,
   "metadata": {},
   "outputs": [
    {
     "data": {
      "text/plain": [
       "13.0"
      ]
     },
     "execution_count": 47,
     "metadata": {},
     "output_type": "execute_result"
    }
   ],
   "source": [
    "get_sum_gidp_probs(df3, 'Stroman, Marcus')"
   ]
  },
  {
   "cell_type": "code",
   "execution_count": null,
   "metadata": {},
   "outputs": [
    {
     "data": {
      "text/plain": [
       "12.0"
      ]
     },
     "execution_count": 48,
     "metadata": {},
     "output_type": "execute_result"
    }
   ],
   "source": [
    "get_sum_gidp_probs(df3, 'Elder, Bryce')"
   ]
  },
  {
   "cell_type": "code",
   "execution_count": null,
   "metadata": {},
   "outputs": [
    {
     "data": {
      "text/plain": [
       "11.0"
      ]
     },
     "execution_count": 49,
     "metadata": {},
     "output_type": "execute_result"
    }
   ],
   "source": [
    "get_sum_gidp_probs(df3, 'Cobb, Alex')"
   ]
  },
  {
   "cell_type": "code",
   "execution_count": 35,
   "metadata": {},
   "outputs": [
    {
     "data": {
      "application/vnd.plotly.v1+json": {
       "config": {
        "plotlyServerURL": "https://plotly.com"
       },
       "data": [
        {
         "customdata": [
          [
           2.45,
           3.58
          ],
          [
           4.14,
           4.18
          ],
          [
           2.78,
           3.31
          ],
          [
           2.75,
           4.51
          ],
          [
           6.85,
           4.76
          ],
          [
           4.64,
           4.39
          ],
          [
           3.38,
           4.21
          ],
          [
           4.5,
           3.58
          ],
          [
           3.21,
           4.48
          ],
          [
           4.76,
           4.36
          ],
          [
           1.38,
           3.26
          ],
          [
           2.63,
           2.39
          ],
          [
           6.26,
           5.51
          ],
          [
           4.15,
           3.14
          ],
          [
           3.06,
           3.58
          ],
          [
           5.17,
           4.76
          ],
          [
           0.87,
           2.2
          ],
          [
           5.95,
           5.51
          ],
          [
           4.19,
           4.89
          ],
          [
           3.89,
           3.07
          ],
          [
           5.61,
           4.7
          ],
          [
           2.14,
           5.47
          ],
          [
           4.89,
           3.53
          ],
          [
           5.48,
           4.51
          ],
          [
           3.77,
           4.48
          ],
          [
           4.12,
           4.51
          ],
          [
           5.19,
           6.23
          ],
          [
           3.69,
           4.92
          ],
          [
           1.02,
           1.85
          ],
          [
           3.06,
           3.77
          ],
          [
           1.22,
           2.13
          ],
          [
           6.27,
           3.71
          ],
          [
           3.14,
           3.77
          ],
          [
           2.27,
           3.56
          ],
          [
           3.41,
           4.57
          ],
          [
           3.32,
           3.38
          ],
          [
           5.7,
           4.79
          ],
          [
           5,
           4.21
          ],
          [
           3.77,
           4.86
          ],
          [
           3.79,
           5.73
          ],
          [
           4.11,
           4.13
          ],
          [
           5.48,
           4.1
          ],
          [
           4.7,
           5.16
          ],
          [
           5.57,
           5.58
          ],
          [
           5.45,
           4.15
          ],
          [
           4.55,
           4.51
          ],
          [
           3.05,
           4.24
          ],
          [
           5.29,
           4.04
          ],
          [
           3.32,
           3.14
          ],
          [
           5.13,
           4.48
          ],
          [
           3.42,
           3.26
          ],
          [
           3.14,
           2.89
          ],
          [
           5.16,
           3.98
          ],
          [
           4.7,
           5.37
          ],
          [
           4.03,
           4.51
          ],
          [
           4.26,
           3.79
          ],
          [
           7.11,
           3.09
          ],
          [
           2.95,
           3.74
          ],
          [
           3.73,
           3.56
          ],
          [
           4.5,
           4.07
          ],
          [
           5.06,
           4.54
          ],
          [
           4.52,
           4.21
          ],
          [
           1.61,
           2.76
          ],
          [
           7.06,
           5.58
          ],
          [
           4.35,
           4.33
          ],
          [
           5.35,
           6.03
          ],
          [
           2.96,
           3.79
          ],
          [
           3.2,
           3.51
          ],
          [
           4.18,
           4.1
          ],
          [
           9,
           8.61
          ],
          [
           3.06,
           4.01
          ],
          [
           2.04,
           1.95
          ],
          [
           2.92,
           2.51
          ],
          [
           1.55,
           3.21
          ],
          [
           4.02,
           6.35
          ],
          [
           7.4,
           5.95
          ],
          [
           3.25,
           3.87
          ],
          [
           2.65,
           3.79
          ],
          [
           6.41,
           4.73
          ],
          [
           3.3,
           2.96
          ],
          [
           3.88,
           4.6
          ],
          [
           2.82,
           4.13
          ],
          [
           2.78,
           3.74
          ],
          [
           6.59,
           5.3
          ],
          [
           4.89,
           6.26
          ],
          [
           3.86,
           3.46
          ],
          [
           5.16,
           3.79
          ],
          [
           1.4,
           2.2
          ],
          [
           2.9,
           2.76
          ],
          [
           6,
           5.06
          ],
          [
           3.05,
           5.4
          ],
          [
           3.74,
           3.56
          ],
          [
           5.04,
           4.54
          ],
          [
           4.3,
           3.16
          ],
          [
           4.1,
           5.4
          ],
          [
           2.86,
           4.96
          ],
          [
           4.65,
           3.63
          ],
          [
           6.54,
           4.86
          ],
          [
           7.38,
           4.64
          ],
          [
           2.75,
           4.24
          ],
          [
           4.72,
           4.92
          ],
          [
           4.42,
           4.07
          ],
          [
           5.08,
           4.07
          ],
          [
           4.35,
           4.1
          ],
          [
           7.4,
           8.82
          ],
          [
           4.33,
           4.48
          ],
          [
           2.4,
           2.84
          ],
          [
           2.82,
           4.7
          ],
          [
           2.17,
           2.63
          ],
          [
           1.94,
           2.89
          ],
          [
           3.69,
           4.18
          ],
          [
           3.59,
           3.19
          ],
          [
           3.31,
           4.04
          ],
          [
           4.19,
           5.88
          ],
          [
           2.69,
           3.41
          ],
          [
           5.88,
           3.46
          ],
          [
           2.13,
           3.43
          ],
          [
           6.98,
           3.96
          ],
          [
           5.13,
           4.67
          ],
          [
           3.99,
           4.27
          ],
          [
           5.86,
           4.92
          ],
          [
           2.55,
           3.05
          ],
          [
           3.32,
           4.67
          ],
          [
           4.29,
           4.6
          ],
          [
           4.62,
           5.26
          ],
          [
           7.71,
           6.26
          ],
          [
           4.86,
           3.43
          ],
          [
           2.23,
           2.91
          ],
          [
           3.31,
           4.33
          ],
          [
           4.72,
           5.4
          ],
          [
           2.08,
           2.37
          ],
          [
           8.57,
           5.02
          ],
          [
           4.46,
           4.57
          ],
          [
           5.17,
           4.07
          ],
          [
           4.15,
           4.18
          ],
          [
           3.14,
           3.66
          ],
          [
           4,
           4.01
          ],
          [
           5.51,
           4.01
          ],
          [
           4.42,
           3.56
          ],
          [
           3.33,
           4.89
          ],
          [
           3.9,
           4.42
          ],
          [
           3.03,
           3.53
          ],
          [
           4.52,
           4.21
          ],
          [
           3.28,
           3.85
          ],
          [
           4.77,
           4.7
          ],
          [
           3.65,
           3.46
          ],
          [
           2.21,
           3.31
          ],
          [
           3.96,
           4.18
          ],
          [
           3.78,
           4.7
          ],
          [
           6.19,
           6.26
          ],
          [
           3.72,
           4.86
          ],
          [
           5.22,
           5.12
          ],
          [
           5.32,
           3.96
          ],
          [
           4.59,
           5.12
          ],
          [
           4.45,
           3.26
          ],
          [
           1.79,
           3.16
          ],
          [
           3.07,
           4.1
          ],
          [
           3.45,
           4.33
          ],
          [
           3.59,
           4.51
          ],
          [
           3.16,
           3.98
          ],
          [
           3.93,
           3.66
          ],
          [
           5.44,
           5.06
          ],
          [
           6.4,
           5.09
          ],
          [
           1.03,
           1.99
          ],
          [
           1.86,
           4.24
          ],
          [
           4.99,
           4.42
          ],
          [
           6.51,
           4.7
          ],
          [
           3.12,
           3.74
          ],
          [
           4.43,
           4.73
          ],
          [
           3.24,
           2.16
          ],
          [
           3.57,
           4.21
          ],
          [
           3.89,
           4.13
          ],
          [
           4.97,
           4.92
          ],
          [
           5.73,
           6.11
          ],
          [
           2.63,
           3.23
          ],
          [
           3.78,
           3.21
          ],
          [
           6.65,
           6.43
          ],
          [
           5.01,
           4.45
          ],
          [
           3.76,
           3.23
          ],
          [
           4.76,
           5.4
          ],
          [
           3.98,
           4.54
          ],
          [
           4.67,
           4.89
          ],
          [
           2.59,
           3.41
          ],
          [
           4.15,
           3.96
          ],
          [
           2.39,
           3
          ],
          [
           1.81,
           3.79
          ],
          [
           4.01,
           5.51
          ],
          [
           5.05,
           3.87
          ],
          [
           3.79,
           4.24
          ],
          [
           6.85,
           5.37
          ],
          [
           4.23,
           3.36
          ],
          [
           5.4,
           7.71
          ],
          [
           4.96,
           5.09
          ],
          [
           3.32,
           5.51
          ],
          [
           3.19,
           2.76
          ],
          [
           4.39,
           4.48
          ],
          [
           2.79,
           2.29
          ],
          [
           3.03,
           3.87
          ],
          [
           5.97,
           4.54
          ],
          [
           4.97,
           4.1
          ],
          [
           6.34,
           4.76
          ],
          [
           3.9,
           4.18
          ],
          [
           4.36,
           5.37
          ],
          [
           3.73,
           3.38
          ],
          [
           4.82,
           3
          ],
          [
           2.59,
           3.19
          ],
          [
           3.22,
           4.3
          ],
          [
           2.55,
           3.48
          ],
          [
           4.13,
           4.64
          ],
          [
           3.15,
           2.59
          ],
          [
           3.33,
           3.66
          ],
          [
           3.43,
           3.98
          ],
          [
           7.04,
           6.11
          ],
          [
           4.47,
           5.54
          ],
          [
           4.59,
           5.37
          ],
          [
           8.45,
           8.77
          ],
          [
           6.29,
           5.84
          ],
          [
           6.29,
           5.73
          ],
          [
           11.57,
           5.88
          ],
          [
           4.19,
           3.85
          ],
          [
           5.48,
           6.68
          ],
          [
           3.67,
           5.44
          ],
          [
           2.57,
           2.82
          ],
          [
           3.14,
           2.78
          ],
          [
           3.1,
           4.6
          ],
          [
           3.49,
           3.56
          ],
          [
           4.85,
           4.92
          ],
          [
           6.75,
           7.52
          ],
          [
           3.72,
           4.76
          ],
          [
           6.29,
           4.89
          ],
          [
           4.11,
           4.36
          ],
          [
           3.75,
           4.21
          ],
          [
           5.19,
           4.57
          ],
          [
           4.63,
           3.63
          ],
          [
           4.43,
           6.8
          ],
          [
           3.78,
           4.48
          ],
          [
           3.34,
           3.56
          ],
          [
           6.05,
           4.73
          ],
          [
           4.64,
           4.64
          ],
          [
           6.06,
           4.67
          ],
          [
           4.73,
           4.57
          ],
          [
           4.24,
           3.09
          ],
          [
           4.5,
           4.15
          ],
          [
           5.5,
           3.85
          ],
          [
           3.16,
           3.07
          ],
          [
           5.82,
           4.96
          ],
          [
           3.38,
           4.24
          ],
          [
           6.18,
           6.26
          ],
          [
           3.7,
           4.48
          ],
          [
           5.11,
           4.33
          ],
          [
           1.52,
           2.98
          ],
          [
           3.8,
           4.39
          ],
          [
           4.03,
           4.7
          ],
          [
           5.7,
           4.76
          ],
          [
           2.51,
           2.74
          ],
          [
           4.86,
           4.45
          ],
          [
           2.63,
           3.36
          ],
          [
           5.11,
           5.37
          ],
          [
           6.15,
           4.45
          ],
          [
           1.16,
           3.09
          ],
          [
           2.56,
           3.9
          ],
          [
           3.78,
           3.74
          ],
          [
           3.62,
           4.73
          ],
          [
           5.79,
           4.99
          ],
          [
           5.17,
           6.03
          ],
          [
           3.63,
           3.28
          ],
          [
           2.91,
           3.61
          ],
          [
           4.14,
           4.96
          ],
          [
           3.06,
           4.83
          ],
          [
           4.25,
           3.74
          ],
          [
           3.66,
           4.13
          ],
          [
           3.38,
           3.53
          ],
          [
           2.4,
           4.21
          ],
          [
           2.37,
           3.41
          ],
          [
           4.91,
           3.58
          ],
          [
           4.58,
           3.02
          ],
          [
           6.58,
           5.37
          ],
          [
           3.14,
           4.04
          ],
          [
           2,
           3.56
          ],
          [
           4.54,
           3.61
          ],
          [
           3.46,
           3.05
          ],
          [
           2.29,
           4.01
          ],
          [
           3.2,
           4.42
          ],
          [
           7.79,
           8.15
          ],
          [
           1.69,
           4.48
          ],
          [
           3.16,
           3.07
          ],
          [
           3.19,
           2.76
          ],
          [
           2.83,
           3.31
          ],
          [
           4.98,
           4.89
          ],
          [
           1.55,
           2.82
          ],
          [
           5.61,
           5.58
          ],
          [
           4.27,
           3.74
          ],
          [
           2.74,
           3.61
          ],
          [
           3.5,
           3.79
          ],
          [
           3.44,
           2.87
          ],
          [
           3.96,
           4.01
          ],
          [
           6.26,
           4.86
          ],
          [
           4.86,
           7.75
          ],
          [
           3.76,
           3.51
          ],
          [
           4.53,
           4.51
          ],
          [
           3.57,
           3.74
          ],
          [
           5.23,
           4.04
          ],
          [
           3.51,
           3.31
          ],
          [
           1.83,
           3.28
          ],
          [
           3.79,
           2.93
          ],
          [
           2.92,
           3.38
          ],
          [
           4.41,
           3.9
          ],
          [
           2.48,
           4.89
          ],
          [
           6.51,
           4.86
          ],
          [
           9.82,
           7.85
          ],
          [
           2.41,
           3.53
          ],
          [
           4.44,
           4.39
          ],
          [
           7.59,
           5.3
          ],
          [
           2.06,
           3.02
          ],
          [
           2.83,
           2.87
          ],
          [
           4.28,
           4.57
          ],
          [
           4.4,
           2.74
          ],
          [
           4.88,
           4.48
          ],
          [
           2.36,
           3.48
          ],
          [
           4.84,
           5.58
          ],
          [
           6.45,
           5.99
          ],
          [
           5.22,
           3.96
          ],
          [
           2.14,
           3.33
          ],
          [
           3.33,
           3.98
          ],
          [
           4.25,
           3.98
          ],
          [
           6.33,
           6.72
          ],
          [
           2.62,
           2.82
          ],
          [
           4.71,
           4.13
          ],
          [
           3.04,
           2.89
          ],
          [
           2.13,
           3
          ],
          [
           2.7,
           3.43
          ],
          [
           7.33,
           6.11
          ],
          [
           3.03,
           2.98
          ],
          [
           2.2,
           2.09
          ],
          [
           2.87,
           3.02
          ],
          [
           4.91,
           4.27
          ],
          [
           5.62,
           4.89
          ],
          [
           3.77,
           2.98
          ],
          [
           4.58,
           3.58
          ],
          [
           2.52,
           3.19
          ],
          [
           4.16,
           4.45
          ],
          [
           2.66,
           2.98
          ],
          [
           2.6,
           4.15
          ],
          [
           4.54,
           2.63
          ],
          [
           3.99,
           3.51
          ],
          [
           4.31,
           4.15
          ],
          [
           3.34,
           3.96
          ],
          [
           2.74,
           2.39
          ],
          [
           7.18,
           5.26
          ],
          [
           3.99,
           4.42
          ],
          [
           3.2,
           3.69
          ],
          [
           6.66,
           6.85
          ],
          [
           3.11,
           1.69
          ],
          [
           4.91,
           3.51
          ],
          [
           4.41,
           4.48
          ],
          [
           5,
           4.92
          ],
          [
           3.38,
           3.61
          ],
          [
           5.7,
           5.47
          ],
          [
           4.45,
           4.79
          ],
          [
           2.75,
           3
          ],
          [
           4.5,
           4.07
          ],
          [
           2.71,
           3.82
          ],
          [
           5.4,
           5.26
          ],
          [
           4.79,
           2.87
          ],
          [
           4.15,
           3.46
          ],
          [
           4.83,
           4.27
          ],
          [
           2.96,
           3.33
          ],
          [
           3.35,
           4.79
          ],
          [
           4.3,
           4.24
          ],
          [
           0.7,
           2.45
          ],
          [
           3.75,
           3.41
          ],
          [
           4.07,
           3.79
          ],
          [
           3.66,
           3.05
          ],
          [
           6.11,
           5.33
          ],
          [
           2.88,
           3.71
          ],
          [
           4.54,
           4.01
          ],
          [
           9.62,
           7.06
          ],
          [
           2.81,
           2.65
          ],
          [
           3.84,
           4.48
          ],
          [
           3.07,
           3.05
          ],
          [
           7.16,
           5.62
          ],
          [
           3.26,
           3.82
          ],
          [
           6.05,
           5.37
          ],
          [
           4.01,
           3.9
          ],
          [
           4.22,
           4.6
          ],
          [
           3.68,
           3.71
          ],
          [
           3.14,
           3.51
          ],
          [
           2.78,
           2.84
          ],
          [
           3.38,
           4.96
          ],
          [
           7.26,
           6.03
          ],
          [
           5.18,
           6.39
          ],
          [
           5.2,
           4.83
          ],
          [
           4.35,
           3.85
          ],
          [
           2.76,
           3.9
          ],
          [
           5.3,
           5.06
          ],
          [
           2.09,
           3.43
          ],
          [
           3.86,
           4.04
          ],
          [
           4.78,
           3.85
          ],
          [
           3.72,
           3.56
          ],
          [
           5.92,
           3.82
          ],
          [
           2.73,
           2.87
          ],
          [
           4.94,
           4.24
          ],
          [
           2.84,
           4.15
          ],
          [
           7.66,
           8.2
          ],
          [
           6.66,
           5.23
          ],
          [
           2.88,
           2.84
          ],
          [
           4,
           3.98
          ],
          [
           4.56,
           4.13
          ],
          [
           7.12,
           5.76
          ],
          [
           6.25,
           4.73
          ],
          [
           7.22,
           5.62
          ],
          [
           3.65,
           3.43
          ],
          [
           3.11,
           3.58
          ],
          [
           3.63,
           5.84
          ],
          [
           3.54,
           3.74
          ],
          [
           6.78,
           5.8
          ],
          [
           4.75,
           5.54
          ],
          [
           4.04,
           3.23
          ],
          [
           5.23,
           4.57
          ],
          [
           1.73,
           2.93
          ],
          [
           3.94,
           4.48
          ],
          [
           4.42,
           5.09
          ],
          [
           4.96,
           5.69
          ],
          [
           2.68,
           3.58
          ],
          [
           2.84,
           3.23
          ],
          [
           3.14,
           4.15
          ],
          [
           4.09,
           4.57
          ],
          [
           4.74,
           2.78
          ],
          [
           4.53,
           5.02
          ],
          [
           5.67,
           6.47
          ],
          [
           5.29,
           4.51
          ],
          [
           3.31,
           3.9
          ],
          [
           2.37,
           3.71
          ],
          [
           2.67,
           1.85
          ]
         ],
         "hovertemplate": "<b>%{hovertext}</b><br><br>xERA_adj=%{x}<br>sxERA_adj=%{y}<br>ERA=%{customdata[0]}<br>xERA=%{customdata[1]}<br>GB%=%{marker.color}<extra></extra>",
         "hovertext": [
          "Andrew Abbott",
          "Albert Abreu",
          "Bryan Abreu",
          "Jason Adam",
          "Keegan Akin",
          "Sandy Alcantara",
          "Scott Alexander",
          "Tyler Alexander",
          "Logan Allen",
          "Yency Almonte",
          "Jose Alvarado",
          "Adbert Alzolay",
          "Chase Anderson",
          "Grant Anderson",
          "Nick Anderson",
          "Tyler Anderson",
          "Shawn Armstrong",
          "Graham Ashcraft",
          "Javier Assad",
          "Bryan Baker",
          "Tanner Banks",
          "Daniel Bard",
          "Scott Barlow",
          "Matt Barnes",
          "Jaime Barria",
          "Chris Bassitt",
          "Peyton Battenfield",
          "Mike Baumann",
          "Felix Bautista",
          "Tristan Beck",
          "David Bednar",
          "Jalen Beeks",
          "Brayan Bello",
          "Brennan Bernardino",
          "Jose Berrios",
          "Tanner Bibee",
          "Phil Bickford",
          "Osvaldo Bido",
          "Shane Bieber",
          "Brandon Bielak",
          "Jake Bird",
          "Paul Blackburn",
          "Ronel Blanco",
          "Richard Bleier",
          "Matthew Boyd",
          "Cody Bradford",
          "Kyle Bradish",
          "Taj Bradley",
          "Matt Brash",
          "Ryan Brasier",
          "Huascar Brazoban",
          "John Brebbia",
          "Jeff Brigham",
          "Jhony Brito",
          "Connor Brogdon",
          "Hunter Brown",
          "Aaron Bummer",
          "Brock Burke",
          "Corbin Burnes",
          "Edward Cabrera",
          "Genesis Cabrera",
          "Griffin Canning",
          "Yennier Cano",
          "Matt Carasiti",
          "Drew Carlton",
          "Carlos Carrasco",
          "Luis Castillo",
          "Miguel Castro",
          "Dylan Cease",
          "Luis Cessa",
          "Andrew Chafin",
          "Aroldis Chapman",
          "JT Chargois",
          "Jesse Chavez",
          "Yonny Chirinos",
          "Adam Cimber",
          "Jose Cisnero",
          "Aaron Civale",
          "Taylor Clarke",
          "Emmanuel Clase",
          "Mike Clevinger",
          "Alex Cobb",
          "Gerrit Cole",
          "Roansy Contreras",
          "Patrick Corbin",
          "Jimmy Cordero",
          "Nestor Cortes",
          "Tom Cosgrove",
          "Danny Coulombe",
          "Dylan Covey",
          "Austin Cox",
          "Kutter Crawford",
          "Cooper Criswell",
          "Fernando Cruz",
          "Jose Cuas",
          "Xzavion Curry",
          "Yu Darvish",
          "Tucker Davidson",
          "Zach Davies",
          "Enyel De Los Santos",
          "Anthony DeSclafani",
          "Reid Detmers",
          "Chris Devenski",
          "Jake Diekman",
          "Dylan Dodd",
          "Seranthony Dominguez",
          "Camilo Doval",
          "Dane Dunning",
          "Jhoan Duran",
          "Alexis Diaz",
          "Carl Edwards Jr.",
          "Zach Eflin",
          "Bryce Elder",
          "Mason Englert",
          "Nathan Eovaldi",
          "Lucas Erceg",
          "Carlos Estevez",
          "Alex Faedo",
          "Bailey Falter",
          "Buck Farmer",
          "Ryan Feltner",
          "Caleb Ferguson",
          "Kyle Finnegan",
          "Jack Flaherty",
          "Josh Fleming",
          "Chris Flexen",
          "Dylan Floro",
          "Jason Foley",
          "J.P. France",
          "Kyle Freeland",
          "Max Fried",
          "Shintaro Fujinami",
          "Michael Fulmer",
          "Hunter Gaddis",
          "Giovanny Gallegos",
          "Zac Gallen",
          "Luis Garcia",
          "Luis Garcia",
          "Yimi Garcia",
          "Amir Garrett",
          "Braxton Garrett",
          "Kevin Gausman",
          "Domingo German",
          "Ian Gibaut",
          "Kyle Gibson",
          "Logan Gilbert",
          "Kevin Ginkel",
          "Lucas Giolito",
          "Tyler Glasnow",
          "Austin Gomber",
          "Tony Gonsolin",
          "Marco Gonzales",
          "Victor Gonzalez",
          "MacKenzie Gore",
          "Trevor Gott",
          "Brusdar Graterol",
          "Kendall Graveman",
          "Jon Gray",
          "Josiah Gray",
          "Sonny Gray",
          "Hunter Greene",
          "Zack Greinke",
          "Michael Grove",
          "Josh Hader",
          "Ian Hamilton",
          "Brad Hand",
          "Hogan Harris",
          "Hunter Harvey",
          "Andrew Heaney",
          "Ryan Helsley",
          "Kyle Hendricks",
          "Tommy Henry",
          "Sam Hentges",
          "Kevin Herget",
          "Jose Hernandez",
          "Carlos Hernandez",
          "Jonathan Hernandez",
          "Tim Herrin",
          "Jordan Hicks",
          "Rich Hill",
          "Tim Hill",
          "Bryan Hoeing",
          "Jeff Hoffman",
          "Colin Holderman",
          "Clay Holmes",
          "Tyler Holton",
          "Brent Honeywell",
          "Tanner Houck",
          "Adrian Houser",
          "Tommy Hunter",
          "Raisel Iglesias",
          "Cole Irvin",
          "Jake Irvin",
          "Drey Jameson",
          "Kenley Jansen",
          "Cristian Javier",
          "Griffin Jax",
          "Joe Jimenez",
          "Pierce Johnson",
          "Jakob Junis",
          "James Kaprielian",
          "James Karinchak",
          "Brad Keller",
          "Mitch Keller",
          "Joe Kelly",
          "Kevin Kelly",
          "Merrill Kelly",
          "Clayton Kershaw",
          "Yusei Kikuchi",
          "Craig Kimbrel",
          "Michael King",
          "George Kirby",
          "Corey Kluber",
          "Michael Kopech",
          "Dean Kremer",
          "Chad Kuhl",
          "Jimmy Lambert",
          "Peter Lambert",
          "Dinelson Lamet",
          "Alex Lange",
          "Eric Lauer",
          "Derek Law",
          "Justin Lawrence",
          "Jose Leclerc",
          "Dylan Lee",
          "Mark Leiter Jr.",
          "Dominic Leone",
          "Matthew Liberatore",
          "Ben Lively",
          "Nick Lodolo",
          "Sammy Long",
          "Michael Lorenzen",
          "Aaron Loup",
          "Richard Lovelady",
          "Joey Lucchesi",
          "Seth Lugo",
          "Jesus Luzardo",
          "Jordan Lyles",
          "Daniel Lynch",
          "Lance Lynn",
          "Jorge Lopez",
          "Pablo Lopez",
          "Reynaldo Lopez",
          "Kenta Maeda",
          "Tyler Mahle",
          "Sean Manaea",
          "Matt Manning",
          "Alek Manoah",
          "Ron Marinaccio",
          "Yunior Marte",
          "Chris Martin",
          "Nick Martinez",
          "Seth Martinez",
          "Adrian Martinez",
          "Phil Maton",
          "Steven Matz",
          "Dustin May",
          "Trevor May",
          "Mike Mayers",
          "Tim Mayza",
          "Shane McClanahan",
          "Scott McGough",
          "Collin McHugh",
          "Luis Medina",
          "Tylor Megill",
          "Julian Merryweather",
          "Keynan Middleton",
          "Miles Mikolas",
          "Wade Miley",
          "Bobby Miller",
          "Bryce Miller",
          "Mason Miller",
          "Shelby Miller",
          "Hoby Milner",
          "A.J. Minter",
          "Sam Moll",
          "Rafael Montero",
          "Jordan Montgomery",
          "Matt Moore",
          "Jovani Moran",
          "Dauri Moreta",
          "Eli Morgan",
          "Charlie Morton",
          "Kyle Muller",
          "Chris Murphy",
          "Joe Musgrove",
          "Andrew Nardi",
          "Kyle Nelson",
          "Ryne Nelson",
          "Hector Neris",
          "Stephen Nogosek",
          "Aaron Nola",
          "Bailey Ober",
          "Shohei Ohtani",
          "Steven Okert",
          "Reese Olson",
          "Kaleb Ort",
          "Luis Ortiz",
          "Adam Ottavino",
          "Johan Oviedo",
          "Emilio Pagan",
          "Andre Pallante",
          "James Paxton",
          "Joel Payamps",
          "Nate Pearson",
          "Elvis Peguero",
          "Freddy Peralta",
          "Wandy Peralta",
          "David Peterson",
          "Brandon Pfaadt",
          "Evan Phillips",
          "Nick Pivetta",
          "Zach Plesac",
          "Colin Poche",
          "Ryan Pressly",
          "Austin Pruitt",
          "A.J. Puk",
          "Cionel Perez",
          "Eury Perez",
          "Martin Perez",
          "Cal Quantrill",
          "Cole Ragans",
          "Brooks Raley",
          "Nick Ramirez",
          "Yohan Ramirez",
          "Erasmo Ramirez",
          "Drew Rasmussen",
          "Colin Rea",
          "Trevor Richards",
          "David Robertson",
          "Eduardo Rodriguez",
          "Grayson Rodriguez",
          "Taylor Rogers",
          "Tyler Rogers",
          "Jordan Romano",
          "Michael Rucker",
          "Jose Ruiz",
          "Joe Ryan",
          "Chris Sale",
          "Nick Sandlin",
          "Patrick Sandoval",
          "Gregory Santos",
          "Tayler Saucedo",
          "Josh Sborz",
          "Max Scherzer",
          "Clarke Schmidt",
          "Jesse Scholtens",
          "Tanner Scott",
          "Connor Seabold",
          "JP Sears",
          "Kodai Senga",
          "Luis Severino",
          "Paul Sewald",
          "Emmet Sheehan",
          "Chasen Shreve",
          "Jared Shuster",
          "Lucas Sims",
          "Brady Singer",
          "Drew Smith",
          "Will Smith",
          "Drew Smyly",
          "Blake Snell",
          "Mike Soroka",
          "Gregory Soto",
          "Gabe Speier",
          "Ryne Stanek",
          "Justin Steele",
          "Trevor Stephan",
          "Robert Stephenson",
          "Brock Stewart",
          "Matt Strahm",
          "Chris Stratton",
          "Spencer Strider",
          "Ross Stripling",
          "Marcus Stroman",
          "Peter Strzelecki",
          "Jose Suarez",
          "Brent Suter",
          "Ranger Suarez",
          "Erik Swanson",
          "Noah Syndergaard",
          "Cristopher Sanchez",
          "Jameson Taillon",
          "Julio Teheran",
          "Keegan Thompson",
          "Mason Thompson",
          "Michael Tonkin",
          "Justin Topa",
          "Touki Toussaint",
          "Spencer Turnbull",
          "Duane Underwood Jr.",
          "Jose Urquidy",
          "Julio Urias",
          "Framber Valdez",
          "Louie Varland",
          "Andrew Vasquez",
          "Vince Velasquez",
          "Drew VerHagen",
          "Justin Verlander",
          "Alex Vesia",
          "Will Vest",
          "Austin Voth",
          "Michael Wacha",
          "Adam Wainwright",
          "Ken Waldichuk",
          "Ryan Walker",
          "Taijuan Walker",
          "Andrew Wantz",
          "Thad Ward",
          "Ryan Weathers",
          "Luke Weaver",
          "Jacob Webb",
          "Logan Webb",
          "Jordan Weems",
          "Tyler Wells",
          "Joey Wentz",
          "Hayden Wesneski",
          "Zack Wheeler",
          "Garrett Whitlock",
          "Devin Williams",
          "Gavin Williams",
          "Trevor Williams",
          "Brandon Williamson",
          "Bryse Wilson",
          "Steven Wilson",
          "Josh Winckowski",
          "Keaton Winn",
          "Bryan Woo",
          "Alex Wood",
          "Jake Woodford",
          "Ryan Yarbrough",
          "Kirby Yates",
          "Alex Young",
          "Jacob deGrom"
         ],
         "legendgroup": "",
         "marker": {
          "color": [
           0.203,
           0.46399999999999997,
           0.374,
           0.441,
           0.33799999999999997,
           0.504,
           0.6629999999999999,
           0.32,
           0.445,
           0.429,
           0.552,
           0.47100000000000003,
           0.36700000000000005,
           0.455,
           0.41700000000000004,
           0.305,
           0.426,
           0.486,
           0.44,
           0.337,
           0.33799999999999997,
           0.39799999999999996,
           0.47200000000000003,
           0.493,
           0.38799999999999996,
           0.423,
           0.43,
           0.42100000000000004,
           0.381,
           0.43,
           0.366,
           0.435,
           0.5539999999999999,
           0.563,
           0.45799999999999996,
           0.38,
           0.293,
           0.341,
           0.465,
           0.5,
           0.5539999999999999,
           0.37799999999999995,
           0.32799999999999996,
           0.514,
           0.38799999999999996,
           0.22,
           0.445,
           0.358,
           0.47,
           0.361,
           0.523,
           0.271,
           0.397,
           0.465,
           0.37200000000000005,
           0.544,
           0.5529999999999999,
           0.342,
           0.41200000000000003,
           0.541,
           0.384,
           0.457,
           0.625,
           0.573,
           0.439,
           0.478,
           0.408,
           0.40399999999999997,
           0.392,
           0.38299999999999995,
           0.382,
           0.508,
           0.612,
           0.485,
           0.43200000000000005,
           0.479,
           0.46299999999999997,
           0.389,
           0.33299999999999996,
           0.563,
           0.305,
           0.575,
           0.375,
           0.377,
           0.447,
           0.5579999999999999,
           0.259,
           0.45,
           0.43799999999999994,
           0.521,
           0.321,
           0.385,
           0.446,
           0.375,
           0.382,
           0.308,
           0.449,
           0.47100000000000003,
           0.457,
           0.45,
           0.42100000000000004,
           0.32799999999999996,
           0.46299999999999997,
           0.507,
           0.366,
           0.451,
           0.54,
           0.451,
           0.654,
           0.38299999999999995,
           0.46,
           0.528,
           0.5429999999999999,
           0.39899999999999997,
           0.518,
           0.47700000000000004,
           0.309,
           0.33299999999999996,
           0.406,
           0.318,
           0.45299999999999996,
           0.539,
           0.45,
           0.462,
           0.589,
           0.42200000000000004,
           0.536,
           0.602,
           0.462,
           0.39,
           0.609,
           0.386,
           0.355,
           0.273,
           0.355,
           0.385,
           0.264,
           0.573,
           0.48200000000000004,
           0.475,
           0.474,
           0.43,
           0.38299999999999995,
           0.37200000000000005,
           0.469,
           0.41100000000000003,
           0.563,
           0.34700000000000003,
           0.455,
           0.425,
           0.39399999999999996,
           0.406,
           0.5,
           0.4,
           0.382,
           0.625,
           0.402,
           0.401,
           0.42100000000000004,
           0.491,
           0.326,
           0.44,
           0.409,
           0.418,
           0.507,
           0.33299999999999996,
           0.386,
           0.436,
           0.361,
           0.431,
           0.441,
           0.364,
           0.622,
           0.364,
           0.37799999999999995,
           0.325,
           0.419,
           0.40299999999999997,
           0.57,
           0.373,
           0.608,
           0.467,
           0.528,
           0.527,
           0.604,
           0.474,
           0.46799999999999997,
           0.49700000000000005,
           0.47600000000000003,
           0.46799999999999997,
           0.467,
           0.348,
           0.431,
           0.45799999999999996,
           0.29600000000000004,
           0.27,
           0.573,
           0.25,
           0.27,
           0.431,
           0.304,
           0.276,
           0.575,
           0.45299999999999996,
           0.569,
           0.496,
           0.452,
           0.47200000000000003,
           0.37,
           0.354,
           0.474,
           0.449,
           0.302,
           0.355,
           0.353,
           0.306,
           0.324,
           0.436,
           0.43799999999999994,
           0.456,
           0.254,
           0.444,
           0.5329999999999999,
           0.247,
           0.396,
           0.483,
           0.33799999999999997,
           0.42100000000000004,
           0.377,
           0.46,
           0.48100000000000004,
           0.428,
           0.44,
           0.475,
           0.39399999999999996,
           0.46399999999999997,
           0.425,
           0.33399999999999996,
           0.38799999999999996,
           0.385,
           0.49,
           0.395,
           0.384,
           0.34299999999999997,
           0.377,
           0.363,
           0.366,
           0.376,
           0.402,
           0.5,
           0.524,
           0.5710000000000001,
           0.363,
           0.35600000000000004,
           0.43799999999999994,
           0.47200000000000003,
           0.452,
           0.31,
           0.42700000000000005,
           0.5660000000000001,
           0.439,
           0.526,
           0.447,
           0.46399999999999997,
           0.435,
           0.37,
           0.537,
           0.387,
           0.405,
           0.478,
           0.33299999999999996,
           0.20800000000000002,
           0.368,
           0.524,
           0.295,
           0.505,
           0.402,
           0.45899999999999996,
           0.34299999999999997,
           0.446,
           0.36200000000000004,
           0.431,
           0.479,
           0.478,
           0.473,
           0.439,
           0.414,
           0.395,
           0.366,
           0.36700000000000005,
           0.377,
           0.414,
           0.316,
           0.449,
           0.26,
           0.43,
           0.3,
           0.478,
           0.5539999999999999,
           0.462,
           0.375,
           0.74,
           0.385,
           0.45,
           0.32,
           0.5,
           0.392,
           0.632,
           0.5489999999999999,
           0.267,
           0.435,
           0.32299999999999995,
           0.512,
           0.316,
           0.626,
           0.385,
           0.414,
           0.5329999999999999,
           0.32799999999999996,
           0.41600000000000004,
           0.41100000000000003,
           0.415,
           0.386,
           0.513,
           0.604,
           0.431,
           0.526,
           0.46,
           0.3,
           0.42700000000000005,
           0.413,
           0.413,
           0.366,
           0.493,
           0.389,
           0.529,
           0.379,
           0.325,
           0.381,
           0.47600000000000003,
           0.51,
           0.54,
           0.6,
           0.535,
           0.313,
           0.434,
           0.377,
           0.489,
           0.32299999999999995,
           0.271,
           0.465,
           0.38299999999999995,
           0.304,
           0.368,
           0.485,
           0.35200000000000004,
           0.295,
           0.474,
           0.299,
           0.247,
           0.344,
           0.426,
           0.5,
           0.479,
           0.563,
           0.315,
           0.488,
           0.42100000000000004,
           0.324,
           0.353,
           0.33299999999999996,
           0.415,
           0.326,
           0.43799999999999994,
           0.584,
           0.39,
           0.32899999999999996,
           0.41700000000000004,
           0.51,
           0.36200000000000004,
           0.396,
           0.541,
           0.34,
           0.42100000000000004,
           0.4,
           0.484,
           0.4,
           0.5870000000000001,
           0.603,
           0.485,
           0.44,
           0.326,
           0.364,
           0.546,
           0.426,
           0.43200000000000005,
           0.303,
           0.426,
           0.392,
           0.364,
           0.449,
           0.344,
           0.337,
           0.35100000000000003,
           0.40700000000000003,
           0.486,
           0.479,
           0.375,
           0.435,
           0.401,
           0.358,
           0.379,
           0.605,
           0.35100000000000003,
           0.318,
           0.379,
           0.39,
           0.41200000000000003,
           0.444,
           0.507,
           0.365,
           0.39399999999999996,
           0.363,
           0.344,
           0.315,
           0.522,
           0.585,
           0.41700000000000004,
           0.439,
           0.5329999999999999,
           0.396,
           0.313,
           0.519,
           0.379
          ],
          "coloraxis": "coloraxis",
          "symbol": "circle"
         },
         "mode": "markers",
         "name": "",
         "orientation": "v",
         "showlegend": false,
         "type": "scatter",
         "x": [
          3.58,
          4.07,
          3.4,
          4.42,
          4.78,
          4.32,
          3.87,
          3.64,
          4.29,
          4.17,
          3.52,
          2.45,
          4.97,
          3.77,
          3.67,
          4.78,
          2.11,
          5.18,
          4.7,
          3.4,
          5.5,
          5.16,
          3.66,
          4.46,
          4.25,
          4.37,
          6.07,
          4.72,
          1.88,
          3.83,
          2.24,
          3.79,
          3.94,
          3.36,
          4.6,
          3.29,
          4.77,
          4.26,
          4.84,
          5.33,
          4.21,
          4.1,
          5.1,
          4.74,
          4.19,
          4.34,
          4.17,
          4.09,
          3.11,
          4.43,
          3.34,
          3.07,
          4.06,
          5.22,
          4.59,
          3.8,
          2.95,
          3.69,
          3.38,
          3.93,
          4.49,
          4.24,
          2.87,
          5.37,
          4.31,
          5.84,
          3.85,
          3.74,
          4.06,
          7.74,
          3.96,
          1.98,
          2.86,
          3.3,
          5.96,
          5.57,
          3.86,
          3.72,
          4.77,
          2.95,
          4.61,
          4.44,
          3.64,
          5.3,
          5.85,
          3.48,
          3.83,
          2.44,
          2.66,
          4.36,
          5.32,
          3.75,
          4.51,
          3.25,
          5.12,
          4.98,
          3.56,
          4.84,
          5.08,
          4.18,
          4.82,
          4.14,
          4.15,
          4.38,
          7.88,
          4.48,
          2.94,
          4.86,
          2.79,
          2.82,
          4.16,
          3.12,
          4.08,
          6.06,
          3.47,
          3.12,
          3.48,
          4.02,
          4.69,
          4.34,
          4.91,
          3.18,
          4.44,
          4.76,
          5.08,
          6,
          3.71,
          3,
          4.25,
          5.28,
          2.39,
          4.94,
          4.48,
          4.12,
          4.16,
          3.73,
          4.17,
          3.95,
          3.87,
          4.88,
          4.55,
          3.69,
          4.15,
          3.77,
          4.6,
          3.6,
          3.18,
          4.45,
          4.13,
          5.71,
          4.81,
          5.06,
          3.84,
          5.06,
          3.45,
          3.02,
          4.08,
          4.49,
          4.51,
          4.05,
          3.73,
          5.02,
          5.04,
          1.96,
          4.18,
          4.6,
          4.36,
          3.78,
          4.74,
          2.46,
          3.86,
          4.28,
          5.02,
          5.83,
          3.51,
          3.52,
          6.09,
          4.7,
          3.17,
          5.38,
          4.43,
          4.68,
          3.46,
          3.86,
          3.09,
          3.58,
          5.09,
          3.9,
          4.27,
          5.02,
          3.43,
          6.81,
          5.05,
          5.38,
          2.83,
          4.51,
          2.47,
          4.04,
          4.62,
          4.38,
          4.76,
          4.27,
          5.25,
          3.63,
          2.95,
          3.53,
          4.3,
          3.55,
          4.45,
          2.7,
          3.66,
          3.8,
          5.92,
          5.35,
          5.48,
          8.2,
          5.63,
          4.89,
          5.64,
          4.02,
          6.46,
          5.49,
          2.83,
          3.01,
          4.67,
          3.73,
          4.58,
          6.98,
          4.46,
          4.94,
          4.21,
          4.24,
          4.3,
          3.63,
          6.43,
          4.29,
          3.6,
          4.68,
          4.76,
          4.81,
          4.91,
          3.31,
          4.21,
          3.94,
          3.11,
          4.96,
          4.34,
          6.01,
          4.43,
          4.04,
          2.97,
          4.48,
          4.59,
          4.72,
          3.03,
          4.22,
          3.41,
          5.08,
          4.47,
          3.1,
          3.95,
          3.88,
          4.35,
          4.56,
          5.87,
          3.57,
          3.72,
          4.88,
          4.75,
          3.82,
          4.17,
          3.67,
          4.53,
          3.32,
          3.68,
          3.02,
          5.07,
          4.1,
          3.53,
          3.54,
          3.16,
          3.86,
          4.48,
          7.4,
          3.87,
          3.03,
          2.84,
          3.24,
          4.85,
          2.81,
          5.47,
          3.73,
          3.66,
          4.01,
          3.47,
          4.52,
          4.83,
          7.11,
          3.71,
          4.69,
          3.87,
          3.8,
          3.24,
          3.04,
          3.73,
          3.46,
          4.11,
          4.75,
          4.86,
          6.09,
          3.61,
          4.43,
          5.12,
          3.04,
          3.14,
          4.25,
          2.83,
          4.41,
          3.57,
          5.45,
          5.78,
          3.95,
          3.45,
          3.95,
          4.31,
          6.33,
          2.8,
          4.14,
          2.98,
          3.04,
          3.44,
          5.57,
          3.14,
          2.11,
          3.16,
          4.55,
          4.89,
          3.01,
          3.54,
          3.83,
          4.2,
          3.03,
          4.17,
          2.66,
          3.69,
          4.25,
          4.11,
          2.37,
          5.18,
          4.57,
          3.71,
          6.49,
          1.76,
          3.63,
          4.32,
          4.87,
          4.15,
          5,
          4.89,
          3.07,
          4.33,
          3.99,
          5.34,
          2.92,
          3.53,
          4.47,
          3.28,
          4.48,
          4.03,
          2.58,
          3.5,
          3.75,
          3.2,
          5.3,
          3.85,
          4.06,
          6.63,
          2.58,
          4.45,
          3.15,
          5.43,
          3.84,
          5.23,
          4.13,
          4.48,
          3.83,
          3.71,
          2.81,
          4.87,
          5.87,
          6,
          4.8,
          4,
          3.96,
          5.01,
          3.4,
          4.1,
          3.85,
          3.44,
          4.25,
          2.92,
          4.28,
          4.17,
          7.47,
          5.14,
          2.57,
          3.99,
          4.09,
          5.63,
          4.69,
          5.57,
          3.75,
          3.52,
          5.73,
          3.95,
          5.58,
          5.49,
          3.36,
          4.5,
          3.25,
          4.72,
          5.04,
          5.49,
          3.48,
          3.24,
          3.87,
          4.43,
          3.46,
          5.22,
          6.04,
          4.68,
          4.26,
          3.53,
          1.82
         ],
         "xaxis": "x",
         "y": [
          3.59,
          4.38,
          3.39,
          4.07,
          5.09,
          4.14,
          3.38,
          4.07,
          4.2,
          4.24,
          3.4,
          2.39,
          5.66,
          3.91,
          3.9,
          4.8,
          2.27,
          5.18,
          4.84,
          3.18,
          4.71,
          4.78,
          3.55,
          5.14,
          4.44,
          4.53,
          4.98,
          4.28,
          1.89,
          3.93,
          1.96,
          4.8,
          4.05,
          3.85,
          4.23,
          3.16,
          4.53,
          4.53,
          4.79,
          5.47,
          4.62,
          4.14,
          5,
          5.35,
          4.21,
          4.34,
          4.17,
          4.27,
          3.19,
          4.37,
          3.44,
          2.85,
          3.7,
          4.84,
          4.76,
          3.58,
          3.44,
          3.53,
          3.41,
          3.99,
          4.54,
          4.19,
          3.2,
          4.98,
          4.34,
          5.4,
          3.93,
          4.15,
          4.1,
          7.79,
          3.76,
          2.06,
          3.21,
          3.09,
          5.5,
          7.02,
          3.49,
          3.73,
          4.71,
          3.2,
          4.74,
          4.44,
          3.55,
          5.51,
          5.82,
          3.39,
          3.7,
          2.71,
          2.77,
          4.63,
          5.26,
          3.74,
          5.12,
          2.92,
          5.17,
          4.26,
          3.5,
          5.15,
          4.75,
          3.93,
          4.67,
          3.92,
          3.21,
          4.47,
          7.85,
          4.77,
          3.02,
          4.26,
          2.72,
          2.8,
          4.31,
          3.09,
          4.07,
          5.48,
          3.51,
          3.32,
          3.55,
          3.01,
          4.95,
          4.65,
          4.75,
          3.39,
          4.64,
          4.72,
          5.41,
          6.23,
          4.1,
          3.17,
          4.21,
          4.76,
          2.64,
          4.72,
          4.45,
          4.68,
          4.38,
          3.53,
          3.96,
          4.35,
          3.72,
          4.91,
          4.44,
          3.54,
          4.1,
          3.98,
          4.33,
          3.71,
          3.26,
          4.29,
          3.78,
          5.77,
          4.07,
          5.51,
          4.49,
          4.95,
          4.12,
          3.56,
          3.84,
          4.54,
          4.48,
          3.99,
          3.74,
          5.01,
          4.99,
          1.81,
          3.75,
          4.62,
          4.85,
          3.93,
          4.68,
          2.27,
          3.44,
          4.31,
          5.52,
          6.34,
          3.61,
          3.7,
          6.1,
          4.65,
          3.14,
          5.21,
          5.49,
          4.59,
          3.37,
          4.33,
          3.06,
          3.73,
          5.08,
          3.81,
          4.19,
          4.77,
          3.23,
          6.77,
          4.8,
          5.41,
          2.91,
          4.37,
          2.86,
          4.09,
          4.82,
          4.73,
          4.94,
          4.14,
          5.71,
          3.79,
          3.18,
          3.57,
          3.96,
          3.8,
          4.31,
          2.74,
          3.58,
          3.93,
          6.28,
          5.11,
          5.48,
          7.29,
          6.29,
          4.71,
          5.57,
          3.86,
          6.87,
          5.6,
          2.89,
          3.06,
          4.53,
          3.45,
          4.71,
          6.78,
          4.62,
          5.41,
          4.62,
          3.92,
          4.1,
          3.34,
          6.23,
          4.3,
          3.72,
          4.44,
          4.89,
          4.7,
          5.28,
          3.19,
          4.08,
          4.16,
          2.97,
          5.07,
          4.29,
          6.05,
          3.62,
          3.99,
          3.29,
          4.19,
          4.26,
          4.55,
          3.2,
          4.5,
          3.33,
          5.07,
          4.92,
          3,
          4.08,
          3.84,
          4.49,
          4.81,
          5.68,
          3.38,
          3.5,
          4.42,
          4.19,
          3.78,
          3.89,
          3.41,
          4.38,
          4.01,
          3.92,
          3.17,
          5.36,
          4.22,
          3.48,
          3.35,
          3.25,
          3.67,
          4.42,
          7.37,
          3.23,
          3.12,
          3.15,
          3.19,
          4.59,
          2.73,
          5.79,
          3.63,
          3.35,
          4.03,
          3.25,
          4.38,
          4.13,
          6.9,
          4.35,
          4.51,
          3.81,
          4.22,
          3.22,
          2.88,
          4.3,
          3.35,
          4.15,
          4.83,
          5.03,
          6.58,
          3.45,
          4.16,
          5.26,
          2.93,
          3.13,
          4.46,
          3.22,
          5.04,
          3.5,
          5.46,
          5.08,
          3.65,
          3.48,
          4.2,
          4.62,
          7.03,
          2.92,
          4.11,
          2.98,
          3.02,
          3.56,
          5.79,
          3.42,
          2.26,
          3.52,
          4.45,
          5.33,
          3.13,
          3.38,
          3.65,
          4.33,
          3.3,
          3.91,
          2.74,
          3.7,
          4.27,
          3.97,
          2.41,
          5.23,
          4.57,
          3.68,
          6.45,
          1.88,
          3.25,
          4.73,
          4.54,
          3.72,
          5.12,
          5.02,
          3.18,
          4.14,
          3.89,
          5.36,
          2.85,
          3.79,
          4.23,
          3.42,
          5.18,
          3.84,
          2.96,
          3.56,
          3.64,
          3.07,
          5.4,
          3.69,
          4.01,
          7.14,
          2.68,
          4.8,
          3.11,
          5.58,
          3.88,
          5,
          3.9,
          4.1,
          3.92,
          4.07,
          3.23,
          5.05,
          6.37,
          5.94,
          5.38,
          4.29,
          3.97,
          5.11,
          3.22,
          4.24,
          4.04,
          3.33,
          4.68,
          2.97,
          4.4,
          3.93,
          7.28,
          5.05,
          2.78,
          3.93,
          3.85,
          6.35,
          4.75,
          5.56,
          3.71,
          3.47,
          5.1,
          3.6,
          5.64,
          5.44,
          3.22,
          4.79,
          2.97,
          4.66,
          5.12,
          5.03,
          3.56,
          3.43,
          4.28,
          5.11,
          3.65,
          4.93,
          6.4,
          4.75,
          4.2,
          3.22,
          1.98
         ],
         "yaxis": "y"
        },
        {
         "hovertemplate": "<b>OLS trendline</b><br>sxERA_adj = 0.969058 * xERA_adj + 0.150256<br>R<sup>2</sup>=0.911202<br><br>xERA_adj=%{x}<br>sxERA_adj=%{y} <b>(trend)</b><extra></extra>",
         "legendgroup": "",
         "marker": {
          "symbol": "circle"
         },
         "mode": "lines",
         "name": "",
         "showlegend": false,
         "type": "scatter",
         "x": [
          1.76,
          1.82,
          1.88,
          1.96,
          1.98,
          2.11,
          2.11,
          2.24,
          2.37,
          2.39,
          2.44,
          2.45,
          2.46,
          2.47,
          2.57,
          2.58,
          2.58,
          2.66,
          2.66,
          2.7,
          2.79,
          2.8,
          2.81,
          2.81,
          2.82,
          2.83,
          2.83,
          2.83,
          2.84,
          2.86,
          2.87,
          2.92,
          2.92,
          2.94,
          2.95,
          2.95,
          2.95,
          2.97,
          2.98,
          3,
          3.01,
          3.01,
          3.02,
          3.02,
          3.03,
          3.03,
          3.03,
          3.04,
          3.04,
          3.04,
          3.07,
          3.07,
          3.09,
          3.1,
          3.11,
          3.11,
          3.12,
          3.12,
          3.14,
          3.14,
          3.15,
          3.16,
          3.16,
          3.17,
          3.18,
          3.18,
          3.2,
          3.24,
          3.24,
          3.24,
          3.25,
          3.25,
          3.28,
          3.29,
          3.3,
          3.31,
          3.32,
          3.34,
          3.36,
          3.36,
          3.38,
          3.4,
          3.4,
          3.4,
          3.41,
          3.43,
          3.44,
          3.44,
          3.45,
          3.45,
          3.46,
          3.46,
          3.46,
          3.47,
          3.47,
          3.48,
          3.48,
          3.48,
          3.5,
          3.51,
          3.52,
          3.52,
          3.52,
          3.53,
          3.53,
          3.53,
          3.53,
          3.54,
          3.54,
          3.55,
          3.56,
          3.57,
          3.57,
          3.58,
          3.58,
          3.6,
          3.6,
          3.61,
          3.63,
          3.63,
          3.63,
          3.64,
          3.64,
          3.66,
          3.66,
          3.66,
          3.67,
          3.67,
          3.68,
          3.69,
          3.69,
          3.69,
          3.71,
          3.71,
          3.71,
          3.71,
          3.72,
          3.72,
          3.73,
          3.73,
          3.73,
          3.73,
          3.73,
          3.74,
          3.75,
          3.75,
          3.75,
          3.77,
          3.77,
          3.78,
          3.79,
          3.8,
          3.8,
          3.8,
          3.82,
          3.83,
          3.83,
          3.83,
          3.83,
          3.84,
          3.84,
          3.85,
          3.85,
          3.85,
          3.86,
          3.86,
          3.86,
          3.86,
          3.87,
          3.87,
          3.87,
          3.87,
          3.87,
          3.88,
          3.9,
          3.93,
          3.94,
          3.94,
          3.95,
          3.95,
          3.95,
          3.95,
          3.95,
          3.96,
          3.96,
          3.99,
          3.99,
          4,
          4.01,
          4.02,
          4.02,
          4.03,
          4.04,
          4.04,
          4.05,
          4.06,
          4.06,
          4.06,
          4.07,
          4.08,
          4.08,
          4.09,
          4.09,
          4.1,
          4.1,
          4.1,
          4.11,
          4.11,
          4.12,
          4.13,
          4.13,
          4.14,
          4.14,
          4.15,
          4.15,
          4.15,
          4.16,
          4.16,
          4.17,
          4.17,
          4.17,
          4.17,
          4.17,
          4.17,
          4.18,
          4.18,
          4.19,
          4.2,
          4.21,
          4.21,
          4.21,
          4.22,
          4.24,
          4.24,
          4.25,
          4.25,
          4.25,
          4.25,
          4.25,
          4.26,
          4.26,
          4.27,
          4.27,
          4.28,
          4.28,
          4.29,
          4.29,
          4.3,
          4.3,
          4.31,
          4.31,
          4.32,
          4.32,
          4.33,
          4.34,
          4.34,
          4.34,
          4.35,
          4.36,
          4.36,
          4.37,
          4.38,
          4.38,
          4.41,
          4.42,
          4.43,
          4.43,
          4.43,
          4.43,
          4.43,
          4.44,
          4.44,
          4.45,
          4.45,
          4.45,
          4.46,
          4.46,
          4.47,
          4.47,
          4.48,
          4.48,
          4.48,
          4.48,
          4.48,
          4.48,
          4.49,
          4.49,
          4.5,
          4.51,
          4.51,
          4.51,
          4.52,
          4.53,
          4.55,
          4.55,
          4.56,
          4.57,
          4.58,
          4.59,
          4.59,
          4.6,
          4.6,
          4.6,
          4.61,
          4.62,
          4.67,
          4.68,
          4.68,
          4.68,
          4.69,
          4.69,
          4.69,
          4.7,
          4.7,
          4.72,
          4.72,
          4.72,
          4.74,
          4.74,
          4.75,
          4.75,
          4.76,
          4.76,
          4.76,
          4.77,
          4.77,
          4.78,
          4.78,
          4.8,
          4.81,
          4.81,
          4.82,
          4.83,
          4.84,
          4.84,
          4.85,
          4.86,
          4.86,
          4.87,
          4.87,
          4.88,
          4.88,
          4.89,
          4.89,
          4.89,
          4.91,
          4.91,
          4.94,
          4.94,
          4.96,
          4.97,
          4.98,
          5,
          5.01,
          5.02,
          5.02,
          5.02,
          5.04,
          5.04,
          5.05,
          5.06,
          5.06,
          5.07,
          5.08,
          5.08,
          5.08,
          5.09,
          5.1,
          5.12,
          5.12,
          5.14,
          5.16,
          5.18,
          5.18,
          5.22,
          5.22,
          5.23,
          5.25,
          5.28,
          5.3,
          5.3,
          5.32,
          5.33,
          5.34,
          5.35,
          5.37,
          5.38,
          5.38,
          5.43,
          5.45,
          5.47,
          5.48,
          5.49,
          5.49,
          5.49,
          5.5,
          5.57,
          5.57,
          5.57,
          5.58,
          5.63,
          5.63,
          5.64,
          5.71,
          5.73,
          5.78,
          5.83,
          5.84,
          5.85,
          5.87,
          5.87,
          5.92,
          5.96,
          6,
          6,
          6.01,
          6.04,
          6.06,
          6.07,
          6.09,
          6.09,
          6.33,
          6.43,
          6.46,
          6.49,
          6.63,
          6.81,
          6.98,
          7.11,
          7.4,
          7.47,
          7.74,
          7.88,
          8.2
         ],
         "xaxis": "x",
         "y": [
          1.855798562818582,
          1.9139420556368592,
          1.972085548455136,
          2.0496102055461725,
          2.0689913698189315,
          2.1949689375918653,
          2.1949689375918653,
          2.3209465053647995,
          2.446924073137733,
          2.466305237410492,
          2.5147581480923895,
          2.5244487302287695,
          2.5341393123651486,
          2.5438298945015285,
          2.6407357158653233,
          2.650426298001703,
          2.650426298001703,
          2.7279509550927394,
          2.7279509550927394,
          2.7667132836382575,
          2.853928522865673,
          2.8636191050020523,
          2.8733096871384323,
          2.8733096871384323,
          2.8830002692748113,
          2.8926908514111913,
          2.8926908514111913,
          2.8926908514111913,
          2.9023814335475704,
          2.9217625978203294,
          2.9314531799567094,
          2.9799060906386066,
          2.9799060906386066,
          2.9992872549113656,
          3.0089778370477456,
          3.0089778370477456,
          3.0089778370477456,
          3.0283590013205046,
          3.0380495834568837,
          3.057430747729643,
          3.0671213298660223,
          3.0671213298660223,
          3.0768119120024022,
          3.0768119120024022,
          3.0865024941387813,
          3.0865024941387813,
          3.0865024941387813,
          3.0961930762751613,
          3.0961930762751613,
          3.0961930762751613,
          3.1252648226842994,
          3.1252648226842994,
          3.1446459869570584,
          3.1543365690934384,
          3.1640271512298175,
          3.1640271512298175,
          3.1737177333661974,
          3.1737177333661974,
          3.1930988976389565,
          3.1930988976389565,
          3.2027894797753356,
          3.2124800619117155,
          3.2124800619117155,
          3.2221706440480946,
          3.2318612261844746,
          3.2318612261844746,
          3.2512423904572336,
          3.2900047190027517,
          3.2900047190027517,
          3.2900047190027517,
          3.2996953011391312,
          3.2996953011391312,
          3.3287670475482694,
          3.3384576296846493,
          3.3481482118210284,
          3.3578387939574084,
          3.3675293760937874,
          3.3869105403665465,
          3.4062917046393055,
          3.4062917046393055,
          3.4256728689120646,
          3.445054033184824,
          3.445054033184824,
          3.445054033184824,
          3.4547446153212036,
          3.4741257795939626,
          3.483816361730342,
          3.483816361730342,
          3.4935069438667217,
          3.4935069438667217,
          3.503197526003101,
          3.503197526003101,
          3.503197526003101,
          3.5128881081394807,
          3.5128881081394807,
          3.5225786902758602,
          3.5225786902758602,
          3.5225786902758602,
          3.5419598545486193,
          3.5516504366849984,
          3.5613410188213783,
          3.5613410188213783,
          3.5613410188213783,
          3.5710316009577574,
          3.5710316009577574,
          3.5710316009577574,
          3.5710316009577574,
          3.5807221830941374,
          3.5807221830941374,
          3.5904127652305164,
          3.6001033473668964,
          3.6097939295032755,
          3.6097939295032755,
          3.6194845116396555,
          3.6194845116396555,
          3.6388656759124145,
          3.6388656759124145,
          3.648556258048794,
          3.667937422321553,
          3.667937422321553,
          3.667937422321553,
          3.6776280044579326,
          3.6776280044579326,
          3.6970091687306916,
          3.6970091687306916,
          3.6970091687306916,
          3.706699750867071,
          3.706699750867071,
          3.7163903330034507,
          3.72608091513983,
          3.72608091513983,
          3.72608091513983,
          3.7454620794125892,
          3.7454620794125892,
          3.7454620794125892,
          3.7454620794125892,
          3.7551526615489688,
          3.7551526615489688,
          3.7648432436853483,
          3.7648432436853483,
          3.7648432436853483,
          3.7648432436853483,
          3.7648432436853483,
          3.774533825821728,
          3.7842244079581073,
          3.7842244079581073,
          3.7842244079581073,
          3.8036055722308664,
          3.8036055722308664,
          3.8132961543672454,
          3.8229867365036254,
          3.832677318640005,
          3.832677318640005,
          3.832677318640005,
          3.852058482912764,
          3.8617490650491435,
          3.8617490650491435,
          3.8617490650491435,
          3.8617490650491435,
          3.871439647185523,
          3.871439647185523,
          3.8811302293219025,
          3.8811302293219025,
          3.8811302293219025,
          3.890820811458282,
          3.890820811458282,
          3.890820811458282,
          3.890820811458282,
          3.9005113935946616,
          3.9005113935946616,
          3.9005113935946616,
          3.9005113935946616,
          3.9005113935946616,
          3.910201975731041,
          3.9295831400038,
          3.9586548864129387,
          3.9683454685493182,
          3.9683454685493182,
          3.9780360506856978,
          3.9780360506856978,
          3.9780360506856978,
          3.9780360506856978,
          3.9780360506856978,
          3.9877266328220773,
          3.9877266328220773,
          4.016798379231216,
          4.016798379231216,
          4.026488961367596,
          4.036179543503975,
          4.045870125640354,
          4.045870125640354,
          4.055560707776735,
          4.065251289913114,
          4.065251289913114,
          4.074941872049493,
          4.084632454185872,
          4.084632454185872,
          4.084632454185872,
          4.094323036322253,
          4.104013618458632,
          4.104013618458632,
          4.113704200595011,
          4.113704200595011,
          4.12339478273139,
          4.12339478273139,
          4.12339478273139,
          4.133085364867771,
          4.133085364867771,
          4.14277594700415,
          4.152466529140529,
          4.152466529140529,
          4.162157111276908,
          4.162157111276908,
          4.171847693413289,
          4.171847693413289,
          4.171847693413289,
          4.181538275549668,
          4.181538275549668,
          4.191228857686047,
          4.191228857686047,
          4.191228857686047,
          4.191228857686047,
          4.191228857686047,
          4.191228857686047,
          4.200919439822426,
          4.200919439822426,
          4.210610021958807,
          4.220300604095186,
          4.229991186231565,
          4.229991186231565,
          4.229991186231565,
          4.239681768367944,
          4.259062932640704,
          4.259062932640704,
          4.268753514777083,
          4.268753514777083,
          4.268753514777083,
          4.268753514777083,
          4.268753514777083,
          4.2784440969134625,
          4.2784440969134625,
          4.288134679049842,
          4.288134679049842,
          4.297825261186222,
          4.297825261186222,
          4.3075158433226015,
          4.3075158433226015,
          4.317206425458981,
          4.317206425458981,
          4.32689700759536,
          4.32689700759536,
          4.3365875897317405,
          4.3365875897317405,
          4.34627817186812,
          4.355968754004499,
          4.355968754004499,
          4.355968754004499,
          4.365659336140878,
          4.375349918277259,
          4.375349918277259,
          4.385040500413638,
          4.394731082550017,
          4.394731082550017,
          4.423802828959156,
          4.433493411095535,
          4.443183993231914,
          4.443183993231914,
          4.443183993231914,
          4.443183993231914,
          4.443183993231914,
          4.452874575368295,
          4.452874575368295,
          4.462565157504674,
          4.462565157504674,
          4.462565157504674,
          4.472255739641053,
          4.472255739641053,
          4.481946321777432,
          4.481946321777432,
          4.491636903913813,
          4.491636903913813,
          4.491636903913813,
          4.491636903913813,
          4.491636903913813,
          4.491636903913813,
          4.501327486050192,
          4.501327486050192,
          4.511018068186571,
          4.52070865032295,
          4.52070865032295,
          4.52070865032295,
          4.530399232459331,
          4.54008981459571,
          4.559470978868468,
          4.559470978868468,
          4.569161561004849,
          4.578852143141228,
          4.588542725277607,
          4.598233307413986,
          4.598233307413986,
          4.607923889550367,
          4.607923889550367,
          4.607923889550367,
          4.617614471686746,
          4.627305053823125,
          4.675757964505024,
          4.685448546641403,
          4.685448546641403,
          4.685448546641403,
          4.695139128777782,
          4.695139128777782,
          4.695139128777782,
          4.7048297109141615,
          4.7048297109141615,
          4.724210875186921,
          4.724210875186921,
          4.724210875186921,
          4.7435920394596796,
          4.7435920394596796,
          4.75328262159606,
          4.75328262159606,
          4.7629732037324395,
          4.7629732037324395,
          4.7629732037324395,
          4.772663785868819,
          4.772663785868819,
          4.782354368005198,
          4.782354368005198,
          4.801735532277958,
          4.811426114414337,
          4.811426114414337,
          4.8211166965507175,
          4.830807278687097,
          4.840497860823476,
          4.840497860823476,
          4.850188442959855,
          4.859879025096236,
          4.859879025096236,
          4.869569607232615,
          4.869569607232615,
          4.879260189368994,
          4.879260189368994,
          4.888950771505373,
          4.888950771505373,
          4.888950771505373,
          4.908331935778133,
          4.908331935778133,
          4.937403682187272,
          4.937403682187272,
          4.95678484646003,
          4.966475428596409,
          4.97616601073279,
          4.995547175005548,
          5.005237757141927,
          5.014928339278306,
          5.014928339278306,
          5.014928339278306,
          5.034309503551066,
          5.034309503551066,
          5.044000085687445,
          5.053690667823824,
          5.053690667823824,
          5.063381249960205,
          5.073071832096584,
          5.073071832096584,
          5.073071832096584,
          5.082762414232963,
          5.092452996369342,
          5.111834160642102,
          5.111834160642102,
          5.13121532491486,
          5.15059648918762,
          5.1699776534603785,
          5.1699776534603785,
          5.208739982005897,
          5.208739982005897,
          5.2184305641422775,
          5.237811728415036,
          5.266883474824175,
          5.286264639096933,
          5.286264639096933,
          5.305645803369693,
          5.315336385506072,
          5.325026967642451,
          5.33471754977883,
          5.35409871405159,
          5.363789296187969,
          5.363789296187969,
          5.412242206869868,
          5.431623371142626,
          5.451004535415386,
          5.460695117551765,
          5.470385699688144,
          5.470385699688144,
          5.470385699688144,
          5.480076281824523,
          5.54791035677918,
          5.54791035677918,
          5.54791035677918,
          5.557600938915559,
          5.606053849597458,
          5.606053849597458,
          5.615744431733837,
          5.6835785066884945,
          5.702959670961253,
          5.751412581643152,
          5.799865492325049,
          5.809556074461428,
          5.819246656597807,
          5.838627820870567,
          5.838627820870567,
          5.887080731552464,
          5.925843060097982,
          5.9646053886435,
          5.9646053886435,
          5.974295970779879,
          6.003367717189018,
          6.0227488814617764,
          6.032439463598157,
          6.0518206278709155,
          6.0518206278709155,
          6.284394599144024,
          6.38130042050782,
          6.410372166916959,
          6.439443913326096,
          6.5751120632354105,
          6.749542541690241,
          6.914282438008694,
          7.040260005781628,
          7.321286887736633,
          7.38912096269129,
          7.650766680373538,
          7.78643483028285,
          8.096533458646995
         ],
         "yaxis": "y"
        }
       ],
       "layout": {
        "coloraxis": {
         "colorbar": {
          "title": {
           "text": "GB%"
          }
         },
         "colorscale": [
          [
           0,
           "#0d0887"
          ],
          [
           0.1111111111111111,
           "#46039f"
          ],
          [
           0.2222222222222222,
           "#7201a8"
          ],
          [
           0.3333333333333333,
           "#9c179e"
          ],
          [
           0.4444444444444444,
           "#bd3786"
          ],
          [
           0.5555555555555556,
           "#d8576b"
          ],
          [
           0.6666666666666666,
           "#ed7953"
          ],
          [
           0.7777777777777778,
           "#fb9f3a"
          ],
          [
           0.8888888888888888,
           "#fdca26"
          ],
          [
           1,
           "#f0f921"
          ]
         ]
        },
        "legend": {
         "tracegroupgap": 0
        },
        "margin": {
         "t": 60
        },
        "template": {
         "data": {
          "bar": [
           {
            "error_x": {
             "color": "#2a3f5f"
            },
            "error_y": {
             "color": "#2a3f5f"
            },
            "marker": {
             "line": {
              "color": "#E5ECF6",
              "width": 0.5
             },
             "pattern": {
              "fillmode": "overlay",
              "size": 10,
              "solidity": 0.2
             }
            },
            "type": "bar"
           }
          ],
          "barpolar": [
           {
            "marker": {
             "line": {
              "color": "#E5ECF6",
              "width": 0.5
             },
             "pattern": {
              "fillmode": "overlay",
              "size": 10,
              "solidity": 0.2
             }
            },
            "type": "barpolar"
           }
          ],
          "carpet": [
           {
            "aaxis": {
             "endlinecolor": "#2a3f5f",
             "gridcolor": "white",
             "linecolor": "white",
             "minorgridcolor": "white",
             "startlinecolor": "#2a3f5f"
            },
            "baxis": {
             "endlinecolor": "#2a3f5f",
             "gridcolor": "white",
             "linecolor": "white",
             "minorgridcolor": "white",
             "startlinecolor": "#2a3f5f"
            },
            "type": "carpet"
           }
          ],
          "choropleth": [
           {
            "colorbar": {
             "outlinewidth": 0,
             "ticks": ""
            },
            "type": "choropleth"
           }
          ],
          "contour": [
           {
            "colorbar": {
             "outlinewidth": 0,
             "ticks": ""
            },
            "colorscale": [
             [
              0,
              "#0d0887"
             ],
             [
              0.1111111111111111,
              "#46039f"
             ],
             [
              0.2222222222222222,
              "#7201a8"
             ],
             [
              0.3333333333333333,
              "#9c179e"
             ],
             [
              0.4444444444444444,
              "#bd3786"
             ],
             [
              0.5555555555555556,
              "#d8576b"
             ],
             [
              0.6666666666666666,
              "#ed7953"
             ],
             [
              0.7777777777777778,
              "#fb9f3a"
             ],
             [
              0.8888888888888888,
              "#fdca26"
             ],
             [
              1,
              "#f0f921"
             ]
            ],
            "type": "contour"
           }
          ],
          "contourcarpet": [
           {
            "colorbar": {
             "outlinewidth": 0,
             "ticks": ""
            },
            "type": "contourcarpet"
           }
          ],
          "heatmap": [
           {
            "colorbar": {
             "outlinewidth": 0,
             "ticks": ""
            },
            "colorscale": [
             [
              0,
              "#0d0887"
             ],
             [
              0.1111111111111111,
              "#46039f"
             ],
             [
              0.2222222222222222,
              "#7201a8"
             ],
             [
              0.3333333333333333,
              "#9c179e"
             ],
             [
              0.4444444444444444,
              "#bd3786"
             ],
             [
              0.5555555555555556,
              "#d8576b"
             ],
             [
              0.6666666666666666,
              "#ed7953"
             ],
             [
              0.7777777777777778,
              "#fb9f3a"
             ],
             [
              0.8888888888888888,
              "#fdca26"
             ],
             [
              1,
              "#f0f921"
             ]
            ],
            "type": "heatmap"
           }
          ],
          "heatmapgl": [
           {
            "colorbar": {
             "outlinewidth": 0,
             "ticks": ""
            },
            "colorscale": [
             [
              0,
              "#0d0887"
             ],
             [
              0.1111111111111111,
              "#46039f"
             ],
             [
              0.2222222222222222,
              "#7201a8"
             ],
             [
              0.3333333333333333,
              "#9c179e"
             ],
             [
              0.4444444444444444,
              "#bd3786"
             ],
             [
              0.5555555555555556,
              "#d8576b"
             ],
             [
              0.6666666666666666,
              "#ed7953"
             ],
             [
              0.7777777777777778,
              "#fb9f3a"
             ],
             [
              0.8888888888888888,
              "#fdca26"
             ],
             [
              1,
              "#f0f921"
             ]
            ],
            "type": "heatmapgl"
           }
          ],
          "histogram": [
           {
            "marker": {
             "pattern": {
              "fillmode": "overlay",
              "size": 10,
              "solidity": 0.2
             }
            },
            "type": "histogram"
           }
          ],
          "histogram2d": [
           {
            "colorbar": {
             "outlinewidth": 0,
             "ticks": ""
            },
            "colorscale": [
             [
              0,
              "#0d0887"
             ],
             [
              0.1111111111111111,
              "#46039f"
             ],
             [
              0.2222222222222222,
              "#7201a8"
             ],
             [
              0.3333333333333333,
              "#9c179e"
             ],
             [
              0.4444444444444444,
              "#bd3786"
             ],
             [
              0.5555555555555556,
              "#d8576b"
             ],
             [
              0.6666666666666666,
              "#ed7953"
             ],
             [
              0.7777777777777778,
              "#fb9f3a"
             ],
             [
              0.8888888888888888,
              "#fdca26"
             ],
             [
              1,
              "#f0f921"
             ]
            ],
            "type": "histogram2d"
           }
          ],
          "histogram2dcontour": [
           {
            "colorbar": {
             "outlinewidth": 0,
             "ticks": ""
            },
            "colorscale": [
             [
              0,
              "#0d0887"
             ],
             [
              0.1111111111111111,
              "#46039f"
             ],
             [
              0.2222222222222222,
              "#7201a8"
             ],
             [
              0.3333333333333333,
              "#9c179e"
             ],
             [
              0.4444444444444444,
              "#bd3786"
             ],
             [
              0.5555555555555556,
              "#d8576b"
             ],
             [
              0.6666666666666666,
              "#ed7953"
             ],
             [
              0.7777777777777778,
              "#fb9f3a"
             ],
             [
              0.8888888888888888,
              "#fdca26"
             ],
             [
              1,
              "#f0f921"
             ]
            ],
            "type": "histogram2dcontour"
           }
          ],
          "mesh3d": [
           {
            "colorbar": {
             "outlinewidth": 0,
             "ticks": ""
            },
            "type": "mesh3d"
           }
          ],
          "parcoords": [
           {
            "line": {
             "colorbar": {
              "outlinewidth": 0,
              "ticks": ""
             }
            },
            "type": "parcoords"
           }
          ],
          "pie": [
           {
            "automargin": true,
            "type": "pie"
           }
          ],
          "scatter": [
           {
            "fillpattern": {
             "fillmode": "overlay",
             "size": 10,
             "solidity": 0.2
            },
            "type": "scatter"
           }
          ],
          "scatter3d": [
           {
            "line": {
             "colorbar": {
              "outlinewidth": 0,
              "ticks": ""
             }
            },
            "marker": {
             "colorbar": {
              "outlinewidth": 0,
              "ticks": ""
             }
            },
            "type": "scatter3d"
           }
          ],
          "scattercarpet": [
           {
            "marker": {
             "colorbar": {
              "outlinewidth": 0,
              "ticks": ""
             }
            },
            "type": "scattercarpet"
           }
          ],
          "scattergeo": [
           {
            "marker": {
             "colorbar": {
              "outlinewidth": 0,
              "ticks": ""
             }
            },
            "type": "scattergeo"
           }
          ],
          "scattergl": [
           {
            "marker": {
             "colorbar": {
              "outlinewidth": 0,
              "ticks": ""
             }
            },
            "type": "scattergl"
           }
          ],
          "scattermapbox": [
           {
            "marker": {
             "colorbar": {
              "outlinewidth": 0,
              "ticks": ""
             }
            },
            "type": "scattermapbox"
           }
          ],
          "scatterpolar": [
           {
            "marker": {
             "colorbar": {
              "outlinewidth": 0,
              "ticks": ""
             }
            },
            "type": "scatterpolar"
           }
          ],
          "scatterpolargl": [
           {
            "marker": {
             "colorbar": {
              "outlinewidth": 0,
              "ticks": ""
             }
            },
            "type": "scatterpolargl"
           }
          ],
          "scatterternary": [
           {
            "marker": {
             "colorbar": {
              "outlinewidth": 0,
              "ticks": ""
             }
            },
            "type": "scatterternary"
           }
          ],
          "surface": [
           {
            "colorbar": {
             "outlinewidth": 0,
             "ticks": ""
            },
            "colorscale": [
             [
              0,
              "#0d0887"
             ],
             [
              0.1111111111111111,
              "#46039f"
             ],
             [
              0.2222222222222222,
              "#7201a8"
             ],
             [
              0.3333333333333333,
              "#9c179e"
             ],
             [
              0.4444444444444444,
              "#bd3786"
             ],
             [
              0.5555555555555556,
              "#d8576b"
             ],
             [
              0.6666666666666666,
              "#ed7953"
             ],
             [
              0.7777777777777778,
              "#fb9f3a"
             ],
             [
              0.8888888888888888,
              "#fdca26"
             ],
             [
              1,
              "#f0f921"
             ]
            ],
            "type": "surface"
           }
          ],
          "table": [
           {
            "cells": {
             "fill": {
              "color": "#EBF0F8"
             },
             "line": {
              "color": "white"
             }
            },
            "header": {
             "fill": {
              "color": "#C8D4E3"
             },
             "line": {
              "color": "white"
             }
            },
            "type": "table"
           }
          ]
         },
         "layout": {
          "annotationdefaults": {
           "arrowcolor": "#2a3f5f",
           "arrowhead": 0,
           "arrowwidth": 1
          },
          "autotypenumbers": "strict",
          "coloraxis": {
           "colorbar": {
            "outlinewidth": 0,
            "ticks": ""
           }
          },
          "colorscale": {
           "diverging": [
            [
             0,
             "#8e0152"
            ],
            [
             0.1,
             "#c51b7d"
            ],
            [
             0.2,
             "#de77ae"
            ],
            [
             0.3,
             "#f1b6da"
            ],
            [
             0.4,
             "#fde0ef"
            ],
            [
             0.5,
             "#f7f7f7"
            ],
            [
             0.6,
             "#e6f5d0"
            ],
            [
             0.7,
             "#b8e186"
            ],
            [
             0.8,
             "#7fbc41"
            ],
            [
             0.9,
             "#4d9221"
            ],
            [
             1,
             "#276419"
            ]
           ],
           "sequential": [
            [
             0,
             "#0d0887"
            ],
            [
             0.1111111111111111,
             "#46039f"
            ],
            [
             0.2222222222222222,
             "#7201a8"
            ],
            [
             0.3333333333333333,
             "#9c179e"
            ],
            [
             0.4444444444444444,
             "#bd3786"
            ],
            [
             0.5555555555555556,
             "#d8576b"
            ],
            [
             0.6666666666666666,
             "#ed7953"
            ],
            [
             0.7777777777777778,
             "#fb9f3a"
            ],
            [
             0.8888888888888888,
             "#fdca26"
            ],
            [
             1,
             "#f0f921"
            ]
           ],
           "sequentialminus": [
            [
             0,
             "#0d0887"
            ],
            [
             0.1111111111111111,
             "#46039f"
            ],
            [
             0.2222222222222222,
             "#7201a8"
            ],
            [
             0.3333333333333333,
             "#9c179e"
            ],
            [
             0.4444444444444444,
             "#bd3786"
            ],
            [
             0.5555555555555556,
             "#d8576b"
            ],
            [
             0.6666666666666666,
             "#ed7953"
            ],
            [
             0.7777777777777778,
             "#fb9f3a"
            ],
            [
             0.8888888888888888,
             "#fdca26"
            ],
            [
             1,
             "#f0f921"
            ]
           ]
          },
          "colorway": [
           "#636efa",
           "#EF553B",
           "#00cc96",
           "#ab63fa",
           "#FFA15A",
           "#19d3f3",
           "#FF6692",
           "#B6E880",
           "#FF97FF",
           "#FECB52"
          ],
          "font": {
           "color": "#2a3f5f"
          },
          "geo": {
           "bgcolor": "white",
           "lakecolor": "white",
           "landcolor": "#E5ECF6",
           "showlakes": true,
           "showland": true,
           "subunitcolor": "white"
          },
          "hoverlabel": {
           "align": "left"
          },
          "hovermode": "closest",
          "mapbox": {
           "style": "light"
          },
          "paper_bgcolor": "white",
          "plot_bgcolor": "#E5ECF6",
          "polar": {
           "angularaxis": {
            "gridcolor": "white",
            "linecolor": "white",
            "ticks": ""
           },
           "bgcolor": "#E5ECF6",
           "radialaxis": {
            "gridcolor": "white",
            "linecolor": "white",
            "ticks": ""
           }
          },
          "scene": {
           "xaxis": {
            "backgroundcolor": "#E5ECF6",
            "gridcolor": "white",
            "gridwidth": 2,
            "linecolor": "white",
            "showbackground": true,
            "ticks": "",
            "zerolinecolor": "white"
           },
           "yaxis": {
            "backgroundcolor": "#E5ECF6",
            "gridcolor": "white",
            "gridwidth": 2,
            "linecolor": "white",
            "showbackground": true,
            "ticks": "",
            "zerolinecolor": "white"
           },
           "zaxis": {
            "backgroundcolor": "#E5ECF6",
            "gridcolor": "white",
            "gridwidth": 2,
            "linecolor": "white",
            "showbackground": true,
            "ticks": "",
            "zerolinecolor": "white"
           }
          },
          "shapedefaults": {
           "line": {
            "color": "#2a3f5f"
           }
          },
          "ternary": {
           "aaxis": {
            "gridcolor": "white",
            "linecolor": "white",
            "ticks": ""
           },
           "baxis": {
            "gridcolor": "white",
            "linecolor": "white",
            "ticks": ""
           },
           "bgcolor": "#E5ECF6",
           "caxis": {
            "gridcolor": "white",
            "linecolor": "white",
            "ticks": ""
           }
          },
          "title": {
           "x": 0.05
          },
          "xaxis": {
           "automargin": true,
           "gridcolor": "white",
           "linecolor": "white",
           "ticks": "",
           "title": {
            "standoff": 15
           },
           "zerolinecolor": "white",
           "zerolinewidth": 2
          },
          "yaxis": {
           "automargin": true,
           "gridcolor": "white",
           "linecolor": "white",
           "ticks": "",
           "title": {
            "standoff": 15
           },
           "zerolinecolor": "white",
           "zerolinewidth": 2
          }
         }
        },
        "xaxis": {
         "anchor": "y",
         "domain": [
          0,
          1
         ],
         "title": {
          "text": "xERA_adj"
         }
        },
        "yaxis": {
         "anchor": "x",
         "domain": [
          0,
          1
         ],
         "title": {
          "text": "sxERA_adj"
         }
        }
       }
      }
     },
     "metadata": {},
     "output_type": "display_data"
    }
   ],
   "source": [
    "import plotly.express as px\n",
    "\n",
    "px.scatter(df_2023.loc[df_2023['IP']>20], x='xERA_adj', y='sxERA_adj', color='GB%', hover_name='Name', hover_data=['ERA', 'xERA'], trendline='ols')"
   ]
  },
  {
   "cell_type": "code",
   "execution_count": 37,
   "metadata": {},
   "outputs": [
    {
     "data": {
      "application/vnd.plotly.v1+json": {
       "config": {
        "plotlyServerURL": "https://plotly.com"
       },
       "data": [
        {
         "customdata": [
          [
           4.64
          ],
          [
           3.21
          ],
          [
           6.26
          ],
          [
           5.17
          ],
          [
           5.95
          ],
          [
           3.77
          ],
          [
           4.12
          ],
          [
           3.14
          ],
          [
           3.41
          ],
          [
           3.32
          ],
          [
           3.77
          ],
          [
           3.79
          ],
          [
           4.11
          ],
          [
           5.45
          ],
          [
           3.05
          ],
          [
           5.29
          ],
          [
           4.7
          ],
          [
           4.26
          ],
          [
           3.73
          ],
          [
           4.5
          ],
          [
           4.52
          ],
          [
           5.35
          ],
          [
           2.96
          ],
          [
           4.18
          ],
          [
           4.02
          ],
          [
           2.65
          ],
          [
           3.88
          ],
          [
           2.82
          ],
          [
           2.78
          ],
          [
           6.59
          ],
          [
           4.89
          ],
          [
           5.16
          ],
          [
           3.74
          ],
          [
           2.86
          ],
          [
           4.65
          ],
          [
           7.38
          ],
          [
           4.72
          ],
          [
           4.42
          ],
          [
           2.82
          ],
          [
           3.59
          ],
          [
           3.31
          ],
          [
           4.19
          ],
          [
           2.69
          ],
          [
           4.29
          ],
          [
           3.31
          ],
          [
           4.72
          ],
          [
           3.14
          ],
          [
           3.9
          ],
          [
           3.03
          ],
          [
           4.52
          ],
          [
           4.77
          ],
          [
           3.65
          ],
          [
           3.96
          ],
          [
           6.19
          ],
          [
           3.72
          ],
          [
           4.59
          ],
          [
           3.45
          ],
          [
           3.59
          ],
          [
           3.16
          ],
          [
           3.93
          ],
          [
           5.44
          ],
          [
           6.4
          ],
          [
           4.43
          ],
          [
           3.57
          ],
          [
           3.89
          ],
          [
           4.76
          ],
          [
           5.05
          ],
          [
           3.79
          ],
          [
           4.96
          ],
          [
           4.39
          ],
          [
           4.97
          ],
          [
           6.34
          ],
          [
           3.73
          ],
          [
           3.22
          ],
          [
           2.55
          ],
          [
           4.13
          ],
          [
           3.33
          ],
          [
           3.43
          ],
          [
           7.04
          ],
          [
           4.47
          ],
          [
           4.59
          ],
          [
           3.72
          ],
          [
           3.75
          ],
          [
           3.78
          ],
          [
           3.34
          ],
          [
           6.05
          ],
          [
           4.64
          ],
          [
           6.06
          ],
          [
           4.24
          ],
          [
           5.82
          ],
          [
           6.18
          ],
          [
           3.8
          ],
          [
           4.86
          ],
          [
           2.56
          ],
          [
           5.79
          ],
          [
           5.17
          ],
          [
           4.14
          ],
          [
           3.06
          ],
          [
           3.66
          ],
          [
           3.14
          ],
          [
           3.2
          ],
          [
           7.79
          ],
          [
           3.16
          ],
          [
           4.98
          ],
          [
           4.27
          ],
          [
           2.74
          ],
          [
           3.5
          ],
          [
           4.86
          ],
          [
           4.53
          ],
          [
           3.51
          ],
          [
           4.41
          ],
          [
           6.51
          ],
          [
           4.44
          ],
          [
           2.36
          ],
          [
           4.84
          ],
          [
           6.45
          ],
          [
           4.71
          ],
          [
           2.7
          ],
          [
           7.33
          ],
          [
           3.77
          ],
          [
           4.58
          ],
          [
           4.16
          ],
          [
           3.99
          ],
          [
           4.31
          ],
          [
           7.18
          ],
          [
           3.99
          ],
          [
           3.2
          ],
          [
           5.7
          ],
          [
           4.5
          ],
          [
           2.71
          ],
          [
           2.96
          ],
          [
           3.75
          ],
          [
           3.66
          ],
          [
           2.88
          ],
          [
           3.84
          ],
          [
           7.16
          ],
          [
           6.05
          ],
          [
           4.01
          ],
          [
           4.35
          ],
          [
           2.76
          ],
          [
           5.3
          ],
          [
           3.72
          ],
          [
           2.84
          ],
          [
           7.66
          ],
          [
           6.66
          ],
          [
           4
          ],
          [
           7.22
          ],
          [
           3.11
          ],
          [
           3.54
          ],
          [
           6.78
          ],
          [
           4.75
          ],
          [
           4.04
          ],
          [
           5.23
          ],
          [
           4.42
          ],
          [
           4.96
          ],
          [
           3.14
          ],
          [
           4.53
          ]
         ],
         "hovertemplate": "<b>%{hovertext}</b><br><br>xERA=%{x}<br>xERA_adj=%{y}<br>ERA=%{customdata[0]}<br>GB%=%{marker.color}<extra></extra>",
         "hovertext": [
          "Sandy Alcantara",
          "Logan Allen",
          "Chase Anderson",
          "Tyler Anderson",
          "Graham Ashcraft",
          "Jaime Barria",
          "Chris Bassitt",
          "Brayan Bello",
          "Jose Berrios",
          "Tanner Bibee",
          "Shane Bieber",
          "Brandon Bielak",
          "Jake Bird",
          "Matthew Boyd",
          "Kyle Bradish",
          "Taj Bradley",
          "Jhony Brito",
          "Hunter Brown",
          "Corbin Burnes",
          "Edward Cabrera",
          "Griffin Canning",
          "Carlos Carrasco",
          "Luis Castillo",
          "Dylan Cease",
          "Yonny Chirinos",
          "Aaron Civale",
          "Mike Clevinger",
          "Alex Cobb",
          "Gerrit Cole",
          "Roansy Contreras",
          "Patrick Corbin",
          "Nestor Cortes",
          "Kutter Crawford",
          "Xzavion Curry",
          "Yu Darvish",
          "Zach Davies",
          "Anthony DeSclafani",
          "Reid Detmers",
          "Dane Dunning",
          "Zach Eflin",
          "Bryce Elder",
          "Mason Englert",
          "Nathan Eovaldi",
          "Jack Flaherty",
          "J.P. France",
          "Kyle Freeland",
          "Zac Gallen",
          "Braxton Garrett",
          "Kevin Gausman",
          "Domingo German",
          "Kyle Gibson",
          "Logan Gilbert",
          "Lucas Giolito",
          "Austin Gomber",
          "Tony Gonsolin",
          "MacKenzie Gore",
          "Jon Gray",
          "Josiah Gray",
          "Sonny Gray",
          "Hunter Greene",
          "Zack Greinke",
          "Michael Grove",
          "Andrew Heaney",
          "Kyle Hendricks",
          "Tommy Henry",
          "Rich Hill",
          "Tanner Houck",
          "Adrian Houser",
          "Jake Irvin",
          "Cristian Javier",
          "Jakob Junis",
          "James Kaprielian",
          "Mitch Keller",
          "Merrill Kelly",
          "Clayton Kershaw",
          "Yusei Kikuchi",
          "Michael King",
          "George Kirby",
          "Corey Kluber",
          "Michael Kopech",
          "Dean Kremer",
          "Ben Lively",
          "Michael Lorenzen",
          "Seth Lugo",
          "Jesus Luzardo",
          "Jordan Lyles",
          "Daniel Lynch",
          "Lance Lynn",
          "Pablo Lopez",
          "Sean Manaea",
          "Alek Manoah",
          "Nick Martinez",
          "Steven Matz",
          "Shane McClanahan",
          "Luis Medina",
          "Tylor Megill",
          "Miles Mikolas",
          "Wade Miley",
          "Bryce Miller",
          "Jordan Montgomery",
          "Charlie Morton",
          "Kyle Muller",
          "Joe Musgrove",
          "Ryne Nelson",
          "Aaron Nola",
          "Bailey Ober",
          "Shohei Ohtani",
          "Luis Ortiz",
          "Johan Oviedo",
          "James Paxton",
          "Freddy Peralta",
          "David Peterson",
          "Nick Pivetta",
          "Eury Perez",
          "Martin Perez",
          "Cal Quantrill",
          "Colin Rea",
          "Eduardo Rodriguez",
          "Grayson Rodriguez",
          "Joe Ryan",
          "Chris Sale",
          "Patrick Sandoval",
          "Max Scherzer",
          "Clarke Schmidt",
          "Connor Seabold",
          "JP Sears",
          "Kodai Senga",
          "Brady Singer",
          "Drew Smyly",
          "Blake Snell",
          "Justin Steele",
          "Matt Strahm",
          "Spencer Strider",
          "Marcus Stroman",
          "Ranger Suarez",
          "Noah Syndergaard",
          "Jameson Taillon",
          "Julio Teheran",
          "Julio Urias",
          "Framber Valdez",
          "Louie Varland",
          "Justin Verlander",
          "Michael Wacha",
          "Adam Wainwright",
          "Ken Waldichuk",
          "Taijuan Walker",
          "Luke Weaver",
          "Logan Webb",
          "Tyler Wells",
          "Joey Wentz",
          "Hayden Wesneski",
          "Zack Wheeler",
          "Garrett Whitlock",
          "Trevor Williams",
          "Brandon Williamson",
          "Josh Winckowski",
          "Alex Wood"
         ],
         "legendgroup": "",
         "marker": {
          "color": [
           0.504,
           0.445,
           0.36700000000000005,
           0.305,
           0.486,
           0.38799999999999996,
           0.423,
           0.5539999999999999,
           0.45799999999999996,
           0.38,
           0.465,
           0.5,
           0.5539999999999999,
           0.38799999999999996,
           0.445,
           0.358,
           0.465,
           0.544,
           0.41200000000000003,
           0.541,
           0.457,
           0.478,
           0.408,
           0.392,
           0.43200000000000005,
           0.389,
           0.305,
           0.575,
           0.375,
           0.377,
           0.447,
           0.259,
           0.385,
           0.308,
           0.449,
           0.457,
           0.42100000000000004,
           0.32799999999999996,
           0.451,
           0.528,
           0.5429999999999999,
           0.39899999999999997,
           0.518,
           0.462,
           0.462,
           0.39,
           0.385,
           0.474,
           0.43,
           0.38299999999999995,
           0.469,
           0.41100000000000003,
           0.34700000000000003,
           0.425,
           0.39399999999999996,
           0.4,
           0.401,
           0.42100000000000004,
           0.491,
           0.326,
           0.44,
           0.409,
           0.361,
           0.441,
           0.364,
           0.373,
           0.49700000000000005,
           0.47600000000000003,
           0.431,
           0.27,
           0.431,
           0.304,
           0.45299999999999996,
           0.452,
           0.47200000000000003,
           0.37,
           0.474,
           0.449,
           0.302,
           0.355,
           0.353,
           0.377,
           0.428,
           0.46399999999999997,
           0.425,
           0.33399999999999996,
           0.38799999999999996,
           0.385,
           0.395,
           0.363,
           0.376,
           0.5710000000000001,
           0.47200000000000003,
           0.439,
           0.46399999999999997,
           0.435,
           0.387,
           0.405,
           0.33299999999999996,
           0.45899999999999996,
           0.479,
           0.478,
           0.439,
           0.366,
           0.414,
           0.316,
           0.449,
           0.478,
           0.462,
           0.385,
           0.392,
           0.5489999999999999,
           0.32299999999999995,
           0.32799999999999996,
           0.41600000000000004,
           0.41100000000000003,
           0.46,
           0.413,
           0.413,
           0.325,
           0.381,
           0.51,
           0.313,
           0.434,
           0.32299999999999995,
           0.271,
           0.465,
           0.474,
           0.344,
           0.426,
           0.488,
           0.33299999999999996,
           0.326,
           0.584,
           0.51,
           0.396,
           0.34,
           0.42100000000000004,
           0.364,
           0.546,
           0.426,
           0.392,
           0.337,
           0.35100000000000003,
           0.40700000000000003,
           0.479,
           0.358,
           0.605,
           0.318,
           0.379,
           0.39,
           0.41200000000000003,
           0.444,
           0.39399999999999996,
           0.363,
           0.522,
           0.439
          ],
          "coloraxis": "coloraxis",
          "symbol": "circle"
         },
         "mode": "markers",
         "name": "",
         "orientation": "v",
         "showlegend": false,
         "type": "scatter",
         "x": [
          4.39,
          4.48,
          5.51,
          4.76,
          5.51,
          4.48,
          4.51,
          3.77,
          4.57,
          3.38,
          4.86,
          5.73,
          4.13,
          4.15,
          4.24,
          4.04,
          5.37,
          3.79,
          3.56,
          4.07,
          4.21,
          6.03,
          3.79,
          4.1,
          6.35,
          3.79,
          4.6,
          4.13,
          3.74,
          5.3,
          6.26,
          3.79,
          3.56,
          4.96,
          3.63,
          4.64,
          4.92,
          4.07,
          4.7,
          3.19,
          4.04,
          5.88,
          3.41,
          4.6,
          4.33,
          5.4,
          3.66,
          4.42,
          3.53,
          4.21,
          4.7,
          3.46,
          4.18,
          6.26,
          4.86,
          5.12,
          4.33,
          4.51,
          3.98,
          3.66,
          5.06,
          5.09,
          4.73,
          4.21,
          4.13,
          5.4,
          3.87,
          4.24,
          5.09,
          4.48,
          4.1,
          4.76,
          3.38,
          4.3,
          3.48,
          4.64,
          3.66,
          3.98,
          6.11,
          5.54,
          5.37,
          4.76,
          4.21,
          4.48,
          3.56,
          4.73,
          4.64,
          4.67,
          3.09,
          4.96,
          6.26,
          4.39,
          4.45,
          3.9,
          4.99,
          6.03,
          4.96,
          4.83,
          4.13,
          4.04,
          4.42,
          8.15,
          3.07,
          4.89,
          3.74,
          3.61,
          3.79,
          7.75,
          4.51,
          3.31,
          3.9,
          4.86,
          4.39,
          3.48,
          5.58,
          5.99,
          4.13,
          3.43,
          6.11,
          2.98,
          3.58,
          4.45,
          3.51,
          4.15,
          5.26,
          4.42,
          3.69,
          5.47,
          4.07,
          3.82,
          3.33,
          3.41,
          3.05,
          3.71,
          4.48,
          5.62,
          5.37,
          3.9,
          3.85,
          3.9,
          5.06,
          3.56,
          4.15,
          8.2,
          5.23,
          3.98,
          5.62,
          3.58,
          3.74,
          5.8,
          5.54,
          3.23,
          4.57,
          5.09,
          5.69,
          4.15,
          5.02
         ],
         "xaxis": "x",
         "y": [
          4.32,
          4.29,
          4.97,
          4.78,
          5.18,
          4.25,
          4.37,
          3.94,
          4.6,
          3.29,
          4.84,
          5.33,
          4.21,
          4.19,
          4.17,
          4.09,
          5.22,
          3.8,
          3.38,
          3.93,
          4.24,
          5.84,
          3.85,
          4.06,
          5.96,
          3.72,
          4.61,
          4.44,
          3.64,
          5.3,
          5.85,
          3.83,
          3.75,
          4.98,
          3.56,
          5.08,
          4.82,
          4.14,
          4.86,
          3.12,
          4.08,
          6.06,
          3.47,
          4.76,
          4.25,
          5.28,
          3.73,
          4.55,
          3.69,
          4.15,
          4.6,
          3.6,
          4.45,
          5.71,
          4.81,
          5.06,
          4.49,
          4.51,
          4.05,
          3.73,
          5.02,
          5.04,
          4.74,
          3.86,
          4.28,
          5.38,
          3.9,
          4.27,
          5.05,
          4.51,
          4.38,
          4.76,
          3.63,
          4.3,
          3.55,
          4.45,
          3.66,
          3.8,
          5.92,
          5.35,
          5.48,
          4.46,
          4.24,
          4.29,
          3.6,
          4.68,
          4.76,
          4.81,
          3.31,
          4.96,
          6.01,
          4.48,
          4.22,
          3.95,
          4.56,
          5.87,
          4.88,
          4.75,
          4.17,
          4.1,
          4.48,
          7.4,
          3.03,
          4.85,
          3.73,
          3.66,
          4.01,
          7.11,
          4.69,
          3.24,
          4.11,
          4.86,
          4.43,
          3.57,
          5.45,
          5.78,
          4.14,
          3.44,
          5.57,
          3.01,
          3.54,
          4.2,
          3.69,
          4.25,
          5.18,
          4.57,
          3.71,
          5,
          4.33,
          3.99,
          3.28,
          3.5,
          3.2,
          3.85,
          4.45,
          5.43,
          5.23,
          4.13,
          4,
          3.96,
          5.01,
          3.44,
          4.17,
          7.47,
          5.14,
          3.99,
          5.57,
          3.52,
          3.95,
          5.58,
          5.49,
          3.36,
          4.5,
          5.04,
          5.49,
          3.87,
          5.22
         ],
         "yaxis": "y"
        },
        {
         "hovertemplate": "<b>OLS trendline</b><br>xERA_adj = 0.861713 * xERA + 0.588136<br>R<sup>2</sup>=0.967921<br><br>xERA=%{x}<br>xERA_adj=%{y} <b>(trend)</b><extra></extra>",
         "legendgroup": "",
         "marker": {
          "symbol": "circle"
         },
         "mode": "lines",
         "name": "",
         "showlegend": false,
         "type": "scatter",
         "x": [
          2.98,
          3.05,
          3.07,
          3.09,
          3.19,
          3.23,
          3.31,
          3.33,
          3.38,
          3.38,
          3.41,
          3.41,
          3.43,
          3.46,
          3.48,
          3.48,
          3.51,
          3.53,
          3.56,
          3.56,
          3.56,
          3.56,
          3.58,
          3.58,
          3.61,
          3.63,
          3.66,
          3.66,
          3.66,
          3.69,
          3.71,
          3.74,
          3.74,
          3.74,
          3.77,
          3.79,
          3.79,
          3.79,
          3.79,
          3.79,
          3.82,
          3.85,
          3.87,
          3.9,
          3.9,
          3.9,
          3.9,
          3.98,
          3.98,
          3.98,
          4.04,
          4.04,
          4.04,
          4.07,
          4.07,
          4.07,
          4.1,
          4.1,
          4.13,
          4.13,
          4.13,
          4.13,
          4.13,
          4.15,
          4.15,
          4.15,
          4.15,
          4.18,
          4.21,
          4.21,
          4.21,
          4.21,
          4.24,
          4.24,
          4.3,
          4.33,
          4.33,
          4.39,
          4.39,
          4.39,
          4.42,
          4.42,
          4.42,
          4.45,
          4.45,
          4.48,
          4.48,
          4.48,
          4.48,
          4.48,
          4.51,
          4.51,
          4.51,
          4.57,
          4.57,
          4.6,
          4.6,
          4.64,
          4.64,
          4.64,
          4.67,
          4.7,
          4.7,
          4.73,
          4.73,
          4.76,
          4.76,
          4.76,
          4.83,
          4.86,
          4.86,
          4.86,
          4.89,
          4.92,
          4.96,
          4.96,
          4.96,
          4.99,
          5.02,
          5.06,
          5.06,
          5.09,
          5.09,
          5.09,
          5.12,
          5.23,
          5.26,
          5.3,
          5.37,
          5.37,
          5.37,
          5.4,
          5.4,
          5.47,
          5.51,
          5.51,
          5.54,
          5.54,
          5.58,
          5.62,
          5.62,
          5.69,
          5.73,
          5.8,
          5.88,
          5.99,
          6.03,
          6.03,
          6.11,
          6.11,
          6.26,
          6.26,
          6.26,
          6.35,
          7.75,
          8.15,
          8.2
         ],
         "xaxis": "x",
         "y": [
          3.156041006173855,
          3.216360921688699,
          3.233595183264369,
          3.250829444840039,
          3.3370007527183883,
          3.3714692758697278,
          3.4404063221724073,
          3.457640583748077,
          3.500726237687252,
          3.500726237687252,
          3.5265776300507565,
          3.5265776300507565,
          3.5438118916264267,
          3.5696632839899314,
          3.586897545565601,
          3.586897545565601,
          3.612748937929106,
          3.6299831995047755,
          3.6558345918682806,
          3.6558345918682806,
          3.6558345918682806,
          3.6558345918682806,
          3.6730688534439504,
          3.6730688534439504,
          3.698920245807455,
          3.716154507383125,
          3.74200589974663,
          3.74200589974663,
          3.74200589974663,
          3.7678572921101345,
          3.7850915536858043,
          3.8109429460493094,
          3.8109429460493094,
          3.8109429460493094,
          3.836794338412814,
          3.854028599988484,
          3.854028599988484,
          3.854028599988484,
          3.854028599988484,
          3.854028599988484,
          3.8798799923519884,
          3.9057313847154935,
          3.9229656462911633,
          3.948817038654668,
          3.948817038654668,
          3.948817038654668,
          3.948817038654668,
          4.017754084957347,
          4.017754084957347,
          4.017754084957347,
          4.069456869684356,
          4.069456869684356,
          4.069456869684356,
          4.095308262047862,
          4.095308262047862,
          4.095308262047862,
          4.121159654411366,
          4.121159654411366,
          4.147011046774871,
          4.147011046774871,
          4.147011046774871,
          4.147011046774871,
          4.147011046774871,
          4.164245308350541,
          4.164245308350541,
          4.164245308350541,
          4.164245308350541,
          4.1900967007140455,
          4.21594809307755,
          4.21594809307755,
          4.21594809307755,
          4.21594809307755,
          4.241799485441056,
          4.241799485441056,
          4.293502270168065,
          4.31935366253157,
          4.31935366253157,
          4.371056447258579,
          4.371056447258579,
          4.371056447258579,
          4.3969078396220835,
          4.3969078396220835,
          4.3969078396220835,
          4.422759231985589,
          4.422759231985589,
          4.448610624349094,
          4.448610624349094,
          4.448610624349094,
          4.448610624349094,
          4.448610624349094,
          4.474462016712598,
          4.474462016712598,
          4.474462016712598,
          4.526164801439608,
          4.526164801439608,
          4.552016193803112,
          4.552016193803112,
          4.586484716954452,
          4.586484716954452,
          4.586484716954452,
          4.6123361093179565,
          4.638187501681462,
          4.638187501681462,
          4.664038894044967,
          4.664038894044967,
          4.689890286408471,
          4.689890286408471,
          4.689890286408471,
          4.7502102019233154,
          4.776061594286821,
          4.776061594286821,
          4.776061594286821,
          4.801912986650325,
          4.82776437901383,
          4.86223290216517,
          4.86223290216517,
          4.86223290216517,
          4.888084294528674,
          4.913935686892179,
          4.948404210043519,
          4.948404210043519,
          4.974255602407023,
          4.974255602407023,
          4.974255602407023,
          5.000106994770529,
          5.094895433436713,
          5.120746825800217,
          5.155215348951557,
          5.215535264466402,
          5.215535264466402,
          5.215535264466402,
          5.241386656829906,
          5.241386656829906,
          5.3017065723447505,
          5.33617509549609,
          5.33617509549609,
          5.362026487859596,
          5.362026487859596,
          5.396495011010935,
          5.430963534162275,
          5.430963534162275,
          5.49128344967712,
          5.525751972828459,
          5.586071888343303,
          5.655008934645982,
          5.749797373312167,
          5.7842658964635065,
          5.7842658964635065,
          5.8532029427661865,
          5.8532029427661865,
          5.98245990458371,
          5.98245990458371,
          5.98245990458371,
          6.060014081674224,
          7.266412391971114,
          7.611097623484511,
          7.654183277423685
         ],
         "yaxis": "y"
        }
       ],
       "layout": {
        "coloraxis": {
         "colorbar": {
          "title": {
           "text": "GB%"
          }
         },
         "colorscale": [
          [
           0,
           "#0d0887"
          ],
          [
           0.1111111111111111,
           "#46039f"
          ],
          [
           0.2222222222222222,
           "#7201a8"
          ],
          [
           0.3333333333333333,
           "#9c179e"
          ],
          [
           0.4444444444444444,
           "#bd3786"
          ],
          [
           0.5555555555555556,
           "#d8576b"
          ],
          [
           0.6666666666666666,
           "#ed7953"
          ],
          [
           0.7777777777777778,
           "#fb9f3a"
          ],
          [
           0.8888888888888888,
           "#fdca26"
          ],
          [
           1,
           "#f0f921"
          ]
         ]
        },
        "legend": {
         "tracegroupgap": 0
        },
        "margin": {
         "t": 60
        },
        "template": {
         "data": {
          "bar": [
           {
            "error_x": {
             "color": "#2a3f5f"
            },
            "error_y": {
             "color": "#2a3f5f"
            },
            "marker": {
             "line": {
              "color": "#E5ECF6",
              "width": 0.5
             },
             "pattern": {
              "fillmode": "overlay",
              "size": 10,
              "solidity": 0.2
             }
            },
            "type": "bar"
           }
          ],
          "barpolar": [
           {
            "marker": {
             "line": {
              "color": "#E5ECF6",
              "width": 0.5
             },
             "pattern": {
              "fillmode": "overlay",
              "size": 10,
              "solidity": 0.2
             }
            },
            "type": "barpolar"
           }
          ],
          "carpet": [
           {
            "aaxis": {
             "endlinecolor": "#2a3f5f",
             "gridcolor": "white",
             "linecolor": "white",
             "minorgridcolor": "white",
             "startlinecolor": "#2a3f5f"
            },
            "baxis": {
             "endlinecolor": "#2a3f5f",
             "gridcolor": "white",
             "linecolor": "white",
             "minorgridcolor": "white",
             "startlinecolor": "#2a3f5f"
            },
            "type": "carpet"
           }
          ],
          "choropleth": [
           {
            "colorbar": {
             "outlinewidth": 0,
             "ticks": ""
            },
            "type": "choropleth"
           }
          ],
          "contour": [
           {
            "colorbar": {
             "outlinewidth": 0,
             "ticks": ""
            },
            "colorscale": [
             [
              0,
              "#0d0887"
             ],
             [
              0.1111111111111111,
              "#46039f"
             ],
             [
              0.2222222222222222,
              "#7201a8"
             ],
             [
              0.3333333333333333,
              "#9c179e"
             ],
             [
              0.4444444444444444,
              "#bd3786"
             ],
             [
              0.5555555555555556,
              "#d8576b"
             ],
             [
              0.6666666666666666,
              "#ed7953"
             ],
             [
              0.7777777777777778,
              "#fb9f3a"
             ],
             [
              0.8888888888888888,
              "#fdca26"
             ],
             [
              1,
              "#f0f921"
             ]
            ],
            "type": "contour"
           }
          ],
          "contourcarpet": [
           {
            "colorbar": {
             "outlinewidth": 0,
             "ticks": ""
            },
            "type": "contourcarpet"
           }
          ],
          "heatmap": [
           {
            "colorbar": {
             "outlinewidth": 0,
             "ticks": ""
            },
            "colorscale": [
             [
              0,
              "#0d0887"
             ],
             [
              0.1111111111111111,
              "#46039f"
             ],
             [
              0.2222222222222222,
              "#7201a8"
             ],
             [
              0.3333333333333333,
              "#9c179e"
             ],
             [
              0.4444444444444444,
              "#bd3786"
             ],
             [
              0.5555555555555556,
              "#d8576b"
             ],
             [
              0.6666666666666666,
              "#ed7953"
             ],
             [
              0.7777777777777778,
              "#fb9f3a"
             ],
             [
              0.8888888888888888,
              "#fdca26"
             ],
             [
              1,
              "#f0f921"
             ]
            ],
            "type": "heatmap"
           }
          ],
          "heatmapgl": [
           {
            "colorbar": {
             "outlinewidth": 0,
             "ticks": ""
            },
            "colorscale": [
             [
              0,
              "#0d0887"
             ],
             [
              0.1111111111111111,
              "#46039f"
             ],
             [
              0.2222222222222222,
              "#7201a8"
             ],
             [
              0.3333333333333333,
              "#9c179e"
             ],
             [
              0.4444444444444444,
              "#bd3786"
             ],
             [
              0.5555555555555556,
              "#d8576b"
             ],
             [
              0.6666666666666666,
              "#ed7953"
             ],
             [
              0.7777777777777778,
              "#fb9f3a"
             ],
             [
              0.8888888888888888,
              "#fdca26"
             ],
             [
              1,
              "#f0f921"
             ]
            ],
            "type": "heatmapgl"
           }
          ],
          "histogram": [
           {
            "marker": {
             "pattern": {
              "fillmode": "overlay",
              "size": 10,
              "solidity": 0.2
             }
            },
            "type": "histogram"
           }
          ],
          "histogram2d": [
           {
            "colorbar": {
             "outlinewidth": 0,
             "ticks": ""
            },
            "colorscale": [
             [
              0,
              "#0d0887"
             ],
             [
              0.1111111111111111,
              "#46039f"
             ],
             [
              0.2222222222222222,
              "#7201a8"
             ],
             [
              0.3333333333333333,
              "#9c179e"
             ],
             [
              0.4444444444444444,
              "#bd3786"
             ],
             [
              0.5555555555555556,
              "#d8576b"
             ],
             [
              0.6666666666666666,
              "#ed7953"
             ],
             [
              0.7777777777777778,
              "#fb9f3a"
             ],
             [
              0.8888888888888888,
              "#fdca26"
             ],
             [
              1,
              "#f0f921"
             ]
            ],
            "type": "histogram2d"
           }
          ],
          "histogram2dcontour": [
           {
            "colorbar": {
             "outlinewidth": 0,
             "ticks": ""
            },
            "colorscale": [
             [
              0,
              "#0d0887"
             ],
             [
              0.1111111111111111,
              "#46039f"
             ],
             [
              0.2222222222222222,
              "#7201a8"
             ],
             [
              0.3333333333333333,
              "#9c179e"
             ],
             [
              0.4444444444444444,
              "#bd3786"
             ],
             [
              0.5555555555555556,
              "#d8576b"
             ],
             [
              0.6666666666666666,
              "#ed7953"
             ],
             [
              0.7777777777777778,
              "#fb9f3a"
             ],
             [
              0.8888888888888888,
              "#fdca26"
             ],
             [
              1,
              "#f0f921"
             ]
            ],
            "type": "histogram2dcontour"
           }
          ],
          "mesh3d": [
           {
            "colorbar": {
             "outlinewidth": 0,
             "ticks": ""
            },
            "type": "mesh3d"
           }
          ],
          "parcoords": [
           {
            "line": {
             "colorbar": {
              "outlinewidth": 0,
              "ticks": ""
             }
            },
            "type": "parcoords"
           }
          ],
          "pie": [
           {
            "automargin": true,
            "type": "pie"
           }
          ],
          "scatter": [
           {
            "fillpattern": {
             "fillmode": "overlay",
             "size": 10,
             "solidity": 0.2
            },
            "type": "scatter"
           }
          ],
          "scatter3d": [
           {
            "line": {
             "colorbar": {
              "outlinewidth": 0,
              "ticks": ""
             }
            },
            "marker": {
             "colorbar": {
              "outlinewidth": 0,
              "ticks": ""
             }
            },
            "type": "scatter3d"
           }
          ],
          "scattercarpet": [
           {
            "marker": {
             "colorbar": {
              "outlinewidth": 0,
              "ticks": ""
             }
            },
            "type": "scattercarpet"
           }
          ],
          "scattergeo": [
           {
            "marker": {
             "colorbar": {
              "outlinewidth": 0,
              "ticks": ""
             }
            },
            "type": "scattergeo"
           }
          ],
          "scattergl": [
           {
            "marker": {
             "colorbar": {
              "outlinewidth": 0,
              "ticks": ""
             }
            },
            "type": "scattergl"
           }
          ],
          "scattermapbox": [
           {
            "marker": {
             "colorbar": {
              "outlinewidth": 0,
              "ticks": ""
             }
            },
            "type": "scattermapbox"
           }
          ],
          "scatterpolar": [
           {
            "marker": {
             "colorbar": {
              "outlinewidth": 0,
              "ticks": ""
             }
            },
            "type": "scatterpolar"
           }
          ],
          "scatterpolargl": [
           {
            "marker": {
             "colorbar": {
              "outlinewidth": 0,
              "ticks": ""
             }
            },
            "type": "scatterpolargl"
           }
          ],
          "scatterternary": [
           {
            "marker": {
             "colorbar": {
              "outlinewidth": 0,
              "ticks": ""
             }
            },
            "type": "scatterternary"
           }
          ],
          "surface": [
           {
            "colorbar": {
             "outlinewidth": 0,
             "ticks": ""
            },
            "colorscale": [
             [
              0,
              "#0d0887"
             ],
             [
              0.1111111111111111,
              "#46039f"
             ],
             [
              0.2222222222222222,
              "#7201a8"
             ],
             [
              0.3333333333333333,
              "#9c179e"
             ],
             [
              0.4444444444444444,
              "#bd3786"
             ],
             [
              0.5555555555555556,
              "#d8576b"
             ],
             [
              0.6666666666666666,
              "#ed7953"
             ],
             [
              0.7777777777777778,
              "#fb9f3a"
             ],
             [
              0.8888888888888888,
              "#fdca26"
             ],
             [
              1,
              "#f0f921"
             ]
            ],
            "type": "surface"
           }
          ],
          "table": [
           {
            "cells": {
             "fill": {
              "color": "#EBF0F8"
             },
             "line": {
              "color": "white"
             }
            },
            "header": {
             "fill": {
              "color": "#C8D4E3"
             },
             "line": {
              "color": "white"
             }
            },
            "type": "table"
           }
          ]
         },
         "layout": {
          "annotationdefaults": {
           "arrowcolor": "#2a3f5f",
           "arrowhead": 0,
           "arrowwidth": 1
          },
          "autotypenumbers": "strict",
          "coloraxis": {
           "colorbar": {
            "outlinewidth": 0,
            "ticks": ""
           }
          },
          "colorscale": {
           "diverging": [
            [
             0,
             "#8e0152"
            ],
            [
             0.1,
             "#c51b7d"
            ],
            [
             0.2,
             "#de77ae"
            ],
            [
             0.3,
             "#f1b6da"
            ],
            [
             0.4,
             "#fde0ef"
            ],
            [
             0.5,
             "#f7f7f7"
            ],
            [
             0.6,
             "#e6f5d0"
            ],
            [
             0.7,
             "#b8e186"
            ],
            [
             0.8,
             "#7fbc41"
            ],
            [
             0.9,
             "#4d9221"
            ],
            [
             1,
             "#276419"
            ]
           ],
           "sequential": [
            [
             0,
             "#0d0887"
            ],
            [
             0.1111111111111111,
             "#46039f"
            ],
            [
             0.2222222222222222,
             "#7201a8"
            ],
            [
             0.3333333333333333,
             "#9c179e"
            ],
            [
             0.4444444444444444,
             "#bd3786"
            ],
            [
             0.5555555555555556,
             "#d8576b"
            ],
            [
             0.6666666666666666,
             "#ed7953"
            ],
            [
             0.7777777777777778,
             "#fb9f3a"
            ],
            [
             0.8888888888888888,
             "#fdca26"
            ],
            [
             1,
             "#f0f921"
            ]
           ],
           "sequentialminus": [
            [
             0,
             "#0d0887"
            ],
            [
             0.1111111111111111,
             "#46039f"
            ],
            [
             0.2222222222222222,
             "#7201a8"
            ],
            [
             0.3333333333333333,
             "#9c179e"
            ],
            [
             0.4444444444444444,
             "#bd3786"
            ],
            [
             0.5555555555555556,
             "#d8576b"
            ],
            [
             0.6666666666666666,
             "#ed7953"
            ],
            [
             0.7777777777777778,
             "#fb9f3a"
            ],
            [
             0.8888888888888888,
             "#fdca26"
            ],
            [
             1,
             "#f0f921"
            ]
           ]
          },
          "colorway": [
           "#636efa",
           "#EF553B",
           "#00cc96",
           "#ab63fa",
           "#FFA15A",
           "#19d3f3",
           "#FF6692",
           "#B6E880",
           "#FF97FF",
           "#FECB52"
          ],
          "font": {
           "color": "#2a3f5f"
          },
          "geo": {
           "bgcolor": "white",
           "lakecolor": "white",
           "landcolor": "#E5ECF6",
           "showlakes": true,
           "showland": true,
           "subunitcolor": "white"
          },
          "hoverlabel": {
           "align": "left"
          },
          "hovermode": "closest",
          "mapbox": {
           "style": "light"
          },
          "paper_bgcolor": "white",
          "plot_bgcolor": "#E5ECF6",
          "polar": {
           "angularaxis": {
            "gridcolor": "white",
            "linecolor": "white",
            "ticks": ""
           },
           "bgcolor": "#E5ECF6",
           "radialaxis": {
            "gridcolor": "white",
            "linecolor": "white",
            "ticks": ""
           }
          },
          "scene": {
           "xaxis": {
            "backgroundcolor": "#E5ECF6",
            "gridcolor": "white",
            "gridwidth": 2,
            "linecolor": "white",
            "showbackground": true,
            "ticks": "",
            "zerolinecolor": "white"
           },
           "yaxis": {
            "backgroundcolor": "#E5ECF6",
            "gridcolor": "white",
            "gridwidth": 2,
            "linecolor": "white",
            "showbackground": true,
            "ticks": "",
            "zerolinecolor": "white"
           },
           "zaxis": {
            "backgroundcolor": "#E5ECF6",
            "gridcolor": "white",
            "gridwidth": 2,
            "linecolor": "white",
            "showbackground": true,
            "ticks": "",
            "zerolinecolor": "white"
           }
          },
          "shapedefaults": {
           "line": {
            "color": "#2a3f5f"
           }
          },
          "ternary": {
           "aaxis": {
            "gridcolor": "white",
            "linecolor": "white",
            "ticks": ""
           },
           "baxis": {
            "gridcolor": "white",
            "linecolor": "white",
            "ticks": ""
           },
           "bgcolor": "#E5ECF6",
           "caxis": {
            "gridcolor": "white",
            "linecolor": "white",
            "ticks": ""
           }
          },
          "title": {
           "x": 0.05
          },
          "xaxis": {
           "automargin": true,
           "gridcolor": "white",
           "linecolor": "white",
           "ticks": "",
           "title": {
            "standoff": 15
           },
           "zerolinecolor": "white",
           "zerolinewidth": 2
          },
          "yaxis": {
           "automargin": true,
           "gridcolor": "white",
           "linecolor": "white",
           "ticks": "",
           "title": {
            "standoff": 15
           },
           "zerolinecolor": "white",
           "zerolinewidth": 2
          }
         }
        },
        "xaxis": {
         "anchor": "y",
         "domain": [
          0,
          1
         ],
         "title": {
          "text": "xERA"
         }
        },
        "yaxis": {
         "anchor": "x",
         "domain": [
          0,
          1
         ],
         "title": {
          "text": "xERA_adj"
         }
        }
       }
      }
     },
     "metadata": {},
     "output_type": "display_data"
    }
   ],
   "source": [
    "px.scatter(df_2023.loc[df_2023['IP']>50], x='xERA', y='xERA_adj', color='GB%', hover_name='Name', hover_data=['ERA', 'xERA'], trendline='ols')"
   ]
  },
  {
   "cell_type": "code",
   "execution_count": 41,
   "metadata": {},
   "outputs": [
    {
     "data": {
      "text/html": [
       "<div>\n",
       "<style scoped>\n",
       "    .dataframe tbody tr th:only-of-type {\n",
       "        vertical-align: middle;\n",
       "    }\n",
       "\n",
       "    .dataframe tbody tr th {\n",
       "        vertical-align: top;\n",
       "    }\n",
       "\n",
       "    .dataframe thead th {\n",
       "        text-align: right;\n",
       "    }\n",
       "</style>\n",
       "<table border=\"1\" class=\"dataframe\">\n",
       "  <thead>\n",
       "    <tr style=\"text-align: right;\">\n",
       "      <th></th>\n",
       "      <th>rf_xwoba</th>\n",
       "      <th>sxwOBA</th>\n",
       "      <th>gidp_prob</th>\n",
       "      <th>gidp_adj</th>\n",
       "      <th>sxwOBA_adj</th>\n",
       "      <th>xwOBA_adj</th>\n",
       "      <th>estimated_woba_using_speedangle</th>\n",
       "    </tr>\n",
       "  </thead>\n",
       "  <tbody>\n",
       "    <tr>\n",
       "      <th>22522</th>\n",
       "      <td>0.112</td>\n",
       "      <td>0.163</td>\n",
       "      <td>0.036</td>\n",
       "      <td>0.011</td>\n",
       "      <td>0.152</td>\n",
       "      <td>0.123</td>\n",
       "      <td>0.134</td>\n",
       "    </tr>\n",
       "    <tr>\n",
       "      <th>34270</th>\n",
       "      <td>0.178</td>\n",
       "      <td>0.153</td>\n",
       "      <td>0.028</td>\n",
       "      <td>0.009</td>\n",
       "      <td>0.144</td>\n",
       "      <td>0.123</td>\n",
       "      <td>0.132</td>\n",
       "    </tr>\n",
       "    <tr>\n",
       "      <th>34278</th>\n",
       "      <td>0.104</td>\n",
       "      <td>0.053</td>\n",
       "      <td>0.039</td>\n",
       "      <td>0.013</td>\n",
       "      <td>0.040</td>\n",
       "      <td>0.051</td>\n",
       "      <td>0.064</td>\n",
       "    </tr>\n",
       "    <tr>\n",
       "      <th>40530</th>\n",
       "      <td>0.038</td>\n",
       "      <td>0.045</td>\n",
       "      <td>0.051</td>\n",
       "      <td>0.016</td>\n",
       "      <td>0.029</td>\n",
       "      <td>0.095</td>\n",
       "      <td>0.111</td>\n",
       "    </tr>\n",
       "    <tr>\n",
       "      <th>46215</th>\n",
       "      <td>0.138</td>\n",
       "      <td>0.056</td>\n",
       "      <td>0.059</td>\n",
       "      <td>0.019</td>\n",
       "      <td>0.037</td>\n",
       "      <td>0.060</td>\n",
       "      <td>0.079</td>\n",
       "    </tr>\n",
       "    <tr>\n",
       "      <th>46235</th>\n",
       "      <td>0.110</td>\n",
       "      <td>0.062</td>\n",
       "      <td>0.059</td>\n",
       "      <td>0.019</td>\n",
       "      <td>0.044</td>\n",
       "      <td>0.050</td>\n",
       "      <td>0.069</td>\n",
       "    </tr>\n",
       "    <tr>\n",
       "      <th>50834</th>\n",
       "      <td>0.580</td>\n",
       "      <td>0.622</td>\n",
       "      <td>0.025</td>\n",
       "      <td>0.008</td>\n",
       "      <td>0.613</td>\n",
       "      <td>0.512</td>\n",
       "      <td>0.520</td>\n",
       "    </tr>\n",
       "    <tr>\n",
       "      <th>56470</th>\n",
       "      <td>0.126</td>\n",
       "      <td>0.206</td>\n",
       "      <td>0.036</td>\n",
       "      <td>0.011</td>\n",
       "      <td>0.195</td>\n",
       "      <td>0.223</td>\n",
       "      <td>0.234</td>\n",
       "    </tr>\n",
       "    <tr>\n",
       "      <th>62787</th>\n",
       "      <td>0.214</td>\n",
       "      <td>0.248</td>\n",
       "      <td>0.037</td>\n",
       "      <td>0.012</td>\n",
       "      <td>0.236</td>\n",
       "      <td>0.253</td>\n",
       "      <td>0.265</td>\n",
       "    </tr>\n",
       "    <tr>\n",
       "      <th>80330</th>\n",
       "      <td>0.317</td>\n",
       "      <td>0.265</td>\n",
       "      <td>0.033</td>\n",
       "      <td>0.011</td>\n",
       "      <td>0.255</td>\n",
       "      <td>0.233</td>\n",
       "      <td>0.244</td>\n",
       "    </tr>\n",
       "    <tr>\n",
       "      <th>80348</th>\n",
       "      <td>0.428</td>\n",
       "      <td>0.534</td>\n",
       "      <td>0.029</td>\n",
       "      <td>0.009</td>\n",
       "      <td>0.524</td>\n",
       "      <td>0.466</td>\n",
       "      <td>0.475</td>\n",
       "    </tr>\n",
       "    <tr>\n",
       "      <th>93869</th>\n",
       "      <td>0.296</td>\n",
       "      <td>0.502</td>\n",
       "      <td>0.034</td>\n",
       "      <td>0.011</td>\n",
       "      <td>0.491</td>\n",
       "      <td>0.229</td>\n",
       "      <td>0.240</td>\n",
       "    </tr>\n",
       "  </tbody>\n",
       "</table>\n",
       "</div>"
      ],
      "text/plain": [
       "       rf_xwoba  sxwOBA  gidp_prob  gidp_adj  sxwOBA_adj  xwOBA_adj  \\\n",
       "22522     0.112   0.163      0.036     0.011       0.152      0.123   \n",
       "34270     0.178   0.153      0.028     0.009       0.144      0.123   \n",
       "34278     0.104   0.053      0.039     0.013       0.040      0.051   \n",
       "40530     0.038   0.045      0.051     0.016       0.029      0.095   \n",
       "46215     0.138   0.056      0.059     0.019       0.037      0.060   \n",
       "46235     0.110   0.062      0.059     0.019       0.044      0.050   \n",
       "50834     0.580   0.622      0.025     0.008       0.613      0.512   \n",
       "56470     0.126   0.206      0.036     0.011       0.195      0.223   \n",
       "62787     0.214   0.248      0.037     0.012       0.236      0.253   \n",
       "80330     0.317   0.265      0.033     0.011       0.255      0.233   \n",
       "80348     0.428   0.534      0.029     0.009       0.524      0.466   \n",
       "93869     0.296   0.502      0.034     0.011       0.491      0.229   \n",
       "\n",
       "       estimated_woba_using_speedangle  \n",
       "22522                            0.134  \n",
       "34270                            0.132  \n",
       "34278                            0.064  \n",
       "40530                            0.111  \n",
       "46215                            0.079  \n",
       "46235                            0.069  \n",
       "50834                            0.520  \n",
       "56470                            0.234  \n",
       "62787                            0.265  \n",
       "80330                            0.244  \n",
       "80348                            0.475  \n",
       "93869                            0.240  "
      ]
     },
     "execution_count": 41,
     "metadata": {},
     "output_type": "execute_result"
    }
   ],
   "source": [
    "df3.loc[(df3['player_name']=='Cobb, Alex') & (df3['events']=='grounded_into_double_play'), ['rf_xwoba', 'sxwOBA', 'gidp_prob', 'gidp_adj', 'sxwOBA_adj', 'xwOBA_adj', 'estimated_woba_using_speedangle']].head(20).round(3)"
   ]
  },
  {
   "cell_type": "code",
   "execution_count": 43,
   "metadata": {},
   "outputs": [
    {
     "data": {
      "text/plain": [
       "rf_xwoba                           0.327016\n",
       "sxwOBA                             0.328655\n",
       "gidp_prob                          0.026741\n",
       "gidp_adj                           0.005761\n",
       "sxwOBA_adj                         0.322879\n",
       "xwOBA_adj                          0.314288\n",
       "estimated_woba_using_speedangle    0.320061\n",
       "dtype: float64"
      ]
     },
     "execution_count": 43,
     "metadata": {},
     "output_type": "execute_result"
    }
   ],
   "source": [
    "df3.loc[:, ['rf_xwoba', 'sxwOBA', 'gidp_prob', 'gidp_adj', 'sxwOBA_adj', 'xwOBA_adj', 'estimated_woba_using_speedangle']].mean()"
   ]
  },
  {
   "cell_type": "code",
   "execution_count": 42,
   "metadata": {},
   "outputs": [
    {
     "data": {
      "text/plain": [
       "rf_xwoba                           0.338642\n",
       "sxwOBA                             0.335462\n",
       "gidp_prob                          0.033847\n",
       "gidp_adj                           0.007785\n",
       "sxwOBA_adj                         0.327677\n",
       "xwOBA_adj                          0.318997\n",
       "estimated_woba_using_speedangle    0.326781\n",
       "dtype: float64"
      ]
     },
     "execution_count": 42,
     "metadata": {},
     "output_type": "execute_result"
    }
   ],
   "source": [
    "df3.loc[df3['player_name']=='Cobb, Alex', ['rf_xwoba', 'sxwOBA', 'gidp_prob', 'gidp_adj', 'sxwOBA_adj', 'xwOBA_adj', 'estimated_woba_using_speedangle']].mean()"
   ]
  },
  {
   "cell_type": "code",
   "execution_count": 57,
   "metadata": {},
   "outputs": [
    {
     "data": {
      "text/html": [
       "<div>\n",
       "<style scoped>\n",
       "    .dataframe tbody tr th:only-of-type {\n",
       "        vertical-align: middle;\n",
       "    }\n",
       "\n",
       "    .dataframe tbody tr th {\n",
       "        vertical-align: top;\n",
       "    }\n",
       "\n",
       "    .dataframe thead th {\n",
       "        text-align: right;\n",
       "    }\n",
       "</style>\n",
       "<table border=\"1\" class=\"dataframe\">\n",
       "  <thead>\n",
       "    <tr style=\"text-align: right;\">\n",
       "      <th></th>\n",
       "      <th>index</th>\n",
       "      <th>player_name</th>\n",
       "      <th>pitcher</th>\n",
       "      <th>xwOBA_adj</th>\n",
       "      <th>sxwOBA_adj</th>\n",
       "      <th>Name</th>\n",
       "      <th>IP</th>\n",
       "      <th>ERA</th>\n",
       "      <th>FIP</th>\n",
       "      <th>xFIP</th>\n",
       "      <th>SIERA</th>\n",
       "      <th>xERA</th>\n",
       "      <th>GB%</th>\n",
       "      <th>key_mlbam</th>\n",
       "      <th>sxERA</th>\n",
       "      <th>diff</th>\n",
       "    </tr>\n",
       "  </thead>\n",
       "  <tbody>\n",
       "    <tr>\n",
       "      <th>155</th>\n",
       "      <td>480</td>\n",
       "      <td>Muller, Kyle</td>\n",
       "      <td>666205</td>\n",
       "      <td>0.411799</td>\n",
       "      <td>0.422179</td>\n",
       "      <td>Kyle Muller</td>\n",
       "      <td>52.0</td>\n",
       "      <td>7.79</td>\n",
       "      <td>6.11</td>\n",
       "      <td>5.31</td>\n",
       "      <td>5.46</td>\n",
       "      <td>8.15</td>\n",
       "      <td>0.478</td>\n",
       "      <td>666205.0</td>\n",
       "      <td>7.19</td>\n",
       "      <td>0.96</td>\n",
       "    </tr>\n",
       "    <tr>\n",
       "      <th>156</th>\n",
       "      <td>707</td>\n",
       "      <td>Wainwright, Adam</td>\n",
       "      <td>425794</td>\n",
       "      <td>0.413839</td>\n",
       "      <td>0.419604</td>\n",
       "      <td>Adam Wainwright</td>\n",
       "      <td>51.2</td>\n",
       "      <td>7.66</td>\n",
       "      <td>5.89</td>\n",
       "      <td>5.87</td>\n",
       "      <td>5.81</td>\n",
       "      <td>8.20</td>\n",
       "      <td>0.351</td>\n",
       "      <td>425794.0</td>\n",
       "      <td>7.25</td>\n",
       "      <td>0.95</td>\n",
       "    </tr>\n",
       "    <tr>\n",
       "      <th>154</th>\n",
       "      <td>507</td>\n",
       "      <td>Ortiz, Luis L.</td>\n",
       "      <td>682847</td>\n",
       "      <td>0.403541</td>\n",
       "      <td>0.408546</td>\n",
       "      <td>Luis Ortiz</td>\n",
       "      <td>53.2</td>\n",
       "      <td>4.86</td>\n",
       "      <td>6.20</td>\n",
       "      <td>5.34</td>\n",
       "      <td>5.54</td>\n",
       "      <td>7.75</td>\n",
       "      <td>0.478</td>\n",
       "      <td>682847.0</td>\n",
       "      <td>6.95</td>\n",
       "      <td>0.80</td>\n",
       "    </tr>\n",
       "    <tr>\n",
       "      <th>145</th>\n",
       "      <td>248</td>\n",
       "      <td>Gomber, Austin</td>\n",
       "      <td>596295</td>\n",
       "      <td>0.361718</td>\n",
       "      <td>0.373473</td>\n",
       "      <td>Austin Gomber</td>\n",
       "      <td>96.0</td>\n",
       "      <td>6.19</td>\n",
       "      <td>5.83</td>\n",
       "      <td>4.90</td>\n",
       "      <td>5.11</td>\n",
       "      <td>6.26</td>\n",
       "      <td>0.425</td>\n",
       "      <td>596295.0</td>\n",
       "      <td>5.73</td>\n",
       "      <td>0.53</td>\n",
       "    </tr>\n",
       "    <tr>\n",
       "      <th>142</th>\n",
       "      <td>569</td>\n",
       "      <td>Rodriguez, Grayson</td>\n",
       "      <td>680570</td>\n",
       "      <td>0.357139</td>\n",
       "      <td>0.374097</td>\n",
       "      <td>Grayson Rodriguez</td>\n",
       "      <td>50.1</td>\n",
       "      <td>7.33</td>\n",
       "      <td>5.64</td>\n",
       "      <td>3.88</td>\n",
       "      <td>4.17</td>\n",
       "      <td>6.11</td>\n",
       "      <td>0.413</td>\n",
       "      <td>680570.0</td>\n",
       "      <td>5.60</td>\n",
       "      <td>0.51</td>\n",
       "    </tr>\n",
       "    <tr>\n",
       "      <th>116</th>\n",
       "      <td>22</td>\n",
       "      <td>Anderson, Chase</td>\n",
       "      <td>502624</td>\n",
       "      <td>0.337657</td>\n",
       "      <td>0.369952</td>\n",
       "      <td>Chase Anderson</td>\n",
       "      <td>54.2</td>\n",
       "      <td>6.26</td>\n",
       "      <td>6.61</td>\n",
       "      <td>5.40</td>\n",
       "      <td>5.18</td>\n",
       "      <td>5.51</td>\n",
       "      <td>0.367</td>\n",
       "      <td>502624.0</td>\n",
       "      <td>5.04</td>\n",
       "      <td>0.47</td>\n",
       "    </tr>\n",
       "    <tr>\n",
       "      <th>118</th>\n",
       "      <td>618</td>\n",
       "      <td>Singer, Brady</td>\n",
       "      <td>663903</td>\n",
       "      <td>0.338539</td>\n",
       "      <td>0.351854</td>\n",
       "      <td>Brady Singer</td>\n",
       "      <td>102.2</td>\n",
       "      <td>5.70</td>\n",
       "      <td>4.41</td>\n",
       "      <td>4.49</td>\n",
       "      <td>4.69</td>\n",
       "      <td>5.47</td>\n",
       "      <td>0.474</td>\n",
       "      <td>663903.0</td>\n",
       "      <td>5.06</td>\n",
       "      <td>0.41</td>\n",
       "    </tr>\n",
       "    <tr>\n",
       "      <th>148</th>\n",
       "      <td>141</td>\n",
       "      <td>Corbin, Patrick</td>\n",
       "      <td>571578</td>\n",
       "      <td>0.366278</td>\n",
       "      <td>0.375153</td>\n",
       "      <td>Patrick Corbin</td>\n",
       "      <td>114.0</td>\n",
       "      <td>4.89</td>\n",
       "      <td>4.89</td>\n",
       "      <td>4.49</td>\n",
       "      <td>4.85</td>\n",
       "      <td>6.26</td>\n",
       "      <td>0.447</td>\n",
       "      <td>571578.0</td>\n",
       "      <td>5.87</td>\n",
       "      <td>0.39</td>\n",
       "    </tr>\n",
       "    <tr>\n",
       "      <th>151</th>\n",
       "      <td>125</td>\n",
       "      <td>Chirinos, Yonny</td>\n",
       "      <td>630023</td>\n",
       "      <td>0.369701</td>\n",
       "      <td>0.364895</td>\n",
       "      <td>Yonny Chirinos</td>\n",
       "      <td>62.2</td>\n",
       "      <td>4.02</td>\n",
       "      <td>5.53</td>\n",
       "      <td>5.38</td>\n",
       "      <td>5.34</td>\n",
       "      <td>6.35</td>\n",
       "      <td>0.432</td>\n",
       "      <td>630023.0</td>\n",
       "      <td>5.97</td>\n",
       "      <td>0.38</td>\n",
       "    </tr>\n",
       "    <tr>\n",
       "      <th>94</th>\n",
       "      <td>447</td>\n",
       "      <td>Medina, Luis</td>\n",
       "      <td>665622</td>\n",
       "      <td>0.323310</td>\n",
       "      <td>0.341008</td>\n",
       "      <td>Luis Medina</td>\n",
       "      <td>65.1</td>\n",
       "      <td>5.79</td>\n",
       "      <td>5.09</td>\n",
       "      <td>4.48</td>\n",
       "      <td>4.63</td>\n",
       "      <td>4.99</td>\n",
       "      <td>0.464</td>\n",
       "      <td>665622.0</td>\n",
       "      <td>4.62</td>\n",
       "      <td>0.37</td>\n",
       "    </tr>\n",
       "    <tr>\n",
       "      <th>134</th>\n",
       "      <td>62</td>\n",
       "      <td>Bielak, Brandon</td>\n",
       "      <td>656232</td>\n",
       "      <td>0.349513</td>\n",
       "      <td>0.363848</td>\n",
       "      <td>Brandon Bielak</td>\n",
       "      <td>59.1</td>\n",
       "      <td>3.79</td>\n",
       "      <td>5.25</td>\n",
       "      <td>4.66</td>\n",
       "      <td>4.81</td>\n",
       "      <td>5.73</td>\n",
       "      <td>0.500</td>\n",
       "      <td>656232.0</td>\n",
       "      <td>5.38</td>\n",
       "      <td>0.35</td>\n",
       "    </tr>\n",
       "    <tr>\n",
       "      <th>36</th>\n",
       "      <td>282</td>\n",
       "      <td>Hendricks, Kyle</td>\n",
       "      <td>543294</td>\n",
       "      <td>0.297282</td>\n",
       "      <td>0.288408</td>\n",
       "      <td>Kyle Hendricks</td>\n",
       "      <td>58.0</td>\n",
       "      <td>3.57</td>\n",
       "      <td>4.44</td>\n",
       "      <td>4.70</td>\n",
       "      <td>4.74</td>\n",
       "      <td>4.21</td>\n",
       "      <td>0.441</td>\n",
       "      <td>543294.0</td>\n",
       "      <td>3.86</td>\n",
       "      <td>0.35</td>\n",
       "    </tr>\n",
       "    <tr>\n",
       "      <th>127</th>\n",
       "      <td>28</td>\n",
       "      <td>Ashcraft, Graham</td>\n",
       "      <td>668933</td>\n",
       "      <td>0.344402</td>\n",
       "      <td>0.354093</td>\n",
       "      <td>Graham Ashcraft</td>\n",
       "      <td>87.2</td>\n",
       "      <td>5.95</td>\n",
       "      <td>5.26</td>\n",
       "      <td>4.84</td>\n",
       "      <td>5.08</td>\n",
       "      <td>5.51</td>\n",
       "      <td>0.486</td>\n",
       "      <td>668933.0</td>\n",
       "      <td>5.23</td>\n",
       "      <td>0.28</td>\n",
       "    </tr>\n",
       "    <tr>\n",
       "      <th>39</th>\n",
       "      <td>743</td>\n",
       "      <td>Winckowski, Josh</td>\n",
       "      <td>670174</td>\n",
       "      <td>0.297868</td>\n",
       "      <td>0.321803</td>\n",
       "      <td>Josh Winckowski</td>\n",
       "      <td>51.2</td>\n",
       "      <td>3.14</td>\n",
       "      <td>4.81</td>\n",
       "      <td>4.23</td>\n",
       "      <td>4.10</td>\n",
       "      <td>4.15</td>\n",
       "      <td>0.522</td>\n",
       "      <td>670174.0</td>\n",
       "      <td>3.88</td>\n",
       "      <td>0.27</td>\n",
       "    </tr>\n",
       "    <tr>\n",
       "      <th>86</th>\n",
       "      <td>391</td>\n",
       "      <td>Lively, Ben</td>\n",
       "      <td>594902</td>\n",
       "      <td>0.319551</td>\n",
       "      <td>0.334148</td>\n",
       "      <td>Ben Lively</td>\n",
       "      <td>55.2</td>\n",
       "      <td>3.72</td>\n",
       "      <td>4.88</td>\n",
       "      <td>4.22</td>\n",
       "      <td>4.13</td>\n",
       "      <td>4.76</td>\n",
       "      <td>0.377</td>\n",
       "      <td>594902.0</td>\n",
       "      <td>4.51</td>\n",
       "      <td>0.25</td>\n",
       "    </tr>\n",
       "    <tr>\n",
       "      <th>152</th>\n",
       "      <td>418</td>\n",
       "      <td>Manoah, Alek</td>\n",
       "      <td>666201</td>\n",
       "      <td>0.371137</td>\n",
       "      <td>0.382557</td>\n",
       "      <td>Alek Manoah</td>\n",
       "      <td>67.0</td>\n",
       "      <td>6.18</td>\n",
       "      <td>6.28</td>\n",
       "      <td>6.07</td>\n",
       "      <td>5.90</td>\n",
       "      <td>6.26</td>\n",
       "      <td>0.376</td>\n",
       "      <td>666201.0</td>\n",
       "      <td>6.01</td>\n",
       "      <td>0.25</td>\n",
       "    </tr>\n",
       "    <tr>\n",
       "      <th>9</th>\n",
       "      <td>98</td>\n",
       "      <td>Burnes, Corbin</td>\n",
       "      <td>669203</td>\n",
       "      <td>0.278402</td>\n",
       "      <td>0.287112</td>\n",
       "      <td>Corbin Burnes</td>\n",
       "      <td>113.1</td>\n",
       "      <td>3.73</td>\n",
       "      <td>4.09</td>\n",
       "      <td>4.05</td>\n",
       "      <td>4.17</td>\n",
       "      <td>3.56</td>\n",
       "      <td>0.412</td>\n",
       "      <td>669203.0</td>\n",
       "      <td>3.32</td>\n",
       "      <td>0.24</td>\n",
       "    </tr>\n",
       "    <tr>\n",
       "      <th>64</th>\n",
       "      <td>589</td>\n",
       "      <td>Sandoval, Patrick</td>\n",
       "      <td>663776</td>\n",
       "      <td>0.310347</td>\n",
       "      <td>0.323508</td>\n",
       "      <td>Patrick Sandoval</td>\n",
       "      <td>93.0</td>\n",
       "      <td>4.16</td>\n",
       "      <td>4.01</td>\n",
       "      <td>4.41</td>\n",
       "      <td>4.72</td>\n",
       "      <td>4.45</td>\n",
       "      <td>0.510</td>\n",
       "      <td>663776.0</td>\n",
       "      <td>4.24</td>\n",
       "      <td>0.21</td>\n",
       "    </tr>\n",
       "    <tr>\n",
       "      <th>2</th>\n",
       "      <td>188</td>\n",
       "      <td>Eflin, Zach</td>\n",
       "      <td>621107</td>\n",
       "      <td>0.267229</td>\n",
       "      <td>0.273284</td>\n",
       "      <td>Zach Eflin</td>\n",
       "      <td>105.1</td>\n",
       "      <td>3.59</td>\n",
       "      <td>3.15</td>\n",
       "      <td>3.18</td>\n",
       "      <td>3.35</td>\n",
       "      <td>3.19</td>\n",
       "      <td>0.528</td>\n",
       "      <td>621107.0</td>\n",
       "      <td>2.99</td>\n",
       "      <td>0.20</td>\n",
       "    </tr>\n",
       "    <tr>\n",
       "      <th>146</th>\n",
       "      <td>547</td>\n",
       "      <td>Quantrill, Cal</td>\n",
       "      <td>615698</td>\n",
       "      <td>0.364058</td>\n",
       "      <td>0.350474</td>\n",
       "      <td>Cal Quantrill</td>\n",
       "      <td>67.0</td>\n",
       "      <td>6.45</td>\n",
       "      <td>4.92</td>\n",
       "      <td>5.37</td>\n",
       "      <td>5.46</td>\n",
       "      <td>5.99</td>\n",
       "      <td>0.411</td>\n",
       "      <td>615698.0</td>\n",
       "      <td>5.80</td>\n",
       "      <td>0.19</td>\n",
       "    </tr>\n",
       "  </tbody>\n",
       "</table>\n",
       "</div>"
      ],
      "text/plain": [
       "     index         player_name  pitcher  xwOBA_adj  sxwOBA_adj  \\\n",
       "155    480        Muller, Kyle   666205   0.411799    0.422179   \n",
       "156    707    Wainwright, Adam   425794   0.413839    0.419604   \n",
       "154    507      Ortiz, Luis L.   682847   0.403541    0.408546   \n",
       "145    248      Gomber, Austin   596295   0.361718    0.373473   \n",
       "142    569  Rodriguez, Grayson   680570   0.357139    0.374097   \n",
       "116     22     Anderson, Chase   502624   0.337657    0.369952   \n",
       "118    618       Singer, Brady   663903   0.338539    0.351854   \n",
       "148    141     Corbin, Patrick   571578   0.366278    0.375153   \n",
       "151    125     Chirinos, Yonny   630023   0.369701    0.364895   \n",
       "94     447        Medina, Luis   665622   0.323310    0.341008   \n",
       "134     62     Bielak, Brandon   656232   0.349513    0.363848   \n",
       "36     282     Hendricks, Kyle   543294   0.297282    0.288408   \n",
       "127     28    Ashcraft, Graham   668933   0.344402    0.354093   \n",
       "39     743    Winckowski, Josh   670174   0.297868    0.321803   \n",
       "86     391         Lively, Ben   594902   0.319551    0.334148   \n",
       "152    418        Manoah, Alek   666201   0.371137    0.382557   \n",
       "9       98      Burnes, Corbin   669203   0.278402    0.287112   \n",
       "64     589   Sandoval, Patrick   663776   0.310347    0.323508   \n",
       "2      188         Eflin, Zach   621107   0.267229    0.273284   \n",
       "146    547      Quantrill, Cal   615698   0.364058    0.350474   \n",
       "\n",
       "                  Name     IP   ERA   FIP  xFIP  SIERA  xERA    GB%  \\\n",
       "155        Kyle Muller   52.0  7.79  6.11  5.31   5.46  8.15  0.478   \n",
       "156    Adam Wainwright   51.2  7.66  5.89  5.87   5.81  8.20  0.351   \n",
       "154         Luis Ortiz   53.2  4.86  6.20  5.34   5.54  7.75  0.478   \n",
       "145      Austin Gomber   96.0  6.19  5.83  4.90   5.11  6.26  0.425   \n",
       "142  Grayson Rodriguez   50.1  7.33  5.64  3.88   4.17  6.11  0.413   \n",
       "116     Chase Anderson   54.2  6.26  6.61  5.40   5.18  5.51  0.367   \n",
       "118       Brady Singer  102.2  5.70  4.41  4.49   4.69  5.47  0.474   \n",
       "148     Patrick Corbin  114.0  4.89  4.89  4.49   4.85  6.26  0.447   \n",
       "151     Yonny Chirinos   62.2  4.02  5.53  5.38   5.34  6.35  0.432   \n",
       "94         Luis Medina   65.1  5.79  5.09  4.48   4.63  4.99  0.464   \n",
       "134     Brandon Bielak   59.1  3.79  5.25  4.66   4.81  5.73  0.500   \n",
       "36      Kyle Hendricks   58.0  3.57  4.44  4.70   4.74  4.21  0.441   \n",
       "127    Graham Ashcraft   87.2  5.95  5.26  4.84   5.08  5.51  0.486   \n",
       "39     Josh Winckowski   51.2  3.14  4.81  4.23   4.10  4.15  0.522   \n",
       "86          Ben Lively   55.2  3.72  4.88  4.22   4.13  4.76  0.377   \n",
       "152        Alek Manoah   67.0  6.18  6.28  6.07   5.90  6.26  0.376   \n",
       "9        Corbin Burnes  113.1  3.73  4.09  4.05   4.17  3.56  0.412   \n",
       "64    Patrick Sandoval   93.0  4.16  4.01  4.41   4.72  4.45  0.510   \n",
       "2           Zach Eflin  105.1  3.59  3.15  3.18   3.35  3.19  0.528   \n",
       "146      Cal Quantrill   67.0  6.45  4.92  5.37   5.46  5.99  0.411   \n",
       "\n",
       "     key_mlbam  sxERA  diff  \n",
       "155   666205.0   7.19  0.96  \n",
       "156   425794.0   7.25  0.95  \n",
       "154   682847.0   6.95  0.80  \n",
       "145   596295.0   5.73  0.53  \n",
       "142   680570.0   5.60  0.51  \n",
       "116   502624.0   5.04  0.47  \n",
       "118   663903.0   5.06  0.41  \n",
       "148   571578.0   5.87  0.39  \n",
       "151   630023.0   5.97  0.38  \n",
       "94    665622.0   4.62  0.37  \n",
       "134   656232.0   5.38  0.35  \n",
       "36    543294.0   3.86  0.35  \n",
       "127   668933.0   5.23  0.28  \n",
       "39    670174.0   3.88  0.27  \n",
       "86    594902.0   4.51  0.25  \n",
       "152   666201.0   6.01  0.25  \n",
       "9     669203.0   3.32  0.24  \n",
       "64    663776.0   4.24  0.21  \n",
       "2     621107.0   2.99  0.20  \n",
       "146   615698.0   5.80  0.19  "
      ]
     },
     "execution_count": 57,
     "metadata": {},
     "output_type": "execute_result"
    }
   ],
   "source": [
    "df_2023.loc[df_2023['IP']>50].sort_values('sxERA', ascending=True).reset_index().sort_values('diff', ascending=False).head(20)"
   ]
  },
  {
   "cell_type": "code",
   "execution_count": 30,
   "metadata": {},
   "outputs": [
    {
     "name": "stderr",
     "output_type": "stream",
     "text": [
      "C:\\Users\\wampl\\AppData\\Local\\Temp\\ipykernel_5028\\2241078727.py:1: FutureWarning:\n",
      "\n",
      "Indexing with multiple keys (implicitly converted to a tuple of keys) will be deprecated, use a list instead.\n",
      "\n"
     ]
    },
    {
     "data": {
      "text/html": [
       "<div>\n",
       "<style scoped>\n",
       "    .dataframe tbody tr th:only-of-type {\n",
       "        vertical-align: middle;\n",
       "    }\n",
       "\n",
       "    .dataframe tbody tr th {\n",
       "        vertical-align: top;\n",
       "    }\n",
       "\n",
       "    .dataframe thead th {\n",
       "        text-align: right;\n",
       "    }\n",
       "</style>\n",
       "<table border=\"1\" class=\"dataframe\">\n",
       "  <thead>\n",
       "    <tr style=\"text-align: right;\">\n",
       "      <th></th>\n",
       "      <th>sxwOBA</th>\n",
       "      <th>sxwOBA_adj</th>\n",
       "    </tr>\n",
       "    <tr>\n",
       "      <th>pitcher_team</th>\n",
       "      <th></th>\n",
       "      <th></th>\n",
       "    </tr>\n",
       "  </thead>\n",
       "  <tbody>\n",
       "    <tr>\n",
       "      <th>ATL</th>\n",
       "      <td>0.319938</td>\n",
       "      <td>0.313964</td>\n",
       "    </tr>\n",
       "    <tr>\n",
       "      <th>AZ</th>\n",
       "      <td>0.332770</td>\n",
       "      <td>0.326732</td>\n",
       "    </tr>\n",
       "    <tr>\n",
       "      <th>BAL</th>\n",
       "      <td>0.331177</td>\n",
       "      <td>0.325446</td>\n",
       "    </tr>\n",
       "    <tr>\n",
       "      <th>BOS</th>\n",
       "      <td>0.324159</td>\n",
       "      <td>0.317724</td>\n",
       "    </tr>\n",
       "    <tr>\n",
       "      <th>CHC</th>\n",
       "      <td>0.324020</td>\n",
       "      <td>0.317540</td>\n",
       "    </tr>\n",
       "    <tr>\n",
       "      <th>CIN</th>\n",
       "      <td>0.338791</td>\n",
       "      <td>0.333138</td>\n",
       "    </tr>\n",
       "    <tr>\n",
       "      <th>CLE</th>\n",
       "      <td>0.326881</td>\n",
       "      <td>0.320497</td>\n",
       "    </tr>\n",
       "    <tr>\n",
       "      <th>COL</th>\n",
       "      <td>0.351858</td>\n",
       "      <td>0.345476</td>\n",
       "    </tr>\n",
       "    <tr>\n",
       "      <th>CWS</th>\n",
       "      <td>0.333722</td>\n",
       "      <td>0.328482</td>\n",
       "    </tr>\n",
       "    <tr>\n",
       "      <th>DET</th>\n",
       "      <td>0.328012</td>\n",
       "      <td>0.321907</td>\n",
       "    </tr>\n",
       "    <tr>\n",
       "      <th>HOU</th>\n",
       "      <td>0.322741</td>\n",
       "      <td>0.316823</td>\n",
       "    </tr>\n",
       "    <tr>\n",
       "      <th>KC</th>\n",
       "      <td>0.344733</td>\n",
       "      <td>0.338672</td>\n",
       "    </tr>\n",
       "    <tr>\n",
       "      <th>LAA</th>\n",
       "      <td>0.330006</td>\n",
       "      <td>0.324495</td>\n",
       "    </tr>\n",
       "    <tr>\n",
       "      <th>LAD</th>\n",
       "      <td>0.323534</td>\n",
       "      <td>0.317407</td>\n",
       "    </tr>\n",
       "    <tr>\n",
       "      <th>MIA</th>\n",
       "      <td>0.315792</td>\n",
       "      <td>0.309479</td>\n",
       "    </tr>\n",
       "    <tr>\n",
       "      <th>MIL</th>\n",
       "      <td>0.322064</td>\n",
       "      <td>0.316045</td>\n",
       "    </tr>\n",
       "    <tr>\n",
       "      <th>MIN</th>\n",
       "      <td>0.304525</td>\n",
       "      <td>0.298877</td>\n",
       "    </tr>\n",
       "    <tr>\n",
       "      <th>NYM</th>\n",
       "      <td>0.329906</td>\n",
       "      <td>0.323997</td>\n",
       "    </tr>\n",
       "    <tr>\n",
       "      <th>NYY</th>\n",
       "      <td>0.323063</td>\n",
       "      <td>0.317105</td>\n",
       "    </tr>\n",
       "    <tr>\n",
       "      <th>OAK</th>\n",
       "      <td>0.351878</td>\n",
       "      <td>0.346274</td>\n",
       "    </tr>\n",
       "    <tr>\n",
       "      <th>PHI</th>\n",
       "      <td>0.310708</td>\n",
       "      <td>0.304567</td>\n",
       "    </tr>\n",
       "    <tr>\n",
       "      <th>PIT</th>\n",
       "      <td>0.340772</td>\n",
       "      <td>0.334738</td>\n",
       "    </tr>\n",
       "    <tr>\n",
       "      <th>SD</th>\n",
       "      <td>0.315870</td>\n",
       "      <td>0.309812</td>\n",
       "    </tr>\n",
       "    <tr>\n",
       "      <th>SEA</th>\n",
       "      <td>0.316889</td>\n",
       "      <td>0.310669</td>\n",
       "    </tr>\n",
       "    <tr>\n",
       "      <th>SF</th>\n",
       "      <td>0.321750</td>\n",
       "      <td>0.314802</td>\n",
       "    </tr>\n",
       "    <tr>\n",
       "      <th>STL</th>\n",
       "      <td>0.342097</td>\n",
       "      <td>0.335583</td>\n",
       "    </tr>\n",
       "    <tr>\n",
       "      <th>TB</th>\n",
       "      <td>0.317603</td>\n",
       "      <td>0.311232</td>\n",
       "    </tr>\n",
       "    <tr>\n",
       "      <th>TEX</th>\n",
       "      <td>0.322214</td>\n",
       "      <td>0.316118</td>\n",
       "    </tr>\n",
       "    <tr>\n",
       "      <th>TOR</th>\n",
       "      <td>0.322736</td>\n",
       "      <td>0.317181</td>\n",
       "    </tr>\n",
       "    <tr>\n",
       "      <th>WSH</th>\n",
       "      <td>0.363263</td>\n",
       "      <td>0.357006</td>\n",
       "    </tr>\n",
       "  </tbody>\n",
       "</table>\n",
       "</div>"
      ],
      "text/plain": [
       "                sxwOBA  sxwOBA_adj\n",
       "pitcher_team                      \n",
       "ATL           0.319938    0.313964\n",
       "AZ            0.332770    0.326732\n",
       "BAL           0.331177    0.325446\n",
       "BOS           0.324159    0.317724\n",
       "CHC           0.324020    0.317540\n",
       "CIN           0.338791    0.333138\n",
       "CLE           0.326881    0.320497\n",
       "COL           0.351858    0.345476\n",
       "CWS           0.333722    0.328482\n",
       "DET           0.328012    0.321907\n",
       "HOU           0.322741    0.316823\n",
       "KC            0.344733    0.338672\n",
       "LAA           0.330006    0.324495\n",
       "LAD           0.323534    0.317407\n",
       "MIA           0.315792    0.309479\n",
       "MIL           0.322064    0.316045\n",
       "MIN           0.304525    0.298877\n",
       "NYM           0.329906    0.323997\n",
       "NYY           0.323063    0.317105\n",
       "OAK           0.351878    0.346274\n",
       "PHI           0.310708    0.304567\n",
       "PIT           0.340772    0.334738\n",
       "SD            0.315870    0.309812\n",
       "SEA           0.316889    0.310669\n",
       "SF            0.321750    0.314802\n",
       "STL           0.342097    0.335583\n",
       "TB            0.317603    0.311232\n",
       "TEX           0.322214    0.316118\n",
       "TOR           0.322736    0.317181\n",
       "WSH           0.363263    0.357006"
      ]
     },
     "execution_count": 30,
     "metadata": {},
     "output_type": "execute_result"
    }
   ],
   "source": [
    "df3.groupby('pitcher_team')['sxwOBA', 'sxwOBA_adj'].mean()"
   ]
  },
  {
   "cell_type": "code",
   "execution_count": 69,
   "metadata": {},
   "outputs": [
    {
     "name": "stderr",
     "output_type": "stream",
     "text": [
      "C:\\Users\\wampl\\AppData\\Local\\Temp\\ipykernel_6328\\3978275196.py:1: FutureWarning:\n",
      "\n",
      "Indexing with multiple keys (implicitly converted to a tuple of keys) will be deprecated, use a list instead.\n",
      "\n"
     ]
    },
    {
     "data": {
      "text/html": [
       "<div>\n",
       "<style scoped>\n",
       "    .dataframe tbody tr th:only-of-type {\n",
       "        vertical-align: middle;\n",
       "    }\n",
       "\n",
       "    .dataframe tbody tr th {\n",
       "        vertical-align: top;\n",
       "    }\n",
       "\n",
       "    .dataframe thead th {\n",
       "        text-align: right;\n",
       "    }\n",
       "</style>\n",
       "<table border=\"1\" class=\"dataframe\">\n",
       "  <thead>\n",
       "    <tr style=\"text-align: right;\">\n",
       "      <th></th>\n",
       "      <th>sxwOBA</th>\n",
       "      <th>sxwOBA_adj</th>\n",
       "    </tr>\n",
       "    <tr>\n",
       "      <th>pitch_type</th>\n",
       "      <th></th>\n",
       "      <th></th>\n",
       "    </tr>\n",
       "  </thead>\n",
       "  <tbody>\n",
       "    <tr>\n",
       "      <th>CH</th>\n",
       "      <td>0.303523</td>\n",
       "      <td>0.296302</td>\n",
       "    </tr>\n",
       "    <tr>\n",
       "      <th>CS</th>\n",
       "      <td>0.214801</td>\n",
       "      <td>0.207791</td>\n",
       "    </tr>\n",
       "    <tr>\n",
       "      <th>CU</th>\n",
       "      <td>0.288611</td>\n",
       "      <td>0.282795</td>\n",
       "    </tr>\n",
       "    <tr>\n",
       "      <th>EP</th>\n",
       "      <td>0.503337</td>\n",
       "      <td>0.498183</td>\n",
       "    </tr>\n",
       "    <tr>\n",
       "      <th>FA</th>\n",
       "      <td>0.455601</td>\n",
       "      <td>0.450300</td>\n",
       "    </tr>\n",
       "    <tr>\n",
       "      <th>FC</th>\n",
       "      <td>0.351998</td>\n",
       "      <td>0.345580</td>\n",
       "    </tr>\n",
       "    <tr>\n",
       "      <th>FF</th>\n",
       "      <td>0.359435</td>\n",
       "      <td>0.354720</td>\n",
       "    </tr>\n",
       "    <tr>\n",
       "      <th>FO</th>\n",
       "      <td>0.199135</td>\n",
       "      <td>0.195612</td>\n",
       "    </tr>\n",
       "    <tr>\n",
       "      <th>FS</th>\n",
       "      <td>0.260962</td>\n",
       "      <td>0.254158</td>\n",
       "    </tr>\n",
       "    <tr>\n",
       "      <th>KC</th>\n",
       "      <td>0.277716</td>\n",
       "      <td>0.271485</td>\n",
       "    </tr>\n",
       "    <tr>\n",
       "      <th>KN</th>\n",
       "      <td>0.450120</td>\n",
       "      <td>0.440099</td>\n",
       "    </tr>\n",
       "    <tr>\n",
       "      <th>SC</th>\n",
       "      <td>0.348834</td>\n",
       "      <td>0.344861</td>\n",
       "    </tr>\n",
       "    <tr>\n",
       "      <th>SI</th>\n",
       "      <td>0.363256</td>\n",
       "      <td>0.354548</td>\n",
       "    </tr>\n",
       "    <tr>\n",
       "      <th>SL</th>\n",
       "      <td>0.293290</td>\n",
       "      <td>0.287620</td>\n",
       "    </tr>\n",
       "    <tr>\n",
       "      <th>ST</th>\n",
       "      <td>0.271050</td>\n",
       "      <td>0.266485</td>\n",
       "    </tr>\n",
       "    <tr>\n",
       "      <th>SV</th>\n",
       "      <td>0.291472</td>\n",
       "      <td>0.286774</td>\n",
       "    </tr>\n",
       "  </tbody>\n",
       "</table>\n",
       "</div>"
      ],
      "text/plain": [
       "              sxwOBA  sxwOBA_adj\n",
       "pitch_type                      \n",
       "CH          0.303523    0.296302\n",
       "CS          0.214801    0.207791\n",
       "CU          0.288611    0.282795\n",
       "EP          0.503337    0.498183\n",
       "FA          0.455601    0.450300\n",
       "FC          0.351998    0.345580\n",
       "FF          0.359435    0.354720\n",
       "FO          0.199135    0.195612\n",
       "FS          0.260962    0.254158\n",
       "KC          0.277716    0.271485\n",
       "KN          0.450120    0.440099\n",
       "SC          0.348834    0.344861\n",
       "SI          0.363256    0.354548\n",
       "SL          0.293290    0.287620\n",
       "ST          0.271050    0.266485\n",
       "SV          0.291472    0.286774"
      ]
     },
     "execution_count": 69,
     "metadata": {},
     "output_type": "execute_result"
    }
   ],
   "source": [
    "df3.groupby('pitch_type')['sxwOBA', 'sxwOBA_adj'].mean()"
   ]
  },
  {
   "cell_type": "code",
   "execution_count": 79,
   "metadata": {},
   "outputs": [
    {
     "data": {
      "text/plain": [
       "<AxesSubplot: xlabel='launch_angle', ylabel='is_gidp'>"
      ]
     },
     "execution_count": 79,
     "metadata": {},
     "output_type": "execute_result"
    },
    {
     "data": {
      "image/png": "[encoded data removed]",
      "text/plain": [
       "<Figure size 640x480 with 1 Axes>"
      ]
     },
     "metadata": {},
     "output_type": "display_data"
    }
   ],
   "source": [
    "df3['is_gidp'] = df3['events'].isin(['grounded_into_double_play'])\n",
    "sns.regplot(data=df3, x='launch_angle', y='is_gidp', color='red', logistic=True)"
   ]
  },
  {
   "cell_type": "code",
   "execution_count": null,
   "metadata": {},
   "outputs": [],
   "source": []
  },
  {
   "cell_type": "code",
   "execution_count": 46,
   "metadata": {},
   "outputs": [
    {
     "data": {
      "text/plain": [
       "count    20.000000\n",
       "mean      4.110500\n",
       "std       0.763093\n",
       "min       3.090000\n",
       "25%       3.567500\n",
       "50%       3.920000\n",
       "75%       4.550000\n",
       "max       6.260000\n",
       "Name: xERA, dtype: float64"
      ]
     },
     "execution_count": 46,
     "metadata": {},
     "output_type": "execute_result"
    }
   ],
   "source": [
    "df_2023['xERA'].describe()"
   ]
  },
  {
   "cell_type": "code",
   "execution_count": 47,
   "metadata": {},
   "outputs": [
    {
     "data": {
      "text/plain": [
       "count    20.000000\n",
       "mean      3.948000\n",
       "std       0.497368\n",
       "min       3.200000\n",
       "25%       3.582500\n",
       "50%       3.945000\n",
       "75%       4.277500\n",
       "max       5.170000\n",
       "Name: sxERA, dtype: float64"
      ]
     },
     "execution_count": 47,
     "metadata": {},
     "output_type": "execute_result"
    }
   ],
   "source": [
    "df_2023['sxERA'].describe()"
   ]
  },
  {
   "cell_type": "code",
   "execution_count": 55,
   "metadata": {},
   "outputs": [
    {
     "name": "stderr",
     "output_type": "stream",
     "text": [
      "C:\\Users\\wampl\\AppData\\Local\\Temp\\ipykernel_9640\\4051704210.py:1: FutureWarning:\n",
      "\n",
      "The default value of numeric_only in DataFrame.corr is deprecated. In a future version, it will default to False. Select only valid columns or specify the value of numeric_only to silence this warning.\n",
      "\n"
     ]
    },
    {
     "data": {
      "text/html": [
       "<div>\n",
       "<style scoped>\n",
       "    .dataframe tbody tr th:only-of-type {\n",
       "        vertical-align: middle;\n",
       "    }\n",
       "\n",
       "    .dataframe tbody tr th {\n",
       "        vertical-align: top;\n",
       "    }\n",
       "\n",
       "    .dataframe thead th {\n",
       "        text-align: right;\n",
       "    }\n",
       "</style>\n",
       "<table border=\"1\" class=\"dataframe\">\n",
       "  <thead>\n",
       "    <tr style=\"text-align: right;\">\n",
       "      <th></th>\n",
       "      <th>pitcher</th>\n",
       "      <th>xwOBA_adj</th>\n",
       "      <th>sxwOBA_adj</th>\n",
       "      <th>IP</th>\n",
       "      <th>ERA</th>\n",
       "      <th>FIP</th>\n",
       "      <th>xFIP</th>\n",
       "      <th>SIERA</th>\n",
       "      <th>xERA</th>\n",
       "      <th>GB%</th>\n",
       "      <th>key_mlbam</th>\n",
       "      <th>sxERA</th>\n",
       "      <th>diff</th>\n",
       "    </tr>\n",
       "  </thead>\n",
       "  <tbody>\n",
       "    <tr>\n",
       "      <th>pitcher</th>\n",
       "      <td>1.000000</td>\n",
       "      <td>0.015047</td>\n",
       "      <td>0.026884</td>\n",
       "      <td>-0.088847</td>\n",
       "      <td>0.032831</td>\n",
       "      <td>0.017176</td>\n",
       "      <td>0.023368</td>\n",
       "      <td>0.014750</td>\n",
       "      <td>0.006024</td>\n",
       "      <td>0.003726</td>\n",
       "      <td>1.000000</td>\n",
       "      <td>0.014976</td>\n",
       "      <td>-0.033589</td>\n",
       "    </tr>\n",
       "    <tr>\n",
       "      <th>xwOBA_adj</th>\n",
       "      <td>0.015047</td>\n",
       "      <td>1.000000</td>\n",
       "      <td>0.955758</td>\n",
       "      <td>0.056113</td>\n",
       "      <td>0.695448</td>\n",
       "      <td>0.796259</td>\n",
       "      <td>0.689673</td>\n",
       "      <td>0.743327</td>\n",
       "      <td>0.971694</td>\n",
       "      <td>-0.172415</td>\n",
       "      <td>0.015047</td>\n",
       "      <td>0.999996</td>\n",
       "      <td>0.143684</td>\n",
       "    </tr>\n",
       "    <tr>\n",
       "      <th>sxwOBA_adj</th>\n",
       "      <td>0.026884</td>\n",
       "      <td>0.955758</td>\n",
       "      <td>1.000000</td>\n",
       "      <td>0.003579</td>\n",
       "      <td>0.716701</td>\n",
       "      <td>0.799788</td>\n",
       "      <td>0.667549</td>\n",
       "      <td>0.715513</td>\n",
       "      <td>0.937102</td>\n",
       "      <td>-0.111078</td>\n",
       "      <td>0.026884</td>\n",
       "      <td>0.955779</td>\n",
       "      <td>0.172422</td>\n",
       "    </tr>\n",
       "    <tr>\n",
       "      <th>IP</th>\n",
       "      <td>-0.088847</td>\n",
       "      <td>0.056113</td>\n",
       "      <td>0.003579</td>\n",
       "      <td>1.000000</td>\n",
       "      <td>-0.065054</td>\n",
       "      <td>-0.037001</td>\n",
       "      <td>-0.087888</td>\n",
       "      <td>0.070458</td>\n",
       "      <td>0.020091</td>\n",
       "      <td>-0.025679</td>\n",
       "      <td>-0.088847</td>\n",
       "      <td>0.056173</td>\n",
       "      <td>-0.136477</td>\n",
       "    </tr>\n",
       "    <tr>\n",
       "      <th>ERA</th>\n",
       "      <td>0.032831</td>\n",
       "      <td>0.695448</td>\n",
       "      <td>0.716701</td>\n",
       "      <td>-0.065054</td>\n",
       "      <td>1.000000</td>\n",
       "      <td>0.689703</td>\n",
       "      <td>0.535857</td>\n",
       "      <td>0.544545</td>\n",
       "      <td>0.700436</td>\n",
       "      <td>-0.178336</td>\n",
       "      <td>0.032831</td>\n",
       "      <td>0.695476</td>\n",
       "      <td>0.203205</td>\n",
       "    </tr>\n",
       "    <tr>\n",
       "      <th>FIP</th>\n",
       "      <td>0.017176</td>\n",
       "      <td>0.796259</td>\n",
       "      <td>0.799788</td>\n",
       "      <td>-0.037001</td>\n",
       "      <td>0.689703</td>\n",
       "      <td>1.000000</td>\n",
       "      <td>0.788980</td>\n",
       "      <td>0.761411</td>\n",
       "      <td>0.791694</td>\n",
       "      <td>-0.233178</td>\n",
       "      <td>0.017176</td>\n",
       "      <td>0.796292</td>\n",
       "      <td>0.189595</td>\n",
       "    </tr>\n",
       "    <tr>\n",
       "      <th>xFIP</th>\n",
       "      <td>0.023368</td>\n",
       "      <td>0.689673</td>\n",
       "      <td>0.667549</td>\n",
       "      <td>-0.087888</td>\n",
       "      <td>0.535857</td>\n",
       "      <td>0.788980</td>\n",
       "      <td>1.000000</td>\n",
       "      <td>0.933732</td>\n",
       "      <td>0.674683</td>\n",
       "      <td>-0.382389</td>\n",
       "      <td>0.023368</td>\n",
       "      <td>0.689744</td>\n",
       "      <td>0.117802</td>\n",
       "    </tr>\n",
       "    <tr>\n",
       "      <th>SIERA</th>\n",
       "      <td>0.014750</td>\n",
       "      <td>0.743327</td>\n",
       "      <td>0.715513</td>\n",
       "      <td>0.070458</td>\n",
       "      <td>0.544545</td>\n",
       "      <td>0.761411</td>\n",
       "      <td>0.933732</td>\n",
       "      <td>1.000000</td>\n",
       "      <td>0.734955</td>\n",
       "      <td>-0.213785</td>\n",
       "      <td>0.014750</td>\n",
       "      <td>0.743382</td>\n",
       "      <td>0.159667</td>\n",
       "    </tr>\n",
       "    <tr>\n",
       "      <th>xERA</th>\n",
       "      <td>0.006024</td>\n",
       "      <td>0.971694</td>\n",
       "      <td>0.937102</td>\n",
       "      <td>0.020091</td>\n",
       "      <td>0.700436</td>\n",
       "      <td>0.791694</td>\n",
       "      <td>0.674683</td>\n",
       "      <td>0.734955</td>\n",
       "      <td>1.000000</td>\n",
       "      <td>-0.143648</td>\n",
       "      <td>0.006024</td>\n",
       "      <td>0.971718</td>\n",
       "      <td>0.373396</td>\n",
       "    </tr>\n",
       "    <tr>\n",
       "      <th>GB%</th>\n",
       "      <td>0.003726</td>\n",
       "      <td>-0.172415</td>\n",
       "      <td>-0.111078</td>\n",
       "      <td>-0.025679</td>\n",
       "      <td>-0.178336</td>\n",
       "      <td>-0.233178</td>\n",
       "      <td>-0.382389</td>\n",
       "      <td>-0.213785</td>\n",
       "      <td>-0.143648</td>\n",
       "      <td>1.000000</td>\n",
       "      <td>0.003726</td>\n",
       "      <td>-0.172308</td>\n",
       "      <td>0.074912</td>\n",
       "    </tr>\n",
       "    <tr>\n",
       "      <th>key_mlbam</th>\n",
       "      <td>1.000000</td>\n",
       "      <td>0.015047</td>\n",
       "      <td>0.026884</td>\n",
       "      <td>-0.088847</td>\n",
       "      <td>0.032831</td>\n",
       "      <td>0.017176</td>\n",
       "      <td>0.023368</td>\n",
       "      <td>0.014750</td>\n",
       "      <td>0.006024</td>\n",
       "      <td>0.003726</td>\n",
       "      <td>1.000000</td>\n",
       "      <td>0.014976</td>\n",
       "      <td>-0.033589</td>\n",
       "    </tr>\n",
       "    <tr>\n",
       "      <th>sxERA</th>\n",
       "      <td>0.014976</td>\n",
       "      <td>0.999996</td>\n",
       "      <td>0.955779</td>\n",
       "      <td>0.056173</td>\n",
       "      <td>0.695476</td>\n",
       "      <td>0.796292</td>\n",
       "      <td>0.689744</td>\n",
       "      <td>0.743382</td>\n",
       "      <td>0.971718</td>\n",
       "      <td>-0.172308</td>\n",
       "      <td>0.014976</td>\n",
       "      <td>1.000000</td>\n",
       "      <td>0.143772</td>\n",
       "    </tr>\n",
       "    <tr>\n",
       "      <th>diff</th>\n",
       "      <td>-0.033589</td>\n",
       "      <td>0.143684</td>\n",
       "      <td>0.172422</td>\n",
       "      <td>-0.136477</td>\n",
       "      <td>0.203205</td>\n",
       "      <td>0.189595</td>\n",
       "      <td>0.117802</td>\n",
       "      <td>0.159667</td>\n",
       "      <td>0.373396</td>\n",
       "      <td>0.074912</td>\n",
       "      <td>-0.033589</td>\n",
       "      <td>0.143772</td>\n",
       "      <td>1.000000</td>\n",
       "    </tr>\n",
       "  </tbody>\n",
       "</table>\n",
       "</div>"
      ],
      "text/plain": [
       "             pitcher  xwOBA_adj  sxwOBA_adj        IP       ERA       FIP  \\\n",
       "pitcher     1.000000   0.015047    0.026884 -0.088847  0.032831  0.017176   \n",
       "xwOBA_adj   0.015047   1.000000    0.955758  0.056113  0.695448  0.796259   \n",
       "sxwOBA_adj  0.026884   0.955758    1.000000  0.003579  0.716701  0.799788   \n",
       "IP         -0.088847   0.056113    0.003579  1.000000 -0.065054 -0.037001   \n",
       "ERA         0.032831   0.695448    0.716701 -0.065054  1.000000  0.689703   \n",
       "FIP         0.017176   0.796259    0.799788 -0.037001  0.689703  1.000000   \n",
       "xFIP        0.023368   0.689673    0.667549 -0.087888  0.535857  0.788980   \n",
       "SIERA       0.014750   0.743327    0.715513  0.070458  0.544545  0.761411   \n",
       "xERA        0.006024   0.971694    0.937102  0.020091  0.700436  0.791694   \n",
       "GB%         0.003726  -0.172415   -0.111078 -0.025679 -0.178336 -0.233178   \n",
       "key_mlbam   1.000000   0.015047    0.026884 -0.088847  0.032831  0.017176   \n",
       "sxERA       0.014976   0.999996    0.955779  0.056173  0.695476  0.796292   \n",
       "diff       -0.033589   0.143684    0.172422 -0.136477  0.203205  0.189595   \n",
       "\n",
       "                xFIP     SIERA      xERA       GB%  key_mlbam     sxERA  \\\n",
       "pitcher     0.023368  0.014750  0.006024  0.003726   1.000000  0.014976   \n",
       "xwOBA_adj   0.689673  0.743327  0.971694 -0.172415   0.015047  0.999996   \n",
       "sxwOBA_adj  0.667549  0.715513  0.937102 -0.111078   0.026884  0.955779   \n",
       "IP         -0.087888  0.070458  0.020091 -0.025679  -0.088847  0.056173   \n",
       "ERA         0.535857  0.544545  0.700436 -0.178336   0.032831  0.695476   \n",
       "FIP         0.788980  0.761411  0.791694 -0.233178   0.017176  0.796292   \n",
       "xFIP        1.000000  0.933732  0.674683 -0.382389   0.023368  0.689744   \n",
       "SIERA       0.933732  1.000000  0.734955 -0.213785   0.014750  0.743382   \n",
       "xERA        0.674683  0.734955  1.000000 -0.143648   0.006024  0.971718   \n",
       "GB%        -0.382389 -0.213785 -0.143648  1.000000   0.003726 -0.172308   \n",
       "key_mlbam   0.023368  0.014750  0.006024  0.003726   1.000000  0.014976   \n",
       "sxERA       0.689744  0.743382  0.971718 -0.172308   0.014976  1.000000   \n",
       "diff        0.117802  0.159667  0.373396  0.074912  -0.033589  0.143772   \n",
       "\n",
       "                diff  \n",
       "pitcher    -0.033589  \n",
       "xwOBA_adj   0.143684  \n",
       "sxwOBA_adj  0.172422  \n",
       "IP         -0.136477  \n",
       "ERA         0.203205  \n",
       "FIP         0.189595  \n",
       "xFIP        0.117802  \n",
       "SIERA       0.159667  \n",
       "xERA        0.373396  \n",
       "GB%         0.074912  \n",
       "key_mlbam  -0.033589  \n",
       "sxERA       0.143772  \n",
       "diff        1.000000  "
      ]
     },
     "execution_count": 55,
     "metadata": {},
     "output_type": "execute_result"
    }
   ],
   "source": [
    "df_2023.corr()"
   ]
  },
  {
   "cell_type": "code",
   "execution_count": 3,
   "metadata": {},
   "outputs": [
    {
     "data": {
      "text/html": [
       "<div>\n",
       "<style scoped>\n",
       "    .dataframe tbody tr th:only-of-type {\n",
       "        vertical-align: middle;\n",
       "    }\n",
       "\n",
       "    .dataframe tbody tr th {\n",
       "        vertical-align: top;\n",
       "    }\n",
       "\n",
       "    .dataframe thead th {\n",
       "        text-align: right;\n",
       "    }\n",
       "</style>\n",
       "<table border=\"1\" class=\"dataframe\">\n",
       "  <thead>\n",
       "    <tr style=\"text-align: right;\">\n",
       "      <th></th>\n",
       "      <th>Unnamed: 0</th>\n",
       "      <th>pitch_type</th>\n",
       "      <th>game_date</th>\n",
       "      <th>release_speed</th>\n",
       "      <th>release_pos_x</th>\n",
       "      <th>release_pos_z</th>\n",
       "      <th>player_name</th>\n",
       "      <th>batter</th>\n",
       "      <th>pitcher</th>\n",
       "      <th>events</th>\n",
       "      <th>...</th>\n",
       "      <th>of_fielding_alignment</th>\n",
       "      <th>batter_team</th>\n",
       "      <th>pitcher_team</th>\n",
       "      <th>stand_L</th>\n",
       "      <th>stand_R</th>\n",
       "      <th>batter_name</th>\n",
       "      <th>rf_xwoba</th>\n",
       "      <th>sxwOBA</th>\n",
       "      <th>sxwoba_prob_model</th>\n",
       "      <th>pulled_barrel</th>\n",
       "    </tr>\n",
       "  </thead>\n",
       "  <tbody>\n",
       "    <tr>\n",
       "      <th>33</th>\n",
       "      <td>33</td>\n",
       "      <td>SL</td>\n",
       "      <td>2023-06-26</td>\n",
       "      <td>91.3</td>\n",
       "      <td>-1.90</td>\n",
       "      <td>5.95</td>\n",
       "      <td>Baumann, Mike</td>\n",
       "      <td>663886</td>\n",
       "      <td>657508</td>\n",
       "      <td>strikeout</td>\n",
       "      <td>...</td>\n",
       "      <td>0.0</td>\n",
       "      <td>CIN</td>\n",
       "      <td>BAL</td>\n",
       "      <td>0</td>\n",
       "      <td>1</td>\n",
       "      <td>tyler stephenson</td>\n",
       "      <td>0.0</td>\n",
       "      <td>0.0</td>\n",
       "      <td>NaN</td>\n",
       "      <td>0</td>\n",
       "    </tr>\n",
       "    <tr>\n",
       "      <th>80</th>\n",
       "      <td>80</td>\n",
       "      <td>CH</td>\n",
       "      <td>2023-06-26</td>\n",
       "      <td>83.9</td>\n",
       "      <td>-0.46</td>\n",
       "      <td>6.71</td>\n",
       "      <td>Baker, Bryan</td>\n",
       "      <td>680574</td>\n",
       "      <td>641329</td>\n",
       "      <td>strikeout</td>\n",
       "      <td>...</td>\n",
       "      <td>0.0</td>\n",
       "      <td>CIN</td>\n",
       "      <td>BAL</td>\n",
       "      <td>0</td>\n",
       "      <td>1</td>\n",
       "      <td>matt mclain</td>\n",
       "      <td>0.0</td>\n",
       "      <td>0.0</td>\n",
       "      <td>NaN</td>\n",
       "      <td>0</td>\n",
       "    </tr>\n",
       "    <tr>\n",
       "      <th>84</th>\n",
       "      <td>84</td>\n",
       "      <td>FF</td>\n",
       "      <td>2023-06-26</td>\n",
       "      <td>97.9</td>\n",
       "      <td>-0.54</td>\n",
       "      <td>6.61</td>\n",
       "      <td>Baker, Bryan</td>\n",
       "      <td>621028</td>\n",
       "      <td>641329</td>\n",
       "      <td>strikeout</td>\n",
       "      <td>...</td>\n",
       "      <td>0.0</td>\n",
       "      <td>CIN</td>\n",
       "      <td>BAL</td>\n",
       "      <td>0</td>\n",
       "      <td>1</td>\n",
       "      <td>kevin newman</td>\n",
       "      <td>0.0</td>\n",
       "      <td>0.0</td>\n",
       "      <td>NaN</td>\n",
       "      <td>0</td>\n",
       "    </tr>\n",
       "    <tr>\n",
       "      <th>177</th>\n",
       "      <td>177</td>\n",
       "      <td>FS</td>\n",
       "      <td>2023-06-26</td>\n",
       "      <td>81.0</td>\n",
       "      <td>-1.45</td>\n",
       "      <td>5.99</td>\n",
       "      <td>Cruz, Fernando</td>\n",
       "      <td>669720</td>\n",
       "      <td>518585</td>\n",
       "      <td>strikeout</td>\n",
       "      <td>...</td>\n",
       "      <td>0.0</td>\n",
       "      <td>BAL</td>\n",
       "      <td>CIN</td>\n",
       "      <td>0</td>\n",
       "      <td>1</td>\n",
       "      <td>austin hays</td>\n",
       "      <td>0.0</td>\n",
       "      <td>0.0</td>\n",
       "      <td>NaN</td>\n",
       "      <td>0</td>\n",
       "    </tr>\n",
       "    <tr>\n",
       "      <th>183</th>\n",
       "      <td>183</td>\n",
       "      <td>FS</td>\n",
       "      <td>2023-06-26</td>\n",
       "      <td>80.8</td>\n",
       "      <td>-1.19</td>\n",
       "      <td>6.09</td>\n",
       "      <td>Cruz, Fernando</td>\n",
       "      <td>622761</td>\n",
       "      <td>518585</td>\n",
       "      <td>strikeout</td>\n",
       "      <td>...</td>\n",
       "      <td>0.0</td>\n",
       "      <td>BAL</td>\n",
       "      <td>CIN</td>\n",
       "      <td>0</td>\n",
       "      <td>1</td>\n",
       "      <td>jorge mateo</td>\n",
       "      <td>0.0</td>\n",
       "      <td>0.0</td>\n",
       "      <td>NaN</td>\n",
       "      <td>0</td>\n",
       "    </tr>\n",
       "  </tbody>\n",
       "</table>\n",
       "<p>5 rows × 104 columns</p>\n",
       "</div>"
      ],
      "text/plain": [
       "     Unnamed: 0 pitch_type   game_date  release_speed  release_pos_x  \\\n",
       "33           33         SL  2023-06-26           91.3          -1.90   \n",
       "80           80         CH  2023-06-26           83.9          -0.46   \n",
       "84           84         FF  2023-06-26           97.9          -0.54   \n",
       "177         177         FS  2023-06-26           81.0          -1.45   \n",
       "183         183         FS  2023-06-26           80.8          -1.19   \n",
       "\n",
       "     release_pos_z     player_name  batter  pitcher     events  ...  \\\n",
       "33            5.95   Baumann, Mike  663886   657508  strikeout  ...   \n",
       "80            6.71    Baker, Bryan  680574   641329  strikeout  ...   \n",
       "84            6.61    Baker, Bryan  621028   641329  strikeout  ...   \n",
       "177           5.99  Cruz, Fernando  669720   518585  strikeout  ...   \n",
       "183           6.09  Cruz, Fernando  622761   518585  strikeout  ...   \n",
       "\n",
       "    of_fielding_alignment  batter_team  pitcher_team  stand_L  stand_R  \\\n",
       "33                    0.0          CIN           BAL        0        1   \n",
       "80                    0.0          CIN           BAL        0        1   \n",
       "84                    0.0          CIN           BAL        0        1   \n",
       "177                   0.0          BAL           CIN        0        1   \n",
       "183                   0.0          BAL           CIN        0        1   \n",
       "\n",
       "          batter_name rf_xwoba sxwOBA sxwoba_prob_model pulled_barrel  \n",
       "33   tyler stephenson      0.0    0.0               NaN             0  \n",
       "80        matt mclain      0.0    0.0               NaN             0  \n",
       "84       kevin newman      0.0    0.0               NaN             0  \n",
       "177       austin hays      0.0    0.0               NaN             0  \n",
       "183       jorge mateo      0.0    0.0               NaN             0  \n",
       "\n",
       "[5 rows x 104 columns]"
      ]
     },
     "execution_count": 3,
     "metadata": {},
     "output_type": "execute_result"
    }
   ],
   "source": [
    "current.loc[current['target'] == 7].head()"
   ]
  },
  {
   "cell_type": "code",
   "execution_count": 4,
   "metadata": {},
   "outputs": [],
   "source": [
    "df = pd.read_csv(\"statcast_data/2023.csv\")"
   ]
  },
  {
   "cell_type": "code",
   "execution_count": 5,
   "metadata": {},
   "outputs": [
    {
     "data": {
      "text/html": [
       "<div>\n",
       "<style scoped>\n",
       "    .dataframe tbody tr th:only-of-type {\n",
       "        vertical-align: middle;\n",
       "    }\n",
       "\n",
       "    .dataframe tbody tr th {\n",
       "        vertical-align: top;\n",
       "    }\n",
       "\n",
       "    .dataframe thead th {\n",
       "        text-align: right;\n",
       "    }\n",
       "</style>\n",
       "<table border=\"1\" class=\"dataframe\">\n",
       "  <thead>\n",
       "    <tr style=\"text-align: right;\">\n",
       "      <th></th>\n",
       "      <th>Unnamed: 0</th>\n",
       "      <th>pitch_type</th>\n",
       "      <th>game_date</th>\n",
       "      <th>release_speed</th>\n",
       "      <th>release_pos_x</th>\n",
       "      <th>release_pos_z</th>\n",
       "      <th>player_name</th>\n",
       "      <th>batter</th>\n",
       "      <th>pitcher</th>\n",
       "      <th>events</th>\n",
       "      <th>...</th>\n",
       "      <th>fld_score</th>\n",
       "      <th>post_away_score</th>\n",
       "      <th>post_home_score</th>\n",
       "      <th>post_bat_score</th>\n",
       "      <th>post_fld_score</th>\n",
       "      <th>if_fielding_alignment</th>\n",
       "      <th>of_fielding_alignment</th>\n",
       "      <th>spin_axis</th>\n",
       "      <th>delta_home_win_exp</th>\n",
       "      <th>delta_run_exp</th>\n",
       "    </tr>\n",
       "  </thead>\n",
       "  <tbody>\n",
       "    <tr>\n",
       "      <th>0</th>\n",
       "      <td>0</td>\n",
       "      <td>FF</td>\n",
       "      <td>2023-06-26</td>\n",
       "      <td>96.6</td>\n",
       "      <td>1.30</td>\n",
       "      <td>5.46</td>\n",
       "      <td>Pérez, Cionel</td>\n",
       "      <td>663697</td>\n",
       "      <td>672335</td>\n",
       "      <td>field_out</td>\n",
       "      <td>...</td>\n",
       "      <td>10</td>\n",
       "      <td>3</td>\n",
       "      <td>10</td>\n",
       "      <td>3</td>\n",
       "      <td>10</td>\n",
       "      <td>Standard</td>\n",
       "      <td>Standard</td>\n",
       "      <td>143.0</td>\n",
       "      <td>0.000</td>\n",
       "      <td>-0.470</td>\n",
       "    </tr>\n",
       "    <tr>\n",
       "      <th>1</th>\n",
       "      <td>1</td>\n",
       "      <td>SL</td>\n",
       "      <td>2023-06-26</td>\n",
       "      <td>84.0</td>\n",
       "      <td>1.13</td>\n",
       "      <td>5.41</td>\n",
       "      <td>Pérez, Cionel</td>\n",
       "      <td>680574</td>\n",
       "      <td>672335</td>\n",
       "      <td>hit_by_pitch</td>\n",
       "      <td>...</td>\n",
       "      <td>10</td>\n",
       "      <td>3</td>\n",
       "      <td>10</td>\n",
       "      <td>3</td>\n",
       "      <td>10</td>\n",
       "      <td>Strategic</td>\n",
       "      <td>Standard</td>\n",
       "      <td>337.0</td>\n",
       "      <td>0.000</td>\n",
       "      <td>0.268</td>\n",
       "    </tr>\n",
       "    <tr>\n",
       "      <th>2</th>\n",
       "      <td>2</td>\n",
       "      <td>FF</td>\n",
       "      <td>2023-06-26</td>\n",
       "      <td>98.1</td>\n",
       "      <td>1.02</td>\n",
       "      <td>5.43</td>\n",
       "      <td>Pérez, Cionel</td>\n",
       "      <td>680574</td>\n",
       "      <td>672335</td>\n",
       "      <td>NaN</td>\n",
       "      <td>...</td>\n",
       "      <td>10</td>\n",
       "      <td>3</td>\n",
       "      <td>10</td>\n",
       "      <td>3</td>\n",
       "      <td>10</td>\n",
       "      <td>Standard</td>\n",
       "      <td>Standard</td>\n",
       "      <td>135.0</td>\n",
       "      <td>0.000</td>\n",
       "      <td>-0.036</td>\n",
       "    </tr>\n",
       "    <tr>\n",
       "      <th>3</th>\n",
       "      <td>3</td>\n",
       "      <td>FF</td>\n",
       "      <td>2023-06-26</td>\n",
       "      <td>97.2</td>\n",
       "      <td>1.12</td>\n",
       "      <td>5.42</td>\n",
       "      <td>Pérez, Cionel</td>\n",
       "      <td>621028</td>\n",
       "      <td>672335</td>\n",
       "      <td>field_out</td>\n",
       "      <td>...</td>\n",
       "      <td>10</td>\n",
       "      <td>3</td>\n",
       "      <td>10</td>\n",
       "      <td>3</td>\n",
       "      <td>10</td>\n",
       "      <td>Strategic</td>\n",
       "      <td>Standard</td>\n",
       "      <td>146.0</td>\n",
       "      <td>0.001</td>\n",
       "      <td>-0.305</td>\n",
       "    </tr>\n",
       "    <tr>\n",
       "      <th>4</th>\n",
       "      <td>4</td>\n",
       "      <td>FF</td>\n",
       "      <td>2023-06-26</td>\n",
       "      <td>98.2</td>\n",
       "      <td>1.17</td>\n",
       "      <td>5.40</td>\n",
       "      <td>Pérez, Cionel</td>\n",
       "      <td>592200</td>\n",
       "      <td>672335</td>\n",
       "      <td>walk</td>\n",
       "      <td>...</td>\n",
       "      <td>10</td>\n",
       "      <td>3</td>\n",
       "      <td>10</td>\n",
       "      <td>3</td>\n",
       "      <td>10</td>\n",
       "      <td>Standard</td>\n",
       "      <td>Standard</td>\n",
       "      <td>138.0</td>\n",
       "      <td>-0.001</td>\n",
       "      <td>0.227</td>\n",
       "    </tr>\n",
       "  </tbody>\n",
       "</table>\n",
       "<p>5 rows × 93 columns</p>\n",
       "</div>"
      ],
      "text/plain": [
       "   Unnamed: 0 pitch_type   game_date  release_speed  release_pos_x  \\\n",
       "0           0         FF  2023-06-26           96.6           1.30   \n",
       "1           1         SL  2023-06-26           84.0           1.13   \n",
       "2           2         FF  2023-06-26           98.1           1.02   \n",
       "3           3         FF  2023-06-26           97.2           1.12   \n",
       "4           4         FF  2023-06-26           98.2           1.17   \n",
       "\n",
       "   release_pos_z    player_name  batter  pitcher        events  ... fld_score  \\\n",
       "0           5.46  Pérez, Cionel  663697   672335     field_out  ...        10   \n",
       "1           5.41  Pérez, Cionel  680574   672335  hit_by_pitch  ...        10   \n",
       "2           5.43  Pérez, Cionel  680574   672335           NaN  ...        10   \n",
       "3           5.42  Pérez, Cionel  621028   672335     field_out  ...        10   \n",
       "4           5.40  Pérez, Cionel  592200   672335          walk  ...        10   \n",
       "\n",
       "   post_away_score  post_home_score  post_bat_score  post_fld_score  \\\n",
       "0                3               10               3              10   \n",
       "1                3               10               3              10   \n",
       "2                3               10               3              10   \n",
       "3                3               10               3              10   \n",
       "4                3               10               3              10   \n",
       "\n",
       "   if_fielding_alignment of_fielding_alignment spin_axis delta_home_win_exp  \\\n",
       "0               Standard              Standard     143.0              0.000   \n",
       "1              Strategic              Standard     337.0              0.000   \n",
       "2               Standard              Standard     135.0              0.000   \n",
       "3              Strategic              Standard     146.0              0.001   \n",
       "4               Standard              Standard     138.0             -0.001   \n",
       "\n",
       "  delta_run_exp  \n",
       "0        -0.470  \n",
       "1         0.268  \n",
       "2        -0.036  \n",
       "3        -0.305  \n",
       "4         0.227  \n",
       "\n",
       "[5 rows x 93 columns]"
      ]
     },
     "execution_count": 5,
     "metadata": {},
     "output_type": "execute_result"
    }
   ],
   "source": [
    "df.head().reset_index(drop=True)"
   ]
  },
  {
   "cell_type": "code",
   "execution_count": 6,
   "metadata": {},
   "outputs": [
    {
     "data": {
      "text/html": [
       "<div>\n",
       "<style scoped>\n",
       "    .dataframe tbody tr th:only-of-type {\n",
       "        vertical-align: middle;\n",
       "    }\n",
       "\n",
       "    .dataframe tbody tr th {\n",
       "        vertical-align: top;\n",
       "    }\n",
       "\n",
       "    .dataframe thead th {\n",
       "        text-align: right;\n",
       "    }\n",
       "</style>\n",
       "<table border=\"1\" class=\"dataframe\">\n",
       "  <thead>\n",
       "    <tr style=\"text-align: right;\">\n",
       "      <th></th>\n",
       "      <th>Unnamed: 0</th>\n",
       "      <th>pitch_type</th>\n",
       "      <th>game_date</th>\n",
       "      <th>release_speed</th>\n",
       "      <th>release_pos_x</th>\n",
       "      <th>release_pos_z</th>\n",
       "      <th>player_name</th>\n",
       "      <th>batter</th>\n",
       "      <th>pitcher</th>\n",
       "      <th>events</th>\n",
       "      <th>...</th>\n",
       "      <th>fld_score</th>\n",
       "      <th>post_away_score</th>\n",
       "      <th>post_home_score</th>\n",
       "      <th>post_bat_score</th>\n",
       "      <th>post_fld_score</th>\n",
       "      <th>if_fielding_alignment</th>\n",
       "      <th>of_fielding_alignment</th>\n",
       "      <th>spin_axis</th>\n",
       "      <th>delta_home_win_exp</th>\n",
       "      <th>delta_run_exp</th>\n",
       "    </tr>\n",
       "  </thead>\n",
       "  <tbody>\n",
       "    <tr>\n",
       "      <th>0</th>\n",
       "      <td>0</td>\n",
       "      <td>FF</td>\n",
       "      <td>2023-06-26</td>\n",
       "      <td>96.6</td>\n",
       "      <td>1.30</td>\n",
       "      <td>5.46</td>\n",
       "      <td>Pérez, Cionel</td>\n",
       "      <td>663697</td>\n",
       "      <td>672335</td>\n",
       "      <td>field_out</td>\n",
       "      <td>...</td>\n",
       "      <td>10</td>\n",
       "      <td>3</td>\n",
       "      <td>10</td>\n",
       "      <td>3</td>\n",
       "      <td>10</td>\n",
       "      <td>Standard</td>\n",
       "      <td>Standard</td>\n",
       "      <td>143.0</td>\n",
       "      <td>0.000</td>\n",
       "      <td>-0.470</td>\n",
       "    </tr>\n",
       "    <tr>\n",
       "      <th>1</th>\n",
       "      <td>1</td>\n",
       "      <td>SL</td>\n",
       "      <td>2023-06-26</td>\n",
       "      <td>84.0</td>\n",
       "      <td>1.13</td>\n",
       "      <td>5.41</td>\n",
       "      <td>Pérez, Cionel</td>\n",
       "      <td>680574</td>\n",
       "      <td>672335</td>\n",
       "      <td>hit_by_pitch</td>\n",
       "      <td>...</td>\n",
       "      <td>10</td>\n",
       "      <td>3</td>\n",
       "      <td>10</td>\n",
       "      <td>3</td>\n",
       "      <td>10</td>\n",
       "      <td>Strategic</td>\n",
       "      <td>Standard</td>\n",
       "      <td>337.0</td>\n",
       "      <td>0.000</td>\n",
       "      <td>0.268</td>\n",
       "    </tr>\n",
       "    <tr>\n",
       "      <th>2</th>\n",
       "      <td>2</td>\n",
       "      <td>FF</td>\n",
       "      <td>2023-06-26</td>\n",
       "      <td>98.1</td>\n",
       "      <td>1.02</td>\n",
       "      <td>5.43</td>\n",
       "      <td>Pérez, Cionel</td>\n",
       "      <td>680574</td>\n",
       "      <td>672335</td>\n",
       "      <td>NaN</td>\n",
       "      <td>...</td>\n",
       "      <td>10</td>\n",
       "      <td>3</td>\n",
       "      <td>10</td>\n",
       "      <td>3</td>\n",
       "      <td>10</td>\n",
       "      <td>Standard</td>\n",
       "      <td>Standard</td>\n",
       "      <td>135.0</td>\n",
       "      <td>0.000</td>\n",
       "      <td>-0.036</td>\n",
       "    </tr>\n",
       "    <tr>\n",
       "      <th>3</th>\n",
       "      <td>3</td>\n",
       "      <td>FF</td>\n",
       "      <td>2023-06-26</td>\n",
       "      <td>97.2</td>\n",
       "      <td>1.12</td>\n",
       "      <td>5.42</td>\n",
       "      <td>Pérez, Cionel</td>\n",
       "      <td>621028</td>\n",
       "      <td>672335</td>\n",
       "      <td>field_out</td>\n",
       "      <td>...</td>\n",
       "      <td>10</td>\n",
       "      <td>3</td>\n",
       "      <td>10</td>\n",
       "      <td>3</td>\n",
       "      <td>10</td>\n",
       "      <td>Strategic</td>\n",
       "      <td>Standard</td>\n",
       "      <td>146.0</td>\n",
       "      <td>0.001</td>\n",
       "      <td>-0.305</td>\n",
       "    </tr>\n",
       "    <tr>\n",
       "      <th>4</th>\n",
       "      <td>4</td>\n",
       "      <td>FF</td>\n",
       "      <td>2023-06-26</td>\n",
       "      <td>98.2</td>\n",
       "      <td>1.17</td>\n",
       "      <td>5.40</td>\n",
       "      <td>Pérez, Cionel</td>\n",
       "      <td>592200</td>\n",
       "      <td>672335</td>\n",
       "      <td>walk</td>\n",
       "      <td>...</td>\n",
       "      <td>10</td>\n",
       "      <td>3</td>\n",
       "      <td>10</td>\n",
       "      <td>3</td>\n",
       "      <td>10</td>\n",
       "      <td>Standard</td>\n",
       "      <td>Standard</td>\n",
       "      <td>138.0</td>\n",
       "      <td>-0.001</td>\n",
       "      <td>0.227</td>\n",
       "    </tr>\n",
       "  </tbody>\n",
       "</table>\n",
       "<p>5 rows × 93 columns</p>\n",
       "</div>"
      ],
      "text/plain": [
       "   Unnamed: 0 pitch_type   game_date  release_speed  release_pos_x  \\\n",
       "0           0         FF  2023-06-26           96.6           1.30   \n",
       "1           1         SL  2023-06-26           84.0           1.13   \n",
       "2           2         FF  2023-06-26           98.1           1.02   \n",
       "3           3         FF  2023-06-26           97.2           1.12   \n",
       "4           4         FF  2023-06-26           98.2           1.17   \n",
       "\n",
       "   release_pos_z    player_name  batter  pitcher        events  ... fld_score  \\\n",
       "0           5.46  Pérez, Cionel  663697   672335     field_out  ...        10   \n",
       "1           5.41  Pérez, Cionel  680574   672335  hit_by_pitch  ...        10   \n",
       "2           5.43  Pérez, Cionel  680574   672335           NaN  ...        10   \n",
       "3           5.42  Pérez, Cionel  621028   672335     field_out  ...        10   \n",
       "4           5.40  Pérez, Cionel  592200   672335          walk  ...        10   \n",
       "\n",
       "   post_away_score  post_home_score  post_bat_score  post_fld_score  \\\n",
       "0                3               10               3              10   \n",
       "1                3               10               3              10   \n",
       "2                3               10               3              10   \n",
       "3                3               10               3              10   \n",
       "4                3               10               3              10   \n",
       "\n",
       "   if_fielding_alignment of_fielding_alignment spin_axis delta_home_win_exp  \\\n",
       "0               Standard              Standard     143.0              0.000   \n",
       "1              Strategic              Standard     337.0              0.000   \n",
       "2               Standard              Standard     135.0              0.000   \n",
       "3              Strategic              Standard     146.0              0.001   \n",
       "4               Standard              Standard     138.0             -0.001   \n",
       "\n",
       "  delta_run_exp  \n",
       "0        -0.470  \n",
       "1         0.268  \n",
       "2        -0.036  \n",
       "3        -0.305  \n",
       "4         0.227  \n",
       "\n",
       "[5 rows x 93 columns]"
      ]
     },
     "execution_count": 6,
     "metadata": {},
     "output_type": "execute_result"
    }
   ],
   "source": [
    "df.head()"
   ]
  },
  {
   "cell_type": "code",
   "execution_count": 7,
   "metadata": {},
   "outputs": [
    {
     "data": {
      "text/html": [
       "<div>\n",
       "<style scoped>\n",
       "    .dataframe tbody tr th:only-of-type {\n",
       "        vertical-align: middle;\n",
       "    }\n",
       "\n",
       "    .dataframe tbody tr th {\n",
       "        vertical-align: top;\n",
       "    }\n",
       "\n",
       "    .dataframe thead th {\n",
       "        text-align: right;\n",
       "    }\n",
       "</style>\n",
       "<table border=\"1\" class=\"dataframe\">\n",
       "  <thead>\n",
       "    <tr style=\"text-align: right;\">\n",
       "      <th></th>\n",
       "      <th>last_name</th>\n",
       "      <th>first_name</th>\n",
       "      <th>player_id</th>\n",
       "      <th>team_id</th>\n",
       "      <th>team</th>\n",
       "      <th>position</th>\n",
       "      <th>age</th>\n",
       "      <th>competitive_runs</th>\n",
       "      <th>bolts</th>\n",
       "      <th>hp_to_1b</th>\n",
       "      <th>sprint_speed</th>\n",
       "    </tr>\n",
       "  </thead>\n",
       "  <tbody>\n",
       "    <tr>\n",
       "      <th>0</th>\n",
       "      <td>De La Cruz</td>\n",
       "      <td>Elly</td>\n",
       "      <td>682829</td>\n",
       "      <td>113</td>\n",
       "      <td>CIN</td>\n",
       "      <td>3B</td>\n",
       "      <td>21</td>\n",
       "      <td>49</td>\n",
       "      <td>30.0</td>\n",
       "      <td>4.15</td>\n",
       "      <td>30.8</td>\n",
       "    </tr>\n",
       "    <tr>\n",
       "      <th>1</th>\n",
       "      <td>Witt Jr.</td>\n",
       "      <td>Bobby</td>\n",
       "      <td>677951</td>\n",
       "      <td>118</td>\n",
       "      <td>KC</td>\n",
       "      <td>SS</td>\n",
       "      <td>23</td>\n",
       "      <td>121</td>\n",
       "      <td>66.0</td>\n",
       "      <td>4.15</td>\n",
       "      <td>30.4</td>\n",
       "    </tr>\n",
       "    <tr>\n",
       "      <th>2</th>\n",
       "      <td>Thompson</td>\n",
       "      <td>Bubba</td>\n",
       "      <td>669352</td>\n",
       "      <td>140</td>\n",
       "      <td>TEX</td>\n",
       "      <td>LF</td>\n",
       "      <td>25</td>\n",
       "      <td>24</td>\n",
       "      <td>19.0</td>\n",
       "      <td>4.22</td>\n",
       "      <td>30.4</td>\n",
       "    </tr>\n",
       "    <tr>\n",
       "      <th>3</th>\n",
       "      <td>Turner</td>\n",
       "      <td>Trea</td>\n",
       "      <td>607208</td>\n",
       "      <td>143</td>\n",
       "      <td>PHI</td>\n",
       "      <td>SS</td>\n",
       "      <td>30</td>\n",
       "      <td>117</td>\n",
       "      <td>49.0</td>\n",
       "      <td>4.13</td>\n",
       "      <td>30.3</td>\n",
       "    </tr>\n",
       "    <tr>\n",
       "      <th>4</th>\n",
       "      <td>Carroll</td>\n",
       "      <td>Corbin</td>\n",
       "      <td>682998</td>\n",
       "      <td>109</td>\n",
       "      <td>AZ</td>\n",
       "      <td>LF</td>\n",
       "      <td>22</td>\n",
       "      <td>131</td>\n",
       "      <td>58.0</td>\n",
       "      <td>4.08</td>\n",
       "      <td>30.1</td>\n",
       "    </tr>\n",
       "  </tbody>\n",
       "</table>\n",
       "</div>"
      ],
      "text/plain": [
       "    last_name first_name  player_id  team_id team position  age  \\\n",
       "0  De La Cruz       Elly     682829      113  CIN       3B   21   \n",
       "1    Witt Jr.      Bobby     677951      118   KC       SS   23   \n",
       "2    Thompson      Bubba     669352      140  TEX       LF   25   \n",
       "3      Turner       Trea     607208      143  PHI       SS   30   \n",
       "4     Carroll     Corbin     682998      109   AZ       LF   22   \n",
       "\n",
       "   competitive_runs  bolts  hp_to_1b  sprint_speed  \n",
       "0                49   30.0      4.15          30.8  \n",
       "1               121   66.0      4.15          30.4  \n",
       "2                24   19.0      4.22          30.4  \n",
       "3               117   49.0      4.13          30.3  \n",
       "4               131   58.0      4.08          30.1  "
      ]
     },
     "execution_count": 7,
     "metadata": {},
     "output_type": "execute_result"
    }
   ],
   "source": [
    "sprint_speed = pb.statcast_sprint_speed(2023, min_opp=5)\n",
    "sprint_speed.head()"
   ]
  },
  {
   "cell_type": "code",
   "execution_count": 4,
   "metadata": {},
   "outputs": [],
   "source": [
    "import pandas as pd\n",
    "import os\n",
    "\n",
    "# read in the dataframes\n",
    "base_dir = \"C:/Users/wampl/sxwOBA\"\n",
    "leaders_2021 = pd.read_csv(os.path.join(base_dir, \"leaders\", \"spray_xwoba_2021.csv\"))\n",
    "leaders_2022 = pd.read_csv(os.path.join(base_dir, \"leaders\", \"spray_xwoba_2022.csv\"))\n",
    "leaders_2023 = pd.read_csv(os.path.join(base_dir, \"leaders\", \"spray_xwoba_2023.csv\"))\n",
    "\n",
    "# merge the dataframes on the 'batter' column\n",
    "merged_leaders = pd.merge(leaders_2021, leaders_2022, on='batter', suffixes=('_2021', '_2022'))\n",
    "merged_leaders = pd.merge(merged_leaders, leaders_2023, on='batter', suffixes=('', '_2023'))"
   ]
  },
  {
   "cell_type": "code",
   "execution_count": 5,
   "metadata": {},
   "outputs": [
    {
     "name": "stderr",
     "output_type": "stream",
     "text": [
      "C:\\Users\\wampl\\AppData\\Local\\Temp\\ipykernel_20336\\4171482807.py:1: FutureWarning: The default value of numeric_only in DataFrame.corr is deprecated. In a future version, it will default to False. Select only valid columns or specify the value of numeric_only to silence this warning.\n",
      "  merged_leaders.loc[(merged_leaders['PA_2021']>300) & (merged_leaders['PA_2022']>300)].corr()[['wOBA', 'wOBA_2022']]\n"
     ]
    },
    {
     "data": {
      "text/html": [
       "<div>\n",
       "<style scoped>\n",
       "    .dataframe tbody tr th:only-of-type {\n",
       "        vertical-align: middle;\n",
       "    }\n",
       "\n",
       "    .dataframe tbody tr th {\n",
       "        vertical-align: top;\n",
       "    }\n",
       "\n",
       "    .dataframe thead th {\n",
       "        text-align: right;\n",
       "    }\n",
       "</style>\n",
       "<table border=\"1\" class=\"dataframe\">\n",
       "  <thead>\n",
       "    <tr style=\"text-align: right;\">\n",
       "      <th></th>\n",
       "      <th>wOBA</th>\n",
       "      <th>wOBA_2022</th>\n",
       "    </tr>\n",
       "  </thead>\n",
       "  <tbody>\n",
       "    <tr>\n",
       "      <th>batter</th>\n",
       "      <td>0.108966</td>\n",
       "      <td>0.063766</td>\n",
       "    </tr>\n",
       "    <tr>\n",
       "      <th>PA_2021</th>\n",
       "      <td>0.167567</td>\n",
       "      <td>0.307540</td>\n",
       "    </tr>\n",
       "    <tr>\n",
       "      <th>wOBA_2021</th>\n",
       "      <td>0.306904</td>\n",
       "      <td>0.464917</td>\n",
       "    </tr>\n",
       "    <tr>\n",
       "      <th>xwOBA_2021</th>\n",
       "      <td>0.393755</td>\n",
       "      <td>0.521283</td>\n",
       "    </tr>\n",
       "    <tr>\n",
       "      <th>sxwOBA_2021</th>\n",
       "      <td>0.404682</td>\n",
       "      <td>0.527477</td>\n",
       "    </tr>\n",
       "    <tr>\n",
       "      <th>diff_2021</th>\n",
       "      <td>-0.021274</td>\n",
       "      <td>-0.054874</td>\n",
       "    </tr>\n",
       "    <tr>\n",
       "      <th>diff%_2021</th>\n",
       "      <td>-0.032209</td>\n",
       "      <td>-0.092631</td>\n",
       "    </tr>\n",
       "    <tr>\n",
       "      <th>BB%_2021</th>\n",
       "      <td>0.269205</td>\n",
       "      <td>0.177710</td>\n",
       "    </tr>\n",
       "    <tr>\n",
       "      <th>K%_2021</th>\n",
       "      <td>-0.123615</td>\n",
       "      <td>-0.109015</td>\n",
       "    </tr>\n",
       "    <tr>\n",
       "      <th>HR_2021</th>\n",
       "      <td>0.271092</td>\n",
       "      <td>0.419307</td>\n",
       "    </tr>\n",
       "    <tr>\n",
       "      <th>LA_2021</th>\n",
       "      <td>0.100741</td>\n",
       "      <td>0.002881</td>\n",
       "    </tr>\n",
       "    <tr>\n",
       "      <th>Barrels_2021</th>\n",
       "      <td>0.310644</td>\n",
       "      <td>0.490984</td>\n",
       "    </tr>\n",
       "    <tr>\n",
       "      <th>pulled_barrels_2021</th>\n",
       "      <td>0.227522</td>\n",
       "      <td>0.366172</td>\n",
       "    </tr>\n",
       "    <tr>\n",
       "      <th>year_2021</th>\n",
       "      <td>NaN</td>\n",
       "      <td>NaN</td>\n",
       "    </tr>\n",
       "    <tr>\n",
       "      <th>PA_2022</th>\n",
       "      <td>0.359423</td>\n",
       "      <td>0.563574</td>\n",
       "    </tr>\n",
       "    <tr>\n",
       "      <th>wOBA_2022</th>\n",
       "      <td>0.464888</td>\n",
       "      <td>1.000000</td>\n",
       "    </tr>\n",
       "    <tr>\n",
       "      <th>xwOBA_2022</th>\n",
       "      <td>0.484594</td>\n",
       "      <td>0.861940</td>\n",
       "    </tr>\n",
       "    <tr>\n",
       "      <th>sxwOBA_2022</th>\n",
       "      <td>0.513113</td>\n",
       "      <td>0.896255</td>\n",
       "    </tr>\n",
       "    <tr>\n",
       "      <th>diff_2022</th>\n",
       "      <td>0.116458</td>\n",
       "      <td>0.150543</td>\n",
       "    </tr>\n",
       "    <tr>\n",
       "      <th>diff%_2022</th>\n",
       "      <td>0.066337</td>\n",
       "      <td>0.051582</td>\n",
       "    </tr>\n",
       "    <tr>\n",
       "      <th>BB%_2022</th>\n",
       "      <td>0.289884</td>\n",
       "      <td>0.426952</td>\n",
       "    </tr>\n",
       "    <tr>\n",
       "      <th>K%_2022</th>\n",
       "      <td>-0.093414</td>\n",
       "      <td>-0.186902</td>\n",
       "    </tr>\n",
       "    <tr>\n",
       "      <th>HR_2022</th>\n",
       "      <td>0.395937</td>\n",
       "      <td>0.700287</td>\n",
       "    </tr>\n",
       "    <tr>\n",
       "      <th>LA_2022</th>\n",
       "      <td>0.149242</td>\n",
       "      <td>0.073727</td>\n",
       "    </tr>\n",
       "    <tr>\n",
       "      <th>Barrels_2022</th>\n",
       "      <td>0.424907</td>\n",
       "      <td>0.692879</td>\n",
       "    </tr>\n",
       "    <tr>\n",
       "      <th>pulled_barrels_2022</th>\n",
       "      <td>0.391186</td>\n",
       "      <td>0.615656</td>\n",
       "    </tr>\n",
       "    <tr>\n",
       "      <th>year_2022</th>\n",
       "      <td>NaN</td>\n",
       "      <td>NaN</td>\n",
       "    </tr>\n",
       "    <tr>\n",
       "      <th>PA</th>\n",
       "      <td>0.383186</td>\n",
       "      <td>0.515825</td>\n",
       "    </tr>\n",
       "    <tr>\n",
       "      <th>wOBA</th>\n",
       "      <td>1.000000</td>\n",
       "      <td>0.464888</td>\n",
       "    </tr>\n",
       "    <tr>\n",
       "      <th>xwOBA</th>\n",
       "      <td>0.866945</td>\n",
       "      <td>0.564482</td>\n",
       "    </tr>\n",
       "    <tr>\n",
       "      <th>sxwOBA</th>\n",
       "      <td>0.894827</td>\n",
       "      <td>0.522955</td>\n",
       "    </tr>\n",
       "    <tr>\n",
       "      <th>diff</th>\n",
       "      <td>0.064791</td>\n",
       "      <td>-0.164431</td>\n",
       "    </tr>\n",
       "    <tr>\n",
       "      <th>diff%</th>\n",
       "      <td>-0.011626</td>\n",
       "      <td>-0.170615</td>\n",
       "    </tr>\n",
       "    <tr>\n",
       "      <th>BB%</th>\n",
       "      <td>0.317476</td>\n",
       "      <td>0.334463</td>\n",
       "    </tr>\n",
       "    <tr>\n",
       "      <th>K%</th>\n",
       "      <td>-0.203520</td>\n",
       "      <td>-0.202461</td>\n",
       "    </tr>\n",
       "    <tr>\n",
       "      <th>HR</th>\n",
       "      <td>0.583034</td>\n",
       "      <td>0.558187</td>\n",
       "    </tr>\n",
       "    <tr>\n",
       "      <th>LA</th>\n",
       "      <td>0.205991</td>\n",
       "      <td>0.093890</td>\n",
       "    </tr>\n",
       "    <tr>\n",
       "      <th>Barrels</th>\n",
       "      <td>0.580827</td>\n",
       "      <td>0.592126</td>\n",
       "    </tr>\n",
       "    <tr>\n",
       "      <th>pulled_barrels</th>\n",
       "      <td>0.534838</td>\n",
       "      <td>0.507489</td>\n",
       "    </tr>\n",
       "    <tr>\n",
       "      <th>year</th>\n",
       "      <td>NaN</td>\n",
       "      <td>NaN</td>\n",
       "    </tr>\n",
       "  </tbody>\n",
       "</table>\n",
       "</div>"
      ],
      "text/plain": [
       "                         wOBA  wOBA_2022\n",
       "batter               0.108966   0.063766\n",
       "PA_2021              0.167567   0.307540\n",
       "wOBA_2021            0.306904   0.464917\n",
       "xwOBA_2021           0.393755   0.521283\n",
       "sxwOBA_2021          0.404682   0.527477\n",
       "diff_2021           -0.021274  -0.054874\n",
       "diff%_2021          -0.032209  -0.092631\n",
       "BB%_2021             0.269205   0.177710\n",
       "K%_2021             -0.123615  -0.109015\n",
       "HR_2021              0.271092   0.419307\n",
       "LA_2021              0.100741   0.002881\n",
       "Barrels_2021         0.310644   0.490984\n",
       "pulled_barrels_2021  0.227522   0.366172\n",
       "year_2021                 NaN        NaN\n",
       "PA_2022              0.359423   0.563574\n",
       "wOBA_2022            0.464888   1.000000\n",
       "xwOBA_2022           0.484594   0.861940\n",
       "sxwOBA_2022          0.513113   0.896255\n",
       "diff_2022            0.116458   0.150543\n",
       "diff%_2022           0.066337   0.051582\n",
       "BB%_2022             0.289884   0.426952\n",
       "K%_2022             -0.093414  -0.186902\n",
       "HR_2022              0.395937   0.700287\n",
       "LA_2022              0.149242   0.073727\n",
       "Barrels_2022         0.424907   0.692879\n",
       "pulled_barrels_2022  0.391186   0.615656\n",
       "year_2022                 NaN        NaN\n",
       "PA                   0.383186   0.515825\n",
       "wOBA                 1.000000   0.464888\n",
       "xwOBA                0.866945   0.564482\n",
       "sxwOBA               0.894827   0.522955\n",
       "diff                 0.064791  -0.164431\n",
       "diff%               -0.011626  -0.170615\n",
       "BB%                  0.317476   0.334463\n",
       "K%                  -0.203520  -0.202461\n",
       "HR                   0.583034   0.558187\n",
       "LA                   0.205991   0.093890\n",
       "Barrels              0.580827   0.592126\n",
       "pulled_barrels       0.534838   0.507489\n",
       "year                      NaN        NaN"
      ]
     },
     "execution_count": 5,
     "metadata": {},
     "output_type": "execute_result"
    }
   ],
   "source": [
    "merged_leaders.loc[(merged_leaders['PA_2021']>300) & (merged_leaders['PA_2022']>300)].corr()[['wOBA', 'wOBA_2022']]\n"
   ]
  },
  {
   "cell_type": "code",
   "execution_count": 10,
   "metadata": {},
   "outputs": [],
   "source": [
    "df = merged_leaders[['wOBA_2021', 'wOBA_2022', 'wOBA', 'xwOBA_2021', 'xwOBA_2022', 'xwOBA', 'sxwOBA_2021', 'sxwOBA_2022', 'sxwOBA']]"
   ]
  },
  {
   "cell_type": "code",
   "execution_count": 11,
   "metadata": {},
   "outputs": [],
   "source": [
    "import plotly.express as px\n",
    "merged_leaders['weighted_woba_2022_2023'] = ((merged_leaders['wOBA_2022']*merged_leaders['PA_2022'])+(merged_leaders['wOBA']*merged_leaders['PA'])) / (merged_leaders['PA_2022'] + merged_leaders['PA'])\n",
    "merged_leaders = merged_leaders.round(3)"
   ]
  },
  {
   "cell_type": "code",
   "execution_count": 12,
   "metadata": {},
   "outputs": [
    {
     "data": {
      "application/vnd.plotly.v1+json": {
       "config": {
        "plotlyServerURL": "https://plotly.com"
       },
       "data": [
        {
         "customdata": [
          [
           "Miguel Cabrera",
           526
          ],
          [
           "Nelson Cruz",
           584
          ],
          [
           "David Peralta",
           538
          ],
          [
           "Evan Longoria",
           291
          ],
          [
           "Charlie Blackmon",
           582
          ],
          [
           "Martin Maldonado",
           426
          ],
          [
           "Donovan Solano",
           344
          ],
          [
           "Andrew McCutchen",
           574
          ],
          [
           "Justin Turner",
           612
          ],
          [
           "Joey Votto",
           533
          ],
          [
           "Elvis Andrus",
           541
          ],
          [
           "Carlos Santana",
           659
          ],
          [
           "Brandon Belt",
           381
          ],
          [
           "Yuli Gurriel",
           605
          ],
          [
           "Miguel Rojas",
           539
          ],
          [
           "Eduardo Escobar",
           599
          ],
          [
           "Ehire Adrianza",
           209
          ],
          [
           "Tommy Pham",
           561
          ],
          [
           "J.D. Martinez",
           634
          ],
          [
           "Paul Goldschmidt",
           679
          ],
          [
           "Sandy Leon",
           220
          ],
          [
           "Jose Altuve",
           678
          ],
          [
           "Jean Segura",
           567
          ],
          [
           "Starling Marte",
           526
          ],
          [
           "Travis d'Arnaud",
           229
          ],
          [
           "Josh Donaldson",
           543
          ],
          [
           "Freddie Freeman",
           695
          ],
          [
           "Yasmani Grandal",
           375
          ],
          [
           "Jason Heyward",
           353
          ],
          [
           "DJ LeMahieu",
           679
          ],
          [
           "Mike Moustakas",
           206
          ],
          [
           "Anthony Rizzo",
           576
          ],
          [
           "Giancarlo Stanton",
           579
          ],
          [
           "Salvador Perez",
           665
          ],
          [
           "Wilmer Flores",
           436
          ],
          [
           "Avisail Garcia",
           515
          ],
          [
           "Marcell Ozuna",
           208
          ],
          [
           "Jesus Aguilar",
           510
          ],
          [
           "Jon Berti",
           271
          ],
          [
           "Brandon Crawford",
           549
          ],
          [
           "C.J. Cron",
           547
          ],
          [
           "Yan Gomes",
           375
          ],
          [
           "Robbie Grossman",
           671
          ],
          [
           "Josh Harrison",
           558
          ],
          [
           "Kyle Higashioka",
           211
          ],
          [
           "Eric Hosmer",
           565
          ],
          [
           "James McCann",
           412
          ],
          [
           "Brad Miller",
           377
          ],
          [
           "Anthony Rendon",
           249
          ],
          [
           "Marcus Semien",
           724
          ],
          [
           "George Springer",
           342
          ],
          [
           "Christian Vazquez",
           498
          ],
          [
           "Kolten Wong",
           492
          ],
          [
           "Randal Grichuk",
           545
          ],
          [
           "Bryce Harper",
           599
          ],
          [
           "Jose Abreu",
           659
          ],
          [
           "Elias Diaz",
           371
          ],
          [
           "Omar Narvaez",
           445
          ],
          [
           "Eugenio Suarez",
           574
          ],
          [
           "Gio Urshela",
           442
          ],
          [
           "Jonathan Schoop",
           674
          ],
          [
           "Nolan Arenado",
           653
          ],
          [
           "Tucker Barnhart",
           388
          ],
          [
           "Kyle Farmer",
           529
          ],
          [
           "Mitch Haniger",
           691
          ],
          [
           "Enrique Hernandez",
           585
          ],
          [
           "Max Muncy",
           592
          ],
          [
           "Wil Myers",
           500
          ],
          [
           "A.J. Pollock",
           422
          ],
          [
           "Michael A. Taylor",
           528
          ],
          [
           "Luke Voit",
           241
          ],
          [
           "Christian Walker",
           445
          ],
          [
           "Mike Zunino",
           375
          ],
          [
           "Matt Carpenter",
           249
          ],
          [
           "Corey Dickerson",
           365
          ],
          [
           "Darin Ruf",
           312
          ],
          [
           "Mike Yastrzemski",
           532
          ],
          [
           "Willson Contreras",
           483
          ],
          [
           "Kris Bryant",
           586
          ],
          [
           "Mark Canha",
           625
          ],
          [
           "Curt Casali",
           231
          ],
          [
           "Nick Castellanos",
           585
          ],
          [
           "Aaron Judge",
           633
          ],
          [
           "Manny Machado",
           640
          ],
          [
           "Joc Pederson",
           481
          ],
          [
           "J.T. Realmuto",
           537
          ],
          [
           "Hunter Renfroe",
           572
          ],
          [
           "Eddie Rosario",
           412
          ],
          [
           "Christian Yelich",
           475
          ],
          [
           "Whit Merrifield",
           720
          ],
          [
           "Xander Bogaerts",
           603
          ],
          [
           "Hanser Alberto",
           255
          ],
          [
           "Jorge Polanco",
           644
          ],
          [
           "Adam Duvall",
           555
          ],
          [
           "Kevin Kiermaier",
           390
          ],
          [
           "Jorge Alfaro",
           311
          ],
          [
           "Jurickson Profar",
           412
          ],
          [
           "Javier Baez",
           547
          ],
          [
           "Austin Hedges",
           312
          ],
          [
           "Francisco Lindor",
           524
          ],
          [
           "Rougned Odor",
           361
          ],
          [
           "Austin Slater",
           306
          ],
          [
           "Daniel Vogelbach",
           258
          ],
          [
           "Gary Sanchez",
           440
          ],
          [
           "Max Kepler",
           490
          ],
          [
           "Ji-Man Choi",
           305
          ],
          [
           "Jackie Bradley Jr.",
           428
          ],
          [
           "Tommy La Stella",
           242
          ],
          [
           "Jeimer Candelario",
           626
          ],
          [
           "Yonathan Daza",
           331
          ],
          [
           "Ramon Urias",
           296
          ],
          [
           "Nick Ahmed",
           473
          ],
          [
           "Brian Anderson",
           264
          ],
          [
           "Austin Barnes",
           225
          ],
          [
           "Josh Bell",
           568
          ],
          [
           "Mookie Betts",
           550
          ],
          [
           "Victor Caratini",
           356
          ],
          [
           "J.D. Davis",
           211
          ],
          [
           "Michael Perez",
           231
          ],
          [
           "Harold Castro",
           339
          ],
          [
           "Raimel Tapia",
           533
          ],
          [
           "Teoscar Hernandez",
           595
          ],
          [
           "Ketel Marte",
           374
          ],
          [
           "Eric Haase",
           381
          ],
          [
           "Brandon Nimmo",
           386
          ],
          [
           "Jace Peterson",
           302
          ],
          [
           "Trea Turner",
           646
          ],
          [
           "Matt Beaty",
           234
          ],
          [
           "Kevin Pillar",
           347
          ],
          [
           "Jacob Stallings",
           427
          ],
          [
           "Jose Ramirez",
           636
          ],
          [
           "Alex Bregman",
           400
          ],
          [
           "Joey Gallo",
           616
          ],
          [
           "Carson Kelly",
           359
          ],
          [
           "Corey Seager",
           409
          ],
          [
           "Jesse Winker",
           485
          ],
          [
           "Tom Murphy",
           325
          ],
          [
           "Franmil Reyes",
           466
          ],
          [
           "Luis Torrens",
           378
          ],
          [
           "Dansby Swanson",
           653
          ],
          [
           "Kevin Newman",
           554
          ],
          [
           "Chris Taylor",
           582
          ],
          [
           "Carlos Correa",
           640
          ],
          [
           "Brett Phillips",
           292
          ],
          [
           "Tyrone Taylor",
           271
          ],
          [
           "Byron Buxton",
           254
          ],
          [
           "Taylor Ward",
           237
          ],
          [
           "Patrick Wisdom",
           375
          ],
          [
           "Joey Wendle",
           501
          ],
          [
           "Matt Olson",
           673
          ],
          [
           "Matt Duffy",
           322
          ],
          [
           "Manuel Margot",
           464
          ],
          [
           "Jorge Mateo",
           209
          ],
          [
           "Harold Ramirez",
           361
          ],
          [
           "Anthony Santander",
           438
          ],
          [
           "Pete Alonso",
           637
          ],
          [
           "Cavan Biggio",
           294
          ],
          [
           "Adam Frazier",
           639
          ],
          [
           "Jose Trevino",
           302
          ],
          [
           "Nick Gordon",
           216
          ],
          [
           "Reese McGuire",
           217
          ],
          [
           "Jorge Soler",
           602
          ],
          [
           "Edmundo Sosa",
           326
          ],
          [
           "Andy Ibanez",
           272
          ],
          [
           "Jake Cronenworth",
           643
          ],
          [
           "Jackson Frazier",
           218
          ],
          [
           "Austin Meadows",
           591
          ],
          [
           "Oscar Mercado",
           238
          ],
          [
           "Tim Anderson",
           551
          ],
          [
           "Cody Bellinger",
           350
          ],
          [
           "Willie Calhoun",
           284
          ],
          [
           "J.P. Crawford",
           687
          ],
          [
           "Hunter Dozier",
           543
          ],
          [
           "Jake Fraley",
           265
          ],
          [
           "Mitch Garver",
           243
          ],
          [
           "Garrett Hampson",
           494
          ],
          [
           "Jonah Heim",
           285
          ],
          [
           "Trey Mancini",
           616
          ],
          [
           "Billy McKinney",
           300
          ],
          [
           "Ryan McMahon",
           596
          ],
          [
           "Tyler O'Neill",
           537
          ],
          [
           "Dominic Smith",
           493
          ],
          [
           "Rowdy Tellez",
           325
          ],
          [
           "Eli White",
           220
          ],
          [
           "Francisco Mejia",
           277
          ],
          [
           "Amed Rosario",
           588
          ],
          [
           "Willy Adames",
           555
          ],
          [
           "Andrew Benintendi",
           538
          ],
          [
           "Garrett Cooper",
           250
          ],
          [
           "Danny Jansen",
           205
          ],
          [
           "Tony Kemp",
           397
          ],
          [
           "Isiah Kiner-Falefa",
           677
          ],
          [
           "Jeff McNeil",
           426
          ],
          [
           "Yu Chang",
           251
          ],
          [
           "Ozzie Albies",
           686
          ],
          [
           "Victor Robles",
           369
          ],
          [
           "Rafael Devers",
           664
          ],
          [
           "Josh Naylor",
           250
          ],
          [
           "Abraham Toro",
           375
          ],
          [
           "Aledmys Diaz",
           319
          ],
          [
           "Luis Urias",
           570
          ],
          [
           "Luis Arraez",
           479
          ],
          [
           "Eloy Jimenez",
           231
          ],
          [
           "Gleyber Torres",
           516
          ],
          [
           "Willi Castro",
           450
          ],
          [
           "Yandy Diaz",
           541
          ],
          [
           "Bryan De La Cruz",
           219
          ],
          [
           "Matt Chapman",
           622
          ],
          [
           "Sam Hilliard",
           238
          ],
          [
           "Connor Joe",
           211
          ],
          [
           "Cedric Mullins II",
           675
          ],
          [
           "Ryan O'Hearn",
           254
          ],
          [
           "Kyle Schwarber",
           471
          ],
          [
           "Pavin Smith",
           545
          ],
          [
           "Lane Thomas",
           264
          ],
          [
           "Alex Verdugo",
           604
          ],
          [
           "Paul DeJong",
           402
          ],
          [
           "Ramon Laureano",
           378
          ],
          [
           "Yoan Moncada",
           616
          ],
          [
           "Shohei Ohtani",
           639
          ],
          [
           "Ronald Acuna Jr.",
           360
          ],
          [
           "Jesus Sanchez",
           251
          ],
          [
           "Daulton Varsho",
           315
          ],
          [
           "Austin Riley",
           662
          ],
          [
           "Nick Madrigal",
           215
          ],
          [
           "Trevor Larnach",
           301
          ],
          [
           "Ryan Mountcastle",
           586
          ],
          [
           "Ke'Bryan Hayes",
           396
          ],
          [
           "Kyle Tucker",
           567
          ],
          [
           "Jonathan India",
           631
          ],
          [
           "Trent Grisham",
           527
          ],
          [
           "Tyler Stephenson",
           402
          ],
          [
           "Nathaniel Lowe",
           642
          ],
          [
           "Ian Happ",
           535
          ],
          [
           "Ty France",
           650
          ],
          [
           "Brandon Lowe",
           615
          ],
          [
           "Harrison Bader",
           401
          ],
          [
           "David Fletcher",
           665
          ],
          [
           "Dylan Moore",
           377
          ],
          [
           "Myles Straw",
           638
          ],
          [
           "Alec Bohm",
           417
          ],
          [
           "LaMonte Wade Jr.",
           381
          ],
          [
           "Seth Brown",
           307
          ],
          [
           "Jared Walsh",
           585
          ],
          [
           "Vladimir Guerrero Jr.",
           698
          ],
          [
           "Juan Soto",
           654
          ],
          [
           "Jazz Chisholm Jr.",
           507
          ],
          [
           "Andres Gimenez",
           210
          ],
          [
           "Alex Kirilloff",
           231
          ],
          [
           "Bo Bichette",
           690
          ],
          [
           "Dylan Carlson",
           619
          ],
          [
           "Bobby Dalbec",
           453
          ],
          [
           "Adolis Garcia",
           622
          ],
          [
           "Lourdes Gurriel Jr.",
           541
          ],
          [
           "Brent Rooker",
           213
          ],
          [
           "Randy Arozarena",
           604
          ],
          [
           "Akil Baddoo",
           461
          ],
          [
           "Bryan Reynolds",
           646
          ],
          [
           "Josh Rojas",
           550
          ],
          [
           "Brandon Marsh",
           260
          ],
          [
           "Sean Murphy",
           448
          ],
          [
           "Tommy Edman",
           691
          ],
          [
           "Will Smith",
           501
          ],
          [
           "Santiago Espinal",
           246
          ],
          [
           "Austin Hays",
           529
          ],
          [
           "Nicky Lopez",
           565
          ],
          [
           "Yordan Alvarez",
           598
          ],
          [
           "Luis Garcia",
           247
          ],
          [
           "Jarred Kelenic",
           377
          ],
          [
           "Luis Robert",
           296
          ],
          [
           "Ha-seong Kim",
           298
          ],
          [
           "Chas McCormick",
           320
          ],
          [
           "Wander Franco",
           308
          ],
          [
           "Ryan Jeffers",
           293
          ],
          [
           "Owen Miller",
           202
          ],
          [
           "Andrew Vaughn",
           469
          ]
         ],
         "hovertemplate": "xwOBA_2021=%{x}<br>sxwOBA_2021=%{y}<br>Name=%{customdata[0]}<br>PA_2021=%{customdata[1]}<br>weighted_woba_2022_2023=%{marker.color}<extra></extra>",
         "legendgroup": "",
         "marker": {
          "color": [
           0.279,
           0.293,
           0.312,
           0.335,
           0.323,
           0.259,
           0.33,
           0.327,
           0.346,
           0.321,
           0.293,
           0.305,
           0.321,
           0.291,
           0.262,
           0.312,
           0.208,
           0.311,
           0.347,
           0.403,
           0.222,
           0.388,
           0.285,
           0.332,
           0.348,
           0.297,
           0.395,
           0.282,
           0.299,
           0.317,
           0.305,
           0.349,
           0.316,
           0.325,
           0.317,
           0.258,
           0.316,
           0.287,
           0.295,
           0.288,
           0.329,
           0.289,
           0.287,
           0.295,
           0.275,
           0.305,
           0.245,
           0.267,
           0.314,
           0.327,
           0.342,
           0.3,
           0.308,
           0.323,
           0.361,
           0.332,
           0.312,
           0.267,
           0.328,
           0.325,
           0.244,
           0.365,
           0.248,
           0.307,
           0.306,
           0.28,
           0.325,
           0.289,
           0.285,
           0.292,
           0.304,
           0.353,
           0.242,
           0.373,
           0.303,
           0.291,
           0.318,
           0.336,
           0.344,
           0.336,
           0.275,
           0.326,
           0.454,
           0.36,
           0.374,
           0.346,
           0.339,
           0.304,
           0.335,
           0.303,
           0.35,
           0.274,
           0.33,
           0.32,
           0.31,
           0.284,
           0.316,
           0.281,
           0.217,
           0.336,
           0.284,
           0.355,
           0.336,
           0.294,
           0.298,
           0.313,
           0.235,
           0.274,
           0.304,
           0.317,
           0.315,
           0.278,
           0.3,
           0.27,
           0.334,
           0.372,
           0.291,
           0.345,
           0.245,
           0.292,
           0.29,
           0.336,
           0.341,
           0.3,
           0.352,
           0.296,
           0.334,
           0.192,
           0.314,
           0.26,
           0.362,
           0.348,
           0.301,
           0.271,
           0.355,
           0.301,
           0.336,
           0.274,
           0.264,
           0.338,
           0.305,
           0.301,
           0.342,
           0.211,
           0.293,
           0.342,
           0.342,
           0.318,
           0.29,
           0.354,
           0.294,
           0.309,
           0.278,
           0.336,
           0.343,
           0.364,
           0.3,
           0.28,
           0.281,
           0.302,
           0.296,
           0.338,
           0.276,
           0.276,
           0.311,
           0.274,
           0.297,
           0.277,
           0.293,
           0.295,
           0.291,
           0.314,
           0.29,
           0.356,
           0.313,
           0.279,
           0.322,
           0.309,
           0.269,
           0.336,
           0.3,
           0.283,
           0.319,
           0.249,
           0.281,
           0.303,
           0.314,
           0.331,
           0.32,
           0.343,
           0.279,
           0.283,
           0.343,
           0.263,
           0.326,
           0.279,
           0.361,
           0.333,
           0.255,
           0.28,
           0.321,
           0.37,
           0.349,
           0.326,
           0.292,
           0.377,
           0.32,
           0.337,
           0.271,
           0.32,
           0.326,
           0.322,
           0.346,
           0.296,
           0.33,
           0.334,
           0.279,
           0.289,
           0.277,
           0.387,
           0.366,
           0.31,
           0.314,
           0.362,
           0.277,
           0.307,
           0.309,
           0.295,
           0.346,
           0.325,
           0.288,
           0.329,
           0.362,
           0.346,
           0.336,
           0.306,
           0.295,
           0.273,
           0.331,
           0.263,
           0.31,
           0.346,
           0.31,
           0.27,
           0.351,
           0.384,
           0.34,
           0.344,
           0.313,
           0.354,
           0.309,
           0.285,
           0.332,
           0.335,
           0.33,
           0.354,
           0.277,
           0.351,
           0.31,
           0.314,
           0.349,
           0.316,
           0.363,
           0.301,
           0.332,
           0.26,
           0.422,
           0.305,
           0.298,
           0.347,
           0.317,
           0.331,
           0.335,
           0.313,
           0.296,
           0.329
          ],
          "coloraxis": "coloraxis",
          "symbol": "circle"
         },
         "mode": "markers",
         "name": "",
         "orientation": "v",
         "showlegend": false,
         "type": "scatter",
         "x": [
          0.315,
          0.363,
          0.293,
          0.351,
          0.359,
          0.267,
          0.335,
          0.344,
          0.359,
          0.406,
          0.308,
          0.335,
          0.374,
          0.326,
          0.292,
          0.328,
          0.314,
          0.35,
          0.374,
          0.397,
          0.216,
          0.332,
          0.319,
          0.347,
          0.312,
          0.388,
          0.416,
          0.412,
          0.294,
          0.34,
          0.276,
          0.347,
          0.363,
          0.374,
          0.312,
          0.366,
          0.347,
          0.334,
          0.302,
          0.356,
          0.364,
          0.341,
          0.334,
          0.333,
          0.343,
          0.326,
          0.284,
          0.345,
          0.303,
          0.336,
          0.361,
          0.276,
          0.308,
          0.297,
          0.43,
          0.349,
          0.318,
          0.304,
          0.326,
          0.304,
          0.311,
          0.311,
          0.265,
          0.302,
          0.353,
          0.346,
          0.407,
          0.295,
          0.359,
          0.3,
          0.359,
          0.311,
          0.354,
          0.34,
          0.295,
          0.381,
          0.318,
          0.346,
          0.346,
          0.332,
          0.28,
          0.374,
          0.418,
          0.376,
          0.333,
          0.329,
          0.354,
          0.319,
          0.337,
          0.301,
          0.359,
          0.294,
          0.348,
          0.33,
          0.283,
          0.292,
          0.302,
          0.325,
          0.228,
          0.344,
          0.29,
          0.335,
          0.337,
          0.336,
          0.347,
          0.342,
          0.253,
          0.342,
          0.356,
          0.286,
          0.344,
          0.249,
          0.299,
          0.274,
          0.367,
          0.357,
          0.29,
          0.338,
          0.244,
          0.315,
          0.281,
          0.37,
          0.372,
          0.322,
          0.35,
          0.319,
          0.364,
          0.308,
          0.281,
          0.314,
          0.376,
          0.332,
          0.354,
          0.346,
          0.392,
          0.39,
          0.292,
          0.353,
          0.318,
          0.332,
          0.275,
          0.329,
          0.373,
          0.284,
          0.314,
          0.407,
          0.344,
          0.321,
          0.286,
          0.378,
          0.325,
          0.318,
          0.287,
          0.308,
          0.328,
          0.377,
          0.285,
          0.324,
          0.285,
          0.318,
          0.281,
          0.359,
          0.326,
          0.32,
          0.344,
          0.313,
          0.326,
          0.279,
          0.329,
          0.281,
          0.323,
          0.298,
          0.299,
          0.335,
          0.386,
          0.291,
          0.285,
          0.341,
          0.291,
          0.325,
          0.392,
          0.325,
          0.34,
          0.249,
          0.285,
          0.3,
          0.325,
          0.331,
          0.362,
          0.333,
          0.321,
          0.292,
          0.315,
          0.282,
          0.329,
          0.288,
          0.394,
          0.311,
          0.323,
          0.319,
          0.333,
          0.337,
          0.325,
          0.331,
          0.291,
          0.332,
          0.301,
          0.321,
          0.311,
          0.37,
          0.344,
          0.294,
          0.399,
          0.312,
          0.322,
          0.34,
          0.312,
          0.335,
          0.353,
          0.408,
          0.429,
          0.333,
          0.323,
          0.366,
          0.289,
          0.306,
          0.326,
          0.299,
          0.396,
          0.352,
          0.309,
          0.324,
          0.323,
          0.317,
          0.346,
          0.36,
          0.295,
          0.28,
          0.288,
          0.303,
          0.313,
          0.347,
          0.318,
          0.326,
          0.417,
          0.429,
          0.307,
          0.268,
          0.37,
          0.355,
          0.322,
          0.344,
          0.299,
          0.339,
          0.341,
          0.304,
          0.309,
          0.386,
          0.295,
          0.324,
          0.337,
          0.316,
          0.364,
          0.307,
          0.316,
          0.283,
          0.389,
          0.279,
          0.314,
          0.382,
          0.265,
          0.311,
          0.329,
          0.299,
          0.267,
          0.332
         ],
         "xaxis": "x",
         "y": [
          0.316,
          0.366,
          0.32,
          0.363,
          0.356,
          0.266,
          0.343,
          0.346,
          0.352,
          0.402,
          0.31,
          0.314,
          0.382,
          0.35,
          0.309,
          0.336,
          0.327,
          0.347,
          0.364,
          0.396,
          0.226,
          0.363,
          0.339,
          0.362,
          0.309,
          0.37,
          0.418,
          0.409,
          0.29,
          0.355,
          0.278,
          0.36,
          0.369,
          0.374,
          0.332,
          0.373,
          0.335,
          0.343,
          0.299,
          0.372,
          0.372,
          0.336,
          0.344,
          0.333,
          0.306,
          0.338,
          0.28,
          0.36,
          0.321,
          0.352,
          0.371,
          0.292,
          0.317,
          0.309,
          0.429,
          0.363,
          0.325,
          0.317,
          0.316,
          0.302,
          0.327,
          0.327,
          0.29,
          0.31,
          0.361,
          0.335,
          0.392,
          0.311,
          0.37,
          0.298,
          0.348,
          0.315,
          0.368,
          0.324,
          0.31,
          0.393,
          0.337,
          0.358,
          0.344,
          0.339,
          0.284,
          0.378,
          0.415,
          0.37,
          0.324,
          0.357,
          0.361,
          0.311,
          0.346,
          0.316,
          0.369,
          0.295,
          0.362,
          0.335,
          0.305,
          0.303,
          0.305,
          0.341,
          0.231,
          0.348,
          0.295,
          0.356,
          0.355,
          0.325,
          0.345,
          0.339,
          0.252,
          0.327,
          0.368,
          0.314,
          0.354,
          0.27,
          0.286,
          0.276,
          0.374,
          0.362,
          0.297,
          0.339,
          0.236,
          0.316,
          0.314,
          0.392,
          0.377,
          0.325,
          0.374,
          0.314,
          0.39,
          0.322,
          0.298,
          0.329,
          0.397,
          0.327,
          0.358,
          0.342,
          0.384,
          0.401,
          0.291,
          0.359,
          0.321,
          0.336,
          0.29,
          0.34,
          0.386,
          0.294,
          0.328,
          0.413,
          0.351,
          0.33,
          0.308,
          0.403,
          0.337,
          0.328,
          0.289,
          0.333,
          0.325,
          0.374,
          0.308,
          0.342,
          0.273,
          0.315,
          0.29,
          0.356,
          0.336,
          0.342,
          0.37,
          0.301,
          0.335,
          0.318,
          0.337,
          0.286,
          0.316,
          0.314,
          0.304,
          0.351,
          0.375,
          0.294,
          0.296,
          0.342,
          0.311,
          0.331,
          0.397,
          0.325,
          0.331,
          0.27,
          0.296,
          0.327,
          0.334,
          0.338,
          0.371,
          0.366,
          0.34,
          0.319,
          0.318,
          0.299,
          0.342,
          0.293,
          0.4,
          0.323,
          0.332,
          0.312,
          0.339,
          0.34,
          0.329,
          0.33,
          0.302,
          0.346,
          0.332,
          0.328,
          0.325,
          0.368,
          0.377,
          0.3,
          0.393,
          0.32,
          0.321,
          0.35,
          0.314,
          0.337,
          0.354,
          0.423,
          0.415,
          0.349,
          0.335,
          0.373,
          0.31,
          0.307,
          0.333,
          0.307,
          0.396,
          0.367,
          0.331,
          0.331,
          0.345,
          0.325,
          0.348,
          0.374,
          0.328,
          0.308,
          0.296,
          0.315,
          0.324,
          0.347,
          0.322,
          0.343,
          0.432,
          0.44,
          0.321,
          0.283,
          0.336,
          0.38,
          0.334,
          0.347,
          0.312,
          0.346,
          0.332,
          0.323,
          0.334,
          0.397,
          0.317,
          0.327,
          0.334,
          0.338,
          0.373,
          0.335,
          0.322,
          0.305,
          0.382,
          0.29,
          0.309,
          0.383,
          0.288,
          0.329,
          0.345,
          0.307,
          0.26,
          0.321
         ],
         "yaxis": "y"
        }
       ],
       "layout": {
        "coloraxis": {
         "colorbar": {
          "title": {
           "text": "weighted_woba_2022_2023"
          }
         },
         "colorscale": [
          [
           0,
           "#0d0887"
          ],
          [
           0.1111111111111111,
           "#46039f"
          ],
          [
           0.2222222222222222,
           "#7201a8"
          ],
          [
           0.3333333333333333,
           "#9c179e"
          ],
          [
           0.4444444444444444,
           "#bd3786"
          ],
          [
           0.5555555555555556,
           "#d8576b"
          ],
          [
           0.6666666666666666,
           "#ed7953"
          ],
          [
           0.7777777777777778,
           "#fb9f3a"
          ],
          [
           0.8888888888888888,
           "#fdca26"
          ],
          [
           1,
           "#f0f921"
          ]
         ]
        },
        "legend": {
         "tracegroupgap": 0
        },
        "margin": {
         "t": 60
        },
        "template": {
         "data": {
          "bar": [
           {
            "error_x": {
             "color": "#2a3f5f"
            },
            "error_y": {
             "color": "#2a3f5f"
            },
            "marker": {
             "line": {
              "color": "#E5ECF6",
              "width": 0.5
             },
             "pattern": {
              "fillmode": "overlay",
              "size": 10,
              "solidity": 0.2
             }
            },
            "type": "bar"
           }
          ],
          "barpolar": [
           {
            "marker": {
             "line": {
              "color": "#E5ECF6",
              "width": 0.5
             },
             "pattern": {
              "fillmode": "overlay",
              "size": 10,
              "solidity": 0.2
             }
            },
            "type": "barpolar"
           }
          ],
          "carpet": [
           {
            "aaxis": {
             "endlinecolor": "#2a3f5f",
             "gridcolor": "white",
             "linecolor": "white",
             "minorgridcolor": "white",
             "startlinecolor": "#2a3f5f"
            },
            "baxis": {
             "endlinecolor": "#2a3f5f",
             "gridcolor": "white",
             "linecolor": "white",
             "minorgridcolor": "white",
             "startlinecolor": "#2a3f5f"
            },
            "type": "carpet"
           }
          ],
          "choropleth": [
           {
            "colorbar": {
             "outlinewidth": 0,
             "ticks": ""
            },
            "type": "choropleth"
           }
          ],
          "contour": [
           {
            "colorbar": {
             "outlinewidth": 0,
             "ticks": ""
            },
            "colorscale": [
             [
              0,
              "#0d0887"
             ],
             [
              0.1111111111111111,
              "#46039f"
             ],
             [
              0.2222222222222222,
              "#7201a8"
             ],
             [
              0.3333333333333333,
              "#9c179e"
             ],
             [
              0.4444444444444444,
              "#bd3786"
             ],
             [
              0.5555555555555556,
              "#d8576b"
             ],
             [
              0.6666666666666666,
              "#ed7953"
             ],
             [
              0.7777777777777778,
              "#fb9f3a"
             ],
             [
              0.8888888888888888,
              "#fdca26"
             ],
             [
              1,
              "#f0f921"
             ]
            ],
            "type": "contour"
           }
          ],
          "contourcarpet": [
           {
            "colorbar": {
             "outlinewidth": 0,
             "ticks": ""
            },
            "type": "contourcarpet"
           }
          ],
          "heatmap": [
           {
            "colorbar": {
             "outlinewidth": 0,
             "ticks": ""
            },
            "colorscale": [
             [
              0,
              "#0d0887"
             ],
             [
              0.1111111111111111,
              "#46039f"
             ],
             [
              0.2222222222222222,
              "#7201a8"
             ],
             [
              0.3333333333333333,
              "#9c179e"
             ],
             [
              0.4444444444444444,
              "#bd3786"
             ],
             [
              0.5555555555555556,
              "#d8576b"
             ],
             [
              0.6666666666666666,
              "#ed7953"
             ],
             [
              0.7777777777777778,
              "#fb9f3a"
             ],
             [
              0.8888888888888888,
              "#fdca26"
             ],
             [
              1,
              "#f0f921"
             ]
            ],
            "type": "heatmap"
           }
          ],
          "heatmapgl": [
           {
            "colorbar": {
             "outlinewidth": 0,
             "ticks": ""
            },
            "colorscale": [
             [
              0,
              "#0d0887"
             ],
             [
              0.1111111111111111,
              "#46039f"
             ],
             [
              0.2222222222222222,
              "#7201a8"
             ],
             [
              0.3333333333333333,
              "#9c179e"
             ],
             [
              0.4444444444444444,
              "#bd3786"
             ],
             [
              0.5555555555555556,
              "#d8576b"
             ],
             [
              0.6666666666666666,
              "#ed7953"
             ],
             [
              0.7777777777777778,
              "#fb9f3a"
             ],
             [
              0.8888888888888888,
              "#fdca26"
             ],
             [
              1,
              "#f0f921"
             ]
            ],
            "type": "heatmapgl"
           }
          ],
          "histogram": [
           {
            "marker": {
             "pattern": {
              "fillmode": "overlay",
              "size": 10,
              "solidity": 0.2
             }
            },
            "type": "histogram"
           }
          ],
          "histogram2d": [
           {
            "colorbar": {
             "outlinewidth": 0,
             "ticks": ""
            },
            "colorscale": [
             [
              0,
              "#0d0887"
             ],
             [
              0.1111111111111111,
              "#46039f"
             ],
             [
              0.2222222222222222,
              "#7201a8"
             ],
             [
              0.3333333333333333,
              "#9c179e"
             ],
             [
              0.4444444444444444,
              "#bd3786"
             ],
             [
              0.5555555555555556,
              "#d8576b"
             ],
             [
              0.6666666666666666,
              "#ed7953"
             ],
             [
              0.7777777777777778,
              "#fb9f3a"
             ],
             [
              0.8888888888888888,
              "#fdca26"
             ],
             [
              1,
              "#f0f921"
             ]
            ],
            "type": "histogram2d"
           }
          ],
          "histogram2dcontour": [
           {
            "colorbar": {
             "outlinewidth": 0,
             "ticks": ""
            },
            "colorscale": [
             [
              0,
              "#0d0887"
             ],
             [
              0.1111111111111111,
              "#46039f"
             ],
             [
              0.2222222222222222,
              "#7201a8"
             ],
             [
              0.3333333333333333,
              "#9c179e"
             ],
             [
              0.4444444444444444,
              "#bd3786"
             ],
             [
              0.5555555555555556,
              "#d8576b"
             ],
             [
              0.6666666666666666,
              "#ed7953"
             ],
             [
              0.7777777777777778,
              "#fb9f3a"
             ],
             [
              0.8888888888888888,
              "#fdca26"
             ],
             [
              1,
              "#f0f921"
             ]
            ],
            "type": "histogram2dcontour"
           }
          ],
          "mesh3d": [
           {
            "colorbar": {
             "outlinewidth": 0,
             "ticks": ""
            },
            "type": "mesh3d"
           }
          ],
          "parcoords": [
           {
            "line": {
             "colorbar": {
              "outlinewidth": 0,
              "ticks": ""
             }
            },
            "type": "parcoords"
           }
          ],
          "pie": [
           {
            "automargin": true,
            "type": "pie"
           }
          ],
          "scatter": [
           {
            "fillpattern": {
             "fillmode": "overlay",
             "size": 10,
             "solidity": 0.2
            },
            "type": "scatter"
           }
          ],
          "scatter3d": [
           {
            "line": {
             "colorbar": {
              "outlinewidth": 0,
              "ticks": ""
             }
            },
            "marker": {
             "colorbar": {
              "outlinewidth": 0,
              "ticks": ""
             }
            },
            "type": "scatter3d"
           }
          ],
          "scattercarpet": [
           {
            "marker": {
             "colorbar": {
              "outlinewidth": 0,
              "ticks": ""
             }
            },
            "type": "scattercarpet"
           }
          ],
          "scattergeo": [
           {
            "marker": {
             "colorbar": {
              "outlinewidth": 0,
              "ticks": ""
             }
            },
            "type": "scattergeo"
           }
          ],
          "scattergl": [
           {
            "marker": {
             "colorbar": {
              "outlinewidth": 0,
              "ticks": ""
             }
            },
            "type": "scattergl"
           }
          ],
          "scattermapbox": [
           {
            "marker": {
             "colorbar": {
              "outlinewidth": 0,
              "ticks": ""
             }
            },
            "type": "scattermapbox"
           }
          ],
          "scatterpolar": [
           {
            "marker": {
             "colorbar": {
              "outlinewidth": 0,
              "ticks": ""
             }
            },
            "type": "scatterpolar"
           }
          ],
          "scatterpolargl": [
           {
            "marker": {
             "colorbar": {
              "outlinewidth": 0,
              "ticks": ""
             }
            },
            "type": "scatterpolargl"
           }
          ],
          "scatterternary": [
           {
            "marker": {
             "colorbar": {
              "outlinewidth": 0,
              "ticks": ""
             }
            },
            "type": "scatterternary"
           }
          ],
          "surface": [
           {
            "colorbar": {
             "outlinewidth": 0,
             "ticks": ""
            },
            "colorscale": [
             [
              0,
              "#0d0887"
             ],
             [
              0.1111111111111111,
              "#46039f"
             ],
             [
              0.2222222222222222,
              "#7201a8"
             ],
             [
              0.3333333333333333,
              "#9c179e"
             ],
             [
              0.4444444444444444,
              "#bd3786"
             ],
             [
              0.5555555555555556,
              "#d8576b"
             ],
             [
              0.6666666666666666,
              "#ed7953"
             ],
             [
              0.7777777777777778,
              "#fb9f3a"
             ],
             [
              0.8888888888888888,
              "#fdca26"
             ],
             [
              1,
              "#f0f921"
             ]
            ],
            "type": "surface"
           }
          ],
          "table": [
           {
            "cells": {
             "fill": {
              "color": "#EBF0F8"
             },
             "line": {
              "color": "white"
             }
            },
            "header": {
             "fill": {
              "color": "#C8D4E3"
             },
             "line": {
              "color": "white"
             }
            },
            "type": "table"
           }
          ]
         },
         "layout": {
          "annotationdefaults": {
           "arrowcolor": "#2a3f5f",
           "arrowhead": 0,
           "arrowwidth": 1
          },
          "autotypenumbers": "strict",
          "coloraxis": {
           "colorbar": {
            "outlinewidth": 0,
            "ticks": ""
           }
          },
          "colorscale": {
           "diverging": [
            [
             0,
             "#8e0152"
            ],
            [
             0.1,
             "#c51b7d"
            ],
            [
             0.2,
             "#de77ae"
            ],
            [
             0.3,
             "#f1b6da"
            ],
            [
             0.4,
             "#fde0ef"
            ],
            [
             0.5,
             "#f7f7f7"
            ],
            [
             0.6,
             "#e6f5d0"
            ],
            [
             0.7,
             "#b8e186"
            ],
            [
             0.8,
             "#7fbc41"
            ],
            [
             0.9,
             "#4d9221"
            ],
            [
             1,
             "#276419"
            ]
           ],
           "sequential": [
            [
             0,
             "#0d0887"
            ],
            [
             0.1111111111111111,
             "#46039f"
            ],
            [
             0.2222222222222222,
             "#7201a8"
            ],
            [
             0.3333333333333333,
             "#9c179e"
            ],
            [
             0.4444444444444444,
             "#bd3786"
            ],
            [
             0.5555555555555556,
             "#d8576b"
            ],
            [
             0.6666666666666666,
             "#ed7953"
            ],
            [
             0.7777777777777778,
             "#fb9f3a"
            ],
            [
             0.8888888888888888,
             "#fdca26"
            ],
            [
             1,
             "#f0f921"
            ]
           ],
           "sequentialminus": [
            [
             0,
             "#0d0887"
            ],
            [
             0.1111111111111111,
             "#46039f"
            ],
            [
             0.2222222222222222,
             "#7201a8"
            ],
            [
             0.3333333333333333,
             "#9c179e"
            ],
            [
             0.4444444444444444,
             "#bd3786"
            ],
            [
             0.5555555555555556,
             "#d8576b"
            ],
            [
             0.6666666666666666,
             "#ed7953"
            ],
            [
             0.7777777777777778,
             "#fb9f3a"
            ],
            [
             0.8888888888888888,
             "#fdca26"
            ],
            [
             1,
             "#f0f921"
            ]
           ]
          },
          "colorway": [
           "#636efa",
           "#EF553B",
           "#00cc96",
           "#ab63fa",
           "#FFA15A",
           "#19d3f3",
           "#FF6692",
           "#B6E880",
           "#FF97FF",
           "#FECB52"
          ],
          "font": {
           "color": "#2a3f5f"
          },
          "geo": {
           "bgcolor": "white",
           "lakecolor": "white",
           "landcolor": "#E5ECF6",
           "showlakes": true,
           "showland": true,
           "subunitcolor": "white"
          },
          "hoverlabel": {
           "align": "left"
          },
          "hovermode": "closest",
          "mapbox": {
           "style": "light"
          },
          "paper_bgcolor": "white",
          "plot_bgcolor": "#E5ECF6",
          "polar": {
           "angularaxis": {
            "gridcolor": "white",
            "linecolor": "white",
            "ticks": ""
           },
           "bgcolor": "#E5ECF6",
           "radialaxis": {
            "gridcolor": "white",
            "linecolor": "white",
            "ticks": ""
           }
          },
          "scene": {
           "xaxis": {
            "backgroundcolor": "#E5ECF6",
            "gridcolor": "white",
            "gridwidth": 2,
            "linecolor": "white",
            "showbackground": true,
            "ticks": "",
            "zerolinecolor": "white"
           },
           "yaxis": {
            "backgroundcolor": "#E5ECF6",
            "gridcolor": "white",
            "gridwidth": 2,
            "linecolor": "white",
            "showbackground": true,
            "ticks": "",
            "zerolinecolor": "white"
           },
           "zaxis": {
            "backgroundcolor": "#E5ECF6",
            "gridcolor": "white",
            "gridwidth": 2,
            "linecolor": "white",
            "showbackground": true,
            "ticks": "",
            "zerolinecolor": "white"
           }
          },
          "shapedefaults": {
           "line": {
            "color": "#2a3f5f"
           }
          },
          "ternary": {
           "aaxis": {
            "gridcolor": "white",
            "linecolor": "white",
            "ticks": ""
           },
           "baxis": {
            "gridcolor": "white",
            "linecolor": "white",
            "ticks": ""
           },
           "bgcolor": "#E5ECF6",
           "caxis": {
            "gridcolor": "white",
            "linecolor": "white",
            "ticks": ""
           }
          },
          "title": {
           "x": 0.05
          },
          "xaxis": {
           "automargin": true,
           "gridcolor": "white",
           "linecolor": "white",
           "ticks": "",
           "title": {
            "standoff": 15
           },
           "zerolinecolor": "white",
           "zerolinewidth": 2
          },
          "yaxis": {
           "automargin": true,
           "gridcolor": "white",
           "linecolor": "white",
           "ticks": "",
           "title": {
            "standoff": 15
           },
           "zerolinecolor": "white",
           "zerolinewidth": 2
          }
         }
        },
        "xaxis": {
         "anchor": "y",
         "domain": [
          0,
          1
         ],
         "title": {
          "text": "xwOBA_2021"
         }
        },
        "yaxis": {
         "anchor": "x",
         "domain": [
          0,
          1
         ],
         "title": {
          "text": "sxwOBA_2021"
         }
        }
       }
      }
     },
     "metadata": {},
     "output_type": "display_data"
    }
   ],
   "source": [
    "px.scatter(data_frame=merged_leaders.loc[merged_leaders['PA_2021'] > 200], x='xwOBA_2021', y='sxwOBA_2021', color='weighted_woba_2022_2023', hover_data=['Name', 'PA_2021'])"
   ]
  },
  {
   "cell_type": "code",
   "execution_count": 13,
   "metadata": {},
   "outputs": [
    {
     "data": {
      "application/vnd.plotly.v1+json": {
       "config": {
        "plotlyServerURL": "https://plotly.com"
       },
       "data": [
        {
         "customdata": [
          [
           "Miguel Cabrera",
           526
          ],
          [
           "Nelson Cruz",
           584
          ],
          [
           "David Peralta",
           538
          ],
          [
           "Evan Longoria",
           291
          ],
          [
           "Charlie Blackmon",
           582
          ],
          [
           "Martin Maldonado",
           426
          ],
          [
           "Donovan Solano",
           344
          ],
          [
           "Andrew McCutchen",
           574
          ],
          [
           "Justin Turner",
           612
          ],
          [
           "Joey Votto",
           533
          ],
          [
           "Elvis Andrus",
           541
          ],
          [
           "Carlos Santana",
           659
          ],
          [
           "Brandon Belt",
           381
          ],
          [
           "Yuli Gurriel",
           605
          ],
          [
           "Miguel Rojas",
           539
          ],
          [
           "Eduardo Escobar",
           599
          ],
          [
           "Ehire Adrianza",
           209
          ],
          [
           "Tommy Pham",
           561
          ],
          [
           "J.D. Martinez",
           634
          ],
          [
           "Paul Goldschmidt",
           679
          ],
          [
           "Sandy Leon",
           220
          ],
          [
           "Jose Altuve",
           678
          ],
          [
           "Jean Segura",
           567
          ],
          [
           "Starling Marte",
           526
          ],
          [
           "Travis d'Arnaud",
           229
          ],
          [
           "Josh Donaldson",
           543
          ],
          [
           "Freddie Freeman",
           695
          ],
          [
           "Yasmani Grandal",
           375
          ],
          [
           "Jason Heyward",
           353
          ],
          [
           "DJ LeMahieu",
           679
          ],
          [
           "Mike Moustakas",
           206
          ],
          [
           "Anthony Rizzo",
           576
          ],
          [
           "Giancarlo Stanton",
           579
          ],
          [
           "Salvador Perez",
           665
          ],
          [
           "Wilmer Flores",
           436
          ],
          [
           "Avisail Garcia",
           515
          ],
          [
           "Marcell Ozuna",
           208
          ],
          [
           "Jesus Aguilar",
           510
          ],
          [
           "Jon Berti",
           271
          ],
          [
           "Brandon Crawford",
           549
          ],
          [
           "C.J. Cron",
           547
          ],
          [
           "Yan Gomes",
           375
          ],
          [
           "Robbie Grossman",
           671
          ],
          [
           "Josh Harrison",
           558
          ],
          [
           "Kyle Higashioka",
           211
          ],
          [
           "Eric Hosmer",
           565
          ],
          [
           "James McCann",
           412
          ],
          [
           "Brad Miller",
           377
          ],
          [
           "Anthony Rendon",
           249
          ],
          [
           "Marcus Semien",
           724
          ],
          [
           "George Springer",
           342
          ],
          [
           "Christian Vazquez",
           498
          ],
          [
           "Kolten Wong",
           492
          ],
          [
           "Randal Grichuk",
           545
          ],
          [
           "Bryce Harper",
           599
          ],
          [
           "Jose Abreu",
           659
          ],
          [
           "Elias Diaz",
           371
          ],
          [
           "Omar Narvaez",
           445
          ],
          [
           "Eugenio Suarez",
           574
          ],
          [
           "Gio Urshela",
           442
          ],
          [
           "Jonathan Schoop",
           674
          ],
          [
           "Nolan Arenado",
           653
          ],
          [
           "Tucker Barnhart",
           388
          ],
          [
           "Kyle Farmer",
           529
          ],
          [
           "Mitch Haniger",
           691
          ],
          [
           "Enrique Hernandez",
           585
          ],
          [
           "Max Muncy",
           592
          ],
          [
           "Wil Myers",
           500
          ],
          [
           "A.J. Pollock",
           422
          ],
          [
           "Michael A. Taylor",
           528
          ],
          [
           "Luke Voit",
           241
          ],
          [
           "Christian Walker",
           445
          ],
          [
           "Mike Zunino",
           375
          ],
          [
           "Matt Carpenter",
           249
          ],
          [
           "Corey Dickerson",
           365
          ],
          [
           "Darin Ruf",
           312
          ],
          [
           "Mike Yastrzemski",
           532
          ],
          [
           "Willson Contreras",
           483
          ],
          [
           "Kris Bryant",
           586
          ],
          [
           "Mark Canha",
           625
          ],
          [
           "Curt Casali",
           231
          ],
          [
           "Nick Castellanos",
           585
          ],
          [
           "Aaron Judge",
           633
          ],
          [
           "Manny Machado",
           640
          ],
          [
           "Joc Pederson",
           481
          ],
          [
           "J.T. Realmuto",
           537
          ],
          [
           "Hunter Renfroe",
           572
          ],
          [
           "Eddie Rosario",
           412
          ],
          [
           "Christian Yelich",
           475
          ],
          [
           "Whit Merrifield",
           720
          ],
          [
           "Xander Bogaerts",
           603
          ],
          [
           "Hanser Alberto",
           255
          ],
          [
           "Jorge Polanco",
           644
          ],
          [
           "Adam Duvall",
           555
          ],
          [
           "Kevin Kiermaier",
           390
          ],
          [
           "Jorge Alfaro",
           311
          ],
          [
           "Jurickson Profar",
           412
          ],
          [
           "Javier Baez",
           547
          ],
          [
           "Austin Hedges",
           312
          ],
          [
           "Francisco Lindor",
           524
          ],
          [
           "Rougned Odor",
           361
          ],
          [
           "Austin Slater",
           306
          ],
          [
           "Daniel Vogelbach",
           258
          ],
          [
           "Gary Sanchez",
           440
          ],
          [
           "Max Kepler",
           490
          ],
          [
           "Ji-Man Choi",
           305
          ],
          [
           "Jackie Bradley Jr.",
           428
          ],
          [
           "Tommy La Stella",
           242
          ],
          [
           "Jeimer Candelario",
           626
          ],
          [
           "Yonathan Daza",
           331
          ],
          [
           "Ramon Urias",
           296
          ],
          [
           "Nick Ahmed",
           473
          ],
          [
           "Brian Anderson",
           264
          ],
          [
           "Austin Barnes",
           225
          ],
          [
           "Josh Bell",
           568
          ],
          [
           "Mookie Betts",
           550
          ],
          [
           "Victor Caratini",
           356
          ],
          [
           "J.D. Davis",
           211
          ],
          [
           "Michael Perez",
           231
          ],
          [
           "Harold Castro",
           339
          ],
          [
           "Raimel Tapia",
           533
          ],
          [
           "Teoscar Hernandez",
           595
          ],
          [
           "Ketel Marte",
           374
          ],
          [
           "Eric Haase",
           381
          ],
          [
           "Brandon Nimmo",
           386
          ],
          [
           "Jace Peterson",
           302
          ],
          [
           "Trea Turner",
           646
          ],
          [
           "Matt Beaty",
           234
          ],
          [
           "Kevin Pillar",
           347
          ],
          [
           "Jacob Stallings",
           427
          ],
          [
           "Jose Ramirez",
           636
          ],
          [
           "Alex Bregman",
           400
          ],
          [
           "Joey Gallo",
           616
          ],
          [
           "Carson Kelly",
           359
          ],
          [
           "Corey Seager",
           409
          ],
          [
           "Jesse Winker",
           485
          ],
          [
           "Tom Murphy",
           325
          ],
          [
           "Franmil Reyes",
           466
          ],
          [
           "Luis Torrens",
           378
          ],
          [
           "Dansby Swanson",
           653
          ],
          [
           "Kevin Newman",
           554
          ],
          [
           "Chris Taylor",
           582
          ],
          [
           "Carlos Correa",
           640
          ],
          [
           "Brett Phillips",
           292
          ],
          [
           "Tyrone Taylor",
           271
          ],
          [
           "Byron Buxton",
           254
          ],
          [
           "Taylor Ward",
           237
          ],
          [
           "Patrick Wisdom",
           375
          ],
          [
           "Joey Wendle",
           501
          ],
          [
           "Matt Olson",
           673
          ],
          [
           "Matt Duffy",
           322
          ],
          [
           "Manuel Margot",
           464
          ],
          [
           "Jorge Mateo",
           209
          ],
          [
           "Harold Ramirez",
           361
          ],
          [
           "Anthony Santander",
           438
          ],
          [
           "Pete Alonso",
           637
          ],
          [
           "Cavan Biggio",
           294
          ],
          [
           "Adam Frazier",
           639
          ],
          [
           "Jose Trevino",
           302
          ],
          [
           "Nick Gordon",
           216
          ],
          [
           "Reese McGuire",
           217
          ],
          [
           "Jorge Soler",
           602
          ],
          [
           "Edmundo Sosa",
           326
          ],
          [
           "Andy Ibanez",
           272
          ],
          [
           "Jake Cronenworth",
           643
          ],
          [
           "Jackson Frazier",
           218
          ],
          [
           "Austin Meadows",
           591
          ],
          [
           "Oscar Mercado",
           238
          ],
          [
           "Tim Anderson",
           551
          ],
          [
           "Cody Bellinger",
           350
          ],
          [
           "Willie Calhoun",
           284
          ],
          [
           "J.P. Crawford",
           687
          ],
          [
           "Hunter Dozier",
           543
          ],
          [
           "Jake Fraley",
           265
          ],
          [
           "Mitch Garver",
           243
          ],
          [
           "Garrett Hampson",
           494
          ],
          [
           "Jonah Heim",
           285
          ],
          [
           "Trey Mancini",
           616
          ],
          [
           "Billy McKinney",
           300
          ],
          [
           "Ryan McMahon",
           596
          ],
          [
           "Tyler O'Neill",
           537
          ],
          [
           "Dominic Smith",
           493
          ],
          [
           "Rowdy Tellez",
           325
          ],
          [
           "Eli White",
           220
          ],
          [
           "Francisco Mejia",
           277
          ],
          [
           "Amed Rosario",
           588
          ],
          [
           "Willy Adames",
           555
          ],
          [
           "Andrew Benintendi",
           538
          ],
          [
           "Garrett Cooper",
           250
          ],
          [
           "Danny Jansen",
           205
          ],
          [
           "Tony Kemp",
           397
          ],
          [
           "Isiah Kiner-Falefa",
           677
          ],
          [
           "Jeff McNeil",
           426
          ],
          [
           "Yu Chang",
           251
          ],
          [
           "Ozzie Albies",
           686
          ],
          [
           "Victor Robles",
           369
          ],
          [
           "Rafael Devers",
           664
          ],
          [
           "Josh Naylor",
           250
          ],
          [
           "Abraham Toro",
           375
          ],
          [
           "Aledmys Diaz",
           319
          ],
          [
           "Luis Urias",
           570
          ],
          [
           "Luis Arraez",
           479
          ],
          [
           "Eloy Jimenez",
           231
          ],
          [
           "Gleyber Torres",
           516
          ],
          [
           "Willi Castro",
           450
          ],
          [
           "Yandy Diaz",
           541
          ],
          [
           "Bryan De La Cruz",
           219
          ],
          [
           "Matt Chapman",
           622
          ],
          [
           "Sam Hilliard",
           238
          ],
          [
           "Connor Joe",
           211
          ],
          [
           "Cedric Mullins II",
           675
          ],
          [
           "Ryan O'Hearn",
           254
          ],
          [
           "Kyle Schwarber",
           471
          ],
          [
           "Pavin Smith",
           545
          ],
          [
           "Lane Thomas",
           264
          ],
          [
           "Alex Verdugo",
           604
          ],
          [
           "Paul DeJong",
           402
          ],
          [
           "Ramon Laureano",
           378
          ],
          [
           "Yoan Moncada",
           616
          ],
          [
           "Shohei Ohtani",
           639
          ],
          [
           "Ronald Acuna Jr.",
           360
          ],
          [
           "Jesus Sanchez",
           251
          ],
          [
           "Daulton Varsho",
           315
          ],
          [
           "Austin Riley",
           662
          ],
          [
           "Nick Madrigal",
           215
          ],
          [
           "Trevor Larnach",
           301
          ],
          [
           "Ryan Mountcastle",
           586
          ],
          [
           "Ke'Bryan Hayes",
           396
          ],
          [
           "Kyle Tucker",
           567
          ],
          [
           "Jonathan India",
           631
          ],
          [
           "Trent Grisham",
           527
          ],
          [
           "Tyler Stephenson",
           402
          ],
          [
           "Nathaniel Lowe",
           642
          ],
          [
           "Ian Happ",
           535
          ],
          [
           "Ty France",
           650
          ],
          [
           "Brandon Lowe",
           615
          ],
          [
           "Harrison Bader",
           401
          ],
          [
           "David Fletcher",
           665
          ],
          [
           "Dylan Moore",
           377
          ],
          [
           "Myles Straw",
           638
          ],
          [
           "Alec Bohm",
           417
          ],
          [
           "LaMonte Wade Jr.",
           381
          ],
          [
           "Seth Brown",
           307
          ],
          [
           "Jared Walsh",
           585
          ],
          [
           "Vladimir Guerrero Jr.",
           698
          ],
          [
           "Juan Soto",
           654
          ],
          [
           "Jazz Chisholm Jr.",
           507
          ],
          [
           "Andres Gimenez",
           210
          ],
          [
           "Alex Kirilloff",
           231
          ],
          [
           "Bo Bichette",
           690
          ],
          [
           "Dylan Carlson",
           619
          ],
          [
           "Bobby Dalbec",
           453
          ],
          [
           "Adolis Garcia",
           622
          ],
          [
           "Lourdes Gurriel Jr.",
           541
          ],
          [
           "Brent Rooker",
           213
          ],
          [
           "Randy Arozarena",
           604
          ],
          [
           "Akil Baddoo",
           461
          ],
          [
           "Bryan Reynolds",
           646
          ],
          [
           "Josh Rojas",
           550
          ],
          [
           "Brandon Marsh",
           260
          ],
          [
           "Sean Murphy",
           448
          ],
          [
           "Tommy Edman",
           691
          ],
          [
           "Will Smith",
           501
          ],
          [
           "Santiago Espinal",
           246
          ],
          [
           "Austin Hays",
           529
          ],
          [
           "Nicky Lopez",
           565
          ],
          [
           "Yordan Alvarez",
           598
          ],
          [
           "Luis Garcia",
           247
          ],
          [
           "Jarred Kelenic",
           377
          ],
          [
           "Luis Robert",
           296
          ],
          [
           "Ha-seong Kim",
           298
          ],
          [
           "Chas McCormick",
           320
          ],
          [
           "Wander Franco",
           308
          ],
          [
           "Ryan Jeffers",
           293
          ],
          [
           "Owen Miller",
           202
          ],
          [
           "Andrew Vaughn",
           469
          ]
         ],
         "hovertemplate": "xwOBA_2021=%{x}<br>weighted_woba_2022_2023=%{y}<br>Name=%{customdata[0]}<br>PA_2021=%{customdata[1]}<extra></extra>",
         "legendgroup": "",
         "marker": {
          "color": "#636efa",
          "symbol": "circle"
         },
         "mode": "markers",
         "name": "",
         "orientation": "v",
         "showlegend": false,
         "type": "scatter",
         "x": [
          0.315,
          0.363,
          0.293,
          0.351,
          0.359,
          0.267,
          0.335,
          0.344,
          0.359,
          0.406,
          0.308,
          0.335,
          0.374,
          0.326,
          0.292,
          0.328,
          0.314,
          0.35,
          0.374,
          0.397,
          0.216,
          0.332,
          0.319,
          0.347,
          0.312,
          0.388,
          0.416,
          0.412,
          0.294,
          0.34,
          0.276,
          0.347,
          0.363,
          0.374,
          0.312,
          0.366,
          0.347,
          0.334,
          0.302,
          0.356,
          0.364,
          0.341,
          0.334,
          0.333,
          0.343,
          0.326,
          0.284,
          0.345,
          0.303,
          0.336,
          0.361,
          0.276,
          0.308,
          0.297,
          0.43,
          0.349,
          0.318,
          0.304,
          0.326,
          0.304,
          0.311,
          0.311,
          0.265,
          0.302,
          0.353,
          0.346,
          0.407,
          0.295,
          0.359,
          0.3,
          0.359,
          0.311,
          0.354,
          0.34,
          0.295,
          0.381,
          0.318,
          0.346,
          0.346,
          0.332,
          0.28,
          0.374,
          0.418,
          0.376,
          0.333,
          0.329,
          0.354,
          0.319,
          0.337,
          0.301,
          0.359,
          0.294,
          0.348,
          0.33,
          0.283,
          0.292,
          0.302,
          0.325,
          0.228,
          0.344,
          0.29,
          0.335,
          0.337,
          0.336,
          0.347,
          0.342,
          0.253,
          0.342,
          0.356,
          0.286,
          0.344,
          0.249,
          0.299,
          0.274,
          0.367,
          0.357,
          0.29,
          0.338,
          0.244,
          0.315,
          0.281,
          0.37,
          0.372,
          0.322,
          0.35,
          0.319,
          0.364,
          0.308,
          0.281,
          0.314,
          0.376,
          0.332,
          0.354,
          0.346,
          0.392,
          0.39,
          0.292,
          0.353,
          0.318,
          0.332,
          0.275,
          0.329,
          0.373,
          0.284,
          0.314,
          0.407,
          0.344,
          0.321,
          0.286,
          0.378,
          0.325,
          0.318,
          0.287,
          0.308,
          0.328,
          0.377,
          0.285,
          0.324,
          0.285,
          0.318,
          0.281,
          0.359,
          0.326,
          0.32,
          0.344,
          0.313,
          0.326,
          0.279,
          0.329,
          0.281,
          0.323,
          0.298,
          0.299,
          0.335,
          0.386,
          0.291,
          0.285,
          0.341,
          0.291,
          0.325,
          0.392,
          0.325,
          0.34,
          0.249,
          0.285,
          0.3,
          0.325,
          0.331,
          0.362,
          0.333,
          0.321,
          0.292,
          0.315,
          0.282,
          0.329,
          0.288,
          0.394,
          0.311,
          0.323,
          0.319,
          0.333,
          0.337,
          0.325,
          0.331,
          0.291,
          0.332,
          0.301,
          0.321,
          0.311,
          0.37,
          0.344,
          0.294,
          0.399,
          0.312,
          0.322,
          0.34,
          0.312,
          0.335,
          0.353,
          0.408,
          0.429,
          0.333,
          0.323,
          0.366,
          0.289,
          0.306,
          0.326,
          0.299,
          0.396,
          0.352,
          0.309,
          0.324,
          0.323,
          0.317,
          0.346,
          0.36,
          0.295,
          0.28,
          0.288,
          0.303,
          0.313,
          0.347,
          0.318,
          0.326,
          0.417,
          0.429,
          0.307,
          0.268,
          0.37,
          0.355,
          0.322,
          0.344,
          0.299,
          0.339,
          0.341,
          0.304,
          0.309,
          0.386,
          0.295,
          0.324,
          0.337,
          0.316,
          0.364,
          0.307,
          0.316,
          0.283,
          0.389,
          0.279,
          0.314,
          0.382,
          0.265,
          0.311,
          0.329,
          0.299,
          0.267,
          0.332
         ],
         "xaxis": "x",
         "y": [
          0.279,
          0.293,
          0.312,
          0.335,
          0.323,
          0.259,
          0.33,
          0.327,
          0.346,
          0.321,
          0.293,
          0.305,
          0.321,
          0.291,
          0.262,
          0.312,
          0.208,
          0.311,
          0.347,
          0.403,
          0.222,
          0.388,
          0.285,
          0.332,
          0.348,
          0.297,
          0.395,
          0.282,
          0.299,
          0.317,
          0.305,
          0.349,
          0.316,
          0.325,
          0.317,
          0.258,
          0.316,
          0.287,
          0.295,
          0.288,
          0.329,
          0.289,
          0.287,
          0.295,
          0.275,
          0.305,
          0.245,
          0.267,
          0.314,
          0.327,
          0.342,
          0.3,
          0.308,
          0.323,
          0.361,
          0.332,
          0.312,
          0.267,
          0.328,
          0.325,
          0.244,
          0.365,
          0.248,
          0.307,
          0.306,
          0.28,
          0.325,
          0.289,
          0.285,
          0.292,
          0.304,
          0.353,
          0.242,
          0.373,
          0.303,
          0.291,
          0.318,
          0.336,
          0.344,
          0.336,
          0.275,
          0.326,
          0.454,
          0.36,
          0.374,
          0.346,
          0.339,
          0.304,
          0.335,
          0.303,
          0.35,
          0.274,
          0.33,
          0.32,
          0.31,
          0.284,
          0.316,
          0.281,
          0.217,
          0.336,
          0.284,
          0.355,
          0.336,
          0.294,
          0.298,
          0.313,
          0.235,
          0.274,
          0.304,
          0.317,
          0.315,
          0.278,
          0.3,
          0.27,
          0.334,
          0.372,
          0.291,
          0.345,
          0.245,
          0.292,
          0.29,
          0.336,
          0.341,
          0.3,
          0.352,
          0.296,
          0.334,
          0.192,
          0.314,
          0.26,
          0.362,
          0.348,
          0.301,
          0.271,
          0.355,
          0.301,
          0.336,
          0.274,
          0.264,
          0.338,
          0.305,
          0.301,
          0.342,
          0.211,
          0.293,
          0.342,
          0.342,
          0.318,
          0.29,
          0.354,
          0.294,
          0.309,
          0.278,
          0.336,
          0.343,
          0.364,
          0.3,
          0.28,
          0.281,
          0.302,
          0.296,
          0.338,
          0.276,
          0.276,
          0.311,
          0.274,
          0.297,
          0.277,
          0.293,
          0.295,
          0.291,
          0.314,
          0.29,
          0.356,
          0.313,
          0.279,
          0.322,
          0.309,
          0.269,
          0.336,
          0.3,
          0.283,
          0.319,
          0.249,
          0.281,
          0.303,
          0.314,
          0.331,
          0.32,
          0.343,
          0.279,
          0.283,
          0.343,
          0.263,
          0.326,
          0.279,
          0.361,
          0.333,
          0.255,
          0.28,
          0.321,
          0.37,
          0.349,
          0.326,
          0.292,
          0.377,
          0.32,
          0.337,
          0.271,
          0.32,
          0.326,
          0.322,
          0.346,
          0.296,
          0.33,
          0.334,
          0.279,
          0.289,
          0.277,
          0.387,
          0.366,
          0.31,
          0.314,
          0.362,
          0.277,
          0.307,
          0.309,
          0.295,
          0.346,
          0.325,
          0.288,
          0.329,
          0.362,
          0.346,
          0.336,
          0.306,
          0.295,
          0.273,
          0.331,
          0.263,
          0.31,
          0.346,
          0.31,
          0.27,
          0.351,
          0.384,
          0.34,
          0.344,
          0.313,
          0.354,
          0.309,
          0.285,
          0.332,
          0.335,
          0.33,
          0.354,
          0.277,
          0.351,
          0.31,
          0.314,
          0.349,
          0.316,
          0.363,
          0.301,
          0.332,
          0.26,
          0.422,
          0.305,
          0.298,
          0.347,
          0.317,
          0.331,
          0.335,
          0.313,
          0.296,
          0.329
         ],
         "yaxis": "y"
        },
        {
         "hovertemplate": "<b>OLS trendline</b><br>weighted_woba_2022_2023 = 0.540118 * xwOBA_2021 + 0.134677<br>R<sup>2</sup>=0.309427<br><br>xwOBA_2021=%{x}<br>weighted_woba_2022_2023=%{y} <b>(trend)</b><extra></extra>",
         "legendgroup": "",
         "marker": {
          "color": "#636efa",
          "symbol": "circle"
         },
         "mode": "lines",
         "name": "",
         "showlegend": false,
         "type": "scatter",
         "x": [
          0.216,
          0.228,
          0.244,
          0.249,
          0.249,
          0.253,
          0.265,
          0.265,
          0.267,
          0.267,
          0.268,
          0.274,
          0.275,
          0.276,
          0.276,
          0.279,
          0.279,
          0.28,
          0.28,
          0.281,
          0.281,
          0.281,
          0.281,
          0.282,
          0.283,
          0.283,
          0.284,
          0.284,
          0.285,
          0.285,
          0.285,
          0.285,
          0.286,
          0.286,
          0.287,
          0.288,
          0.288,
          0.289,
          0.29,
          0.29,
          0.291,
          0.291,
          0.291,
          0.292,
          0.292,
          0.292,
          0.292,
          0.293,
          0.294,
          0.294,
          0.294,
          0.295,
          0.295,
          0.295,
          0.295,
          0.297,
          0.298,
          0.299,
          0.299,
          0.299,
          0.299,
          0.299,
          0.3,
          0.3,
          0.301,
          0.301,
          0.302,
          0.302,
          0.302,
          0.303,
          0.303,
          0.304,
          0.304,
          0.304,
          0.306,
          0.307,
          0.307,
          0.308,
          0.308,
          0.308,
          0.308,
          0.309,
          0.309,
          0.311,
          0.311,
          0.311,
          0.311,
          0.311,
          0.311,
          0.312,
          0.312,
          0.312,
          0.312,
          0.313,
          0.313,
          0.314,
          0.314,
          0.314,
          0.314,
          0.315,
          0.315,
          0.315,
          0.316,
          0.316,
          0.317,
          0.318,
          0.318,
          0.318,
          0.318,
          0.318,
          0.318,
          0.319,
          0.319,
          0.319,
          0.319,
          0.32,
          0.321,
          0.321,
          0.321,
          0.322,
          0.322,
          0.322,
          0.323,
          0.323,
          0.323,
          0.323,
          0.324,
          0.324,
          0.324,
          0.325,
          0.325,
          0.325,
          0.325,
          0.325,
          0.325,
          0.326,
          0.326,
          0.326,
          0.326,
          0.326,
          0.326,
          0.326,
          0.328,
          0.328,
          0.329,
          0.329,
          0.329,
          0.329,
          0.329,
          0.33,
          0.331,
          0.331,
          0.332,
          0.332,
          0.332,
          0.332,
          0.332,
          0.332,
          0.333,
          0.333,
          0.333,
          0.333,
          0.333,
          0.334,
          0.334,
          0.335,
          0.335,
          0.335,
          0.335,
          0.335,
          0.336,
          0.336,
          0.337,
          0.337,
          0.337,
          0.337,
          0.338,
          0.339,
          0.34,
          0.34,
          0.34,
          0.34,
          0.341,
          0.341,
          0.341,
          0.342,
          0.342,
          0.343,
          0.344,
          0.344,
          0.344,
          0.344,
          0.344,
          0.344,
          0.344,
          0.345,
          0.346,
          0.346,
          0.346,
          0.346,
          0.346,
          0.347,
          0.347,
          0.347,
          0.347,
          0.347,
          0.348,
          0.349,
          0.35,
          0.35,
          0.351,
          0.352,
          0.353,
          0.353,
          0.353,
          0.354,
          0.354,
          0.354,
          0.355,
          0.356,
          0.356,
          0.357,
          0.359,
          0.359,
          0.359,
          0.359,
          0.359,
          0.359,
          0.36,
          0.361,
          0.362,
          0.363,
          0.363,
          0.364,
          0.364,
          0.364,
          0.366,
          0.366,
          0.367,
          0.37,
          0.37,
          0.37,
          0.372,
          0.373,
          0.374,
          0.374,
          0.374,
          0.374,
          0.376,
          0.376,
          0.377,
          0.378,
          0.381,
          0.382,
          0.386,
          0.386,
          0.388,
          0.389,
          0.39,
          0.392,
          0.392,
          0.394,
          0.396,
          0.397,
          0.399,
          0.406,
          0.407,
          0.407,
          0.408,
          0.412,
          0.416,
          0.417,
          0.418,
          0.429,
          0.429,
          0.43
         ],
         "xaxis": "x",
         "y": [
          0.2513421850535375,
          0.2578236013227867,
          0.26646548968178563,
          0.2691660797939728,
          0.2691660797939728,
          0.2713265518837225,
          0.2778079681529717,
          0.2778079681529717,
          0.27888820419784655,
          0.27888820419784655,
          0.279428322220284,
          0.2826690303549086,
          0.283209148377346,
          0.2837492663997835,
          0.2837492663997835,
          0.2853696204670958,
          0.2853696204670958,
          0.28590973848953316,
          0.28590973848953316,
          0.28644985651197064,
          0.28644985651197064,
          0.28644985651197064,
          0.28644985651197064,
          0.286989974534408,
          0.2875300925568455,
          0.2875300925568455,
          0.2880702105792829,
          0.2880702105792829,
          0.2886103286017203,
          0.2886103286017203,
          0.2886103286017203,
          0.2886103286017203,
          0.2891504466241578,
          0.2891504466241578,
          0.2896905646465952,
          0.2902306826690326,
          0.2902306826690326,
          0.2907708006914701,
          0.29131091871390746,
          0.29131091871390746,
          0.29185103673634494,
          0.29185103673634494,
          0.29185103673634494,
          0.29239115475878236,
          0.29239115475878236,
          0.29239115475878236,
          0.29239115475878236,
          0.2929312727812198,
          0.29347139080365725,
          0.29347139080365725,
          0.29347139080365725,
          0.29401150882609467,
          0.29401150882609467,
          0.29401150882609467,
          0.29401150882609467,
          0.29509174487096956,
          0.2956318628934069,
          0.2961719809158444,
          0.2961719809158444,
          0.2961719809158444,
          0.2961719809158444,
          0.2961719809158444,
          0.2967120989382818,
          0.2967120989382818,
          0.29725221696071924,
          0.29725221696071924,
          0.2977923349831567,
          0.2977923349831567,
          0.2977923349831567,
          0.29833245300559413,
          0.29833245300559413,
          0.29887257102803155,
          0.29887257102803155,
          0.29887257102803155,
          0.2999528070729064,
          0.30049292509534387,
          0.30049292509534387,
          0.3010330431177813,
          0.3010330431177813,
          0.3010330431177813,
          0.3010330431177813,
          0.3015731611402187,
          0.3015731611402187,
          0.3026533971850936,
          0.3026533971850936,
          0.3026533971850936,
          0.3026533971850936,
          0.3026533971850936,
          0.3026533971850936,
          0.303193515207531,
          0.303193515207531,
          0.303193515207531,
          0.303193515207531,
          0.3037336332299685,
          0.3037336332299685,
          0.30427375125240586,
          0.30427375125240586,
          0.30427375125240586,
          0.30427375125240586,
          0.30481386927484333,
          0.30481386927484333,
          0.30481386927484333,
          0.30535398729728075,
          0.30535398729728075,
          0.30589410531971817,
          0.30643422334215564,
          0.30643422334215564,
          0.30643422334215564,
          0.30643422334215564,
          0.30643422334215564,
          0.30643422334215564,
          0.30697434136459306,
          0.30697434136459306,
          0.30697434136459306,
          0.30697434136459306,
          0.3075144593870305,
          0.30805457740946796,
          0.30805457740946796,
          0.30805457740946796,
          0.3085946954319053,
          0.3085946954319053,
          0.3085946954319053,
          0.3091348134543428,
          0.3091348134543428,
          0.3091348134543428,
          0.3091348134543428,
          0.3096749314767802,
          0.3096749314767802,
          0.3096749314767802,
          0.31021504949921763,
          0.31021504949921763,
          0.31021504949921763,
          0.31021504949921763,
          0.31021504949921763,
          0.31021504949921763,
          0.3107551675216551,
          0.3107551675216551,
          0.3107551675216551,
          0.3107551675216551,
          0.3107551675216551,
          0.3107551675216551,
          0.3107551675216551,
          0.31183540356652995,
          0.31183540356652995,
          0.3123755215889674,
          0.3123755215889674,
          0.3123755215889674,
          0.3123755215889674,
          0.3123755215889674,
          0.3129156396114048,
          0.31345575763384226,
          0.31345575763384226,
          0.3139958756562797,
          0.3139958756562797,
          0.3139958756562797,
          0.3139958756562797,
          0.3139958756562797,
          0.3139958756562797,
          0.3145359936787171,
          0.3145359936787171,
          0.3145359936787171,
          0.3145359936787171,
          0.3145359936787171,
          0.31507611170115457,
          0.31507611170115457,
          0.315616229723592,
          0.315616229723592,
          0.315616229723592,
          0.315616229723592,
          0.315616229723592,
          0.3161563477460294,
          0.3161563477460294,
          0.3166964657684669,
          0.3166964657684669,
          0.3166964657684669,
          0.3166964657684669,
          0.31723658379090425,
          0.3177767018133417,
          0.31831681983577914,
          0.31831681983577914,
          0.31831681983577914,
          0.31831681983577914,
          0.31885693785821656,
          0.31885693785821656,
          0.31885693785821656,
          0.31939705588065403,
          0.31939705588065403,
          0.31993717390309145,
          0.3204772919255289,
          0.3204772919255289,
          0.3204772919255289,
          0.3204772919255289,
          0.3204772919255289,
          0.3204772919255289,
          0.3204772919255289,
          0.3210174099479663,
          0.3215575279704037,
          0.3215575279704037,
          0.3215575279704037,
          0.3215575279704037,
          0.3215575279704037,
          0.3220976459928412,
          0.3220976459928412,
          0.3220976459928412,
          0.3220976459928412,
          0.3220976459928412,
          0.32263776401527855,
          0.323177882037716,
          0.32371800006015344,
          0.32371800006015344,
          0.32425811808259086,
          0.32479823610502834,
          0.32533835412746576,
          0.32533835412746576,
          0.32533835412746576,
          0.3258784721499032,
          0.3258784721499032,
          0.3258784721499032,
          0.32641859017234065,
          0.326958708194778,
          0.326958708194778,
          0.3274988262172155,
          0.3285790622620903,
          0.3285790622620903,
          0.3285790622620903,
          0.3285790622620903,
          0.3285790622620903,
          0.3285790622620903,
          0.3291191802845278,
          0.3296592983069652,
          0.33019941632940264,
          0.3307395343518401,
          0.3307395343518401,
          0.3312796523742775,
          0.3312796523742775,
          0.3312796523742775,
          0.33235988841915237,
          0.33235988841915237,
          0.3329000064415898,
          0.3345203605089021,
          0.3345203605089021,
          0.3345203605089021,
          0.33560059655377694,
          0.3361407145762144,
          0.33668083259865184,
          0.33668083259865184,
          0.33668083259865184,
          0.33668083259865184,
          0.33776106864352673,
          0.33776106864352673,
          0.33830118666596415,
          0.33884130468840157,
          0.3404616587557139,
          0.34100177677815136,
          0.34316224886790103,
          0.34316224886790103,
          0.3442424849127759,
          0.34478260293521334,
          0.3453227209576508,
          0.34640295700252566,
          0.34640295700252566,
          0.3474831930474005,
          0.3485634290922754,
          0.3491035471147128,
          0.35018378315958765,
          0.35396460931664975,
          0.3545047273390871,
          0.3545047273390871,
          0.3550448453615246,
          0.35720531745127426,
          0.35936578954102405,
          0.3599059075634614,
          0.3604460255858989,
          0.36638732383271067,
          0.36638732383271067,
          0.3669274418551481
         ],
         "yaxis": "y"
        }
       ],
       "layout": {
        "legend": {
         "tracegroupgap": 0
        },
        "margin": {
         "t": 60
        },
        "template": {
         "data": {
          "bar": [
           {
            "error_x": {
             "color": "#2a3f5f"
            },
            "error_y": {
             "color": "#2a3f5f"
            },
            "marker": {
             "line": {
              "color": "#E5ECF6",
              "width": 0.5
             },
             "pattern": {
              "fillmode": "overlay",
              "size": 10,
              "solidity": 0.2
             }
            },
            "type": "bar"
           }
          ],
          "barpolar": [
           {
            "marker": {
             "line": {
              "color": "#E5ECF6",
              "width": 0.5
             },
             "pattern": {
              "fillmode": "overlay",
              "size": 10,
              "solidity": 0.2
             }
            },
            "type": "barpolar"
           }
          ],
          "carpet": [
           {
            "aaxis": {
             "endlinecolor": "#2a3f5f",
             "gridcolor": "white",
             "linecolor": "white",
             "minorgridcolor": "white",
             "startlinecolor": "#2a3f5f"
            },
            "baxis": {
             "endlinecolor": "#2a3f5f",
             "gridcolor": "white",
             "linecolor": "white",
             "minorgridcolor": "white",
             "startlinecolor": "#2a3f5f"
            },
            "type": "carpet"
           }
          ],
          "choropleth": [
           {
            "colorbar": {
             "outlinewidth": 0,
             "ticks": ""
            },
            "type": "choropleth"
           }
          ],
          "contour": [
           {
            "colorbar": {
             "outlinewidth": 0,
             "ticks": ""
            },
            "colorscale": [
             [
              0,
              "#0d0887"
             ],
             [
              0.1111111111111111,
              "#46039f"
             ],
             [
              0.2222222222222222,
              "#7201a8"
             ],
             [
              0.3333333333333333,
              "#9c179e"
             ],
             [
              0.4444444444444444,
              "#bd3786"
             ],
             [
              0.5555555555555556,
              "#d8576b"
             ],
             [
              0.6666666666666666,
              "#ed7953"
             ],
             [
              0.7777777777777778,
              "#fb9f3a"
             ],
             [
              0.8888888888888888,
              "#fdca26"
             ],
             [
              1,
              "#f0f921"
             ]
            ],
            "type": "contour"
           }
          ],
          "contourcarpet": [
           {
            "colorbar": {
             "outlinewidth": 0,
             "ticks": ""
            },
            "type": "contourcarpet"
           }
          ],
          "heatmap": [
           {
            "colorbar": {
             "outlinewidth": 0,
             "ticks": ""
            },
            "colorscale": [
             [
              0,
              "#0d0887"
             ],
             [
              0.1111111111111111,
              "#46039f"
             ],
             [
              0.2222222222222222,
              "#7201a8"
             ],
             [
              0.3333333333333333,
              "#9c179e"
             ],
             [
              0.4444444444444444,
              "#bd3786"
             ],
             [
              0.5555555555555556,
              "#d8576b"
             ],
             [
              0.6666666666666666,
              "#ed7953"
             ],
             [
              0.7777777777777778,
              "#fb9f3a"
             ],
             [
              0.8888888888888888,
              "#fdca26"
             ],
             [
              1,
              "#f0f921"
             ]
            ],
            "type": "heatmap"
           }
          ],
          "heatmapgl": [
           {
            "colorbar": {
             "outlinewidth": 0,
             "ticks": ""
            },
            "colorscale": [
             [
              0,
              "#0d0887"
             ],
             [
              0.1111111111111111,
              "#46039f"
             ],
             [
              0.2222222222222222,
              "#7201a8"
             ],
             [
              0.3333333333333333,
              "#9c179e"
             ],
             [
              0.4444444444444444,
              "#bd3786"
             ],
             [
              0.5555555555555556,
              "#d8576b"
             ],
             [
              0.6666666666666666,
              "#ed7953"
             ],
             [
              0.7777777777777778,
              "#fb9f3a"
             ],
             [
              0.8888888888888888,
              "#fdca26"
             ],
             [
              1,
              "#f0f921"
             ]
            ],
            "type": "heatmapgl"
           }
          ],
          "histogram": [
           {
            "marker": {
             "pattern": {
              "fillmode": "overlay",
              "size": 10,
              "solidity": 0.2
             }
            },
            "type": "histogram"
           }
          ],
          "histogram2d": [
           {
            "colorbar": {
             "outlinewidth": 0,
             "ticks": ""
            },
            "colorscale": [
             [
              0,
              "#0d0887"
             ],
             [
              0.1111111111111111,
              "#46039f"
             ],
             [
              0.2222222222222222,
              "#7201a8"
             ],
             [
              0.3333333333333333,
              "#9c179e"
             ],
             [
              0.4444444444444444,
              "#bd3786"
             ],
             [
              0.5555555555555556,
              "#d8576b"
             ],
             [
              0.6666666666666666,
              "#ed7953"
             ],
             [
              0.7777777777777778,
              "#fb9f3a"
             ],
             [
              0.8888888888888888,
              "#fdca26"
             ],
             [
              1,
              "#f0f921"
             ]
            ],
            "type": "histogram2d"
           }
          ],
          "histogram2dcontour": [
           {
            "colorbar": {
             "outlinewidth": 0,
             "ticks": ""
            },
            "colorscale": [
             [
              0,
              "#0d0887"
             ],
             [
              0.1111111111111111,
              "#46039f"
             ],
             [
              0.2222222222222222,
              "#7201a8"
             ],
             [
              0.3333333333333333,
              "#9c179e"
             ],
             [
              0.4444444444444444,
              "#bd3786"
             ],
             [
              0.5555555555555556,
              "#d8576b"
             ],
             [
              0.6666666666666666,
              "#ed7953"
             ],
             [
              0.7777777777777778,
              "#fb9f3a"
             ],
             [
              0.8888888888888888,
              "#fdca26"
             ],
             [
              1,
              "#f0f921"
             ]
            ],
            "type": "histogram2dcontour"
           }
          ],
          "mesh3d": [
           {
            "colorbar": {
             "outlinewidth": 0,
             "ticks": ""
            },
            "type": "mesh3d"
           }
          ],
          "parcoords": [
           {
            "line": {
             "colorbar": {
              "outlinewidth": 0,
              "ticks": ""
             }
            },
            "type": "parcoords"
           }
          ],
          "pie": [
           {
            "automargin": true,
            "type": "pie"
           }
          ],
          "scatter": [
           {
            "fillpattern": {
             "fillmode": "overlay",
             "size": 10,
             "solidity": 0.2
            },
            "type": "scatter"
           }
          ],
          "scatter3d": [
           {
            "line": {
             "colorbar": {
              "outlinewidth": 0,
              "ticks": ""
             }
            },
            "marker": {
             "colorbar": {
              "outlinewidth": 0,
              "ticks": ""
             }
            },
            "type": "scatter3d"
           }
          ],
          "scattercarpet": [
           {
            "marker": {
             "colorbar": {
              "outlinewidth": 0,
              "ticks": ""
             }
            },
            "type": "scattercarpet"
           }
          ],
          "scattergeo": [
           {
            "marker": {
             "colorbar": {
              "outlinewidth": 0,
              "ticks": ""
             }
            },
            "type": "scattergeo"
           }
          ],
          "scattergl": [
           {
            "marker": {
             "colorbar": {
              "outlinewidth": 0,
              "ticks": ""
             }
            },
            "type": "scattergl"
           }
          ],
          "scattermapbox": [
           {
            "marker": {
             "colorbar": {
              "outlinewidth": 0,
              "ticks": ""
             }
            },
            "type": "scattermapbox"
           }
          ],
          "scatterpolar": [
           {
            "marker": {
             "colorbar": {
              "outlinewidth": 0,
              "ticks": ""
             }
            },
            "type": "scatterpolar"
           }
          ],
          "scatterpolargl": [
           {
            "marker": {
             "colorbar": {
              "outlinewidth": 0,
              "ticks": ""
             }
            },
            "type": "scatterpolargl"
           }
          ],
          "scatterternary": [
           {
            "marker": {
             "colorbar": {
              "outlinewidth": 0,
              "ticks": ""
             }
            },
            "type": "scatterternary"
           }
          ],
          "surface": [
           {
            "colorbar": {
             "outlinewidth": 0,
             "ticks": ""
            },
            "colorscale": [
             [
              0,
              "#0d0887"
             ],
             [
              0.1111111111111111,
              "#46039f"
             ],
             [
              0.2222222222222222,
              "#7201a8"
             ],
             [
              0.3333333333333333,
              "#9c179e"
             ],
             [
              0.4444444444444444,
              "#bd3786"
             ],
             [
              0.5555555555555556,
              "#d8576b"
             ],
             [
              0.6666666666666666,
              "#ed7953"
             ],
             [
              0.7777777777777778,
              "#fb9f3a"
             ],
             [
              0.8888888888888888,
              "#fdca26"
             ],
             [
              1,
              "#f0f921"
             ]
            ],
            "type": "surface"
           }
          ],
          "table": [
           {
            "cells": {
             "fill": {
              "color": "#EBF0F8"
             },
             "line": {
              "color": "white"
             }
            },
            "header": {
             "fill": {
              "color": "#C8D4E3"
             },
             "line": {
              "color": "white"
             }
            },
            "type": "table"
           }
          ]
         },
         "layout": {
          "annotationdefaults": {
           "arrowcolor": "#2a3f5f",
           "arrowhead": 0,
           "arrowwidth": 1
          },
          "autotypenumbers": "strict",
          "coloraxis": {
           "colorbar": {
            "outlinewidth": 0,
            "ticks": ""
           }
          },
          "colorscale": {
           "diverging": [
            [
             0,
             "#8e0152"
            ],
            [
             0.1,
             "#c51b7d"
            ],
            [
             0.2,
             "#de77ae"
            ],
            [
             0.3,
             "#f1b6da"
            ],
            [
             0.4,
             "#fde0ef"
            ],
            [
             0.5,
             "#f7f7f7"
            ],
            [
             0.6,
             "#e6f5d0"
            ],
            [
             0.7,
             "#b8e186"
            ],
            [
             0.8,
             "#7fbc41"
            ],
            [
             0.9,
             "#4d9221"
            ],
            [
             1,
             "#276419"
            ]
           ],
           "sequential": [
            [
             0,
             "#0d0887"
            ],
            [
             0.1111111111111111,
             "#46039f"
            ],
            [
             0.2222222222222222,
             "#7201a8"
            ],
            [
             0.3333333333333333,
             "#9c179e"
            ],
            [
             0.4444444444444444,
             "#bd3786"
            ],
            [
             0.5555555555555556,
             "#d8576b"
            ],
            [
             0.6666666666666666,
             "#ed7953"
            ],
            [
             0.7777777777777778,
             "#fb9f3a"
            ],
            [
             0.8888888888888888,
             "#fdca26"
            ],
            [
             1,
             "#f0f921"
            ]
           ],
           "sequentialminus": [
            [
             0,
             "#0d0887"
            ],
            [
             0.1111111111111111,
             "#46039f"
            ],
            [
             0.2222222222222222,
             "#7201a8"
            ],
            [
             0.3333333333333333,
             "#9c179e"
            ],
            [
             0.4444444444444444,
             "#bd3786"
            ],
            [
             0.5555555555555556,
             "#d8576b"
            ],
            [
             0.6666666666666666,
             "#ed7953"
            ],
            [
             0.7777777777777778,
             "#fb9f3a"
            ],
            [
             0.8888888888888888,
             "#fdca26"
            ],
            [
             1,
             "#f0f921"
            ]
           ]
          },
          "colorway": [
           "#636efa",
           "#EF553B",
           "#00cc96",
           "#ab63fa",
           "#FFA15A",
           "#19d3f3",
           "#FF6692",
           "#B6E880",
           "#FF97FF",
           "#FECB52"
          ],
          "font": {
           "color": "#2a3f5f"
          },
          "geo": {
           "bgcolor": "white",
           "lakecolor": "white",
           "landcolor": "#E5ECF6",
           "showlakes": true,
           "showland": true,
           "subunitcolor": "white"
          },
          "hoverlabel": {
           "align": "left"
          },
          "hovermode": "closest",
          "mapbox": {
           "style": "light"
          },
          "paper_bgcolor": "white",
          "plot_bgcolor": "#E5ECF6",
          "polar": {
           "angularaxis": {
            "gridcolor": "white",
            "linecolor": "white",
            "ticks": ""
           },
           "bgcolor": "#E5ECF6",
           "radialaxis": {
            "gridcolor": "white",
            "linecolor": "white",
            "ticks": ""
           }
          },
          "scene": {
           "xaxis": {
            "backgroundcolor": "#E5ECF6",
            "gridcolor": "white",
            "gridwidth": 2,
            "linecolor": "white",
            "showbackground": true,
            "ticks": "",
            "zerolinecolor": "white"
           },
           "yaxis": {
            "backgroundcolor": "#E5ECF6",
            "gridcolor": "white",
            "gridwidth": 2,
            "linecolor": "white",
            "showbackground": true,
            "ticks": "",
            "zerolinecolor": "white"
           },
           "zaxis": {
            "backgroundcolor": "#E5ECF6",
            "gridcolor": "white",
            "gridwidth": 2,
            "linecolor": "white",
            "showbackground": true,
            "ticks": "",
            "zerolinecolor": "white"
           }
          },
          "shapedefaults": {
           "line": {
            "color": "#2a3f5f"
           }
          },
          "ternary": {
           "aaxis": {
            "gridcolor": "white",
            "linecolor": "white",
            "ticks": ""
           },
           "baxis": {
            "gridcolor": "white",
            "linecolor": "white",
            "ticks": ""
           },
           "bgcolor": "#E5ECF6",
           "caxis": {
            "gridcolor": "white",
            "linecolor": "white",
            "ticks": ""
           }
          },
          "title": {
           "x": 0.05
          },
          "xaxis": {
           "automargin": true,
           "gridcolor": "white",
           "linecolor": "white",
           "ticks": "",
           "title": {
            "standoff": 15
           },
           "zerolinecolor": "white",
           "zerolinewidth": 2
          },
          "yaxis": {
           "automargin": true,
           "gridcolor": "white",
           "linecolor": "white",
           "ticks": "",
           "title": {
            "standoff": 15
           },
           "zerolinecolor": "white",
           "zerolinewidth": 2
          }
         }
        },
        "xaxis": {
         "anchor": "y",
         "domain": [
          0,
          1
         ],
         "title": {
          "text": "xwOBA_2021"
         }
        },
        "yaxis": {
         "anchor": "x",
         "domain": [
          0,
          1
         ],
         "title": {
          "text": "weighted_woba_2022_2023"
         }
        }
       }
      }
     },
     "metadata": {},
     "output_type": "display_data"
    }
   ],
   "source": [
    "px.scatter(data_frame=merged_leaders.loc[merged_leaders['PA_2021'] > 200], x='xwOBA_2021', y='weighted_woba_2022_2023', trendline='ols',hover_data=['Name', 'PA_2021'])"
   ]
  },
  {
   "cell_type": "code",
   "execution_count": 14,
   "metadata": {},
   "outputs": [
    {
     "data": {
      "application/vnd.plotly.v1+json": {
       "config": {
        "plotlyServerURL": "https://plotly.com"
       },
       "data": [
        {
         "customdata": [
          [
           "Miguel Cabrera",
           526
          ],
          [
           "Nelson Cruz",
           584
          ],
          [
           "David Peralta",
           538
          ],
          [
           "Evan Longoria",
           291
          ],
          [
           "Charlie Blackmon",
           582
          ],
          [
           "Martin Maldonado",
           426
          ],
          [
           "Donovan Solano",
           344
          ],
          [
           "Andrew McCutchen",
           574
          ],
          [
           "Justin Turner",
           612
          ],
          [
           "Joey Votto",
           533
          ],
          [
           "Elvis Andrus",
           541
          ],
          [
           "Carlos Santana",
           659
          ],
          [
           "Brandon Belt",
           381
          ],
          [
           "Yuli Gurriel",
           605
          ],
          [
           "Miguel Rojas",
           539
          ],
          [
           "Eduardo Escobar",
           599
          ],
          [
           "Ehire Adrianza",
           209
          ],
          [
           "Tommy Pham",
           561
          ],
          [
           "J.D. Martinez",
           634
          ],
          [
           "Paul Goldschmidt",
           679
          ],
          [
           "Sandy Leon",
           220
          ],
          [
           "Jose Altuve",
           678
          ],
          [
           "Jean Segura",
           567
          ],
          [
           "Starling Marte",
           526
          ],
          [
           "Travis d'Arnaud",
           229
          ],
          [
           "Josh Donaldson",
           543
          ],
          [
           "Freddie Freeman",
           695
          ],
          [
           "Yasmani Grandal",
           375
          ],
          [
           "Jason Heyward",
           353
          ],
          [
           "DJ LeMahieu",
           679
          ],
          [
           "Mike Moustakas",
           206
          ],
          [
           "Anthony Rizzo",
           576
          ],
          [
           "Giancarlo Stanton",
           579
          ],
          [
           "Salvador Perez",
           665
          ],
          [
           "Wilmer Flores",
           436
          ],
          [
           "Avisail Garcia",
           515
          ],
          [
           "Marcell Ozuna",
           208
          ],
          [
           "Jesus Aguilar",
           510
          ],
          [
           "Jon Berti",
           271
          ],
          [
           "Brandon Crawford",
           549
          ],
          [
           "C.J. Cron",
           547
          ],
          [
           "Yan Gomes",
           375
          ],
          [
           "Robbie Grossman",
           671
          ],
          [
           "Josh Harrison",
           558
          ],
          [
           "Kyle Higashioka",
           211
          ],
          [
           "Eric Hosmer",
           565
          ],
          [
           "James McCann",
           412
          ],
          [
           "Brad Miller",
           377
          ],
          [
           "Anthony Rendon",
           249
          ],
          [
           "Marcus Semien",
           724
          ],
          [
           "George Springer",
           342
          ],
          [
           "Christian Vazquez",
           498
          ],
          [
           "Kolten Wong",
           492
          ],
          [
           "Randal Grichuk",
           545
          ],
          [
           "Bryce Harper",
           599
          ],
          [
           "Jose Abreu",
           659
          ],
          [
           "Elias Diaz",
           371
          ],
          [
           "Omar Narvaez",
           445
          ],
          [
           "Eugenio Suarez",
           574
          ],
          [
           "Gio Urshela",
           442
          ],
          [
           "Jonathan Schoop",
           674
          ],
          [
           "Nolan Arenado",
           653
          ],
          [
           "Tucker Barnhart",
           388
          ],
          [
           "Kyle Farmer",
           529
          ],
          [
           "Mitch Haniger",
           691
          ],
          [
           "Enrique Hernandez",
           585
          ],
          [
           "Max Muncy",
           592
          ],
          [
           "Wil Myers",
           500
          ],
          [
           "A.J. Pollock",
           422
          ],
          [
           "Michael A. Taylor",
           528
          ],
          [
           "Luke Voit",
           241
          ],
          [
           "Christian Walker",
           445
          ],
          [
           "Mike Zunino",
           375
          ],
          [
           "Matt Carpenter",
           249
          ],
          [
           "Corey Dickerson",
           365
          ],
          [
           "Darin Ruf",
           312
          ],
          [
           "Mike Yastrzemski",
           532
          ],
          [
           "Willson Contreras",
           483
          ],
          [
           "Kris Bryant",
           586
          ],
          [
           "Mark Canha",
           625
          ],
          [
           "Curt Casali",
           231
          ],
          [
           "Nick Castellanos",
           585
          ],
          [
           "Aaron Judge",
           633
          ],
          [
           "Manny Machado",
           640
          ],
          [
           "Joc Pederson",
           481
          ],
          [
           "J.T. Realmuto",
           537
          ],
          [
           "Hunter Renfroe",
           572
          ],
          [
           "Eddie Rosario",
           412
          ],
          [
           "Christian Yelich",
           475
          ],
          [
           "Whit Merrifield",
           720
          ],
          [
           "Xander Bogaerts",
           603
          ],
          [
           "Hanser Alberto",
           255
          ],
          [
           "Jorge Polanco",
           644
          ],
          [
           "Adam Duvall",
           555
          ],
          [
           "Kevin Kiermaier",
           390
          ],
          [
           "Jorge Alfaro",
           311
          ],
          [
           "Jurickson Profar",
           412
          ],
          [
           "Javier Baez",
           547
          ],
          [
           "Austin Hedges",
           312
          ],
          [
           "Francisco Lindor",
           524
          ],
          [
           "Rougned Odor",
           361
          ],
          [
           "Austin Slater",
           306
          ],
          [
           "Daniel Vogelbach",
           258
          ],
          [
           "Gary Sanchez",
           440
          ],
          [
           "Max Kepler",
           490
          ],
          [
           "Ji-Man Choi",
           305
          ],
          [
           "Jackie Bradley Jr.",
           428
          ],
          [
           "Tommy La Stella",
           242
          ],
          [
           "Jeimer Candelario",
           626
          ],
          [
           "Yonathan Daza",
           331
          ],
          [
           "Ramon Urias",
           296
          ],
          [
           "Nick Ahmed",
           473
          ],
          [
           "Brian Anderson",
           264
          ],
          [
           "Austin Barnes",
           225
          ],
          [
           "Josh Bell",
           568
          ],
          [
           "Mookie Betts",
           550
          ],
          [
           "Victor Caratini",
           356
          ],
          [
           "J.D. Davis",
           211
          ],
          [
           "Michael Perez",
           231
          ],
          [
           "Harold Castro",
           339
          ],
          [
           "Raimel Tapia",
           533
          ],
          [
           "Teoscar Hernandez",
           595
          ],
          [
           "Ketel Marte",
           374
          ],
          [
           "Eric Haase",
           381
          ],
          [
           "Brandon Nimmo",
           386
          ],
          [
           "Jace Peterson",
           302
          ],
          [
           "Trea Turner",
           646
          ],
          [
           "Matt Beaty",
           234
          ],
          [
           "Kevin Pillar",
           347
          ],
          [
           "Jacob Stallings",
           427
          ],
          [
           "Jose Ramirez",
           636
          ],
          [
           "Alex Bregman",
           400
          ],
          [
           "Joey Gallo",
           616
          ],
          [
           "Carson Kelly",
           359
          ],
          [
           "Corey Seager",
           409
          ],
          [
           "Jesse Winker",
           485
          ],
          [
           "Tom Murphy",
           325
          ],
          [
           "Franmil Reyes",
           466
          ],
          [
           "Luis Torrens",
           378
          ],
          [
           "Dansby Swanson",
           653
          ],
          [
           "Kevin Newman",
           554
          ],
          [
           "Chris Taylor",
           582
          ],
          [
           "Carlos Correa",
           640
          ],
          [
           "Brett Phillips",
           292
          ],
          [
           "Tyrone Taylor",
           271
          ],
          [
           "Byron Buxton",
           254
          ],
          [
           "Taylor Ward",
           237
          ],
          [
           "Patrick Wisdom",
           375
          ],
          [
           "Joey Wendle",
           501
          ],
          [
           "Matt Olson",
           673
          ],
          [
           "Matt Duffy",
           322
          ],
          [
           "Manuel Margot",
           464
          ],
          [
           "Jorge Mateo",
           209
          ],
          [
           "Harold Ramirez",
           361
          ],
          [
           "Anthony Santander",
           438
          ],
          [
           "Pete Alonso",
           637
          ],
          [
           "Cavan Biggio",
           294
          ],
          [
           "Adam Frazier",
           639
          ],
          [
           "Jose Trevino",
           302
          ],
          [
           "Nick Gordon",
           216
          ],
          [
           "Reese McGuire",
           217
          ],
          [
           "Jorge Soler",
           602
          ],
          [
           "Edmundo Sosa",
           326
          ],
          [
           "Andy Ibanez",
           272
          ],
          [
           "Jake Cronenworth",
           643
          ],
          [
           "Jackson Frazier",
           218
          ],
          [
           "Austin Meadows",
           591
          ],
          [
           "Oscar Mercado",
           238
          ],
          [
           "Tim Anderson",
           551
          ],
          [
           "Cody Bellinger",
           350
          ],
          [
           "Willie Calhoun",
           284
          ],
          [
           "J.P. Crawford",
           687
          ],
          [
           "Hunter Dozier",
           543
          ],
          [
           "Jake Fraley",
           265
          ],
          [
           "Mitch Garver",
           243
          ],
          [
           "Garrett Hampson",
           494
          ],
          [
           "Jonah Heim",
           285
          ],
          [
           "Trey Mancini",
           616
          ],
          [
           "Billy McKinney",
           300
          ],
          [
           "Ryan McMahon",
           596
          ],
          [
           "Tyler O'Neill",
           537
          ],
          [
           "Dominic Smith",
           493
          ],
          [
           "Rowdy Tellez",
           325
          ],
          [
           "Eli White",
           220
          ],
          [
           "Francisco Mejia",
           277
          ],
          [
           "Amed Rosario",
           588
          ],
          [
           "Willy Adames",
           555
          ],
          [
           "Andrew Benintendi",
           538
          ],
          [
           "Garrett Cooper",
           250
          ],
          [
           "Danny Jansen",
           205
          ],
          [
           "Tony Kemp",
           397
          ],
          [
           "Isiah Kiner-Falefa",
           677
          ],
          [
           "Jeff McNeil",
           426
          ],
          [
           "Yu Chang",
           251
          ],
          [
           "Ozzie Albies",
           686
          ],
          [
           "Victor Robles",
           369
          ],
          [
           "Rafael Devers",
           664
          ],
          [
           "Josh Naylor",
           250
          ],
          [
           "Abraham Toro",
           375
          ],
          [
           "Aledmys Diaz",
           319
          ],
          [
           "Luis Urias",
           570
          ],
          [
           "Luis Arraez",
           479
          ],
          [
           "Eloy Jimenez",
           231
          ],
          [
           "Gleyber Torres",
           516
          ],
          [
           "Willi Castro",
           450
          ],
          [
           "Yandy Diaz",
           541
          ],
          [
           "Bryan De La Cruz",
           219
          ],
          [
           "Matt Chapman",
           622
          ],
          [
           "Sam Hilliard",
           238
          ],
          [
           "Connor Joe",
           211
          ],
          [
           "Cedric Mullins II",
           675
          ],
          [
           "Ryan O'Hearn",
           254
          ],
          [
           "Kyle Schwarber",
           471
          ],
          [
           "Pavin Smith",
           545
          ],
          [
           "Lane Thomas",
           264
          ],
          [
           "Alex Verdugo",
           604
          ],
          [
           "Paul DeJong",
           402
          ],
          [
           "Ramon Laureano",
           378
          ],
          [
           "Yoan Moncada",
           616
          ],
          [
           "Shohei Ohtani",
           639
          ],
          [
           "Ronald Acuna Jr.",
           360
          ],
          [
           "Jesus Sanchez",
           251
          ],
          [
           "Daulton Varsho",
           315
          ],
          [
           "Austin Riley",
           662
          ],
          [
           "Nick Madrigal",
           215
          ],
          [
           "Trevor Larnach",
           301
          ],
          [
           "Ryan Mountcastle",
           586
          ],
          [
           "Ke'Bryan Hayes",
           396
          ],
          [
           "Kyle Tucker",
           567
          ],
          [
           "Jonathan India",
           631
          ],
          [
           "Trent Grisham",
           527
          ],
          [
           "Tyler Stephenson",
           402
          ],
          [
           "Nathaniel Lowe",
           642
          ],
          [
           "Ian Happ",
           535
          ],
          [
           "Ty France",
           650
          ],
          [
           "Brandon Lowe",
           615
          ],
          [
           "Harrison Bader",
           401
          ],
          [
           "David Fletcher",
           665
          ],
          [
           "Dylan Moore",
           377
          ],
          [
           "Myles Straw",
           638
          ],
          [
           "Alec Bohm",
           417
          ],
          [
           "LaMonte Wade Jr.",
           381
          ],
          [
           "Seth Brown",
           307
          ],
          [
           "Jared Walsh",
           585
          ],
          [
           "Vladimir Guerrero Jr.",
           698
          ],
          [
           "Juan Soto",
           654
          ],
          [
           "Jazz Chisholm Jr.",
           507
          ],
          [
           "Andres Gimenez",
           210
          ],
          [
           "Alex Kirilloff",
           231
          ],
          [
           "Bo Bichette",
           690
          ],
          [
           "Dylan Carlson",
           619
          ],
          [
           "Bobby Dalbec",
           453
          ],
          [
           "Adolis Garcia",
           622
          ],
          [
           "Lourdes Gurriel Jr.",
           541
          ],
          [
           "Brent Rooker",
           213
          ],
          [
           "Randy Arozarena",
           604
          ],
          [
           "Akil Baddoo",
           461
          ],
          [
           "Bryan Reynolds",
           646
          ],
          [
           "Josh Rojas",
           550
          ],
          [
           "Brandon Marsh",
           260
          ],
          [
           "Sean Murphy",
           448
          ],
          [
           "Tommy Edman",
           691
          ],
          [
           "Will Smith",
           501
          ],
          [
           "Santiago Espinal",
           246
          ],
          [
           "Austin Hays",
           529
          ],
          [
           "Nicky Lopez",
           565
          ],
          [
           "Yordan Alvarez",
           598
          ],
          [
           "Luis Garcia",
           247
          ],
          [
           "Jarred Kelenic",
           377
          ],
          [
           "Luis Robert",
           296
          ],
          [
           "Ha-seong Kim",
           298
          ],
          [
           "Chas McCormick",
           320
          ],
          [
           "Wander Franco",
           308
          ],
          [
           "Ryan Jeffers",
           293
          ],
          [
           "Owen Miller",
           202
          ],
          [
           "Andrew Vaughn",
           469
          ]
         ],
         "hovertemplate": "sxwOBA_2021=%{x}<br>weighted_woba_2022_2023=%{y}<br>Name=%{customdata[0]}<br>PA_2021=%{customdata[1]}<extra></extra>",
         "legendgroup": "",
         "marker": {
          "color": "#636efa",
          "symbol": "circle"
         },
         "mode": "markers",
         "name": "",
         "orientation": "v",
         "showlegend": false,
         "type": "scatter",
         "x": [
          0.316,
          0.366,
          0.32,
          0.363,
          0.356,
          0.266,
          0.343,
          0.346,
          0.352,
          0.402,
          0.31,
          0.314,
          0.382,
          0.35,
          0.309,
          0.336,
          0.327,
          0.347,
          0.364,
          0.396,
          0.226,
          0.363,
          0.339,
          0.362,
          0.309,
          0.37,
          0.418,
          0.409,
          0.29,
          0.355,
          0.278,
          0.36,
          0.369,
          0.374,
          0.332,
          0.373,
          0.335,
          0.343,
          0.299,
          0.372,
          0.372,
          0.336,
          0.344,
          0.333,
          0.306,
          0.338,
          0.28,
          0.36,
          0.321,
          0.352,
          0.371,
          0.292,
          0.317,
          0.309,
          0.429,
          0.363,
          0.325,
          0.317,
          0.316,
          0.302,
          0.327,
          0.327,
          0.29,
          0.31,
          0.361,
          0.335,
          0.392,
          0.311,
          0.37,
          0.298,
          0.348,
          0.315,
          0.368,
          0.324,
          0.31,
          0.393,
          0.337,
          0.358,
          0.344,
          0.339,
          0.284,
          0.378,
          0.415,
          0.37,
          0.324,
          0.357,
          0.361,
          0.311,
          0.346,
          0.316,
          0.369,
          0.295,
          0.362,
          0.335,
          0.305,
          0.303,
          0.305,
          0.341,
          0.231,
          0.348,
          0.295,
          0.356,
          0.355,
          0.325,
          0.345,
          0.339,
          0.252,
          0.327,
          0.368,
          0.314,
          0.354,
          0.27,
          0.286,
          0.276,
          0.374,
          0.362,
          0.297,
          0.339,
          0.236,
          0.316,
          0.314,
          0.392,
          0.377,
          0.325,
          0.374,
          0.314,
          0.39,
          0.322,
          0.298,
          0.329,
          0.397,
          0.327,
          0.358,
          0.342,
          0.384,
          0.401,
          0.291,
          0.359,
          0.321,
          0.336,
          0.29,
          0.34,
          0.386,
          0.294,
          0.328,
          0.413,
          0.351,
          0.33,
          0.308,
          0.403,
          0.337,
          0.328,
          0.289,
          0.333,
          0.325,
          0.374,
          0.308,
          0.342,
          0.273,
          0.315,
          0.29,
          0.356,
          0.336,
          0.342,
          0.37,
          0.301,
          0.335,
          0.318,
          0.337,
          0.286,
          0.316,
          0.314,
          0.304,
          0.351,
          0.375,
          0.294,
          0.296,
          0.342,
          0.311,
          0.331,
          0.397,
          0.325,
          0.331,
          0.27,
          0.296,
          0.327,
          0.334,
          0.338,
          0.371,
          0.366,
          0.34,
          0.319,
          0.318,
          0.299,
          0.342,
          0.293,
          0.4,
          0.323,
          0.332,
          0.312,
          0.339,
          0.34,
          0.329,
          0.33,
          0.302,
          0.346,
          0.332,
          0.328,
          0.325,
          0.368,
          0.377,
          0.3,
          0.393,
          0.32,
          0.321,
          0.35,
          0.314,
          0.337,
          0.354,
          0.423,
          0.415,
          0.349,
          0.335,
          0.373,
          0.31,
          0.307,
          0.333,
          0.307,
          0.396,
          0.367,
          0.331,
          0.331,
          0.345,
          0.325,
          0.348,
          0.374,
          0.328,
          0.308,
          0.296,
          0.315,
          0.324,
          0.347,
          0.322,
          0.343,
          0.432,
          0.44,
          0.321,
          0.283,
          0.336,
          0.38,
          0.334,
          0.347,
          0.312,
          0.346,
          0.332,
          0.323,
          0.334,
          0.397,
          0.317,
          0.327,
          0.334,
          0.338,
          0.373,
          0.335,
          0.322,
          0.305,
          0.382,
          0.29,
          0.309,
          0.383,
          0.288,
          0.329,
          0.345,
          0.307,
          0.26,
          0.321
         ],
         "xaxis": "x",
         "y": [
          0.279,
          0.293,
          0.312,
          0.335,
          0.323,
          0.259,
          0.33,
          0.327,
          0.346,
          0.321,
          0.293,
          0.305,
          0.321,
          0.291,
          0.262,
          0.312,
          0.208,
          0.311,
          0.347,
          0.403,
          0.222,
          0.388,
          0.285,
          0.332,
          0.348,
          0.297,
          0.395,
          0.282,
          0.299,
          0.317,
          0.305,
          0.349,
          0.316,
          0.325,
          0.317,
          0.258,
          0.316,
          0.287,
          0.295,
          0.288,
          0.329,
          0.289,
          0.287,
          0.295,
          0.275,
          0.305,
          0.245,
          0.267,
          0.314,
          0.327,
          0.342,
          0.3,
          0.308,
          0.323,
          0.361,
          0.332,
          0.312,
          0.267,
          0.328,
          0.325,
          0.244,
          0.365,
          0.248,
          0.307,
          0.306,
          0.28,
          0.325,
          0.289,
          0.285,
          0.292,
          0.304,
          0.353,
          0.242,
          0.373,
          0.303,
          0.291,
          0.318,
          0.336,
          0.344,
          0.336,
          0.275,
          0.326,
          0.454,
          0.36,
          0.374,
          0.346,
          0.339,
          0.304,
          0.335,
          0.303,
          0.35,
          0.274,
          0.33,
          0.32,
          0.31,
          0.284,
          0.316,
          0.281,
          0.217,
          0.336,
          0.284,
          0.355,
          0.336,
          0.294,
          0.298,
          0.313,
          0.235,
          0.274,
          0.304,
          0.317,
          0.315,
          0.278,
          0.3,
          0.27,
          0.334,
          0.372,
          0.291,
          0.345,
          0.245,
          0.292,
          0.29,
          0.336,
          0.341,
          0.3,
          0.352,
          0.296,
          0.334,
          0.192,
          0.314,
          0.26,
          0.362,
          0.348,
          0.301,
          0.271,
          0.355,
          0.301,
          0.336,
          0.274,
          0.264,
          0.338,
          0.305,
          0.301,
          0.342,
          0.211,
          0.293,
          0.342,
          0.342,
          0.318,
          0.29,
          0.354,
          0.294,
          0.309,
          0.278,
          0.336,
          0.343,
          0.364,
          0.3,
          0.28,
          0.281,
          0.302,
          0.296,
          0.338,
          0.276,
          0.276,
          0.311,
          0.274,
          0.297,
          0.277,
          0.293,
          0.295,
          0.291,
          0.314,
          0.29,
          0.356,
          0.313,
          0.279,
          0.322,
          0.309,
          0.269,
          0.336,
          0.3,
          0.283,
          0.319,
          0.249,
          0.281,
          0.303,
          0.314,
          0.331,
          0.32,
          0.343,
          0.279,
          0.283,
          0.343,
          0.263,
          0.326,
          0.279,
          0.361,
          0.333,
          0.255,
          0.28,
          0.321,
          0.37,
          0.349,
          0.326,
          0.292,
          0.377,
          0.32,
          0.337,
          0.271,
          0.32,
          0.326,
          0.322,
          0.346,
          0.296,
          0.33,
          0.334,
          0.279,
          0.289,
          0.277,
          0.387,
          0.366,
          0.31,
          0.314,
          0.362,
          0.277,
          0.307,
          0.309,
          0.295,
          0.346,
          0.325,
          0.288,
          0.329,
          0.362,
          0.346,
          0.336,
          0.306,
          0.295,
          0.273,
          0.331,
          0.263,
          0.31,
          0.346,
          0.31,
          0.27,
          0.351,
          0.384,
          0.34,
          0.344,
          0.313,
          0.354,
          0.309,
          0.285,
          0.332,
          0.335,
          0.33,
          0.354,
          0.277,
          0.351,
          0.31,
          0.314,
          0.349,
          0.316,
          0.363,
          0.301,
          0.332,
          0.26,
          0.422,
          0.305,
          0.298,
          0.347,
          0.317,
          0.331,
          0.335,
          0.313,
          0.296,
          0.329
         ],
         "yaxis": "y"
        },
        {
         "hovertemplate": "<b>OLS trendline</b><br>weighted_woba_2022_2023 = 0.562898 * sxwOBA_2021 + 0.122881<br>R<sup>2</sup>=0.311018<br><br>sxwOBA_2021=%{x}<br>weighted_woba_2022_2023=%{y} <b>(trend)</b><extra></extra>",
         "legendgroup": "",
         "marker": {
          "color": "#636efa",
          "symbol": "circle"
         },
         "mode": "lines",
         "name": "",
         "showlegend": false,
         "type": "scatter",
         "x": [
          0.226,
          0.231,
          0.236,
          0.252,
          0.26,
          0.266,
          0.27,
          0.27,
          0.273,
          0.276,
          0.278,
          0.28,
          0.283,
          0.284,
          0.286,
          0.286,
          0.288,
          0.289,
          0.29,
          0.29,
          0.29,
          0.29,
          0.29,
          0.291,
          0.292,
          0.293,
          0.294,
          0.294,
          0.295,
          0.295,
          0.296,
          0.296,
          0.296,
          0.297,
          0.298,
          0.298,
          0.299,
          0.299,
          0.3,
          0.301,
          0.302,
          0.302,
          0.303,
          0.304,
          0.305,
          0.305,
          0.305,
          0.306,
          0.307,
          0.307,
          0.307,
          0.308,
          0.308,
          0.308,
          0.309,
          0.309,
          0.309,
          0.309,
          0.31,
          0.31,
          0.31,
          0.31,
          0.311,
          0.311,
          0.311,
          0.312,
          0.312,
          0.314,
          0.314,
          0.314,
          0.314,
          0.314,
          0.314,
          0.315,
          0.315,
          0.315,
          0.316,
          0.316,
          0.316,
          0.316,
          0.316,
          0.317,
          0.317,
          0.317,
          0.318,
          0.318,
          0.319,
          0.32,
          0.32,
          0.321,
          0.321,
          0.321,
          0.321,
          0.321,
          0.322,
          0.322,
          0.322,
          0.323,
          0.323,
          0.324,
          0.324,
          0.324,
          0.325,
          0.325,
          0.325,
          0.325,
          0.325,
          0.325,
          0.325,
          0.327,
          0.327,
          0.327,
          0.327,
          0.327,
          0.327,
          0.327,
          0.328,
          0.328,
          0.328,
          0.328,
          0.329,
          0.329,
          0.329,
          0.33,
          0.33,
          0.331,
          0.331,
          0.331,
          0.331,
          0.332,
          0.332,
          0.332,
          0.332,
          0.333,
          0.333,
          0.333,
          0.334,
          0.334,
          0.334,
          0.334,
          0.335,
          0.335,
          0.335,
          0.335,
          0.335,
          0.335,
          0.336,
          0.336,
          0.336,
          0.336,
          0.336,
          0.337,
          0.337,
          0.337,
          0.337,
          0.338,
          0.338,
          0.338,
          0.339,
          0.339,
          0.339,
          0.339,
          0.339,
          0.34,
          0.34,
          0.34,
          0.341,
          0.342,
          0.342,
          0.342,
          0.342,
          0.342,
          0.343,
          0.343,
          0.343,
          0.344,
          0.344,
          0.345,
          0.345,
          0.345,
          0.346,
          0.346,
          0.346,
          0.346,
          0.347,
          0.347,
          0.347,
          0.348,
          0.348,
          0.348,
          0.349,
          0.35,
          0.35,
          0.351,
          0.351,
          0.352,
          0.352,
          0.354,
          0.354,
          0.355,
          0.355,
          0.356,
          0.356,
          0.356,
          0.357,
          0.358,
          0.358,
          0.359,
          0.36,
          0.36,
          0.361,
          0.361,
          0.362,
          0.362,
          0.362,
          0.363,
          0.363,
          0.363,
          0.364,
          0.366,
          0.366,
          0.367,
          0.368,
          0.368,
          0.368,
          0.369,
          0.369,
          0.37,
          0.37,
          0.37,
          0.37,
          0.371,
          0.371,
          0.372,
          0.372,
          0.373,
          0.373,
          0.373,
          0.374,
          0.374,
          0.374,
          0.374,
          0.374,
          0.375,
          0.377,
          0.377,
          0.378,
          0.38,
          0.382,
          0.382,
          0.383,
          0.384,
          0.386,
          0.39,
          0.392,
          0.392,
          0.393,
          0.393,
          0.396,
          0.396,
          0.397,
          0.397,
          0.397,
          0.4,
          0.401,
          0.402,
          0.403,
          0.409,
          0.413,
          0.415,
          0.415,
          0.418,
          0.423,
          0.429,
          0.432,
          0.44
         ],
         "xaxis": "x",
         "y": [
          0.25009623974616213,
          0.25291072755679744,
          0.25572521536743276,
          0.26473157636146566,
          0.26923475685848214,
          0.27261214223124447,
          0.2748637324797527,
          0.2748637324797527,
          0.2765524251661339,
          0.27824111785251504,
          0.2793669129767692,
          0.28049270810102334,
          0.28218140078740445,
          0.2827442983495315,
          0.2838700934737856,
          0.2838700934737856,
          0.2849958885980397,
          0.2855587861601668,
          0.28612168372229385,
          0.28612168372229385,
          0.28612168372229385,
          0.28612168372229385,
          0.28612168372229385,
          0.28668458128442087,
          0.287247478846548,
          0.287810376408675,
          0.2883732739708021,
          0.2883732739708021,
          0.28893617153292916,
          0.28893617153292916,
          0.2894990690950562,
          0.2894990690950562,
          0.2894990690950562,
          0.29006196665718326,
          0.29062486421931033,
          0.29062486421931033,
          0.29118776178143735,
          0.29118776178143735,
          0.2917506593435644,
          0.2923135569056915,
          0.2928764544678185,
          0.2928764544678185,
          0.29343935202994564,
          0.29400224959207266,
          0.29456514715419974,
          0.29456514715419974,
          0.29456514715419974,
          0.2951280447163268,
          0.2956909422784538,
          0.2956909422784538,
          0.2956909422784538,
          0.2962538398405809,
          0.2962538398405809,
          0.2962538398405809,
          0.296816737402708,
          0.296816737402708,
          0.296816737402708,
          0.296816737402708,
          0.297379634964835,
          0.297379634964835,
          0.297379634964835,
          0.297379634964835,
          0.29794253252696207,
          0.29794253252696207,
          0.29794253252696207,
          0.29850543008908914,
          0.29850543008908914,
          0.2996312252133433,
          0.2996312252133433,
          0.2996312252133433,
          0.2996312252133433,
          0.2996312252133433,
          0.2996312252133433,
          0.3001941227754703,
          0.3001941227754703,
          0.3001941227754703,
          0.3007570203375974,
          0.3007570203375974,
          0.3007570203375974,
          0.3007570203375974,
          0.3007570203375974,
          0.30131991789972445,
          0.30131991789972445,
          0.30131991789972445,
          0.3018828154618515,
          0.3018828154618515,
          0.30244571302397855,
          0.3030086105861056,
          0.3030086105861056,
          0.30357150814823264,
          0.30357150814823264,
          0.30357150814823264,
          0.30357150814823264,
          0.30357150814823264,
          0.3041344057103597,
          0.3041344057103597,
          0.3041344057103597,
          0.3046973032724868,
          0.3046973032724868,
          0.3052602008346138,
          0.3052602008346138,
          0.3052602008346138,
          0.30582309839674093,
          0.30582309839674093,
          0.30582309839674093,
          0.30582309839674093,
          0.30582309839674093,
          0.30582309839674093,
          0.30582309839674093,
          0.306948893520995,
          0.306948893520995,
          0.306948893520995,
          0.306948893520995,
          0.306948893520995,
          0.306948893520995,
          0.306948893520995,
          0.3075117910831221,
          0.3075117910831221,
          0.3075117910831221,
          0.3075117910831221,
          0.3080746886452491,
          0.3080746886452491,
          0.3080746886452491,
          0.3086375862073762,
          0.3086375862073762,
          0.30920048376950326,
          0.30920048376950326,
          0.30920048376950326,
          0.30920048376950326,
          0.3097633813316303,
          0.3097633813316303,
          0.3097633813316303,
          0.3097633813316303,
          0.31032627889375736,
          0.31032627889375736,
          0.31032627889375736,
          0.31088917645588443,
          0.31088917645588443,
          0.31088917645588443,
          0.31088917645588443,
          0.31145207401801145,
          0.31145207401801145,
          0.31145207401801145,
          0.31145207401801145,
          0.31145207401801145,
          0.31145207401801145,
          0.3120149715801386,
          0.3120149715801386,
          0.3120149715801386,
          0.3120149715801386,
          0.3120149715801386,
          0.3125778691422656,
          0.3125778691422656,
          0.3125778691422656,
          0.3125778691422656,
          0.3131407667043926,
          0.3131407667043926,
          0.3131407667043926,
          0.31370366426651974,
          0.31370366426651974,
          0.31370366426651974,
          0.31370366426651974,
          0.31370366426651974,
          0.31426656182864676,
          0.31426656182864676,
          0.31426656182864676,
          0.31482945939077384,
          0.3153923569529009,
          0.3153923569529009,
          0.3153923569529009,
          0.3153923569529009,
          0.3153923569529009,
          0.31595525451502793,
          0.31595525451502793,
          0.31595525451502793,
          0.31651815207715495,
          0.31651815207715495,
          0.317081049639282,
          0.317081049639282,
          0.317081049639282,
          0.3176439472014091,
          0.3176439472014091,
          0.3176439472014091,
          0.3176439472014091,
          0.3182068447635361,
          0.3182068447635361,
          0.3182068447635361,
          0.31876974232566324,
          0.31876974232566324,
          0.31876974232566324,
          0.31933263988779026,
          0.31989553744991733,
          0.31989553744991733,
          0.3204584350120444,
          0.3204584350120444,
          0.3210213325741714,
          0.3210213325741714,
          0.3221471276984256,
          0.3221471276984256,
          0.3227100252605526,
          0.3227100252605526,
          0.32327292282267966,
          0.32327292282267966,
          0.32327292282267966,
          0.32383582038480674,
          0.32439871794693376,
          0.32439871794693376,
          0.3249616155090609,
          0.3255245130711879,
          0.3255245130711879,
          0.326087410633315,
          0.326087410633315,
          0.32665030819544205,
          0.32665030819544205,
          0.32665030819544205,
          0.32721320575756907,
          0.32721320575756907,
          0.32721320575756907,
          0.32777610331969614,
          0.32890189844395024,
          0.32890189844395024,
          0.3294647960060773,
          0.3300276935682044,
          0.3300276935682044,
          0.3300276935682044,
          0.3305905911303314,
          0.3305905911303314,
          0.33115348869245853,
          0.33115348869245853,
          0.33115348869245853,
          0.33115348869245853,
          0.33171638625458555,
          0.33171638625458555,
          0.3322792838167126,
          0.3322792838167126,
          0.3328421813788397,
          0.3328421813788397,
          0.3328421813788397,
          0.3334050789409667,
          0.3334050789409667,
          0.3334050789409667,
          0.3334050789409667,
          0.3334050789409667,
          0.3339679765030938,
          0.3350937716273479,
          0.3350937716273479,
          0.33565666918947495,
          0.33678246431372905,
          0.3379082594379832,
          0.3379082594379832,
          0.33847115700011027,
          0.33903405456223734,
          0.34015984968649143,
          0.3424114399349997,
          0.3435372350592538,
          0.3435372350592538,
          0.34410013262138084,
          0.34410013262138084,
          0.345788825307762,
          0.345788825307762,
          0.3463517228698891,
          0.3463517228698891,
          0.3463517228698891,
          0.34804041555627024,
          0.3486033131183973,
          0.34916621068052434,
          0.34972910824265147,
          0.35310649361541374,
          0.355358083863922,
          0.35648387898817613,
          0.35648387898817613,
          0.3581725716745573,
          0.36098705948519255,
          0.36436444485795494,
          0.3660531375443361,
          0.3705563180413526
         ],
         "yaxis": "y"
        }
       ],
       "layout": {
        "legend": {
         "tracegroupgap": 0
        },
        "margin": {
         "t": 60
        },
        "template": {
         "data": {
          "bar": [
           {
            "error_x": {
             "color": "#2a3f5f"
            },
            "error_y": {
             "color": "#2a3f5f"
            },
            "marker": {
             "line": {
              "color": "#E5ECF6",
              "width": 0.5
             },
             "pattern": {
              "fillmode": "overlay",
              "size": 10,
              "solidity": 0.2
             }
            },
            "type": "bar"
           }
          ],
          "barpolar": [
           {
            "marker": {
             "line": {
              "color": "#E5ECF6",
              "width": 0.5
             },
             "pattern": {
              "fillmode": "overlay",
              "size": 10,
              "solidity": 0.2
             }
            },
            "type": "barpolar"
           }
          ],
          "carpet": [
           {
            "aaxis": {
             "endlinecolor": "#2a3f5f",
             "gridcolor": "white",
             "linecolor": "white",
             "minorgridcolor": "white",
             "startlinecolor": "#2a3f5f"
            },
            "baxis": {
             "endlinecolor": "#2a3f5f",
             "gridcolor": "white",
             "linecolor": "white",
             "minorgridcolor": "white",
             "startlinecolor": "#2a3f5f"
            },
            "type": "carpet"
           }
          ],
          "choropleth": [
           {
            "colorbar": {
             "outlinewidth": 0,
             "ticks": ""
            },
            "type": "choropleth"
           }
          ],
          "contour": [
           {
            "colorbar": {
             "outlinewidth": 0,
             "ticks": ""
            },
            "colorscale": [
             [
              0,
              "#0d0887"
             ],
             [
              0.1111111111111111,
              "#46039f"
             ],
             [
              0.2222222222222222,
              "#7201a8"
             ],
             [
              0.3333333333333333,
              "#9c179e"
             ],
             [
              0.4444444444444444,
              "#bd3786"
             ],
             [
              0.5555555555555556,
              "#d8576b"
             ],
             [
              0.6666666666666666,
              "#ed7953"
             ],
             [
              0.7777777777777778,
              "#fb9f3a"
             ],
             [
              0.8888888888888888,
              "#fdca26"
             ],
             [
              1,
              "#f0f921"
             ]
            ],
            "type": "contour"
           }
          ],
          "contourcarpet": [
           {
            "colorbar": {
             "outlinewidth": 0,
             "ticks": ""
            },
            "type": "contourcarpet"
           }
          ],
          "heatmap": [
           {
            "colorbar": {
             "outlinewidth": 0,
             "ticks": ""
            },
            "colorscale": [
             [
              0,
              "#0d0887"
             ],
             [
              0.1111111111111111,
              "#46039f"
             ],
             [
              0.2222222222222222,
              "#7201a8"
             ],
             [
              0.3333333333333333,
              "#9c179e"
             ],
             [
              0.4444444444444444,
              "#bd3786"
             ],
             [
              0.5555555555555556,
              "#d8576b"
             ],
             [
              0.6666666666666666,
              "#ed7953"
             ],
             [
              0.7777777777777778,
              "#fb9f3a"
             ],
             [
              0.8888888888888888,
              "#fdca26"
             ],
             [
              1,
              "#f0f921"
             ]
            ],
            "type": "heatmap"
           }
          ],
          "heatmapgl": [
           {
            "colorbar": {
             "outlinewidth": 0,
             "ticks": ""
            },
            "colorscale": [
             [
              0,
              "#0d0887"
             ],
             [
              0.1111111111111111,
              "#46039f"
             ],
             [
              0.2222222222222222,
              "#7201a8"
             ],
             [
              0.3333333333333333,
              "#9c179e"
             ],
             [
              0.4444444444444444,
              "#bd3786"
             ],
             [
              0.5555555555555556,
              "#d8576b"
             ],
             [
              0.6666666666666666,
              "#ed7953"
             ],
             [
              0.7777777777777778,
              "#fb9f3a"
             ],
             [
              0.8888888888888888,
              "#fdca26"
             ],
             [
              1,
              "#f0f921"
             ]
            ],
            "type": "heatmapgl"
           }
          ],
          "histogram": [
           {
            "marker": {
             "pattern": {
              "fillmode": "overlay",
              "size": 10,
              "solidity": 0.2
             }
            },
            "type": "histogram"
           }
          ],
          "histogram2d": [
           {
            "colorbar": {
             "outlinewidth": 0,
             "ticks": ""
            },
            "colorscale": [
             [
              0,
              "#0d0887"
             ],
             [
              0.1111111111111111,
              "#46039f"
             ],
             [
              0.2222222222222222,
              "#7201a8"
             ],
             [
              0.3333333333333333,
              "#9c179e"
             ],
             [
              0.4444444444444444,
              "#bd3786"
             ],
             [
              0.5555555555555556,
              "#d8576b"
             ],
             [
              0.6666666666666666,
              "#ed7953"
             ],
             [
              0.7777777777777778,
              "#fb9f3a"
             ],
             [
              0.8888888888888888,
              "#fdca26"
             ],
             [
              1,
              "#f0f921"
             ]
            ],
            "type": "histogram2d"
           }
          ],
          "histogram2dcontour": [
           {
            "colorbar": {
             "outlinewidth": 0,
             "ticks": ""
            },
            "colorscale": [
             [
              0,
              "#0d0887"
             ],
             [
              0.1111111111111111,
              "#46039f"
             ],
             [
              0.2222222222222222,
              "#7201a8"
             ],
             [
              0.3333333333333333,
              "#9c179e"
             ],
             [
              0.4444444444444444,
              "#bd3786"
             ],
             [
              0.5555555555555556,
              "#d8576b"
             ],
             [
              0.6666666666666666,
              "#ed7953"
             ],
             [
              0.7777777777777778,
              "#fb9f3a"
             ],
             [
              0.8888888888888888,
              "#fdca26"
             ],
             [
              1,
              "#f0f921"
             ]
            ],
            "type": "histogram2dcontour"
           }
          ],
          "mesh3d": [
           {
            "colorbar": {
             "outlinewidth": 0,
             "ticks": ""
            },
            "type": "mesh3d"
           }
          ],
          "parcoords": [
           {
            "line": {
             "colorbar": {
              "outlinewidth": 0,
              "ticks": ""
             }
            },
            "type": "parcoords"
           }
          ],
          "pie": [
           {
            "automargin": true,
            "type": "pie"
           }
          ],
          "scatter": [
           {
            "fillpattern": {
             "fillmode": "overlay",
             "size": 10,
             "solidity": 0.2
            },
            "type": "scatter"
           }
          ],
          "scatter3d": [
           {
            "line": {
             "colorbar": {
              "outlinewidth": 0,
              "ticks": ""
             }
            },
            "marker": {
             "colorbar": {
              "outlinewidth": 0,
              "ticks": ""
             }
            },
            "type": "scatter3d"
           }
          ],
          "scattercarpet": [
           {
            "marker": {
             "colorbar": {
              "outlinewidth": 0,
              "ticks": ""
             }
            },
            "type": "scattercarpet"
           }
          ],
          "scattergeo": [
           {
            "marker": {
             "colorbar": {
              "outlinewidth": 0,
              "ticks": ""
             }
            },
            "type": "scattergeo"
           }
          ],
          "scattergl": [
           {
            "marker": {
             "colorbar": {
              "outlinewidth": 0,
              "ticks": ""
             }
            },
            "type": "scattergl"
           }
          ],
          "scattermapbox": [
           {
            "marker": {
             "colorbar": {
              "outlinewidth": 0,
              "ticks": ""
             }
            },
            "type": "scattermapbox"
           }
          ],
          "scatterpolar": [
           {
            "marker": {
             "colorbar": {
              "outlinewidth": 0,
              "ticks": ""
             }
            },
            "type": "scatterpolar"
           }
          ],
          "scatterpolargl": [
           {
            "marker": {
             "colorbar": {
              "outlinewidth": 0,
              "ticks": ""
             }
            },
            "type": "scatterpolargl"
           }
          ],
          "scatterternary": [
           {
            "marker": {
             "colorbar": {
              "outlinewidth": 0,
              "ticks": ""
             }
            },
            "type": "scatterternary"
           }
          ],
          "surface": [
           {
            "colorbar": {
             "outlinewidth": 0,
             "ticks": ""
            },
            "colorscale": [
             [
              0,
              "#0d0887"
             ],
             [
              0.1111111111111111,
              "#46039f"
             ],
             [
              0.2222222222222222,
              "#7201a8"
             ],
             [
              0.3333333333333333,
              "#9c179e"
             ],
             [
              0.4444444444444444,
              "#bd3786"
             ],
             [
              0.5555555555555556,
              "#d8576b"
             ],
             [
              0.6666666666666666,
              "#ed7953"
             ],
             [
              0.7777777777777778,
              "#fb9f3a"
             ],
             [
              0.8888888888888888,
              "#fdca26"
             ],
             [
              1,
              "#f0f921"
             ]
            ],
            "type": "surface"
           }
          ],
          "table": [
           {
            "cells": {
             "fill": {
              "color": "#EBF0F8"
             },
             "line": {
              "color": "white"
             }
            },
            "header": {
             "fill": {
              "color": "#C8D4E3"
             },
             "line": {
              "color": "white"
             }
            },
            "type": "table"
           }
          ]
         },
         "layout": {
          "annotationdefaults": {
           "arrowcolor": "#2a3f5f",
           "arrowhead": 0,
           "arrowwidth": 1
          },
          "autotypenumbers": "strict",
          "coloraxis": {
           "colorbar": {
            "outlinewidth": 0,
            "ticks": ""
           }
          },
          "colorscale": {
           "diverging": [
            [
             0,
             "#8e0152"
            ],
            [
             0.1,
             "#c51b7d"
            ],
            [
             0.2,
             "#de77ae"
            ],
            [
             0.3,
             "#f1b6da"
            ],
            [
             0.4,
             "#fde0ef"
            ],
            [
             0.5,
             "#f7f7f7"
            ],
            [
             0.6,
             "#e6f5d0"
            ],
            [
             0.7,
             "#b8e186"
            ],
            [
             0.8,
             "#7fbc41"
            ],
            [
             0.9,
             "#4d9221"
            ],
            [
             1,
             "#276419"
            ]
           ],
           "sequential": [
            [
             0,
             "#0d0887"
            ],
            [
             0.1111111111111111,
             "#46039f"
            ],
            [
             0.2222222222222222,
             "#7201a8"
            ],
            [
             0.3333333333333333,
             "#9c179e"
            ],
            [
             0.4444444444444444,
             "#bd3786"
            ],
            [
             0.5555555555555556,
             "#d8576b"
            ],
            [
             0.6666666666666666,
             "#ed7953"
            ],
            [
             0.7777777777777778,
             "#fb9f3a"
            ],
            [
             0.8888888888888888,
             "#fdca26"
            ],
            [
             1,
             "#f0f921"
            ]
           ],
           "sequentialminus": [
            [
             0,
             "#0d0887"
            ],
            [
             0.1111111111111111,
             "#46039f"
            ],
            [
             0.2222222222222222,
             "#7201a8"
            ],
            [
             0.3333333333333333,
             "#9c179e"
            ],
            [
             0.4444444444444444,
             "#bd3786"
            ],
            [
             0.5555555555555556,
             "#d8576b"
            ],
            [
             0.6666666666666666,
             "#ed7953"
            ],
            [
             0.7777777777777778,
             "#fb9f3a"
            ],
            [
             0.8888888888888888,
             "#fdca26"
            ],
            [
             1,
             "#f0f921"
            ]
           ]
          },
          "colorway": [
           "#636efa",
           "#EF553B",
           "#00cc96",
           "#ab63fa",
           "#FFA15A",
           "#19d3f3",
           "#FF6692",
           "#B6E880",
           "#FF97FF",
           "#FECB52"
          ],
          "font": {
           "color": "#2a3f5f"
          },
          "geo": {
           "bgcolor": "white",
           "lakecolor": "white",
           "landcolor": "#E5ECF6",
           "showlakes": true,
           "showland": true,
           "subunitcolor": "white"
          },
          "hoverlabel": {
           "align": "left"
          },
          "hovermode": "closest",
          "mapbox": {
           "style": "light"
          },
          "paper_bgcolor": "white",
          "plot_bgcolor": "#E5ECF6",
          "polar": {
           "angularaxis": {
            "gridcolor": "white",
            "linecolor": "white",
            "ticks": ""
           },
           "bgcolor": "#E5ECF6",
           "radialaxis": {
            "gridcolor": "white",
            "linecolor": "white",
            "ticks": ""
           }
          },
          "scene": {
           "xaxis": {
            "backgroundcolor": "#E5ECF6",
            "gridcolor": "white",
            "gridwidth": 2,
            "linecolor": "white",
            "showbackground": true,
            "ticks": "",
            "zerolinecolor": "white"
           },
           "yaxis": {
            "backgroundcolor": "#E5ECF6",
            "gridcolor": "white",
            "gridwidth": 2,
            "linecolor": "white",
            "showbackground": true,
            "ticks": "",
            "zerolinecolor": "white"
           },
           "zaxis": {
            "backgroundcolor": "#E5ECF6",
            "gridcolor": "white",
            "gridwidth": 2,
            "linecolor": "white",
            "showbackground": true,
            "ticks": "",
            "zerolinecolor": "white"
           }
          },
          "shapedefaults": {
           "line": {
            "color": "#2a3f5f"
           }
          },
          "ternary": {
           "aaxis": {
            "gridcolor": "white",
            "linecolor": "white",
            "ticks": ""
           },
           "baxis": {
            "gridcolor": "white",
            "linecolor": "white",
            "ticks": ""
           },
           "bgcolor": "#E5ECF6",
           "caxis": {
            "gridcolor": "white",
            "linecolor": "white",
            "ticks": ""
           }
          },
          "title": {
           "x": 0.05
          },
          "xaxis": {
           "automargin": true,
           "gridcolor": "white",
           "linecolor": "white",
           "ticks": "",
           "title": {
            "standoff": 15
           },
           "zerolinecolor": "white",
           "zerolinewidth": 2
          },
          "yaxis": {
           "automargin": true,
           "gridcolor": "white",
           "linecolor": "white",
           "ticks": "",
           "title": {
            "standoff": 15
           },
           "zerolinecolor": "white",
           "zerolinewidth": 2
          }
         }
        },
        "xaxis": {
         "anchor": "y",
         "domain": [
          0,
          1
         ],
         "title": {
          "text": "sxwOBA_2021"
         }
        },
        "yaxis": {
         "anchor": "x",
         "domain": [
          0,
          1
         ],
         "title": {
          "text": "weighted_woba_2022_2023"
         }
        }
       }
      }
     },
     "metadata": {},
     "output_type": "display_data"
    }
   ],
   "source": [
    "px.scatter(data_frame=merged_leaders.loc[merged_leaders['PA_2021'] > 200], x='sxwOBA_2021', y='weighted_woba_2022_2023', trendline='ols',hover_data=['Name', 'PA_2021'])"
   ]
  },
  {
   "cell_type": "code",
   "execution_count": 15,
   "metadata": {},
   "outputs": [
    {
     "name": "stderr",
     "output_type": "stream",
     "text": [
      "C:\\Users\\wampl\\AppData\\Local\\Temp\\ipykernel_18912\\2764258261.py:1: FutureWarning:\n",
      "\n",
      "The default value of numeric_only in DataFrame.corr is deprecated. In a future version, it will default to False. Select only valid columns or specify the value of numeric_only to silence this warning.\n",
      "\n"
     ]
    },
    {
     "data": {
      "text/html": [
       "<div>\n",
       "<style scoped>\n",
       "    .dataframe tbody tr th:only-of-type {\n",
       "        vertical-align: middle;\n",
       "    }\n",
       "\n",
       "    .dataframe tbody tr th {\n",
       "        vertical-align: top;\n",
       "    }\n",
       "\n",
       "    .dataframe thead th {\n",
       "        text-align: right;\n",
       "    }\n",
       "</style>\n",
       "<table border=\"1\" class=\"dataframe\">\n",
       "  <thead>\n",
       "    <tr style=\"text-align: right;\">\n",
       "      <th></th>\n",
       "      <th>wOBA</th>\n",
       "      <th>wOBA_2022</th>\n",
       "      <th>weighted_woba_2022_2023</th>\n",
       "    </tr>\n",
       "  </thead>\n",
       "  <tbody>\n",
       "    <tr>\n",
       "      <th>batter</th>\n",
       "      <td>0.12</td>\n",
       "      <td>0.06</td>\n",
       "      <td>0.11</td>\n",
       "    </tr>\n",
       "    <tr>\n",
       "      <th>PA_2021</th>\n",
       "      <td>0.17</td>\n",
       "      <td>0.31</td>\n",
       "      <td>0.31</td>\n",
       "    </tr>\n",
       "    <tr>\n",
       "      <th>wOBA_2021</th>\n",
       "      <td>0.32</td>\n",
       "      <td>0.46</td>\n",
       "      <td>0.50</td>\n",
       "    </tr>\n",
       "    <tr>\n",
       "      <th>xwOBA_2021</th>\n",
       "      <td>0.41</td>\n",
       "      <td>0.52</td>\n",
       "      <td>0.57</td>\n",
       "    </tr>\n",
       "    <tr>\n",
       "      <th>sxwOBA_2021</th>\n",
       "      <td>0.41</td>\n",
       "      <td>0.53</td>\n",
       "      <td>0.57</td>\n",
       "    </tr>\n",
       "    <tr>\n",
       "      <th>diff_2021</th>\n",
       "      <td>-0.05</td>\n",
       "      <td>-0.06</td>\n",
       "      <td>-0.07</td>\n",
       "    </tr>\n",
       "    <tr>\n",
       "      <th>diff%_2021</th>\n",
       "      <td>-0.06</td>\n",
       "      <td>-0.10</td>\n",
       "      <td>-0.11</td>\n",
       "    </tr>\n",
       "    <tr>\n",
       "      <th>BB%_2021</th>\n",
       "      <td>0.25</td>\n",
       "      <td>0.18</td>\n",
       "      <td>0.25</td>\n",
       "    </tr>\n",
       "    <tr>\n",
       "      <th>K%_2021</th>\n",
       "      <td>-0.11</td>\n",
       "      <td>-0.11</td>\n",
       "      <td>-0.10</td>\n",
       "    </tr>\n",
       "    <tr>\n",
       "      <th>HR_2021</th>\n",
       "      <td>0.29</td>\n",
       "      <td>0.42</td>\n",
       "      <td>0.44</td>\n",
       "    </tr>\n",
       "    <tr>\n",
       "      <th>LA_2021</th>\n",
       "      <td>0.13</td>\n",
       "      <td>0.00</td>\n",
       "      <td>0.06</td>\n",
       "    </tr>\n",
       "    <tr>\n",
       "      <th>Barrels_2021</th>\n",
       "      <td>0.33</td>\n",
       "      <td>0.49</td>\n",
       "      <td>0.51</td>\n",
       "    </tr>\n",
       "    <tr>\n",
       "      <th>pulled_barrels_2021</th>\n",
       "      <td>0.25</td>\n",
       "      <td>0.36</td>\n",
       "      <td>0.39</td>\n",
       "    </tr>\n",
       "    <tr>\n",
       "      <th>year_2021</th>\n",
       "      <td>NaN</td>\n",
       "      <td>NaN</td>\n",
       "      <td>NaN</td>\n",
       "    </tr>\n",
       "    <tr>\n",
       "      <th>PA_2022</th>\n",
       "      <td>0.32</td>\n",
       "      <td>0.56</td>\n",
       "      <td>0.57</td>\n",
       "    </tr>\n",
       "    <tr>\n",
       "      <th>wOBA_2022</th>\n",
       "      <td>0.45</td>\n",
       "      <td>1.00</td>\n",
       "      <td>0.94</td>\n",
       "    </tr>\n",
       "    <tr>\n",
       "      <th>xwOBA_2022</th>\n",
       "      <td>0.46</td>\n",
       "      <td>0.86</td>\n",
       "      <td>0.84</td>\n",
       "    </tr>\n",
       "    <tr>\n",
       "      <th>sxwOBA_2022</th>\n",
       "      <td>0.49</td>\n",
       "      <td>0.90</td>\n",
       "      <td>0.87</td>\n",
       "    </tr>\n",
       "    <tr>\n",
       "      <th>diff_2022</th>\n",
       "      <td>0.10</td>\n",
       "      <td>0.14</td>\n",
       "      <td>0.13</td>\n",
       "    </tr>\n",
       "    <tr>\n",
       "      <th>diff%_2022</th>\n",
       "      <td>0.06</td>\n",
       "      <td>0.05</td>\n",
       "      <td>0.04</td>\n",
       "    </tr>\n",
       "    <tr>\n",
       "      <th>BB%_2022</th>\n",
       "      <td>0.27</td>\n",
       "      <td>0.43</td>\n",
       "      <td>0.45</td>\n",
       "    </tr>\n",
       "    <tr>\n",
       "      <th>K%_2022</th>\n",
       "      <td>-0.08</td>\n",
       "      <td>-0.19</td>\n",
       "      <td>-0.15</td>\n",
       "    </tr>\n",
       "    <tr>\n",
       "      <th>HR_2022</th>\n",
       "      <td>0.37</td>\n",
       "      <td>0.70</td>\n",
       "      <td>0.68</td>\n",
       "    </tr>\n",
       "    <tr>\n",
       "      <th>LA_2022</th>\n",
       "      <td>0.17</td>\n",
       "      <td>0.07</td>\n",
       "      <td>0.12</td>\n",
       "    </tr>\n",
       "    <tr>\n",
       "      <th>Barrels_2022</th>\n",
       "      <td>0.40</td>\n",
       "      <td>0.69</td>\n",
       "      <td>0.69</td>\n",
       "    </tr>\n",
       "    <tr>\n",
       "      <th>pulled_barrels_2022</th>\n",
       "      <td>0.36</td>\n",
       "      <td>0.62</td>\n",
       "      <td>0.61</td>\n",
       "    </tr>\n",
       "    <tr>\n",
       "      <th>year_2022</th>\n",
       "      <td>NaN</td>\n",
       "      <td>NaN</td>\n",
       "      <td>NaN</td>\n",
       "    </tr>\n",
       "    <tr>\n",
       "      <th>PA</th>\n",
       "      <td>0.36</td>\n",
       "      <td>0.52</td>\n",
       "      <td>0.56</td>\n",
       "    </tr>\n",
       "    <tr>\n",
       "      <th>wOBA</th>\n",
       "      <td>1.00</td>\n",
       "      <td>0.45</td>\n",
       "      <td>0.65</td>\n",
       "    </tr>\n",
       "    <tr>\n",
       "      <th>xwOBA</th>\n",
       "      <td>0.84</td>\n",
       "      <td>0.55</td>\n",
       "      <td>0.70</td>\n",
       "    </tr>\n",
       "    <tr>\n",
       "      <th>sxwOBA</th>\n",
       "      <td>0.88</td>\n",
       "      <td>0.51</td>\n",
       "      <td>0.67</td>\n",
       "    </tr>\n",
       "    <tr>\n",
       "      <th>diff</th>\n",
       "      <td>0.05</td>\n",
       "      <td>-0.15</td>\n",
       "      <td>-0.14</td>\n",
       "    </tr>\n",
       "    <tr>\n",
       "      <th>diff%</th>\n",
       "      <td>-0.01</td>\n",
       "      <td>-0.16</td>\n",
       "      <td>-0.15</td>\n",
       "    </tr>\n",
       "    <tr>\n",
       "      <th>BB%</th>\n",
       "      <td>0.31</td>\n",
       "      <td>0.31</td>\n",
       "      <td>0.39</td>\n",
       "    </tr>\n",
       "    <tr>\n",
       "      <th>K%</th>\n",
       "      <td>-0.23</td>\n",
       "      <td>-0.20</td>\n",
       "      <td>-0.24</td>\n",
       "    </tr>\n",
       "    <tr>\n",
       "      <th>HR</th>\n",
       "      <td>0.53</td>\n",
       "      <td>0.56</td>\n",
       "      <td>0.66</td>\n",
       "    </tr>\n",
       "    <tr>\n",
       "      <th>LA</th>\n",
       "      <td>0.23</td>\n",
       "      <td>0.10</td>\n",
       "      <td>0.17</td>\n",
       "    </tr>\n",
       "    <tr>\n",
       "      <th>Barrels</th>\n",
       "      <td>0.54</td>\n",
       "      <td>0.59</td>\n",
       "      <td>0.69</td>\n",
       "    </tr>\n",
       "    <tr>\n",
       "      <th>pulled_barrels</th>\n",
       "      <td>0.49</td>\n",
       "      <td>0.50</td>\n",
       "      <td>0.61</td>\n",
       "    </tr>\n",
       "    <tr>\n",
       "      <th>year</th>\n",
       "      <td>NaN</td>\n",
       "      <td>NaN</td>\n",
       "      <td>NaN</td>\n",
       "    </tr>\n",
       "    <tr>\n",
       "      <th>weighted_woba_2022_2023</th>\n",
       "      <td>0.65</td>\n",
       "      <td>0.94</td>\n",
       "      <td>1.00</td>\n",
       "    </tr>\n",
       "  </tbody>\n",
       "</table>\n",
       "</div>"
      ],
      "text/plain": [
       "                         wOBA  wOBA_2022  weighted_woba_2022_2023\n",
       "batter                   0.12       0.06                     0.11\n",
       "PA_2021                  0.17       0.31                     0.31\n",
       "wOBA_2021                0.32       0.46                     0.50\n",
       "xwOBA_2021               0.41       0.52                     0.57\n",
       "sxwOBA_2021              0.41       0.53                     0.57\n",
       "diff_2021               -0.05      -0.06                    -0.07\n",
       "diff%_2021              -0.06      -0.10                    -0.11\n",
       "BB%_2021                 0.25       0.18                     0.25\n",
       "K%_2021                 -0.11      -0.11                    -0.10\n",
       "HR_2021                  0.29       0.42                     0.44\n",
       "LA_2021                  0.13       0.00                     0.06\n",
       "Barrels_2021             0.33       0.49                     0.51\n",
       "pulled_barrels_2021      0.25       0.36                     0.39\n",
       "year_2021                 NaN        NaN                      NaN\n",
       "PA_2022                  0.32       0.56                     0.57\n",
       "wOBA_2022                0.45       1.00                     0.94\n",
       "xwOBA_2022               0.46       0.86                     0.84\n",
       "sxwOBA_2022              0.49       0.90                     0.87\n",
       "diff_2022                0.10       0.14                     0.13\n",
       "diff%_2022               0.06       0.05                     0.04\n",
       "BB%_2022                 0.27       0.43                     0.45\n",
       "K%_2022                 -0.08      -0.19                    -0.15\n",
       "HR_2022                  0.37       0.70                     0.68\n",
       "LA_2022                  0.17       0.07                     0.12\n",
       "Barrels_2022             0.40       0.69                     0.69\n",
       "pulled_barrels_2022      0.36       0.62                     0.61\n",
       "year_2022                 NaN        NaN                      NaN\n",
       "PA                       0.36       0.52                     0.56\n",
       "wOBA                     1.00       0.45                     0.65\n",
       "xwOBA                    0.84       0.55                     0.70\n",
       "sxwOBA                   0.88       0.51                     0.67\n",
       "diff                     0.05      -0.15                    -0.14\n",
       "diff%                   -0.01      -0.16                    -0.15\n",
       "BB%                      0.31       0.31                     0.39\n",
       "K%                      -0.23      -0.20                    -0.24\n",
       "HR                       0.53       0.56                     0.66\n",
       "LA                       0.23       0.10                     0.17\n",
       "Barrels                  0.54       0.59                     0.69\n",
       "pulled_barrels           0.49       0.50                     0.61\n",
       "year                      NaN        NaN                      NaN\n",
       "weighted_woba_2022_2023  0.65       0.94                     1.00"
      ]
     },
     "execution_count": 15,
     "metadata": {},
     "output_type": "execute_result"
    }
   ],
   "source": [
    "merged_leaders.loc[(merged_leaders['PA_2021']>300) & (merged_leaders['PA_2022']>300)].corr().round(2)[['wOBA', 'wOBA_2022', 'weighted_woba_2022_2023']]"
   ]
  },
  {
   "cell_type": "code",
   "execution_count": 16,
   "metadata": {},
   "outputs": [
    {
     "name": "stderr",
     "output_type": "stream",
     "text": [
      "C:\\Users\\wampl\\AppData\\Local\\Temp\\ipykernel_18912\\3546130828.py:1: FutureWarning:\n",
      "\n",
      "The default value of numeric_only in DataFrame.corr is deprecated. In a future version, it will default to False. Select only valid columns or specify the value of numeric_only to silence this warning.\n",
      "\n"
     ]
    },
    {
     "data": {
      "text/html": [
       "<div>\n",
       "<style scoped>\n",
       "    .dataframe tbody tr th:only-of-type {\n",
       "        vertical-align: middle;\n",
       "    }\n",
       "\n",
       "    .dataframe tbody tr th {\n",
       "        vertical-align: top;\n",
       "    }\n",
       "\n",
       "    .dataframe thead th {\n",
       "        text-align: right;\n",
       "    }\n",
       "</style>\n",
       "<table border=\"1\" class=\"dataframe\">\n",
       "  <thead>\n",
       "    <tr style=\"text-align: right;\">\n",
       "      <th></th>\n",
       "      <th>xwOBA_2021</th>\n",
       "      <th>xwOBA_2022</th>\n",
       "      <th>xwOBA</th>\n",
       "      <th>sxwOBA_2021</th>\n",
       "      <th>sxwOBA_2022</th>\n",
       "      <th>sxwOBA</th>\n",
       "      <th>weighted_woba_2022_2023</th>\n",
       "    </tr>\n",
       "  </thead>\n",
       "  <tbody>\n",
       "    <tr>\n",
       "      <th>batter</th>\n",
       "      <td>-0.192785</td>\n",
       "      <td>-0.112765</td>\n",
       "      <td>-0.003013</td>\n",
       "      <td>-0.156760</td>\n",
       "      <td>-0.058444</td>\n",
       "      <td>-0.024414</td>\n",
       "      <td>-0.026492</td>\n",
       "    </tr>\n",
       "    <tr>\n",
       "      <th>PA_2021</th>\n",
       "      <td>0.475474</td>\n",
       "      <td>0.399038</td>\n",
       "      <td>0.285704</td>\n",
       "      <td>0.472975</td>\n",
       "      <td>0.364846</td>\n",
       "      <td>0.310559</td>\n",
       "      <td>0.373656</td>\n",
       "    </tr>\n",
       "    <tr>\n",
       "      <th>wOBA_2021</th>\n",
       "      <td>0.806209</td>\n",
       "      <td>0.387855</td>\n",
       "      <td>0.240683</td>\n",
       "      <td>0.882557</td>\n",
       "      <td>0.350721</td>\n",
       "      <td>0.215739</td>\n",
       "      <td>0.372852</td>\n",
       "    </tr>\n",
       "    <tr>\n",
       "      <th>xwOBA_2021</th>\n",
       "      <td>1.000000</td>\n",
       "      <td>0.541533</td>\n",
       "      <td>0.397005</td>\n",
       "      <td>0.947180</td>\n",
       "      <td>0.466332</td>\n",
       "      <td>0.369322</td>\n",
       "      <td>0.522129</td>\n",
       "    </tr>\n",
       "    <tr>\n",
       "      <th>sxwOBA_2021</th>\n",
       "      <td>0.947180</td>\n",
       "      <td>0.506733</td>\n",
       "      <td>0.364515</td>\n",
       "      <td>1.000000</td>\n",
       "      <td>0.461454</td>\n",
       "      <td>0.335578</td>\n",
       "      <td>0.504773</td>\n",
       "    </tr>\n",
       "    <tr>\n",
       "      <th>diff_2021</th>\n",
       "      <td>-0.082221</td>\n",
       "      <td>-0.063781</td>\n",
       "      <td>-0.068443</td>\n",
       "      <td>0.241739</td>\n",
       "      <td>0.023046</td>\n",
       "      <td>-0.074609</td>\n",
       "      <td>-0.011163</td>\n",
       "    </tr>\n",
       "    <tr>\n",
       "      <th>diff%_2021</th>\n",
       "      <td>-0.191472</td>\n",
       "      <td>-0.089049</td>\n",
       "      <td>-0.105689</td>\n",
       "      <td>0.126569</td>\n",
       "      <td>0.004333</td>\n",
       "      <td>-0.117168</td>\n",
       "      <td>-0.063794</td>\n",
       "    </tr>\n",
       "    <tr>\n",
       "      <th>BB%_2021</th>\n",
       "      <td>0.442049</td>\n",
       "      <td>0.145540</td>\n",
       "      <td>0.160459</td>\n",
       "      <td>0.479318</td>\n",
       "      <td>0.110670</td>\n",
       "      <td>0.155788</td>\n",
       "      <td>0.198681</td>\n",
       "    </tr>\n",
       "    <tr>\n",
       "      <th>K%_2021</th>\n",
       "      <td>-0.282067</td>\n",
       "      <td>-0.163983</td>\n",
       "      <td>-0.111277</td>\n",
       "      <td>-0.331625</td>\n",
       "      <td>-0.206915</td>\n",
       "      <td>-0.133783</td>\n",
       "      <td>-0.203825</td>\n",
       "    </tr>\n",
       "    <tr>\n",
       "      <th>HR_2021</th>\n",
       "      <td>0.616922</td>\n",
       "      <td>0.464997</td>\n",
       "      <td>0.342418</td>\n",
       "      <td>0.586518</td>\n",
       "      <td>0.397086</td>\n",
       "      <td>0.334357</td>\n",
       "      <td>0.430863</td>\n",
       "    </tr>\n",
       "    <tr>\n",
       "      <th>LA_2021</th>\n",
       "      <td>0.004898</td>\n",
       "      <td>0.015967</td>\n",
       "      <td>-0.029279</td>\n",
       "      <td>-0.115039</td>\n",
       "      <td>-0.047707</td>\n",
       "      <td>-0.037472</td>\n",
       "      <td>-0.030043</td>\n",
       "    </tr>\n",
       "    <tr>\n",
       "      <th>Barrels_2021</th>\n",
       "      <td>0.668176</td>\n",
       "      <td>0.507662</td>\n",
       "      <td>0.382831</td>\n",
       "      <td>0.613044</td>\n",
       "      <td>0.438406</td>\n",
       "      <td>0.371964</td>\n",
       "      <td>0.470973</td>\n",
       "    </tr>\n",
       "    <tr>\n",
       "      <th>pulled_barrels_2021</th>\n",
       "      <td>0.594093</td>\n",
       "      <td>0.434609</td>\n",
       "      <td>0.306994</td>\n",
       "      <td>0.569733</td>\n",
       "      <td>0.378288</td>\n",
       "      <td>0.312184</td>\n",
       "      <td>0.414300</td>\n",
       "    </tr>\n",
       "    <tr>\n",
       "      <th>year_2021</th>\n",
       "      <td>NaN</td>\n",
       "      <td>NaN</td>\n",
       "      <td>NaN</td>\n",
       "      <td>NaN</td>\n",
       "      <td>NaN</td>\n",
       "      <td>NaN</td>\n",
       "      <td>NaN</td>\n",
       "    </tr>\n",
       "    <tr>\n",
       "      <th>PA_2022</th>\n",
       "      <td>0.500548</td>\n",
       "      <td>0.515168</td>\n",
       "      <td>0.387678</td>\n",
       "      <td>0.494270</td>\n",
       "      <td>0.522352</td>\n",
       "      <td>0.419489</td>\n",
       "      <td>0.546386</td>\n",
       "    </tr>\n",
       "    <tr>\n",
       "      <th>wOBA_2022</th>\n",
       "      <td>0.361566</td>\n",
       "      <td>0.817880</td>\n",
       "      <td>0.295068</td>\n",
       "      <td>0.357055</td>\n",
       "      <td>0.874184</td>\n",
       "      <td>0.296953</td>\n",
       "      <td>0.717054</td>\n",
       "    </tr>\n",
       "    <tr>\n",
       "      <th>xwOBA_2022</th>\n",
       "      <td>0.541533</td>\n",
       "      <td>1.000000</td>\n",
       "      <td>0.431096</td>\n",
       "      <td>0.506733</td>\n",
       "      <td>0.937181</td>\n",
       "      <td>0.443448</td>\n",
       "      <td>0.743547</td>\n",
       "    </tr>\n",
       "    <tr>\n",
       "      <th>sxwOBA_2022</th>\n",
       "      <td>0.466332</td>\n",
       "      <td>0.937181</td>\n",
       "      <td>0.388583</td>\n",
       "      <td>0.461454</td>\n",
       "      <td>1.000000</td>\n",
       "      <td>0.407413</td>\n",
       "      <td>0.725809</td>\n",
       "    </tr>\n",
       "    <tr>\n",
       "      <th>diff_2022</th>\n",
       "      <td>-0.119217</td>\n",
       "      <td>-0.002148</td>\n",
       "      <td>-0.045164</td>\n",
       "      <td>-0.039634</td>\n",
       "      <td>0.346831</td>\n",
       "      <td>-0.024395</td>\n",
       "      <td>0.081451</td>\n",
       "    </tr>\n",
       "    <tr>\n",
       "      <th>diff%_2022</th>\n",
       "      <td>-0.143550</td>\n",
       "      <td>-0.094703</td>\n",
       "      <td>-0.068526</td>\n",
       "      <td>-0.068370</td>\n",
       "      <td>0.250649</td>\n",
       "      <td>-0.044684</td>\n",
       "      <td>0.007685</td>\n",
       "    </tr>\n",
       "    <tr>\n",
       "      <th>BB%_2022</th>\n",
       "      <td>0.286669</td>\n",
       "      <td>0.409269</td>\n",
       "      <td>0.157209</td>\n",
       "      <td>0.259608</td>\n",
       "      <td>0.324462</td>\n",
       "      <td>0.181885</td>\n",
       "      <td>0.325897</td>\n",
       "    </tr>\n",
       "    <tr>\n",
       "      <th>K%_2022</th>\n",
       "      <td>-0.144186</td>\n",
       "      <td>-0.350376</td>\n",
       "      <td>-0.121139</td>\n",
       "      <td>-0.186757</td>\n",
       "      <td>-0.416760</td>\n",
       "      <td>-0.207422</td>\n",
       "      <td>-0.259728</td>\n",
       "    </tr>\n",
       "    <tr>\n",
       "      <th>HR_2022</th>\n",
       "      <td>0.529972</td>\n",
       "      <td>0.626869</td>\n",
       "      <td>0.443345</td>\n",
       "      <td>0.493661</td>\n",
       "      <td>0.605677</td>\n",
       "      <td>0.436479</td>\n",
       "      <td>0.644168</td>\n",
       "    </tr>\n",
       "    <tr>\n",
       "      <th>LA_2022</th>\n",
       "      <td>0.062043</td>\n",
       "      <td>0.004515</td>\n",
       "      <td>0.046147</td>\n",
       "      <td>0.020336</td>\n",
       "      <td>-0.064579</td>\n",
       "      <td>-0.009928</td>\n",
       "      <td>0.044121</td>\n",
       "    </tr>\n",
       "    <tr>\n",
       "      <th>Barrels_2022</th>\n",
       "      <td>0.581876</td>\n",
       "      <td>0.684366</td>\n",
       "      <td>0.478694</td>\n",
       "      <td>0.536305</td>\n",
       "      <td>0.627139</td>\n",
       "      <td>0.459720</td>\n",
       "      <td>0.642198</td>\n",
       "    </tr>\n",
       "    <tr>\n",
       "      <th>pulled_barrels_2022</th>\n",
       "      <td>0.522851</td>\n",
       "      <td>0.606825</td>\n",
       "      <td>0.439144</td>\n",
       "      <td>0.481251</td>\n",
       "      <td>0.594403</td>\n",
       "      <td>0.441831</td>\n",
       "      <td>0.609675</td>\n",
       "    </tr>\n",
       "    <tr>\n",
       "      <th>year_2022</th>\n",
       "      <td>NaN</td>\n",
       "      <td>NaN</td>\n",
       "      <td>NaN</td>\n",
       "      <td>NaN</td>\n",
       "      <td>NaN</td>\n",
       "      <td>NaN</td>\n",
       "      <td>NaN</td>\n",
       "    </tr>\n",
       "    <tr>\n",
       "      <th>PA</th>\n",
       "      <td>0.430199</td>\n",
       "      <td>0.481012</td>\n",
       "      <td>0.481755</td>\n",
       "      <td>0.430375</td>\n",
       "      <td>0.483649</td>\n",
       "      <td>0.555183</td>\n",
       "      <td>0.635129</td>\n",
       "    </tr>\n",
       "    <tr>\n",
       "      <th>wOBA</th>\n",
       "      <td>0.305442</td>\n",
       "      <td>0.311318</td>\n",
       "      <td>0.818784</td>\n",
       "      <td>0.284912</td>\n",
       "      <td>0.291287</td>\n",
       "      <td>0.839919</td>\n",
       "      <td>0.603604</td>\n",
       "    </tr>\n",
       "    <tr>\n",
       "      <th>xwOBA</th>\n",
       "      <td>0.397005</td>\n",
       "      <td>0.431096</td>\n",
       "      <td>1.000000</td>\n",
       "      <td>0.364515</td>\n",
       "      <td>0.388583</td>\n",
       "      <td>0.874836</td>\n",
       "      <td>0.655050</td>\n",
       "    </tr>\n",
       "    <tr>\n",
       "      <th>sxwOBA</th>\n",
       "      <td>0.369322</td>\n",
       "      <td>0.443448</td>\n",
       "      <td>0.874836</td>\n",
       "      <td>0.335578</td>\n",
       "      <td>0.407413</td>\n",
       "      <td>1.000000</td>\n",
       "      <td>0.682777</td>\n",
       "    </tr>\n",
       "    <tr>\n",
       "      <th>diff</th>\n",
       "      <td>-0.046501</td>\n",
       "      <td>0.034741</td>\n",
       "      <td>-0.228536</td>\n",
       "      <td>-0.049770</td>\n",
       "      <td>0.046783</td>\n",
       "      <td>0.271666</td>\n",
       "      <td>0.070792</td>\n",
       "    </tr>\n",
       "    <tr>\n",
       "      <th>diff%</th>\n",
       "      <td>0.095113</td>\n",
       "      <td>0.130605</td>\n",
       "      <td>0.226441</td>\n",
       "      <td>0.064983</td>\n",
       "      <td>0.157452</td>\n",
       "      <td>0.362586</td>\n",
       "      <td>0.262086</td>\n",
       "    </tr>\n",
       "    <tr>\n",
       "      <th>BB%</th>\n",
       "      <td>0.292001</td>\n",
       "      <td>0.231937</td>\n",
       "      <td>0.402696</td>\n",
       "      <td>0.268734</td>\n",
       "      <td>0.196373</td>\n",
       "      <td>0.320717</td>\n",
       "      <td>0.370511</td>\n",
       "    </tr>\n",
       "    <tr>\n",
       "      <th>K%</th>\n",
       "      <td>-0.033975</td>\n",
       "      <td>-0.027951</td>\n",
       "      <td>-0.283780</td>\n",
       "      <td>-0.071900</td>\n",
       "      <td>-0.077728</td>\n",
       "      <td>-0.301677</td>\n",
       "      <td>-0.158189</td>\n",
       "    </tr>\n",
       "    <tr>\n",
       "      <th>HR</th>\n",
       "      <td>0.486572</td>\n",
       "      <td>0.485182</td>\n",
       "      <td>0.546086</td>\n",
       "      <td>0.455214</td>\n",
       "      <td>0.447490</td>\n",
       "      <td>0.568009</td>\n",
       "      <td>0.631358</td>\n",
       "    </tr>\n",
       "    <tr>\n",
       "      <th>LA</th>\n",
       "      <td>-0.004917</td>\n",
       "      <td>0.018996</td>\n",
       "      <td>-0.005635</td>\n",
       "      <td>-0.029266</td>\n",
       "      <td>-0.021643</td>\n",
       "      <td>-0.024179</td>\n",
       "      <td>0.088415</td>\n",
       "    </tr>\n",
       "    <tr>\n",
       "      <th>Barrels</th>\n",
       "      <td>0.520456</td>\n",
       "      <td>0.538779</td>\n",
       "      <td>0.610459</td>\n",
       "      <td>0.483664</td>\n",
       "      <td>0.488105</td>\n",
       "      <td>0.603807</td>\n",
       "      <td>0.655554</td>\n",
       "    </tr>\n",
       "    <tr>\n",
       "      <th>pulled_barrels</th>\n",
       "      <td>0.470353</td>\n",
       "      <td>0.459550</td>\n",
       "      <td>0.532255</td>\n",
       "      <td>0.431983</td>\n",
       "      <td>0.424911</td>\n",
       "      <td>0.562936</td>\n",
       "      <td>0.606647</td>\n",
       "    </tr>\n",
       "    <tr>\n",
       "      <th>year</th>\n",
       "      <td>NaN</td>\n",
       "      <td>NaN</td>\n",
       "      <td>NaN</td>\n",
       "      <td>NaN</td>\n",
       "      <td>NaN</td>\n",
       "      <td>NaN</td>\n",
       "      <td>NaN</td>\n",
       "    </tr>\n",
       "    <tr>\n",
       "      <th>weighted_woba_2022_2023</th>\n",
       "      <td>0.522129</td>\n",
       "      <td>0.743547</td>\n",
       "      <td>0.655050</td>\n",
       "      <td>0.504773</td>\n",
       "      <td>0.725809</td>\n",
       "      <td>0.682777</td>\n",
       "      <td>1.000000</td>\n",
       "    </tr>\n",
       "  </tbody>\n",
       "</table>\n",
       "</div>"
      ],
      "text/plain": [
       "                         xwOBA_2021  xwOBA_2022     xwOBA  sxwOBA_2021  \\\n",
       "batter                    -0.192785   -0.112765 -0.003013    -0.156760   \n",
       "PA_2021                    0.475474    0.399038  0.285704     0.472975   \n",
       "wOBA_2021                  0.806209    0.387855  0.240683     0.882557   \n",
       "xwOBA_2021                 1.000000    0.541533  0.397005     0.947180   \n",
       "sxwOBA_2021                0.947180    0.506733  0.364515     1.000000   \n",
       "diff_2021                 -0.082221   -0.063781 -0.068443     0.241739   \n",
       "diff%_2021                -0.191472   -0.089049 -0.105689     0.126569   \n",
       "BB%_2021                   0.442049    0.145540  0.160459     0.479318   \n",
       "K%_2021                   -0.282067   -0.163983 -0.111277    -0.331625   \n",
       "HR_2021                    0.616922    0.464997  0.342418     0.586518   \n",
       "LA_2021                    0.004898    0.015967 -0.029279    -0.115039   \n",
       "Barrels_2021               0.668176    0.507662  0.382831     0.613044   \n",
       "pulled_barrels_2021        0.594093    0.434609  0.306994     0.569733   \n",
       "year_2021                       NaN         NaN       NaN          NaN   \n",
       "PA_2022                    0.500548    0.515168  0.387678     0.494270   \n",
       "wOBA_2022                  0.361566    0.817880  0.295068     0.357055   \n",
       "xwOBA_2022                 0.541533    1.000000  0.431096     0.506733   \n",
       "sxwOBA_2022                0.466332    0.937181  0.388583     0.461454   \n",
       "diff_2022                 -0.119217   -0.002148 -0.045164    -0.039634   \n",
       "diff%_2022                -0.143550   -0.094703 -0.068526    -0.068370   \n",
       "BB%_2022                   0.286669    0.409269  0.157209     0.259608   \n",
       "K%_2022                   -0.144186   -0.350376 -0.121139    -0.186757   \n",
       "HR_2022                    0.529972    0.626869  0.443345     0.493661   \n",
       "LA_2022                    0.062043    0.004515  0.046147     0.020336   \n",
       "Barrels_2022               0.581876    0.684366  0.478694     0.536305   \n",
       "pulled_barrels_2022        0.522851    0.606825  0.439144     0.481251   \n",
       "year_2022                       NaN         NaN       NaN          NaN   \n",
       "PA                         0.430199    0.481012  0.481755     0.430375   \n",
       "wOBA                       0.305442    0.311318  0.818784     0.284912   \n",
       "xwOBA                      0.397005    0.431096  1.000000     0.364515   \n",
       "sxwOBA                     0.369322    0.443448  0.874836     0.335578   \n",
       "diff                      -0.046501    0.034741 -0.228536    -0.049770   \n",
       "diff%                      0.095113    0.130605  0.226441     0.064983   \n",
       "BB%                        0.292001    0.231937  0.402696     0.268734   \n",
       "K%                        -0.033975   -0.027951 -0.283780    -0.071900   \n",
       "HR                         0.486572    0.485182  0.546086     0.455214   \n",
       "LA                        -0.004917    0.018996 -0.005635    -0.029266   \n",
       "Barrels                    0.520456    0.538779  0.610459     0.483664   \n",
       "pulled_barrels             0.470353    0.459550  0.532255     0.431983   \n",
       "year                            NaN         NaN       NaN          NaN   \n",
       "weighted_woba_2022_2023    0.522129    0.743547  0.655050     0.504773   \n",
       "\n",
       "                         sxwOBA_2022    sxwOBA  weighted_woba_2022_2023  \n",
       "batter                     -0.058444 -0.024414                -0.026492  \n",
       "PA_2021                     0.364846  0.310559                 0.373656  \n",
       "wOBA_2021                   0.350721  0.215739                 0.372852  \n",
       "xwOBA_2021                  0.466332  0.369322                 0.522129  \n",
       "sxwOBA_2021                 0.461454  0.335578                 0.504773  \n",
       "diff_2021                   0.023046 -0.074609                -0.011163  \n",
       "diff%_2021                  0.004333 -0.117168                -0.063794  \n",
       "BB%_2021                    0.110670  0.155788                 0.198681  \n",
       "K%_2021                    -0.206915 -0.133783                -0.203825  \n",
       "HR_2021                     0.397086  0.334357                 0.430863  \n",
       "LA_2021                    -0.047707 -0.037472                -0.030043  \n",
       "Barrels_2021                0.438406  0.371964                 0.470973  \n",
       "pulled_barrels_2021         0.378288  0.312184                 0.414300  \n",
       "year_2021                        NaN       NaN                      NaN  \n",
       "PA_2022                     0.522352  0.419489                 0.546386  \n",
       "wOBA_2022                   0.874184  0.296953                 0.717054  \n",
       "xwOBA_2022                  0.937181  0.443448                 0.743547  \n",
       "sxwOBA_2022                 1.000000  0.407413                 0.725809  \n",
       "diff_2022                   0.346831 -0.024395                 0.081451  \n",
       "diff%_2022                  0.250649 -0.044684                 0.007685  \n",
       "BB%_2022                    0.324462  0.181885                 0.325897  \n",
       "K%_2022                    -0.416760 -0.207422                -0.259728  \n",
       "HR_2022                     0.605677  0.436479                 0.644168  \n",
       "LA_2022                    -0.064579 -0.009928                 0.044121  \n",
       "Barrels_2022                0.627139  0.459720                 0.642198  \n",
       "pulled_barrels_2022         0.594403  0.441831                 0.609675  \n",
       "year_2022                        NaN       NaN                      NaN  \n",
       "PA                          0.483649  0.555183                 0.635129  \n",
       "wOBA                        0.291287  0.839919                 0.603604  \n",
       "xwOBA                       0.388583  0.874836                 0.655050  \n",
       "sxwOBA                      0.407413  1.000000                 0.682777  \n",
       "diff                        0.046783  0.271666                 0.070792  \n",
       "diff%                       0.157452  0.362586                 0.262086  \n",
       "BB%                         0.196373  0.320717                 0.370511  \n",
       "K%                         -0.077728 -0.301677                -0.158189  \n",
       "HR                          0.447490  0.568009                 0.631358  \n",
       "LA                         -0.021643 -0.024179                 0.088415  \n",
       "Barrels                     0.488105  0.603807                 0.655554  \n",
       "pulled_barrels              0.424911  0.562936                 0.606647  \n",
       "year                             NaN       NaN                      NaN  \n",
       "weighted_woba_2022_2023     0.725809  0.682777                 1.000000  "
      ]
     },
     "execution_count": 16,
     "metadata": {},
     "output_type": "execute_result"
    }
   ],
   "source": [
    "merged_leaders.corr()[['xwOBA_2021', 'xwOBA_2022', 'xwOBA', 'sxwOBA_2021', 'sxwOBA_2022', 'sxwOBA', 'weighted_woba_2022_2023']]"
   ]
  },
  {
   "cell_type": "code",
   "execution_count": null,
   "metadata": {},
   "outputs": [],
   "source": []
  }
 ],
 "metadata": {
  "kernelspec": {
   "display_name": "datasci",
   "language": "python",
   "name": "python3"
  },
  "language_info": {
   "codemirror_mode": {
    "name": "ipython",
    "version": 3
   },
   "file_extension": ".py",
   "mimetype": "text/x-python",
   "name": "python",
   "nbconvert_exporter": "python",
   "pygments_lexer": "ipython3",
   "version": "3.10.8"
  },
  "orig_nbformat": 4
 },
 "nbformat": 4,
 "nbformat_minor": 2
}
