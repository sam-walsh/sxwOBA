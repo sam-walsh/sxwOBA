{
 "cells": [
  {
   "cell_type": "code",
   "execution_count": 1,
   "metadata": {},
   "outputs": [],
   "source": [
    "import pandas as pd\n",
    "import numpy as np\n",
    "import pybaseball as pb"
   ]
  },
  {
   "cell_type": "code",
   "execution_count": 5,
   "metadata": {},
   "outputs": [],
   "source": [
    "df_2023 = pd.read_csv(\"C:/Users/wampl/sxwOBA/statcast_data/2023.csv\")\n",
    "sample_df = df_2023.sample(n=10000)\n",
    "sample_df.to_csv('C:/Users/wampl/sxwOBA/statcast_data/sample_2023.csv', index=False)"
   ]
  },
  {
   "cell_type": "code",
   "execution_count": 2,
   "metadata": {},
   "outputs": [],
   "source": [
    "current = pd.read_csv(\"statcast_data/current.csv\")"
   ]
  },
  {
   "cell_type": "code",
   "execution_count": 3,
   "metadata": {},
   "outputs": [
    {
     "data": {
      "text/html": [
       "<div>\n",
       "<style scoped>\n",
       "    .dataframe tbody tr th:only-of-type {\n",
       "        vertical-align: middle;\n",
       "    }\n",
       "\n",
       "    .dataframe tbody tr th {\n",
       "        vertical-align: top;\n",
       "    }\n",
       "\n",
       "    .dataframe thead th {\n",
       "        text-align: right;\n",
       "    }\n",
       "</style>\n",
       "<table border=\"1\" class=\"dataframe\">\n",
       "  <thead>\n",
       "    <tr style=\"text-align: right;\">\n",
       "      <th></th>\n",
       "      <th>Unnamed: 0</th>\n",
       "      <th>pitch_type</th>\n",
       "      <th>game_date</th>\n",
       "      <th>release_speed</th>\n",
       "      <th>release_pos_x</th>\n",
       "      <th>release_pos_z</th>\n",
       "      <th>player_name</th>\n",
       "      <th>batter</th>\n",
       "      <th>pitcher</th>\n",
       "      <th>events</th>\n",
       "      <th>...</th>\n",
       "      <th>of_fielding_alignment</th>\n",
       "      <th>batter_team</th>\n",
       "      <th>pitcher_team</th>\n",
       "      <th>stand_L</th>\n",
       "      <th>stand_R</th>\n",
       "      <th>batter_name</th>\n",
       "      <th>rf_xwoba</th>\n",
       "      <th>sxwOBA</th>\n",
       "      <th>sxwoba_prob_model</th>\n",
       "      <th>pulled_barrel</th>\n",
       "    </tr>\n",
       "  </thead>\n",
       "  <tbody>\n",
       "    <tr>\n",
       "      <th>33</th>\n",
       "      <td>33</td>\n",
       "      <td>SL</td>\n",
       "      <td>2023-06-26</td>\n",
       "      <td>91.3</td>\n",
       "      <td>-1.90</td>\n",
       "      <td>5.95</td>\n",
       "      <td>Baumann, Mike</td>\n",
       "      <td>663886</td>\n",
       "      <td>657508</td>\n",
       "      <td>strikeout</td>\n",
       "      <td>...</td>\n",
       "      <td>0.0</td>\n",
       "      <td>CIN</td>\n",
       "      <td>BAL</td>\n",
       "      <td>0</td>\n",
       "      <td>1</td>\n",
       "      <td>tyler stephenson</td>\n",
       "      <td>0.0</td>\n",
       "      <td>0.0</td>\n",
       "      <td>NaN</td>\n",
       "      <td>0</td>\n",
       "    </tr>\n",
       "    <tr>\n",
       "      <th>80</th>\n",
       "      <td>80</td>\n",
       "      <td>CH</td>\n",
       "      <td>2023-06-26</td>\n",
       "      <td>83.9</td>\n",
       "      <td>-0.46</td>\n",
       "      <td>6.71</td>\n",
       "      <td>Baker, Bryan</td>\n",
       "      <td>680574</td>\n",
       "      <td>641329</td>\n",
       "      <td>strikeout</td>\n",
       "      <td>...</td>\n",
       "      <td>0.0</td>\n",
       "      <td>CIN</td>\n",
       "      <td>BAL</td>\n",
       "      <td>0</td>\n",
       "      <td>1</td>\n",
       "      <td>matt mclain</td>\n",
       "      <td>0.0</td>\n",
       "      <td>0.0</td>\n",
       "      <td>NaN</td>\n",
       "      <td>0</td>\n",
       "    </tr>\n",
       "    <tr>\n",
       "      <th>84</th>\n",
       "      <td>84</td>\n",
       "      <td>FF</td>\n",
       "      <td>2023-06-26</td>\n",
       "      <td>97.9</td>\n",
       "      <td>-0.54</td>\n",
       "      <td>6.61</td>\n",
       "      <td>Baker, Bryan</td>\n",
       "      <td>621028</td>\n",
       "      <td>641329</td>\n",
       "      <td>strikeout</td>\n",
       "      <td>...</td>\n",
       "      <td>0.0</td>\n",
       "      <td>CIN</td>\n",
       "      <td>BAL</td>\n",
       "      <td>0</td>\n",
       "      <td>1</td>\n",
       "      <td>kevin newman</td>\n",
       "      <td>0.0</td>\n",
       "      <td>0.0</td>\n",
       "      <td>NaN</td>\n",
       "      <td>0</td>\n",
       "    </tr>\n",
       "    <tr>\n",
       "      <th>177</th>\n",
       "      <td>177</td>\n",
       "      <td>FS</td>\n",
       "      <td>2023-06-26</td>\n",
       "      <td>81.0</td>\n",
       "      <td>-1.45</td>\n",
       "      <td>5.99</td>\n",
       "      <td>Cruz, Fernando</td>\n",
       "      <td>669720</td>\n",
       "      <td>518585</td>\n",
       "      <td>strikeout</td>\n",
       "      <td>...</td>\n",
       "      <td>0.0</td>\n",
       "      <td>BAL</td>\n",
       "      <td>CIN</td>\n",
       "      <td>0</td>\n",
       "      <td>1</td>\n",
       "      <td>austin hays</td>\n",
       "      <td>0.0</td>\n",
       "      <td>0.0</td>\n",
       "      <td>NaN</td>\n",
       "      <td>0</td>\n",
       "    </tr>\n",
       "    <tr>\n",
       "      <th>183</th>\n",
       "      <td>183</td>\n",
       "      <td>FS</td>\n",
       "      <td>2023-06-26</td>\n",
       "      <td>80.8</td>\n",
       "      <td>-1.19</td>\n",
       "      <td>6.09</td>\n",
       "      <td>Cruz, Fernando</td>\n",
       "      <td>622761</td>\n",
       "      <td>518585</td>\n",
       "      <td>strikeout</td>\n",
       "      <td>...</td>\n",
       "      <td>0.0</td>\n",
       "      <td>BAL</td>\n",
       "      <td>CIN</td>\n",
       "      <td>0</td>\n",
       "      <td>1</td>\n",
       "      <td>jorge mateo</td>\n",
       "      <td>0.0</td>\n",
       "      <td>0.0</td>\n",
       "      <td>NaN</td>\n",
       "      <td>0</td>\n",
       "    </tr>\n",
       "  </tbody>\n",
       "</table>\n",
       "<p>5 rows × 104 columns</p>\n",
       "</div>"
      ],
      "text/plain": [
       "     Unnamed: 0 pitch_type   game_date  release_speed  release_pos_x  \\\n",
       "33           33         SL  2023-06-26           91.3          -1.90   \n",
       "80           80         CH  2023-06-26           83.9          -0.46   \n",
       "84           84         FF  2023-06-26           97.9          -0.54   \n",
       "177         177         FS  2023-06-26           81.0          -1.45   \n",
       "183         183         FS  2023-06-26           80.8          -1.19   \n",
       "\n",
       "     release_pos_z     player_name  batter  pitcher     events  ...  \\\n",
       "33            5.95   Baumann, Mike  663886   657508  strikeout  ...   \n",
       "80            6.71    Baker, Bryan  680574   641329  strikeout  ...   \n",
       "84            6.61    Baker, Bryan  621028   641329  strikeout  ...   \n",
       "177           5.99  Cruz, Fernando  669720   518585  strikeout  ...   \n",
       "183           6.09  Cruz, Fernando  622761   518585  strikeout  ...   \n",
       "\n",
       "    of_fielding_alignment  batter_team  pitcher_team  stand_L  stand_R  \\\n",
       "33                    0.0          CIN           BAL        0        1   \n",
       "80                    0.0          CIN           BAL        0        1   \n",
       "84                    0.0          CIN           BAL        0        1   \n",
       "177                   0.0          BAL           CIN        0        1   \n",
       "183                   0.0          BAL           CIN        0        1   \n",
       "\n",
       "          batter_name rf_xwoba sxwOBA sxwoba_prob_model pulled_barrel  \n",
       "33   tyler stephenson      0.0    0.0               NaN             0  \n",
       "80        matt mclain      0.0    0.0               NaN             0  \n",
       "84       kevin newman      0.0    0.0               NaN             0  \n",
       "177       austin hays      0.0    0.0               NaN             0  \n",
       "183       jorge mateo      0.0    0.0               NaN             0  \n",
       "\n",
       "[5 rows x 104 columns]"
      ]
     },
     "execution_count": 3,
     "metadata": {},
     "output_type": "execute_result"
    }
   ],
   "source": [
    "current.loc[current['target'] == 7].head()"
   ]
  },
  {
   "cell_type": "code",
   "execution_count": 4,
   "metadata": {},
   "outputs": [],
   "source": [
    "df = pd.read_csv(\"statcast_data/2023.csv\")"
   ]
  },
  {
   "cell_type": "code",
   "execution_count": 5,
   "metadata": {},
   "outputs": [
    {
     "data": {
      "text/html": [
       "<div>\n",
       "<style scoped>\n",
       "    .dataframe tbody tr th:only-of-type {\n",
       "        vertical-align: middle;\n",
       "    }\n",
       "\n",
       "    .dataframe tbody tr th {\n",
       "        vertical-align: top;\n",
       "    }\n",
       "\n",
       "    .dataframe thead th {\n",
       "        text-align: right;\n",
       "    }\n",
       "</style>\n",
       "<table border=\"1\" class=\"dataframe\">\n",
       "  <thead>\n",
       "    <tr style=\"text-align: right;\">\n",
       "      <th></th>\n",
       "      <th>Unnamed: 0</th>\n",
       "      <th>pitch_type</th>\n",
       "      <th>game_date</th>\n",
       "      <th>release_speed</th>\n",
       "      <th>release_pos_x</th>\n",
       "      <th>release_pos_z</th>\n",
       "      <th>player_name</th>\n",
       "      <th>batter</th>\n",
       "      <th>pitcher</th>\n",
       "      <th>events</th>\n",
       "      <th>...</th>\n",
       "      <th>fld_score</th>\n",
       "      <th>post_away_score</th>\n",
       "      <th>post_home_score</th>\n",
       "      <th>post_bat_score</th>\n",
       "      <th>post_fld_score</th>\n",
       "      <th>if_fielding_alignment</th>\n",
       "      <th>of_fielding_alignment</th>\n",
       "      <th>spin_axis</th>\n",
       "      <th>delta_home_win_exp</th>\n",
       "      <th>delta_run_exp</th>\n",
       "    </tr>\n",
       "  </thead>\n",
       "  <tbody>\n",
       "    <tr>\n",
       "      <th>0</th>\n",
       "      <td>0</td>\n",
       "      <td>FF</td>\n",
       "      <td>2023-06-26</td>\n",
       "      <td>96.6</td>\n",
       "      <td>1.30</td>\n",
       "      <td>5.46</td>\n",
       "      <td>Pérez, Cionel</td>\n",
       "      <td>663697</td>\n",
       "      <td>672335</td>\n",
       "      <td>field_out</td>\n",
       "      <td>...</td>\n",
       "      <td>10</td>\n",
       "      <td>3</td>\n",
       "      <td>10</td>\n",
       "      <td>3</td>\n",
       "      <td>10</td>\n",
       "      <td>Standard</td>\n",
       "      <td>Standard</td>\n",
       "      <td>143.0</td>\n",
       "      <td>0.000</td>\n",
       "      <td>-0.470</td>\n",
       "    </tr>\n",
       "    <tr>\n",
       "      <th>1</th>\n",
       "      <td>1</td>\n",
       "      <td>SL</td>\n",
       "      <td>2023-06-26</td>\n",
       "      <td>84.0</td>\n",
       "      <td>1.13</td>\n",
       "      <td>5.41</td>\n",
       "      <td>Pérez, Cionel</td>\n",
       "      <td>680574</td>\n",
       "      <td>672335</td>\n",
       "      <td>hit_by_pitch</td>\n",
       "      <td>...</td>\n",
       "      <td>10</td>\n",
       "      <td>3</td>\n",
       "      <td>10</td>\n",
       "      <td>3</td>\n",
       "      <td>10</td>\n",
       "      <td>Strategic</td>\n",
       "      <td>Standard</td>\n",
       "      <td>337.0</td>\n",
       "      <td>0.000</td>\n",
       "      <td>0.268</td>\n",
       "    </tr>\n",
       "    <tr>\n",
       "      <th>2</th>\n",
       "      <td>2</td>\n",
       "      <td>FF</td>\n",
       "      <td>2023-06-26</td>\n",
       "      <td>98.1</td>\n",
       "      <td>1.02</td>\n",
       "      <td>5.43</td>\n",
       "      <td>Pérez, Cionel</td>\n",
       "      <td>680574</td>\n",
       "      <td>672335</td>\n",
       "      <td>NaN</td>\n",
       "      <td>...</td>\n",
       "      <td>10</td>\n",
       "      <td>3</td>\n",
       "      <td>10</td>\n",
       "      <td>3</td>\n",
       "      <td>10</td>\n",
       "      <td>Standard</td>\n",
       "      <td>Standard</td>\n",
       "      <td>135.0</td>\n",
       "      <td>0.000</td>\n",
       "      <td>-0.036</td>\n",
       "    </tr>\n",
       "    <tr>\n",
       "      <th>3</th>\n",
       "      <td>3</td>\n",
       "      <td>FF</td>\n",
       "      <td>2023-06-26</td>\n",
       "      <td>97.2</td>\n",
       "      <td>1.12</td>\n",
       "      <td>5.42</td>\n",
       "      <td>Pérez, Cionel</td>\n",
       "      <td>621028</td>\n",
       "      <td>672335</td>\n",
       "      <td>field_out</td>\n",
       "      <td>...</td>\n",
       "      <td>10</td>\n",
       "      <td>3</td>\n",
       "      <td>10</td>\n",
       "      <td>3</td>\n",
       "      <td>10</td>\n",
       "      <td>Strategic</td>\n",
       "      <td>Standard</td>\n",
       "      <td>146.0</td>\n",
       "      <td>0.001</td>\n",
       "      <td>-0.305</td>\n",
       "    </tr>\n",
       "    <tr>\n",
       "      <th>4</th>\n",
       "      <td>4</td>\n",
       "      <td>FF</td>\n",
       "      <td>2023-06-26</td>\n",
       "      <td>98.2</td>\n",
       "      <td>1.17</td>\n",
       "      <td>5.40</td>\n",
       "      <td>Pérez, Cionel</td>\n",
       "      <td>592200</td>\n",
       "      <td>672335</td>\n",
       "      <td>walk</td>\n",
       "      <td>...</td>\n",
       "      <td>10</td>\n",
       "      <td>3</td>\n",
       "      <td>10</td>\n",
       "      <td>3</td>\n",
       "      <td>10</td>\n",
       "      <td>Standard</td>\n",
       "      <td>Standard</td>\n",
       "      <td>138.0</td>\n",
       "      <td>-0.001</td>\n",
       "      <td>0.227</td>\n",
       "    </tr>\n",
       "  </tbody>\n",
       "</table>\n",
       "<p>5 rows × 93 columns</p>\n",
       "</div>"
      ],
      "text/plain": [
       "   Unnamed: 0 pitch_type   game_date  release_speed  release_pos_x  \\\n",
       "0           0         FF  2023-06-26           96.6           1.30   \n",
       "1           1         SL  2023-06-26           84.0           1.13   \n",
       "2           2         FF  2023-06-26           98.1           1.02   \n",
       "3           3         FF  2023-06-26           97.2           1.12   \n",
       "4           4         FF  2023-06-26           98.2           1.17   \n",
       "\n",
       "   release_pos_z    player_name  batter  pitcher        events  ... fld_score  \\\n",
       "0           5.46  Pérez, Cionel  663697   672335     field_out  ...        10   \n",
       "1           5.41  Pérez, Cionel  680574   672335  hit_by_pitch  ...        10   \n",
       "2           5.43  Pérez, Cionel  680574   672335           NaN  ...        10   \n",
       "3           5.42  Pérez, Cionel  621028   672335     field_out  ...        10   \n",
       "4           5.40  Pérez, Cionel  592200   672335          walk  ...        10   \n",
       "\n",
       "   post_away_score  post_home_score  post_bat_score  post_fld_score  \\\n",
       "0                3               10               3              10   \n",
       "1                3               10               3              10   \n",
       "2                3               10               3              10   \n",
       "3                3               10               3              10   \n",
       "4                3               10               3              10   \n",
       "\n",
       "   if_fielding_alignment of_fielding_alignment spin_axis delta_home_win_exp  \\\n",
       "0               Standard              Standard     143.0              0.000   \n",
       "1              Strategic              Standard     337.0              0.000   \n",
       "2               Standard              Standard     135.0              0.000   \n",
       "3              Strategic              Standard     146.0              0.001   \n",
       "4               Standard              Standard     138.0             -0.001   \n",
       "\n",
       "  delta_run_exp  \n",
       "0        -0.470  \n",
       "1         0.268  \n",
       "2        -0.036  \n",
       "3        -0.305  \n",
       "4         0.227  \n",
       "\n",
       "[5 rows x 93 columns]"
      ]
     },
     "execution_count": 5,
     "metadata": {},
     "output_type": "execute_result"
    }
   ],
   "source": [
    "df.head().reset_index(drop=True)"
   ]
  },
  {
   "cell_type": "code",
   "execution_count": 6,
   "metadata": {},
   "outputs": [
    {
     "data": {
      "text/html": [
       "<div>\n",
       "<style scoped>\n",
       "    .dataframe tbody tr th:only-of-type {\n",
       "        vertical-align: middle;\n",
       "    }\n",
       "\n",
       "    .dataframe tbody tr th {\n",
       "        vertical-align: top;\n",
       "    }\n",
       "\n",
       "    .dataframe thead th {\n",
       "        text-align: right;\n",
       "    }\n",
       "</style>\n",
       "<table border=\"1\" class=\"dataframe\">\n",
       "  <thead>\n",
       "    <tr style=\"text-align: right;\">\n",
       "      <th></th>\n",
       "      <th>Unnamed: 0</th>\n",
       "      <th>pitch_type</th>\n",
       "      <th>game_date</th>\n",
       "      <th>release_speed</th>\n",
       "      <th>release_pos_x</th>\n",
       "      <th>release_pos_z</th>\n",
       "      <th>player_name</th>\n",
       "      <th>batter</th>\n",
       "      <th>pitcher</th>\n",
       "      <th>events</th>\n",
       "      <th>...</th>\n",
       "      <th>fld_score</th>\n",
       "      <th>post_away_score</th>\n",
       "      <th>post_home_score</th>\n",
       "      <th>post_bat_score</th>\n",
       "      <th>post_fld_score</th>\n",
       "      <th>if_fielding_alignment</th>\n",
       "      <th>of_fielding_alignment</th>\n",
       "      <th>spin_axis</th>\n",
       "      <th>delta_home_win_exp</th>\n",
       "      <th>delta_run_exp</th>\n",
       "    </tr>\n",
       "  </thead>\n",
       "  <tbody>\n",
       "    <tr>\n",
       "      <th>0</th>\n",
       "      <td>0</td>\n",
       "      <td>FF</td>\n",
       "      <td>2023-06-26</td>\n",
       "      <td>96.6</td>\n",
       "      <td>1.30</td>\n",
       "      <td>5.46</td>\n",
       "      <td>Pérez, Cionel</td>\n",
       "      <td>663697</td>\n",
       "      <td>672335</td>\n",
       "      <td>field_out</td>\n",
       "      <td>...</td>\n",
       "      <td>10</td>\n",
       "      <td>3</td>\n",
       "      <td>10</td>\n",
       "      <td>3</td>\n",
       "      <td>10</td>\n",
       "      <td>Standard</td>\n",
       "      <td>Standard</td>\n",
       "      <td>143.0</td>\n",
       "      <td>0.000</td>\n",
       "      <td>-0.470</td>\n",
       "    </tr>\n",
       "    <tr>\n",
       "      <th>1</th>\n",
       "      <td>1</td>\n",
       "      <td>SL</td>\n",
       "      <td>2023-06-26</td>\n",
       "      <td>84.0</td>\n",
       "      <td>1.13</td>\n",
       "      <td>5.41</td>\n",
       "      <td>Pérez, Cionel</td>\n",
       "      <td>680574</td>\n",
       "      <td>672335</td>\n",
       "      <td>hit_by_pitch</td>\n",
       "      <td>...</td>\n",
       "      <td>10</td>\n",
       "      <td>3</td>\n",
       "      <td>10</td>\n",
       "      <td>3</td>\n",
       "      <td>10</td>\n",
       "      <td>Strategic</td>\n",
       "      <td>Standard</td>\n",
       "      <td>337.0</td>\n",
       "      <td>0.000</td>\n",
       "      <td>0.268</td>\n",
       "    </tr>\n",
       "    <tr>\n",
       "      <th>2</th>\n",
       "      <td>2</td>\n",
       "      <td>FF</td>\n",
       "      <td>2023-06-26</td>\n",
       "      <td>98.1</td>\n",
       "      <td>1.02</td>\n",
       "      <td>5.43</td>\n",
       "      <td>Pérez, Cionel</td>\n",
       "      <td>680574</td>\n",
       "      <td>672335</td>\n",
       "      <td>NaN</td>\n",
       "      <td>...</td>\n",
       "      <td>10</td>\n",
       "      <td>3</td>\n",
       "      <td>10</td>\n",
       "      <td>3</td>\n",
       "      <td>10</td>\n",
       "      <td>Standard</td>\n",
       "      <td>Standard</td>\n",
       "      <td>135.0</td>\n",
       "      <td>0.000</td>\n",
       "      <td>-0.036</td>\n",
       "    </tr>\n",
       "    <tr>\n",
       "      <th>3</th>\n",
       "      <td>3</td>\n",
       "      <td>FF</td>\n",
       "      <td>2023-06-26</td>\n",
       "      <td>97.2</td>\n",
       "      <td>1.12</td>\n",
       "      <td>5.42</td>\n",
       "      <td>Pérez, Cionel</td>\n",
       "      <td>621028</td>\n",
       "      <td>672335</td>\n",
       "      <td>field_out</td>\n",
       "      <td>...</td>\n",
       "      <td>10</td>\n",
       "      <td>3</td>\n",
       "      <td>10</td>\n",
       "      <td>3</td>\n",
       "      <td>10</td>\n",
       "      <td>Strategic</td>\n",
       "      <td>Standard</td>\n",
       "      <td>146.0</td>\n",
       "      <td>0.001</td>\n",
       "      <td>-0.305</td>\n",
       "    </tr>\n",
       "    <tr>\n",
       "      <th>4</th>\n",
       "      <td>4</td>\n",
       "      <td>FF</td>\n",
       "      <td>2023-06-26</td>\n",
       "      <td>98.2</td>\n",
       "      <td>1.17</td>\n",
       "      <td>5.40</td>\n",
       "      <td>Pérez, Cionel</td>\n",
       "      <td>592200</td>\n",
       "      <td>672335</td>\n",
       "      <td>walk</td>\n",
       "      <td>...</td>\n",
       "      <td>10</td>\n",
       "      <td>3</td>\n",
       "      <td>10</td>\n",
       "      <td>3</td>\n",
       "      <td>10</td>\n",
       "      <td>Standard</td>\n",
       "      <td>Standard</td>\n",
       "      <td>138.0</td>\n",
       "      <td>-0.001</td>\n",
       "      <td>0.227</td>\n",
       "    </tr>\n",
       "  </tbody>\n",
       "</table>\n",
       "<p>5 rows × 93 columns</p>\n",
       "</div>"
      ],
      "text/plain": [
       "   Unnamed: 0 pitch_type   game_date  release_speed  release_pos_x  \\\n",
       "0           0         FF  2023-06-26           96.6           1.30   \n",
       "1           1         SL  2023-06-26           84.0           1.13   \n",
       "2           2         FF  2023-06-26           98.1           1.02   \n",
       "3           3         FF  2023-06-26           97.2           1.12   \n",
       "4           4         FF  2023-06-26           98.2           1.17   \n",
       "\n",
       "   release_pos_z    player_name  batter  pitcher        events  ... fld_score  \\\n",
       "0           5.46  Pérez, Cionel  663697   672335     field_out  ...        10   \n",
       "1           5.41  Pérez, Cionel  680574   672335  hit_by_pitch  ...        10   \n",
       "2           5.43  Pérez, Cionel  680574   672335           NaN  ...        10   \n",
       "3           5.42  Pérez, Cionel  621028   672335     field_out  ...        10   \n",
       "4           5.40  Pérez, Cionel  592200   672335          walk  ...        10   \n",
       "\n",
       "   post_away_score  post_home_score  post_bat_score  post_fld_score  \\\n",
       "0                3               10               3              10   \n",
       "1                3               10               3              10   \n",
       "2                3               10               3              10   \n",
       "3                3               10               3              10   \n",
       "4                3               10               3              10   \n",
       "\n",
       "   if_fielding_alignment of_fielding_alignment spin_axis delta_home_win_exp  \\\n",
       "0               Standard              Standard     143.0              0.000   \n",
       "1              Strategic              Standard     337.0              0.000   \n",
       "2               Standard              Standard     135.0              0.000   \n",
       "3              Strategic              Standard     146.0              0.001   \n",
       "4               Standard              Standard     138.0             -0.001   \n",
       "\n",
       "  delta_run_exp  \n",
       "0        -0.470  \n",
       "1         0.268  \n",
       "2        -0.036  \n",
       "3        -0.305  \n",
       "4         0.227  \n",
       "\n",
       "[5 rows x 93 columns]"
      ]
     },
     "execution_count": 6,
     "metadata": {},
     "output_type": "execute_result"
    }
   ],
   "source": [
    "df.head()"
   ]
  },
  {
   "cell_type": "code",
   "execution_count": 7,
   "metadata": {},
   "outputs": [
    {
     "data": {
      "text/html": [
       "<div>\n",
       "<style scoped>\n",
       "    .dataframe tbody tr th:only-of-type {\n",
       "        vertical-align: middle;\n",
       "    }\n",
       "\n",
       "    .dataframe tbody tr th {\n",
       "        vertical-align: top;\n",
       "    }\n",
       "\n",
       "    .dataframe thead th {\n",
       "        text-align: right;\n",
       "    }\n",
       "</style>\n",
       "<table border=\"1\" class=\"dataframe\">\n",
       "  <thead>\n",
       "    <tr style=\"text-align: right;\">\n",
       "      <th></th>\n",
       "      <th>last_name</th>\n",
       "      <th>first_name</th>\n",
       "      <th>player_id</th>\n",
       "      <th>team_id</th>\n",
       "      <th>team</th>\n",
       "      <th>position</th>\n",
       "      <th>age</th>\n",
       "      <th>competitive_runs</th>\n",
       "      <th>bolts</th>\n",
       "      <th>hp_to_1b</th>\n",
       "      <th>sprint_speed</th>\n",
       "    </tr>\n",
       "  </thead>\n",
       "  <tbody>\n",
       "    <tr>\n",
       "      <th>0</th>\n",
       "      <td>De La Cruz</td>\n",
       "      <td>Elly</td>\n",
       "      <td>682829</td>\n",
       "      <td>113</td>\n",
       "      <td>CIN</td>\n",
       "      <td>3B</td>\n",
       "      <td>21</td>\n",
       "      <td>49</td>\n",
       "      <td>30.0</td>\n",
       "      <td>4.15</td>\n",
       "      <td>30.8</td>\n",
       "    </tr>\n",
       "    <tr>\n",
       "      <th>1</th>\n",
       "      <td>Witt Jr.</td>\n",
       "      <td>Bobby</td>\n",
       "      <td>677951</td>\n",
       "      <td>118</td>\n",
       "      <td>KC</td>\n",
       "      <td>SS</td>\n",
       "      <td>23</td>\n",
       "      <td>121</td>\n",
       "      <td>66.0</td>\n",
       "      <td>4.15</td>\n",
       "      <td>30.4</td>\n",
       "    </tr>\n",
       "    <tr>\n",
       "      <th>2</th>\n",
       "      <td>Thompson</td>\n",
       "      <td>Bubba</td>\n",
       "      <td>669352</td>\n",
       "      <td>140</td>\n",
       "      <td>TEX</td>\n",
       "      <td>LF</td>\n",
       "      <td>25</td>\n",
       "      <td>24</td>\n",
       "      <td>19.0</td>\n",
       "      <td>4.22</td>\n",
       "      <td>30.4</td>\n",
       "    </tr>\n",
       "    <tr>\n",
       "      <th>3</th>\n",
       "      <td>Turner</td>\n",
       "      <td>Trea</td>\n",
       "      <td>607208</td>\n",
       "      <td>143</td>\n",
       "      <td>PHI</td>\n",
       "      <td>SS</td>\n",
       "      <td>30</td>\n",
       "      <td>117</td>\n",
       "      <td>49.0</td>\n",
       "      <td>4.13</td>\n",
       "      <td>30.3</td>\n",
       "    </tr>\n",
       "    <tr>\n",
       "      <th>4</th>\n",
       "      <td>Carroll</td>\n",
       "      <td>Corbin</td>\n",
       "      <td>682998</td>\n",
       "      <td>109</td>\n",
       "      <td>AZ</td>\n",
       "      <td>LF</td>\n",
       "      <td>22</td>\n",
       "      <td>131</td>\n",
       "      <td>58.0</td>\n",
       "      <td>4.08</td>\n",
       "      <td>30.1</td>\n",
       "    </tr>\n",
       "  </tbody>\n",
       "</table>\n",
       "</div>"
      ],
      "text/plain": [
       "    last_name first_name  player_id  team_id team position  age  \\\n",
       "0  De La Cruz       Elly     682829      113  CIN       3B   21   \n",
       "1    Witt Jr.      Bobby     677951      118   KC       SS   23   \n",
       "2    Thompson      Bubba     669352      140  TEX       LF   25   \n",
       "3      Turner       Trea     607208      143  PHI       SS   30   \n",
       "4     Carroll     Corbin     682998      109   AZ       LF   22   \n",
       "\n",
       "   competitive_runs  bolts  hp_to_1b  sprint_speed  \n",
       "0                49   30.0      4.15          30.8  \n",
       "1               121   66.0      4.15          30.4  \n",
       "2                24   19.0      4.22          30.4  \n",
       "3               117   49.0      4.13          30.3  \n",
       "4               131   58.0      4.08          30.1  "
      ]
     },
     "execution_count": 7,
     "metadata": {},
     "output_type": "execute_result"
    }
   ],
   "source": [
    "sprint_speed = pb.statcast_sprint_speed(2023, min_opp=5)\n",
    "sprint_speed.head()"
   ]
  },
  {
   "cell_type": "code",
   "execution_count": 4,
   "metadata": {},
   "outputs": [],
   "source": [
    "import pandas as pd\n",
    "import os\n",
    "\n",
    "# read in the dataframes\n",
    "base_dir = \"C:/Users/wampl/sxwOBA\"\n",
    "leaders_2021 = pd.read_csv(os.path.join(base_dir, \"leaders\", \"spray_xwoba_2021.csv\"))\n",
    "leaders_2022 = pd.read_csv(os.path.join(base_dir, \"leaders\", \"spray_xwoba_2022.csv\"))\n",
    "leaders_2023 = pd.read_csv(os.path.join(base_dir, \"leaders\", \"spray_xwoba_2023.csv\"))\n",
    "\n",
    "# merge the dataframes on the 'batter' column\n",
    "merged_leaders = pd.merge(leaders_2021, leaders_2022, on='batter', suffixes=('_2021', '_2022'))\n",
    "merged_leaders = pd.merge(merged_leaders, leaders_2023, on='batter', suffixes=('', '_2023'))"
   ]
  },
  {
   "cell_type": "code",
   "execution_count": 5,
   "metadata": {},
   "outputs": [
    {
     "name": "stderr",
     "output_type": "stream",
     "text": [
      "C:\\Users\\wampl\\AppData\\Local\\Temp\\ipykernel_20336\\4171482807.py:1: FutureWarning: The default value of numeric_only in DataFrame.corr is deprecated. In a future version, it will default to False. Select only valid columns or specify the value of numeric_only to silence this warning.\n",
      "  merged_leaders.loc[(merged_leaders['PA_2021']>300) & (merged_leaders['PA_2022']>300)].corr()[['wOBA', 'wOBA_2022']]\n"
     ]
    },
    {
     "data": {
      "text/html": [
       "<div>\n",
       "<style scoped>\n",
       "    .dataframe tbody tr th:only-of-type {\n",
       "        vertical-align: middle;\n",
       "    }\n",
       "\n",
       "    .dataframe tbody tr th {\n",
       "        vertical-align: top;\n",
       "    }\n",
       "\n",
       "    .dataframe thead th {\n",
       "        text-align: right;\n",
       "    }\n",
       "</style>\n",
       "<table border=\"1\" class=\"dataframe\">\n",
       "  <thead>\n",
       "    <tr style=\"text-align: right;\">\n",
       "      <th></th>\n",
       "      <th>wOBA</th>\n",
       "      <th>wOBA_2022</th>\n",
       "    </tr>\n",
       "  </thead>\n",
       "  <tbody>\n",
       "    <tr>\n",
       "      <th>batter</th>\n",
       "      <td>0.108966</td>\n",
       "      <td>0.063766</td>\n",
       "    </tr>\n",
       "    <tr>\n",
       "      <th>PA_2021</th>\n",
       "      <td>0.167567</td>\n",
       "      <td>0.307540</td>\n",
       "    </tr>\n",
       "    <tr>\n",
       "      <th>wOBA_2021</th>\n",
       "      <td>0.306904</td>\n",
       "      <td>0.464917</td>\n",
       "    </tr>\n",
       "    <tr>\n",
       "      <th>xwOBA_2021</th>\n",
       "      <td>0.393755</td>\n",
       "      <td>0.521283</td>\n",
       "    </tr>\n",
       "    <tr>\n",
       "      <th>sxwOBA_2021</th>\n",
       "      <td>0.404682</td>\n",
       "      <td>0.527477</td>\n",
       "    </tr>\n",
       "    <tr>\n",
       "      <th>diff_2021</th>\n",
       "      <td>-0.021274</td>\n",
       "      <td>-0.054874</td>\n",
       "    </tr>\n",
       "    <tr>\n",
       "      <th>diff%_2021</th>\n",
       "      <td>-0.032209</td>\n",
       "      <td>-0.092631</td>\n",
       "    </tr>\n",
       "    <tr>\n",
       "      <th>BB%_2021</th>\n",
       "      <td>0.269205</td>\n",
       "      <td>0.177710</td>\n",
       "    </tr>\n",
       "    <tr>\n",
       "      <th>K%_2021</th>\n",
       "      <td>-0.123615</td>\n",
       "      <td>-0.109015</td>\n",
       "    </tr>\n",
       "    <tr>\n",
       "      <th>HR_2021</th>\n",
       "      <td>0.271092</td>\n",
       "      <td>0.419307</td>\n",
       "    </tr>\n",
       "    <tr>\n",
       "      <th>LA_2021</th>\n",
       "      <td>0.100741</td>\n",
       "      <td>0.002881</td>\n",
       "    </tr>\n",
       "    <tr>\n",
       "      <th>Barrels_2021</th>\n",
       "      <td>0.310644</td>\n",
       "      <td>0.490984</td>\n",
       "    </tr>\n",
       "    <tr>\n",
       "      <th>pulled_barrels_2021</th>\n",
       "      <td>0.227522</td>\n",
       "      <td>0.366172</td>\n",
       "    </tr>\n",
       "    <tr>\n",
       "      <th>year_2021</th>\n",
       "      <td>NaN</td>\n",
       "      <td>NaN</td>\n",
       "    </tr>\n",
       "    <tr>\n",
       "      <th>PA_2022</th>\n",
       "      <td>0.359423</td>\n",
       "      <td>0.563574</td>\n",
       "    </tr>\n",
       "    <tr>\n",
       "      <th>wOBA_2022</th>\n",
       "      <td>0.464888</td>\n",
       "      <td>1.000000</td>\n",
       "    </tr>\n",
       "    <tr>\n",
       "      <th>xwOBA_2022</th>\n",
       "      <td>0.484594</td>\n",
       "      <td>0.861940</td>\n",
       "    </tr>\n",
       "    <tr>\n",
       "      <th>sxwOBA_2022</th>\n",
       "      <td>0.513113</td>\n",
       "      <td>0.896255</td>\n",
       "    </tr>\n",
       "    <tr>\n",
       "      <th>diff_2022</th>\n",
       "      <td>0.116458</td>\n",
       "      <td>0.150543</td>\n",
       "    </tr>\n",
       "    <tr>\n",
       "      <th>diff%_2022</th>\n",
       "      <td>0.066337</td>\n",
       "      <td>0.051582</td>\n",
       "    </tr>\n",
       "    <tr>\n",
       "      <th>BB%_2022</th>\n",
       "      <td>0.289884</td>\n",
       "      <td>0.426952</td>\n",
       "    </tr>\n",
       "    <tr>\n",
       "      <th>K%_2022</th>\n",
       "      <td>-0.093414</td>\n",
       "      <td>-0.186902</td>\n",
       "    </tr>\n",
       "    <tr>\n",
       "      <th>HR_2022</th>\n",
       "      <td>0.395937</td>\n",
       "      <td>0.700287</td>\n",
       "    </tr>\n",
       "    <tr>\n",
       "      <th>LA_2022</th>\n",
       "      <td>0.149242</td>\n",
       "      <td>0.073727</td>\n",
       "    </tr>\n",
       "    <tr>\n",
       "      <th>Barrels_2022</th>\n",
       "      <td>0.424907</td>\n",
       "      <td>0.692879</td>\n",
       "    </tr>\n",
       "    <tr>\n",
       "      <th>pulled_barrels_2022</th>\n",
       "      <td>0.391186</td>\n",
       "      <td>0.615656</td>\n",
       "    </tr>\n",
       "    <tr>\n",
       "      <th>year_2022</th>\n",
       "      <td>NaN</td>\n",
       "      <td>NaN</td>\n",
       "    </tr>\n",
       "    <tr>\n",
       "      <th>PA</th>\n",
       "      <td>0.383186</td>\n",
       "      <td>0.515825</td>\n",
       "    </tr>\n",
       "    <tr>\n",
       "      <th>wOBA</th>\n",
       "      <td>1.000000</td>\n",
       "      <td>0.464888</td>\n",
       "    </tr>\n",
       "    <tr>\n",
       "      <th>xwOBA</th>\n",
       "      <td>0.866945</td>\n",
       "      <td>0.564482</td>\n",
       "    </tr>\n",
       "    <tr>\n",
       "      <th>sxwOBA</th>\n",
       "      <td>0.894827</td>\n",
       "      <td>0.522955</td>\n",
       "    </tr>\n",
       "    <tr>\n",
       "      <th>diff</th>\n",
       "      <td>0.064791</td>\n",
       "      <td>-0.164431</td>\n",
       "    </tr>\n",
       "    <tr>\n",
       "      <th>diff%</th>\n",
       "      <td>-0.011626</td>\n",
       "      <td>-0.170615</td>\n",
       "    </tr>\n",
       "    <tr>\n",
       "      <th>BB%</th>\n",
       "      <td>0.317476</td>\n",
       "      <td>0.334463</td>\n",
       "    </tr>\n",
       "    <tr>\n",
       "      <th>K%</th>\n",
       "      <td>-0.203520</td>\n",
       "      <td>-0.202461</td>\n",
       "    </tr>\n",
       "    <tr>\n",
       "      <th>HR</th>\n",
       "      <td>0.583034</td>\n",
       "      <td>0.558187</td>\n",
       "    </tr>\n",
       "    <tr>\n",
       "      <th>LA</th>\n",
       "      <td>0.205991</td>\n",
       "      <td>0.093890</td>\n",
       "    </tr>\n",
       "    <tr>\n",
       "      <th>Barrels</th>\n",
       "      <td>0.580827</td>\n",
       "      <td>0.592126</td>\n",
       "    </tr>\n",
       "    <tr>\n",
       "      <th>pulled_barrels</th>\n",
       "      <td>0.534838</td>\n",
       "      <td>0.507489</td>\n",
       "    </tr>\n",
       "    <tr>\n",
       "      <th>year</th>\n",
       "      <td>NaN</td>\n",
       "      <td>NaN</td>\n",
       "    </tr>\n",
       "  </tbody>\n",
       "</table>\n",
       "</div>"
      ],
      "text/plain": [
       "                         wOBA  wOBA_2022\n",
       "batter               0.108966   0.063766\n",
       "PA_2021              0.167567   0.307540\n",
       "wOBA_2021            0.306904   0.464917\n",
       "xwOBA_2021           0.393755   0.521283\n",
       "sxwOBA_2021          0.404682   0.527477\n",
       "diff_2021           -0.021274  -0.054874\n",
       "diff%_2021          -0.032209  -0.092631\n",
       "BB%_2021             0.269205   0.177710\n",
       "K%_2021             -0.123615  -0.109015\n",
       "HR_2021              0.271092   0.419307\n",
       "LA_2021              0.100741   0.002881\n",
       "Barrels_2021         0.310644   0.490984\n",
       "pulled_barrels_2021  0.227522   0.366172\n",
       "year_2021                 NaN        NaN\n",
       "PA_2022              0.359423   0.563574\n",
       "wOBA_2022            0.464888   1.000000\n",
       "xwOBA_2022           0.484594   0.861940\n",
       "sxwOBA_2022          0.513113   0.896255\n",
       "diff_2022            0.116458   0.150543\n",
       "diff%_2022           0.066337   0.051582\n",
       "BB%_2022             0.289884   0.426952\n",
       "K%_2022             -0.093414  -0.186902\n",
       "HR_2022              0.395937   0.700287\n",
       "LA_2022              0.149242   0.073727\n",
       "Barrels_2022         0.424907   0.692879\n",
       "pulled_barrels_2022  0.391186   0.615656\n",
       "year_2022                 NaN        NaN\n",
       "PA                   0.383186   0.515825\n",
       "wOBA                 1.000000   0.464888\n",
       "xwOBA                0.866945   0.564482\n",
       "sxwOBA               0.894827   0.522955\n",
       "diff                 0.064791  -0.164431\n",
       "diff%               -0.011626  -0.170615\n",
       "BB%                  0.317476   0.334463\n",
       "K%                  -0.203520  -0.202461\n",
       "HR                   0.583034   0.558187\n",
       "LA                   0.205991   0.093890\n",
       "Barrels              0.580827   0.592126\n",
       "pulled_barrels       0.534838   0.507489\n",
       "year                      NaN        NaN"
      ]
     },
     "execution_count": 5,
     "metadata": {},
     "output_type": "execute_result"
    }
   ],
   "source": [
    "merged_leaders.loc[(merged_leaders['PA_2021']>300) & (merged_leaders['PA_2022']>300)].corr()[['wOBA', 'wOBA_2022']]\n"
   ]
  },
  {
   "cell_type": "code",
   "execution_count": 10,
   "metadata": {},
   "outputs": [],
   "source": [
    "df = merged_leaders[['wOBA_2021', 'wOBA_2022', 'wOBA', 'xwOBA_2021', 'xwOBA_2022', 'xwOBA', 'sxwOBA_2021', 'sxwOBA_2022', 'sxwOBA']]"
   ]
  },
  {
   "cell_type": "code",
   "execution_count": 11,
   "metadata": {},
   "outputs": [],
   "source": [
    "import plotly.express as px\n",
    "merged_leaders['weighted_woba_2022_2023'] = ((merged_leaders['wOBA_2022']*merged_leaders['PA_2022'])+(merged_leaders['wOBA']*merged_leaders['PA'])) / (merged_leaders['PA_2022'] + merged_leaders['PA'])\n",
    "merged_leaders = merged_leaders.round(3)"
   ]
  },
  {
   "cell_type": "code",
   "execution_count": 12,
   "metadata": {},
   "outputs": [
    {
     "data": {
      "application/vnd.plotly.v1+json": {
       "config": {
        "plotlyServerURL": "https://plotly.com"
       },
       "data": [
        {
         "customdata": [
          [
           "Miguel Cabrera",
           526
          ],
          [
           "Nelson Cruz",
           584
          ],
          [
           "David Peralta",
           538
          ],
          [
           "Evan Longoria",
           291
          ],
          [
           "Charlie Blackmon",
           582
          ],
          [
           "Martin Maldonado",
           426
          ],
          [
           "Donovan Solano",
           344
          ],
          [
           "Andrew McCutchen",
           574
          ],
          [
           "Justin Turner",
           612
          ],
          [
           "Joey Votto",
           533
          ],
          [
           "Elvis Andrus",
           541
          ],
          [
           "Carlos Santana",
           659
          ],
          [
           "Brandon Belt",
           381
          ],
          [
           "Yuli Gurriel",
           605
          ],
          [
           "Miguel Rojas",
           539
          ],
          [
           "Eduardo Escobar",
           599
          ],
          [
           "Ehire Adrianza",
           209
          ],
          [
           "Tommy Pham",
           561
          ],
          [
           "J.D. Martinez",
           634
          ],
          [
           "Paul Goldschmidt",
           679
          ],
          [
           "Sandy Leon",
           220
          ],
          [
           "Jose Altuve",
           678
          ],
          [
           "Jean Segura",
           567
          ],
          [
           "Starling Marte",
           526
          ],
          [
           "Travis d'Arnaud",
           229
          ],
          [
           "Josh Donaldson",
           543
          ],
          [
           "Freddie Freeman",
           695
          ],
          [
           "Yasmani Grandal",
           375
          ],
          [
           "Jason Heyward",
           353
          ],
          [
           "DJ LeMahieu",
           679
          ],
          [
           "Mike Moustakas",
           206
          ],
          [
           "Anthony Rizzo",
           576
          ],
          [
           "Giancarlo Stanton",
           579
          ],
          [
           "Salvador Perez",
           665
          ],
          [
           "Wilmer Flores",
           436
          ],
          [
           "Avisail Garcia",
           515
          ],
          [
           "Marcell Ozuna",
           208
          ],
          [
           "Jesus Aguilar",
           510
          ],
          [
           "Jon Berti",
           271
          ],
          [
           "Brandon Crawford",
           549
          ],
          [
           "C.J. Cron",
           547
          ],
          [
           "Yan Gomes",
           375
          ],
          [
           "Robbie Grossman",
           671
          ],
          [
           "Josh Harrison",
           558
          ],
          [
           "Kyle Higashioka",
           211
          ],
          [
           "Eric Hosmer",
           565
          ],
          [
           "James McCann",
           412
          ],
          [
           "Brad Miller",
           377
          ],
          [
           "Anthony Rendon",
           249
          ],
          [
           "Marcus Semien",
           724
          ],
          [
           "George Springer",
           342
          ],
          [
           "Christian Vazquez",
           498
          ],
          [
           "Kolten Wong",
           492
          ],
          [
           "Randal Grichuk",
           545
          ],
          [
           "Bryce Harper",
           599
          ],
          [
           "Jose Abreu",
           659
          ],
          [
           "Elias Diaz",
           371
          ],
          [
           "Omar Narvaez",
           445
          ],
          [
           "Eugenio Suarez",
           574
          ],
          [
           "Gio Urshela",
           442
          ],
          [
           "Jonathan Schoop",
           674
          ],
          [
           "Nolan Arenado",
           653
          ],
          [
           "Tucker Barnhart",
           388
          ],
          [
           "Kyle Farmer",
           529
          ],
          [
           "Mitch Haniger",
           691
          ],
          [
           "Enrique Hernandez",
           585
          ],
          [
           "Max Muncy",
           592
          ],
          [
           "Wil Myers",
           500
          ],
          [
           "A.J. Pollock",
           422
          ],
          [
           "Michael A. Taylor",
           528
          ],
          [
           "Luke Voit",
           241
          ],
          [
           "Christian Walker",
           445
          ],
          [
           "Mike Zunino",
           375
          ],
          [
           "Matt Carpenter",
           249
          ],
          [
           "Corey Dickerson",
           365
          ],
          [
           "Darin Ruf",
           312
          ],
          [
           "Mike Yastrzemski",
           532
          ],
          [
           "Willson Contreras",
           483
          ],
          [
           "Kris Bryant",
           586
          ],
          [
           "Mark Canha",
           625
          ],
          [
           "Curt Casali",
           231
          ],
          [
           "Nick Castellanos",
           585
          ],
          [
           "Aaron Judge",
           633
          ],
          [
           "Manny Machado",
           640
          ],
          [
           "Joc Pederson",
           481
          ],
          [
           "J.T. Realmuto",
           537
          ],
          [
           "Hunter Renfroe",
           572
          ],
          [
           "Eddie Rosario",
           412
          ],
          [
           "Christian Yelich",
           475
          ],
          [
           "Whit Merrifield",
           720
          ],
          [
           "Xander Bogaerts",
           603
          ],
          [
           "Hanser Alberto",
           255
          ],
          [
           "Jorge Polanco",
           644
          ],
          [
           "Adam Duvall",
           555
          ],
          [
           "Kevin Kiermaier",
           390
          ],
          [
           "Jorge Alfaro",
           311
          ],
          [
           "Jurickson Profar",
           412
          ],
          [
           "Javier Baez",
           547
          ],
          [
           "Austin Hedges",
           312
          ],
          [
           "Francisco Lindor",
           524
          ],
          [
           "Rougned Odor",
           361
          ],
          [
           "Austin Slater",
           306
          ],
          [
           "Daniel Vogelbach",
           258
          ],
          [
           "Gary Sanchez",
           440
          ],
          [
           "Max Kepler",
           490
          ],
          [
           "Ji-Man Choi",
           305
          ],
          [
           "Jackie Bradley Jr.",
           428
          ],
          [
           "Tommy La Stella",
           242
          ],
          [
           "Jeimer Candelario",
           626
          ],
          [
           "Yonathan Daza",
           331
          ],
          [
           "Ramon Urias",
           296
          ],
          [
           "Nick Ahmed",
           473
          ],
          [
           "Brian Anderson",
           264
          ],
          [
           "Austin Barnes",
           225
          ],
          [
           "Josh Bell",
           568
          ],
          [
           "Mookie Betts",
           550
          ],
          [
           "Victor Caratini",
           356
          ],
          [
           "J.D. Davis",
           211
          ],
          [
           "Michael Perez",
           231
          ],
          [
           "Harold Castro",
           339
          ],
          [
           "Raimel Tapia",
           533
          ],
          [
           "Teoscar Hernandez",
           595
          ],
          [
           "Ketel Marte",
           374
          ],
          [
           "Eric Haase",
           381
          ],
          [
           "Brandon Nimmo",
           386
          ],
          [
           "Jace Peterson",
           302
          ],
          [
           "Trea Turner",
           646
          ],
          [
           "Matt Beaty",
           234
          ],
          [
           "Kevin Pillar",
           347
          ],
          [
           "Jacob Stallings",
           427
          ],
          [
           "Jose Ramirez",
           636
          ],
          [
           "Alex Bregman",
           400
          ],
          [
           "Joey Gallo",
           616
          ],
          [
           "Carson Kelly",
           359
          ],
          [
           "Corey Seager",
           409
          ],
          [
           "Jesse Winker",
           485
          ],
          [
           "Tom Murphy",
           325
          ],
          [
           "Franmil Reyes",
           466
          ],
          [
           "Luis Torrens",
           378
          ],
          [
           "Dansby Swanson",
           653
          ],
          [
           "Kevin Newman",
           554
          ],
          [
           "Chris Taylor",
           582
          ],
          [
           "Carlos Correa",
           640
          ],
          [
           "Brett Phillips",
           292
          ],
          [
           "Tyrone Taylor",
           271
          ],
          [
           "Byron Buxton",
           254
          ],
          [
           "Taylor Ward",
           237
          ],
          [
           "Patrick Wisdom",
           375
          ],
          [
           "Joey Wendle",
           501
          ],
          [
           "Matt Olson",
           673
          ],
          [
           "Matt Duffy",
           322
          ],
          [
           "Manuel Margot",
           464
          ],
          [
           "Jorge Mateo",
           209
          ],
          [
           "Harold Ramirez",
           361
          ],
          [
           "Anthony Santander",
           438
          ],
          [
           "Pete Alonso",
           637
          ],
          [
           "Cavan Biggio",
           294
          ],
          [
           "Adam Frazier",
           639
          ],
          [
           "Jose Trevino",
           302
          ],
          [
           "Nick Gordon",
           216
          ],
          [
           "Reese McGuire",
           217
          ],
          [
           "Jorge Soler",
           602
          ],
          [
           "Edmundo Sosa",
           326
          ],
          [
           "Andy Ibanez",
           272
          ],
          [
           "Jake Cronenworth",
           643
          ],
          [
           "Jackson Frazier",
           218
          ],
          [
           "Austin Meadows",
           591
          ],
          [
           "Oscar Mercado",
           238
          ],
          [
           "Tim Anderson",
           551
          ],
          [
           "Cody Bellinger",
           350
          ],
          [
           "Willie Calhoun",
           284
          ],
          [
           "J.P. Crawford",
           687
          ],
          [
           "Hunter Dozier",
           543
          ],
          [
           "Jake Fraley",
           265
          ],
          [
           "Mitch Garver",
           243
          ],
          [
           "Garrett Hampson",
           494
          ],
          [
           "Jonah Heim",
           285
          ],
          [
           "Trey Mancini",
           616
          ],
          [
           "Billy McKinney",
           300
          ],
          [
           "Ryan McMahon",
           596
          ],
          [
           "Tyler O'Neill",
           537
          ],
          [
           "Dominic Smith",
           493
          ],
          [
           "Rowdy Tellez",
           325
          ],
          [
           "Eli White",
           220
          ],
          [
           "Francisco Mejia",
           277
          ],
          [
           "Amed Rosario",
           588
          ],
          [
           "Willy Adames",
           555
          ],
          [
           "Andrew Benintendi",
           538
          ],
          [
           "Garrett Cooper",
           250
          ],
          [
           "Danny Jansen",
           205
          ],
          [
           "Tony Kemp",
           397
          ],
          [
           "Isiah Kiner-Falefa",
           677
          ],
          [
           "Jeff McNeil",
           426
          ],
          [
           "Yu Chang",
           251
          ],
          [
           "Ozzie Albies",
           686
          ],
          [
           "Victor Robles",
           369
          ],
          [
           "Rafael Devers",
           664
          ],
          [
           "Josh Naylor",
           250
          ],
          [
           "Abraham Toro",
           375
          ],
          [
           "Aledmys Diaz",
           319
          ],
          [
           "Luis Urias",
           570
          ],
          [
           "Luis Arraez",
           479
          ],
          [
           "Eloy Jimenez",
           231
          ],
          [
           "Gleyber Torres",
           516
          ],
          [
           "Willi Castro",
           450
          ],
          [
           "Yandy Diaz",
           541
          ],
          [
           "Bryan De La Cruz",
           219
          ],
          [
           "Matt Chapman",
           622
          ],
          [
           "Sam Hilliard",
           238
          ],
          [
           "Connor Joe",
           211
          ],
          [
           "Cedric Mullins II",
           675
          ],
          [
           "Ryan O'Hearn",
           254
          ],
          [
           "Kyle Schwarber",
           471
          ],
          [
           "Pavin Smith",
           545
          ],
          [
           "Lane Thomas",
           264
          ],
          [
           "Alex Verdugo",
           604
          ],
          [
           "Paul DeJong",
           402
          ],
          [
           "Ramon Laureano",
           378
          ],
          [
           "Yoan Moncada",
           616
          ],
          [
           "Shohei Ohtani",
           639
          ],
          [
           "Ronald Acuna Jr.",
           360
          ],
          [
           "Jesus Sanchez",
           251
          ],
          [
           "Daulton Varsho",
           315
          ],
          [
           "Austin Riley",
           662
          ],
          [
           "Nick Madrigal",
           215
          ],
          [
           "Trevor Larnach",
           301
          ],
          [
           "Ryan Mountcastle",
           586
          ],
          [
           "Ke'Bryan Hayes",
           396
          ],
          [
           "Kyle Tucker",
           567
          ],
          [
           "Jonathan India",
           631
          ],
          [
           "Trent Grisham",
           527
          ],
          [
           "Tyler Stephenson",
           402
          ],
          [
           "Nathaniel Lowe",
           642
          ],
          [
           "Ian Happ",
           535
          ],
          [
           "Ty France",
           650
          ],
          [
           "Brandon Lowe",
           615
          ],
          [
           "Harrison Bader",
           401
          ],
          [
           "David Fletcher",
           665
          ],
          [
           "Dylan Moore",
           377
          ],
          [
           "Myles Straw",
           638
          ],
          [
           "Alec Bohm",
           417
          ],
          [
           "LaMonte Wade Jr.",
           381
          ],
          [
           "Seth Brown",
           307
          ],
          [
           "Jared Walsh",
           585
          ],
          [
           "Vladimir Guerrero Jr.",
           698
          ],
          [
           "Juan Soto",
           654
          ],
          [
           "Jazz Chisholm Jr.",
           507
          ],
          [
           "Andres Gimenez",
           210
          ],
          [
           "Alex Kirilloff",
           231
          ],
          [
           "Bo Bichette",
           690
          ],
          [
           "Dylan Carlson",
           619
          ],
          [
           "Bobby Dalbec",
           453
          ],
          [
           "Adolis Garcia",
           622
          ],
          [
           "Lourdes Gurriel Jr.",
           541
          ],
          [
           "Brent Rooker",
           213
          ],
          [
           "Randy Arozarena",
           604
          ],
          [
           "Akil Baddoo",
           461
          ],
          [
           "Bryan Reynolds",
           646
          ],
          [
           "Josh Rojas",
           550
          ],
          [
           "Brandon Marsh",
           260
          ],
          [
           "Sean Murphy",
           448
          ],
          [
           "Tommy Edman",
           691
          ],
          [
           "Will Smith",
           501
          ],
          [
           "Santiago Espinal",
           246
          ],
          [
           "Austin Hays",
           529
          ],
          [
           "Nicky Lopez",
           565
          ],
          [
           "Yordan Alvarez",
           598
          ],
          [
           "Luis Garcia",
           247
          ],
          [
           "Jarred Kelenic",
           377
          ],
          [
           "Luis Robert",
           296
          ],
          [
           "Ha-seong Kim",
           298
          ],
          [
           "Chas McCormick",
           320
          ],
          [
           "Wander Franco",
           308
          ],
          [
           "Ryan Jeffers",
           293
          ],
          [
           "Owen Miller",
           202
          ],
          [
           "Andrew Vaughn",
           469
          ]
         ],
         "hovertemplate": "xwOBA_2021=%{x}<br>sxwOBA_2021=%{y}<br>Name=%{customdata[0]}<br>PA_2021=%{customdata[1]}<br>weighted_woba_2022_2023=%{marker.color}<extra></extra>",
         "legendgroup": "",
         "marker": {
          "color": [
           0.279,
           0.293,
           0.312,
           0.335,
           0.323,
           0.259,
           0.33,
           0.327,
           0.346,
           0.321,
           0.293,
           0.305,
           0.321,
           0.291,
           0.262,
           0.312,
           0.208,
           0.311,
           0.347,
           0.403,
           0.222,
           0.388,
           0.285,
           0.332,
           0.348,
           0.297,
           0.395,
           0.282,
           0.299,
           0.317,
           0.305,
           0.349,
           0.316,
           0.325,
           0.317,
           0.258,
           0.316,
           0.287,
           0.295,
           0.288,
           0.329,
           0.289,
           0.287,
           0.295,
           0.275,
           0.305,
           0.245,
           0.267,
           0.314,
           0.327,
           0.342,
           0.3,
           0.308,
           0.323,
           0.361,
           0.332,
           0.312,
           0.267,
           0.328,
           0.325,
           0.244,
           0.365,
           0.248,
           0.307,
           0.306,
           0.28,
           0.325,
           0.289,
           0.285,
           0.292,
           0.304,
           0.353,
           0.242,
           0.373,
           0.303,
           0.291,
           0.318,
           0.336,
           0.344,
           0.336,
           0.275,
           0.326,
           0.454,
           0.36,
           0.374,
           0.346,
           0.339,
           0.304,
           0.335,
           0.303,
           0.35,
           0.274,
           0.33,
           0.32,
           0.31,
           0.284,
           0.316,
           0.281,
           0.217,
           0.336,
           0.284,
           0.355,
           0.336,
           0.294,
           0.298,
           0.313,
           0.235,
           0.274,
           0.304,
           0.317,
           0.315,
           0.278,
           0.3,
           0.27,
           0.334,
           0.372,
           0.291,
           0.345,
           0.245,
           0.292,
           0.29,
           0.336,
           0.341,
           0.3,
           0.352,
           0.296,
           0.334,
           0.192,
           0.314,
           0.26,
           0.362,
           0.348,
           0.301,
           0.271,
           0.355,
           0.301,
           0.336,
           0.274,
           0.264,
           0.338,
           0.305,
           0.301,
           0.342,
           0.211,
           0.293,
           0.342,
           0.342,
           0.318,
           0.29,
           0.354,
           0.294,
           0.309,
           0.278,
           0.336,
           0.343,
           0.364,
           0.3,
           0.28,
           0.281,
           0.302,
           0.296,
           0.338,
           0.276,
           0.276,
           0.311,
           0.274,
           0.297,
           0.277,
           0.293,
           0.295,
           0.291,
           0.314,
           0.29,
           0.356,
           0.313,
           0.279,
           0.322,
           0.309,
           0.269,
           0.336,
           0.3,
           0.283,
           0.319,
           0.249,
           0.281,
           0.303,
           0.314,
           0.331,
           0.32,
           0.343,
           0.279,
           0.283,
           0.343,
           0.263,
           0.326,
           0.279,
           0.361,
           0.333,
           0.255,
           0.28,
           0.321,
           0.37,
           0.349,
           0.326,
           0.292,
           0.377,
           0.32,
           0.337,
           0.271,
           0.32,
           0.326,
           0.322,
           0.346,
           0.296,
           0.33,
           0.334,
           0.279,
           0.289,
           0.277,
           0.387,
           0.366,
           0.31,
           0.314,
           0.362,
           0.277,
           0.307,
           0.309,
           0.295,
           0.346,
           0.325,
           0.288,
           0.329,
           0.362,
           0.346,
           0.336,
           0.306,
           0.295,
           0.273,
           0.331,
           0.263,
           0.31,
           0.346,
           0.31,
           0.27,
           0.351,
           0.384,
           0.34,
           0.344,
           0.313,
           0.354,
           0.309,
           0.285,
           0.332,
           0.335,
           0.33,
           0.354,
           0.277,
           0.351,
           0.31,
           0.314,
           0.349,
           0.316,
           0.363,
           0.301,
           0.332,
           0.26,
           0.422,
           0.305,
           0.298,
           0.347,
           0.317,
           0.331,
           0.335,
           0.313,
           0.296,
           0.329
          ],
          "coloraxis": "coloraxis",
          "symbol": "circle"
         },
         "mode": "markers",
         "name": "",
         "orientation": "v",
         "showlegend": false,
         "type": "scatter",
         "x": [
          0.315,
          0.363,
          0.293,
          0.351,
          0.359,
          0.267,
          0.335,
          0.344,
          0.359,
          0.406,
          0.308,
          0.335,
          0.374,
          0.326,
          0.292,
          0.328,
          0.314,
          0.35,
          0.374,
          0.397,
          0.216,
          0.332,
          0.319,
          0.347,
          0.312,
          0.388,
          0.416,
          0.412,
          0.294,
          0.34,
          0.276,
          0.347,
          0.363,
          0.374,
          0.312,
          0.366,
          0.347,
          0.334,
          0.302,
          0.356,
          0.364,
          0.341,
          0.334,
          0.333,
          0.343,
          0.326,
          0.284,
          0.345,
          0.303,
          0.336,
          0.361,
          0.276,
          0.308,
          0.297,
          0.43,
          0.349,
          0.318,
          0.304,
          0.326,
          0.304,
          0.311,
          0.311,
          0.265,
          0.302,
          0.353,
          0.346,
          0.407,
          0.295,
          0.359,
          0.3,
          0.359,
          0.311,
          0.354,
          0.34,
          0.295,
          0.381,
          0.318,
          0.346,
          0.346,
          0.332,
          0.28,
          0.374,
          0.418,
          0.376,
          0.333,
          0.329,
          0.354,
          0.319,
          0.337,
          0.301,
          0.359,
          0.294,
          0.348,
          0.33,
          0.283,
          0.292,
          0.302,
          0.325,
          0.228,
          0.344,
          0.29,
          0.335,
          0.337,
          0.336,
          0.347,
          0.342,
          0.253,
          0.342,
          0.356,
          0.286,
          0.344,
          0.249,
          0.299,
          0.274,
          0.367,
          0.357,
          0.29,
          0.338,
          0.244,
          0.315,
          0.281,
          0.37,
          0.372,
          0.322,
          0.35,
          0.319,
          0.364,
          0.308,
          0.281,
          0.314,
          0.376,
          0.332,
          0.354,
          0.346,
          0.392,
          0.39,
          0.292,
          0.353,
          0.318,
          0.332,
          0.275,
          0.329,
          0.373,
          0.284,
          0.314,
          0.407,
          0.344,
          0.321,
          0.286,
          0.378,
          0.325,
          0.318,
          0.287,
          0.308,
          0.328,
          0.377,
          0.285,
          0.324,
          0.285,
          0.318,
          0.281,
          0.359,
          0.326,
          0.32,
          0.344,
          0.313,
          0.326,
          0.279,
          0.329,
          0.281,
          0.323,
          0.298,
          0.299,
          0.335,
          0.386,
          0.291,
          0.285,
          0.341,
          0.291,
          0.325,
          0.392,
          0.325,
          0.34,
          0.249,
          0.285,
          0.3,
          0.325,
          0.331,
          0.362,
          0.333,
          0.321,
          0.292,
          0.315,
          0.282,
          0.329,
          0.288,
          0.394,
          0.311,
          0.323,
          0.319,
          0.333,
          0.337,
          0.325,
          0.331,
          0.291,
          0.332,
          0.301,
          0.321,
          0.311,
          0.37,
          0.344,
          0.294,
          0.399,
          0.312,
          0.322,
          0.34,
          0.312,
          0.335,
          0.353,
          0.408,
          0.429,
          0.333,
          0.323,
          0.366,
          0.289,
          0.306,
          0.326,
          0.299,
          0.396,
          0.352,
          0.309,
          0.324,
          0.323,
          0.317,
          0.346,
          0.36,
          0.295,
          0.28,
          0.288,
          0.303,
          0.313,
          0.347,
          0.318,
          0.326,
          0.417,
          0.429,
          0.307,
          0.268,
          0.37,
          0.355,
          0.322,
          0.344,
          0.299,
          0.339,
          0.341,
          0.304,
          0.309,
          0.386,
          0.295,
          0.324,
          0.337,
          0.316,
          0.364,
          0.307,
          0.316,
          0.283,
          0.389,
          0.279,
          0.314,
          0.382,
          0.265,
          0.311,
          0.329,
          0.299,
          0.267,
          0.332
         ],
         "xaxis": "x",
         "y": [
          0.316,
          0.366,
          0.32,
          0.363,
          0.356,
          0.266,
          0.343,
          0.346,
          0.352,
          0.402,
          0.31,
          0.314,
          0.382,
          0.35,
          0.309,
          0.336,
          0.327,
          0.347,
          0.364,
          0.396,
          0.226,
          0.363,
          0.339,
          0.362,
          0.309,
          0.37,
          0.418,
          0.409,
          0.29,
          0.355,
          0.278,
          0.36,
          0.369,
          0.374,
          0.332,
          0.373,
          0.335,
          0.343,
          0.299,
          0.372,
          0.372,
          0.336,
          0.344,
          0.333,
          0.306,
          0.338,
          0.28,
          0.36,
          0.321,
          0.352,
          0.371,
          0.292,
          0.317,
          0.309,
          0.429,
          0.363,
          0.325,
          0.317,
          0.316,
          0.302,
          0.327,
          0.327,
          0.29,
          0.31,
          0.361,
          0.335,
          0.392,
          0.311,
          0.37,
          0.298,
          0.348,
          0.315,
          0.368,
          0.324,
          0.31,
          0.393,
          0.337,
          0.358,
          0.344,
          0.339,
          0.284,
          0.378,
          0.415,
          0.37,
          0.324,
          0.357,
          0.361,
          0.311,
          0.346,
          0.316,
          0.369,
          0.295,
          0.362,
          0.335,
          0.305,
          0.303,
          0.305,
          0.341,
          0.231,
          0.348,
          0.295,
          0.356,
          0.355,
          0.325,
          0.345,
          0.339,
          0.252,
          0.327,
          0.368,
          0.314,
          0.354,
          0.27,
          0.286,
          0.276,
          0.374,
          0.362,
          0.297,
          0.339,
          0.236,
          0.316,
          0.314,
          0.392,
          0.377,
          0.325,
          0.374,
          0.314,
          0.39,
          0.322,
          0.298,
          0.329,
          0.397,
          0.327,
          0.358,
          0.342,
          0.384,
          0.401,
          0.291,
          0.359,
          0.321,
          0.336,
          0.29,
          0.34,
          0.386,
          0.294,
          0.328,
          0.413,
          0.351,
          0.33,
          0.308,
          0.403,
          0.337,
          0.328,
          0.289,
          0.333,
          0.325,
          0.374,
          0.308,
          0.342,
          0.273,
          0.315,
          0.29,
          0.356,
          0.336,
          0.342,
          0.37,
          0.301,
          0.335,
          0.318,
          0.337,
          0.286,
          0.316,
          0.314,
          0.304,
          0.351,
          0.375,
          0.294,
          0.296,
          0.342,
          0.311,
          0.331,
          0.397,
          0.325,
          0.331,
          0.27,
          0.296,
          0.327,
          0.334,
          0.338,
          0.371,
          0.366,
          0.34,
          0.319,
          0.318,
          0.299,
          0.342,
          0.293,
          0.4,
          0.323,
          0.332,
          0.312,
          0.339,
          0.34,
          0.329,
          0.33,
          0.302,
          0.346,
          0.332,
          0.328,
          0.325,
          0.368,
          0.377,
          0.3,
          0.393,
          0.32,
          0.321,
          0.35,
          0.314,
          0.337,
          0.354,
          0.423,
          0.415,
          0.349,
          0.335,
          0.373,
          0.31,
          0.307,
          0.333,
          0.307,
          0.396,
          0.367,
          0.331,
          0.331,
          0.345,
          0.325,
          0.348,
          0.374,
          0.328,
          0.308,
          0.296,
          0.315,
          0.324,
          0.347,
          0.322,
          0.343,
          0.432,
          0.44,
          0.321,
          0.283,
          0.336,
          0.38,
          0.334,
          0.347,
          0.312,
          0.346,
          0.332,
          0.323,
          0.334,
          0.397,
          0.317,
          0.327,
          0.334,
          0.338,
          0.373,
          0.335,
          0.322,
          0.305,
          0.382,
          0.29,
          0.309,
          0.383,
          0.288,
          0.329,
          0.345,
          0.307,
          0.26,
          0.321
         ],
         "yaxis": "y"
        }
       ],
       "layout": {
        "coloraxis": {
         "colorbar": {
          "title": {
           "text": "weighted_woba_2022_2023"
          }
         },
         "colorscale": [
          [
           0,
           "#0d0887"
          ],
          [
           0.1111111111111111,
           "#46039f"
          ],
          [
           0.2222222222222222,
           "#7201a8"
          ],
          [
           0.3333333333333333,
           "#9c179e"
          ],
          [
           0.4444444444444444,
           "#bd3786"
          ],
          [
           0.5555555555555556,
           "#d8576b"
          ],
          [
           0.6666666666666666,
           "#ed7953"
          ],
          [
           0.7777777777777778,
           "#fb9f3a"
          ],
          [
           0.8888888888888888,
           "#fdca26"
          ],
          [
           1,
           "#f0f921"
          ]
         ]
        },
        "legend": {
         "tracegroupgap": 0
        },
        "margin": {
         "t": 60
        },
        "template": {
         "data": {
          "bar": [
           {
            "error_x": {
             "color": "#2a3f5f"
            },
            "error_y": {
             "color": "#2a3f5f"
            },
            "marker": {
             "line": {
              "color": "#E5ECF6",
              "width": 0.5
             },
             "pattern": {
              "fillmode": "overlay",
              "size": 10,
              "solidity": 0.2
             }
            },
            "type": "bar"
           }
          ],
          "barpolar": [
           {
            "marker": {
             "line": {
              "color": "#E5ECF6",
              "width": 0.5
             },
             "pattern": {
              "fillmode": "overlay",
              "size": 10,
              "solidity": 0.2
             }
            },
            "type": "barpolar"
           }
          ],
          "carpet": [
           {
            "aaxis": {
             "endlinecolor": "#2a3f5f",
             "gridcolor": "white",
             "linecolor": "white",
             "minorgridcolor": "white",
             "startlinecolor": "#2a3f5f"
            },
            "baxis": {
             "endlinecolor": "#2a3f5f",
             "gridcolor": "white",
             "linecolor": "white",
             "minorgridcolor": "white",
             "startlinecolor": "#2a3f5f"
            },
            "type": "carpet"
           }
          ],
          "choropleth": [
           {
            "colorbar": {
             "outlinewidth": 0,
             "ticks": ""
            },
            "type": "choropleth"
           }
          ],
          "contour": [
           {
            "colorbar": {
             "outlinewidth": 0,
             "ticks": ""
            },
            "colorscale": [
             [
              0,
              "#0d0887"
             ],
             [
              0.1111111111111111,
              "#46039f"
             ],
             [
              0.2222222222222222,
              "#7201a8"
             ],
             [
              0.3333333333333333,
              "#9c179e"
             ],
             [
              0.4444444444444444,
              "#bd3786"
             ],
             [
              0.5555555555555556,
              "#d8576b"
             ],
             [
              0.6666666666666666,
              "#ed7953"
             ],
             [
              0.7777777777777778,
              "#fb9f3a"
             ],
             [
              0.8888888888888888,
              "#fdca26"
             ],
             [
              1,
              "#f0f921"
             ]
            ],
            "type": "contour"
           }
          ],
          "contourcarpet": [
           {
            "colorbar": {
             "outlinewidth": 0,
             "ticks": ""
            },
            "type": "contourcarpet"
           }
          ],
          "heatmap": [
           {
            "colorbar": {
             "outlinewidth": 0,
             "ticks": ""
            },
            "colorscale": [
             [
              0,
              "#0d0887"
             ],
             [
              0.1111111111111111,
              "#46039f"
             ],
             [
              0.2222222222222222,
              "#7201a8"
             ],
             [
              0.3333333333333333,
              "#9c179e"
             ],
             [
              0.4444444444444444,
              "#bd3786"
             ],
             [
              0.5555555555555556,
              "#d8576b"
             ],
             [
              0.6666666666666666,
              "#ed7953"
             ],
             [
              0.7777777777777778,
              "#fb9f3a"
             ],
             [
              0.8888888888888888,
              "#fdca26"
             ],
             [
              1,
              "#f0f921"
             ]
            ],
            "type": "heatmap"
           }
          ],
          "heatmapgl": [
           {
            "colorbar": {
             "outlinewidth": 0,
             "ticks": ""
            },
            "colorscale": [
             [
              0,
              "#0d0887"
             ],
             [
              0.1111111111111111,
              "#46039f"
             ],
             [
              0.2222222222222222,
              "#7201a8"
             ],
             [
              0.3333333333333333,
              "#9c179e"
             ],
             [
              0.4444444444444444,
              "#bd3786"
             ],
             [
              0.5555555555555556,
              "#d8576b"
             ],
             [
              0.6666666666666666,
              "#ed7953"
             ],
             [
              0.7777777777777778,
              "#fb9f3a"
             ],
             [
              0.8888888888888888,
              "#fdca26"
             ],
             [
              1,
              "#f0f921"
             ]
            ],
            "type": "heatmapgl"
           }
          ],
          "histogram": [
           {
            "marker": {
             "pattern": {
              "fillmode": "overlay",
              "size": 10,
              "solidity": 0.2
             }
            },
            "type": "histogram"
           }
          ],
          "histogram2d": [
           {
            "colorbar": {
             "outlinewidth": 0,
             "ticks": ""
            },
            "colorscale": [
             [
              0,
              "#0d0887"
             ],
             [
              0.1111111111111111,
              "#46039f"
             ],
             [
              0.2222222222222222,
              "#7201a8"
             ],
             [
              0.3333333333333333,
              "#9c179e"
             ],
             [
              0.4444444444444444,
              "#bd3786"
             ],
             [
              0.5555555555555556,
              "#d8576b"
             ],
             [
              0.6666666666666666,
              "#ed7953"
             ],
             [
              0.7777777777777778,
              "#fb9f3a"
             ],
             [
              0.8888888888888888,
              "#fdca26"
             ],
             [
              1,
              "#f0f921"
             ]
            ],
            "type": "histogram2d"
           }
          ],
          "histogram2dcontour": [
           {
            "colorbar": {
             "outlinewidth": 0,
             "ticks": ""
            },
            "colorscale": [
             [
              0,
              "#0d0887"
             ],
             [
              0.1111111111111111,
              "#46039f"
             ],
             [
              0.2222222222222222,
              "#7201a8"
             ],
             [
              0.3333333333333333,
              "#9c179e"
             ],
             [
              0.4444444444444444,
              "#bd3786"
             ],
             [
              0.5555555555555556,
              "#d8576b"
             ],
             [
              0.6666666666666666,
              "#ed7953"
             ],
             [
              0.7777777777777778,
              "#fb9f3a"
             ],
             [
              0.8888888888888888,
              "#fdca26"
             ],
             [
              1,
              "#f0f921"
             ]
            ],
            "type": "histogram2dcontour"
           }
          ],
          "mesh3d": [
           {
            "colorbar": {
             "outlinewidth": 0,
             "ticks": ""
            },
            "type": "mesh3d"
           }
          ],
          "parcoords": [
           {
            "line": {
             "colorbar": {
              "outlinewidth": 0,
              "ticks": ""
             }
            },
            "type": "parcoords"
           }
          ],
          "pie": [
           {
            "automargin": true,
            "type": "pie"
           }
          ],
          "scatter": [
           {
            "fillpattern": {
             "fillmode": "overlay",
             "size": 10,
             "solidity": 0.2
            },
            "type": "scatter"
           }
          ],
          "scatter3d": [
           {
            "line": {
             "colorbar": {
              "outlinewidth": 0,
              "ticks": ""
             }
            },
            "marker": {
             "colorbar": {
              "outlinewidth": 0,
              "ticks": ""
             }
            },
            "type": "scatter3d"
           }
          ],
          "scattercarpet": [
           {
            "marker": {
             "colorbar": {
              "outlinewidth": 0,
              "ticks": ""
             }
            },
            "type": "scattercarpet"
           }
          ],
          "scattergeo": [
           {
            "marker": {
             "colorbar": {
              "outlinewidth": 0,
              "ticks": ""
             }
            },
            "type": "scattergeo"
           }
          ],
          "scattergl": [
           {
            "marker": {
             "colorbar": {
              "outlinewidth": 0,
              "ticks": ""
             }
            },
            "type": "scattergl"
           }
          ],
          "scattermapbox": [
           {
            "marker": {
             "colorbar": {
              "outlinewidth": 0,
              "ticks": ""
             }
            },
            "type": "scattermapbox"
           }
          ],
          "scatterpolar": [
           {
            "marker": {
             "colorbar": {
              "outlinewidth": 0,
              "ticks": ""
             }
            },
            "type": "scatterpolar"
           }
          ],
          "scatterpolargl": [
           {
            "marker": {
             "colorbar": {
              "outlinewidth": 0,
              "ticks": ""
             }
            },
            "type": "scatterpolargl"
           }
          ],
          "scatterternary": [
           {
            "marker": {
             "colorbar": {
              "outlinewidth": 0,
              "ticks": ""
             }
            },
            "type": "scatterternary"
           }
          ],
          "surface": [
           {
            "colorbar": {
             "outlinewidth": 0,
             "ticks": ""
            },
            "colorscale": [
             [
              0,
              "#0d0887"
             ],
             [
              0.1111111111111111,
              "#46039f"
             ],
             [
              0.2222222222222222,
              "#7201a8"
             ],
             [
              0.3333333333333333,
              "#9c179e"
             ],
             [
              0.4444444444444444,
              "#bd3786"
             ],
             [
              0.5555555555555556,
              "#d8576b"
             ],
             [
              0.6666666666666666,
              "#ed7953"
             ],
             [
              0.7777777777777778,
              "#fb9f3a"
             ],
             [
              0.8888888888888888,
              "#fdca26"
             ],
             [
              1,
              "#f0f921"
             ]
            ],
            "type": "surface"
           }
          ],
          "table": [
           {
            "cells": {
             "fill": {
              "color": "#EBF0F8"
             },
             "line": {
              "color": "white"
             }
            },
            "header": {
             "fill": {
              "color": "#C8D4E3"
             },
             "line": {
              "color": "white"
             }
            },
            "type": "table"
           }
          ]
         },
         "layout": {
          "annotationdefaults": {
           "arrowcolor": "#2a3f5f",
           "arrowhead": 0,
           "arrowwidth": 1
          },
          "autotypenumbers": "strict",
          "coloraxis": {
           "colorbar": {
            "outlinewidth": 0,
            "ticks": ""
           }
          },
          "colorscale": {
           "diverging": [
            [
             0,
             "#8e0152"
            ],
            [
             0.1,
             "#c51b7d"
            ],
            [
             0.2,
             "#de77ae"
            ],
            [
             0.3,
             "#f1b6da"
            ],
            [
             0.4,
             "#fde0ef"
            ],
            [
             0.5,
             "#f7f7f7"
            ],
            [
             0.6,
             "#e6f5d0"
            ],
            [
             0.7,
             "#b8e186"
            ],
            [
             0.8,
             "#7fbc41"
            ],
            [
             0.9,
             "#4d9221"
            ],
            [
             1,
             "#276419"
            ]
           ],
           "sequential": [
            [
             0,
             "#0d0887"
            ],
            [
             0.1111111111111111,
             "#46039f"
            ],
            [
             0.2222222222222222,
             "#7201a8"
            ],
            [
             0.3333333333333333,
             "#9c179e"
            ],
            [
             0.4444444444444444,
             "#bd3786"
            ],
            [
             0.5555555555555556,
             "#d8576b"
            ],
            [
             0.6666666666666666,
             "#ed7953"
            ],
            [
             0.7777777777777778,
             "#fb9f3a"
            ],
            [
             0.8888888888888888,
             "#fdca26"
            ],
            [
             1,
             "#f0f921"
            ]
           ],
           "sequentialminus": [
            [
             0,
             "#0d0887"
            ],
            [
             0.1111111111111111,
             "#46039f"
            ],
            [
             0.2222222222222222,
             "#7201a8"
            ],
            [
             0.3333333333333333,
             "#9c179e"
            ],
            [
             0.4444444444444444,
             "#bd3786"
            ],
            [
             0.5555555555555556,
             "#d8576b"
            ],
            [
             0.6666666666666666,
             "#ed7953"
            ],
            [
             0.7777777777777778,
             "#fb9f3a"
            ],
            [
             0.8888888888888888,
             "#fdca26"
            ],
            [
             1,
             "#f0f921"
            ]
           ]
          },
          "colorway": [
           "#636efa",
           "#EF553B",
           "#00cc96",
           "#ab63fa",
           "#FFA15A",
           "#19d3f3",
           "#FF6692",
           "#B6E880",
           "#FF97FF",
           "#FECB52"
          ],
          "font": {
           "color": "#2a3f5f"
          },
          "geo": {
           "bgcolor": "white",
           "lakecolor": "white",
           "landcolor": "#E5ECF6",
           "showlakes": true,
           "showland": true,
           "subunitcolor": "white"
          },
          "hoverlabel": {
           "align": "left"
          },
          "hovermode": "closest",
          "mapbox": {
           "style": "light"
          },
          "paper_bgcolor": "white",
          "plot_bgcolor": "#E5ECF6",
          "polar": {
           "angularaxis": {
            "gridcolor": "white",
            "linecolor": "white",
            "ticks": ""
           },
           "bgcolor": "#E5ECF6",
           "radialaxis": {
            "gridcolor": "white",
            "linecolor": "white",
            "ticks": ""
           }
          },
          "scene": {
           "xaxis": {
            "backgroundcolor": "#E5ECF6",
            "gridcolor": "white",
            "gridwidth": 2,
            "linecolor": "white",
            "showbackground": true,
            "ticks": "",
            "zerolinecolor": "white"
           },
           "yaxis": {
            "backgroundcolor": "#E5ECF6",
            "gridcolor": "white",
            "gridwidth": 2,
            "linecolor": "white",
            "showbackground": true,
            "ticks": "",
            "zerolinecolor": "white"
           },
           "zaxis": {
            "backgroundcolor": "#E5ECF6",
            "gridcolor": "white",
            "gridwidth": 2,
            "linecolor": "white",
            "showbackground": true,
            "ticks": "",
            "zerolinecolor": "white"
           }
          },
          "shapedefaults": {
           "line": {
            "color": "#2a3f5f"
           }
          },
          "ternary": {
           "aaxis": {
            "gridcolor": "white",
            "linecolor": "white",
            "ticks": ""
           },
           "baxis": {
            "gridcolor": "white",
            "linecolor": "white",
            "ticks": ""
           },
           "bgcolor": "#E5ECF6",
           "caxis": {
            "gridcolor": "white",
            "linecolor": "white",
            "ticks": ""
           }
          },
          "title": {
           "x": 0.05
          },
          "xaxis": {
           "automargin": true,
           "gridcolor": "white",
           "linecolor": "white",
           "ticks": "",
           "title": {
            "standoff": 15
           },
           "zerolinecolor": "white",
           "zerolinewidth": 2
          },
          "yaxis": {
           "automargin": true,
           "gridcolor": "white",
           "linecolor": "white",
           "ticks": "",
           "title": {
            "standoff": 15
           },
           "zerolinecolor": "white",
           "zerolinewidth": 2
          }
         }
        },
        "xaxis": {
         "anchor": "y",
         "domain": [
          0,
          1
         ],
         "title": {
          "text": "xwOBA_2021"
         }
        },
        "yaxis": {
         "anchor": "x",
         "domain": [
          0,
          1
         ],
         "title": {
          "text": "sxwOBA_2021"
         }
        }
       }
      }
     },
     "metadata": {},
     "output_type": "display_data"
    }
   ],
   "source": [
    "px.scatter(data_frame=merged_leaders.loc[merged_leaders['PA_2021'] > 200], x='xwOBA_2021', y='sxwOBA_2021', color='weighted_woba_2022_2023', hover_data=['Name', 'PA_2021'])"
   ]
  },
  {
   "cell_type": "code",
   "execution_count": 13,
   "metadata": {},
   "outputs": [
    {
     "data": {
      "application/vnd.plotly.v1+json": {
       "config": {
        "plotlyServerURL": "https://plotly.com"
       },
       "data": [
        {
         "customdata": [
          [
           "Miguel Cabrera",
           526
          ],
          [
           "Nelson Cruz",
           584
          ],
          [
           "David Peralta",
           538
          ],
          [
           "Evan Longoria",
           291
          ],
          [
           "Charlie Blackmon",
           582
          ],
          [
           "Martin Maldonado",
           426
          ],
          [
           "Donovan Solano",
           344
          ],
          [
           "Andrew McCutchen",
           574
          ],
          [
           "Justin Turner",
           612
          ],
          [
           "Joey Votto",
           533
          ],
          [
           "Elvis Andrus",
           541
          ],
          [
           "Carlos Santana",
           659
          ],
          [
           "Brandon Belt",
           381
          ],
          [
           "Yuli Gurriel",
           605
          ],
          [
           "Miguel Rojas",
           539
          ],
          [
           "Eduardo Escobar",
           599
          ],
          [
           "Ehire Adrianza",
           209
          ],
          [
           "Tommy Pham",
           561
          ],
          [
           "J.D. Martinez",
           634
          ],
          [
           "Paul Goldschmidt",
           679
          ],
          [
           "Sandy Leon",
           220
          ],
          [
           "Jose Altuve",
           678
          ],
          [
           "Jean Segura",
           567
          ],
          [
           "Starling Marte",
           526
          ],
          [
           "Travis d'Arnaud",
           229
          ],
          [
           "Josh Donaldson",
           543
          ],
          [
           "Freddie Freeman",
           695
          ],
          [
           "Yasmani Grandal",
           375
          ],
          [
           "Jason Heyward",
           353
          ],
          [
           "DJ LeMahieu",
           679
          ],
          [
           "Mike Moustakas",
           206
          ],
          [
           "Anthony Rizzo",
           576
          ],
          [
           "Giancarlo Stanton",
           579
          ],
          [
           "Salvador Perez",
           665
          ],
          [
           "Wilmer Flores",
           436
          ],
          [
           "Avisail Garcia",
           515
          ],
          [
           "Marcell Ozuna",
           208
          ],
          [
           "Jesus Aguilar",
           510
          ],
          [
           "Jon Berti",
           271
          ],
          [
           "Brandon Crawford",
           549
          ],
          [
           "C.J. Cron",
           547
          ],
          [
           "Yan Gomes",
           375
          ],
          [
           "Robbie Grossman",
           671
          ],
          [
           "Josh Harrison",
           558
          ],
          [
           "Kyle Higashioka",
           211
          ],
          [
           "Eric Hosmer",
           565
          ],
          [
           "James McCann",
           412
          ],
          [
           "Brad Miller",
           377
          ],
          [
           "Anthony Rendon",
           249
          ],
          [
           "Marcus Semien",
           724
          ],
          [
           "George Springer",
           342
          ],
          [
           "Christian Vazquez",
           498
          ],
          [
           "Kolten Wong",
           492
          ],
          [
           "Randal Grichuk",
           545
          ],
          [
           "Bryce Harper",
           599
          ],
          [
           "Jose Abreu",
           659
          ],
          [
           "Elias Diaz",
           371
          ],
          [
           "Omar Narvaez",
           445
          ],
          [
           "Eugenio Suarez",
           574
          ],
          [
           "Gio Urshela",
           442
          ],
          [
           "Jonathan Schoop",
           674
          ],
          [
           "Nolan Arenado",
           653
          ],
          [
           "Tucker Barnhart",
           388
          ],
          [
           "Kyle Farmer",
           529
          ],
          [
           "Mitch Haniger",
           691
          ],
          [
           "Enrique Hernandez",
           585
          ],
          [
           "Max Muncy",
           592
          ],
          [
           "Wil Myers",
           500
          ],
          [
           "A.J. Pollock",
           422
          ],
          [
           "Michael A. Taylor",
           528
          ],
          [
           "Luke Voit",
           241
          ],
          [
           "Christian Walker",
           445
          ],
          [
           "Mike Zunino",
           375
          ],
          [
           "Matt Carpenter",
           249
          ],
          [
           "Corey Dickerson",
           365
          ],
          [
           "Darin Ruf",
           312
          ],
          [
           "Mike Yastrzemski",
           532
          ],
          [
           "Willson Contreras",
           483
          ],
          [
           "Kris Bryant",
           586
          ],
          [
           "Mark Canha",
           625
          ],
          [
           "Curt Casali",
           231
          ],
          [
           "Nick Castellanos",
           585
          ],
          [
           "Aaron Judge",
           633
          ],
          [
           "Manny Machado",
           640
          ],
          [
           "Joc Pederson",
           481
          ],
          [
           "J.T. Realmuto",
           537
          ],
          [
           "Hunter Renfroe",
           572
          ],
          [
           "Eddie Rosario",
           412
          ],
          [
           "Christian Yelich",
           475
          ],
          [
           "Whit Merrifield",
           720
          ],
          [
           "Xander Bogaerts",
           603
          ],
          [
           "Hanser Alberto",
           255
          ],
          [
           "Jorge Polanco",
           644
          ],
          [
           "Adam Duvall",
           555
          ],
          [
           "Kevin Kiermaier",
           390
          ],
          [
           "Jorge Alfaro",
           311
          ],
          [
           "Jurickson Profar",
           412
          ],
          [
           "Javier Baez",
           547
          ],
          [
           "Austin Hedges",
           312
          ],
          [
           "Francisco Lindor",
           524
          ],
          [
           "Rougned Odor",
           361
          ],
          [
           "Austin Slater",
           306
          ],
          [
           "Daniel Vogelbach",
           258
          ],
          [
           "Gary Sanchez",
           440
          ],
          [
           "Max Kepler",
           490
          ],
          [
           "Ji-Man Choi",
           305
          ],
          [
           "Jackie Bradley Jr.",
           428
          ],
          [
           "Tommy La Stella",
           242
          ],
          [
           "Jeimer Candelario",
           626
          ],
          [
           "Yonathan Daza",
           331
          ],
          [
           "Ramon Urias",
           296
          ],
          [
           "Nick Ahmed",
           473
          ],
          [
           "Brian Anderson",
           264
          ],
          [
           "Austin Barnes",
           225
          ],
          [
           "Josh Bell",
           568
          ],
          [
           "Mookie Betts",
           550
          ],
          [
           "Victor Caratini",
           356
          ],
          [
           "J.D. Davis",
           211
          ],
          [
           "Michael Perez",
           231
          ],
          [
           "Harold Castro",
           339
          ],
          [
           "Raimel Tapia",
           533
          ],
          [
           "Teoscar Hernandez",
           595
          ],
          [
           "Ketel Marte",
           374
          ],
          [
           "Eric Haase",
           381
          ],
          [
           "Brandon Nimmo",
           386
          ],
          [
           "Jace Peterson",
           302
          ],
          [
           "Trea Turner",
           646
          ],
          [
           "Matt Beaty",
           234
          ],
          [
           "Kevin Pillar",
           347
          ],
          [
           "Jacob Stallings",
           427
          ],
          [
           "Jose Ramirez",
           636
          ],
          [
           "Alex Bregman",
           400
          ],
          [
           "Joey Gallo",
           616
          ],
          [
           "Carson Kelly",
           359
          ],
          [
           "Corey Seager",
           409
          ],
          [
           "Jesse Winker",
           485
          ],
          [
           "Tom Murphy",
           325
          ],
          [
           "Franmil Reyes",
           466
          ],
          [
           "Luis Torrens",
           378
          ],
          [
           "Dansby Swanson",
           653
          ],
          [
           "Kevin Newman",
           554
          ],
          [
           "Chris Taylor",
           582
          ],
          [
           "Carlos Correa",
           640
          ],
          [
           "Brett Phillips",
           292
          ],
          [
           "Tyrone Taylor",
           271
          ],
          [
           "Byron Buxton",
           254
          ],
          [
           "Taylor Ward",
           237
          ],
          [
           "Patrick Wisdom",
           375
          ],
          [
           "Joey Wendle",
           501
          ],
          [
           "Matt Olson",
           673
          ],
          [
           "Matt Duffy",
           322
          ],
          [
           "Manuel Margot",
           464
          ],
          [
           "Jorge Mateo",
           209
          ],
          [
           "Harold Ramirez",
           361
          ],
          [
           "Anthony Santander",
           438
          ],
          [
           "Pete Alonso",
           637
          ],
          [
           "Cavan Biggio",
           294
          ],
          [
           "Adam Frazier",
           639
          ],
          [
           "Jose Trevino",
           302
          ],
          [
           "Nick Gordon",
           216
          ],
          [
           "Reese McGuire",
           217
          ],
          [
           "Jorge Soler",
           602
          ],
          [
           "Edmundo Sosa",
           326
          ],
          [
           "Andy Ibanez",
           272
          ],
          [
           "Jake Cronenworth",
           643
          ],
          [
           "Jackson Frazier",
           218
          ],
          [
           "Austin Meadows",
           591
          ],
          [
           "Oscar Mercado",
           238
          ],
          [
           "Tim Anderson",
           551
          ],
          [
           "Cody Bellinger",
           350
          ],
          [
           "Willie Calhoun",
           284
          ],
          [
           "J.P. Crawford",
           687
          ],
          [
           "Hunter Dozier",
           543
          ],
          [
           "Jake Fraley",
           265
          ],
          [
           "Mitch Garver",
           243
          ],
          [
           "Garrett Hampson",
           494
          ],
          [
           "Jonah Heim",
           285
          ],
          [
           "Trey Mancini",
           616
          ],
          [
           "Billy McKinney",
           300
          ],
          [
           "Ryan McMahon",
           596
          ],
          [
           "Tyler O'Neill",
           537
          ],
          [
           "Dominic Smith",
           493
          ],
          [
           "Rowdy Tellez",
           325
          ],
          [
           "Eli White",
           220
          ],
          [
           "Francisco Mejia",
           277
          ],
          [
           "Amed Rosario",
           588
          ],
          [
           "Willy Adames",
           555
          ],
          [
           "Andrew Benintendi",
           538
          ],
          [
           "Garrett Cooper",
           250
          ],
          [
           "Danny Jansen",
           205
          ],
          [
           "Tony Kemp",
           397
          ],
          [
           "Isiah Kiner-Falefa",
           677
          ],
          [
           "Jeff McNeil",
           426
          ],
          [
           "Yu Chang",
           251
          ],
          [
           "Ozzie Albies",
           686
          ],
          [
           "Victor Robles",
           369
          ],
          [
           "Rafael Devers",
           664
          ],
          [
           "Josh Naylor",
           250
          ],
          [
           "Abraham Toro",
           375
          ],
          [
           "Aledmys Diaz",
           319
          ],
          [
           "Luis Urias",
           570
          ],
          [
           "Luis Arraez",
           479
          ],
          [
           "Eloy Jimenez",
           231
          ],
          [
           "Gleyber Torres",
           516
          ],
          [
           "Willi Castro",
           450
          ],
          [
           "Yandy Diaz",
           541
          ],
          [
           "Bryan De La Cruz",
           219
          ],
          [
           "Matt Chapman",
           622
          ],
          [
           "Sam Hilliard",
           238
          ],
          [
           "Connor Joe",
           211
          ],
          [
           "Cedric Mullins II",
           675
          ],
          [
           "Ryan O'Hearn",
           254
          ],
          [
           "Kyle Schwarber",
           471
          ],
          [
           "Pavin Smith",
           545
          ],
          [
           "Lane Thomas",
           264
          ],
          [
           "Alex Verdugo",
           604
          ],
          [
           "Paul DeJong",
           402
          ],
          [
           "Ramon Laureano",
           378
          ],
          [
           "Yoan Moncada",
           616
          ],
          [
           "Shohei Ohtani",
           639
          ],
          [
           "Ronald Acuna Jr.",
           360
          ],
          [
           "Jesus Sanchez",
           251
          ],
          [
           "Daulton Varsho",
           315
          ],
          [
           "Austin Riley",
           662
          ],
          [
           "Nick Madrigal",
           215
          ],
          [
           "Trevor Larnach",
           301
          ],
          [
           "Ryan Mountcastle",
           586
          ],
          [
           "Ke'Bryan Hayes",
           396
          ],
          [
           "Kyle Tucker",
           567
          ],
          [
           "Jonathan India",
           631
          ],
          [
           "Trent Grisham",
           527
          ],
          [
           "Tyler Stephenson",
           402
          ],
          [
           "Nathaniel Lowe",
           642
          ],
          [
           "Ian Happ",
           535
          ],
          [
           "Ty France",
           650
          ],
          [
           "Brandon Lowe",
           615
          ],
          [
           "Harrison Bader",
           401
          ],
          [
           "David Fletcher",
           665
          ],
          [
           "Dylan Moore",
           377
          ],
          [
           "Myles Straw",
           638
          ],
          [
           "Alec Bohm",
           417
          ],
          [
           "LaMonte Wade Jr.",
           381
          ],
          [
           "Seth Brown",
           307
          ],
          [
           "Jared Walsh",
           585
          ],
          [
           "Vladimir Guerrero Jr.",
           698
          ],
          [
           "Juan Soto",
           654
          ],
          [
           "Jazz Chisholm Jr.",
           507
          ],
          [
           "Andres Gimenez",
           210
          ],
          [
           "Alex Kirilloff",
           231
          ],
          [
           "Bo Bichette",
           690
          ],
          [
           "Dylan Carlson",
           619
          ],
          [
           "Bobby Dalbec",
           453
          ],
          [
           "Adolis Garcia",
           622
          ],
          [
           "Lourdes Gurriel Jr.",
           541
          ],
          [
           "Brent Rooker",
           213
          ],
          [
           "Randy Arozarena",
           604
          ],
          [
           "Akil Baddoo",
           461
          ],
          [
           "Bryan Reynolds",
           646
          ],
          [
           "Josh Rojas",
           550
          ],
          [
           "Brandon Marsh",
           260
          ],
          [
           "Sean Murphy",
           448
          ],
          [
           "Tommy Edman",
           691
          ],
          [
           "Will Smith",
           501
          ],
          [
           "Santiago Espinal",
           246
          ],
          [
           "Austin Hays",
           529
          ],
          [
           "Nicky Lopez",
           565
          ],
          [
           "Yordan Alvarez",
           598
          ],
          [
           "Luis Garcia",
           247
          ],
          [
           "Jarred Kelenic",
           377
          ],
          [
           "Luis Robert",
           296
          ],
          [
           "Ha-seong Kim",
           298
          ],
          [
           "Chas McCormick",
           320
          ],
          [
           "Wander Franco",
           308
          ],
          [
           "Ryan Jeffers",
           293
          ],
          [
           "Owen Miller",
           202
          ],
          [
           "Andrew Vaughn",
           469
          ]
         ],
         "hovertemplate": "xwOBA_2021=%{x}<br>weighted_woba_2022_2023=%{y}<br>Name=%{customdata[0]}<br>PA_2021=%{customdata[1]}<extra></extra>",
         "legendgroup": "",
         "marker": {
          "color": "#636efa",
          "symbol": "circle"
         },
         "mode": "markers",
         "name": "",
         "orientation": "v",
         "showlegend": false,
         "type": "scatter",
         "x": [
          0.315,
          0.363,
          0.293,
          0.351,
          0.359,
          0.267,
          0.335,
          0.344,
          0.359,
          0.406,
          0.308,
          0.335,
          0.374,
          0.326,
          0.292,
          0.328,
          0.314,
          0.35,
          0.374,
          0.397,
          0.216,
          0.332,
          0.319,
          0.347,
          0.312,
          0.388,
          0.416,
          0.412,
          0.294,
          0.34,
          0.276,
          0.347,
          0.363,
          0.374,
          0.312,
          0.366,
          0.347,
          0.334,
          0.302,
          0.356,
          0.364,
          0.341,
          0.334,
          0.333,
          0.343,
          0.326,
          0.284,
          0.345,
          0.303,
          0.336,
          0.361,
          0.276,
          0.308,
          0.297,
          0.43,
          0.349,
          0.318,
          0.304,
          0.326,
          0.304,
          0.311,
          0.311,
          0.265,
          0.302,
          0.353,
          0.346,
          0.407,
          0.295,
          0.359,
          0.3,
          0.359,
          0.311,
          0.354,
          0.34,
          0.295,
          0.381,
          0.318,
          0.346,
          0.346,
          0.332,
          0.28,
          0.374,
          0.418,
          0.376,
          0.333,
          0.329,
          0.354,
          0.319,
          0.337,
          0.301,
          0.359,
          0.294,
          0.348,
          0.33,
          0.283,
          0.292,
          0.302,
          0.325,
          0.228,
          0.344,
          0.29,
          0.335,
          0.337,
          0.336,
          0.347,
          0.342,
          0.253,
          0.342,
          0.356,
          0.286,
          0.344,
          0.249,
          0.299,
          0.274,
          0.367,
          0.357,
          0.29,
          0.338,
          0.244,
          0.315,
          0.281,
          0.37,
          0.372,
          0.322,
          0.35,
          0.319,
          0.364,
          0.308,
          0.281,
          0.314,
          0.376,
          0.332,
          0.354,
          0.346,
          0.392,
          0.39,
          0.292,
          0.353,
          0.318,
          0.332,
          0.275,
          0.329,
          0.373,
          0.284,
          0.314,
          0.407,
          0.344,
          0.321,
          0.286,
          0.378,
          0.325,
          0.318,
          0.287,
          0.308,
          0.328,
          0.377,
          0.285,
          0.324,
          0.285,
          0.318,
          0.281,
          0.359,
          0.326,
          0.32,
          0.344,
          0.313,
          0.326,
          0.279,
          0.329,
          0.281,
          0.323,
          0.298,
          0.299,
          0.335,
          0.386,
          0.291,
          0.285,
          0.341,
          0.291,
          0.325,
          0.392,
          0.325,
          0.34,
          0.249,
          0.285,
          0.3,
          0.325,
          0.331,
          0.362,
          0.333,
          0.321,
          0.292,
          0.315,
          0.282,
          0.329,
          0.288,
          0.394,
          0.311,
          0.323,
          0.319,
          0.333,
          0.337,
          0.325,
          0.331,
          0.291,
          0.332,
          0.301,
          0.321,
          0.311,
          0.37,
          0.344,
          0.294,
          0.399,
          0.312,
          0.322,
          0.34,
          0.312,
          0.335,
          0.353,
          0.408,
          0.429,
          0.333,
          0.323,
          0.366,
          0.289,
          0.306,
          0.326,
          0.299,
          0.396,
          0.352,
          0.309,
          0.324,
          0.323,
          0.317,
          0.346,
          0.36,
          0.295,
          0.28,
          0.288,
          0.303,
          0.313,
          0.347,
          0.318,
          0.326,
          0.417,
          0.429,
          0.307,
          0.268,
          0.37,
          0.355,
          0.322,
          0.344,
          0.299,
          0.339,
          0.341,
          0.304,
          0.309,
          0.386,
          0.295,
          0.324,
          0.337,
          0.316,
          0.364,
          0.307,
          0.316,
          0.283,
          0.389,
          0.279,
          0.314,
          0.382,
          0.265,
          0.311,
          0.329,
          0.299,
          0.267,
          0.332
         ],
         "xaxis": "x",
         "y": [
          0.279,
          0.293,
          0.312,
          0.335,
          0.323,
          0.259,
          0.33,
          0.327,
          0.346,
          0.321,
          0.293,
          0.305,
          0.321,
          0.291,
          0.262,
          0.312,
          0.208,
          0.311,
          0.347,
          0.403,
          0.222,
          0.388,
          0.285,
          0.332,
          0.348,
          0.297,
          0.395,
          0.282,
          0.299,
          0.317,
          0.305,
          0.349,
          0.316,
          0.325,
          0.317,
          0.258,
          0.316,
          0.287,
          0.295,
          0.288,
          0.329,
          0.289,
          0.287,
          0.295,
          0.275,
          0.305,
          0.245,
          0.267,
          0.314,
          0.327,
          0.342,
          0.3,
          0.308,
          0.323,
          0.361,
          0.332,
          0.312,
          0.267,
          0.328,
          0.325,
          0.244,
          0.365,
          0.248,
          0.307,
          0.306,
          0.28,
          0.325,
          0.289,
          0.285,
          0.292,
          0.304,
          0.353,
          0.242,
          0.373,
          0.303,
          0.291,
          0.318,
          0.336,
          0.344,
          0.336,
          0.275,
          0.326,
          0.454,
          0.36,
          0.374,
          0.346,
          0.339,
          0.304,
          0.335,
          0.303,
          0.35,
          0.274,
          0.33,
          0.32,
          0.31,
          0.284,
          0.316,
          0.281,
          0.217,
          0.336,
          0.284,
          0.355,
          0.336,
          0.294,
          0.298,
          0.313,
          0.235,
          0.274,
          0.304,
          0.317,
          0.315,
          0.278,
          0.3,
          0.27,
          0.334,
          0.372,
          0.291,
          0.345,
          0.245,
          0.292,
          0.29,
          0.336,
          0.341,
          0.3,
          0.352,
          0.296,
          0.334,
          0.192,
          0.314,
          0.26,
          0.362,
          0.348,
          0.301,
          0.271,
          0.355,
          0.301,
          0.336,
          0.274,
          0.264,
          0.338,
          0.305,
          0.301,
          0.342,
          0.211,
          0.293,
          0.342,
          0.342,
          0.318,
          0.29,
          0.354,
          0.294,
          0.309,
          0.278,
          0.336,
          0.343,
          0.364,
          0.3,
          0.28,
          0.281,
          0.302,
          0.296,
          0.338,
          0.276,
          0.276,
          0.311,
          0.274,
          0.297,
          0.277,
          0.293,
          0.295,
          0.291,
          0.314,
          0.29,
          0.356,
          0.313,
          0.279,
          0.322,
          0.309,
          0.269,
          0.336,
          0.3,
          0.283,
          0.319,
          0.249,
          0.281,
          0.303,
          0.314,
          0.331,
          0.32,
          0.343,
          0.279,
          0.283,
          0.343,
          0.263,
          0.326,
          0.279,
          0.361,
          0.333,
          0.255,
          0.28,
          0.321,
          0.37,
          0.349,
          0.326,
          0.292,
          0.377,
          0.32,
          0.337,
          0.271,
          0.32,
          0.326,
          0.322,
          0.346,
          0.296,
          0.33,
          0.334,
          0.279,
          0.289,
          0.277,
          0.387,
          0.366,
          0.31,
          0.314,
          0.362,
          0.277,
          0.307,
          0.309,
          0.295,
          0.346,
          0.325,
          0.288,
          0.329,
          0.362,
          0.346,
          0.336,
          0.306,
          0.295,
          0.273,
          0.331,
          0.263,
          0.31,
          0.346,
          0.31,
          0.27,
          0.351,
          0.384,
          0.34,
          0.344,
          0.313,
          0.354,
          0.309,
          0.285,
          0.332,
          0.335,
          0.33,
          0.354,
          0.277,
          0.351,
          0.31,
          0.314,
          0.349,
          0.316,
          0.363,
          0.301,
          0.332,
          0.26,
          0.422,
          0.305,
          0.298,
          0.347,
          0.317,
          0.331,
          0.335,
          0.313,
          0.296,
          0.329
         ],
         "yaxis": "y"
        },
        {
         "hovertemplate": "<b>OLS trendline</b><br>weighted_woba_2022_2023 = 0.540118 * xwOBA_2021 + 0.134677<br>R<sup>2</sup>=0.309427<br><br>xwOBA_2021=%{x}<br>weighted_woba_2022_2023=%{y} <b>(trend)</b><extra></extra>",
         "legendgroup": "",
         "marker": {
          "color": "#636efa",
          "symbol": "circle"
         },
         "mode": "lines",
         "name": "",
         "showlegend": false,
         "type": "scatter",
         "x": [
          0.216,
          0.228,
          0.244,
          0.249,
          0.249,
          0.253,
          0.265,
          0.265,
          0.267,
          0.267,
          0.268,
          0.274,
          0.275,
          0.276,
          0.276,
          0.279,
          0.279,
          0.28,
          0.28,
          0.281,
          0.281,
          0.281,
          0.281,
          0.282,
          0.283,
          0.283,
          0.284,
          0.284,
          0.285,
          0.285,
          0.285,
          0.285,
          0.286,
          0.286,
          0.287,
          0.288,
          0.288,
          0.289,
          0.29,
          0.29,
          0.291,
          0.291,
          0.291,
          0.292,
          0.292,
          0.292,
          0.292,
          0.293,
          0.294,
          0.294,
          0.294,
          0.295,
          0.295,
          0.295,
          0.295,
          0.297,
          0.298,
          0.299,
          0.299,
          0.299,
          0.299,
          0.299,
          0.3,
          0.3,
          0.301,
          0.301,
          0.302,
          0.302,
          0.302,
          0.303,
          0.303,
          0.304,
          0.304,
          0.304,
          0.306,
          0.307,
          0.307,
          0.308,
          0.308,
          0.308,
          0.308,
          0.309,
          0.309,
          0.311,
          0.311,
          0.311,
          0.311,
          0.311,
          0.311,
          0.312,
          0.312,
          0.312,
          0.312,
          0.313,
          0.313,
          0.314,
          0.314,
          0.314,
          0.314,
          0.315,
          0.315,
          0.315,
          0.316,
          0.316,
          0.317,
          0.318,
          0.318,
          0.318,
          0.318,
          0.318,
          0.318,
          0.319,
          0.319,
          0.319,
          0.319,
          0.32,
          0.321,
          0.321,
          0.321,
          0.322,
          0.322,
          0.322,
          0.323,
          0.323,
          0.323,
          0.323,
          0.324,
          0.324,
          0.324,
          0.325,
          0.325,
          0.325,
          0.325,
          0.325,
          0.325,
          0.326,
          0.326,
          0.326,
          0.326,
          0.326,
          0.326,
          0.326,
          0.328,
          0.328,
          0.329,
          0.329,
          0.329,
          0.329,
          0.329,
          0.33,
          0.331,
          0.331,
          0.332,
          0.332,
          0.332,
          0.332,
          0.332,
          0.332,
          0.333,
          0.333,
          0.333,
          0.333,
          0.333,
          0.334,
          0.334,
          0.335,
          0.335,
          0.335,
          0.335,
          0.335,
          0.336,
          0.336,
          0.337,
          0.337,
          0.337,
          0.337,
          0.338,
          0.339,
          0.34,
          0.34,
          0.34,
          0.34,
          0.341,
          0.341,
          0.341,
          0.342,
          0.342,
          0.343,
          0.344,
          0.344,
          0.344,
          0.344,
          0.344,
          0.344,
          0.344,
          0.345,
          0.346,
          0.346,
          0.346,
          0.346,
          0.346,
          0.347,
          0.347,
          0.347,
          0.347,
          0.347,
          0.348,
          0.349,
          0.35,
          0.35,
          0.351,
          0.352,
          0.353,
          0.353,
          0.353,
          0.354,
          0.354,
          0.354,
          0.355,
          0.356,
          0.356,
          0.357,
          0.359,
          0.359,
          0.359,
          0.359,
          0.359,
          0.359,
          0.36,
          0.361,
          0.362,
          0.363,
          0.363,
          0.364,
          0.364,
          0.364,
          0.366,
          0.366,
          0.367,
          0.37,
          0.37,
          0.37,
          0.372,
          0.373,
          0.374,
          0.374,
          0.374,
          0.374,
          0.376,
          0.376,
          0.377,
          0.378,
          0.381,
          0.382,
          0.386,
          0.386,
          0.388,
          0.389,
          0.39,
          0.392,
          0.392,
          0.394,
          0.396,
          0.397,
          0.399,
          0.406,
          0.407,
          0.407,
          0.408,
          0.412,
          0.416,
          0.417,
          0.418,
          0.429,
          0.429,
          0.43
         ],
         "xaxis": "x",
         "y": [
          0.2513421850535375,
          0.2578236013227867,
          0.26646548968178563,
          0.2691660797939728,
          0.2691660797939728,
          0.2713265518837225,
          0.2778079681529717,
          0.2778079681529717,
          0.27888820419784655,
          0.27888820419784655,
          0.279428322220284,
          0.2826690303549086,
          0.283209148377346,
          0.2837492663997835,
          0.2837492663997835,
          0.2853696204670958,
          0.2853696204670958,
          0.28590973848953316,
          0.28590973848953316,
          0.28644985651197064,
          0.28644985651197064,
          0.28644985651197064,
          0.28644985651197064,
          0.286989974534408,
          0.2875300925568455,
          0.2875300925568455,
          0.2880702105792829,
          0.2880702105792829,
          0.2886103286017203,
          0.2886103286017203,
          0.2886103286017203,
          0.2886103286017203,
          0.2891504466241578,
          0.2891504466241578,
          0.2896905646465952,
          0.2902306826690326,
          0.2902306826690326,
          0.2907708006914701,
          0.29131091871390746,
          0.29131091871390746,
          0.29185103673634494,
          0.29185103673634494,
          0.29185103673634494,
          0.29239115475878236,
          0.29239115475878236,
          0.29239115475878236,
          0.29239115475878236,
          0.2929312727812198,
          0.29347139080365725,
          0.29347139080365725,
          0.29347139080365725,
          0.29401150882609467,
          0.29401150882609467,
          0.29401150882609467,
          0.29401150882609467,
          0.29509174487096956,
          0.2956318628934069,
          0.2961719809158444,
          0.2961719809158444,
          0.2961719809158444,
          0.2961719809158444,
          0.2961719809158444,
          0.2967120989382818,
          0.2967120989382818,
          0.29725221696071924,
          0.29725221696071924,
          0.2977923349831567,
          0.2977923349831567,
          0.2977923349831567,
          0.29833245300559413,
          0.29833245300559413,
          0.29887257102803155,
          0.29887257102803155,
          0.29887257102803155,
          0.2999528070729064,
          0.30049292509534387,
          0.30049292509534387,
          0.3010330431177813,
          0.3010330431177813,
          0.3010330431177813,
          0.3010330431177813,
          0.3015731611402187,
          0.3015731611402187,
          0.3026533971850936,
          0.3026533971850936,
          0.3026533971850936,
          0.3026533971850936,
          0.3026533971850936,
          0.3026533971850936,
          0.303193515207531,
          0.303193515207531,
          0.303193515207531,
          0.303193515207531,
          0.3037336332299685,
          0.3037336332299685,
          0.30427375125240586,
          0.30427375125240586,
          0.30427375125240586,
          0.30427375125240586,
          0.30481386927484333,
          0.30481386927484333,
          0.30481386927484333,
          0.30535398729728075,
          0.30535398729728075,
          0.30589410531971817,
          0.30643422334215564,
          0.30643422334215564,
          0.30643422334215564,
          0.30643422334215564,
          0.30643422334215564,
          0.30643422334215564,
          0.30697434136459306,
          0.30697434136459306,
          0.30697434136459306,
          0.30697434136459306,
          0.3075144593870305,
          0.30805457740946796,
          0.30805457740946796,
          0.30805457740946796,
          0.3085946954319053,
          0.3085946954319053,
          0.3085946954319053,
          0.3091348134543428,
          0.3091348134543428,
          0.3091348134543428,
          0.3091348134543428,
          0.3096749314767802,
          0.3096749314767802,
          0.3096749314767802,
          0.31021504949921763,
          0.31021504949921763,
          0.31021504949921763,
          0.31021504949921763,
          0.31021504949921763,
          0.31021504949921763,
          0.3107551675216551,
          0.3107551675216551,
          0.3107551675216551,
          0.3107551675216551,
          0.3107551675216551,
          0.3107551675216551,
          0.3107551675216551,
          0.31183540356652995,
          0.31183540356652995,
          0.3123755215889674,
          0.3123755215889674,
          0.3123755215889674,
          0.3123755215889674,
          0.3123755215889674,
          0.3129156396114048,
          0.31345575763384226,
          0.31345575763384226,
          0.3139958756562797,
          0.3139958756562797,
          0.3139958756562797,
          0.3139958756562797,
          0.3139958756562797,
          0.3139958756562797,
          0.3145359936787171,
          0.3145359936787171,
          0.3145359936787171,
          0.3145359936787171,
          0.3145359936787171,
          0.31507611170115457,
          0.31507611170115457,
          0.315616229723592,
          0.315616229723592,
          0.315616229723592,
          0.315616229723592,
          0.315616229723592,
          0.3161563477460294,
          0.3161563477460294,
          0.3166964657684669,
          0.3166964657684669,
          0.3166964657684669,
          0.3166964657684669,
          0.31723658379090425,
          0.3177767018133417,
          0.31831681983577914,
          0.31831681983577914,
          0.31831681983577914,
          0.31831681983577914,
          0.31885693785821656,
          0.31885693785821656,
          0.31885693785821656,
          0.31939705588065403,
          0.31939705588065403,
          0.31993717390309145,
          0.3204772919255289,
          0.3204772919255289,
          0.3204772919255289,
          0.3204772919255289,
          0.3204772919255289,
          0.3204772919255289,
          0.3204772919255289,
          0.3210174099479663,
          0.3215575279704037,
          0.3215575279704037,
          0.3215575279704037,
          0.3215575279704037,
          0.3215575279704037,
          0.3220976459928412,
          0.3220976459928412,
          0.3220976459928412,
          0.3220976459928412,
          0.3220976459928412,
          0.32263776401527855,
          0.323177882037716,
          0.32371800006015344,
          0.32371800006015344,
          0.32425811808259086,
          0.32479823610502834,
          0.32533835412746576,
          0.32533835412746576,
          0.32533835412746576,
          0.3258784721499032,
          0.3258784721499032,
          0.3258784721499032,
          0.32641859017234065,
          0.326958708194778,
          0.326958708194778,
          0.3274988262172155,
          0.3285790622620903,
          0.3285790622620903,
          0.3285790622620903,
          0.3285790622620903,
          0.3285790622620903,
          0.3285790622620903,
          0.3291191802845278,
          0.3296592983069652,
          0.33019941632940264,
          0.3307395343518401,
          0.3307395343518401,
          0.3312796523742775,
          0.3312796523742775,
          0.3312796523742775,
          0.33235988841915237,
          0.33235988841915237,
          0.3329000064415898,
          0.3345203605089021,
          0.3345203605089021,
          0.3345203605089021,
          0.33560059655377694,
          0.3361407145762144,
          0.33668083259865184,
          0.33668083259865184,
          0.33668083259865184,
          0.33668083259865184,
          0.33776106864352673,
          0.33776106864352673,
          0.33830118666596415,
          0.33884130468840157,
          0.3404616587557139,
          0.34100177677815136,
          0.34316224886790103,
          0.34316224886790103,
          0.3442424849127759,
          0.34478260293521334,
          0.3453227209576508,
          0.34640295700252566,
          0.34640295700252566,
          0.3474831930474005,
          0.3485634290922754,
          0.3491035471147128,
          0.35018378315958765,
          0.35396460931664975,
          0.3545047273390871,
          0.3545047273390871,
          0.3550448453615246,
          0.35720531745127426,
          0.35936578954102405,
          0.3599059075634614,
          0.3604460255858989,
          0.36638732383271067,
          0.36638732383271067,
          0.3669274418551481
         ],
         "yaxis": "y"
        }
       ],
       "layout": {
        "legend": {
         "tracegroupgap": 0
        },
        "margin": {
         "t": 60
        },
        "template": {
         "data": {
          "bar": [
           {
            "error_x": {
             "color": "#2a3f5f"
            },
            "error_y": {
             "color": "#2a3f5f"
            },
            "marker": {
             "line": {
              "color": "#E5ECF6",
              "width": 0.5
             },
             "pattern": {
              "fillmode": "overlay",
              "size": 10,
              "solidity": 0.2
             }
            },
            "type": "bar"
           }
          ],
          "barpolar": [
           {
            "marker": {
             "line": {
              "color": "#E5ECF6",
              "width": 0.5
             },
             "pattern": {
              "fillmode": "overlay",
              "size": 10,
              "solidity": 0.2
             }
            },
            "type": "barpolar"
           }
          ],
          "carpet": [
           {
            "aaxis": {
             "endlinecolor": "#2a3f5f",
             "gridcolor": "white",
             "linecolor": "white",
             "minorgridcolor": "white",
             "startlinecolor": "#2a3f5f"
            },
            "baxis": {
             "endlinecolor": "#2a3f5f",
             "gridcolor": "white",
             "linecolor": "white",
             "minorgridcolor": "white",
             "startlinecolor": "#2a3f5f"
            },
            "type": "carpet"
           }
          ],
          "choropleth": [
           {
            "colorbar": {
             "outlinewidth": 0,
             "ticks": ""
            },
            "type": "choropleth"
           }
          ],
          "contour": [
           {
            "colorbar": {
             "outlinewidth": 0,
             "ticks": ""
            },
            "colorscale": [
             [
              0,
              "#0d0887"
             ],
             [
              0.1111111111111111,
              "#46039f"
             ],
             [
              0.2222222222222222,
              "#7201a8"
             ],
             [
              0.3333333333333333,
              "#9c179e"
             ],
             [
              0.4444444444444444,
              "#bd3786"
             ],
             [
              0.5555555555555556,
              "#d8576b"
             ],
             [
              0.6666666666666666,
              "#ed7953"
             ],
             [
              0.7777777777777778,
              "#fb9f3a"
             ],
             [
              0.8888888888888888,
              "#fdca26"
             ],
             [
              1,
              "#f0f921"
             ]
            ],
            "type": "contour"
           }
          ],
          "contourcarpet": [
           {
            "colorbar": {
             "outlinewidth": 0,
             "ticks": ""
            },
            "type": "contourcarpet"
           }
          ],
          "heatmap": [
           {
            "colorbar": {
             "outlinewidth": 0,
             "ticks": ""
            },
            "colorscale": [
             [
              0,
              "#0d0887"
             ],
             [
              0.1111111111111111,
              "#46039f"
             ],
             [
              0.2222222222222222,
              "#7201a8"
             ],
             [
              0.3333333333333333,
              "#9c179e"
             ],
             [
              0.4444444444444444,
              "#bd3786"
             ],
             [
              0.5555555555555556,
              "#d8576b"
             ],
             [
              0.6666666666666666,
              "#ed7953"
             ],
             [
              0.7777777777777778,
              "#fb9f3a"
             ],
             [
              0.8888888888888888,
              "#fdca26"
             ],
             [
              1,
              "#f0f921"
             ]
            ],
            "type": "heatmap"
           }
          ],
          "heatmapgl": [
           {
            "colorbar": {
             "outlinewidth": 0,
             "ticks": ""
            },
            "colorscale": [
             [
              0,
              "#0d0887"
             ],
             [
              0.1111111111111111,
              "#46039f"
             ],
             [
              0.2222222222222222,
              "#7201a8"
             ],
             [
              0.3333333333333333,
              "#9c179e"
             ],
             [
              0.4444444444444444,
              "#bd3786"
             ],
             [
              0.5555555555555556,
              "#d8576b"
             ],
             [
              0.6666666666666666,
              "#ed7953"
             ],
             [
              0.7777777777777778,
              "#fb9f3a"
             ],
             [
              0.8888888888888888,
              "#fdca26"
             ],
             [
              1,
              "#f0f921"
             ]
            ],
            "type": "heatmapgl"
           }
          ],
          "histogram": [
           {
            "marker": {
             "pattern": {
              "fillmode": "overlay",
              "size": 10,
              "solidity": 0.2
             }
            },
            "type": "histogram"
           }
          ],
          "histogram2d": [
           {
            "colorbar": {
             "outlinewidth": 0,
             "ticks": ""
            },
            "colorscale": [
             [
              0,
              "#0d0887"
             ],
             [
              0.1111111111111111,
              "#46039f"
             ],
             [
              0.2222222222222222,
              "#7201a8"
             ],
             [
              0.3333333333333333,
              "#9c179e"
             ],
             [
              0.4444444444444444,
              "#bd3786"
             ],
             [
              0.5555555555555556,
              "#d8576b"
             ],
             [
              0.6666666666666666,
              "#ed7953"
             ],
             [
              0.7777777777777778,
              "#fb9f3a"
             ],
             [
              0.8888888888888888,
              "#fdca26"
             ],
             [
              1,
              "#f0f921"
             ]
            ],
            "type": "histogram2d"
           }
          ],
          "histogram2dcontour": [
           {
            "colorbar": {
             "outlinewidth": 0,
             "ticks": ""
            },
            "colorscale": [
             [
              0,
              "#0d0887"
             ],
             [
              0.1111111111111111,
              "#46039f"
             ],
             [
              0.2222222222222222,
              "#7201a8"
             ],
             [
              0.3333333333333333,
              "#9c179e"
             ],
             [
              0.4444444444444444,
              "#bd3786"
             ],
             [
              0.5555555555555556,
              "#d8576b"
             ],
             [
              0.6666666666666666,
              "#ed7953"
             ],
             [
              0.7777777777777778,
              "#fb9f3a"
             ],
             [
              0.8888888888888888,
              "#fdca26"
             ],
             [
              1,
              "#f0f921"
             ]
            ],
            "type": "histogram2dcontour"
           }
          ],
          "mesh3d": [
           {
            "colorbar": {
             "outlinewidth": 0,
             "ticks": ""
            },
            "type": "mesh3d"
           }
          ],
          "parcoords": [
           {
            "line": {
             "colorbar": {
              "outlinewidth": 0,
              "ticks": ""
             }
            },
            "type": "parcoords"
           }
          ],
          "pie": [
           {
            "automargin": true,
            "type": "pie"
           }
          ],
          "scatter": [
           {
            "fillpattern": {
             "fillmode": "overlay",
             "size": 10,
             "solidity": 0.2
            },
            "type": "scatter"
           }
          ],
          "scatter3d": [
           {
            "line": {
             "colorbar": {
              "outlinewidth": 0,
              "ticks": ""
             }
            },
            "marker": {
             "colorbar": {
              "outlinewidth": 0,
              "ticks": ""
             }
            },
            "type": "scatter3d"
           }
          ],
          "scattercarpet": [
           {
            "marker": {
             "colorbar": {
              "outlinewidth": 0,
              "ticks": ""
             }
            },
            "type": "scattercarpet"
           }
          ],
          "scattergeo": [
           {
            "marker": {
             "colorbar": {
              "outlinewidth": 0,
              "ticks": ""
             }
            },
            "type": "scattergeo"
           }
          ],
          "scattergl": [
           {
            "marker": {
             "colorbar": {
              "outlinewidth": 0,
              "ticks": ""
             }
            },
            "type": "scattergl"
           }
          ],
          "scattermapbox": [
           {
            "marker": {
             "colorbar": {
              "outlinewidth": 0,
              "ticks": ""
             }
            },
            "type": "scattermapbox"
           }
          ],
          "scatterpolar": [
           {
            "marker": {
             "colorbar": {
              "outlinewidth": 0,
              "ticks": ""
             }
            },
            "type": "scatterpolar"
           }
          ],
          "scatterpolargl": [
           {
            "marker": {
             "colorbar": {
              "outlinewidth": 0,
              "ticks": ""
             }
            },
            "type": "scatterpolargl"
           }
          ],
          "scatterternary": [
           {
            "marker": {
             "colorbar": {
              "outlinewidth": 0,
              "ticks": ""
             }
            },
            "type": "scatterternary"
           }
          ],
          "surface": [
           {
            "colorbar": {
             "outlinewidth": 0,
             "ticks": ""
            },
            "colorscale": [
             [
              0,
              "#0d0887"
             ],
             [
              0.1111111111111111,
              "#46039f"
             ],
             [
              0.2222222222222222,
              "#7201a8"
             ],
             [
              0.3333333333333333,
              "#9c179e"
             ],
             [
              0.4444444444444444,
              "#bd3786"
             ],
             [
              0.5555555555555556,
              "#d8576b"
             ],
             [
              0.6666666666666666,
              "#ed7953"
             ],
             [
              0.7777777777777778,
              "#fb9f3a"
             ],
             [
              0.8888888888888888,
              "#fdca26"
             ],
             [
              1,
              "#f0f921"
             ]
            ],
            "type": "surface"
           }
          ],
          "table": [
           {
            "cells": {
             "fill": {
              "color": "#EBF0F8"
             },
             "line": {
              "color": "white"
             }
            },
            "header": {
             "fill": {
              "color": "#C8D4E3"
             },
             "line": {
              "color": "white"
             }
            },
            "type": "table"
           }
          ]
         },
         "layout": {
          "annotationdefaults": {
           "arrowcolor": "#2a3f5f",
           "arrowhead": 0,
           "arrowwidth": 1
          },
          "autotypenumbers": "strict",
          "coloraxis": {
           "colorbar": {
            "outlinewidth": 0,
            "ticks": ""
           }
          },
          "colorscale": {
           "diverging": [
            [
             0,
             "#8e0152"
            ],
            [
             0.1,
             "#c51b7d"
            ],
            [
             0.2,
             "#de77ae"
            ],
            [
             0.3,
             "#f1b6da"
            ],
            [
             0.4,
             "#fde0ef"
            ],
            [
             0.5,
             "#f7f7f7"
            ],
            [
             0.6,
             "#e6f5d0"
            ],
            [
             0.7,
             "#b8e186"
            ],
            [
             0.8,
             "#7fbc41"
            ],
            [
             0.9,
             "#4d9221"
            ],
            [
             1,
             "#276419"
            ]
           ],
           "sequential": [
            [
             0,
             "#0d0887"
            ],
            [
             0.1111111111111111,
             "#46039f"
            ],
            [
             0.2222222222222222,
             "#7201a8"
            ],
            [
             0.3333333333333333,
             "#9c179e"
            ],
            [
             0.4444444444444444,
             "#bd3786"
            ],
            [
             0.5555555555555556,
             "#d8576b"
            ],
            [
             0.6666666666666666,
             "#ed7953"
            ],
            [
             0.7777777777777778,
             "#fb9f3a"
            ],
            [
             0.8888888888888888,
             "#fdca26"
            ],
            [
             1,
             "#f0f921"
            ]
           ],
           "sequentialminus": [
            [
             0,
             "#0d0887"
            ],
            [
             0.1111111111111111,
             "#46039f"
            ],
            [
             0.2222222222222222,
             "#7201a8"
            ],
            [
             0.3333333333333333,
             "#9c179e"
            ],
            [
             0.4444444444444444,
             "#bd3786"
            ],
            [
             0.5555555555555556,
             "#d8576b"
            ],
            [
             0.6666666666666666,
             "#ed7953"
            ],
            [
             0.7777777777777778,
             "#fb9f3a"
            ],
            [
             0.8888888888888888,
             "#fdca26"
            ],
            [
             1,
             "#f0f921"
            ]
           ]
          },
          "colorway": [
           "#636efa",
           "#EF553B",
           "#00cc96",
           "#ab63fa",
           "#FFA15A",
           "#19d3f3",
           "#FF6692",
           "#B6E880",
           "#FF97FF",
           "#FECB52"
          ],
          "font": {
           "color": "#2a3f5f"
          },
          "geo": {
           "bgcolor": "white",
           "lakecolor": "white",
           "landcolor": "#E5ECF6",
           "showlakes": true,
           "showland": true,
           "subunitcolor": "white"
          },
          "hoverlabel": {
           "align": "left"
          },
          "hovermode": "closest",
          "mapbox": {
           "style": "light"
          },
          "paper_bgcolor": "white",
          "plot_bgcolor": "#E5ECF6",
          "polar": {
           "angularaxis": {
            "gridcolor": "white",
            "linecolor": "white",
            "ticks": ""
           },
           "bgcolor": "#E5ECF6",
           "radialaxis": {
            "gridcolor": "white",
            "linecolor": "white",
            "ticks": ""
           }
          },
          "scene": {
           "xaxis": {
            "backgroundcolor": "#E5ECF6",
            "gridcolor": "white",
            "gridwidth": 2,
            "linecolor": "white",
            "showbackground": true,
            "ticks": "",
            "zerolinecolor": "white"
           },
           "yaxis": {
            "backgroundcolor": "#E5ECF6",
            "gridcolor": "white",
            "gridwidth": 2,
            "linecolor": "white",
            "showbackground": true,
            "ticks": "",
            "zerolinecolor": "white"
           },
           "zaxis": {
            "backgroundcolor": "#E5ECF6",
            "gridcolor": "white",
            "gridwidth": 2,
            "linecolor": "white",
            "showbackground": true,
            "ticks": "",
            "zerolinecolor": "white"
           }
          },
          "shapedefaults": {
           "line": {
            "color": "#2a3f5f"
           }
          },
          "ternary": {
           "aaxis": {
            "gridcolor": "white",
            "linecolor": "white",
            "ticks": ""
           },
           "baxis": {
            "gridcolor": "white",
            "linecolor": "white",
            "ticks": ""
           },
           "bgcolor": "#E5ECF6",
           "caxis": {
            "gridcolor": "white",
            "linecolor": "white",
            "ticks": ""
           }
          },
          "title": {
           "x": 0.05
          },
          "xaxis": {
           "automargin": true,
           "gridcolor": "white",
           "linecolor": "white",
           "ticks": "",
           "title": {
            "standoff": 15
           },
           "zerolinecolor": "white",
           "zerolinewidth": 2
          },
          "yaxis": {
           "automargin": true,
           "gridcolor": "white",
           "linecolor": "white",
           "ticks": "",
           "title": {
            "standoff": 15
           },
           "zerolinecolor": "white",
           "zerolinewidth": 2
          }
         }
        },
        "xaxis": {
         "anchor": "y",
         "domain": [
          0,
          1
         ],
         "title": {
          "text": "xwOBA_2021"
         }
        },
        "yaxis": {
         "anchor": "x",
         "domain": [
          0,
          1
         ],
         "title": {
          "text": "weighted_woba_2022_2023"
         }
        }
       }
      }
     },
     "metadata": {},
     "output_type": "display_data"
    }
   ],
   "source": [
    "px.scatter(data_frame=merged_leaders.loc[merged_leaders['PA_2021'] > 200], x='xwOBA_2021', y='weighted_woba_2022_2023', trendline='ols',hover_data=['Name', 'PA_2021'])"
   ]
  },
  {
   "cell_type": "code",
   "execution_count": 14,
   "metadata": {},
   "outputs": [
    {
     "data": {
      "application/vnd.plotly.v1+json": {
       "config": {
        "plotlyServerURL": "https://plotly.com"
       },
       "data": [
        {
         "customdata": [
          [
           "Miguel Cabrera",
           526
          ],
          [
           "Nelson Cruz",
           584
          ],
          [
           "David Peralta",
           538
          ],
          [
           "Evan Longoria",
           291
          ],
          [
           "Charlie Blackmon",
           582
          ],
          [
           "Martin Maldonado",
           426
          ],
          [
           "Donovan Solano",
           344
          ],
          [
           "Andrew McCutchen",
           574
          ],
          [
           "Justin Turner",
           612
          ],
          [
           "Joey Votto",
           533
          ],
          [
           "Elvis Andrus",
           541
          ],
          [
           "Carlos Santana",
           659
          ],
          [
           "Brandon Belt",
           381
          ],
          [
           "Yuli Gurriel",
           605
          ],
          [
           "Miguel Rojas",
           539
          ],
          [
           "Eduardo Escobar",
           599
          ],
          [
           "Ehire Adrianza",
           209
          ],
          [
           "Tommy Pham",
           561
          ],
          [
           "J.D. Martinez",
           634
          ],
          [
           "Paul Goldschmidt",
           679
          ],
          [
           "Sandy Leon",
           220
          ],
          [
           "Jose Altuve",
           678
          ],
          [
           "Jean Segura",
           567
          ],
          [
           "Starling Marte",
           526
          ],
          [
           "Travis d'Arnaud",
           229
          ],
          [
           "Josh Donaldson",
           543
          ],
          [
           "Freddie Freeman",
           695
          ],
          [
           "Yasmani Grandal",
           375
          ],
          [
           "Jason Heyward",
           353
          ],
          [
           "DJ LeMahieu",
           679
          ],
          [
           "Mike Moustakas",
           206
          ],
          [
           "Anthony Rizzo",
           576
          ],
          [
           "Giancarlo Stanton",
           579
          ],
          [
           "Salvador Perez",
           665
          ],
          [
           "Wilmer Flores",
           436
          ],
          [
           "Avisail Garcia",
           515
          ],
          [
           "Marcell Ozuna",
           208
          ],
          [
           "Jesus Aguilar",
           510
          ],
          [
           "Jon Berti",
           271
          ],
          [
           "Brandon Crawford",
           549
          ],
          [
           "C.J. Cron",
           547
          ],
          [
           "Yan Gomes",
           375
          ],
          [
           "Robbie Grossman",
           671
          ],
          [
           "Josh Harrison",
           558
          ],
          [
           "Kyle Higashioka",
           211
          ],
          [
           "Eric Hosmer",
           565
          ],
          [
           "James McCann",
           412
          ],
          [
           "Brad Miller",
           377
          ],
          [
           "Anthony Rendon",
           249
          ],
          [
           "Marcus Semien",
           724
          ],
          [
           "George Springer",
           342
          ],
          [
           "Christian Vazquez",
           498
          ],
          [
           "Kolten Wong",
           492
          ],
          [
           "Randal Grichuk",
           545
          ],
          [
           "Bryce Harper",
           599
          ],
          [
           "Jose Abreu",
           659
          ],
          [
           "Elias Diaz",
           371
          ],
          [
           "Omar Narvaez",
           445
          ],
          [
           "Eugenio Suarez",
           574
          ],
          [
           "Gio Urshela",
           442
          ],
          [
           "Jonathan Schoop",
           674
          ],
          [
           "Nolan Arenado",
           653
          ],
          [
           "Tucker Barnhart",
           388
          ],
          [
           "Kyle Farmer",
           529
          ],
          [
           "Mitch Haniger",
           691
          ],
          [
           "Enrique Hernandez",
           585
          ],
          [
           "Max Muncy",
           592
          ],
          [
           "Wil Myers",
           500
          ],
          [
           "A.J. Pollock",
           422
          ],
          [
           "Michael A. Taylor",
           528
          ],
          [
           "Luke Voit",
           241
          ],
          [
           "Christian Walker",
           445
          ],
          [
           "Mike Zunino",
           375
          ],
          [
           "Matt Carpenter",
           249
          ],
          [
           "Corey Dickerson",
           365
          ],
          [
           "Darin Ruf",
           312
          ],
          [
           "Mike Yastrzemski",
           532
          ],
          [
           "Willson Contreras",
           483
          ],
          [
           "Kris Bryant",
           586
          ],
          [
           "Mark Canha",
           625
          ],
          [
           "Curt Casali",
           231
          ],
          [
           "Nick Castellanos",
           585
          ],
          [
           "Aaron Judge",
           633
          ],
          [
           "Manny Machado",
           640
          ],
          [
           "Joc Pederson",
           481
          ],
          [
           "J.T. Realmuto",
           537
          ],
          [
           "Hunter Renfroe",
           572
          ],
          [
           "Eddie Rosario",
           412
          ],
          [
           "Christian Yelich",
           475
          ],
          [
           "Whit Merrifield",
           720
          ],
          [
           "Xander Bogaerts",
           603
          ],
          [
           "Hanser Alberto",
           255
          ],
          [
           "Jorge Polanco",
           644
          ],
          [
           "Adam Duvall",
           555
          ],
          [
           "Kevin Kiermaier",
           390
          ],
          [
           "Jorge Alfaro",
           311
          ],
          [
           "Jurickson Profar",
           412
          ],
          [
           "Javier Baez",
           547
          ],
          [
           "Austin Hedges",
           312
          ],
          [
           "Francisco Lindor",
           524
          ],
          [
           "Rougned Odor",
           361
          ],
          [
           "Austin Slater",
           306
          ],
          [
           "Daniel Vogelbach",
           258
          ],
          [
           "Gary Sanchez",
           440
          ],
          [
           "Max Kepler",
           490
          ],
          [
           "Ji-Man Choi",
           305
          ],
          [
           "Jackie Bradley Jr.",
           428
          ],
          [
           "Tommy La Stella",
           242
          ],
          [
           "Jeimer Candelario",
           626
          ],
          [
           "Yonathan Daza",
           331
          ],
          [
           "Ramon Urias",
           296
          ],
          [
           "Nick Ahmed",
           473
          ],
          [
           "Brian Anderson",
           264
          ],
          [
           "Austin Barnes",
           225
          ],
          [
           "Josh Bell",
           568
          ],
          [
           "Mookie Betts",
           550
          ],
          [
           "Victor Caratini",
           356
          ],
          [
           "J.D. Davis",
           211
          ],
          [
           "Michael Perez",
           231
          ],
          [
           "Harold Castro",
           339
          ],
          [
           "Raimel Tapia",
           533
          ],
          [
           "Teoscar Hernandez",
           595
          ],
          [
           "Ketel Marte",
           374
          ],
          [
           "Eric Haase",
           381
          ],
          [
           "Brandon Nimmo",
           386
          ],
          [
           "Jace Peterson",
           302
          ],
          [
           "Trea Turner",
           646
          ],
          [
           "Matt Beaty",
           234
          ],
          [
           "Kevin Pillar",
           347
          ],
          [
           "Jacob Stallings",
           427
          ],
          [
           "Jose Ramirez",
           636
          ],
          [
           "Alex Bregman",
           400
          ],
          [
           "Joey Gallo",
           616
          ],
          [
           "Carson Kelly",
           359
          ],
          [
           "Corey Seager",
           409
          ],
          [
           "Jesse Winker",
           485
          ],
          [
           "Tom Murphy",
           325
          ],
          [
           "Franmil Reyes",
           466
          ],
          [
           "Luis Torrens",
           378
          ],
          [
           "Dansby Swanson",
           653
          ],
          [
           "Kevin Newman",
           554
          ],
          [
           "Chris Taylor",
           582
          ],
          [
           "Carlos Correa",
           640
          ],
          [
           "Brett Phillips",
           292
          ],
          [
           "Tyrone Taylor",
           271
          ],
          [
           "Byron Buxton",
           254
          ],
          [
           "Taylor Ward",
           237
          ],
          [
           "Patrick Wisdom",
           375
          ],
          [
           "Joey Wendle",
           501
          ],
          [
           "Matt Olson",
           673
          ],
          [
           "Matt Duffy",
           322
          ],
          [
           "Manuel Margot",
           464
          ],
          [
           "Jorge Mateo",
           209
          ],
          [
           "Harold Ramirez",
           361
          ],
          [
           "Anthony Santander",
           438
          ],
          [
           "Pete Alonso",
           637
          ],
          [
           "Cavan Biggio",
           294
          ],
          [
           "Adam Frazier",
           639
          ],
          [
           "Jose Trevino",
           302
          ],
          [
           "Nick Gordon",
           216
          ],
          [
           "Reese McGuire",
           217
          ],
          [
           "Jorge Soler",
           602
          ],
          [
           "Edmundo Sosa",
           326
          ],
          [
           "Andy Ibanez",
           272
          ],
          [
           "Jake Cronenworth",
           643
          ],
          [
           "Jackson Frazier",
           218
          ],
          [
           "Austin Meadows",
           591
          ],
          [
           "Oscar Mercado",
           238
          ],
          [
           "Tim Anderson",
           551
          ],
          [
           "Cody Bellinger",
           350
          ],
          [
           "Willie Calhoun",
           284
          ],
          [
           "J.P. Crawford",
           687
          ],
          [
           "Hunter Dozier",
           543
          ],
          [
           "Jake Fraley",
           265
          ],
          [
           "Mitch Garver",
           243
          ],
          [
           "Garrett Hampson",
           494
          ],
          [
           "Jonah Heim",
           285
          ],
          [
           "Trey Mancini",
           616
          ],
          [
           "Billy McKinney",
           300
          ],
          [
           "Ryan McMahon",
           596
          ],
          [
           "Tyler O'Neill",
           537
          ],
          [
           "Dominic Smith",
           493
          ],
          [
           "Rowdy Tellez",
           325
          ],
          [
           "Eli White",
           220
          ],
          [
           "Francisco Mejia",
           277
          ],
          [
           "Amed Rosario",
           588
          ],
          [
           "Willy Adames",
           555
          ],
          [
           "Andrew Benintendi",
           538
          ],
          [
           "Garrett Cooper",
           250
          ],
          [
           "Danny Jansen",
           205
          ],
          [
           "Tony Kemp",
           397
          ],
          [
           "Isiah Kiner-Falefa",
           677
          ],
          [
           "Jeff McNeil",
           426
          ],
          [
           "Yu Chang",
           251
          ],
          [
           "Ozzie Albies",
           686
          ],
          [
           "Victor Robles",
           369
          ],
          [
           "Rafael Devers",
           664
          ],
          [
           "Josh Naylor",
           250
          ],
          [
           "Abraham Toro",
           375
          ],
          [
           "Aledmys Diaz",
           319
          ],
          [
           "Luis Urias",
           570
          ],
          [
           "Luis Arraez",
           479
          ],
          [
           "Eloy Jimenez",
           231
          ],
          [
           "Gleyber Torres",
           516
          ],
          [
           "Willi Castro",
           450
          ],
          [
           "Yandy Diaz",
           541
          ],
          [
           "Bryan De La Cruz",
           219
          ],
          [
           "Matt Chapman",
           622
          ],
          [
           "Sam Hilliard",
           238
          ],
          [
           "Connor Joe",
           211
          ],
          [
           "Cedric Mullins II",
           675
          ],
          [
           "Ryan O'Hearn",
           254
          ],
          [
           "Kyle Schwarber",
           471
          ],
          [
           "Pavin Smith",
           545
          ],
          [
           "Lane Thomas",
           264
          ],
          [
           "Alex Verdugo",
           604
          ],
          [
           "Paul DeJong",
           402
          ],
          [
           "Ramon Laureano",
           378
          ],
          [
           "Yoan Moncada",
           616
          ],
          [
           "Shohei Ohtani",
           639
          ],
          [
           "Ronald Acuna Jr.",
           360
          ],
          [
           "Jesus Sanchez",
           251
          ],
          [
           "Daulton Varsho",
           315
          ],
          [
           "Austin Riley",
           662
          ],
          [
           "Nick Madrigal",
           215
          ],
          [
           "Trevor Larnach",
           301
          ],
          [
           "Ryan Mountcastle",
           586
          ],
          [
           "Ke'Bryan Hayes",
           396
          ],
          [
           "Kyle Tucker",
           567
          ],
          [
           "Jonathan India",
           631
          ],
          [
           "Trent Grisham",
           527
          ],
          [
           "Tyler Stephenson",
           402
          ],
          [
           "Nathaniel Lowe",
           642
          ],
          [
           "Ian Happ",
           535
          ],
          [
           "Ty France",
           650
          ],
          [
           "Brandon Lowe",
           615
          ],
          [
           "Harrison Bader",
           401
          ],
          [
           "David Fletcher",
           665
          ],
          [
           "Dylan Moore",
           377
          ],
          [
           "Myles Straw",
           638
          ],
          [
           "Alec Bohm",
           417
          ],
          [
           "LaMonte Wade Jr.",
           381
          ],
          [
           "Seth Brown",
           307
          ],
          [
           "Jared Walsh",
           585
          ],
          [
           "Vladimir Guerrero Jr.",
           698
          ],
          [
           "Juan Soto",
           654
          ],
          [
           "Jazz Chisholm Jr.",
           507
          ],
          [
           "Andres Gimenez",
           210
          ],
          [
           "Alex Kirilloff",
           231
          ],
          [
           "Bo Bichette",
           690
          ],
          [
           "Dylan Carlson",
           619
          ],
          [
           "Bobby Dalbec",
           453
          ],
          [
           "Adolis Garcia",
           622
          ],
          [
           "Lourdes Gurriel Jr.",
           541
          ],
          [
           "Brent Rooker",
           213
          ],
          [
           "Randy Arozarena",
           604
          ],
          [
           "Akil Baddoo",
           461
          ],
          [
           "Bryan Reynolds",
           646
          ],
          [
           "Josh Rojas",
           550
          ],
          [
           "Brandon Marsh",
           260
          ],
          [
           "Sean Murphy",
           448
          ],
          [
           "Tommy Edman",
           691
          ],
          [
           "Will Smith",
           501
          ],
          [
           "Santiago Espinal",
           246
          ],
          [
           "Austin Hays",
           529
          ],
          [
           "Nicky Lopez",
           565
          ],
          [
           "Yordan Alvarez",
           598
          ],
          [
           "Luis Garcia",
           247
          ],
          [
           "Jarred Kelenic",
           377
          ],
          [
           "Luis Robert",
           296
          ],
          [
           "Ha-seong Kim",
           298
          ],
          [
           "Chas McCormick",
           320
          ],
          [
           "Wander Franco",
           308
          ],
          [
           "Ryan Jeffers",
           293
          ],
          [
           "Owen Miller",
           202
          ],
          [
           "Andrew Vaughn",
           469
          ]
         ],
         "hovertemplate": "sxwOBA_2021=%{x}<br>weighted_woba_2022_2023=%{y}<br>Name=%{customdata[0]}<br>PA_2021=%{customdata[1]}<extra></extra>",
         "legendgroup": "",
         "marker": {
          "color": "#636efa",
          "symbol": "circle"
         },
         "mode": "markers",
         "name": "",
         "orientation": "v",
         "showlegend": false,
         "type": "scatter",
         "x": [
          0.316,
          0.366,
          0.32,
          0.363,
          0.356,
          0.266,
          0.343,
          0.346,
          0.352,
          0.402,
          0.31,
          0.314,
          0.382,
          0.35,
          0.309,
          0.336,
          0.327,
          0.347,
          0.364,
          0.396,
          0.226,
          0.363,
          0.339,
          0.362,
          0.309,
          0.37,
          0.418,
          0.409,
          0.29,
          0.355,
          0.278,
          0.36,
          0.369,
          0.374,
          0.332,
          0.373,
          0.335,
          0.343,
          0.299,
          0.372,
          0.372,
          0.336,
          0.344,
          0.333,
          0.306,
          0.338,
          0.28,
          0.36,
          0.321,
          0.352,
          0.371,
          0.292,
          0.317,
          0.309,
          0.429,
          0.363,
          0.325,
          0.317,
          0.316,
          0.302,
          0.327,
          0.327,
          0.29,
          0.31,
          0.361,
          0.335,
          0.392,
          0.311,
          0.37,
          0.298,
          0.348,
          0.315,
          0.368,
          0.324,
          0.31,
          0.393,
          0.337,
          0.358,
          0.344,
          0.339,
          0.284,
          0.378,
          0.415,
          0.37,
          0.324,
          0.357,
          0.361,
          0.311,
          0.346,
          0.316,
          0.369,
          0.295,
          0.362,
          0.335,
          0.305,
          0.303,
          0.305,
          0.341,
          0.231,
          0.348,
          0.295,
          0.356,
          0.355,
          0.325,
          0.345,
          0.339,
          0.252,
          0.327,
          0.368,
          0.314,
          0.354,
          0.27,
          0.286,
          0.276,
          0.374,
          0.362,
          0.297,
          0.339,
          0.236,
          0.316,
          0.314,
          0.392,
          0.377,
          0.325,
          0.374,
          0.314,
          0.39,
          0.322,
          0.298,
          0.329,
          0.397,
          0.327,
          0.358,
          0.342,
          0.384,
          0.401,
          0.291,
          0.359,
          0.321,
          0.336,
          0.29,
          0.34,
          0.386,
          0.294,
          0.328,
          0.413,
          0.351,
          0.33,
          0.308,
          0.403,
          0.337,
          0.328,
          0.289,
          0.333,
          0.325,
          0.374,
          0.308,
          0.342,
          0.273,
          0.315,
          0.29,
          0.356,
          0.336,
          0.342,
          0.37,
          0.301,
          0.335,
          0.318,
          0.337,
          0.286,
          0.316,
          0.314,
          0.304,
          0.351,
          0.375,
          0.294,
          0.296,
          0.342,
          0.311,
          0.331,
          0.397,
          0.325,
          0.331,
          0.27,
          0.296,
          0.327,
          0.334,
          0.338,
          0.371,
          0.366,
          0.34,
          0.319,
          0.318,
          0.299,
          0.342,
          0.293,
          0.4,
          0.323,
          0.332,
          0.312,
          0.339,
          0.34,
          0.329,
          0.33,
          0.302,
          0.346,
          0.332,
          0.328,
          0.325,
          0.368,
          0.377,
          0.3,
          0.393,
          0.32,
          0.321,
          0.35,
          0.314,
          0.337,
          0.354,
          0.423,
          0.415,
          0.349,
          0.335,
          0.373,
          0.31,
          0.307,
          0.333,
          0.307,
          0.396,
          0.367,
          0.331,
          0.331,
          0.345,
          0.325,
          0.348,
          0.374,
          0.328,
          0.308,
          0.296,
          0.315,
          0.324,
          0.347,
          0.322,
          0.343,
          0.432,
          0.44,
          0.321,
          0.283,
          0.336,
          0.38,
          0.334,
          0.347,
          0.312,
          0.346,
          0.332,
          0.323,
          0.334,
          0.397,
          0.317,
          0.327,
          0.334,
          0.338,
          0.373,
          0.335,
          0.322,
          0.305,
          0.382,
          0.29,
          0.309,
          0.383,
          0.288,
          0.329,
          0.345,
          0.307,
          0.26,
          0.321
         ],
         "xaxis": "x",
         "y": [
          0.279,
          0.293,
          0.312,
          0.335,
          0.323,
          0.259,
          0.33,
          0.327,
          0.346,
          0.321,
          0.293,
          0.305,
          0.321,
          0.291,
          0.262,
          0.312,
          0.208,
          0.311,
          0.347,
          0.403,
          0.222,
          0.388,
          0.285,
          0.332,
          0.348,
          0.297,
          0.395,
          0.282,
          0.299,
          0.317,
          0.305,
          0.349,
          0.316,
          0.325,
          0.317,
          0.258,
          0.316,
          0.287,
          0.295,
          0.288,
          0.329,
          0.289,
          0.287,
          0.295,
          0.275,
          0.305,
          0.245,
          0.267,
          0.314,
          0.327,
          0.342,
          0.3,
          0.308,
          0.323,
          0.361,
          0.332,
          0.312,
          0.267,
          0.328,
          0.325,
          0.244,
          0.365,
          0.248,
          0.307,
          0.306,
          0.28,
          0.325,
          0.289,
          0.285,
          0.292,
          0.304,
          0.353,
          0.242,
          0.373,
          0.303,
          0.291,
          0.318,
          0.336,
          0.344,
          0.336,
          0.275,
          0.326,
          0.454,
          0.36,
          0.374,
          0.346,
          0.339,
          0.304,
          0.335,
          0.303,
          0.35,
          0.274,
          0.33,
          0.32,
          0.31,
          0.284,
          0.316,
          0.281,
          0.217,
          0.336,
          0.284,
          0.355,
          0.336,
          0.294,
          0.298,
          0.313,
          0.235,
          0.274,
          0.304,
          0.317,
          0.315,
          0.278,
          0.3,
          0.27,
          0.334,
          0.372,
          0.291,
          0.345,
          0.245,
          0.292,
          0.29,
          0.336,
          0.341,
          0.3,
          0.352,
          0.296,
          0.334,
          0.192,
          0.314,
          0.26,
          0.362,
          0.348,
          0.301,
          0.271,
          0.355,
          0.301,
          0.336,
          0.274,
          0.264,
          0.338,
          0.305,
          0.301,
          0.342,
          0.211,
          0.293,
          0.342,
          0.342,
          0.318,
          0.29,
          0.354,
          0.294,
          0.309,
          0.278,
          0.336,
          0.343,
          0.364,
          0.3,
          0.28,
          0.281,
          0.302,
          0.296,
          0.338,
          0.276,
          0.276,
          0.311,
          0.274,
          0.297,
          0.277,
          0.293,
          0.295,
          0.291,
          0.314,
          0.29,
          0.356,
          0.313,
          0.279,
          0.322,
          0.309,
          0.269,
          0.336,
          0.3,
          0.283,
          0.319,
          0.249,
          0.281,
          0.303,
          0.314,
          0.331,
          0.32,
          0.343,
          0.279,
          0.283,
          0.343,
          0.263,
          0.326,
          0.279,
          0.361,
          0.333,
          0.255,
          0.28,
          0.321,
          0.37,
          0.349,
          0.326,
          0.292,
          0.377,
          0.32,
          0.337,
          0.271,
          0.32,
          0.326,
          0.322,
          0.346,
          0.296,
          0.33,
          0.334,
          0.279,
          0.289,
          0.277,
          0.387,
          0.366,
          0.31,
          0.314,
          0.362,
          0.277,
          0.307,
          0.309,
          0.295,
          0.346,
          0.325,
          0.288,
          0.329,
          0.362,
          0.346,
          0.336,
          0.306,
          0.295,
          0.273,
          0.331,
          0.263,
          0.31,
          0.346,
          0.31,
          0.27,
          0.351,
          0.384,
          0.34,
          0.344,
          0.313,
          0.354,
          0.309,
          0.285,
          0.332,
          0.335,
          0.33,
          0.354,
          0.277,
          0.351,
          0.31,
          0.314,
          0.349,
          0.316,
          0.363,
          0.301,
          0.332,
          0.26,
          0.422,
          0.305,
          0.298,
          0.347,
          0.317,
          0.331,
          0.335,
          0.313,
          0.296,
          0.329
         ],
         "yaxis": "y"
        },
        {
         "hovertemplate": "<b>OLS trendline</b><br>weighted_woba_2022_2023 = 0.562898 * sxwOBA_2021 + 0.122881<br>R<sup>2</sup>=0.311018<br><br>sxwOBA_2021=%{x}<br>weighted_woba_2022_2023=%{y} <b>(trend)</b><extra></extra>",
         "legendgroup": "",
         "marker": {
          "color": "#636efa",
          "symbol": "circle"
         },
         "mode": "lines",
         "name": "",
         "showlegend": false,
         "type": "scatter",
         "x": [
          0.226,
          0.231,
          0.236,
          0.252,
          0.26,
          0.266,
          0.27,
          0.27,
          0.273,
          0.276,
          0.278,
          0.28,
          0.283,
          0.284,
          0.286,
          0.286,
          0.288,
          0.289,
          0.29,
          0.29,
          0.29,
          0.29,
          0.29,
          0.291,
          0.292,
          0.293,
          0.294,
          0.294,
          0.295,
          0.295,
          0.296,
          0.296,
          0.296,
          0.297,
          0.298,
          0.298,
          0.299,
          0.299,
          0.3,
          0.301,
          0.302,
          0.302,
          0.303,
          0.304,
          0.305,
          0.305,
          0.305,
          0.306,
          0.307,
          0.307,
          0.307,
          0.308,
          0.308,
          0.308,
          0.309,
          0.309,
          0.309,
          0.309,
          0.31,
          0.31,
          0.31,
          0.31,
          0.311,
          0.311,
          0.311,
          0.312,
          0.312,
          0.314,
          0.314,
          0.314,
          0.314,
          0.314,
          0.314,
          0.315,
          0.315,
          0.315,
          0.316,
          0.316,
          0.316,
          0.316,
          0.316,
          0.317,
          0.317,
          0.317,
          0.318,
          0.318,
          0.319,
          0.32,
          0.32,
          0.321,
          0.321,
          0.321,
          0.321,
          0.321,
          0.322,
          0.322,
          0.322,
          0.323,
          0.323,
          0.324,
          0.324,
          0.324,
          0.325,
          0.325,
          0.325,
          0.325,
          0.325,
          0.325,
          0.325,
          0.327,
          0.327,
          0.327,
          0.327,
          0.327,
          0.327,
          0.327,
          0.328,
          0.328,
          0.328,
          0.328,
          0.329,
          0.329,
          0.329,
          0.33,
          0.33,
          0.331,
          0.331,
          0.331,
          0.331,
          0.332,
          0.332,
          0.332,
          0.332,
          0.333,
          0.333,
          0.333,
          0.334,
          0.334,
          0.334,
          0.334,
          0.335,
          0.335,
          0.335,
          0.335,
          0.335,
          0.335,
          0.336,
          0.336,
          0.336,
          0.336,
          0.336,
          0.337,
          0.337,
          0.337,
          0.337,
          0.338,
          0.338,
          0.338,
          0.339,
          0.339,
          0.339,
          0.339,
          0.339,
          0.34,
          0.34,
          0.34,
          0.341,
          0.342,
          0.342,
          0.342,
          0.342,
          0.342,
          0.343,
          0.343,
          0.343,
          0.344,
          0.344,
          0.345,
          0.345,
          0.345,
          0.346,
          0.346,
          0.346,
          0.346,
          0.347,
          0.347,
          0.347,
          0.348,
          0.348,
          0.348,
          0.349,
          0.35,
          0.35,
          0.351,
          0.351,
          0.352,
          0.352,
          0.354,
          0.354,
          0.355,
          0.355,
          0.356,
          0.356,
          0.356,
          0.357,
          0.358,
          0.358,
          0.359,
          0.36,
          0.36,
          0.361,
          0.361,
          0.362,
          0.362,
          0.362,
          0.363,
          0.363,
          0.363,
          0.364,
          0.366,
          0.366,
          0.367,
          0.368,
          0.368,
          0.368,
          0.369,
          0.369,
          0.37,
          0.37,
          0.37,
          0.37,
          0.371,
          0.371,
          0.372,
          0.372,
          0.373,
          0.373,
          0.373,
          0.374,
          0.374,
          0.374,
          0.374,
          0.374,
          0.375,
          0.377,
          0.377,
          0.378,
          0.38,
          0.382,
          0.382,
          0.383,
          0.384,
          0.386,
          0.39,
          0.392,
          0.392,
          0.393,
          0.393,
          0.396,
          0.396,
          0.397,
          0.397,
          0.397,
          0.4,
          0.401,
          0.402,
          0.403,
          0.409,
          0.413,
          0.415,
          0.415,
          0.418,
          0.423,
          0.429,
          0.432,
          0.44
         ],
         "xaxis": "x",
         "y": [
          0.25009623974616213,
          0.25291072755679744,
          0.25572521536743276,
          0.26473157636146566,
          0.26923475685848214,
          0.27261214223124447,
          0.2748637324797527,
          0.2748637324797527,
          0.2765524251661339,
          0.27824111785251504,
          0.2793669129767692,
          0.28049270810102334,
          0.28218140078740445,
          0.2827442983495315,
          0.2838700934737856,
          0.2838700934737856,
          0.2849958885980397,
          0.2855587861601668,
          0.28612168372229385,
          0.28612168372229385,
          0.28612168372229385,
          0.28612168372229385,
          0.28612168372229385,
          0.28668458128442087,
          0.287247478846548,
          0.287810376408675,
          0.2883732739708021,
          0.2883732739708021,
          0.28893617153292916,
          0.28893617153292916,
          0.2894990690950562,
          0.2894990690950562,
          0.2894990690950562,
          0.29006196665718326,
          0.29062486421931033,
          0.29062486421931033,
          0.29118776178143735,
          0.29118776178143735,
          0.2917506593435644,
          0.2923135569056915,
          0.2928764544678185,
          0.2928764544678185,
          0.29343935202994564,
          0.29400224959207266,
          0.29456514715419974,
          0.29456514715419974,
          0.29456514715419974,
          0.2951280447163268,
          0.2956909422784538,
          0.2956909422784538,
          0.2956909422784538,
          0.2962538398405809,
          0.2962538398405809,
          0.2962538398405809,
          0.296816737402708,
          0.296816737402708,
          0.296816737402708,
          0.296816737402708,
          0.297379634964835,
          0.297379634964835,
          0.297379634964835,
          0.297379634964835,
          0.29794253252696207,
          0.29794253252696207,
          0.29794253252696207,
          0.29850543008908914,
          0.29850543008908914,
          0.2996312252133433,
          0.2996312252133433,
          0.2996312252133433,
          0.2996312252133433,
          0.2996312252133433,
          0.2996312252133433,
          0.3001941227754703,
          0.3001941227754703,
          0.3001941227754703,
          0.3007570203375974,
          0.3007570203375974,
          0.3007570203375974,
          0.3007570203375974,
          0.3007570203375974,
          0.30131991789972445,
          0.30131991789972445,
          0.30131991789972445,
          0.3018828154618515,
          0.3018828154618515,
          0.30244571302397855,
          0.3030086105861056,
          0.3030086105861056,
          0.30357150814823264,
          0.30357150814823264,
          0.30357150814823264,
          0.30357150814823264,
          0.30357150814823264,
          0.3041344057103597,
          0.3041344057103597,
          0.3041344057103597,
          0.3046973032724868,
          0.3046973032724868,
          0.3052602008346138,
          0.3052602008346138,
          0.3052602008346138,
          0.30582309839674093,
          0.30582309839674093,
          0.30582309839674093,
          0.30582309839674093,
          0.30582309839674093,
          0.30582309839674093,
          0.30582309839674093,
          0.306948893520995,
          0.306948893520995,
          0.306948893520995,
          0.306948893520995,
          0.306948893520995,
          0.306948893520995,
          0.306948893520995,
          0.3075117910831221,
          0.3075117910831221,
          0.3075117910831221,
          0.3075117910831221,
          0.3080746886452491,
          0.3080746886452491,
          0.3080746886452491,
          0.3086375862073762,
          0.3086375862073762,
          0.30920048376950326,
          0.30920048376950326,
          0.30920048376950326,
          0.30920048376950326,
          0.3097633813316303,
          0.3097633813316303,
          0.3097633813316303,
          0.3097633813316303,
          0.31032627889375736,
          0.31032627889375736,
          0.31032627889375736,
          0.31088917645588443,
          0.31088917645588443,
          0.31088917645588443,
          0.31088917645588443,
          0.31145207401801145,
          0.31145207401801145,
          0.31145207401801145,
          0.31145207401801145,
          0.31145207401801145,
          0.31145207401801145,
          0.3120149715801386,
          0.3120149715801386,
          0.3120149715801386,
          0.3120149715801386,
          0.3120149715801386,
          0.3125778691422656,
          0.3125778691422656,
          0.3125778691422656,
          0.3125778691422656,
          0.3131407667043926,
          0.3131407667043926,
          0.3131407667043926,
          0.31370366426651974,
          0.31370366426651974,
          0.31370366426651974,
          0.31370366426651974,
          0.31370366426651974,
          0.31426656182864676,
          0.31426656182864676,
          0.31426656182864676,
          0.31482945939077384,
          0.3153923569529009,
          0.3153923569529009,
          0.3153923569529009,
          0.3153923569529009,
          0.3153923569529009,
          0.31595525451502793,
          0.31595525451502793,
          0.31595525451502793,
          0.31651815207715495,
          0.31651815207715495,
          0.317081049639282,
          0.317081049639282,
          0.317081049639282,
          0.3176439472014091,
          0.3176439472014091,
          0.3176439472014091,
          0.3176439472014091,
          0.3182068447635361,
          0.3182068447635361,
          0.3182068447635361,
          0.31876974232566324,
          0.31876974232566324,
          0.31876974232566324,
          0.31933263988779026,
          0.31989553744991733,
          0.31989553744991733,
          0.3204584350120444,
          0.3204584350120444,
          0.3210213325741714,
          0.3210213325741714,
          0.3221471276984256,
          0.3221471276984256,
          0.3227100252605526,
          0.3227100252605526,
          0.32327292282267966,
          0.32327292282267966,
          0.32327292282267966,
          0.32383582038480674,
          0.32439871794693376,
          0.32439871794693376,
          0.3249616155090609,
          0.3255245130711879,
          0.3255245130711879,
          0.326087410633315,
          0.326087410633315,
          0.32665030819544205,
          0.32665030819544205,
          0.32665030819544205,
          0.32721320575756907,
          0.32721320575756907,
          0.32721320575756907,
          0.32777610331969614,
          0.32890189844395024,
          0.32890189844395024,
          0.3294647960060773,
          0.3300276935682044,
          0.3300276935682044,
          0.3300276935682044,
          0.3305905911303314,
          0.3305905911303314,
          0.33115348869245853,
          0.33115348869245853,
          0.33115348869245853,
          0.33115348869245853,
          0.33171638625458555,
          0.33171638625458555,
          0.3322792838167126,
          0.3322792838167126,
          0.3328421813788397,
          0.3328421813788397,
          0.3328421813788397,
          0.3334050789409667,
          0.3334050789409667,
          0.3334050789409667,
          0.3334050789409667,
          0.3334050789409667,
          0.3339679765030938,
          0.3350937716273479,
          0.3350937716273479,
          0.33565666918947495,
          0.33678246431372905,
          0.3379082594379832,
          0.3379082594379832,
          0.33847115700011027,
          0.33903405456223734,
          0.34015984968649143,
          0.3424114399349997,
          0.3435372350592538,
          0.3435372350592538,
          0.34410013262138084,
          0.34410013262138084,
          0.345788825307762,
          0.345788825307762,
          0.3463517228698891,
          0.3463517228698891,
          0.3463517228698891,
          0.34804041555627024,
          0.3486033131183973,
          0.34916621068052434,
          0.34972910824265147,
          0.35310649361541374,
          0.355358083863922,
          0.35648387898817613,
          0.35648387898817613,
          0.3581725716745573,
          0.36098705948519255,
          0.36436444485795494,
          0.3660531375443361,
          0.3705563180413526
         ],
         "yaxis": "y"
        }
       ],
       "layout": {
        "legend": {
         "tracegroupgap": 0
        },
        "margin": {
         "t": 60
        },
        "template": {
         "data": {
          "bar": [
           {
            "error_x": {
             "color": "#2a3f5f"
            },
            "error_y": {
             "color": "#2a3f5f"
            },
            "marker": {
             "line": {
              "color": "#E5ECF6",
              "width": 0.5
             },
             "pattern": {
              "fillmode": "overlay",
              "size": 10,
              "solidity": 0.2
             }
            },
            "type": "bar"
           }
          ],
          "barpolar": [
           {
            "marker": {
             "line": {
              "color": "#E5ECF6",
              "width": 0.5
             },
             "pattern": {
              "fillmode": "overlay",
              "size": 10,
              "solidity": 0.2
             }
            },
            "type": "barpolar"
           }
          ],
          "carpet": [
           {
            "aaxis": {
             "endlinecolor": "#2a3f5f",
             "gridcolor": "white",
             "linecolor": "white",
             "minorgridcolor": "white",
             "startlinecolor": "#2a3f5f"
            },
            "baxis": {
             "endlinecolor": "#2a3f5f",
             "gridcolor": "white",
             "linecolor": "white",
             "minorgridcolor": "white",
             "startlinecolor": "#2a3f5f"
            },
            "type": "carpet"
           }
          ],
          "choropleth": [
           {
            "colorbar": {
             "outlinewidth": 0,
             "ticks": ""
            },
            "type": "choropleth"
           }
          ],
          "contour": [
           {
            "colorbar": {
             "outlinewidth": 0,
             "ticks": ""
            },
            "colorscale": [
             [
              0,
              "#0d0887"
             ],
             [
              0.1111111111111111,
              "#46039f"
             ],
             [
              0.2222222222222222,
              "#7201a8"
             ],
             [
              0.3333333333333333,
              "#9c179e"
             ],
             [
              0.4444444444444444,
              "#bd3786"
             ],
             [
              0.5555555555555556,
              "#d8576b"
             ],
             [
              0.6666666666666666,
              "#ed7953"
             ],
             [
              0.7777777777777778,
              "#fb9f3a"
             ],
             [
              0.8888888888888888,
              "#fdca26"
             ],
             [
              1,
              "#f0f921"
             ]
            ],
            "type": "contour"
           }
          ],
          "contourcarpet": [
           {
            "colorbar": {
             "outlinewidth": 0,
             "ticks": ""
            },
            "type": "contourcarpet"
           }
          ],
          "heatmap": [
           {
            "colorbar": {
             "outlinewidth": 0,
             "ticks": ""
            },
            "colorscale": [
             [
              0,
              "#0d0887"
             ],
             [
              0.1111111111111111,
              "#46039f"
             ],
             [
              0.2222222222222222,
              "#7201a8"
             ],
             [
              0.3333333333333333,
              "#9c179e"
             ],
             [
              0.4444444444444444,
              "#bd3786"
             ],
             [
              0.5555555555555556,
              "#d8576b"
             ],
             [
              0.6666666666666666,
              "#ed7953"
             ],
             [
              0.7777777777777778,
              "#fb9f3a"
             ],
             [
              0.8888888888888888,
              "#fdca26"
             ],
             [
              1,
              "#f0f921"
             ]
            ],
            "type": "heatmap"
           }
          ],
          "heatmapgl": [
           {
            "colorbar": {
             "outlinewidth": 0,
             "ticks": ""
            },
            "colorscale": [
             [
              0,
              "#0d0887"
             ],
             [
              0.1111111111111111,
              "#46039f"
             ],
             [
              0.2222222222222222,
              "#7201a8"
             ],
             [
              0.3333333333333333,
              "#9c179e"
             ],
             [
              0.4444444444444444,
              "#bd3786"
             ],
             [
              0.5555555555555556,
              "#d8576b"
             ],
             [
              0.6666666666666666,
              "#ed7953"
             ],
             [
              0.7777777777777778,
              "#fb9f3a"
             ],
             [
              0.8888888888888888,
              "#fdca26"
             ],
             [
              1,
              "#f0f921"
             ]
            ],
            "type": "heatmapgl"
           }
          ],
          "histogram": [
           {
            "marker": {
             "pattern": {
              "fillmode": "overlay",
              "size": 10,
              "solidity": 0.2
             }
            },
            "type": "histogram"
           }
          ],
          "histogram2d": [
           {
            "colorbar": {
             "outlinewidth": 0,
             "ticks": ""
            },
            "colorscale": [
             [
              0,
              "#0d0887"
             ],
             [
              0.1111111111111111,
              "#46039f"
             ],
             [
              0.2222222222222222,
              "#7201a8"
             ],
             [
              0.3333333333333333,
              "#9c179e"
             ],
             [
              0.4444444444444444,
              "#bd3786"
             ],
             [
              0.5555555555555556,
              "#d8576b"
             ],
             [
              0.6666666666666666,
              "#ed7953"
             ],
             [
              0.7777777777777778,
              "#fb9f3a"
             ],
             [
              0.8888888888888888,
              "#fdca26"
             ],
             [
              1,
              "#f0f921"
             ]
            ],
            "type": "histogram2d"
           }
          ],
          "histogram2dcontour": [
           {
            "colorbar": {
             "outlinewidth": 0,
             "ticks": ""
            },
            "colorscale": [
             [
              0,
              "#0d0887"
             ],
             [
              0.1111111111111111,
              "#46039f"
             ],
             [
              0.2222222222222222,
              "#7201a8"
             ],
             [
              0.3333333333333333,
              "#9c179e"
             ],
             [
              0.4444444444444444,
              "#bd3786"
             ],
             [
              0.5555555555555556,
              "#d8576b"
             ],
             [
              0.6666666666666666,
              "#ed7953"
             ],
             [
              0.7777777777777778,
              "#fb9f3a"
             ],
             [
              0.8888888888888888,
              "#fdca26"
             ],
             [
              1,
              "#f0f921"
             ]
            ],
            "type": "histogram2dcontour"
           }
          ],
          "mesh3d": [
           {
            "colorbar": {
             "outlinewidth": 0,
             "ticks": ""
            },
            "type": "mesh3d"
           }
          ],
          "parcoords": [
           {
            "line": {
             "colorbar": {
              "outlinewidth": 0,
              "ticks": ""
             }
            },
            "type": "parcoords"
           }
          ],
          "pie": [
           {
            "automargin": true,
            "type": "pie"
           }
          ],
          "scatter": [
           {
            "fillpattern": {
             "fillmode": "overlay",
             "size": 10,
             "solidity": 0.2
            },
            "type": "scatter"
           }
          ],
          "scatter3d": [
           {
            "line": {
             "colorbar": {
              "outlinewidth": 0,
              "ticks": ""
             }
            },
            "marker": {
             "colorbar": {
              "outlinewidth": 0,
              "ticks": ""
             }
            },
            "type": "scatter3d"
           }
          ],
          "scattercarpet": [
           {
            "marker": {
             "colorbar": {
              "outlinewidth": 0,
              "ticks": ""
             }
            },
            "type": "scattercarpet"
           }
          ],
          "scattergeo": [
           {
            "marker": {
             "colorbar": {
              "outlinewidth": 0,
              "ticks": ""
             }
            },
            "type": "scattergeo"
           }
          ],
          "scattergl": [
           {
            "marker": {
             "colorbar": {
              "outlinewidth": 0,
              "ticks": ""
             }
            },
            "type": "scattergl"
           }
          ],
          "scattermapbox": [
           {
            "marker": {
             "colorbar": {
              "outlinewidth": 0,
              "ticks": ""
             }
            },
            "type": "scattermapbox"
           }
          ],
          "scatterpolar": [
           {
            "marker": {
             "colorbar": {
              "outlinewidth": 0,
              "ticks": ""
             }
            },
            "type": "scatterpolar"
           }
          ],
          "scatterpolargl": [
           {
            "marker": {
             "colorbar": {
              "outlinewidth": 0,
              "ticks": ""
             }
            },
            "type": "scatterpolargl"
           }
          ],
          "scatterternary": [
           {
            "marker": {
             "colorbar": {
              "outlinewidth": 0,
              "ticks": ""
             }
            },
            "type": "scatterternary"
           }
          ],
          "surface": [
           {
            "colorbar": {
             "outlinewidth": 0,
             "ticks": ""
            },
            "colorscale": [
             [
              0,
              "#0d0887"
             ],
             [
              0.1111111111111111,
              "#46039f"
             ],
             [
              0.2222222222222222,
              "#7201a8"
             ],
             [
              0.3333333333333333,
              "#9c179e"
             ],
             [
              0.4444444444444444,
              "#bd3786"
             ],
             [
              0.5555555555555556,
              "#d8576b"
             ],
             [
              0.6666666666666666,
              "#ed7953"
             ],
             [
              0.7777777777777778,
              "#fb9f3a"
             ],
             [
              0.8888888888888888,
              "#fdca26"
             ],
             [
              1,
              "#f0f921"
             ]
            ],
            "type": "surface"
           }
          ],
          "table": [
           {
            "cells": {
             "fill": {
              "color": "#EBF0F8"
             },
             "line": {
              "color": "white"
             }
            },
            "header": {
             "fill": {
              "color": "#C8D4E3"
             },
             "line": {
              "color": "white"
             }
            },
            "type": "table"
           }
          ]
         },
         "layout": {
          "annotationdefaults": {
           "arrowcolor": "#2a3f5f",
           "arrowhead": 0,
           "arrowwidth": 1
          },
          "autotypenumbers": "strict",
          "coloraxis": {
           "colorbar": {
            "outlinewidth": 0,
            "ticks": ""
           }
          },
          "colorscale": {
           "diverging": [
            [
             0,
             "#8e0152"
            ],
            [
             0.1,
             "#c51b7d"
            ],
            [
             0.2,
             "#de77ae"
            ],
            [
             0.3,
             "#f1b6da"
            ],
            [
             0.4,
             "#fde0ef"
            ],
            [
             0.5,
             "#f7f7f7"
            ],
            [
             0.6,
             "#e6f5d0"
            ],
            [
             0.7,
             "#b8e186"
            ],
            [
             0.8,
             "#7fbc41"
            ],
            [
             0.9,
             "#4d9221"
            ],
            [
             1,
             "#276419"
            ]
           ],
           "sequential": [
            [
             0,
             "#0d0887"
            ],
            [
             0.1111111111111111,
             "#46039f"
            ],
            [
             0.2222222222222222,
             "#7201a8"
            ],
            [
             0.3333333333333333,
             "#9c179e"
            ],
            [
             0.4444444444444444,
             "#bd3786"
            ],
            [
             0.5555555555555556,
             "#d8576b"
            ],
            [
             0.6666666666666666,
             "#ed7953"
            ],
            [
             0.7777777777777778,
             "#fb9f3a"
            ],
            [
             0.8888888888888888,
             "#fdca26"
            ],
            [
             1,
             "#f0f921"
            ]
           ],
           "sequentialminus": [
            [
             0,
             "#0d0887"
            ],
            [
             0.1111111111111111,
             "#46039f"
            ],
            [
             0.2222222222222222,
             "#7201a8"
            ],
            [
             0.3333333333333333,
             "#9c179e"
            ],
            [
             0.4444444444444444,
             "#bd3786"
            ],
            [
             0.5555555555555556,
             "#d8576b"
            ],
            [
             0.6666666666666666,
             "#ed7953"
            ],
            [
             0.7777777777777778,
             "#fb9f3a"
            ],
            [
             0.8888888888888888,
             "#fdca26"
            ],
            [
             1,
             "#f0f921"
            ]
           ]
          },
          "colorway": [
           "#636efa",
           "#EF553B",
           "#00cc96",
           "#ab63fa",
           "#FFA15A",
           "#19d3f3",
           "#FF6692",
           "#B6E880",
           "#FF97FF",
           "#FECB52"
          ],
          "font": {
           "color": "#2a3f5f"
          },
          "geo": {
           "bgcolor": "white",
           "lakecolor": "white",
           "landcolor": "#E5ECF6",
           "showlakes": true,
           "showland": true,
           "subunitcolor": "white"
          },
          "hoverlabel": {
           "align": "left"
          },
          "hovermode": "closest",
          "mapbox": {
           "style": "light"
          },
          "paper_bgcolor": "white",
          "plot_bgcolor": "#E5ECF6",
          "polar": {
           "angularaxis": {
            "gridcolor": "white",
            "linecolor": "white",
            "ticks": ""
           },
           "bgcolor": "#E5ECF6",
           "radialaxis": {
            "gridcolor": "white",
            "linecolor": "white",
            "ticks": ""
           }
          },
          "scene": {
           "xaxis": {
            "backgroundcolor": "#E5ECF6",
            "gridcolor": "white",
            "gridwidth": 2,
            "linecolor": "white",
            "showbackground": true,
            "ticks": "",
            "zerolinecolor": "white"
           },
           "yaxis": {
            "backgroundcolor": "#E5ECF6",
            "gridcolor": "white",
            "gridwidth": 2,
            "linecolor": "white",
            "showbackground": true,
            "ticks": "",
            "zerolinecolor": "white"
           },
           "zaxis": {
            "backgroundcolor": "#E5ECF6",
            "gridcolor": "white",
            "gridwidth": 2,
            "linecolor": "white",
            "showbackground": true,
            "ticks": "",
            "zerolinecolor": "white"
           }
          },
          "shapedefaults": {
           "line": {
            "color": "#2a3f5f"
           }
          },
          "ternary": {
           "aaxis": {
            "gridcolor": "white",
            "linecolor": "white",
            "ticks": ""
           },
           "baxis": {
            "gridcolor": "white",
            "linecolor": "white",
            "ticks": ""
           },
           "bgcolor": "#E5ECF6",
           "caxis": {
            "gridcolor": "white",
            "linecolor": "white",
            "ticks": ""
           }
          },
          "title": {
           "x": 0.05
          },
          "xaxis": {
           "automargin": true,
           "gridcolor": "white",
           "linecolor": "white",
           "ticks": "",
           "title": {
            "standoff": 15
           },
           "zerolinecolor": "white",
           "zerolinewidth": 2
          },
          "yaxis": {
           "automargin": true,
           "gridcolor": "white",
           "linecolor": "white",
           "ticks": "",
           "title": {
            "standoff": 15
           },
           "zerolinecolor": "white",
           "zerolinewidth": 2
          }
         }
        },
        "xaxis": {
         "anchor": "y",
         "domain": [
          0,
          1
         ],
         "title": {
          "text": "sxwOBA_2021"
         }
        },
        "yaxis": {
         "anchor": "x",
         "domain": [
          0,
          1
         ],
         "title": {
          "text": "weighted_woba_2022_2023"
         }
        }
       }
      }
     },
     "metadata": {},
     "output_type": "display_data"
    }
   ],
   "source": [
    "px.scatter(data_frame=merged_leaders.loc[merged_leaders['PA_2021'] > 200], x='sxwOBA_2021', y='weighted_woba_2022_2023', trendline='ols',hover_data=['Name', 'PA_2021'])"
   ]
  },
  {
   "cell_type": "code",
   "execution_count": 15,
   "metadata": {},
   "outputs": [
    {
     "name": "stderr",
     "output_type": "stream",
     "text": [
      "C:\\Users\\wampl\\AppData\\Local\\Temp\\ipykernel_18912\\2764258261.py:1: FutureWarning:\n",
      "\n",
      "The default value of numeric_only in DataFrame.corr is deprecated. In a future version, it will default to False. Select only valid columns or specify the value of numeric_only to silence this warning.\n",
      "\n"
     ]
    },
    {
     "data": {
      "text/html": [
       "<div>\n",
       "<style scoped>\n",
       "    .dataframe tbody tr th:only-of-type {\n",
       "        vertical-align: middle;\n",
       "    }\n",
       "\n",
       "    .dataframe tbody tr th {\n",
       "        vertical-align: top;\n",
       "    }\n",
       "\n",
       "    .dataframe thead th {\n",
       "        text-align: right;\n",
       "    }\n",
       "</style>\n",
       "<table border=\"1\" class=\"dataframe\">\n",
       "  <thead>\n",
       "    <tr style=\"text-align: right;\">\n",
       "      <th></th>\n",
       "      <th>wOBA</th>\n",
       "      <th>wOBA_2022</th>\n",
       "      <th>weighted_woba_2022_2023</th>\n",
       "    </tr>\n",
       "  </thead>\n",
       "  <tbody>\n",
       "    <tr>\n",
       "      <th>batter</th>\n",
       "      <td>0.12</td>\n",
       "      <td>0.06</td>\n",
       "      <td>0.11</td>\n",
       "    </tr>\n",
       "    <tr>\n",
       "      <th>PA_2021</th>\n",
       "      <td>0.17</td>\n",
       "      <td>0.31</td>\n",
       "      <td>0.31</td>\n",
       "    </tr>\n",
       "    <tr>\n",
       "      <th>wOBA_2021</th>\n",
       "      <td>0.32</td>\n",
       "      <td>0.46</td>\n",
       "      <td>0.50</td>\n",
       "    </tr>\n",
       "    <tr>\n",
       "      <th>xwOBA_2021</th>\n",
       "      <td>0.41</td>\n",
       "      <td>0.52</td>\n",
       "      <td>0.57</td>\n",
       "    </tr>\n",
       "    <tr>\n",
       "      <th>sxwOBA_2021</th>\n",
       "      <td>0.41</td>\n",
       "      <td>0.53</td>\n",
       "      <td>0.57</td>\n",
       "    </tr>\n",
       "    <tr>\n",
       "      <th>diff_2021</th>\n",
       "      <td>-0.05</td>\n",
       "      <td>-0.06</td>\n",
       "      <td>-0.07</td>\n",
       "    </tr>\n",
       "    <tr>\n",
       "      <th>diff%_2021</th>\n",
       "      <td>-0.06</td>\n",
       "      <td>-0.10</td>\n",
       "      <td>-0.11</td>\n",
       "    </tr>\n",
       "    <tr>\n",
       "      <th>BB%_2021</th>\n",
       "      <td>0.25</td>\n",
       "      <td>0.18</td>\n",
       "      <td>0.25</td>\n",
       "    </tr>\n",
       "    <tr>\n",
       "      <th>K%_2021</th>\n",
       "      <td>-0.11</td>\n",
       "      <td>-0.11</td>\n",
       "      <td>-0.10</td>\n",
       "    </tr>\n",
       "    <tr>\n",
       "      <th>HR_2021</th>\n",
       "      <td>0.29</td>\n",
       "      <td>0.42</td>\n",
       "      <td>0.44</td>\n",
       "    </tr>\n",
       "    <tr>\n",
       "      <th>LA_2021</th>\n",
       "      <td>0.13</td>\n",
       "      <td>0.00</td>\n",
       "      <td>0.06</td>\n",
       "    </tr>\n",
       "    <tr>\n",
       "      <th>Barrels_2021</th>\n",
       "      <td>0.33</td>\n",
       "      <td>0.49</td>\n",
       "      <td>0.51</td>\n",
       "    </tr>\n",
       "    <tr>\n",
       "      <th>pulled_barrels_2021</th>\n",
       "      <td>0.25</td>\n",
       "      <td>0.36</td>\n",
       "      <td>0.39</td>\n",
       "    </tr>\n",
       "    <tr>\n",
       "      <th>year_2021</th>\n",
       "      <td>NaN</td>\n",
       "      <td>NaN</td>\n",
       "      <td>NaN</td>\n",
       "    </tr>\n",
       "    <tr>\n",
       "      <th>PA_2022</th>\n",
       "      <td>0.32</td>\n",
       "      <td>0.56</td>\n",
       "      <td>0.57</td>\n",
       "    </tr>\n",
       "    <tr>\n",
       "      <th>wOBA_2022</th>\n",
       "      <td>0.45</td>\n",
       "      <td>1.00</td>\n",
       "      <td>0.94</td>\n",
       "    </tr>\n",
       "    <tr>\n",
       "      <th>xwOBA_2022</th>\n",
       "      <td>0.46</td>\n",
       "      <td>0.86</td>\n",
       "      <td>0.84</td>\n",
       "    </tr>\n",
       "    <tr>\n",
       "      <th>sxwOBA_2022</th>\n",
       "      <td>0.49</td>\n",
       "      <td>0.90</td>\n",
       "      <td>0.87</td>\n",
       "    </tr>\n",
       "    <tr>\n",
       "      <th>diff_2022</th>\n",
       "      <td>0.10</td>\n",
       "      <td>0.14</td>\n",
       "      <td>0.13</td>\n",
       "    </tr>\n",
       "    <tr>\n",
       "      <th>diff%_2022</th>\n",
       "      <td>0.06</td>\n",
       "      <td>0.05</td>\n",
       "      <td>0.04</td>\n",
       "    </tr>\n",
       "    <tr>\n",
       "      <th>BB%_2022</th>\n",
       "      <td>0.27</td>\n",
       "      <td>0.43</td>\n",
       "      <td>0.45</td>\n",
       "    </tr>\n",
       "    <tr>\n",
       "      <th>K%_2022</th>\n",
       "      <td>-0.08</td>\n",
       "      <td>-0.19</td>\n",
       "      <td>-0.15</td>\n",
       "    </tr>\n",
       "    <tr>\n",
       "      <th>HR_2022</th>\n",
       "      <td>0.37</td>\n",
       "      <td>0.70</td>\n",
       "      <td>0.68</td>\n",
       "    </tr>\n",
       "    <tr>\n",
       "      <th>LA_2022</th>\n",
       "      <td>0.17</td>\n",
       "      <td>0.07</td>\n",
       "      <td>0.12</td>\n",
       "    </tr>\n",
       "    <tr>\n",
       "      <th>Barrels_2022</th>\n",
       "      <td>0.40</td>\n",
       "      <td>0.69</td>\n",
       "      <td>0.69</td>\n",
       "    </tr>\n",
       "    <tr>\n",
       "      <th>pulled_barrels_2022</th>\n",
       "      <td>0.36</td>\n",
       "      <td>0.62</td>\n",
       "      <td>0.61</td>\n",
       "    </tr>\n",
       "    <tr>\n",
       "      <th>year_2022</th>\n",
       "      <td>NaN</td>\n",
       "      <td>NaN</td>\n",
       "      <td>NaN</td>\n",
       "    </tr>\n",
       "    <tr>\n",
       "      <th>PA</th>\n",
       "      <td>0.36</td>\n",
       "      <td>0.52</td>\n",
       "      <td>0.56</td>\n",
       "    </tr>\n",
       "    <tr>\n",
       "      <th>wOBA</th>\n",
       "      <td>1.00</td>\n",
       "      <td>0.45</td>\n",
       "      <td>0.65</td>\n",
       "    </tr>\n",
       "    <tr>\n",
       "      <th>xwOBA</th>\n",
       "      <td>0.84</td>\n",
       "      <td>0.55</td>\n",
       "      <td>0.70</td>\n",
       "    </tr>\n",
       "    <tr>\n",
       "      <th>sxwOBA</th>\n",
       "      <td>0.88</td>\n",
       "      <td>0.51</td>\n",
       "      <td>0.67</td>\n",
       "    </tr>\n",
       "    <tr>\n",
       "      <th>diff</th>\n",
       "      <td>0.05</td>\n",
       "      <td>-0.15</td>\n",
       "      <td>-0.14</td>\n",
       "    </tr>\n",
       "    <tr>\n",
       "      <th>diff%</th>\n",
       "      <td>-0.01</td>\n",
       "      <td>-0.16</td>\n",
       "      <td>-0.15</td>\n",
       "    </tr>\n",
       "    <tr>\n",
       "      <th>BB%</th>\n",
       "      <td>0.31</td>\n",
       "      <td>0.31</td>\n",
       "      <td>0.39</td>\n",
       "    </tr>\n",
       "    <tr>\n",
       "      <th>K%</th>\n",
       "      <td>-0.23</td>\n",
       "      <td>-0.20</td>\n",
       "      <td>-0.24</td>\n",
       "    </tr>\n",
       "    <tr>\n",
       "      <th>HR</th>\n",
       "      <td>0.53</td>\n",
       "      <td>0.56</td>\n",
       "      <td>0.66</td>\n",
       "    </tr>\n",
       "    <tr>\n",
       "      <th>LA</th>\n",
       "      <td>0.23</td>\n",
       "      <td>0.10</td>\n",
       "      <td>0.17</td>\n",
       "    </tr>\n",
       "    <tr>\n",
       "      <th>Barrels</th>\n",
       "      <td>0.54</td>\n",
       "      <td>0.59</td>\n",
       "      <td>0.69</td>\n",
       "    </tr>\n",
       "    <tr>\n",
       "      <th>pulled_barrels</th>\n",
       "      <td>0.49</td>\n",
       "      <td>0.50</td>\n",
       "      <td>0.61</td>\n",
       "    </tr>\n",
       "    <tr>\n",
       "      <th>year</th>\n",
       "      <td>NaN</td>\n",
       "      <td>NaN</td>\n",
       "      <td>NaN</td>\n",
       "    </tr>\n",
       "    <tr>\n",
       "      <th>weighted_woba_2022_2023</th>\n",
       "      <td>0.65</td>\n",
       "      <td>0.94</td>\n",
       "      <td>1.00</td>\n",
       "    </tr>\n",
       "  </tbody>\n",
       "</table>\n",
       "</div>"
      ],
      "text/plain": [
       "                         wOBA  wOBA_2022  weighted_woba_2022_2023\n",
       "batter                   0.12       0.06                     0.11\n",
       "PA_2021                  0.17       0.31                     0.31\n",
       "wOBA_2021                0.32       0.46                     0.50\n",
       "xwOBA_2021               0.41       0.52                     0.57\n",
       "sxwOBA_2021              0.41       0.53                     0.57\n",
       "diff_2021               -0.05      -0.06                    -0.07\n",
       "diff%_2021              -0.06      -0.10                    -0.11\n",
       "BB%_2021                 0.25       0.18                     0.25\n",
       "K%_2021                 -0.11      -0.11                    -0.10\n",
       "HR_2021                  0.29       0.42                     0.44\n",
       "LA_2021                  0.13       0.00                     0.06\n",
       "Barrels_2021             0.33       0.49                     0.51\n",
       "pulled_barrels_2021      0.25       0.36                     0.39\n",
       "year_2021                 NaN        NaN                      NaN\n",
       "PA_2022                  0.32       0.56                     0.57\n",
       "wOBA_2022                0.45       1.00                     0.94\n",
       "xwOBA_2022               0.46       0.86                     0.84\n",
       "sxwOBA_2022              0.49       0.90                     0.87\n",
       "diff_2022                0.10       0.14                     0.13\n",
       "diff%_2022               0.06       0.05                     0.04\n",
       "BB%_2022                 0.27       0.43                     0.45\n",
       "K%_2022                 -0.08      -0.19                    -0.15\n",
       "HR_2022                  0.37       0.70                     0.68\n",
       "LA_2022                  0.17       0.07                     0.12\n",
       "Barrels_2022             0.40       0.69                     0.69\n",
       "pulled_barrels_2022      0.36       0.62                     0.61\n",
       "year_2022                 NaN        NaN                      NaN\n",
       "PA                       0.36       0.52                     0.56\n",
       "wOBA                     1.00       0.45                     0.65\n",
       "xwOBA                    0.84       0.55                     0.70\n",
       "sxwOBA                   0.88       0.51                     0.67\n",
       "diff                     0.05      -0.15                    -0.14\n",
       "diff%                   -0.01      -0.16                    -0.15\n",
       "BB%                      0.31       0.31                     0.39\n",
       "K%                      -0.23      -0.20                    -0.24\n",
       "HR                       0.53       0.56                     0.66\n",
       "LA                       0.23       0.10                     0.17\n",
       "Barrels                  0.54       0.59                     0.69\n",
       "pulled_barrels           0.49       0.50                     0.61\n",
       "year                      NaN        NaN                      NaN\n",
       "weighted_woba_2022_2023  0.65       0.94                     1.00"
      ]
     },
     "execution_count": 15,
     "metadata": {},
     "output_type": "execute_result"
    }
   ],
   "source": [
    "merged_leaders.loc[(merged_leaders['PA_2021']>300) & (merged_leaders['PA_2022']>300)].corr().round(2)[['wOBA', 'wOBA_2022', 'weighted_woba_2022_2023']]"
   ]
  },
  {
   "cell_type": "code",
   "execution_count": 16,
   "metadata": {},
   "outputs": [
    {
     "name": "stderr",
     "output_type": "stream",
     "text": [
      "C:\\Users\\wampl\\AppData\\Local\\Temp\\ipykernel_18912\\3546130828.py:1: FutureWarning:\n",
      "\n",
      "The default value of numeric_only in DataFrame.corr is deprecated. In a future version, it will default to False. Select only valid columns or specify the value of numeric_only to silence this warning.\n",
      "\n"
     ]
    },
    {
     "data": {
      "text/html": [
       "<div>\n",
       "<style scoped>\n",
       "    .dataframe tbody tr th:only-of-type {\n",
       "        vertical-align: middle;\n",
       "    }\n",
       "\n",
       "    .dataframe tbody tr th {\n",
       "        vertical-align: top;\n",
       "    }\n",
       "\n",
       "    .dataframe thead th {\n",
       "        text-align: right;\n",
       "    }\n",
       "</style>\n",
       "<table border=\"1\" class=\"dataframe\">\n",
       "  <thead>\n",
       "    <tr style=\"text-align: right;\">\n",
       "      <th></th>\n",
       "      <th>xwOBA_2021</th>\n",
       "      <th>xwOBA_2022</th>\n",
       "      <th>xwOBA</th>\n",
       "      <th>sxwOBA_2021</th>\n",
       "      <th>sxwOBA_2022</th>\n",
       "      <th>sxwOBA</th>\n",
       "      <th>weighted_woba_2022_2023</th>\n",
       "    </tr>\n",
       "  </thead>\n",
       "  <tbody>\n",
       "    <tr>\n",
       "      <th>batter</th>\n",
       "      <td>-0.192785</td>\n",
       "      <td>-0.112765</td>\n",
       "      <td>-0.003013</td>\n",
       "      <td>-0.156760</td>\n",
       "      <td>-0.058444</td>\n",
       "      <td>-0.024414</td>\n",
       "      <td>-0.026492</td>\n",
       "    </tr>\n",
       "    <tr>\n",
       "      <th>PA_2021</th>\n",
       "      <td>0.475474</td>\n",
       "      <td>0.399038</td>\n",
       "      <td>0.285704</td>\n",
       "      <td>0.472975</td>\n",
       "      <td>0.364846</td>\n",
       "      <td>0.310559</td>\n",
       "      <td>0.373656</td>\n",
       "    </tr>\n",
       "    <tr>\n",
       "      <th>wOBA_2021</th>\n",
       "      <td>0.806209</td>\n",
       "      <td>0.387855</td>\n",
       "      <td>0.240683</td>\n",
       "      <td>0.882557</td>\n",
       "      <td>0.350721</td>\n",
       "      <td>0.215739</td>\n",
       "      <td>0.372852</td>\n",
       "    </tr>\n",
       "    <tr>\n",
       "      <th>xwOBA_2021</th>\n",
       "      <td>1.000000</td>\n",
       "      <td>0.541533</td>\n",
       "      <td>0.397005</td>\n",
       "      <td>0.947180</td>\n",
       "      <td>0.466332</td>\n",
       "      <td>0.369322</td>\n",
       "      <td>0.522129</td>\n",
       "    </tr>\n",
       "    <tr>\n",
       "      <th>sxwOBA_2021</th>\n",
       "      <td>0.947180</td>\n",
       "      <td>0.506733</td>\n",
       "      <td>0.364515</td>\n",
       "      <td>1.000000</td>\n",
       "      <td>0.461454</td>\n",
       "      <td>0.335578</td>\n",
       "      <td>0.504773</td>\n",
       "    </tr>\n",
       "    <tr>\n",
       "      <th>diff_2021</th>\n",
       "      <td>-0.082221</td>\n",
       "      <td>-0.063781</td>\n",
       "      <td>-0.068443</td>\n",
       "      <td>0.241739</td>\n",
       "      <td>0.023046</td>\n",
       "      <td>-0.074609</td>\n",
       "      <td>-0.011163</td>\n",
       "    </tr>\n",
       "    <tr>\n",
       "      <th>diff%_2021</th>\n",
       "      <td>-0.191472</td>\n",
       "      <td>-0.089049</td>\n",
       "      <td>-0.105689</td>\n",
       "      <td>0.126569</td>\n",
       "      <td>0.004333</td>\n",
       "      <td>-0.117168</td>\n",
       "      <td>-0.063794</td>\n",
       "    </tr>\n",
       "    <tr>\n",
       "      <th>BB%_2021</th>\n",
       "      <td>0.442049</td>\n",
       "      <td>0.145540</td>\n",
       "      <td>0.160459</td>\n",
       "      <td>0.479318</td>\n",
       "      <td>0.110670</td>\n",
       "      <td>0.155788</td>\n",
       "      <td>0.198681</td>\n",
       "    </tr>\n",
       "    <tr>\n",
       "      <th>K%_2021</th>\n",
       "      <td>-0.282067</td>\n",
       "      <td>-0.163983</td>\n",
       "      <td>-0.111277</td>\n",
       "      <td>-0.331625</td>\n",
       "      <td>-0.206915</td>\n",
       "      <td>-0.133783</td>\n",
       "      <td>-0.203825</td>\n",
       "    </tr>\n",
       "    <tr>\n",
       "      <th>HR_2021</th>\n",
       "      <td>0.616922</td>\n",
       "      <td>0.464997</td>\n",
       "      <td>0.342418</td>\n",
       "      <td>0.586518</td>\n",
       "      <td>0.397086</td>\n",
       "      <td>0.334357</td>\n",
       "      <td>0.430863</td>\n",
       "    </tr>\n",
       "    <tr>\n",
       "      <th>LA_2021</th>\n",
       "      <td>0.004898</td>\n",
       "      <td>0.015967</td>\n",
       "      <td>-0.029279</td>\n",
       "      <td>-0.115039</td>\n",
       "      <td>-0.047707</td>\n",
       "      <td>-0.037472</td>\n",
       "      <td>-0.030043</td>\n",
       "    </tr>\n",
       "    <tr>\n",
       "      <th>Barrels_2021</th>\n",
       "      <td>0.668176</td>\n",
       "      <td>0.507662</td>\n",
       "      <td>0.382831</td>\n",
       "      <td>0.613044</td>\n",
       "      <td>0.438406</td>\n",
       "      <td>0.371964</td>\n",
       "      <td>0.470973</td>\n",
       "    </tr>\n",
       "    <tr>\n",
       "      <th>pulled_barrels_2021</th>\n",
       "      <td>0.594093</td>\n",
       "      <td>0.434609</td>\n",
       "      <td>0.306994</td>\n",
       "      <td>0.569733</td>\n",
       "      <td>0.378288</td>\n",
       "      <td>0.312184</td>\n",
       "      <td>0.414300</td>\n",
       "    </tr>\n",
       "    <tr>\n",
       "      <th>year_2021</th>\n",
       "      <td>NaN</td>\n",
       "      <td>NaN</td>\n",
       "      <td>NaN</td>\n",
       "      <td>NaN</td>\n",
       "      <td>NaN</td>\n",
       "      <td>NaN</td>\n",
       "      <td>NaN</td>\n",
       "    </tr>\n",
       "    <tr>\n",
       "      <th>PA_2022</th>\n",
       "      <td>0.500548</td>\n",
       "      <td>0.515168</td>\n",
       "      <td>0.387678</td>\n",
       "      <td>0.494270</td>\n",
       "      <td>0.522352</td>\n",
       "      <td>0.419489</td>\n",
       "      <td>0.546386</td>\n",
       "    </tr>\n",
       "    <tr>\n",
       "      <th>wOBA_2022</th>\n",
       "      <td>0.361566</td>\n",
       "      <td>0.817880</td>\n",
       "      <td>0.295068</td>\n",
       "      <td>0.357055</td>\n",
       "      <td>0.874184</td>\n",
       "      <td>0.296953</td>\n",
       "      <td>0.717054</td>\n",
       "    </tr>\n",
       "    <tr>\n",
       "      <th>xwOBA_2022</th>\n",
       "      <td>0.541533</td>\n",
       "      <td>1.000000</td>\n",
       "      <td>0.431096</td>\n",
       "      <td>0.506733</td>\n",
       "      <td>0.937181</td>\n",
       "      <td>0.443448</td>\n",
       "      <td>0.743547</td>\n",
       "    </tr>\n",
       "    <tr>\n",
       "      <th>sxwOBA_2022</th>\n",
       "      <td>0.466332</td>\n",
       "      <td>0.937181</td>\n",
       "      <td>0.388583</td>\n",
       "      <td>0.461454</td>\n",
       "      <td>1.000000</td>\n",
       "      <td>0.407413</td>\n",
       "      <td>0.725809</td>\n",
       "    </tr>\n",
       "    <tr>\n",
       "      <th>diff_2022</th>\n",
       "      <td>-0.119217</td>\n",
       "      <td>-0.002148</td>\n",
       "      <td>-0.045164</td>\n",
       "      <td>-0.039634</td>\n",
       "      <td>0.346831</td>\n",
       "      <td>-0.024395</td>\n",
       "      <td>0.081451</td>\n",
       "    </tr>\n",
       "    <tr>\n",
       "      <th>diff%_2022</th>\n",
       "      <td>-0.143550</td>\n",
       "      <td>-0.094703</td>\n",
       "      <td>-0.068526</td>\n",
       "      <td>-0.068370</td>\n",
       "      <td>0.250649</td>\n",
       "      <td>-0.044684</td>\n",
       "      <td>0.007685</td>\n",
       "    </tr>\n",
       "    <tr>\n",
       "      <th>BB%_2022</th>\n",
       "      <td>0.286669</td>\n",
       "      <td>0.409269</td>\n",
       "      <td>0.157209</td>\n",
       "      <td>0.259608</td>\n",
       "      <td>0.324462</td>\n",
       "      <td>0.181885</td>\n",
       "      <td>0.325897</td>\n",
       "    </tr>\n",
       "    <tr>\n",
       "      <th>K%_2022</th>\n",
       "      <td>-0.144186</td>\n",
       "      <td>-0.350376</td>\n",
       "      <td>-0.121139</td>\n",
       "      <td>-0.186757</td>\n",
       "      <td>-0.416760</td>\n",
       "      <td>-0.207422</td>\n",
       "      <td>-0.259728</td>\n",
       "    </tr>\n",
       "    <tr>\n",
       "      <th>HR_2022</th>\n",
       "      <td>0.529972</td>\n",
       "      <td>0.626869</td>\n",
       "      <td>0.443345</td>\n",
       "      <td>0.493661</td>\n",
       "      <td>0.605677</td>\n",
       "      <td>0.436479</td>\n",
       "      <td>0.644168</td>\n",
       "    </tr>\n",
       "    <tr>\n",
       "      <th>LA_2022</th>\n",
       "      <td>0.062043</td>\n",
       "      <td>0.004515</td>\n",
       "      <td>0.046147</td>\n",
       "      <td>0.020336</td>\n",
       "      <td>-0.064579</td>\n",
       "      <td>-0.009928</td>\n",
       "      <td>0.044121</td>\n",
       "    </tr>\n",
       "    <tr>\n",
       "      <th>Barrels_2022</th>\n",
       "      <td>0.581876</td>\n",
       "      <td>0.684366</td>\n",
       "      <td>0.478694</td>\n",
       "      <td>0.536305</td>\n",
       "      <td>0.627139</td>\n",
       "      <td>0.459720</td>\n",
       "      <td>0.642198</td>\n",
       "    </tr>\n",
       "    <tr>\n",
       "      <th>pulled_barrels_2022</th>\n",
       "      <td>0.522851</td>\n",
       "      <td>0.606825</td>\n",
       "      <td>0.439144</td>\n",
       "      <td>0.481251</td>\n",
       "      <td>0.594403</td>\n",
       "      <td>0.441831</td>\n",
       "      <td>0.609675</td>\n",
       "    </tr>\n",
       "    <tr>\n",
       "      <th>year_2022</th>\n",
       "      <td>NaN</td>\n",
       "      <td>NaN</td>\n",
       "      <td>NaN</td>\n",
       "      <td>NaN</td>\n",
       "      <td>NaN</td>\n",
       "      <td>NaN</td>\n",
       "      <td>NaN</td>\n",
       "    </tr>\n",
       "    <tr>\n",
       "      <th>PA</th>\n",
       "      <td>0.430199</td>\n",
       "      <td>0.481012</td>\n",
       "      <td>0.481755</td>\n",
       "      <td>0.430375</td>\n",
       "      <td>0.483649</td>\n",
       "      <td>0.555183</td>\n",
       "      <td>0.635129</td>\n",
       "    </tr>\n",
       "    <tr>\n",
       "      <th>wOBA</th>\n",
       "      <td>0.305442</td>\n",
       "      <td>0.311318</td>\n",
       "      <td>0.818784</td>\n",
       "      <td>0.284912</td>\n",
       "      <td>0.291287</td>\n",
       "      <td>0.839919</td>\n",
       "      <td>0.603604</td>\n",
       "    </tr>\n",
       "    <tr>\n",
       "      <th>xwOBA</th>\n",
       "      <td>0.397005</td>\n",
       "      <td>0.431096</td>\n",
       "      <td>1.000000</td>\n",
       "      <td>0.364515</td>\n",
       "      <td>0.388583</td>\n",
       "      <td>0.874836</td>\n",
       "      <td>0.655050</td>\n",
       "    </tr>\n",
       "    <tr>\n",
       "      <th>sxwOBA</th>\n",
       "      <td>0.369322</td>\n",
       "      <td>0.443448</td>\n",
       "      <td>0.874836</td>\n",
       "      <td>0.335578</td>\n",
       "      <td>0.407413</td>\n",
       "      <td>1.000000</td>\n",
       "      <td>0.682777</td>\n",
       "    </tr>\n",
       "    <tr>\n",
       "      <th>diff</th>\n",
       "      <td>-0.046501</td>\n",
       "      <td>0.034741</td>\n",
       "      <td>-0.228536</td>\n",
       "      <td>-0.049770</td>\n",
       "      <td>0.046783</td>\n",
       "      <td>0.271666</td>\n",
       "      <td>0.070792</td>\n",
       "    </tr>\n",
       "    <tr>\n",
       "      <th>diff%</th>\n",
       "      <td>0.095113</td>\n",
       "      <td>0.130605</td>\n",
       "      <td>0.226441</td>\n",
       "      <td>0.064983</td>\n",
       "      <td>0.157452</td>\n",
       "      <td>0.362586</td>\n",
       "      <td>0.262086</td>\n",
       "    </tr>\n",
       "    <tr>\n",
       "      <th>BB%</th>\n",
       "      <td>0.292001</td>\n",
       "      <td>0.231937</td>\n",
       "      <td>0.402696</td>\n",
       "      <td>0.268734</td>\n",
       "      <td>0.196373</td>\n",
       "      <td>0.320717</td>\n",
       "      <td>0.370511</td>\n",
       "    </tr>\n",
       "    <tr>\n",
       "      <th>K%</th>\n",
       "      <td>-0.033975</td>\n",
       "      <td>-0.027951</td>\n",
       "      <td>-0.283780</td>\n",
       "      <td>-0.071900</td>\n",
       "      <td>-0.077728</td>\n",
       "      <td>-0.301677</td>\n",
       "      <td>-0.158189</td>\n",
       "    </tr>\n",
       "    <tr>\n",
       "      <th>HR</th>\n",
       "      <td>0.486572</td>\n",
       "      <td>0.485182</td>\n",
       "      <td>0.546086</td>\n",
       "      <td>0.455214</td>\n",
       "      <td>0.447490</td>\n",
       "      <td>0.568009</td>\n",
       "      <td>0.631358</td>\n",
       "    </tr>\n",
       "    <tr>\n",
       "      <th>LA</th>\n",
       "      <td>-0.004917</td>\n",
       "      <td>0.018996</td>\n",
       "      <td>-0.005635</td>\n",
       "      <td>-0.029266</td>\n",
       "      <td>-0.021643</td>\n",
       "      <td>-0.024179</td>\n",
       "      <td>0.088415</td>\n",
       "    </tr>\n",
       "    <tr>\n",
       "      <th>Barrels</th>\n",
       "      <td>0.520456</td>\n",
       "      <td>0.538779</td>\n",
       "      <td>0.610459</td>\n",
       "      <td>0.483664</td>\n",
       "      <td>0.488105</td>\n",
       "      <td>0.603807</td>\n",
       "      <td>0.655554</td>\n",
       "    </tr>\n",
       "    <tr>\n",
       "      <th>pulled_barrels</th>\n",
       "      <td>0.470353</td>\n",
       "      <td>0.459550</td>\n",
       "      <td>0.532255</td>\n",
       "      <td>0.431983</td>\n",
       "      <td>0.424911</td>\n",
       "      <td>0.562936</td>\n",
       "      <td>0.606647</td>\n",
       "    </tr>\n",
       "    <tr>\n",
       "      <th>year</th>\n",
       "      <td>NaN</td>\n",
       "      <td>NaN</td>\n",
       "      <td>NaN</td>\n",
       "      <td>NaN</td>\n",
       "      <td>NaN</td>\n",
       "      <td>NaN</td>\n",
       "      <td>NaN</td>\n",
       "    </tr>\n",
       "    <tr>\n",
       "      <th>weighted_woba_2022_2023</th>\n",
       "      <td>0.522129</td>\n",
       "      <td>0.743547</td>\n",
       "      <td>0.655050</td>\n",
       "      <td>0.504773</td>\n",
       "      <td>0.725809</td>\n",
       "      <td>0.682777</td>\n",
       "      <td>1.000000</td>\n",
       "    </tr>\n",
       "  </tbody>\n",
       "</table>\n",
       "</div>"
      ],
      "text/plain": [
       "                         xwOBA_2021  xwOBA_2022     xwOBA  sxwOBA_2021  \\\n",
       "batter                    -0.192785   -0.112765 -0.003013    -0.156760   \n",
       "PA_2021                    0.475474    0.399038  0.285704     0.472975   \n",
       "wOBA_2021                  0.806209    0.387855  0.240683     0.882557   \n",
       "xwOBA_2021                 1.000000    0.541533  0.397005     0.947180   \n",
       "sxwOBA_2021                0.947180    0.506733  0.364515     1.000000   \n",
       "diff_2021                 -0.082221   -0.063781 -0.068443     0.241739   \n",
       "diff%_2021                -0.191472   -0.089049 -0.105689     0.126569   \n",
       "BB%_2021                   0.442049    0.145540  0.160459     0.479318   \n",
       "K%_2021                   -0.282067   -0.163983 -0.111277    -0.331625   \n",
       "HR_2021                    0.616922    0.464997  0.342418     0.586518   \n",
       "LA_2021                    0.004898    0.015967 -0.029279    -0.115039   \n",
       "Barrels_2021               0.668176    0.507662  0.382831     0.613044   \n",
       "pulled_barrels_2021        0.594093    0.434609  0.306994     0.569733   \n",
       "year_2021                       NaN         NaN       NaN          NaN   \n",
       "PA_2022                    0.500548    0.515168  0.387678     0.494270   \n",
       "wOBA_2022                  0.361566    0.817880  0.295068     0.357055   \n",
       "xwOBA_2022                 0.541533    1.000000  0.431096     0.506733   \n",
       "sxwOBA_2022                0.466332    0.937181  0.388583     0.461454   \n",
       "diff_2022                 -0.119217   -0.002148 -0.045164    -0.039634   \n",
       "diff%_2022                -0.143550   -0.094703 -0.068526    -0.068370   \n",
       "BB%_2022                   0.286669    0.409269  0.157209     0.259608   \n",
       "K%_2022                   -0.144186   -0.350376 -0.121139    -0.186757   \n",
       "HR_2022                    0.529972    0.626869  0.443345     0.493661   \n",
       "LA_2022                    0.062043    0.004515  0.046147     0.020336   \n",
       "Barrels_2022               0.581876    0.684366  0.478694     0.536305   \n",
       "pulled_barrels_2022        0.522851    0.606825  0.439144     0.481251   \n",
       "year_2022                       NaN         NaN       NaN          NaN   \n",
       "PA                         0.430199    0.481012  0.481755     0.430375   \n",
       "wOBA                       0.305442    0.311318  0.818784     0.284912   \n",
       "xwOBA                      0.397005    0.431096  1.000000     0.364515   \n",
       "sxwOBA                     0.369322    0.443448  0.874836     0.335578   \n",
       "diff                      -0.046501    0.034741 -0.228536    -0.049770   \n",
       "diff%                      0.095113    0.130605  0.226441     0.064983   \n",
       "BB%                        0.292001    0.231937  0.402696     0.268734   \n",
       "K%                        -0.033975   -0.027951 -0.283780    -0.071900   \n",
       "HR                         0.486572    0.485182  0.546086     0.455214   \n",
       "LA                        -0.004917    0.018996 -0.005635    -0.029266   \n",
       "Barrels                    0.520456    0.538779  0.610459     0.483664   \n",
       "pulled_barrels             0.470353    0.459550  0.532255     0.431983   \n",
       "year                            NaN         NaN       NaN          NaN   \n",
       "weighted_woba_2022_2023    0.522129    0.743547  0.655050     0.504773   \n",
       "\n",
       "                         sxwOBA_2022    sxwOBA  weighted_woba_2022_2023  \n",
       "batter                     -0.058444 -0.024414                -0.026492  \n",
       "PA_2021                     0.364846  0.310559                 0.373656  \n",
       "wOBA_2021                   0.350721  0.215739                 0.372852  \n",
       "xwOBA_2021                  0.466332  0.369322                 0.522129  \n",
       "sxwOBA_2021                 0.461454  0.335578                 0.504773  \n",
       "diff_2021                   0.023046 -0.074609                -0.011163  \n",
       "diff%_2021                  0.004333 -0.117168                -0.063794  \n",
       "BB%_2021                    0.110670  0.155788                 0.198681  \n",
       "K%_2021                    -0.206915 -0.133783                -0.203825  \n",
       "HR_2021                     0.397086  0.334357                 0.430863  \n",
       "LA_2021                    -0.047707 -0.037472                -0.030043  \n",
       "Barrels_2021                0.438406  0.371964                 0.470973  \n",
       "pulled_barrels_2021         0.378288  0.312184                 0.414300  \n",
       "year_2021                        NaN       NaN                      NaN  \n",
       "PA_2022                     0.522352  0.419489                 0.546386  \n",
       "wOBA_2022                   0.874184  0.296953                 0.717054  \n",
       "xwOBA_2022                  0.937181  0.443448                 0.743547  \n",
       "sxwOBA_2022                 1.000000  0.407413                 0.725809  \n",
       "diff_2022                   0.346831 -0.024395                 0.081451  \n",
       "diff%_2022                  0.250649 -0.044684                 0.007685  \n",
       "BB%_2022                    0.324462  0.181885                 0.325897  \n",
       "K%_2022                    -0.416760 -0.207422                -0.259728  \n",
       "HR_2022                     0.605677  0.436479                 0.644168  \n",
       "LA_2022                    -0.064579 -0.009928                 0.044121  \n",
       "Barrels_2022                0.627139  0.459720                 0.642198  \n",
       "pulled_barrels_2022         0.594403  0.441831                 0.609675  \n",
       "year_2022                        NaN       NaN                      NaN  \n",
       "PA                          0.483649  0.555183                 0.635129  \n",
       "wOBA                        0.291287  0.839919                 0.603604  \n",
       "xwOBA                       0.388583  0.874836                 0.655050  \n",
       "sxwOBA                      0.407413  1.000000                 0.682777  \n",
       "diff                        0.046783  0.271666                 0.070792  \n",
       "diff%                       0.157452  0.362586                 0.262086  \n",
       "BB%                         0.196373  0.320717                 0.370511  \n",
       "K%                         -0.077728 -0.301677                -0.158189  \n",
       "HR                          0.447490  0.568009                 0.631358  \n",
       "LA                         -0.021643 -0.024179                 0.088415  \n",
       "Barrels                     0.488105  0.603807                 0.655554  \n",
       "pulled_barrels              0.424911  0.562936                 0.606647  \n",
       "year                             NaN       NaN                      NaN  \n",
       "weighted_woba_2022_2023     0.725809  0.682777                 1.000000  "
      ]
     },
     "execution_count": 16,
     "metadata": {},
     "output_type": "execute_result"
    }
   ],
   "source": [
    "merged_leaders.corr()[['xwOBA_2021', 'xwOBA_2022', 'xwOBA', 'sxwOBA_2021', 'sxwOBA_2022', 'sxwOBA', 'weighted_woba_2022_2023']]"
   ]
  },
  {
   "cell_type": "code",
   "execution_count": null,
   "metadata": {},
   "outputs": [],
   "source": []
  }
 ],
 "metadata": {
  "kernelspec": {
   "display_name": "datasci",
   "language": "python",
   "name": "python3"
  },
  "language_info": {
   "codemirror_mode": {
    "name": "ipython",
    "version": 3
   },
   "file_extension": ".py",
   "mimetype": "text/x-python",
   "name": "python",
   "nbconvert_exporter": "python",
   "pygments_lexer": "ipython3",
   "version": "3.10.8"
  },
  "orig_nbformat": 4
 },
 "nbformat": 4,
 "nbformat_minor": 2
}
