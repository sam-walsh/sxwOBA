{
 "cells": [
  {
   "cell_type": "code",
   "execution_count": 1,
   "metadata": {},
   "outputs": [],
   "source": [
    "import pandas as pd\n",
    "import numpy as np\n",
    "import pybaseball as pb\n",
    "import matplotlib.pyplot as plt\n",
    "import seaborn as sns\n",
    "import joblib"
   ]
  },
  {
   "cell_type": "code",
   "execution_count": 2,
   "metadata": {},
   "outputs": [],
   "source": [
    "df_2023 = pd.read_csv(\"C:/Users/wampl/sxwOBA/statcast_data/2023.csv\")\n",
    "sample_df = df_2023.sample(n=10000)\n",
    "sample_df.to_csv('C:/Users/wampl/sxwOBA/statcast_data/sample_2023.csv', index=False)"
   ]
  },
  {
   "cell_type": "code",
   "execution_count": 3,
   "metadata": {},
   "outputs": [],
   "source": [
    "df1 = pd.read_csv(\"C:/Users/wampl/sxwOBA/statcast_data/woba_events_2021.csv\")\n",
    "df2 = pd.read_csv(\"C:/Users/wampl/sxwOBA/statcast_data/woba_events_2022.csv\")\n",
    "df3 = pd.read_csv(\"C:/Users/wampl/sxwOBA/statcast_data/woba_events_2023.csv\")"
   ]
  },
  {
   "cell_type": "code",
   "execution_count": 4,
   "metadata": {},
   "outputs": [
    {
     "data": {
      "text/html": [
       "<div>\n",
       "<style scoped>\n",
       "    .dataframe tbody tr th:only-of-type {\n",
       "        vertical-align: middle;\n",
       "    }\n",
       "\n",
       "    .dataframe tbody tr th {\n",
       "        vertical-align: top;\n",
       "    }\n",
       "\n",
       "    .dataframe thead th {\n",
       "        text-align: right;\n",
       "    }\n",
       "</style>\n",
       "<table border=\"1\" class=\"dataframe\">\n",
       "  <thead>\n",
       "    <tr style=\"text-align: right;\">\n",
       "      <th></th>\n",
       "      <th></th>\n",
       "      <th>mean</th>\n",
       "      <th>count</th>\n",
       "    </tr>\n",
       "    <tr>\n",
       "      <th>player_name</th>\n",
       "      <th>pitcher</th>\n",
       "      <th></th>\n",
       "      <th></th>\n",
       "    </tr>\n",
       "  </thead>\n",
       "  <tbody>\n",
       "    <tr>\n",
       "      <th>Wheeler, Zack</th>\n",
       "      <th>554430</th>\n",
       "      <td>0.252290</td>\n",
       "      <td>839</td>\n",
       "    </tr>\n",
       "    <tr>\n",
       "      <th>Alcantara, Sandy</th>\n",
       "      <th>645261</th>\n",
       "      <td>0.290125</td>\n",
       "      <td>833</td>\n",
       "    </tr>\n",
       "    <tr>\n",
       "      <th>Wainwright, Adam</th>\n",
       "      <th>425794</th>\n",
       "      <td>0.291865</td>\n",
       "      <td>821</td>\n",
       "    </tr>\n",
       "    <tr>\n",
       "      <th>Buehler, Walker</th>\n",
       "      <th>621111</th>\n",
       "      <td>0.265490</td>\n",
       "      <td>801</td>\n",
       "    </tr>\n",
       "    <tr>\n",
       "      <th>Castillo, Luis</th>\n",
       "      <th>622491</th>\n",
       "      <td>0.292706</td>\n",
       "      <td>788</td>\n",
       "    </tr>\n",
       "    <tr>\n",
       "      <th>Berríos, José</th>\n",
       "      <th>621244</th>\n",
       "      <td>0.295329</td>\n",
       "      <td>779</td>\n",
       "    </tr>\n",
       "    <tr>\n",
       "      <th>Hendricks, Kyle</th>\n",
       "      <th>543294</th>\n",
       "      <td>0.334386</td>\n",
       "      <td>778</td>\n",
       "    </tr>\n",
       "    <tr>\n",
       "      <th>Gausman, Kevin</th>\n",
       "      <th>592332</th>\n",
       "      <td>0.285899</td>\n",
       "      <td>771</td>\n",
       "    </tr>\n",
       "    <tr>\n",
       "      <th>Ray, Robbie</th>\n",
       "      <th>592662</th>\n",
       "      <td>0.290476</td>\n",
       "      <td>770</td>\n",
       "    </tr>\n",
       "    <tr>\n",
       "      <th>Montas, Frankie</th>\n",
       "      <th>593423</th>\n",
       "      <td>0.298247</td>\n",
       "      <td>769</td>\n",
       "    </tr>\n",
       "    <tr>\n",
       "      <th>Lyles, Jordan</th>\n",
       "      <th>543475</th>\n",
       "      <td>0.345023</td>\n",
       "      <td>765</td>\n",
       "    </tr>\n",
       "    <tr>\n",
       "      <th>Irvin, Cole</th>\n",
       "      <th>608344</th>\n",
       "      <td>0.333827</td>\n",
       "      <td>761</td>\n",
       "    </tr>\n",
       "    <tr>\n",
       "      <th>Eovaldi, Nathan</th>\n",
       "      <th>543135</th>\n",
       "      <td>0.288409</td>\n",
       "      <td>760</td>\n",
       "    </tr>\n",
       "    <tr>\n",
       "      <th>Manaea, Sean</th>\n",
       "      <th>640455</th>\n",
       "      <td>0.309628</td>\n",
       "      <td>752</td>\n",
       "    </tr>\n",
       "    <tr>\n",
       "      <th>Gibson, Kyle</th>\n",
       "      <th>502043</th>\n",
       "      <td>0.295075</td>\n",
       "      <td>749</td>\n",
       "    </tr>\n",
       "    <tr>\n",
       "      <th>Mahle, Tyler</th>\n",
       "      <th>641816</th>\n",
       "      <td>0.297209</td>\n",
       "      <td>749</td>\n",
       "    </tr>\n",
       "    <tr>\n",
       "      <th>Morton, Charlie</th>\n",
       "      <th>450203</th>\n",
       "      <td>0.277527</td>\n",
       "      <td>747</td>\n",
       "    </tr>\n",
       "    <tr>\n",
       "      <th>Nola, Aaron</th>\n",
       "      <th>605400</th>\n",
       "      <td>0.274872</td>\n",
       "      <td>743</td>\n",
       "    </tr>\n",
       "    <tr>\n",
       "      <th>Musgrove, Joe</th>\n",
       "      <th>605397</th>\n",
       "      <td>0.293790</td>\n",
       "      <td>743</td>\n",
       "    </tr>\n",
       "    <tr>\n",
       "      <th>Márquez, Germán</th>\n",
       "      <th>608566</th>\n",
       "      <td>0.303369</td>\n",
       "      <td>739</td>\n",
       "    </tr>\n",
       "  </tbody>\n",
       "</table>\n",
       "</div>"
      ],
      "text/plain": [
       "                              mean  count\n",
       "player_name      pitcher                 \n",
       "Wheeler, Zack    554430   0.252290    839\n",
       "Alcantara, Sandy 645261   0.290125    833\n",
       "Wainwright, Adam 425794   0.291865    821\n",
       "Buehler, Walker  621111   0.265490    801\n",
       "Castillo, Luis   622491   0.292706    788\n",
       "Berríos, José    621244   0.295329    779\n",
       "Hendricks, Kyle  543294   0.334386    778\n",
       "Gausman, Kevin   592332   0.285899    771\n",
       "Ray, Robbie      592662   0.290476    770\n",
       "Montas, Frankie  593423   0.298247    769\n",
       "Lyles, Jordan    543475   0.345023    765\n",
       "Irvin, Cole      608344   0.333827    761\n",
       "Eovaldi, Nathan  543135   0.288409    760\n",
       "Manaea, Sean     640455   0.309628    752\n",
       "Gibson, Kyle     502043   0.295075    749\n",
       "Mahle, Tyler     641816   0.297209    749\n",
       "Morton, Charlie  450203   0.277527    747\n",
       "Nola, Aaron      605400   0.274872    743\n",
       "Musgrove, Joe    605397   0.293790    743\n",
       "Márquez, Germán  608566   0.303369    739"
      ]
     },
     "execution_count": 4,
     "metadata": {},
     "output_type": "execute_result"
    }
   ],
   "source": [
    "df1.groupby(['player_name', 'pitcher'], as_index=False)['sxwOBA_adj'].agg(['mean', 'count']).sort_values('count', ascending=False).head(20)"
   ]
  },
  {
   "cell_type": "code",
   "execution_count": 5,
   "metadata": {},
   "outputs": [
    {
     "data": {
      "text/html": [
       "<div>\n",
       "<style scoped>\n",
       "    .dataframe tbody tr th:only-of-type {\n",
       "        vertical-align: middle;\n",
       "    }\n",
       "\n",
       "    .dataframe tbody tr th {\n",
       "        vertical-align: top;\n",
       "    }\n",
       "\n",
       "    .dataframe thead th {\n",
       "        text-align: right;\n",
       "    }\n",
       "</style>\n",
       "<table border=\"1\" class=\"dataframe\">\n",
       "  <thead>\n",
       "    <tr style=\"text-align: right;\">\n",
       "      <th></th>\n",
       "      <th></th>\n",
       "      <th>mean</th>\n",
       "      <th>count</th>\n",
       "    </tr>\n",
       "    <tr>\n",
       "      <th>player_name</th>\n",
       "      <th>pitcher</th>\n",
       "      <th></th>\n",
       "      <th></th>\n",
       "    </tr>\n",
       "  </thead>\n",
       "  <tbody>\n",
       "    <tr>\n",
       "      <th>Bieber, Shane</th>\n",
       "      <th>669456</th>\n",
       "      <td>0.271133</td>\n",
       "      <td>288</td>\n",
       "    </tr>\n",
       "    <tr>\n",
       "      <th>Kelly, Merrill</th>\n",
       "      <th>518876</th>\n",
       "      <td>0.335800</td>\n",
       "      <td>279</td>\n",
       "    </tr>\n",
       "    <tr>\n",
       "      <th>Alcantara, Sandy</th>\n",
       "      <th>645261</th>\n",
       "      <td>0.279491</td>\n",
       "      <td>278</td>\n",
       "    </tr>\n",
       "    <tr>\n",
       "      <th>Lynn, Lance</th>\n",
       "      <th>458681</th>\n",
       "      <td>0.280222</td>\n",
       "      <td>276</td>\n",
       "    </tr>\n",
       "    <tr>\n",
       "      <th>Burnes, Corbin</th>\n",
       "      <th>669203</th>\n",
       "      <td>0.289955</td>\n",
       "      <td>274</td>\n",
       "    </tr>\n",
       "    <tr>\n",
       "      <th>Wainwright, Adam</th>\n",
       "      <th>425794</th>\n",
       "      <td>0.345703</td>\n",
       "      <td>273</td>\n",
       "    </tr>\n",
       "    <tr>\n",
       "      <th>Stroman, Marcus</th>\n",
       "      <th>573186</th>\n",
       "      <td>0.280013</td>\n",
       "      <td>266</td>\n",
       "    </tr>\n",
       "    <tr>\n",
       "      <th>Gausman, Kevin</th>\n",
       "      <th>592332</th>\n",
       "      <td>0.280472</td>\n",
       "      <td>261</td>\n",
       "    </tr>\n",
       "    <tr>\n",
       "      <th>Darvish, Yu</th>\n",
       "      <th>506433</th>\n",
       "      <td>0.269839</td>\n",
       "      <td>257</td>\n",
       "    </tr>\n",
       "    <tr>\n",
       "      <th>Manoah, Alek</th>\n",
       "      <th>666201</th>\n",
       "      <td>0.281272</td>\n",
       "      <td>257</td>\n",
       "    </tr>\n",
       "    <tr>\n",
       "      <th>Pérez, Martín</th>\n",
       "      <th>527048</th>\n",
       "      <td>0.307472</td>\n",
       "      <td>256</td>\n",
       "    </tr>\n",
       "    <tr>\n",
       "      <th>Irvin, Cole</th>\n",
       "      <th>608344</th>\n",
       "      <td>0.342271</td>\n",
       "      <td>255</td>\n",
       "    </tr>\n",
       "    <tr>\n",
       "      <th>Montgomery, Jordan</th>\n",
       "      <th>656756</th>\n",
       "      <td>0.291167</td>\n",
       "      <td>255</td>\n",
       "    </tr>\n",
       "    <tr>\n",
       "      <th>Valdez, Framber</th>\n",
       "      <th>664285</th>\n",
       "      <td>0.288029</td>\n",
       "      <td>254</td>\n",
       "    </tr>\n",
       "    <tr>\n",
       "      <th>Quantrill, Cal</th>\n",
       "      <th>615698</th>\n",
       "      <td>0.291538</td>\n",
       "      <td>253</td>\n",
       "    </tr>\n",
       "    <tr>\n",
       "      <th>Bradish, Kyle</th>\n",
       "      <th>680694</th>\n",
       "      <td>0.291027</td>\n",
       "      <td>252</td>\n",
       "    </tr>\n",
       "    <tr>\n",
       "      <th>McKenzie, Triston</th>\n",
       "      <th>663474</th>\n",
       "      <td>0.282456</td>\n",
       "      <td>252</td>\n",
       "    </tr>\n",
       "    <tr>\n",
       "      <th>Márquez, Germán</th>\n",
       "      <th>608566</th>\n",
       "      <td>0.315615</td>\n",
       "      <td>250</td>\n",
       "    </tr>\n",
       "    <tr>\n",
       "      <th>Singer, Brady</th>\n",
       "      <th>663903</th>\n",
       "      <td>0.317304</td>\n",
       "      <td>248</td>\n",
       "    </tr>\n",
       "    <tr>\n",
       "      <th>Snell, Blake</th>\n",
       "      <th>605483</th>\n",
       "      <td>0.271593</td>\n",
       "      <td>247</td>\n",
       "    </tr>\n",
       "  </tbody>\n",
       "</table>\n",
       "</div>"
      ],
      "text/plain": [
       "                                mean  count\n",
       "player_name        pitcher                 \n",
       "Bieber, Shane      669456   0.271133    288\n",
       "Kelly, Merrill     518876   0.335800    279\n",
       "Alcantara, Sandy   645261   0.279491    278\n",
       "Lynn, Lance        458681   0.280222    276\n",
       "Burnes, Corbin     669203   0.289955    274\n",
       "Wainwright, Adam   425794   0.345703    273\n",
       "Stroman, Marcus    573186   0.280013    266\n",
       "Gausman, Kevin     592332   0.280472    261\n",
       "Darvish, Yu        506433   0.269839    257\n",
       "Manoah, Alek       666201   0.281272    257\n",
       "Pérez, Martín      527048   0.307472    256\n",
       "Irvin, Cole        608344   0.342271    255\n",
       "Montgomery, Jordan 656756   0.291167    255\n",
       "Valdez, Framber    664285   0.288029    254\n",
       "Quantrill, Cal     615698   0.291538    253\n",
       "Bradish, Kyle      680694   0.291027    252\n",
       "McKenzie, Triston  663474   0.282456    252\n",
       "Márquez, Germán    608566   0.315615    250\n",
       "Singer, Brady      663903   0.317304    248\n",
       "Snell, Blake       605483   0.271593    247"
      ]
     },
     "execution_count": 5,
     "metadata": {},
     "output_type": "execute_result"
    }
   ],
   "source": [
    "df2.groupby(['player_name', 'pitcher'], as_index=False)['sxwOBA_adj'].agg(['mean', 'count']).sort_values('count', ascending=False).head(20)"
   ]
  },
  {
   "cell_type": "code",
   "execution_count": 6,
   "metadata": {},
   "outputs": [
    {
     "data": {
      "text/html": [
       "<div>\n",
       "<style scoped>\n",
       "    .dataframe tbody tr th:only-of-type {\n",
       "        vertical-align: middle;\n",
       "    }\n",
       "\n",
       "    .dataframe tbody tr th {\n",
       "        vertical-align: top;\n",
       "    }\n",
       "\n",
       "    .dataframe thead tr th {\n",
       "        text-align: left;\n",
       "    }\n",
       "\n",
       "    .dataframe thead tr:last-of-type th {\n",
       "        text-align: right;\n",
       "    }\n",
       "</style>\n",
       "<table border=\"1\" class=\"dataframe\">\n",
       "  <thead>\n",
       "    <tr>\n",
       "      <th></th>\n",
       "      <th></th>\n",
       "      <th colspan=\"2\" halign=\"left\">estimated_woba_using_speedangle</th>\n",
       "      <th colspan=\"2\" halign=\"left\">xwOBA_adj</th>\n",
       "    </tr>\n",
       "    <tr>\n",
       "      <th></th>\n",
       "      <th></th>\n",
       "      <th>mean</th>\n",
       "      <th>count</th>\n",
       "      <th>mean</th>\n",
       "      <th>count</th>\n",
       "    </tr>\n",
       "    <tr>\n",
       "      <th>player_name</th>\n",
       "      <th>pitcher</th>\n",
       "      <th></th>\n",
       "      <th></th>\n",
       "      <th></th>\n",
       "      <th></th>\n",
       "    </tr>\n",
       "  </thead>\n",
       "  <tbody>\n",
       "    <tr>\n",
       "      <th>Bieber, Shane</th>\n",
       "      <th>669456</th>\n",
       "      <td>0.287</td>\n",
       "      <td>288</td>\n",
       "      <td>0.271</td>\n",
       "      <td>288</td>\n",
       "    </tr>\n",
       "    <tr>\n",
       "      <th>Kelly, Merrill</th>\n",
       "      <th>518876</th>\n",
       "      <td>0.332</td>\n",
       "      <td>279</td>\n",
       "      <td>0.321</td>\n",
       "      <td>279</td>\n",
       "    </tr>\n",
       "    <tr>\n",
       "      <th>Alcantara, Sandy</th>\n",
       "      <th>645261</th>\n",
       "      <td>0.275</td>\n",
       "      <td>278</td>\n",
       "      <td>0.262</td>\n",
       "      <td>278</td>\n",
       "    </tr>\n",
       "    <tr>\n",
       "      <th>Lynn, Lance</th>\n",
       "      <th>458681</th>\n",
       "      <td>0.276</td>\n",
       "      <td>277</td>\n",
       "      <td>0.263</td>\n",
       "      <td>277</td>\n",
       "    </tr>\n",
       "    <tr>\n",
       "      <th>Burnes, Corbin</th>\n",
       "      <th>669203</th>\n",
       "      <td>0.292</td>\n",
       "      <td>274</td>\n",
       "      <td>0.278</td>\n",
       "      <td>274</td>\n",
       "    </tr>\n",
       "    <tr>\n",
       "      <th>Wainwright, Adam</th>\n",
       "      <th>425794</th>\n",
       "      <td>0.335</td>\n",
       "      <td>273</td>\n",
       "      <td>0.324</td>\n",
       "      <td>273</td>\n",
       "    </tr>\n",
       "    <tr>\n",
       "      <th>Stroman, Marcus</th>\n",
       "      <th>573186</th>\n",
       "      <td>0.286</td>\n",
       "      <td>266</td>\n",
       "      <td>0.269</td>\n",
       "      <td>266</td>\n",
       "    </tr>\n",
       "    <tr>\n",
       "      <th>Gausman, Kevin</th>\n",
       "      <th>592332</th>\n",
       "      <td>0.269</td>\n",
       "      <td>261</td>\n",
       "      <td>0.257</td>\n",
       "      <td>261</td>\n",
       "    </tr>\n",
       "    <tr>\n",
       "      <th>Manoah, Alek</th>\n",
       "      <th>666201</th>\n",
       "      <td>0.287</td>\n",
       "      <td>257</td>\n",
       "      <td>0.277</td>\n",
       "      <td>257</td>\n",
       "    </tr>\n",
       "    <tr>\n",
       "      <th>Darvish, Yu</th>\n",
       "      <th>506433</th>\n",
       "      <td>0.280</td>\n",
       "      <td>257</td>\n",
       "      <td>0.270</td>\n",
       "      <td>257</td>\n",
       "    </tr>\n",
       "    <tr>\n",
       "      <th>Pérez, Martín</th>\n",
       "      <th>527048</th>\n",
       "      <td>0.319</td>\n",
       "      <td>256</td>\n",
       "      <td>0.306</td>\n",
       "      <td>256</td>\n",
       "    </tr>\n",
       "    <tr>\n",
       "      <th>Montgomery, Jordan</th>\n",
       "      <th>656756</th>\n",
       "      <td>0.299</td>\n",
       "      <td>255</td>\n",
       "      <td>0.285</td>\n",
       "      <td>255</td>\n",
       "    </tr>\n",
       "    <tr>\n",
       "      <th>Irvin, Cole</th>\n",
       "      <th>608344</th>\n",
       "      <td>0.328</td>\n",
       "      <td>255</td>\n",
       "      <td>0.315</td>\n",
       "      <td>255</td>\n",
       "    </tr>\n",
       "    <tr>\n",
       "      <th>Valdez, Framber</th>\n",
       "      <th>664285</th>\n",
       "      <td>0.291</td>\n",
       "      <td>254</td>\n",
       "      <td>0.274</td>\n",
       "      <td>254</td>\n",
       "    </tr>\n",
       "    <tr>\n",
       "      <th>Quantrill, Cal</th>\n",
       "      <th>615698</th>\n",
       "      <td>0.295</td>\n",
       "      <td>253</td>\n",
       "      <td>0.281</td>\n",
       "      <td>253</td>\n",
       "    </tr>\n",
       "    <tr>\n",
       "      <th>McKenzie, Triston</th>\n",
       "      <th>663474</th>\n",
       "      <td>0.272</td>\n",
       "      <td>252</td>\n",
       "      <td>0.263</td>\n",
       "      <td>252</td>\n",
       "    </tr>\n",
       "    <tr>\n",
       "      <th>Bradish, Kyle</th>\n",
       "      <th>680694</th>\n",
       "      <td>0.296</td>\n",
       "      <td>252</td>\n",
       "      <td>0.283</td>\n",
       "      <td>252</td>\n",
       "    </tr>\n",
       "    <tr>\n",
       "      <th>Márquez, Germán</th>\n",
       "      <th>608566</th>\n",
       "      <td>0.305</td>\n",
       "      <td>250</td>\n",
       "      <td>0.292</td>\n",
       "      <td>250</td>\n",
       "    </tr>\n",
       "    <tr>\n",
       "      <th>Singer, Brady</th>\n",
       "      <th>663903</th>\n",
       "      <td>0.317</td>\n",
       "      <td>249</td>\n",
       "      <td>0.302</td>\n",
       "      <td>249</td>\n",
       "    </tr>\n",
       "    <tr>\n",
       "      <th>Snell, Blake</th>\n",
       "      <th>605483</th>\n",
       "      <td>0.267</td>\n",
       "      <td>247</td>\n",
       "      <td>0.258</td>\n",
       "      <td>247</td>\n",
       "    </tr>\n",
       "  </tbody>\n",
       "</table>\n",
       "</div>"
      ],
      "text/plain": [
       "                           estimated_woba_using_speedangle       xwOBA_adj  \\\n",
       "                                                      mean count      mean   \n",
       "player_name        pitcher                                                   \n",
       "Bieber, Shane      669456                            0.287   288     0.271   \n",
       "Kelly, Merrill     518876                            0.332   279     0.321   \n",
       "Alcantara, Sandy   645261                            0.275   278     0.262   \n",
       "Lynn, Lance        458681                            0.276   277     0.263   \n",
       "Burnes, Corbin     669203                            0.292   274     0.278   \n",
       "Wainwright, Adam   425794                            0.335   273     0.324   \n",
       "Stroman, Marcus    573186                            0.286   266     0.269   \n",
       "Gausman, Kevin     592332                            0.269   261     0.257   \n",
       "Manoah, Alek       666201                            0.287   257     0.277   \n",
       "Darvish, Yu        506433                            0.280   257     0.270   \n",
       "Pérez, Martín      527048                            0.319   256     0.306   \n",
       "Montgomery, Jordan 656756                            0.299   255     0.285   \n",
       "Irvin, Cole        608344                            0.328   255     0.315   \n",
       "Valdez, Framber    664285                            0.291   254     0.274   \n",
       "Quantrill, Cal     615698                            0.295   253     0.281   \n",
       "McKenzie, Triston  663474                            0.272   252     0.263   \n",
       "Bradish, Kyle      680694                            0.296   252     0.283   \n",
       "Márquez, Germán    608566                            0.305   250     0.292   \n",
       "Singer, Brady      663903                            0.317   249     0.302   \n",
       "Snell, Blake       605483                            0.267   247     0.258   \n",
       "\n",
       "                                  \n",
       "                           count  \n",
       "player_name        pitcher        \n",
       "Bieber, Shane      669456    288  \n",
       "Kelly, Merrill     518876    279  \n",
       "Alcantara, Sandy   645261    278  \n",
       "Lynn, Lance        458681    277  \n",
       "Burnes, Corbin     669203    274  \n",
       "Wainwright, Adam   425794    273  \n",
       "Stroman, Marcus    573186    266  \n",
       "Gausman, Kevin     592332    261  \n",
       "Manoah, Alek       666201    257  \n",
       "Darvish, Yu        506433    257  \n",
       "Pérez, Martín      527048    256  \n",
       "Montgomery, Jordan 656756    255  \n",
       "Irvin, Cole        608344    255  \n",
       "Valdez, Framber    664285    254  \n",
       "Quantrill, Cal     615698    253  \n",
       "McKenzie, Triston  663474    252  \n",
       "Bradish, Kyle      680694    252  \n",
       "Márquez, Germán    608566    250  \n",
       "Singer, Brady      663903    249  \n",
       "Snell, Blake       605483    247  "
      ]
     },
     "execution_count": 6,
     "metadata": {},
     "output_type": "execute_result"
    }
   ],
   "source": [
    "df2.groupby(['player_name', 'pitcher'], as_index=False)[['estimated_woba_using_speedangle', 'xwOBA_adj']].agg(['mean', 'count']).sort_values(('estimated_woba_using_speedangle', 'count'), ascending=False).round(3).head(20)"
   ]
  },
  {
   "cell_type": "code",
   "execution_count": 7,
   "metadata": {},
   "outputs": [
    {
     "name": "stderr",
     "output_type": "stream",
     "text": [
      "C:\\Users\\wampl\\AppData\\Local\\Temp\\ipykernel_22648\\1807637183.py:1: FutureWarning: Indexing with multiple keys (implicitly converted to a tuple of keys) will be deprecated, use a list instead.\n",
      "  leaders_23 = df3.groupby(['player_name', 'pitcher'], as_index=False)['xwOBA_adj', 'sxwOBA_adj'].mean()\n"
     ]
    }
   ],
   "source": [
    "leaders_23 = df3.groupby(['player_name', 'pitcher'], as_index=False)['xwOBA_adj', 'sxwOBA_adj'].mean()\n"
   ]
  },
  {
   "cell_type": "code",
   "execution_count": 8,
   "metadata": {},
   "outputs": [
    {
     "data": {
      "text/plain": [
       "field_out                    0.40\n",
       "strikeout                    0.23\n",
       "single                       0.14\n",
       "walk                         0.08\n",
       "double                       0.05\n",
       "home_run                     0.03\n",
       "force_out                    0.02\n",
       "grounded_into_double_play    0.02\n",
       "hit_by_pitch                 0.01\n",
       "sac_fly                      0.01\n",
       "field_error                  0.01\n",
       "triple                       0.00\n",
       "double_play                  0.00\n",
       "fielders_choice              0.00\n",
       "fielders_choice_out          0.00\n",
       "strikeout_double_play        0.00\n",
       "sac_fly_double_play          0.00\n",
       "triple_play                  0.00\n",
       "Name: events, dtype: float64"
      ]
     },
     "execution_count": 8,
     "metadata": {},
     "output_type": "execute_result"
    }
   ],
   "source": [
    "df3.events.value_counts(normalize=True).round(2)"
   ]
  },
  {
   "cell_type": "code",
   "execution_count": 9,
   "metadata": {},
   "outputs": [
    {
     "data": {
      "text/plain": [
       "0.3077622369770019"
      ]
     },
     "execution_count": 9,
     "metadata": {},
     "output_type": "execute_result"
    }
   ],
   "source": [
    "df3['xwOBA_adj'].mean()"
   ]
  },
  {
   "cell_type": "code",
   "execution_count": 10,
   "metadata": {},
   "outputs": [],
   "source": [
    "def get_mlbam_id(row):\n",
    "    \"\"\"\n",
    "    Attempts to find the mlbam id for a player using their fangraphs id and name\n",
    "    \"\"\"\n",
    "    # First try fuzzy lookup using player first and last name\n",
    "    result = pb.playerid_lookup(row['last_name'], row['first_name'], fuzzy=True)\n",
    "    try:\n",
    "        # If there are multiple results, try to find the one that matches the fangraphs id\n",
    "        result = result.loc[result['key_fangraphs'] == row['IDfg']].iloc[0]\n",
    "        return result['key_mlbam']\n",
    "    except:\n",
    "        # If no match, try reverse lookup using fangraphs id\n",
    "        try:\n",
    "            print('failed to find mlbam id for', row['Name'], row['last_name'], row['first_name'])\n",
    "            print('trying reverse lookup')\n",
    "            result = pb.playerid_reverse_lookup([row['IDfg']], key_type='fangraphs').iloc[0]\n",
    "            return result['key_mlbam']\n",
    "        except:\n",
    "        # If no match, try to find the player with the same name that played in the mlb most recently\n",
    "            result['mlb_played_last'].replace('', np.nan, inplace=True)\n",
    "            result = result.loc[result['mlb_played_last'] > 2015].iloc[0]\n",
    "            if len(result) != 0:\n",
    "                return result['key_mlbam']\n",
    "            else:\n",
    "                return 000000"
   ]
  },
  {
   "cell_type": "code",
   "execution_count": 11,
   "metadata": {},
   "outputs": [],
   "source": [
    "def get_fg_stats(year, selected_stats):\n",
    "    import pybaseball as pb\n",
    "    \"\"\"\n",
    "    returns fangraphs batting stats for a given year\n",
    "    \"\"\"\n",
    "    out = pb.fg_pitching_data(year, qual=20)\n",
    "    out['first_name'] = out['Name'].str.split(n=1).str[0]\n",
    "    out['last_name'] = out['Name'].str.split(n=1).str[1]\n",
    "    out['key_mlbam'] = out.apply(get_mlbam_id, axis=1)\n",
    "    out.dropna(subset=['key_mlbam'], inplace=True)\n",
    "    return out[selected_stats]\n"
   ]
  },
  {
   "cell_type": "code",
   "execution_count": 12,
   "metadata": {},
   "outputs": [
    {
     "name": "stdout",
     "output_type": "stream",
     "text": [
      "No identically matched names found! Returning the 5 most similar names.\n",
      "No identically matched names found! Returning the 5 most similar names.\n",
      "No identically matched names found! Returning the 5 most similar names.\n",
      "No identically matched names found! Returning the 5 most similar names.\n",
      "No identically matched names found! Returning the 5 most similar names.\n",
      "No identically matched names found! Returning the 5 most similar names.\n",
      "No identically matched names found! Returning the 5 most similar names.\n",
      "No identically matched names found! Returning the 5 most similar names.\n",
      "No identically matched names found! Returning the 5 most similar names.\n",
      "failed to find mlbam id for Carlos Hernandez Hernandez Carlos\n",
      "trying reverse lookup\n",
      "No identically matched names found! Returning the 5 most similar names.\n",
      "No identically matched names found! Returning the 5 most similar names.\n",
      "No identically matched names found! Returning the 5 most similar names.\n",
      "No identically matched names found! Returning the 5 most similar names.\n",
      "No identically matched names found! Returning the 5 most similar names.\n",
      "No identically matched names found! Returning the 5 most similar names.\n",
      "No identically matched names found! Returning the 5 most similar names.\n",
      "No identically matched names found! Returning the 5 most similar names.\n",
      "No identically matched names found! Returning the 5 most similar names.\n",
      "No identically matched names found! Returning the 5 most similar names.\n",
      "failed to find mlbam id for Michael King King Michael\n",
      "trying reverse lookup\n",
      "No identically matched names found! Returning the 5 most similar names.\n",
      "No identically matched names found! Returning the 5 most similar names.\n",
      "No identically matched names found! Returning the 5 most similar names.\n",
      "No identically matched names found! Returning the 5 most similar names.\n",
      "No identically matched names found! Returning the 5 most similar names.\n",
      "No identically matched names found! Returning the 5 most similar names.\n",
      "No identically matched names found! Returning the 5 most similar names.\n",
      "No identically matched names found! Returning the 5 most similar names.\n",
      "No identically matched names found! Returning the 5 most similar names.\n",
      "No identically matched names found! Returning the 5 most similar names.\n",
      "No identically matched names found! Returning the 5 most similar names.\n",
      "No identically matched names found! Returning the 5 most similar names.\n",
      "No identically matched names found! Returning the 5 most similar names.\n",
      "No identically matched names found! Returning the 5 most similar names.\n",
      "No identically matched names found! Returning the 5 most similar names.\n",
      "No identically matched names found! Returning the 5 most similar names.\n",
      "No identically matched names found! Returning the 5 most similar names.\n",
      "failed to find mlbam id for Erasmo Ramirez Ramirez Erasmo\n",
      "trying reverse lookup\n",
      "failed to find mlbam id for Luis Garcia Garcia Luis\n",
      "trying reverse lookup\n",
      "No identically matched names found! Returning the 5 most similar names.\n",
      "No identically matched names found! Returning the 5 most similar names.\n",
      "No identically matched names found! Returning the 5 most similar names.\n",
      "No identically matched names found! Returning the 5 most similar names.\n",
      "No identically matched names found! Returning the 5 most similar names.\n",
      "No identically matched names found! Returning the 5 most similar names.\n",
      "No identically matched names found! Returning the 5 most similar names.\n",
      "No identically matched names found! Returning the 5 most similar names.\n"
     ]
    }
   ],
   "source": [
    "pitching_23 = get_fg_stats(2023, ['Name', 'IP', 'ERA', 'FIP', 'xFIP', 'SIERA', 'xERA', 'GB%', 'key_mlbam'])"
   ]
  },
  {
   "cell_type": "code",
   "execution_count": 13,
   "metadata": {},
   "outputs": [
    {
     "data": {
      "text/html": [
       "<div>\n",
       "<style scoped>\n",
       "    .dataframe tbody tr th:only-of-type {\n",
       "        vertical-align: middle;\n",
       "    }\n",
       "\n",
       "    .dataframe tbody tr th {\n",
       "        vertical-align: top;\n",
       "    }\n",
       "\n",
       "    .dataframe thead th {\n",
       "        text-align: right;\n",
       "    }\n",
       "</style>\n",
       "<table border=\"1\" class=\"dataframe\">\n",
       "  <thead>\n",
       "    <tr style=\"text-align: right;\">\n",
       "      <th></th>\n",
       "      <th>Name</th>\n",
       "      <th>IP</th>\n",
       "      <th>ERA</th>\n",
       "      <th>FIP</th>\n",
       "      <th>xFIP</th>\n",
       "      <th>SIERA</th>\n",
       "      <th>xERA</th>\n",
       "      <th>GB%</th>\n",
       "      <th>key_mlbam</th>\n",
       "    </tr>\n",
       "  </thead>\n",
       "  <tbody>\n",
       "    <tr>\n",
       "      <th>199</th>\n",
       "      <td>Zack Wheeler</td>\n",
       "      <td>118.1</td>\n",
       "      <td>3.88</td>\n",
       "      <td>2.88</td>\n",
       "      <td>3.47</td>\n",
       "      <td>3.47</td>\n",
       "      <td>3.27</td>\n",
       "      <td>0.396</td>\n",
       "      <td>554430</td>\n",
       "    </tr>\n",
       "    <tr>\n",
       "      <th>114</th>\n",
       "      <td>Kevin Gausman</td>\n",
       "      <td>121.2</td>\n",
       "      <td>3.18</td>\n",
       "      <td>2.77</td>\n",
       "      <td>2.91</td>\n",
       "      <td>3.00</td>\n",
       "      <td>3.65</td>\n",
       "      <td>0.426</td>\n",
       "      <td>592332</td>\n",
       "    </tr>\n",
       "    <tr>\n",
       "      <th>137</th>\n",
       "      <td>Zac Gallen</td>\n",
       "      <td>136.2</td>\n",
       "      <td>3.36</td>\n",
       "      <td>3.16</td>\n",
       "      <td>3.55</td>\n",
       "      <td>3.63</td>\n",
       "      <td>3.84</td>\n",
       "      <td>0.379</td>\n",
       "      <td>668678</td>\n",
       "    </tr>\n",
       "    <tr>\n",
       "      <th>180</th>\n",
       "      <td>Spencer Strider</td>\n",
       "      <td>123.0</td>\n",
       "      <td>3.73</td>\n",
       "      <td>2.97</td>\n",
       "      <td>2.67</td>\n",
       "      <td>2.55</td>\n",
       "      <td>3.08</td>\n",
       "      <td>0.327</td>\n",
       "      <td>675911</td>\n",
       "    </tr>\n",
       "    <tr>\n",
       "      <th>126</th>\n",
       "      <td>Framber Valdez</td>\n",
       "      <td>126.0</td>\n",
       "      <td>3.29</td>\n",
       "      <td>3.20</td>\n",
       "      <td>3.14</td>\n",
       "      <td>3.46</td>\n",
       "      <td>4.06</td>\n",
       "      <td>0.535</td>\n",
       "      <td>664285</td>\n",
       "    </tr>\n",
       "  </tbody>\n",
       "</table>\n",
       "</div>"
      ],
      "text/plain": [
       "                Name     IP   ERA   FIP  xFIP  SIERA  xERA    GB%  key_mlbam\n",
       "199     Zack Wheeler  118.1  3.88  2.88  3.47   3.47  3.27  0.396     554430\n",
       "114    Kevin Gausman  121.2  3.18  2.77  2.91   3.00  3.65  0.426     592332\n",
       "137       Zac Gallen  136.2  3.36  3.16  3.55   3.63  3.84  0.379     668678\n",
       "180  Spencer Strider  123.0  3.73  2.97  2.67   2.55  3.08  0.327     675911\n",
       "126   Framber Valdez  126.0  3.29  3.20  3.14   3.46  4.06  0.535     664285"
      ]
     },
     "execution_count": 13,
     "metadata": {},
     "output_type": "execute_result"
    }
   ],
   "source": [
    "pitching_23.head()"
   ]
  },
  {
   "cell_type": "code",
   "execution_count": 14,
   "metadata": {},
   "outputs": [
    {
     "data": {
      "text/html": [
       "<div>\n",
       "<style scoped>\n",
       "    .dataframe tbody tr th:only-of-type {\n",
       "        vertical-align: middle;\n",
       "    }\n",
       "\n",
       "    .dataframe tbody tr th {\n",
       "        vertical-align: top;\n",
       "    }\n",
       "\n",
       "    .dataframe thead th {\n",
       "        text-align: right;\n",
       "    }\n",
       "</style>\n",
       "<table border=\"1\" class=\"dataframe\">\n",
       "  <thead>\n",
       "    <tr style=\"text-align: right;\">\n",
       "      <th></th>\n",
       "      <th>player_name</th>\n",
       "      <th>pitcher</th>\n",
       "      <th>xwOBA_adj</th>\n",
       "      <th>sxwOBA_adj</th>\n",
       "      <th>Name</th>\n",
       "      <th>IP</th>\n",
       "      <th>ERA</th>\n",
       "      <th>FIP</th>\n",
       "      <th>xFIP</th>\n",
       "      <th>SIERA</th>\n",
       "      <th>xERA</th>\n",
       "      <th>GB%</th>\n",
       "      <th>key_mlbam</th>\n",
       "    </tr>\n",
       "  </thead>\n",
       "  <tbody>\n",
       "    <tr>\n",
       "      <th>0</th>\n",
       "      <td>Abad, Fernando</td>\n",
       "      <td>472551</td>\n",
       "      <td>0.421655</td>\n",
       "      <td>0.525158</td>\n",
       "      <td>NaN</td>\n",
       "      <td>NaN</td>\n",
       "      <td>NaN</td>\n",
       "      <td>NaN</td>\n",
       "      <td>NaN</td>\n",
       "      <td>NaN</td>\n",
       "      <td>NaN</td>\n",
       "      <td>NaN</td>\n",
       "      <td>NaN</td>\n",
       "    </tr>\n",
       "    <tr>\n",
       "      <th>1</th>\n",
       "      <td>Abbott, Andrew</td>\n",
       "      <td>671096</td>\n",
       "      <td>0.288144</td>\n",
       "      <td>0.294499</td>\n",
       "      <td>Andrew Abbott</td>\n",
       "      <td>61.2</td>\n",
       "      <td>1.90</td>\n",
       "      <td>3.75</td>\n",
       "      <td>4.30</td>\n",
       "      <td>4.05</td>\n",
       "      <td>3.35</td>\n",
       "      <td>0.253</td>\n",
       "      <td>671096.0</td>\n",
       "    </tr>\n",
       "    <tr>\n",
       "      <th>2</th>\n",
       "      <td>Abbott, Cory</td>\n",
       "      <td>676265</td>\n",
       "      <td>0.315990</td>\n",
       "      <td>0.325780</td>\n",
       "      <td>Cory Abbott</td>\n",
       "      <td>21.1</td>\n",
       "      <td>5.91</td>\n",
       "      <td>5.96</td>\n",
       "      <td>5.04</td>\n",
       "      <td>4.89</td>\n",
       "      <td>5.05</td>\n",
       "      <td>0.446</td>\n",
       "      <td>676265.0</td>\n",
       "    </tr>\n",
       "    <tr>\n",
       "      <th>3</th>\n",
       "      <td>Abreu, Albert</td>\n",
       "      <td>656061</td>\n",
       "      <td>0.302496</td>\n",
       "      <td>0.318008</td>\n",
       "      <td>Albert Abreu</td>\n",
       "      <td>42.0</td>\n",
       "      <td>4.07</td>\n",
       "      <td>4.76</td>\n",
       "      <td>4.45</td>\n",
       "      <td>4.10</td>\n",
       "      <td>4.12</td>\n",
       "      <td>0.469</td>\n",
       "      <td>656061.0</td>\n",
       "    </tr>\n",
       "    <tr>\n",
       "      <th>4</th>\n",
       "      <td>Abreu, Bryan</td>\n",
       "      <td>650556</td>\n",
       "      <td>0.268908</td>\n",
       "      <td>0.277058</td>\n",
       "      <td>Bryan Abreu</td>\n",
       "      <td>48.1</td>\n",
       "      <td>2.61</td>\n",
       "      <td>3.24</td>\n",
       "      <td>2.94</td>\n",
       "      <td>2.70</td>\n",
       "      <td>3.20</td>\n",
       "      <td>0.363</td>\n",
       "      <td>650556.0</td>\n",
       "    </tr>\n",
       "  </tbody>\n",
       "</table>\n",
       "</div>"
      ],
      "text/plain": [
       "      player_name  pitcher  xwOBA_adj  sxwOBA_adj           Name    IP   ERA  \\\n",
       "0  Abad, Fernando   472551   0.421655    0.525158            NaN   NaN   NaN   \n",
       "1  Abbott, Andrew   671096   0.288144    0.294499  Andrew Abbott  61.2  1.90   \n",
       "2    Abbott, Cory   676265   0.315990    0.325780    Cory Abbott  21.1  5.91   \n",
       "3   Abreu, Albert   656061   0.302496    0.318008   Albert Abreu  42.0  4.07   \n",
       "4    Abreu, Bryan   650556   0.268908    0.277058    Bryan Abreu  48.1  2.61   \n",
       "\n",
       "    FIP  xFIP  SIERA  xERA    GB%  key_mlbam  \n",
       "0   NaN   NaN    NaN   NaN    NaN        NaN  \n",
       "1  3.75  4.30   4.05  3.35  0.253   671096.0  \n",
       "2  5.96  5.04   4.89  5.05  0.446   676265.0  \n",
       "3  4.76  4.45   4.10  4.12  0.469   656061.0  \n",
       "4  3.24  2.94   2.70  3.20  0.363   650556.0  "
      ]
     },
     "execution_count": 14,
     "metadata": {},
     "output_type": "execute_result"
    }
   ],
   "source": [
    "df_2023 = pd.merge(leaders_23, pitching_23, left_on='pitcher', right_on='key_mlbam', how='left')\n",
    "df_2023.head()"
   ]
  },
  {
   "cell_type": "code",
   "execution_count": 15,
   "metadata": {},
   "outputs": [],
   "source": [
    "from sklearn.linear_model import LinearRegression"
   ]
  },
  {
   "cell_type": "code",
   "execution_count": 16,
   "metadata": {},
   "outputs": [],
   "source": [
    "runs_per_nine_2023 = 4.31\n",
    "\n",
    "\n",
    "df_2023['xERA_adj'] = round(runs_per_nine_2023 * ((df_2023['xwOBA_adj'] / df3['xwOBA_adj'].mean())**2), 2)\n",
    "df_2023['sxERA_adj'] = round(runs_per_nine_2023 * ((df_2023['sxwOBA_adj'] / df3['sxwOBA_adj'].mean())**2), 2)"
   ]
  },
  {
   "cell_type": "code",
   "execution_count": 17,
   "metadata": {},
   "outputs": [],
   "source": [
    "df_2023 = df_2023.dropna()"
   ]
  },
  {
   "cell_type": "code",
   "execution_count": 18,
   "metadata": {},
   "outputs": [
    {
     "data": {
      "text/html": [
       "<div>\n",
       "<style scoped>\n",
       "    .dataframe tbody tr th:only-of-type {\n",
       "        vertical-align: middle;\n",
       "    }\n",
       "\n",
       "    .dataframe tbody tr th {\n",
       "        vertical-align: top;\n",
       "    }\n",
       "\n",
       "    .dataframe thead th {\n",
       "        text-align: right;\n",
       "    }\n",
       "</style>\n",
       "<table border=\"1\" class=\"dataframe\">\n",
       "  <thead>\n",
       "    <tr style=\"text-align: right;\">\n",
       "      <th></th>\n",
       "      <th>player_name</th>\n",
       "      <th>pitcher</th>\n",
       "      <th>xwOBA_adj</th>\n",
       "      <th>sxwOBA_adj</th>\n",
       "      <th>Name</th>\n",
       "      <th>IP</th>\n",
       "      <th>ERA</th>\n",
       "      <th>FIP</th>\n",
       "      <th>xFIP</th>\n",
       "      <th>SIERA</th>\n",
       "      <th>xERA</th>\n",
       "      <th>GB%</th>\n",
       "      <th>key_mlbam</th>\n",
       "      <th>xERA_adj</th>\n",
       "      <th>sxERA_adj</th>\n",
       "    </tr>\n",
       "  </thead>\n",
       "  <tbody>\n",
       "    <tr>\n",
       "      <th>228</th>\n",
       "      <td>Gallen, Zac</td>\n",
       "      <td>668678</td>\n",
       "      <td>0.30</td>\n",
       "      <td>0.29</td>\n",
       "      <td>Zac Gallen</td>\n",
       "      <td>136.2</td>\n",
       "      <td>3.36</td>\n",
       "      <td>3.16</td>\n",
       "      <td>3.55</td>\n",
       "      <td>3.63</td>\n",
       "      <td>3.84</td>\n",
       "      <td>0.38</td>\n",
       "      <td>668678.0</td>\n",
       "      <td>3.97</td>\n",
       "      <td>3.69</td>\n",
       "    </tr>\n",
       "    <tr>\n",
       "      <th>14</th>\n",
       "      <td>Alcantara, Sandy</td>\n",
       "      <td>645261</td>\n",
       "      <td>0.30</td>\n",
       "      <td>0.31</td>\n",
       "      <td>Sandy Alcantara</td>\n",
       "      <td>135.1</td>\n",
       "      <td>4.46</td>\n",
       "      <td>3.87</td>\n",
       "      <td>4.00</td>\n",
       "      <td>4.25</td>\n",
       "      <td>4.29</td>\n",
       "      <td>0.50</td>\n",
       "      <td>645261.0</td>\n",
       "      <td>4.15</td>\n",
       "      <td>4.01</td>\n",
       "    </tr>\n",
       "    <tr>\n",
       "      <th>733</th>\n",
       "      <td>Webb, Logan</td>\n",
       "      <td>657277</td>\n",
       "      <td>0.27</td>\n",
       "      <td>0.28</td>\n",
       "      <td>Logan Webb</td>\n",
       "      <td>134.1</td>\n",
       "      <td>3.48</td>\n",
       "      <td>3.41</td>\n",
       "      <td>2.95</td>\n",
       "      <td>3.17</td>\n",
       "      <td>3.52</td>\n",
       "      <td>0.60</td>\n",
       "      <td>657277.0</td>\n",
       "      <td>3.43</td>\n",
       "      <td>3.35</td>\n",
       "    </tr>\n",
       "    <tr>\n",
       "      <th>503</th>\n",
       "      <td>Nola, Aaron</td>\n",
       "      <td>605400</td>\n",
       "      <td>0.29</td>\n",
       "      <td>0.29</td>\n",
       "      <td>Aaron Nola</td>\n",
       "      <td>133.1</td>\n",
       "      <td>4.25</td>\n",
       "      <td>4.23</td>\n",
       "      <td>3.76</td>\n",
       "      <td>3.82</td>\n",
       "      <td>3.68</td>\n",
       "      <td>0.42</td>\n",
       "      <td>605400.0</td>\n",
       "      <td>3.81</td>\n",
       "      <td>3.73</td>\n",
       "    </tr>\n",
       "    <tr>\n",
       "      <th>138</th>\n",
       "      <td>Cole, Gerrit</td>\n",
       "      <td>543037</td>\n",
       "      <td>0.28</td>\n",
       "      <td>0.29</td>\n",
       "      <td>Gerrit Cole</td>\n",
       "      <td>129.1</td>\n",
       "      <td>2.78</td>\n",
       "      <td>3.34</td>\n",
       "      <td>3.67</td>\n",
       "      <td>3.67</td>\n",
       "      <td>3.60</td>\n",
       "      <td>0.38</td>\n",
       "      <td>543037.0</td>\n",
       "      <td>3.68</td>\n",
       "      <td>3.54</td>\n",
       "    </tr>\n",
       "    <tr>\n",
       "      <th>414</th>\n",
       "      <td>López, Pablo</td>\n",
       "      <td>641154</td>\n",
       "      <td>0.27</td>\n",
       "      <td>0.27</td>\n",
       "      <td>Pablo Lopez</td>\n",
       "      <td>128.2</td>\n",
       "      <td>4.13</td>\n",
       "      <td>3.49</td>\n",
       "      <td>3.47</td>\n",
       "      <td>3.38</td>\n",
       "      <td>3.25</td>\n",
       "      <td>0.40</td>\n",
       "      <td>641154.0</td>\n",
       "      <td>3.25</td>\n",
       "      <td>3.19</td>\n",
       "    </tr>\n",
       "    <tr>\n",
       "      <th>344</th>\n",
       "      <td>Keller, Mitch</td>\n",
       "      <td>656605</td>\n",
       "      <td>0.30</td>\n",
       "      <td>0.31</td>\n",
       "      <td>Mitch Keller</td>\n",
       "      <td>128.0</td>\n",
       "      <td>4.01</td>\n",
       "      <td>3.80</td>\n",
       "      <td>3.72</td>\n",
       "      <td>3.83</td>\n",
       "      <td>3.70</td>\n",
       "      <td>0.45</td>\n",
       "      <td>656605.0</td>\n",
       "      <td>3.97</td>\n",
       "      <td>4.14</td>\n",
       "    </tr>\n",
       "    <tr>\n",
       "      <th>459</th>\n",
       "      <td>Mikolas, Miles</td>\n",
       "      <td>571945</td>\n",
       "      <td>0.33</td>\n",
       "      <td>0.32</td>\n",
       "      <td>Miles Mikolas</td>\n",
       "      <td>127.1</td>\n",
       "      <td>4.38</td>\n",
       "      <td>3.90</td>\n",
       "      <td>4.68</td>\n",
       "      <td>4.78</td>\n",
       "      <td>4.95</td>\n",
       "      <td>0.38</td>\n",
       "      <td>571945.0</td>\n",
       "      <td>4.86</td>\n",
       "      <td>4.47</td>\n",
       "    </tr>\n",
       "    <tr>\n",
       "      <th>98</th>\n",
       "      <td>Burnes, Corbin</td>\n",
       "      <td>669203</td>\n",
       "      <td>0.27</td>\n",
       "      <td>0.28</td>\n",
       "      <td>Corbin Burnes</td>\n",
       "      <td>127.1</td>\n",
       "      <td>3.46</td>\n",
       "      <td>3.83</td>\n",
       "      <td>3.92</td>\n",
       "      <td>4.03</td>\n",
       "      <td>3.27</td>\n",
       "      <td>0.43</td>\n",
       "      <td>669203.0</td>\n",
       "      <td>3.30</td>\n",
       "      <td>3.33</td>\n",
       "    </tr>\n",
       "    <tr>\n",
       "      <th>242</th>\n",
       "      <td>Gibson, Kyle</td>\n",
       "      <td>502043</td>\n",
       "      <td>0.31</td>\n",
       "      <td>0.31</td>\n",
       "      <td>Kyle Gibson</td>\n",
       "      <td>127.0</td>\n",
       "      <td>4.68</td>\n",
       "      <td>3.85</td>\n",
       "      <td>4.30</td>\n",
       "      <td>4.53</td>\n",
       "      <td>4.56</td>\n",
       "      <td>0.48</td>\n",
       "      <td>502043.0</td>\n",
       "      <td>4.32</td>\n",
       "      <td>4.17</td>\n",
       "    </tr>\n",
       "    <tr>\n",
       "      <th>43</th>\n",
       "      <td>Bassitt, Chris</td>\n",
       "      <td>605135</td>\n",
       "      <td>0.31</td>\n",
       "      <td>0.32</td>\n",
       "      <td>Chris Bassitt</td>\n",
       "      <td>126.2</td>\n",
       "      <td>3.91</td>\n",
       "      <td>4.60</td>\n",
       "      <td>4.39</td>\n",
       "      <td>4.35</td>\n",
       "      <td>4.44</td>\n",
       "      <td>0.42</td>\n",
       "      <td>605135.0</td>\n",
       "      <td>4.34</td>\n",
       "      <td>4.53</td>\n",
       "    </tr>\n",
       "    <tr>\n",
       "      <th>701</th>\n",
       "      <td>Valdez, Framber</td>\n",
       "      <td>664285</td>\n",
       "      <td>0.29</td>\n",
       "      <td>0.30</td>\n",
       "      <td>Framber Valdez</td>\n",
       "      <td>126.0</td>\n",
       "      <td>3.29</td>\n",
       "      <td>3.20</td>\n",
       "      <td>3.14</td>\n",
       "      <td>3.46</td>\n",
       "      <td>4.06</td>\n",
       "      <td>0.54</td>\n",
       "      <td>664285.0</td>\n",
       "      <td>3.79</td>\n",
       "      <td>3.77</td>\n",
       "    </tr>\n",
       "    <tr>\n",
       "      <th>662</th>\n",
       "      <td>Stroman, Marcus</td>\n",
       "      <td>573186</td>\n",
       "      <td>0.29</td>\n",
       "      <td>0.30</td>\n",
       "      <td>Marcus Stroman</td>\n",
       "      <td>125.2</td>\n",
       "      <td>3.51</td>\n",
       "      <td>3.59</td>\n",
       "      <td>3.77</td>\n",
       "      <td>4.18</td>\n",
       "      <td>3.95</td>\n",
       "      <td>0.58</td>\n",
       "      <td>573186.0</td>\n",
       "      <td>3.88</td>\n",
       "      <td>3.77</td>\n",
       "    </tr>\n",
       "    <tr>\n",
       "      <th>114</th>\n",
       "      <td>Castillo, Luis</td>\n",
       "      <td>622491</td>\n",
       "      <td>0.29</td>\n",
       "      <td>0.29</td>\n",
       "      <td>Luis Castillo</td>\n",
       "      <td>125.1</td>\n",
       "      <td>3.02</td>\n",
       "      <td>3.83</td>\n",
       "      <td>3.63</td>\n",
       "      <td>3.55</td>\n",
       "      <td>3.78</td>\n",
       "      <td>0.40</td>\n",
       "      <td>622491.0</td>\n",
       "      <td>3.74</td>\n",
       "      <td>3.72</td>\n",
       "    </tr>\n",
       "    <tr>\n",
       "      <th>56</th>\n",
       "      <td>Berríos, José</td>\n",
       "      <td>621244</td>\n",
       "      <td>0.32</td>\n",
       "      <td>0.31</td>\n",
       "      <td>Jose Berrios</td>\n",
       "      <td>124.1</td>\n",
       "      <td>3.40</td>\n",
       "      <td>3.95</td>\n",
       "      <td>4.11</td>\n",
       "      <td>4.18</td>\n",
       "      <td>4.63</td>\n",
       "      <td>0.45</td>\n",
       "      <td>621244.0</td>\n",
       "      <td>4.53</td>\n",
       "      <td>4.17</td>\n",
       "    </tr>\n",
       "    <tr>\n",
       "      <th>363</th>\n",
       "      <td>Kirby, George</td>\n",
       "      <td>669923</td>\n",
       "      <td>0.29</td>\n",
       "      <td>0.30</td>\n",
       "      <td>George Kirby</td>\n",
       "      <td>123.2</td>\n",
       "      <td>3.49</td>\n",
       "      <td>3.31</td>\n",
       "      <td>3.61</td>\n",
       "      <td>3.70</td>\n",
       "      <td>3.86</td>\n",
       "      <td>0.44</td>\n",
       "      <td>669923.0</td>\n",
       "      <td>3.79</td>\n",
       "      <td>3.86</td>\n",
       "    </tr>\n",
       "    <tr>\n",
       "      <th>193</th>\n",
       "      <td>Eovaldi, Nathan</td>\n",
       "      <td>543135</td>\n",
       "      <td>0.27</td>\n",
       "      <td>0.28</td>\n",
       "      <td>Nathan Eovaldi</td>\n",
       "      <td>123.2</td>\n",
       "      <td>2.69</td>\n",
       "      <td>3.25</td>\n",
       "      <td>3.79</td>\n",
       "      <td>3.98</td>\n",
       "      <td>3.47</td>\n",
       "      <td>0.52</td>\n",
       "      <td>543135.0</td>\n",
       "      <td>3.43</td>\n",
       "      <td>3.42</td>\n",
       "    </tr>\n",
       "    <tr>\n",
       "      <th>660</th>\n",
       "      <td>Strider, Spencer</td>\n",
       "      <td>675911</td>\n",
       "      <td>0.27</td>\n",
       "      <td>0.27</td>\n",
       "      <td>Spencer Strider</td>\n",
       "      <td>123.0</td>\n",
       "      <td>3.73</td>\n",
       "      <td>2.97</td>\n",
       "      <td>2.67</td>\n",
       "      <td>2.55</td>\n",
       "      <td>3.08</td>\n",
       "      <td>0.33</td>\n",
       "      <td>675911.0</td>\n",
       "      <td>3.28</td>\n",
       "      <td>3.10</td>\n",
       "    </tr>\n",
       "    <tr>\n",
       "      <th>593</th>\n",
       "      <td>Ryan, Joe</td>\n",
       "      <td>657746</td>\n",
       "      <td>0.27</td>\n",
       "      <td>0.29</td>\n",
       "      <td>Joe Ryan</td>\n",
       "      <td>122.0</td>\n",
       "      <td>4.06</td>\n",
       "      <td>3.78</td>\n",
       "      <td>3.69</td>\n",
       "      <td>3.37</td>\n",
       "      <td>3.06</td>\n",
       "      <td>0.32</td>\n",
       "      <td>657746.0</td>\n",
       "      <td>3.36</td>\n",
       "      <td>3.57</td>\n",
       "    </tr>\n",
       "    <tr>\n",
       "      <th>239</th>\n",
       "      <td>Gausman, Kevin</td>\n",
       "      <td>592332</td>\n",
       "      <td>0.29</td>\n",
       "      <td>0.29</td>\n",
       "      <td>Kevin Gausman</td>\n",
       "      <td>121.2</td>\n",
       "      <td>3.18</td>\n",
       "      <td>2.77</td>\n",
       "      <td>2.91</td>\n",
       "      <td>3.00</td>\n",
       "      <td>3.65</td>\n",
       "      <td>0.43</td>\n",
       "      <td>592332.0</td>\n",
       "      <td>3.74</td>\n",
       "      <td>3.64</td>\n",
       "    </tr>\n",
       "    <tr>\n",
       "      <th>247</th>\n",
       "      <td>Giolito, Lucas</td>\n",
       "      <td>608337</td>\n",
       "      <td>0.32</td>\n",
       "      <td>0.33</td>\n",
       "      <td>Lucas Giolito</td>\n",
       "      <td>121.0</td>\n",
       "      <td>3.79</td>\n",
       "      <td>4.46</td>\n",
       "      <td>4.33</td>\n",
       "      <td>4.08</td>\n",
       "      <td>4.44</td>\n",
       "      <td>0.35</td>\n",
       "      <td>608337.0</td>\n",
       "      <td>4.80</td>\n",
       "      <td>4.75</td>\n",
       "    </tr>\n",
       "    <tr>\n",
       "      <th>507</th>\n",
       "      <td>Ohtani, Shohei</td>\n",
       "      <td>660271</td>\n",
       "      <td>0.29</td>\n",
       "      <td>0.30</td>\n",
       "      <td>Shohei Ohtani</td>\n",
       "      <td>120.2</td>\n",
       "      <td>3.43</td>\n",
       "      <td>4.15</td>\n",
       "      <td>3.53</td>\n",
       "      <td>3.58</td>\n",
       "      <td>3.95</td>\n",
       "      <td>0.45</td>\n",
       "      <td>660271.0</td>\n",
       "      <td>3.83</td>\n",
       "      <td>3.90</td>\n",
       "    </tr>\n",
       "    <tr>\n",
       "      <th>142</th>\n",
       "      <td>Corbin, Patrick</td>\n",
       "      <td>571578</td>\n",
       "      <td>0.36</td>\n",
       "      <td>0.37</td>\n",
       "      <td>Patrick Corbin</td>\n",
       "      <td>120.1</td>\n",
       "      <td>5.01</td>\n",
       "      <td>4.87</td>\n",
       "      <td>4.49</td>\n",
       "      <td>4.85</td>\n",
       "      <td>6.13</td>\n",
       "      <td>0.45</td>\n",
       "      <td>571578.0</td>\n",
       "      <td>5.94</td>\n",
       "      <td>5.88</td>\n",
       "    </tr>\n",
       "    <tr>\n",
       "      <th>409</th>\n",
       "      <td>Luzardo, Jesús</td>\n",
       "      <td>666200</td>\n",
       "      <td>0.28</td>\n",
       "      <td>0.30</td>\n",
       "      <td>Jesus Luzardo</td>\n",
       "      <td>120.1</td>\n",
       "      <td>3.22</td>\n",
       "      <td>3.22</td>\n",
       "      <td>3.44</td>\n",
       "      <td>3.42</td>\n",
       "      <td>3.57</td>\n",
       "      <td>0.42</td>\n",
       "      <td>666200.0</td>\n",
       "      <td>3.66</td>\n",
       "      <td>3.75</td>\n",
       "    </tr>\n",
       "    <tr>\n",
       "      <th>412</th>\n",
       "      <td>Lynn, Lance</td>\n",
       "      <td>458681</td>\n",
       "      <td>0.33</td>\n",
       "      <td>0.33</td>\n",
       "      <td>Lance Lynn</td>\n",
       "      <td>119.2</td>\n",
       "      <td>6.47</td>\n",
       "      <td>5.22</td>\n",
       "      <td>4.02</td>\n",
       "      <td>3.92</td>\n",
       "      <td>4.82</td>\n",
       "      <td>0.38</td>\n",
       "      <td>458681.0</td>\n",
       "      <td>4.83</td>\n",
       "      <td>4.75</td>\n",
       "    </tr>\n",
       "    <tr>\n",
       "      <th>119</th>\n",
       "      <td>Cease, Dylan</td>\n",
       "      <td>656302</td>\n",
       "      <td>0.31</td>\n",
       "      <td>0.32</td>\n",
       "      <td>Dylan Cease</td>\n",
       "      <td>119.1</td>\n",
       "      <td>4.15</td>\n",
       "      <td>3.58</td>\n",
       "      <td>3.94</td>\n",
       "      <td>3.97</td>\n",
       "      <td>4.00</td>\n",
       "      <td>0.38</td>\n",
       "      <td>656302.0</td>\n",
       "      <td>4.30</td>\n",
       "      <td>4.49</td>\n",
       "    </tr>\n",
       "    <tr>\n",
       "      <th>260</th>\n",
       "      <td>Gray, Josiah</td>\n",
       "      <td>680686</td>\n",
       "      <td>0.32</td>\n",
       "      <td>0.32</td>\n",
       "      <td>Josiah Gray</td>\n",
       "      <td>118.1</td>\n",
       "      <td>3.27</td>\n",
       "      <td>4.75</td>\n",
       "      <td>4.96</td>\n",
       "      <td>4.97</td>\n",
       "      <td>4.53</td>\n",
       "      <td>0.41</td>\n",
       "      <td>680686.0</td>\n",
       "      <td>4.55</td>\n",
       "      <td>4.45</td>\n",
       "    </tr>\n",
       "    <tr>\n",
       "      <th>741</th>\n",
       "      <td>Wheeler, Zack</td>\n",
       "      <td>554430</td>\n",
       "      <td>0.27</td>\n",
       "      <td>0.27</td>\n",
       "      <td>Zack Wheeler</td>\n",
       "      <td>118.1</td>\n",
       "      <td>3.88</td>\n",
       "      <td>2.88</td>\n",
       "      <td>3.47</td>\n",
       "      <td>3.47</td>\n",
       "      <td>3.27</td>\n",
       "      <td>0.40</td>\n",
       "      <td>554430.0</td>\n",
       "      <td>3.38</td>\n",
       "      <td>3.22</td>\n",
       "    </tr>\n",
       "    <tr>\n",
       "      <th>243</th>\n",
       "      <td>Gilbert, Logan</td>\n",
       "      <td>669302</td>\n",
       "      <td>0.28</td>\n",
       "      <td>0.29</td>\n",
       "      <td>Logan Gilbert</td>\n",
       "      <td>118.1</td>\n",
       "      <td>3.88</td>\n",
       "      <td>3.66</td>\n",
       "      <td>3.73</td>\n",
       "      <td>3.74</td>\n",
       "      <td>3.57</td>\n",
       "      <td>0.42</td>\n",
       "      <td>669302.0</td>\n",
       "      <td>3.63</td>\n",
       "      <td>3.74</td>\n",
       "    </tr>\n",
       "    <tr>\n",
       "      <th>518</th>\n",
       "      <td>Oviedo, Johan</td>\n",
       "      <td>670912</td>\n",
       "      <td>0.32</td>\n",
       "      <td>0.32</td>\n",
       "      <td>Johan Oviedo</td>\n",
       "      <td>117.1</td>\n",
       "      <td>4.60</td>\n",
       "      <td>4.35</td>\n",
       "      <td>4.60</td>\n",
       "      <td>4.68</td>\n",
       "      <td>4.56</td>\n",
       "      <td>0.47</td>\n",
       "      <td>670912.0</td>\n",
       "      <td>4.52</td>\n",
       "      <td>4.35</td>\n",
       "    </tr>\n",
       "    <tr>\n",
       "      <th>61</th>\n",
       "      <td>Bieber, Shane</td>\n",
       "      <td>669456</td>\n",
       "      <td>0.33</td>\n",
       "      <td>0.33</td>\n",
       "      <td>Shane Bieber</td>\n",
       "      <td>117.0</td>\n",
       "      <td>3.77</td>\n",
       "      <td>4.14</td>\n",
       "      <td>4.08</td>\n",
       "      <td>4.40</td>\n",
       "      <td>4.88</td>\n",
       "      <td>0.46</td>\n",
       "      <td>669456.0</td>\n",
       "      <td>4.81</td>\n",
       "      <td>4.75</td>\n",
       "    </tr>\n",
       "    <tr>\n",
       "      <th>190</th>\n",
       "      <td>Eflin, Zach</td>\n",
       "      <td>621107</td>\n",
       "      <td>0.26</td>\n",
       "      <td>0.27</td>\n",
       "      <td>Zach Eflin</td>\n",
       "      <td>116.1</td>\n",
       "      <td>3.64</td>\n",
       "      <td>3.01</td>\n",
       "      <td>3.19</td>\n",
       "      <td>3.39</td>\n",
       "      <td>3.11</td>\n",
       "      <td>0.52</td>\n",
       "      <td>621107.0</td>\n",
       "      <td>3.04</td>\n",
       "      <td>3.04</td>\n",
       "    </tr>\n",
       "    <tr>\n",
       "      <th>371</th>\n",
       "      <td>Kremer, Dean</td>\n",
       "      <td>665152</td>\n",
       "      <td>0.34</td>\n",
       "      <td>0.35</td>\n",
       "      <td>Dean Kremer</td>\n",
       "      <td>115.2</td>\n",
       "      <td>4.59</td>\n",
       "      <td>4.94</td>\n",
       "      <td>4.41</td>\n",
       "      <td>4.38</td>\n",
       "      <td>5.39</td>\n",
       "      <td>0.37</td>\n",
       "      <td>665152.0</td>\n",
       "      <td>5.42</td>\n",
       "      <td>5.34</td>\n",
       "    </tr>\n",
       "    <tr>\n",
       "      <th>475</th>\n",
       "      <td>Montgomery, Jordan</td>\n",
       "      <td>656756</td>\n",
       "      <td>0.31</td>\n",
       "      <td>0.32</td>\n",
       "      <td>Jordan Montgomery</td>\n",
       "      <td>115.0</td>\n",
       "      <td>3.37</td>\n",
       "      <td>3.59</td>\n",
       "      <td>3.95</td>\n",
       "      <td>4.17</td>\n",
       "      <td>4.12</td>\n",
       "      <td>0.45</td>\n",
       "      <td>656756.0</td>\n",
       "      <td>4.24</td>\n",
       "      <td>4.33</td>\n",
       "    </tr>\n",
       "    <tr>\n",
       "      <th>191</th>\n",
       "      <td>Elder, Bryce</td>\n",
       "      <td>693821</td>\n",
       "      <td>0.29</td>\n",
       "      <td>0.30</td>\n",
       "      <td>Bryce Elder</td>\n",
       "      <td>114.2</td>\n",
       "      <td>3.30</td>\n",
       "      <td>4.27</td>\n",
       "      <td>4.22</td>\n",
       "      <td>4.48</td>\n",
       "      <td>4.17</td>\n",
       "      <td>0.54</td>\n",
       "      <td>693821.0</td>\n",
       "      <td>3.86</td>\n",
       "      <td>3.81</td>\n",
       "    </tr>\n",
       "    <tr>\n",
       "      <th>638</th>\n",
       "      <td>Snell, Blake</td>\n",
       "      <td>605483</td>\n",
       "      <td>0.29</td>\n",
       "      <td>0.30</td>\n",
       "      <td>Blake Snell</td>\n",
       "      <td>114.0</td>\n",
       "      <td>2.61</td>\n",
       "      <td>3.70</td>\n",
       "      <td>3.64</td>\n",
       "      <td>4.12</td>\n",
       "      <td>3.86</td>\n",
       "      <td>0.44</td>\n",
       "      <td>605483.0</td>\n",
       "      <td>3.94</td>\n",
       "      <td>3.76</td>\n",
       "    </tr>\n",
       "    <tr>\n",
       "      <th>299</th>\n",
       "      <td>Hill, Rich</td>\n",
       "      <td>448179</td>\n",
       "      <td>0.35</td>\n",
       "      <td>0.35</td>\n",
       "      <td>Rich Hill</td>\n",
       "      <td>114.0</td>\n",
       "      <td>4.82</td>\n",
       "      <td>4.42</td>\n",
       "      <td>4.75</td>\n",
       "      <td>4.85</td>\n",
       "      <td>5.57</td>\n",
       "      <td>0.37</td>\n",
       "      <td>448179.0</td>\n",
       "      <td>5.45</td>\n",
       "      <td>5.37</td>\n",
       "    </tr>\n",
       "    <tr>\n",
       "      <th>484</th>\n",
       "      <td>Morton, Charlie</td>\n",
       "      <td>450203</td>\n",
       "      <td>0.32</td>\n",
       "      <td>0.33</td>\n",
       "      <td>Charlie Morton</td>\n",
       "      <td>113.1</td>\n",
       "      <td>3.57</td>\n",
       "      <td>3.82</td>\n",
       "      <td>4.08</td>\n",
       "      <td>4.33</td>\n",
       "      <td>4.63</td>\n",
       "      <td>0.47</td>\n",
       "      <td>450203.0</td>\n",
       "      <td>4.75</td>\n",
       "      <td>4.65</td>\n",
       "    </tr>\n",
       "    <tr>\n",
       "      <th>725</th>\n",
       "      <td>Walker, Taijuan</td>\n",
       "      <td>592836</td>\n",
       "      <td>0.30</td>\n",
       "      <td>0.31</td>\n",
       "      <td>Taijuan Walker</td>\n",
       "      <td>113.0</td>\n",
       "      <td>4.06</td>\n",
       "      <td>4.32</td>\n",
       "      <td>4.45</td>\n",
       "      <td>4.68</td>\n",
       "      <td>4.12</td>\n",
       "      <td>0.47</td>\n",
       "      <td>592836.0</td>\n",
       "      <td>4.06</td>\n",
       "      <td>4.04</td>\n",
       "    </tr>\n",
       "    <tr>\n",
       "      <th>499</th>\n",
       "      <td>Nelson, Ryne</td>\n",
       "      <td>669194</td>\n",
       "      <td>0.33</td>\n",
       "      <td>0.33</td>\n",
       "      <td>Ryne Nelson</td>\n",
       "      <td>112.1</td>\n",
       "      <td>4.97</td>\n",
       "      <td>4.96</td>\n",
       "      <td>5.14</td>\n",
       "      <td>5.16</td>\n",
       "      <td>5.01</td>\n",
       "      <td>0.38</td>\n",
       "      <td>669194.0</td>\n",
       "      <td>4.94</td>\n",
       "      <td>4.73</td>\n",
       "    </tr>\n",
       "    <tr>\n",
       "      <th>615</th>\n",
       "      <td>Sears, JP</td>\n",
       "      <td>676664</td>\n",
       "      <td>0.32</td>\n",
       "      <td>0.33</td>\n",
       "      <td>JP Sears</td>\n",
       "      <td>111.2</td>\n",
       "      <td>4.19</td>\n",
       "      <td>5.21</td>\n",
       "      <td>5.04</td>\n",
       "      <td>4.49</td>\n",
       "      <td>4.56</td>\n",
       "      <td>0.27</td>\n",
       "      <td>676664.0</td>\n",
       "      <td>4.67</td>\n",
       "      <td>4.62</td>\n",
       "    </tr>\n",
       "    <tr>\n",
       "      <th>261</th>\n",
       "      <td>Gray, Sonny</td>\n",
       "      <td>543243</td>\n",
       "      <td>0.29</td>\n",
       "      <td>0.30</td>\n",
       "      <td>Sonny Gray</td>\n",
       "      <td>111.1</td>\n",
       "      <td>3.15</td>\n",
       "      <td>2.90</td>\n",
       "      <td>3.81</td>\n",
       "      <td>4.24</td>\n",
       "      <td>4.06</td>\n",
       "      <td>0.49</td>\n",
       "      <td>543243.0</td>\n",
       "      <td>3.83</td>\n",
       "      <td>3.79</td>\n",
       "    </tr>\n",
       "    <tr>\n",
       "      <th>738</th>\n",
       "      <td>Wells, Tyler</td>\n",
       "      <td>669330</td>\n",
       "      <td>0.31</td>\n",
       "      <td>0.30</td>\n",
       "      <td>Tyler Wells</td>\n",
       "      <td>111.0</td>\n",
       "      <td>3.65</td>\n",
       "      <td>4.89</td>\n",
       "      <td>4.56</td>\n",
       "      <td>4.15</td>\n",
       "      <td>3.95</td>\n",
       "      <td>0.32</td>\n",
       "      <td>669330.0</td>\n",
       "      <td>4.35</td>\n",
       "      <td>3.87</td>\n",
       "    </tr>\n",
       "    <tr>\n",
       "      <th>211</th>\n",
       "      <td>Flaherty, Jack</td>\n",
       "      <td>656427</td>\n",
       "      <td>0.32</td>\n",
       "      <td>0.33</td>\n",
       "      <td>Jack Flaherty</td>\n",
       "      <td>109.2</td>\n",
       "      <td>4.43</td>\n",
       "      <td>4.23</td>\n",
       "      <td>4.47</td>\n",
       "      <td>4.73</td>\n",
       "      <td>4.66</td>\n",
       "      <td>0.45</td>\n",
       "      <td>656427.0</td>\n",
       "      <td>4.58</td>\n",
       "      <td>4.58</td>\n",
       "    </tr>\n",
       "    <tr>\n",
       "      <th>652</th>\n",
       "      <td>Steele, Justin</td>\n",
       "      <td>657006</td>\n",
       "      <td>0.27</td>\n",
       "      <td>0.28</td>\n",
       "      <td>Justin Steele</td>\n",
       "      <td>109.2</td>\n",
       "      <td>2.87</td>\n",
       "      <td>3.11</td>\n",
       "      <td>3.75</td>\n",
       "      <td>3.89</td>\n",
       "      <td>3.27</td>\n",
       "      <td>0.50</td>\n",
       "      <td>657006.0</td>\n",
       "      <td>3.29</td>\n",
       "      <td>3.40</td>\n",
       "    </tr>\n",
       "    <tr>\n",
       "      <th>356</th>\n",
       "      <td>Kikuchi, Yusei</td>\n",
       "      <td>579328</td>\n",
       "      <td>0.31</td>\n",
       "      <td>0.32</td>\n",
       "      <td>Yusei Kikuchi</td>\n",
       "      <td>109.1</td>\n",
       "      <td>3.79</td>\n",
       "      <td>4.79</td>\n",
       "      <td>4.00</td>\n",
       "      <td>3.96</td>\n",
       "      <td>4.44</td>\n",
       "      <td>0.38</td>\n",
       "      <td>579328.0</td>\n",
       "      <td>4.43</td>\n",
       "      <td>4.37</td>\n",
       "    </tr>\n",
       "    <tr>\n",
       "      <th>531</th>\n",
       "      <td>Peralta, Freddy</td>\n",
       "      <td>642547</td>\n",
       "      <td>0.29</td>\n",
       "      <td>0.30</td>\n",
       "      <td>Freddy Peralta</td>\n",
       "      <td>109.0</td>\n",
       "      <td>4.46</td>\n",
       "      <td>4.38</td>\n",
       "      <td>3.90</td>\n",
       "      <td>3.87</td>\n",
       "      <td>3.89</td>\n",
       "      <td>0.40</td>\n",
       "      <td>642547.0</td>\n",
       "      <td>3.87</td>\n",
       "      <td>3.83</td>\n",
       "    </tr>\n",
       "    <tr>\n",
       "      <th>628</th>\n",
       "      <td>Singer, Brady</td>\n",
       "      <td>663903</td>\n",
       "      <td>0.32</td>\n",
       "      <td>0.34</td>\n",
       "      <td>Brady Singer</td>\n",
       "      <td>108.2</td>\n",
       "      <td>5.55</td>\n",
       "      <td>4.19</td>\n",
       "      <td>4.36</td>\n",
       "      <td>4.56</td>\n",
       "      <td>5.15</td>\n",
       "      <td>0.48</td>\n",
       "      <td>663903.0</td>\n",
       "      <td>4.77</td>\n",
       "      <td>4.86</td>\n",
       "    </tr>\n",
       "    <tr>\n",
       "      <th>259</th>\n",
       "      <td>Gray, Jon</td>\n",
       "      <td>592351</td>\n",
       "      <td>0.31</td>\n",
       "      <td>0.32</td>\n",
       "      <td>Jon Gray</td>\n",
       "      <td>108.1</td>\n",
       "      <td>3.66</td>\n",
       "      <td>4.39</td>\n",
       "      <td>4.48</td>\n",
       "      <td>4.66</td>\n",
       "      <td>4.44</td>\n",
       "      <td>0.40</td>\n",
       "      <td>592351.0</td>\n",
       "      <td>4.49</td>\n",
       "      <td>4.49</td>\n",
       "    </tr>\n",
       "    <tr>\n",
       "      <th>250</th>\n",
       "      <td>Gomber, Austin</td>\n",
       "      <td>596295</td>\n",
       "      <td>0.35</td>\n",
       "      <td>0.36</td>\n",
       "      <td>Austin Gomber</td>\n",
       "      <td>108.0</td>\n",
       "      <td>5.83</td>\n",
       "      <td>5.49</td>\n",
       "      <td>4.81</td>\n",
       "      <td>4.98</td>\n",
       "      <td>5.72</td>\n",
       "      <td>0.43</td>\n",
       "      <td>596295.0</td>\n",
       "      <td>5.47</td>\n",
       "      <td>5.53</td>\n",
       "    </tr>\n",
       "  </tbody>\n",
       "</table>\n",
       "</div>"
      ],
      "text/plain": [
       "            player_name  pitcher  xwOBA_adj  sxwOBA_adj               Name  \\\n",
       "228         Gallen, Zac   668678       0.30        0.29         Zac Gallen   \n",
       "14     Alcantara, Sandy   645261       0.30        0.31    Sandy Alcantara   \n",
       "733         Webb, Logan   657277       0.27        0.28         Logan Webb   \n",
       "503         Nola, Aaron   605400       0.29        0.29         Aaron Nola   \n",
       "138        Cole, Gerrit   543037       0.28        0.29        Gerrit Cole   \n",
       "414        López, Pablo   641154       0.27        0.27        Pablo Lopez   \n",
       "344       Keller, Mitch   656605       0.30        0.31       Mitch Keller   \n",
       "459      Mikolas, Miles   571945       0.33        0.32      Miles Mikolas   \n",
       "98       Burnes, Corbin   669203       0.27        0.28      Corbin Burnes   \n",
       "242        Gibson, Kyle   502043       0.31        0.31        Kyle Gibson   \n",
       "43       Bassitt, Chris   605135       0.31        0.32      Chris Bassitt   \n",
       "701     Valdez, Framber   664285       0.29        0.30     Framber Valdez   \n",
       "662     Stroman, Marcus   573186       0.29        0.30     Marcus Stroman   \n",
       "114      Castillo, Luis   622491       0.29        0.29      Luis Castillo   \n",
       "56        Berríos, José   621244       0.32        0.31       Jose Berrios   \n",
       "363       Kirby, George   669923       0.29        0.30       George Kirby   \n",
       "193     Eovaldi, Nathan   543135       0.27        0.28     Nathan Eovaldi   \n",
       "660    Strider, Spencer   675911       0.27        0.27    Spencer Strider   \n",
       "593           Ryan, Joe   657746       0.27        0.29           Joe Ryan   \n",
       "239      Gausman, Kevin   592332       0.29        0.29      Kevin Gausman   \n",
       "247      Giolito, Lucas   608337       0.32        0.33      Lucas Giolito   \n",
       "507      Ohtani, Shohei   660271       0.29        0.30      Shohei Ohtani   \n",
       "142     Corbin, Patrick   571578       0.36        0.37     Patrick Corbin   \n",
       "409      Luzardo, Jesús   666200       0.28        0.30      Jesus Luzardo   \n",
       "412         Lynn, Lance   458681       0.33        0.33         Lance Lynn   \n",
       "119        Cease, Dylan   656302       0.31        0.32        Dylan Cease   \n",
       "260        Gray, Josiah   680686       0.32        0.32        Josiah Gray   \n",
       "741       Wheeler, Zack   554430       0.27        0.27       Zack Wheeler   \n",
       "243      Gilbert, Logan   669302       0.28        0.29      Logan Gilbert   \n",
       "518       Oviedo, Johan   670912       0.32        0.32       Johan Oviedo   \n",
       "61        Bieber, Shane   669456       0.33        0.33       Shane Bieber   \n",
       "190         Eflin, Zach   621107       0.26        0.27         Zach Eflin   \n",
       "371        Kremer, Dean   665152       0.34        0.35        Dean Kremer   \n",
       "475  Montgomery, Jordan   656756       0.31        0.32  Jordan Montgomery   \n",
       "191        Elder, Bryce   693821       0.29        0.30        Bryce Elder   \n",
       "638        Snell, Blake   605483       0.29        0.30        Blake Snell   \n",
       "299          Hill, Rich   448179       0.35        0.35          Rich Hill   \n",
       "484     Morton, Charlie   450203       0.32        0.33     Charlie Morton   \n",
       "725     Walker, Taijuan   592836       0.30        0.31     Taijuan Walker   \n",
       "499        Nelson, Ryne   669194       0.33        0.33        Ryne Nelson   \n",
       "615           Sears, JP   676664       0.32        0.33           JP Sears   \n",
       "261         Gray, Sonny   543243       0.29        0.30         Sonny Gray   \n",
       "738        Wells, Tyler   669330       0.31        0.30        Tyler Wells   \n",
       "211      Flaherty, Jack   656427       0.32        0.33      Jack Flaherty   \n",
       "652      Steele, Justin   657006       0.27        0.28      Justin Steele   \n",
       "356      Kikuchi, Yusei   579328       0.31        0.32      Yusei Kikuchi   \n",
       "531     Peralta, Freddy   642547       0.29        0.30     Freddy Peralta   \n",
       "628       Singer, Brady   663903       0.32        0.34       Brady Singer   \n",
       "259           Gray, Jon   592351       0.31        0.32           Jon Gray   \n",
       "250      Gomber, Austin   596295       0.35        0.36      Austin Gomber   \n",
       "\n",
       "        IP   ERA   FIP  xFIP  SIERA  xERA   GB%  key_mlbam  xERA_adj  \\\n",
       "228  136.2  3.36  3.16  3.55   3.63  3.84  0.38   668678.0      3.97   \n",
       "14   135.1  4.46  3.87  4.00   4.25  4.29  0.50   645261.0      4.15   \n",
       "733  134.1  3.48  3.41  2.95   3.17  3.52  0.60   657277.0      3.43   \n",
       "503  133.1  4.25  4.23  3.76   3.82  3.68  0.42   605400.0      3.81   \n",
       "138  129.1  2.78  3.34  3.67   3.67  3.60  0.38   543037.0      3.68   \n",
       "414  128.2  4.13  3.49  3.47   3.38  3.25  0.40   641154.0      3.25   \n",
       "344  128.0  4.01  3.80  3.72   3.83  3.70  0.45   656605.0      3.97   \n",
       "459  127.1  4.38  3.90  4.68   4.78  4.95  0.38   571945.0      4.86   \n",
       "98   127.1  3.46  3.83  3.92   4.03  3.27  0.43   669203.0      3.30   \n",
       "242  127.0  4.68  3.85  4.30   4.53  4.56  0.48   502043.0      4.32   \n",
       "43   126.2  3.91  4.60  4.39   4.35  4.44  0.42   605135.0      4.34   \n",
       "701  126.0  3.29  3.20  3.14   3.46  4.06  0.54   664285.0      3.79   \n",
       "662  125.2  3.51  3.59  3.77   4.18  3.95  0.58   573186.0      3.88   \n",
       "114  125.1  3.02  3.83  3.63   3.55  3.78  0.40   622491.0      3.74   \n",
       "56   124.1  3.40  3.95  4.11   4.18  4.63  0.45   621244.0      4.53   \n",
       "363  123.2  3.49  3.31  3.61   3.70  3.86  0.44   669923.0      3.79   \n",
       "193  123.2  2.69  3.25  3.79   3.98  3.47  0.52   543135.0      3.43   \n",
       "660  123.0  3.73  2.97  2.67   2.55  3.08  0.33   675911.0      3.28   \n",
       "593  122.0  4.06  3.78  3.69   3.37  3.06  0.32   657746.0      3.36   \n",
       "239  121.2  3.18  2.77  2.91   3.00  3.65  0.43   592332.0      3.74   \n",
       "247  121.0  3.79  4.46  4.33   4.08  4.44  0.35   608337.0      4.80   \n",
       "507  120.2  3.43  4.15  3.53   3.58  3.95  0.45   660271.0      3.83   \n",
       "142  120.1  5.01  4.87  4.49   4.85  6.13  0.45   571578.0      5.94   \n",
       "409  120.1  3.22  3.22  3.44   3.42  3.57  0.42   666200.0      3.66   \n",
       "412  119.2  6.47  5.22  4.02   3.92  4.82  0.38   458681.0      4.83   \n",
       "119  119.1  4.15  3.58  3.94   3.97  4.00  0.38   656302.0      4.30   \n",
       "260  118.1  3.27  4.75  4.96   4.97  4.53  0.41   680686.0      4.55   \n",
       "741  118.1  3.88  2.88  3.47   3.47  3.27  0.40   554430.0      3.38   \n",
       "243  118.1  3.88  3.66  3.73   3.74  3.57  0.42   669302.0      3.63   \n",
       "518  117.1  4.60  4.35  4.60   4.68  4.56  0.47   670912.0      4.52   \n",
       "61   117.0  3.77  4.14  4.08   4.40  4.88  0.46   669456.0      4.81   \n",
       "190  116.1  3.64  3.01  3.19   3.39  3.11  0.52   621107.0      3.04   \n",
       "371  115.2  4.59  4.94  4.41   4.38  5.39  0.37   665152.0      5.42   \n",
       "475  115.0  3.37  3.59  3.95   4.17  4.12  0.45   656756.0      4.24   \n",
       "191  114.2  3.30  4.27  4.22   4.48  4.17  0.54   693821.0      3.86   \n",
       "638  114.0  2.61  3.70  3.64   4.12  3.86  0.44   605483.0      3.94   \n",
       "299  114.0  4.82  4.42  4.75   4.85  5.57  0.37   448179.0      5.45   \n",
       "484  113.1  3.57  3.82  4.08   4.33  4.63  0.47   450203.0      4.75   \n",
       "725  113.0  4.06  4.32  4.45   4.68  4.12  0.47   592836.0      4.06   \n",
       "499  112.1  4.97  4.96  5.14   5.16  5.01  0.38   669194.0      4.94   \n",
       "615  111.2  4.19  5.21  5.04   4.49  4.56  0.27   676664.0      4.67   \n",
       "261  111.1  3.15  2.90  3.81   4.24  4.06  0.49   543243.0      3.83   \n",
       "738  111.0  3.65  4.89  4.56   4.15  3.95  0.32   669330.0      4.35   \n",
       "211  109.2  4.43  4.23  4.47   4.73  4.66  0.45   656427.0      4.58   \n",
       "652  109.2  2.87  3.11  3.75   3.89  3.27  0.50   657006.0      3.29   \n",
       "356  109.1  3.79  4.79  4.00   3.96  4.44  0.38   579328.0      4.43   \n",
       "531  109.0  4.46  4.38  3.90   3.87  3.89  0.40   642547.0      3.87   \n",
       "628  108.2  5.55  4.19  4.36   4.56  5.15  0.48   663903.0      4.77   \n",
       "259  108.1  3.66  4.39  4.48   4.66  4.44  0.40   592351.0      4.49   \n",
       "250  108.0  5.83  5.49  4.81   4.98  5.72  0.43   596295.0      5.47   \n",
       "\n",
       "     sxERA_adj  \n",
       "228       3.69  \n",
       "14        4.01  \n",
       "733       3.35  \n",
       "503       3.73  \n",
       "138       3.54  \n",
       "414       3.19  \n",
       "344       4.14  \n",
       "459       4.47  \n",
       "98        3.33  \n",
       "242       4.17  \n",
       "43        4.53  \n",
       "701       3.77  \n",
       "662       3.77  \n",
       "114       3.72  \n",
       "56        4.17  \n",
       "363       3.86  \n",
       "193       3.42  \n",
       "660       3.10  \n",
       "593       3.57  \n",
       "239       3.64  \n",
       "247       4.75  \n",
       "507       3.90  \n",
       "142       5.88  \n",
       "409       3.75  \n",
       "412       4.75  \n",
       "119       4.49  \n",
       "260       4.45  \n",
       "741       3.22  \n",
       "243       3.74  \n",
       "518       4.35  \n",
       "61        4.75  \n",
       "190       3.04  \n",
       "371       5.34  \n",
       "475       4.33  \n",
       "191       3.81  \n",
       "638       3.76  \n",
       "299       5.37  \n",
       "484       4.65  \n",
       "725       4.04  \n",
       "499       4.73  \n",
       "615       4.62  \n",
       "261       3.79  \n",
       "738       3.87  \n",
       "211       4.58  \n",
       "652       3.40  \n",
       "356       4.37  \n",
       "531       3.83  \n",
       "628       4.86  \n",
       "259       4.49  \n",
       "250       5.53  "
      ]
     },
     "execution_count": 18,
     "metadata": {},
     "output_type": "execute_result"
    }
   ],
   "source": [
    "df_2023.sort_values('IP', ascending=False).head(50).round(2)"
   ]
  },
  {
   "cell_type": "code",
   "execution_count": 19,
   "metadata": {},
   "outputs": [
    {
     "name": "stderr",
     "output_type": "stream",
     "text": [
      "C:\\Users\\wampl\\AppData\\Local\\Temp\\ipykernel_22648\\4051704210.py:1: FutureWarning: The default value of numeric_only in DataFrame.corr is deprecated. In a future version, it will default to False. Select only valid columns or specify the value of numeric_only to silence this warning.\n",
      "  df_2023.corr()\n"
     ]
    },
    {
     "data": {
      "text/html": [
       "<div>\n",
       "<style scoped>\n",
       "    .dataframe tbody tr th:only-of-type {\n",
       "        vertical-align: middle;\n",
       "    }\n",
       "\n",
       "    .dataframe tbody tr th {\n",
       "        vertical-align: top;\n",
       "    }\n",
       "\n",
       "    .dataframe thead th {\n",
       "        text-align: right;\n",
       "    }\n",
       "</style>\n",
       "<table border=\"1\" class=\"dataframe\">\n",
       "  <thead>\n",
       "    <tr style=\"text-align: right;\">\n",
       "      <th></th>\n",
       "      <th>pitcher</th>\n",
       "      <th>xwOBA_adj</th>\n",
       "      <th>sxwOBA_adj</th>\n",
       "      <th>IP</th>\n",
       "      <th>ERA</th>\n",
       "      <th>FIP</th>\n",
       "      <th>xFIP</th>\n",
       "      <th>SIERA</th>\n",
       "      <th>xERA</th>\n",
       "      <th>GB%</th>\n",
       "      <th>key_mlbam</th>\n",
       "      <th>xERA_adj</th>\n",
       "      <th>sxERA_adj</th>\n",
       "    </tr>\n",
       "  </thead>\n",
       "  <tbody>\n",
       "    <tr>\n",
       "      <th>pitcher</th>\n",
       "      <td>1.000000</td>\n",
       "      <td>0.020053</td>\n",
       "      <td>0.025939</td>\n",
       "      <td>-0.105310</td>\n",
       "      <td>0.052462</td>\n",
       "      <td>0.035615</td>\n",
       "      <td>0.028305</td>\n",
       "      <td>0.015931</td>\n",
       "      <td>0.022223</td>\n",
       "      <td>0.014431</td>\n",
       "      <td>1.000000</td>\n",
       "      <td>0.017779</td>\n",
       "      <td>0.024811</td>\n",
       "    </tr>\n",
       "    <tr>\n",
       "      <th>xwOBA_adj</th>\n",
       "      <td>0.020053</td>\n",
       "      <td>1.000000</td>\n",
       "      <td>0.955046</td>\n",
       "      <td>0.045841</td>\n",
       "      <td>0.696979</td>\n",
       "      <td>0.798668</td>\n",
       "      <td>0.720736</td>\n",
       "      <td>0.764649</td>\n",
       "      <td>0.969347</td>\n",
       "      <td>-0.226137</td>\n",
       "      <td>0.020053</td>\n",
       "      <td>0.995655</td>\n",
       "      <td>0.949724</td>\n",
       "    </tr>\n",
       "    <tr>\n",
       "      <th>sxwOBA_adj</th>\n",
       "      <td>0.025939</td>\n",
       "      <td>0.955046</td>\n",
       "      <td>1.000000</td>\n",
       "      <td>-0.004829</td>\n",
       "      <td>0.720753</td>\n",
       "      <td>0.807020</td>\n",
       "      <td>0.692915</td>\n",
       "      <td>0.728177</td>\n",
       "      <td>0.934318</td>\n",
       "      <td>-0.169063</td>\n",
       "      <td>0.025939</td>\n",
       "      <td>0.950755</td>\n",
       "      <td>0.996084</td>\n",
       "    </tr>\n",
       "    <tr>\n",
       "      <th>IP</th>\n",
       "      <td>-0.105310</td>\n",
       "      <td>0.045841</td>\n",
       "      <td>-0.004829</td>\n",
       "      <td>1.000000</td>\n",
       "      <td>-0.077499</td>\n",
       "      <td>-0.048118</td>\n",
       "      <td>-0.103873</td>\n",
       "      <td>0.049498</td>\n",
       "      <td>0.007517</td>\n",
       "      <td>-0.041963</td>\n",
       "      <td>-0.105310</td>\n",
       "      <td>0.026247</td>\n",
       "      <td>-0.026343</td>\n",
       "    </tr>\n",
       "    <tr>\n",
       "      <th>ERA</th>\n",
       "      <td>0.052462</td>\n",
       "      <td>0.696979</td>\n",
       "      <td>0.720753</td>\n",
       "      <td>-0.077499</td>\n",
       "      <td>1.000000</td>\n",
       "      <td>0.697541</td>\n",
       "      <td>0.542842</td>\n",
       "      <td>0.555490</td>\n",
       "      <td>0.717842</td>\n",
       "      <td>-0.156915</td>\n",
       "      <td>0.052462</td>\n",
       "      <td>0.700229</td>\n",
       "      <td>0.725845</td>\n",
       "    </tr>\n",
       "    <tr>\n",
       "      <th>FIP</th>\n",
       "      <td>0.035615</td>\n",
       "      <td>0.798668</td>\n",
       "      <td>0.807020</td>\n",
       "      <td>-0.048118</td>\n",
       "      <td>0.697541</td>\n",
       "      <td>1.000000</td>\n",
       "      <td>0.787295</td>\n",
       "      <td>0.755759</td>\n",
       "      <td>0.792344</td>\n",
       "      <td>-0.248166</td>\n",
       "      <td>0.035615</td>\n",
       "      <td>0.795718</td>\n",
       "      <td>0.807734</td>\n",
       "    </tr>\n",
       "    <tr>\n",
       "      <th>xFIP</th>\n",
       "      <td>0.028305</td>\n",
       "      <td>0.720736</td>\n",
       "      <td>0.692915</td>\n",
       "      <td>-0.103873</td>\n",
       "      <td>0.542842</td>\n",
       "      <td>0.787295</td>\n",
       "      <td>1.000000</td>\n",
       "      <td>0.934977</td>\n",
       "      <td>0.688728</td>\n",
       "      <td>-0.384802</td>\n",
       "      <td>0.028305</td>\n",
       "      <td>0.717566</td>\n",
       "      <td>0.689621</td>\n",
       "    </tr>\n",
       "    <tr>\n",
       "      <th>SIERA</th>\n",
       "      <td>0.015931</td>\n",
       "      <td>0.764649</td>\n",
       "      <td>0.728177</td>\n",
       "      <td>0.049498</td>\n",
       "      <td>0.555490</td>\n",
       "      <td>0.755759</td>\n",
       "      <td>0.934977</td>\n",
       "      <td>1.000000</td>\n",
       "      <td>0.746823</td>\n",
       "      <td>-0.217946</td>\n",
       "      <td>0.015931</td>\n",
       "      <td>0.761806</td>\n",
       "      <td>0.724000</td>\n",
       "    </tr>\n",
       "    <tr>\n",
       "      <th>xERA</th>\n",
       "      <td>0.022223</td>\n",
       "      <td>0.969347</td>\n",
       "      <td>0.934318</td>\n",
       "      <td>0.007517</td>\n",
       "      <td>0.717842</td>\n",
       "      <td>0.792344</td>\n",
       "      <td>0.688728</td>\n",
       "      <td>0.746823</td>\n",
       "      <td>1.000000</td>\n",
       "      <td>-0.155395</td>\n",
       "      <td>0.022223</td>\n",
       "      <td>0.977923</td>\n",
       "      <td>0.941090</td>\n",
       "    </tr>\n",
       "    <tr>\n",
       "      <th>GB%</th>\n",
       "      <td>0.014431</td>\n",
       "      <td>-0.226137</td>\n",
       "      <td>-0.169063</td>\n",
       "      <td>-0.041963</td>\n",
       "      <td>-0.156915</td>\n",
       "      <td>-0.248166</td>\n",
       "      <td>-0.384802</td>\n",
       "      <td>-0.217946</td>\n",
       "      <td>-0.155395</td>\n",
       "      <td>1.000000</td>\n",
       "      <td>0.014431</td>\n",
       "      <td>-0.223827</td>\n",
       "      <td>-0.168087</td>\n",
       "    </tr>\n",
       "    <tr>\n",
       "      <th>key_mlbam</th>\n",
       "      <td>1.000000</td>\n",
       "      <td>0.020053</td>\n",
       "      <td>0.025939</td>\n",
       "      <td>-0.105310</td>\n",
       "      <td>0.052462</td>\n",
       "      <td>0.035615</td>\n",
       "      <td>0.028305</td>\n",
       "      <td>0.015931</td>\n",
       "      <td>0.022223</td>\n",
       "      <td>0.014431</td>\n",
       "      <td>1.000000</td>\n",
       "      <td>0.017779</td>\n",
       "      <td>0.024811</td>\n",
       "    </tr>\n",
       "    <tr>\n",
       "      <th>xERA_adj</th>\n",
       "      <td>0.017779</td>\n",
       "      <td>0.995655</td>\n",
       "      <td>0.950755</td>\n",
       "      <td>0.026247</td>\n",
       "      <td>0.700229</td>\n",
       "      <td>0.795718</td>\n",
       "      <td>0.717566</td>\n",
       "      <td>0.761806</td>\n",
       "      <td>0.977923</td>\n",
       "      <td>-0.223827</td>\n",
       "      <td>0.017779</td>\n",
       "      <td>1.000000</td>\n",
       "      <td>0.953042</td>\n",
       "    </tr>\n",
       "    <tr>\n",
       "      <th>sxERA_adj</th>\n",
       "      <td>0.024811</td>\n",
       "      <td>0.949724</td>\n",
       "      <td>0.996084</td>\n",
       "      <td>-0.026343</td>\n",
       "      <td>0.725845</td>\n",
       "      <td>0.807734</td>\n",
       "      <td>0.689621</td>\n",
       "      <td>0.724000</td>\n",
       "      <td>0.941090</td>\n",
       "      <td>-0.168087</td>\n",
       "      <td>0.024811</td>\n",
       "      <td>0.953042</td>\n",
       "      <td>1.000000</td>\n",
       "    </tr>\n",
       "  </tbody>\n",
       "</table>\n",
       "</div>"
      ],
      "text/plain": [
       "             pitcher  xwOBA_adj  sxwOBA_adj        IP       ERA       FIP  \\\n",
       "pitcher     1.000000   0.020053    0.025939 -0.105310  0.052462  0.035615   \n",
       "xwOBA_adj   0.020053   1.000000    0.955046  0.045841  0.696979  0.798668   \n",
       "sxwOBA_adj  0.025939   0.955046    1.000000 -0.004829  0.720753  0.807020   \n",
       "IP         -0.105310   0.045841   -0.004829  1.000000 -0.077499 -0.048118   \n",
       "ERA         0.052462   0.696979    0.720753 -0.077499  1.000000  0.697541   \n",
       "FIP         0.035615   0.798668    0.807020 -0.048118  0.697541  1.000000   \n",
       "xFIP        0.028305   0.720736    0.692915 -0.103873  0.542842  0.787295   \n",
       "SIERA       0.015931   0.764649    0.728177  0.049498  0.555490  0.755759   \n",
       "xERA        0.022223   0.969347    0.934318  0.007517  0.717842  0.792344   \n",
       "GB%         0.014431  -0.226137   -0.169063 -0.041963 -0.156915 -0.248166   \n",
       "key_mlbam   1.000000   0.020053    0.025939 -0.105310  0.052462  0.035615   \n",
       "xERA_adj    0.017779   0.995655    0.950755  0.026247  0.700229  0.795718   \n",
       "sxERA_adj   0.024811   0.949724    0.996084 -0.026343  0.725845  0.807734   \n",
       "\n",
       "                xFIP     SIERA      xERA       GB%  key_mlbam  xERA_adj  \\\n",
       "pitcher     0.028305  0.015931  0.022223  0.014431   1.000000  0.017779   \n",
       "xwOBA_adj   0.720736  0.764649  0.969347 -0.226137   0.020053  0.995655   \n",
       "sxwOBA_adj  0.692915  0.728177  0.934318 -0.169063   0.025939  0.950755   \n",
       "IP         -0.103873  0.049498  0.007517 -0.041963  -0.105310  0.026247   \n",
       "ERA         0.542842  0.555490  0.717842 -0.156915   0.052462  0.700229   \n",
       "FIP         0.787295  0.755759  0.792344 -0.248166   0.035615  0.795718   \n",
       "xFIP        1.000000  0.934977  0.688728 -0.384802   0.028305  0.717566   \n",
       "SIERA       0.934977  1.000000  0.746823 -0.217946   0.015931  0.761806   \n",
       "xERA        0.688728  0.746823  1.000000 -0.155395   0.022223  0.977923   \n",
       "GB%        -0.384802 -0.217946 -0.155395  1.000000   0.014431 -0.223827   \n",
       "key_mlbam   0.028305  0.015931  0.022223  0.014431   1.000000  0.017779   \n",
       "xERA_adj    0.717566  0.761806  0.977923 -0.223827   0.017779  1.000000   \n",
       "sxERA_adj   0.689621  0.724000  0.941090 -0.168087   0.024811  0.953042   \n",
       "\n",
       "            sxERA_adj  \n",
       "pitcher      0.024811  \n",
       "xwOBA_adj    0.949724  \n",
       "sxwOBA_adj   0.996084  \n",
       "IP          -0.026343  \n",
       "ERA          0.725845  \n",
       "FIP          0.807734  \n",
       "xFIP         0.689621  \n",
       "SIERA        0.724000  \n",
       "xERA         0.941090  \n",
       "GB%         -0.168087  \n",
       "key_mlbam    0.024811  \n",
       "xERA_adj     0.953042  \n",
       "sxERA_adj    1.000000  "
      ]
     },
     "execution_count": 19,
     "metadata": {},
     "output_type": "execute_result"
    }
   ],
   "source": [
    "df_2023.corr()"
   ]
  },
  {
   "cell_type": "code",
   "execution_count": 20,
   "metadata": {},
   "outputs": [
    {
     "name": "stderr",
     "output_type": "stream",
     "text": [
      "C:\\Users\\wampl\\AppData\\Local\\Temp\\ipykernel_22648\\1416161095.py:1: FutureWarning: Indexing with multiple keys (implicitly converted to a tuple of keys) will be deprecated, use a list instead.\n",
      "  df3.groupby(['player_name'], as_index=False)['sxwOBA', 'sxwOBA_adj', 'launch_speed', 'launch_angle', 'gidp_prob'].agg(['mean', 'count', 'sum']).sort_values(('gidp_prob', 'sum'), ascending=False).head(20)\n"
     ]
    },
    {
     "data": {
      "text/html": [
       "<div>\n",
       "<style scoped>\n",
       "    .dataframe tbody tr th:only-of-type {\n",
       "        vertical-align: middle;\n",
       "    }\n",
       "\n",
       "    .dataframe tbody tr th {\n",
       "        vertical-align: top;\n",
       "    }\n",
       "\n",
       "    .dataframe thead tr th {\n",
       "        text-align: left;\n",
       "    }\n",
       "\n",
       "    .dataframe thead tr:last-of-type th {\n",
       "        text-align: right;\n",
       "    }\n",
       "</style>\n",
       "<table border=\"1\" class=\"dataframe\">\n",
       "  <thead>\n",
       "    <tr>\n",
       "      <th></th>\n",
       "      <th colspan=\"3\" halign=\"left\">sxwOBA</th>\n",
       "      <th colspan=\"3\" halign=\"left\">sxwOBA_adj</th>\n",
       "      <th colspan=\"3\" halign=\"left\">launch_speed</th>\n",
       "      <th colspan=\"3\" halign=\"left\">launch_angle</th>\n",
       "      <th colspan=\"3\" halign=\"left\">gidp_prob</th>\n",
       "    </tr>\n",
       "    <tr>\n",
       "      <th></th>\n",
       "      <th>mean</th>\n",
       "      <th>count</th>\n",
       "      <th>sum</th>\n",
       "      <th>mean</th>\n",
       "      <th>count</th>\n",
       "      <th>sum</th>\n",
       "      <th>mean</th>\n",
       "      <th>count</th>\n",
       "      <th>sum</th>\n",
       "      <th>mean</th>\n",
       "      <th>count</th>\n",
       "      <th>sum</th>\n",
       "      <th>mean</th>\n",
       "      <th>count</th>\n",
       "      <th>sum</th>\n",
       "    </tr>\n",
       "    <tr>\n",
       "      <th>player_name</th>\n",
       "      <th></th>\n",
       "      <th></th>\n",
       "      <th></th>\n",
       "      <th></th>\n",
       "      <th></th>\n",
       "      <th></th>\n",
       "      <th></th>\n",
       "      <th></th>\n",
       "      <th></th>\n",
       "      <th></th>\n",
       "      <th></th>\n",
       "      <th></th>\n",
       "      <th></th>\n",
       "      <th></th>\n",
       "      <th></th>\n",
       "    </tr>\n",
       "  </thead>\n",
       "  <tbody>\n",
       "    <tr>\n",
       "      <th>Webb, Logan</th>\n",
       "      <td>0.297059</td>\n",
       "      <td>580</td>\n",
       "      <td>172.293943</td>\n",
       "      <td>0.279146</td>\n",
       "      <td>580</td>\n",
       "      <td>161.904775</td>\n",
       "      <td>90.394595</td>\n",
       "      <td>407</td>\n",
       "      <td>36790.6</td>\n",
       "      <td>2.202934</td>\n",
       "      <td>409</td>\n",
       "      <td>901.0</td>\n",
       "      <td>0.039271</td>\n",
       "      <td>407</td>\n",
       "      <td>15.983337</td>\n",
       "    </tr>\n",
       "    <tr>\n",
       "      <th>Stroman, Marcus</th>\n",
       "      <td>0.312776</td>\n",
       "      <td>534</td>\n",
       "      <td>167.022527</td>\n",
       "      <td>0.296004</td>\n",
       "      <td>534</td>\n",
       "      <td>158.066285</td>\n",
       "      <td>90.166307</td>\n",
       "      <td>371</td>\n",
       "      <td>33451.7</td>\n",
       "      <td>2.451613</td>\n",
       "      <td>372</td>\n",
       "      <td>912.0</td>\n",
       "      <td>0.037240</td>\n",
       "      <td>370</td>\n",
       "      <td>13.778835</td>\n",
       "    </tr>\n",
       "    <tr>\n",
       "      <th>Alcantara, Sandy</th>\n",
       "      <td>0.320185</td>\n",
       "      <td>588</td>\n",
       "      <td>188.268641</td>\n",
       "      <td>0.305010</td>\n",
       "      <td>588</td>\n",
       "      <td>179.345818</td>\n",
       "      <td>88.432009</td>\n",
       "      <td>428</td>\n",
       "      <td>37848.9</td>\n",
       "      <td>7.343458</td>\n",
       "      <td>428</td>\n",
       "      <td>3143.0</td>\n",
       "      <td>0.032073</td>\n",
       "      <td>428</td>\n",
       "      <td>13.727421</td>\n",
       "    </tr>\n",
       "    <tr>\n",
       "      <th>Elder, Bryce</th>\n",
       "      <td>0.314790</td>\n",
       "      <td>498</td>\n",
       "      <td>156.765232</td>\n",
       "      <td>0.297395</td>\n",
       "      <td>498</td>\n",
       "      <td>148.102918</td>\n",
       "      <td>89.624590</td>\n",
       "      <td>366</td>\n",
       "      <td>32802.6</td>\n",
       "      <td>7.647541</td>\n",
       "      <td>366</td>\n",
       "      <td>2799.0</td>\n",
       "      <td>0.036412</td>\n",
       "      <td>366</td>\n",
       "      <td>13.326639</td>\n",
       "    </tr>\n",
       "    <tr>\n",
       "      <th>Valdez, Framber</th>\n",
       "      <td>0.311612</td>\n",
       "      <td>537</td>\n",
       "      <td>167.335845</td>\n",
       "      <td>0.295926</td>\n",
       "      <td>537</td>\n",
       "      <td>158.912443</td>\n",
       "      <td>91.451676</td>\n",
       "      <td>358</td>\n",
       "      <td>32739.7</td>\n",
       "      <td>3.446927</td>\n",
       "      <td>358</td>\n",
       "      <td>1234.0</td>\n",
       "      <td>0.036300</td>\n",
       "      <td>357</td>\n",
       "      <td>12.959080</td>\n",
       "    </tr>\n",
       "    <tr>\n",
       "      <th>Corbin, Patrick</th>\n",
       "      <td>0.384430</td>\n",
       "      <td>558</td>\n",
       "      <td>214.512125</td>\n",
       "      <td>0.369663</td>\n",
       "      <td>558</td>\n",
       "      <td>206.272078</td>\n",
       "      <td>90.272222</td>\n",
       "      <td>432</td>\n",
       "      <td>38997.6</td>\n",
       "      <td>10.298611</td>\n",
       "      <td>432</td>\n",
       "      <td>4449.0</td>\n",
       "      <td>0.029345</td>\n",
       "      <td>432</td>\n",
       "      <td>12.676996</td>\n",
       "    </tr>\n",
       "    <tr>\n",
       "      <th>Gibson, Kyle</th>\n",
       "      <td>0.325947</td>\n",
       "      <td>559</td>\n",
       "      <td>182.204150</td>\n",
       "      <td>0.311371</td>\n",
       "      <td>559</td>\n",
       "      <td>174.056486</td>\n",
       "      <td>88.775556</td>\n",
       "      <td>405</td>\n",
       "      <td>35954.1</td>\n",
       "      <td>8.758025</td>\n",
       "      <td>405</td>\n",
       "      <td>3547.0</td>\n",
       "      <td>0.031027</td>\n",
       "      <td>404</td>\n",
       "      <td>12.534869</td>\n",
       "    </tr>\n",
       "    <tr>\n",
       "      <th>Singer, Brady</th>\n",
       "      <td>0.351116</td>\n",
       "      <td>525</td>\n",
       "      <td>184.336120</td>\n",
       "      <td>0.336087</td>\n",
       "      <td>525</td>\n",
       "      <td>176.445614</td>\n",
       "      <td>91.513032</td>\n",
       "      <td>376</td>\n",
       "      <td>34408.9</td>\n",
       "      <td>9.321809</td>\n",
       "      <td>376</td>\n",
       "      <td>3505.0</td>\n",
       "      <td>0.032285</td>\n",
       "      <td>376</td>\n",
       "      <td>12.139241</td>\n",
       "    </tr>\n",
       "    <tr>\n",
       "      <th>Cobb, Alex</th>\n",
       "      <td>0.337409</td>\n",
       "      <td>474</td>\n",
       "      <td>159.931879</td>\n",
       "      <td>0.321429</td>\n",
       "      <td>474</td>\n",
       "      <td>152.357314</td>\n",
       "      <td>89.304451</td>\n",
       "      <td>337</td>\n",
       "      <td>30095.6</td>\n",
       "      <td>0.759644</td>\n",
       "      <td>337</td>\n",
       "      <td>256.0</td>\n",
       "      <td>0.034579</td>\n",
       "      <td>337</td>\n",
       "      <td>11.653177</td>\n",
       "    </tr>\n",
       "    <tr>\n",
       "      <th>Mikolas, Miles</th>\n",
       "      <td>0.335398</td>\n",
       "      <td>573</td>\n",
       "      <td>192.182894</td>\n",
       "      <td>0.322273</td>\n",
       "      <td>573</td>\n",
       "      <td>184.662197</td>\n",
       "      <td>89.927354</td>\n",
       "      <td>446</td>\n",
       "      <td>40107.6</td>\n",
       "      <td>14.327354</td>\n",
       "      <td>446</td>\n",
       "      <td>6390.0</td>\n",
       "      <td>0.025942</td>\n",
       "      <td>446</td>\n",
       "      <td>11.570304</td>\n",
       "    </tr>\n",
       "    <tr>\n",
       "      <th>Gray, Sonny</th>\n",
       "      <td>0.310589</td>\n",
       "      <td>518</td>\n",
       "      <td>160.885021</td>\n",
       "      <td>0.296546</td>\n",
       "      <td>518</td>\n",
       "      <td>153.610736</td>\n",
       "      <td>88.666189</td>\n",
       "      <td>349</td>\n",
       "      <td>30944.5</td>\n",
       "      <td>9.040115</td>\n",
       "      <td>349</td>\n",
       "      <td>3155.0</td>\n",
       "      <td>0.032066</td>\n",
       "      <td>349</td>\n",
       "      <td>11.191207</td>\n",
       "    </tr>\n",
       "    <tr>\n",
       "      <th>Bieber, Shane</th>\n",
       "      <td>0.347029</td>\n",
       "      <td>485</td>\n",
       "      <td>168.309218</td>\n",
       "      <td>0.332225</td>\n",
       "      <td>485</td>\n",
       "      <td>161.129300</td>\n",
       "      <td>91.258989</td>\n",
       "      <td>356</td>\n",
       "      <td>32488.2</td>\n",
       "      <td>9.528090</td>\n",
       "      <td>356</td>\n",
       "      <td>3392.0</td>\n",
       "      <td>0.031116</td>\n",
       "      <td>355</td>\n",
       "      <td>11.046027</td>\n",
       "    </tr>\n",
       "    <tr>\n",
       "      <th>Oviedo, Johan</th>\n",
       "      <td>0.330900</td>\n",
       "      <td>539</td>\n",
       "      <td>178.355174</td>\n",
       "      <td>0.317750</td>\n",
       "      <td>539</td>\n",
       "      <td>171.267024</td>\n",
       "      <td>88.626486</td>\n",
       "      <td>370</td>\n",
       "      <td>32791.8</td>\n",
       "      <td>10.040541</td>\n",
       "      <td>370</td>\n",
       "      <td>3715.0</td>\n",
       "      <td>0.029473</td>\n",
       "      <td>370</td>\n",
       "      <td>10.904847</td>\n",
       "    </tr>\n",
       "    <tr>\n",
       "      <th>Gomber, Austin</th>\n",
       "      <td>0.372841</td>\n",
       "      <td>484</td>\n",
       "      <td>180.455013</td>\n",
       "      <td>0.358256</td>\n",
       "      <td>484</td>\n",
       "      <td>173.395939</td>\n",
       "      <td>90.411497</td>\n",
       "      <td>374</td>\n",
       "      <td>33813.9</td>\n",
       "      <td>11.069333</td>\n",
       "      <td>375</td>\n",
       "      <td>4151.0</td>\n",
       "      <td>0.029038</td>\n",
       "      <td>374</td>\n",
       "      <td>10.860114</td>\n",
       "    </tr>\n",
       "    <tr>\n",
       "      <th>Keller, Mitch</th>\n",
       "      <td>0.321890</td>\n",
       "      <td>591</td>\n",
       "      <td>190.237210</td>\n",
       "      <td>0.309955</td>\n",
       "      <td>591</td>\n",
       "      <td>183.183278</td>\n",
       "      <td>86.977949</td>\n",
       "      <td>390</td>\n",
       "      <td>33921.4</td>\n",
       "      <td>10.061538</td>\n",
       "      <td>390</td>\n",
       "      <td>3924.0</td>\n",
       "      <td>0.027826</td>\n",
       "      <td>390</td>\n",
       "      <td>10.852203</td>\n",
       "    </tr>\n",
       "    <tr>\n",
       "      <th>Steele, Justin</th>\n",
       "      <td>0.296022</td>\n",
       "      <td>470</td>\n",
       "      <td>139.130228</td>\n",
       "      <td>0.281049</td>\n",
       "      <td>470</td>\n",
       "      <td>132.093263</td>\n",
       "      <td>86.346131</td>\n",
       "      <td>336</td>\n",
       "      <td>29012.3</td>\n",
       "      <td>10.291667</td>\n",
       "      <td>336</td>\n",
       "      <td>3458.0</td>\n",
       "      <td>0.032317</td>\n",
       "      <td>335</td>\n",
       "      <td>10.826101</td>\n",
       "    </tr>\n",
       "    <tr>\n",
       "      <th>Kirby, George</th>\n",
       "      <td>0.313110</td>\n",
       "      <td>513</td>\n",
       "      <td>160.625214</td>\n",
       "      <td>0.299409</td>\n",
       "      <td>513</td>\n",
       "      <td>153.597018</td>\n",
       "      <td>88.902387</td>\n",
       "      <td>377</td>\n",
       "      <td>33516.2</td>\n",
       "      <td>12.551724</td>\n",
       "      <td>377</td>\n",
       "      <td>4732.0</td>\n",
       "      <td>0.028681</td>\n",
       "      <td>377</td>\n",
       "      <td>10.812609</td>\n",
       "    </tr>\n",
       "    <tr>\n",
       "      <th>Eflin, Zach</th>\n",
       "      <td>0.280127</td>\n",
       "      <td>477</td>\n",
       "      <td>133.620589</td>\n",
       "      <td>0.265547</td>\n",
       "      <td>477</td>\n",
       "      <td>126.666052</td>\n",
       "      <td>86.276855</td>\n",
       "      <td>337</td>\n",
       "      <td>29075.3</td>\n",
       "      <td>8.082840</td>\n",
       "      <td>338</td>\n",
       "      <td>2732.0</td>\n",
       "      <td>0.031843</td>\n",
       "      <td>336</td>\n",
       "      <td>10.699289</td>\n",
       "    </tr>\n",
       "    <tr>\n",
       "      <th>Bello, Brayan</th>\n",
       "      <td>0.328273</td>\n",
       "      <td>429</td>\n",
       "      <td>140.829286</td>\n",
       "      <td>0.312073</td>\n",
       "      <td>429</td>\n",
       "      <td>133.879516</td>\n",
       "      <td>89.657655</td>\n",
       "      <td>307</td>\n",
       "      <td>27524.9</td>\n",
       "      <td>5.824104</td>\n",
       "      <td>307</td>\n",
       "      <td>1788.0</td>\n",
       "      <td>0.034827</td>\n",
       "      <td>307</td>\n",
       "      <td>10.691954</td>\n",
       "    </tr>\n",
       "    <tr>\n",
       "      <th>Brown, Hunter</th>\n",
       "      <td>0.308152</td>\n",
       "      <td>465</td>\n",
       "      <td>143.290512</td>\n",
       "      <td>0.293295</td>\n",
       "      <td>465</td>\n",
       "      <td>136.382331</td>\n",
       "      <td>90.260606</td>\n",
       "      <td>297</td>\n",
       "      <td>26807.4</td>\n",
       "      <td>5.895623</td>\n",
       "      <td>297</td>\n",
       "      <td>1751.0</td>\n",
       "      <td>0.035905</td>\n",
       "      <td>296</td>\n",
       "      <td>10.627972</td>\n",
       "    </tr>\n",
       "  </tbody>\n",
       "</table>\n",
       "</div>"
      ],
      "text/plain": [
       "                    sxwOBA                   sxwOBA_adj                    \\\n",
       "                      mean count         sum       mean count         sum   \n",
       "player_name                                                                 \n",
       "Webb, Logan       0.297059   580  172.293943   0.279146   580  161.904775   \n",
       "Stroman, Marcus   0.312776   534  167.022527   0.296004   534  158.066285   \n",
       "Alcantara, Sandy  0.320185   588  188.268641   0.305010   588  179.345818   \n",
       "Elder, Bryce      0.314790   498  156.765232   0.297395   498  148.102918   \n",
       "Valdez, Framber   0.311612   537  167.335845   0.295926   537  158.912443   \n",
       "Corbin, Patrick   0.384430   558  214.512125   0.369663   558  206.272078   \n",
       "Gibson, Kyle      0.325947   559  182.204150   0.311371   559  174.056486   \n",
       "Singer, Brady     0.351116   525  184.336120   0.336087   525  176.445614   \n",
       "Cobb, Alex        0.337409   474  159.931879   0.321429   474  152.357314   \n",
       "Mikolas, Miles    0.335398   573  192.182894   0.322273   573  184.662197   \n",
       "Gray, Sonny       0.310589   518  160.885021   0.296546   518  153.610736   \n",
       "Bieber, Shane     0.347029   485  168.309218   0.332225   485  161.129300   \n",
       "Oviedo, Johan     0.330900   539  178.355174   0.317750   539  171.267024   \n",
       "Gomber, Austin    0.372841   484  180.455013   0.358256   484  173.395939   \n",
       "Keller, Mitch     0.321890   591  190.237210   0.309955   591  183.183278   \n",
       "Steele, Justin    0.296022   470  139.130228   0.281049   470  132.093263   \n",
       "Kirby, George     0.313110   513  160.625214   0.299409   513  153.597018   \n",
       "Eflin, Zach       0.280127   477  133.620589   0.265547   477  126.666052   \n",
       "Bello, Brayan     0.328273   429  140.829286   0.312073   429  133.879516   \n",
       "Brown, Hunter     0.308152   465  143.290512   0.293295   465  136.382331   \n",
       "\n",
       "                 launch_speed                launch_angle                \\\n",
       "                         mean count      sum         mean count     sum   \n",
       "player_name                                                               \n",
       "Webb, Logan         90.394595   407  36790.6     2.202934   409   901.0   \n",
       "Stroman, Marcus     90.166307   371  33451.7     2.451613   372   912.0   \n",
       "Alcantara, Sandy    88.432009   428  37848.9     7.343458   428  3143.0   \n",
       "Elder, Bryce        89.624590   366  32802.6     7.647541   366  2799.0   \n",
       "Valdez, Framber     91.451676   358  32739.7     3.446927   358  1234.0   \n",
       "Corbin, Patrick     90.272222   432  38997.6    10.298611   432  4449.0   \n",
       "Gibson, Kyle        88.775556   405  35954.1     8.758025   405  3547.0   \n",
       "Singer, Brady       91.513032   376  34408.9     9.321809   376  3505.0   \n",
       "Cobb, Alex          89.304451   337  30095.6     0.759644   337   256.0   \n",
       "Mikolas, Miles      89.927354   446  40107.6    14.327354   446  6390.0   \n",
       "Gray, Sonny         88.666189   349  30944.5     9.040115   349  3155.0   \n",
       "Bieber, Shane       91.258989   356  32488.2     9.528090   356  3392.0   \n",
       "Oviedo, Johan       88.626486   370  32791.8    10.040541   370  3715.0   \n",
       "Gomber, Austin      90.411497   374  33813.9    11.069333   375  4151.0   \n",
       "Keller, Mitch       86.977949   390  33921.4    10.061538   390  3924.0   \n",
       "Steele, Justin      86.346131   336  29012.3    10.291667   336  3458.0   \n",
       "Kirby, George       88.902387   377  33516.2    12.551724   377  4732.0   \n",
       "Eflin, Zach         86.276855   337  29075.3     8.082840   338  2732.0   \n",
       "Bello, Brayan       89.657655   307  27524.9     5.824104   307  1788.0   \n",
       "Brown, Hunter       90.260606   297  26807.4     5.895623   297  1751.0   \n",
       "\n",
       "                 gidp_prob                   \n",
       "                      mean count        sum  \n",
       "player_name                                  \n",
       "Webb, Logan       0.039271   407  15.983337  \n",
       "Stroman, Marcus   0.037240   370  13.778835  \n",
       "Alcantara, Sandy  0.032073   428  13.727421  \n",
       "Elder, Bryce      0.036412   366  13.326639  \n",
       "Valdez, Framber   0.036300   357  12.959080  \n",
       "Corbin, Patrick   0.029345   432  12.676996  \n",
       "Gibson, Kyle      0.031027   404  12.534869  \n",
       "Singer, Brady     0.032285   376  12.139241  \n",
       "Cobb, Alex        0.034579   337  11.653177  \n",
       "Mikolas, Miles    0.025942   446  11.570304  \n",
       "Gray, Sonny       0.032066   349  11.191207  \n",
       "Bieber, Shane     0.031116   355  11.046027  \n",
       "Oviedo, Johan     0.029473   370  10.904847  \n",
       "Gomber, Austin    0.029038   374  10.860114  \n",
       "Keller, Mitch     0.027826   390  10.852203  \n",
       "Steele, Justin    0.032317   335  10.826101  \n",
       "Kirby, George     0.028681   377  10.812609  \n",
       "Eflin, Zach       0.031843   336  10.699289  \n",
       "Bello, Brayan     0.034827   307  10.691954  \n",
       "Brown, Hunter     0.035905   296  10.627972  "
      ]
     },
     "execution_count": 20,
     "metadata": {},
     "output_type": "execute_result"
    }
   ],
   "source": [
    "df3.groupby(['player_name'], as_index=False)['sxwOBA', 'sxwOBA_adj', 'launch_speed', 'launch_angle', 'gidp_prob'].agg(['mean', 'count', 'sum']).sort_values(('gidp_prob', 'sum'), ascending=False).head(20)"
   ]
  },
  {
   "cell_type": "code",
   "execution_count": 21,
   "metadata": {},
   "outputs": [],
   "source": [
    "def get_sum_gidp_probs(player_name):\n",
    "    return df.loc[df['player_name']==player_name, 'gidp_prob'].sum().round()"
   ]
  },
  {
   "cell_type": "code",
   "execution_count": 35,
   "metadata": {},
   "outputs": [
    {
     "ename": "KeyError",
     "evalue": "'player_name'",
     "output_type": "error",
     "traceback": [
      "\u001b[1;31m---------------------------------------------------------------------------\u001b[0m",
      "\u001b[1;31mKeyError\u001b[0m                                  Traceback (most recent call last)",
      "\u001b[1;32mc:\\Users\\wampl\\sxwOBA\\notebooks\\sandbox.ipynb Cell 22\u001b[0m in \u001b[0;36m1\n\u001b[1;32m----> <a href='vscode-notebook-cell:/c%3A/Users/wampl/sxwOBA/notebooks/sandbox.ipynb#Y106sZmlsZQ%3D%3D?line=0'>1</a>\u001b[0m df3[\u001b[39m'\u001b[39m\u001b[39mxDP\u001b[39m\u001b[39m'\u001b[39m] \u001b[39m=\u001b[39m df3\u001b[39m.\u001b[39;49mapply(\u001b[39mlambda\u001b[39;49;00m row: get_sum_gidp_probs(df3, row[\u001b[39m'\u001b[39;49m\u001b[39mplayer_name\u001b[39;49m\u001b[39m'\u001b[39;49m]))\n",
      "File \u001b[1;32mc:\\Users\\wampl\\anaconda3\\envs\\datasci\\lib\\site-packages\\pandas\\core\\frame.py:9565\u001b[0m, in \u001b[0;36mDataFrame.apply\u001b[1;34m(self, func, axis, raw, result_type, args, **kwargs)\u001b[0m\n\u001b[0;32m   9554\u001b[0m \u001b[39mfrom\u001b[39;00m \u001b[39mpandas\u001b[39;00m\u001b[39m.\u001b[39;00m\u001b[39mcore\u001b[39;00m\u001b[39m.\u001b[39;00m\u001b[39mapply\u001b[39;00m \u001b[39mimport\u001b[39;00m frame_apply\n\u001b[0;32m   9556\u001b[0m op \u001b[39m=\u001b[39m frame_apply(\n\u001b[0;32m   9557\u001b[0m     \u001b[39mself\u001b[39m,\n\u001b[0;32m   9558\u001b[0m     func\u001b[39m=\u001b[39mfunc,\n\u001b[1;32m   (...)\u001b[0m\n\u001b[0;32m   9563\u001b[0m     kwargs\u001b[39m=\u001b[39mkwargs,\n\u001b[0;32m   9564\u001b[0m )\n\u001b[1;32m-> 9565\u001b[0m \u001b[39mreturn\u001b[39;00m op\u001b[39m.\u001b[39;49mapply()\u001b[39m.\u001b[39m__finalize__(\u001b[39mself\u001b[39m, method\u001b[39m=\u001b[39m\u001b[39m\"\u001b[39m\u001b[39mapply\u001b[39m\u001b[39m\"\u001b[39m)\n",
      "File \u001b[1;32mc:\\Users\\wampl\\anaconda3\\envs\\datasci\\lib\\site-packages\\pandas\\core\\apply.py:746\u001b[0m, in \u001b[0;36mFrameApply.apply\u001b[1;34m(self)\u001b[0m\n\u001b[0;32m    743\u001b[0m \u001b[39melif\u001b[39;00m \u001b[39mself\u001b[39m\u001b[39m.\u001b[39mraw:\n\u001b[0;32m    744\u001b[0m     \u001b[39mreturn\u001b[39;00m \u001b[39mself\u001b[39m\u001b[39m.\u001b[39mapply_raw()\n\u001b[1;32m--> 746\u001b[0m \u001b[39mreturn\u001b[39;00m \u001b[39mself\u001b[39;49m\u001b[39m.\u001b[39;49mapply_standard()\n",
      "File \u001b[1;32mc:\\Users\\wampl\\anaconda3\\envs\\datasci\\lib\\site-packages\\pandas\\core\\apply.py:873\u001b[0m, in \u001b[0;36mFrameApply.apply_standard\u001b[1;34m(self)\u001b[0m\n\u001b[0;32m    872\u001b[0m \u001b[39mdef\u001b[39;00m \u001b[39mapply_standard\u001b[39m(\u001b[39mself\u001b[39m):\n\u001b[1;32m--> 873\u001b[0m     results, res_index \u001b[39m=\u001b[39m \u001b[39mself\u001b[39;49m\u001b[39m.\u001b[39;49mapply_series_generator()\n\u001b[0;32m    875\u001b[0m     \u001b[39m# wrap results\u001b[39;00m\n\u001b[0;32m    876\u001b[0m     \u001b[39mreturn\u001b[39;00m \u001b[39mself\u001b[39m\u001b[39m.\u001b[39mwrap_results(results, res_index)\n",
      "File \u001b[1;32mc:\\Users\\wampl\\anaconda3\\envs\\datasci\\lib\\site-packages\\pandas\\core\\apply.py:889\u001b[0m, in \u001b[0;36mFrameApply.apply_series_generator\u001b[1;34m(self)\u001b[0m\n\u001b[0;32m    886\u001b[0m \u001b[39mwith\u001b[39;00m option_context(\u001b[39m\"\u001b[39m\u001b[39mmode.chained_assignment\u001b[39m\u001b[39m\"\u001b[39m, \u001b[39mNone\u001b[39;00m):\n\u001b[0;32m    887\u001b[0m     \u001b[39mfor\u001b[39;00m i, v \u001b[39min\u001b[39;00m \u001b[39menumerate\u001b[39m(series_gen):\n\u001b[0;32m    888\u001b[0m         \u001b[39m# ignore SettingWithCopy here in case the user mutates\u001b[39;00m\n\u001b[1;32m--> 889\u001b[0m         results[i] \u001b[39m=\u001b[39m \u001b[39mself\u001b[39;49m\u001b[39m.\u001b[39;49mf(v)\n\u001b[0;32m    890\u001b[0m         \u001b[39mif\u001b[39;00m \u001b[39misinstance\u001b[39m(results[i], ABCSeries):\n\u001b[0;32m    891\u001b[0m             \u001b[39m# If we have a view on v, we need to make a copy because\u001b[39;00m\n\u001b[0;32m    892\u001b[0m             \u001b[39m#  series_generator will swap out the underlying data\u001b[39;00m\n\u001b[0;32m    893\u001b[0m             results[i] \u001b[39m=\u001b[39m results[i]\u001b[39m.\u001b[39mcopy(deep\u001b[39m=\u001b[39m\u001b[39mFalse\u001b[39;00m)\n",
      "\u001b[1;32mc:\\Users\\wampl\\sxwOBA\\notebooks\\sandbox.ipynb Cell 22\u001b[0m in \u001b[0;36m1\n\u001b[1;32m----> <a href='vscode-notebook-cell:/c%3A/Users/wampl/sxwOBA/notebooks/sandbox.ipynb#Y106sZmlsZQ%3D%3D?line=0'>1</a>\u001b[0m df3[\u001b[39m'\u001b[39m\u001b[39mxDP\u001b[39m\u001b[39m'\u001b[39m] \u001b[39m=\u001b[39m df3\u001b[39m.\u001b[39mapply(\u001b[39mlambda\u001b[39;00m row: get_sum_gidp_probs(df3, row[\u001b[39m'\u001b[39;49m\u001b[39mplayer_name\u001b[39;49m\u001b[39m'\u001b[39;49m]))\n",
      "File \u001b[1;32mc:\\Users\\wampl\\anaconda3\\envs\\datasci\\lib\\site-packages\\pandas\\core\\series.py:981\u001b[0m, in \u001b[0;36mSeries.__getitem__\u001b[1;34m(self, key)\u001b[0m\n\u001b[0;32m    978\u001b[0m     \u001b[39mreturn\u001b[39;00m \u001b[39mself\u001b[39m\u001b[39m.\u001b[39m_values[key]\n\u001b[0;32m    980\u001b[0m \u001b[39melif\u001b[39;00m key_is_scalar:\n\u001b[1;32m--> 981\u001b[0m     \u001b[39mreturn\u001b[39;00m \u001b[39mself\u001b[39;49m\u001b[39m.\u001b[39;49m_get_value(key)\n\u001b[0;32m    983\u001b[0m \u001b[39mif\u001b[39;00m is_hashable(key):\n\u001b[0;32m    984\u001b[0m     \u001b[39m# Otherwise index.get_value will raise InvalidIndexError\u001b[39;00m\n\u001b[0;32m    985\u001b[0m     \u001b[39mtry\u001b[39;00m:\n\u001b[0;32m    986\u001b[0m         \u001b[39m# For labels that don't resolve as scalars like tuples and frozensets\u001b[39;00m\n",
      "File \u001b[1;32mc:\\Users\\wampl\\anaconda3\\envs\\datasci\\lib\\site-packages\\pandas\\core\\series.py:1089\u001b[0m, in \u001b[0;36mSeries._get_value\u001b[1;34m(self, label, takeable)\u001b[0m\n\u001b[0;32m   1086\u001b[0m     \u001b[39mreturn\u001b[39;00m \u001b[39mself\u001b[39m\u001b[39m.\u001b[39m_values[label]\n\u001b[0;32m   1088\u001b[0m \u001b[39m# Similar to Index.get_value, but we do not fall back to positional\u001b[39;00m\n\u001b[1;32m-> 1089\u001b[0m loc \u001b[39m=\u001b[39m \u001b[39mself\u001b[39;49m\u001b[39m.\u001b[39;49mindex\u001b[39m.\u001b[39;49mget_loc(label)\n\u001b[0;32m   1090\u001b[0m \u001b[39mreturn\u001b[39;00m \u001b[39mself\u001b[39m\u001b[39m.\u001b[39mindex\u001b[39m.\u001b[39m_get_values_for_loc(\u001b[39mself\u001b[39m, loc, label)\n",
      "File \u001b[1;32mc:\\Users\\wampl\\anaconda3\\envs\\datasci\\lib\\site-packages\\pandas\\core\\indexes\\range.py:395\u001b[0m, in \u001b[0;36mRangeIndex.get_loc\u001b[1;34m(self, key, method, tolerance)\u001b[0m\n\u001b[0;32m    393\u001b[0m             \u001b[39mraise\u001b[39;00m \u001b[39mKeyError\u001b[39;00m(key) \u001b[39mfrom\u001b[39;00m \u001b[39merr\u001b[39;00m\n\u001b[0;32m    394\u001b[0m     \u001b[39mself\u001b[39m\u001b[39m.\u001b[39m_check_indexing_error(key)\n\u001b[1;32m--> 395\u001b[0m     \u001b[39mraise\u001b[39;00m \u001b[39mKeyError\u001b[39;00m(key)\n\u001b[0;32m    396\u001b[0m \u001b[39mreturn\u001b[39;00m \u001b[39msuper\u001b[39m()\u001b[39m.\u001b[39mget_loc(key, method\u001b[39m=\u001b[39mmethod, tolerance\u001b[39m=\u001b[39mtolerance)\n",
      "\u001b[1;31mKeyError\u001b[0m: 'player_name'"
     ]
    }
   ],
   "source": [
    "df3['xDP'] = df3.apply(lambda row: get_sum_gidp_probs(df3, row['player_name']))"
   ]
  },
  {
   "cell_type": "code",
   "execution_count": 22,
   "metadata": {},
   "outputs": [
    {
     "data": {
      "text/plain": [
       "16.0"
      ]
     },
     "execution_count": 22,
     "metadata": {},
     "output_type": "execute_result"
    }
   ],
   "source": [
    "get_sum_gidp_probs(df3, 'Webb, Logan')"
   ]
  },
  {
   "cell_type": "code",
   "execution_count": 23,
   "metadata": {},
   "outputs": [
    {
     "data": {
      "text/plain": [
       "14.0"
      ]
     },
     "execution_count": 23,
     "metadata": {},
     "output_type": "execute_result"
    }
   ],
   "source": [
    "get_sum_gidp_probs(df3, 'Stroman, Marcus')"
   ]
  },
  {
   "cell_type": "code",
   "execution_count": 24,
   "metadata": {},
   "outputs": [
    {
     "data": {
      "text/plain": [
       "13.0"
      ]
     },
     "execution_count": 24,
     "metadata": {},
     "output_type": "execute_result"
    }
   ],
   "source": [
    "get_sum_gidp_probs(df3, 'Elder, Bryce')"
   ]
  },
  {
   "cell_type": "code",
   "execution_count": 25,
   "metadata": {},
   "outputs": [
    {
     "data": {
      "text/plain": [
       "12.0"
      ]
     },
     "execution_count": 25,
     "metadata": {},
     "output_type": "execute_result"
    }
   ],
   "source": [
    "get_sum_gidp_probs(df3, 'Cobb, Alex')"
   ]
  },
  {
   "cell_type": "code",
   "execution_count": 26,
   "metadata": {},
   "outputs": [
    {
     "data": {
      "application/vnd.plotly.v1+json": {
       "config": {
        "plotlyServerURL": "https://plotly.com"
       },
       "data": [
        {
         "customdata": [
          [
           1.9,
           3.35
          ],
          [
           5.91,
           5.05
          ],
          [
           4.07,
           4.12
          ],
          [
           2.61,
           3.2
          ],
          [
           2.57,
           4.38
          ],
          [
           6.85,
           4.78
          ],
          [
           4.46,
           4.29
          ],
          [
           3.41,
           3.84
          ],
          [
           4.5,
           3.6
          ],
          [
           3.39,
           4.29
          ],
          [
           4.43,
           4.03
          ],
          [
           1.38,
           3.25
          ],
          [
           2.4,
           2.38
          ],
          [
           6.08,
           5.11
          ],
          [
           5.2,
           3.76
          ],
          [
           3.06,
           3.6
          ],
          [
           5.23,
           4.72
          ],
          [
           0.72,
           2.06
          ],
          [
           5.64,
           5.32
          ],
          [
           3.52,
           4.59
          ],
          [
           3.79,
           3.3
          ],
          [
           4.85,
           5.01
          ],
          [
           2.97,
           5.22
          ],
          [
           5.15,
           3.78
          ],
          [
           5.48,
           4.53
          ],
          [
           3.58,
           4.29
          ],
          [
           3.91,
           4.44
          ],
          [
           5.19,
           6.25
          ],
          [
           3.47,
           4.66
          ],
          [
           0.92,
           1.78
          ],
          [
           3.06,
           3.78
          ],
          [
           1.35,
           2.32
          ],
          [
           6.27,
           3.73
          ],
          [
           3.66,
           4.06
          ],
          [
           2.34,
           3.18
          ],
          [
           3.4,
           4.63
          ],
          [
           3.11,
           3.23
          ],
          [
           5.23,
           5.18
          ],
          [
           4.5,
           4.29
          ],
          [
           3.77,
           4.88
          ],
          [
           3.62,
           5.46
          ],
          [
           3.9,
           4.26
          ],
          [
           5.06,
           4.09
          ],
          [
           4.7,
           5.18
          ],
          [
           4.94,
           4.98
          ],
          [
           5.45,
           4.14
          ],
          [
           4.62,
           4.53
          ],
          [
           3.29,
           4.12
          ],
          [
           5.3,
           4.2
          ],
          [
           3.67,
           2.95
          ],
          [
           4.75,
           4.26
          ],
          [
           3.62,
           3.27
          ],
          [
           3.14,
           2.9
          ],
          [
           5.16,
           4
          ],
          [
           4.7,
           5.39
          ],
          [
           4.03,
           4.53
          ],
          [
           4.19,
           3.95
          ],
          [
           4.07,
           4.88
          ],
          [
           6.69,
           2.9
          ],
          [
           2.63,
           3.27
          ],
          [
           3.46,
           3.27
          ],
          [
           4.74,
           3.92
          ],
          [
           4.63,
           4.09
          ],
          [
           4.46,
           4.03
          ],
          [
           1.82,
           2.97
          ],
          [
           7.06,
           5.61
          ],
          [
           4.35,
           4.35
          ],
          [
           5.82,
           6.13
          ],
          [
           3.02,
           3.78
          ],
          [
           4.1,
           4.09
          ],
          [
           4.15,
           4
          ],
          [
           9,
           8.65
          ],
          [
           4.24,
           4.2
          ],
          [
           2.65,
           2.15
          ],
          [
           3.51,
           2.86
          ],
          [
           1.55,
           3.23
          ],
          [
           4.02,
           6.37
          ],
          [
           7.4,
           5.98
          ],
          [
           3.96,
           3.68
          ],
          [
           2.54,
           3.55
          ],
          [
           5.86,
           4.63
          ],
          [
           3.02,
           2.99
          ],
          [
           3.88,
           4.63
          ],
          [
           2.97,
           4.35
          ],
          [
           2.78,
           3.6
          ],
          [
           6.59,
           5.32
          ],
          [
           5.01,
           6.13
          ],
          [
           3.86,
           3.47
          ],
          [
           5.16,
           3.81
          ],
          [
           2,
           2.48
          ],
          [
           3.12,
           2.84
          ],
          [
           5.48,
           4.5
          ],
          [
           3.7,
           5.43
          ],
          [
           4.04,
           3.73
          ],
          [
           5.04,
           4.56
          ],
          [
           4.83,
           3.2
          ],
          [
           4.24,
           5.18
          ],
          [
           2.98,
           5.22
          ],
          [
           4.8,
           3.81
          ],
          [
           6.54,
           4.88
          ],
          [
           7.38,
           5.15
          ],
          [
           2.51,
           4.06
          ],
          [
           4.88,
           5.05
          ],
          [
           4.38,
           4.12
          ],
          [
           5.08,
           4.09
          ],
          [
           4.18,
           4.14
          ],
          [
           7.4,
           8.86
          ],
          [
           4.18,
           4.35
          ],
          [
           2.35,
           2.75
          ],
          [
           3.18,
           4.95
          ],
          [
           2.01,
           2.48
          ],
          [
           2.2,
           2.81
          ],
          [
           3.69,
           4.2
          ],
          [
           3.64,
           3.11
          ],
          [
           3.3,
           4.17
          ],
          [
           5.46,
           6.37
          ],
          [
           2.69,
           3.47
          ],
          [
           5.46,
           3.06
          ],
          [
           1.98,
           3.68
          ],
          [
           5.8,
           3.98
          ],
          [
           1.99,
           2.71
          ],
          [
           5.13,
           4.69
          ],
          [
           3.78,
           4.14
          ],
          [
           5.32,
           5.64
          ],
          [
           5.86,
           4.98
          ],
          [
           2.56,
           3.15
          ],
          [
           3.12,
           4.53
          ],
          [
           4.43,
           4.66
          ],
          [
           4.62,
           5.25
          ],
          [
           7.71,
           6.29
          ],
          [
           4.54,
           3.23
          ],
          [
           2.03,
           3.01
          ],
          [
           2.87,
           4.32
          ],
          [
           4.72,
           5.39
          ],
          [
           2.08,
           2.38
          ],
          [
           8.49,
           4.82
          ],
          [
           4.4,
           4.47
          ],
          [
           5.17,
           4.09
          ],
          [
           3.86,
           4.23
          ],
          [
           3.36,
           3.84
          ],
          [
           4,
           4.03
          ],
          [
           5.3,
           3.89
          ],
          [
           4.43,
           3.55
          ],
          [
           3.33,
           4.88
          ],
          [
           4.32,
           4.63
          ],
          [
           3.18,
           3.65
          ],
          [
           4.77,
           4.17
          ],
          [
           3,
           3.62
          ],
          [
           4.68,
           4.56
          ],
          [
           3.88,
           3.57
          ],
          [
           2.31,
           3.25
          ],
          [
           3.79,
           4.44
          ],
          [
           3.36,
           4.06
          ],
          [
           5.83,
           5.72
          ],
          [
           4.25,
           4.82
          ],
          [
           5.22,
           5.15
          ],
          [
           5.32,
           3.98
          ],
          [
           4.37,
           4.95
          ],
          [
           4.79,
           3.37
          ],
          [
           1.87,
           3.2
          ],
          [
           3.48,
           4.32
          ],
          [
           3.66,
           4.44
          ],
          [
           3.27,
           4.53
          ],
          [
           3.15,
           4.06
          ],
          [
           3.93,
           3.68
          ],
          [
           5.49,
           5.22
          ],
          [
           6.19,
           4.98
          ],
          [
           0.95,
           1.89
          ],
          [
           1.71,
           4.17
          ],
          [
           4.76,
           4.69
          ],
          [
           6.07,
           4.56
          ],
          [
           3.12,
           3.76
          ],
          [
           4.62,
           4.75
          ],
          [
           3.24,
           2.17
          ],
          [
           3.45,
           3.68
          ],
          [
           4.01,
           4.29
          ],
          [
           6.75,
           5.43
          ],
          [
           5.73,
           6.13
          ],
          [
           3.34,
           3.55
          ],
          [
           3.78,
           3.37
          ],
          [
           6.65,
           6.46
          ],
          [
           5.55,
           4.59
          ],
          [
           3.67,
           3.13
          ],
          [
           4.82,
           5.57
          ],
          [
           4.04,
           4.5
          ],
          [
           4.57,
           4.78
          ],
          [
           2.7,
           3.47
          ],
          [
           3.71,
           3.73
          ],
          [
           2.21,
           2.97
          ],
          [
           1.7,
           3.5
          ],
          [
           3.83,
           5.18
          ],
          [
           5.05,
           3.89
          ],
          [
           3.86,
           4.35
          ],
          [
           6.85,
           5.39
          ],
          [
           3.94,
           3.25
          ],
          [
           5.27,
           7.1
          ],
          [
           4.96,
           5.05
          ],
          [
           3.32,
           5.53
          ],
          [
           2.97,
           2.79
          ],
          [
           4.32,
           4.47
          ],
          [
           3.19,
           2.38
          ],
          [
           2.78,
           3.78
          ],
          [
           5.9,
           4.56
          ],
          [
           4.79,
           4.35
          ],
          [
           2.14,
           2.54
          ],
          [
           6.34,
           4.78
          ],
          [
           3.9,
           4.2
          ],
          [
           8.72,
           7.41
          ],
          [
           4.36,
           5.39
          ],
          [
           4.01,
           3.7
          ],
          [
           4.97,
           3.23
          ],
          [
           3.02,
           3.35
          ],
          [
           3.12,
           4.26
          ],
          [
           2.55,
           3.5
          ],
          [
           3.79,
           4.44
          ],
          [
           3.35,
           2.58
          ],
          [
           3.21,
           3.57
          ],
          [
           3.49,
           3.86
          ],
          [
           7.04,
           6.13
          ],
          [
           4.44,
           5.5
          ],
          [
           4.59,
           5.39
          ],
          [
           8.45,
           8.81
          ],
          [
           6.29,
           5.87
          ],
          [
           4.76,
           4.85
          ],
          [
           11.57,
           5.9
          ],
          [
           3.89,
           3.89
          ],
          [
           5.48,
           6.71
          ],
          [
           3.6,
           5.64
          ],
          [
           2.94,
           2.86
          ],
          [
           2.78,
           2.95
          ],
          [
           3.1,
           4.63
          ],
          [
           3.12,
           3.52
          ],
          [
           4.55,
           4.66
          ],
          [
           6.75,
           7.55
          ],
          [
           5.11,
           4.69
          ],
          [
           3.76,
           4.5
          ],
          [
           6.29,
           4.91
          ],
          [
           4.58,
           4.5
          ],
          [
           3.58,
           4.2
          ],
          [
           4.66,
           4.17
          ],
          [
           4.63,
           3.65
          ],
          [
           4.43,
           6.83
          ],
          [
           3.62,
           4.29
          ],
          [
           3.22,
           3.57
          ],
          [
           6.19,
           5.01
          ],
          [
           4.64,
           4.85
          ],
          [
           6.47,
           4.82
          ],
          [
           5.09,
           5.05
          ],
          [
           4.13,
           3.25
          ],
          [
           4.29,
           3.98
          ],
          [
           4.62,
           3.76
          ],
          [
           3.16,
           3.08
          ],
          [
           5.86,
           4.98
          ],
          [
           4.32,
           4.32
          ],
          [
           6.1,
           6.54
          ],
          [
           4.33,
           4.66
          ],
          [
           7.04,
           6.1
          ],
          [
           5.02,
           3.86
          ],
          [
           1.44,
           2.9
          ],
          [
           3.84,
           4.59
          ],
          [
           5.31,
           5.05
          ],
          [
           5.7,
           4.78
          ],
          [
           3,
           3.08
          ],
          [
           4.34,
           4.06
          ],
          [
           2.63,
           3.37
          ],
          [
           4.73,
           5.11
          ],
          [
           6.15,
           4.47
          ],
          [
           1.29,
           3.23
          ],
          [
           2.89,
           3.95
          ],
          [
           4.47,
           4.14
          ],
          [
           3.54,
           4.44
          ],
          [
           5.5,
           4.44
          ],
          [
           5.17,
           6.06
          ],
          [
           3.83,
           3.42
          ],
          [
           3.82,
           4.23
          ],
          [
           4.38,
           4.95
          ],
          [
           3.06,
           4.85
          ],
          [
           4.28,
           3.81
          ],
          [
           3.96,
           4.35
          ],
          [
           3.38,
           3.55
          ],
          [
           2.4,
           4.23
          ],
          [
           2.21,
           3.18
          ],
          [
           4.91,
           3.6
          ],
          [
           4.46,
           3.04
          ],
          [
           6.07,
           5.01
          ],
          [
           3.37,
           4.12
          ],
          [
           2.03,
           3.32
          ],
          [
           4.91,
           3.55
          ],
          [
           3.57,
           3.2
          ],
          [
           2.34,
           4.09
          ],
          [
           3.57,
           4.63
          ],
          [
           7.79,
           8.18
          ],
          [
           1.8,
           3.84
          ],
          [
           3.25,
           3.11
          ],
          [
           2.82,
           2.95
          ],
          [
           3.19,
           2.77
          ],
          [
           3,
           3.15
          ],
          [
           4.97,
           5.01
          ],
          [
           1.44,
           3.08
          ],
          [
           5.61,
           5.61
          ],
          [
           4.25,
           3.68
          ],
          [
           2.76,
           3.52
          ],
          [
           3.43,
           3.95
          ],
          [
           3.25,
           3.35
          ],
          [
           4.53,
           4.63
          ],
          [
           6.26,
           4.88
          ],
          [
           4.86,
           7.79
          ],
          [
           3.48,
           3.4
          ],
          [
           4.6,
           4.56
          ],
          [
           3.45,
           3.92
          ],
          [
           4.78,
           3.73
          ],
          [
           3.46,
           3.18
          ],
          [
           1.68,
           3.13
          ],
          [
           4.75,
           3.42
          ],
          [
           3.29,
           3.62
          ],
          [
           4.46,
           3.89
          ],
          [
           2.31,
           4.78
          ],
          [
           3.92,
           2.97
          ],
          [
           6.12,
           4.95
          ],
          [
           8.81,
           6.5
          ],
          [
           2.29,
           3.42
          ],
          [
           4.11,
           4.23
          ],
          [
           7.59,
           5.32
          ],
          [
           2.19,
           2.86
          ],
          [
           3.11,
           3.55
          ],
          [
           3.82,
           4.14
          ],
          [
           4.45,
           3.08
          ],
          [
           4.81,
           4.44
          ],
          [
           2.36,
           3.5
          ],
          [
           4.91,
           5.57
          ],
          [
           6.45,
           6.02
          ],
          [
           5.22,
           3.98
          ],
          [
           2.5,
           3.47
          ],
          [
           3.08,
           4
          ],
          [
           4.25,
           4.44
          ],
          [
           6.33,
           6.75
          ],
          [
           2.62,
           2.84
          ],
          [
           4.53,
           4.14
          ],
          [
           3.12,
           3.15
          ],
          [
           2.05,
           2.99
          ],
          [
           2.95,
           3.45
          ],
          [
           6.91,
           5.72
          ],
          [
           5.75,
           5.79
          ],
          [
           2.94,
           3.06
          ],
          [
           2.25,
           2.06
          ],
          [
           2.83,
           3.18
          ],
          [
           5.03,
           4.59
          ],
          [
           5.89,
           5.35
          ],
          [
           4.06,
           3.06
          ],
          [
           4.58,
           3.6
          ],
          [
           3.63,
           3.4
          ],
          [
           4.13,
           4.26
          ],
          [
           2.68,
           3.04
          ],
          [
           2.37,
           4.03
          ],
          [
           4.54,
           2.64
          ],
          [
           4.2,
           3.65
          ],
          [
           4.33,
           4.26
          ],
          [
           3.41,
           4.03
          ],
          [
           2.81,
           2.46
          ],
          [
           7.23,
           5.35
          ],
          [
           4.19,
           4.56
          ],
          [
           3.17,
           3.62
          ],
          [
           6.46,
           6.37
          ],
          [
           3,
           1.89
          ],
          [
           6.75,
           4.03
          ],
          [
           4.7,
           4.26
          ],
          [
           5,
           4.95
          ],
          [
           4.44,
           3.86
          ],
          [
           3.07,
           4.09
          ],
          [
           5.55,
           5.15
          ],
          [
           4.15,
           4.47
          ],
          [
           2.68,
           3.04
          ],
          [
           4.6,
           4.23
          ],
          [
           2.61,
           3.86
          ],
          [
           2.08,
           4.03
          ],
          [
           5.52,
           5.46
          ],
          [
           4.42,
           2.84
          ],
          [
           4.01,
           3.2
          ],
          [
           4.5,
           4.17
          ],
          [
           2.87,
           3.27
          ],
          [
           3.25,
           4.63
          ],
          [
           4.02,
           3.89
          ],
          [
           0.7,
           2.46
          ],
          [
           3.65,
           3.5
          ],
          [
           4.47,
           3.95
          ],
          [
           3.73,
           3.08
          ],
          [
           5.77,
           5.35
          ],
          [
           3.51,
           3.95
          ],
          [
           4.54,
           4.03
          ],
          [
           9.62,
           7.1
          ],
          [
           2.51,
           2.38
          ],
          [
           4.22,
           4.47
          ],
          [
           3.59,
           3.04
          ],
          [
           7.16,
           5.64
          ],
          [
           2.98,
           3.92
          ],
          [
           5.75,
           5.22
          ],
          [
           3.75,
           3.89
          ],
          [
           4.22,
           4.63
          ],
          [
           4.7,
           4.06
          ],
          [
           3.25,
           3.55
          ],
          [
           2.7,
           2.77
          ],
          [
           4.06,
           4.78
          ],
          [
           7.26,
           6.06
          ],
          [
           5.18,
           6.41
          ],
          [
           5.2,
           4.85
          ],
          [
           4.98,
           4.14
          ],
          [
           3.29,
           4.06
          ],
          [
           5.3,
           5.08
          ],
          [
           2.04,
           3.4
          ],
          [
           3.86,
           4.06
          ],
          [
           4.69,
           3.84
          ],
          [
           3.24,
           3.37
          ],
          [
           6,
           4.26
          ],
          [
           2.73,
           2.88
          ],
          [
           4.94,
           4.23
          ],
          [
           2.84,
           4.17
          ],
          [
           7.31,
           7.69
          ],
          [
           6.38,
           5.01
          ],
          [
           2.7,
           2.56
          ],
          [
           4.06,
           4.12
          ],
          [
           4.56,
           4.14
          ],
          [
           7.12,
           5.75
          ],
          [
           6.25,
           4.75
          ],
          [
           7.2,
           5.98
          ],
          [
           3.58,
           3.5
          ],
          [
           3.48,
           3.52
          ],
          [
           3.29,
           5.64
          ],
          [
           3.65,
           3.95
          ],
          [
           6.78,
           5.83
          ],
          [
           4.75,
           5.57
          ],
          [
           3.88,
           3.27
          ],
          [
           5.48,
           4.26
          ],
          [
           5.23,
           4.59
          ],
          [
           1.56,
           2.84
          ],
          [
           3.35,
           4.72
          ],
          [
           4.47,
           5.15
          ],
          [
           4.6,
           5.57
          ],
          [
           2.77,
           3.5
          ],
          [
           2.57,
           3.11
          ],
          [
           2.93,
           3.84
          ],
          [
           4.09,
           4.59
          ],
          [
           6.08,
           5.05
          ],
          [
           4.91,
           3.2
          ],
          [
           4.75,
           5.25
          ],
          [
           5.67,
           6.5
          ],
          [
           4.7,
           4.56
          ],
          [
           3.52,
           4.56
          ],
          [
           2.25,
           3.5
          ],
          [
           2.67,
           1.86
          ]
         ],
         "hovertemplate": "<b>%{hovertext}</b><br><br>xERA_adj=%{x}<br>sxERA_adj=%{y}<br>ERA=%{customdata[0]}<br>xERA=%{customdata[1]}<br>GB%=%{marker.color}<extra></extra>",
         "hovertext": [
          "Andrew Abbott",
          "Cory Abbott",
          "Albert Abreu",
          "Bryan Abreu",
          "Jason Adam",
          "Keegan Akin",
          "Sandy Alcantara",
          "Scott Alexander",
          "Tyler Alexander",
          "Logan Allen",
          "Yency Almonte",
          "Jose Alvarado",
          "Adbert Alzolay",
          "Chase Anderson",
          "Grant Anderson",
          "Nick Anderson",
          "Tyler Anderson",
          "Shawn Armstrong",
          "Graham Ashcraft",
          "Javier Assad",
          "Bryan Baker",
          "Tanner Banks",
          "Daniel Bard",
          "Scott Barlow",
          "Matt Barnes",
          "Jaime Barria",
          "Chris Bassitt",
          "Peyton Battenfield",
          "Mike Baumann",
          "Felix Bautista",
          "Tristan Beck",
          "David Bednar",
          "Jalen Beeks",
          "Brayan Bello",
          "Brennan Bernardino",
          "Jose Berrios",
          "Tanner Bibee",
          "Phil Bickford",
          "Osvaldo Bido",
          "Shane Bieber",
          "Brandon Bielak",
          "Jake Bird",
          "Paul Blackburn",
          "Ronel Blanco",
          "Richard Bleier",
          "Matthew Boyd",
          "Cody Bradford",
          "Kyle Bradish",
          "Taj Bradley",
          "Matt Brash",
          "Ryan Brasier",
          "Huascar Brazoban",
          "John Brebbia",
          "Jeff Brigham",
          "Jhony Brito",
          "Connor Brogdon",
          "Hunter Brown",
          "Justin Bruihl",
          "Aaron Bummer",
          "Brock Burke",
          "Corbin Burnes",
          "Edward Cabrera",
          "Genesis Cabrera",
          "Griffin Canning",
          "Yennier Cano",
          "Matt Carasiti",
          "Drew Carlton",
          "Carlos Carrasco",
          "Luis Castillo",
          "Miguel Castro",
          "Dylan Cease",
          "Luis Cessa",
          "Andrew Chafin",
          "Aroldis Chapman",
          "JT Chargois",
          "Jesse Chavez",
          "Yonny Chirinos",
          "Adam Cimber",
          "Jose Cisnero",
          "Aaron Civale",
          "Taylor Clarke",
          "Emmanuel Clase",
          "Mike Clevinger",
          "Alex Cobb",
          "Gerrit Cole",
          "Roansy Contreras",
          "Patrick Corbin",
          "Jimmy Cordero",
          "Nestor Cortes",
          "Tom Cosgrove",
          "Danny Coulombe",
          "Dylan Covey",
          "Austin Cox",
          "Kutter Crawford",
          "Cooper Criswell",
          "Fernando Cruz",
          "Jose Cuas",
          "Xzavion Curry",
          "Yu Darvish",
          "Tucker Davidson",
          "Zach Davies",
          "Enyel De Los Santos",
          "Anthony DeSclafani",
          "Reid Detmers",
          "Chris Devenski",
          "Jake Diekman",
          "Dylan Dodd",
          "Seranthony Dominguez",
          "Camilo Doval",
          "Dane Dunning",
          "Jhoan Duran",
          "Alexis Diaz",
          "Carl Edwards Jr.",
          "Zach Eflin",
          "Bryce Elder",
          "Mason Englert",
          "Nathan Eovaldi",
          "Lucas Erceg",
          "Carlos Estevez",
          "Alex Faedo",
          "Pete Fairbanks",
          "Bailey Falter",
          "Buck Farmer",
          "Calvin Faucher",
          "Ryan Feltner",
          "Caleb Ferguson",
          "Kyle Finnegan",
          "Jack Flaherty",
          "Josh Fleming",
          "Chris Flexen",
          "Dylan Floro",
          "Jason Foley",
          "J.P. France",
          "Kyle Freeland",
          "Max Fried",
          "Shintaro Fujinami",
          "Michael Fulmer",
          "Hunter Gaddis",
          "Giovanny Gallegos",
          "Zac Gallen",
          "Luis Garcia",
          "Luis Garcia",
          "Yimi Garcia",
          "Amir Garrett",
          "Braxton Garrett",
          "Kevin Gausman",
          "Domingo German",
          "Ian Gibaut",
          "Kyle Gibson",
          "Logan Gilbert",
          "Kevin Ginkel",
          "Lucas Giolito",
          "Tyler Glasnow",
          "Austin Gomber",
          "Tony Gonsolin",
          "Marco Gonzales",
          "Victor Gonzalez",
          "MacKenzie Gore",
          "Trevor Gott",
          "Brusdar Graterol",
          "Kendall Graveman",
          "Jon Gray",
          "Josiah Gray",
          "Sonny Gray",
          "Hunter Greene",
          "Zack Greinke",
          "Michael Grove",
          "Josh Hader",
          "Ian Hamilton",
          "Brad Hand",
          "Hogan Harris",
          "Hunter Harvey",
          "Andrew Heaney",
          "Ryan Helsley",
          "Kyle Hendricks",
          "Tommy Henry",
          "Sam Hentges",
          "Kevin Herget",
          "Jose Hernandez",
          "Carlos Hernandez",
          "Jonathan Hernandez",
          "Tim Herrin",
          "Jordan Hicks",
          "Rich Hill",
          "Tim Hill",
          "Bryan Hoeing",
          "Jeff Hoffman",
          "Colin Holderman",
          "Clay Holmes",
          "Tyler Holton",
          "Brent Honeywell",
          "Tanner Houck",
          "Adrian Houser",
          "Tommy Hunter",
          "Raisel Iglesias",
          "Cole Irvin",
          "Jake Irvin",
          "Drey Jameson",
          "Kenley Jansen",
          "Cristian Javier",
          "Griffin Jax",
          "Joe Jimenez",
          "Pierce Johnson",
          "Jakob Junis",
          "Tommy Kahnle",
          "James Kaprielian",
          "James Karinchak",
          "Karl Kauffmann",
          "Brad Keller",
          "Mitch Keller",
          "Joe Kelly",
          "Kevin Kelly",
          "Merrill Kelly",
          "Clayton Kershaw",
          "Yusei Kikuchi",
          "Craig Kimbrel",
          "Michael King",
          "George Kirby",
          "Corey Kluber",
          "Michael Kopech",
          "Dean Kremer",
          "Chad Kuhl",
          "Jimmy Lambert",
          "Peter Lambert",
          "Dinelson Lamet",
          "Alex Lange",
          "Eric Lauer",
          "Derek Law",
          "Justin Lawrence",
          "Jose Leclerc",
          "Dylan Lee",
          "Mark Leiter Jr.",
          "Dominic Leone",
          "Matthew Liberatore",
          "Zack Littell",
          "Ben Lively",
          "Nick Lodolo",
          "Sammy Long",
          "Michael Lorenzen",
          "Aaron Loup",
          "Richard Lovelady",
          "Joey Lucchesi",
          "Seth Lugo",
          "Jesus Luzardo",
          "Jordan Lyles",
          "Daniel Lynch",
          "Lance Lynn",
          "Jorge Lopez",
          "Pablo Lopez",
          "Reynaldo Lopez",
          "Kenta Maeda",
          "Tyler Mahle",
          "Sean Manaea",
          "Matt Manning",
          "Alek Manoah",
          "Ron Marinaccio",
          "Alec Marsh",
          "Yunior Marte",
          "Chris Martin",
          "Nick Martinez",
          "Seth Martinez",
          "Adrian Martinez",
          "Phil Maton",
          "Steven Matz",
          "Dustin May",
          "Trevor May",
          "Mike Mayers",
          "Tim Mayza",
          "Shane McClanahan",
          "Scott McGough",
          "Collin McHugh",
          "Luis Medina",
          "Tylor Megill",
          "Julian Merryweather",
          "Keynan Middleton",
          "Miles Mikolas",
          "Wade Miley",
          "Bobby Miller",
          "Bryce Miller",
          "Mason Miller",
          "Shelby Miller",
          "Hoby Milner",
          "A.J. Minter",
          "Sam Moll",
          "Rafael Montero",
          "Jordan Montgomery",
          "Matt Moore",
          "Jovani Moran",
          "Dauri Moreta",
          "Eli Morgan",
          "Charlie Morton",
          "Kyle Muller",
          "Chris Murphy",
          "Joe Musgrove",
          "Andres Munoz",
          "Andrew Nardi",
          "Kyle Nelson",
          "Ryne Nelson",
          "Hector Neris",
          "Stephen Nogosek",
          "Aaron Nola",
          "Bailey Ober",
          "Shohei Ohtani",
          "Steven Okert",
          "Reese Olson",
          "Kaleb Ort",
          "Luis Ortiz",
          "Adam Ottavino",
          "Johan Oviedo",
          "Emilio Pagan",
          "Andre Pallante",
          "James Paxton",
          "Joel Payamps",
          "Nate Pearson",
          "Elvis Peguero",
          "Freddy Peralta",
          "Wandy Peralta",
          "Angel Perdomo",
          "David Peterson",
          "Brandon Pfaadt",
          "Evan Phillips",
          "Nick Pivetta",
          "Zach Plesac",
          "Colin Poche",
          "Ryan Pressly",
          "Austin Pruitt",
          "A.J. Puk",
          "Cionel Perez",
          "Eury Perez",
          "Martin Perez",
          "Cal Quantrill",
          "Cole Ragans",
          "Brooks Raley",
          "Nick Ramirez",
          "Yohan Ramirez",
          "Erasmo Ramirez",
          "Drew Rasmussen",
          "Colin Rea",
          "Trevor Richards",
          "David Robertson",
          "Eduardo Rodriguez",
          "Grayson Rodriguez",
          "Carlos Rodon",
          "Taylor Rogers",
          "Tyler Rogers",
          "Jordan Romano",
          "Michael Rucker",
          "Jose Ruiz",
          "Joe Ryan",
          "Chris Sale",
          "Nick Sandlin",
          "Patrick Sandoval",
          "Gregory Santos",
          "Tayler Saucedo",
          "Josh Sborz",
          "Max Scherzer",
          "Clarke Schmidt",
          "Jesse Scholtens",
          "Tanner Scott",
          "Connor Seabold",
          "JP Sears",
          "Kodai Senga",
          "Luis Severino",
          "Paul Sewald",
          "Emmet Sheehan",
          "Chasen Shreve",
          "Jared Shuster",
          "Chase Silseth",
          "Lucas Sims",
          "Brady Singer",
          "Drew Smith",
          "Will Smith",
          "Drew Smyly",
          "Blake Snell",
          "George Soriano",
          "Mike Soroka",
          "Gregory Soto",
          "Gabe Speier",
          "Ryne Stanek",
          "Justin Steele",
          "Trevor Stephan",
          "Robert Stephenson",
          "Brock Stewart",
          "Matt Strahm",
          "Chris Stratton",
          "Spencer Strider",
          "Ross Stripling",
          "Marcus Stroman",
          "Peter Strzelecki",
          "Jose Suarez",
          "Brent Suter",
          "Ranger Suarez",
          "Erik Swanson",
          "Noah Syndergaard",
          "Cristopher Sanchez",
          "Jameson Taillon",
          "Julio Teheran",
          "Keegan Thompson",
          "Mason Thompson",
          "Michael Tonkin",
          "Justin Topa",
          "Touki Toussaint",
          "Spencer Turnbull",
          "Duane Underwood Jr.",
          "Jose Urquidy",
          "Julio Urias",
          "Framber Valdez",
          "Louie Varland",
          "Andrew Vasquez",
          "Vince Velasquez",
          "Drew VerHagen",
          "Justin Verlander",
          "Alex Vesia",
          "Will Vest",
          "Austin Voth",
          "Michael Wacha",
          "Adam Wainwright",
          "Ken Waldichuk",
          "Ryan Walker",
          "Taijuan Walker",
          "Andrew Wantz",
          "Thad Ward",
          "Ryan Weathers",
          "Luke Weaver",
          "Jacob Webb",
          "Logan Webb",
          "Jordan Weems",
          "Tyler Wells",
          "Joey Wentz",
          "Hayden Wesneski",
          "Zack Wheeler",
          "Brendan White",
          "Garrett Whitlock",
          "Devin Williams",
          "Gavin Williams",
          "Trevor Williams",
          "Brandon Williamson",
          "Bryse Wilson",
          "Steven Wilson",
          "Josh Winckowski",
          "Keaton Winn",
          "Nick Wittgren",
          "Bryan Woo",
          "Alex Wood",
          "Jake Woodford",
          "Ryan Yarbrough",
          "Kirby Yates",
          "Alex Young",
          "Jacob deGrom"
         ],
         "legendgroup": "",
         "marker": {
          "color": [
           0.253,
           0.446,
           0.469,
           0.363,
           0.429,
           0.33799999999999997,
           0.501,
           0.6629999999999999,
           0.32,
           0.43,
           0.419,
           0.552,
           0.45899999999999996,
           0.36700000000000005,
           0.439,
           0.41700000000000004,
           0.321,
           0.381,
           0.486,
           0.47700000000000004,
           0.337,
           0.318,
           0.41100000000000003,
           0.474,
           0.493,
           0.40299999999999997,
           0.419,
           0.43,
           0.43,
           0.423,
           0.43,
           0.36700000000000005,
           0.435,
           0.562,
           0.552,
           0.44799999999999995,
           0.37,
           0.3,
           0.34,
           0.465,
           0.495,
           0.5479999999999999,
           0.40399999999999997,
           0.32799999999999996,
           0.5429999999999999,
           0.38799999999999996,
           0.26899999999999996,
           0.45799999999999996,
           0.35200000000000004,
           0.489,
           0.39,
           0.504,
           0.271,
           0.397,
           0.465,
           0.37200000000000005,
           0.545,
           0.479,
           0.542,
           0.35700000000000004,
           0.431,
           0.547,
           0.38,
           0.451,
           0.607,
           0.573,
           0.439,
           0.491,
           0.405,
           0.39,
           0.377,
           0.38299999999999995,
           0.358,
           0.484,
           0.5920000000000001,
           0.485,
           0.43200000000000005,
           0.479,
           0.452,
           0.396,
           0.331,
           0.58,
           0.305,
           0.574,
           0.377,
           0.377,
           0.446,
           0.5579999999999999,
           0.259,
           0.426,
           0.44,
           0.526,
           0.33299999999999996,
           0.38299999999999995,
           0.446,
           0.381,
           0.40700000000000003,
           0.308,
           0.433,
           0.47100000000000003,
           0.457,
           0.418,
           0.415,
           0.32799999999999996,
           0.46299999999999997,
           0.506,
           0.366,
           0.46399999999999997,
           0.54,
           0.44799999999999995,
           0.667,
           0.402,
           0.46,
           0.517,
           0.542,
           0.376,
           0.518,
           0.514,
           0.301,
           0.35200000000000004,
           0.5,
           0.406,
           0.314,
           0.514,
           0.45299999999999996,
           0.531,
           0.45299999999999996,
           0.446,
           0.589,
           0.42200000000000004,
           0.551,
           0.589,
           0.447,
           0.39,
           0.609,
           0.39899999999999997,
           0.377,
           0.273,
           0.331,
           0.379,
           0.264,
           0.574,
           0.45899999999999996,
           0.475,
           0.466,
           0.426,
           0.379,
           0.37200000000000005,
           0.47700000000000004,
           0.41600000000000004,
           0.562,
           0.349,
           0.521,
           0.433,
           0.389,
           0.406,
           0.5,
           0.40399999999999997,
           0.387,
           0.611,
           0.39799999999999996,
           0.401,
           0.414,
           0.49,
           0.326,
           0.43700000000000006,
           0.41,
           0.4,
           0.506,
           0.37,
           0.4,
           0.436,
           0.365,
           0.431,
           0.45899999999999996,
           0.368,
           0.61,
           0.364,
           0.36700000000000005,
           0.32,
           0.419,
           0.42200000000000004,
           0.583,
           0.374,
           0.618,
           0.457,
           0.534,
           0.515,
           0.616,
           0.461,
           0.48100000000000004,
           0.49700000000000005,
           0.473,
           0.46799999999999997,
           0.46799999999999997,
           0.35,
           0.41,
           0.45799999999999996,
           0.276,
           0.263,
           0.579,
           0.258,
           0.29600000000000004,
           0.415,
           0.48100000000000004,
           0.304,
           0.276,
           0.42100000000000004,
           0.575,
           0.44799999999999995,
           0.562,
           0.49200000000000005,
           0.452,
           0.47200000000000003,
           0.38,
           0.349,
           0.475,
           0.441,
           0.302,
           0.35700000000000004,
           0.373,
           0.306,
           0.324,
           0.455,
           0.43799999999999994,
           0.474,
           0.254,
           0.425,
           0.5379999999999999,
           0.244,
           0.396,
           0.505,
           0.32899999999999996,
           0.42100000000000004,
           0.442,
           0.39399999999999996,
           0.46,
           0.465,
           0.42200000000000004,
           0.451,
           0.475,
           0.39399999999999996,
           0.461,
           0.42200000000000004,
           0.327,
           0.38799999999999996,
           0.381,
           0.486,
           0.402,
           0.379,
           0.33899999999999997,
           0.377,
           0.36700000000000005,
           0.358,
           0.369,
           0.4,
           0.27,
           0.522,
           0.529,
           0.546,
           0.368,
           0.35600000000000004,
           0.41200000000000003,
           0.45799999999999996,
           0.452,
           0.297,
           0.42700000000000005,
           0.5479999999999999,
           0.434,
           0.5,
           0.455,
           0.44799999999999995,
           0.435,
           0.374,
           0.523,
           0.38299999999999995,
           0.405,
           0.455,
           0.317,
           0.20800000000000002,
           0.368,
           0.532,
           0.295,
           0.516,
           0.419,
           0.452,
           0.35100000000000003,
           0.434,
           0.35,
           0.41100000000000003,
           0.47100000000000003,
           0.478,
           0.462,
           0.445,
           0.647,
           0.414,
           0.365,
           0.377,
           0.36700000000000005,
           0.377,
           0.415,
           0.324,
           0.452,
           0.247,
           0.395,
           0.3,
           0.478,
           0.564,
           0.47100000000000003,
           0.37200000000000005,
           0.779,
           0.38299999999999995,
           0.442,
           0.317,
           0.509,
           0.39899999999999997,
           0.637,
           0.359,
           0.5539999999999999,
           0.28,
           0.444,
           0.34,
           0.512,
           0.33299999999999996,
           0.5820000000000001,
           0.379,
           0.41100000000000003,
           0.532,
           0.32799999999999996,
           0.405,
           0.41100000000000003,
           0.415,
           0.38299999999999995,
           0.494,
           0.604,
           0.431,
           0.526,
           0.442,
           0.304,
           0.43,
           0.405,
           0.426,
           0.387,
           0.37,
           0.503,
           0.39799999999999996,
           0.518,
           0.39,
           0.318,
           0.381,
           0.462,
           0.51,
           0.5329999999999999,
           0.613,
           0.535,
           0.312,
           0.428,
           0.37200000000000005,
           0.5,
           0.32,
           0.272,
           0.47200000000000003,
           0.37799999999999995,
           0.289,
           0.341,
           0.474,
           0.35200000000000004,
           0.5820000000000001,
           0.273,
           0.47700000000000004,
           0.3,
           0.261,
           0.34299999999999997,
           0.44299999999999995,
           0.466,
           0.467,
           0.47100000000000003,
           0.581,
           0.327,
           0.5,
           0.423,
           0.324,
           0.353,
           0.336,
           0.41700000000000004,
           0.327,
           0.447,
           0.581,
           0.39,
           0.32899999999999996,
           0.415,
           0.511,
           0.381,
           0.396,
           0.545,
           0.363,
           0.431,
           0.4,
           0.474,
           0.39299999999999996,
           0.607,
           0.588,
           0.485,
           0.44,
           0.326,
           0.36,
           0.535,
           0.426,
           0.434,
           0.303,
           0.439,
           0.379,
           0.33299999999999996,
           0.449,
           0.344,
           0.337,
           0.353,
           0.401,
           0.467,
           0.467,
           0.375,
           0.435,
           0.401,
           0.35600000000000004,
           0.35600000000000004,
           0.599,
           0.34299999999999997,
           0.315,
           0.379,
           0.39,
           0.396,
           0.569,
           0.444,
           0.488,
           0.34299999999999997,
           0.387,
           0.345,
           0.336,
           0.304,
           0.5329999999999999,
           0.585,
           0.418,
           0.402,
           0.436,
           0.5329999999999999,
           0.39899999999999997,
           0.32899999999999996,
           0.5,
           0.379
          ],
          "coloraxis": "coloraxis",
          "symbol": "circle"
         },
         "mode": "markers",
         "name": "",
         "orientation": "v",
         "showlegend": false,
         "type": "scatter",
         "x": [
          3.78,
          4.54,
          4.16,
          3.29,
          4.41,
          4.86,
          4.15,
          3.51,
          3.66,
          4.52,
          4.52,
          3.45,
          2.42,
          5.03,
          3.66,
          3.63,
          4.92,
          2.12,
          5.03,
          4.42,
          3.48,
          4.87,
          6.21,
          3.67,
          4.41,
          4.52,
          4.34,
          6.09,
          4.56,
          1.81,
          3.36,
          2.38,
          3.8,
          4.05,
          3.19,
          4.53,
          3.71,
          5.08,
          4.65,
          4.81,
          5.13,
          4.19,
          4.07,
          5.09,
          4.29,
          4.2,
          4.46,
          4.07,
          4.43,
          3.01,
          4.17,
          3.58,
          3.11,
          4.08,
          5.48,
          4.67,
          3.89,
          4.76,
          2.9,
          3.89,
          3.3,
          4.04,
          3.97,
          4.02,
          2.94,
          5.29,
          4.24,
          6.24,
          3.74,
          4.13,
          4.3,
          7.79,
          4.21,
          2.15,
          3.01,
          3.28,
          5.4,
          5.56,
          3.93,
          3.68,
          4.76,
          2.79,
          4.7,
          4.31,
          3.68,
          5.36,
          5.94,
          3.44,
          3.89,
          2.63,
          2.68,
          4.21,
          5.09,
          3.51,
          4.54,
          3.43,
          5.2,
          5.29,
          3.66,
          4.81,
          5.11,
          3.81,
          4.95,
          4.18,
          4.1,
          4.28,
          7.92,
          4.32,
          2.8,
          4.49,
          3.02,
          2.82,
          4.14,
          3.04,
          3.86,
          6.12,
          3.43,
          3.15,
          3.86,
          4.09,
          2.72,
          4.68,
          4.14,
          6.08,
          4.92,
          3.21,
          4.19,
          4.58,
          4.97,
          6.47,
          3.31,
          2.97,
          4.32,
          5.36,
          2.3,
          4.82,
          4.29,
          4.2,
          4.04,
          3.97,
          4.27,
          3.91,
          3.76,
          4.9,
          4.43,
          3.74,
          4.34,
          3.82,
          4.32,
          3.63,
          3.16,
          4.8,
          4.06,
          5.47,
          4.92,
          5.07,
          3.89,
          5,
          3.32,
          3.01,
          4.34,
          4.49,
          4.55,
          3.83,
          3.79,
          5.07,
          5.21,
          2.01,
          3.79,
          4.67,
          4.94,
          3.78,
          4.63,
          2.43,
          3.93,
          4.41,
          5.15,
          5.93,
          3.41,
          3.55,
          6.11,
          4.62,
          3.24,
          5.45,
          4.24,
          4.66,
          3.41,
          3.46,
          2.9,
          3.57,
          4.99,
          3.85,
          4.45,
          5.04,
          2.92,
          6.76,
          5.04,
          5.32,
          2.92,
          4.86,
          2.47,
          3.88,
          4.58,
          4.27,
          2.73,
          4.83,
          4.38,
          6.83,
          5.19,
          3.97,
          3.18,
          3.5,
          4.29,
          3.52,
          4.43,
          3,
          3.51,
          3.79,
          6.03,
          5.59,
          5.42,
          8.39,
          5.77,
          4.46,
          5.69,
          4.02,
          6.61,
          5.49,
          2.77,
          3.23,
          4.76,
          3.47,
          4.95,
          7.04,
          4.29,
          4.89,
          5,
          4.37,
          4.14,
          4.47,
          3.57,
          6.45,
          4.12,
          3.66,
          4.96,
          4.78,
          4.83,
          4.78,
          3.25,
          3.85,
          3.79,
          3.15,
          4.72,
          5.01,
          6.23,
          4.51,
          5.88,
          4.12,
          2.83,
          4.35,
          5.04,
          4.76,
          3.31,
          3.87,
          3.34,
          5.08,
          4.44,
          3.23,
          3.98,
          3.74,
          4.54,
          4.17,
          5.85,
          3.52,
          4.12,
          4.86,
          4.69,
          3.53,
          4.63,
          3.77,
          4.6,
          3.4,
          3.59,
          2.86,
          4.85,
          4.24,
          3.22,
          3.71,
          3.6,
          4.46,
          4.75,
          7.39,
          3.59,
          3.07,
          2.57,
          2.76,
          3.21,
          4.94,
          3.15,
          5.55,
          3.81,
          3.76,
          3.83,
          3.56,
          4.57,
          4.94,
          7.11,
          3.51,
          4.52,
          4.05,
          3.48,
          3.24,
          3.01,
          3.9,
          3.93,
          3.87,
          4.87,
          3.02,
          4.62,
          5.24,
          3.4,
          4.07,
          4.99,
          3.07,
          3.33,
          3.85,
          3.15,
          4.26,
          3.61,
          5.42,
          5.8,
          3.58,
          3.52,
          3.72,
          4.22,
          5.55,
          2.71,
          4.15,
          3.13,
          3.35,
          3.37,
          5.11,
          5.59,
          3.49,
          2.04,
          3.21,
          4.36,
          5.28,
          3.36,
          3.55,
          3.7,
          4.24,
          3.03,
          4.01,
          2.39,
          3.63,
          4.21,
          3.84,
          2.54,
          5.21,
          4.67,
          3.74,
          6.2,
          2.01,
          3.8,
          4.17,
          4.95,
          3.77,
          4.39,
          4.77,
          4.35,
          2.97,
          4.22,
          3.94,
          3.91,
          5.31,
          3.04,
          3.22,
          4.57,
          3.29,
          4.44,
          3.85,
          2.61,
          3.58,
          4.01,
          3.28,
          4.99,
          3.88,
          4.08,
          6.7,
          2.61,
          4.38,
          3.04,
          5.85,
          3.62,
          5.1,
          4.45,
          4.54,
          4.04,
          3.56,
          2.61,
          4.49,
          5.92,
          5.98,
          4.98,
          4.02,
          3.79,
          5.01,
          3.43,
          4.18,
          3.72,
          3.3,
          3.93,
          2.88,
          4.38,
          4.21,
          7.03,
          5.04,
          2.33,
          4.06,
          4.23,
          5.63,
          4.68,
          5.69,
          4.26,
          3.43,
          5.35,
          4.35,
          5.36,
          5.48,
          3.38,
          4.29,
          4.46,
          3.02,
          4.62,
          5.09,
          5.6,
          3.98,
          3.45,
          3.61,
          4.27,
          4.7,
          3.62,
          4.96,
          5.99,
          4.75,
          4.43,
          3.74,
          1.85
         ],
         "xaxis": "x",
         "y": [
          3.73,
          4.57,
          4.35,
          3.3,
          3.98,
          5.25,
          4.01,
          2.98,
          4.1,
          4.44,
          4.65,
          3.28,
          2.3,
          5.69,
          3.8,
          3.96,
          4.84,
          2.4,
          5.04,
          4.54,
          3.22,
          4.14,
          5.47,
          3.68,
          5.11,
          4.78,
          4.53,
          5.01,
          4.21,
          1.83,
          3.5,
          2.05,
          4.84,
          4.19,
          3.47,
          4.17,
          3.57,
          5.13,
          4.89,
          4.75,
          5.21,
          4.58,
          3.96,
          4.94,
          4.9,
          4.23,
          4.43,
          4.07,
          4.51,
          3.1,
          4.16,
          3.69,
          2.94,
          3.77,
          5.32,
          4.85,
          3.7,
          4.38,
          3.46,
          3.72,
          3.33,
          4.12,
          4.03,
          3.95,
          3.17,
          4.93,
          4.11,
          5.74,
          3.72,
          4.67,
          4.49,
          7.78,
          3.92,
          2.25,
          3.17,
          3.07,
          5.06,
          6.93,
          3.83,
          3.73,
          4.66,
          2.98,
          4.75,
          4.45,
          3.54,
          5.62,
          5.88,
          3.33,
          3.76,
          2.72,
          2.66,
          4.43,
          4.91,
          3.33,
          5.13,
          3.34,
          5.16,
          4.58,
          3.73,
          5.21,
          4.71,
          3.69,
          4.8,
          3.98,
          3.23,
          4.44,
          7.63,
          4.81,
          2.91,
          4.03,
          2.97,
          2.83,
          4.28,
          3.04,
          3.81,
          5.4,
          3.42,
          3.38,
          4.04,
          3.1,
          2.92,
          4.92,
          4.29,
          6.47,
          4.76,
          3.34,
          4.38,
          4.58,
          5.39,
          6.67,
          3.59,
          3.02,
          4.28,
          4.85,
          2.44,
          4.54,
          4.31,
          4.61,
          4.16,
          3.69,
          4.1,
          4.34,
          3.55,
          4.96,
          4.31,
          3.64,
          4.27,
          3.94,
          4.17,
          3.74,
          3.27,
          4.75,
          3.58,
          5.53,
          4.32,
          5.42,
          4.42,
          4.86,
          3.9,
          3.57,
          4.16,
          4.49,
          4.45,
          3.79,
          3.84,
          5.02,
          5.38,
          1.85,
          3.22,
          4.79,
          5.31,
          3.89,
          4.52,
          2.17,
          3.47,
          4.47,
          5.65,
          6.43,
          3.67,
          3.62,
          6.13,
          4.49,
          3.25,
          5.37,
          5.36,
          4.57,
          3.36,
          4.01,
          2.85,
          3.6,
          4.92,
          3.71,
          4.28,
          4.73,
          2.68,
          6.66,
          4.8,
          5.31,
          2.9,
          4.56,
          2.87,
          3.97,
          4.78,
          4.57,
          2.82,
          5.13,
          4.27,
          6.57,
          5.68,
          4.14,
          3.39,
          3.54,
          4.07,
          3.78,
          4.37,
          3.19,
          3.44,
          3.86,
          6.47,
          5.42,
          5.34,
          7.53,
          6.53,
          4.3,
          5.54,
          3.98,
          6.88,
          5.55,
          3.02,
          3.17,
          4.78,
          3.24,
          5.45,
          6.37,
          4.84,
          4.98,
          5.39,
          4.65,
          3.71,
          4.17,
          3.21,
          6.2,
          4.15,
          3.75,
          4.65,
          4.85,
          4.75,
          5.13,
          3.19,
          3.67,
          3.82,
          3.02,
          4.81,
          4.92,
          6.01,
          3.83,
          6.68,
          4.13,
          3.04,
          4.04,
          4.81,
          4.58,
          3.47,
          4.2,
          3.34,
          5.06,
          4.91,
          3.26,
          4.15,
          3.72,
          4.63,
          4.38,
          5.63,
          3.38,
          3.95,
          4.47,
          4.16,
          3.62,
          4.37,
          3.52,
          4.52,
          4.18,
          3.86,
          3,
          5.31,
          4.33,
          3.1,
          3.59,
          3.56,
          4.31,
          4.65,
          7.34,
          3.25,
          3.22,
          2.45,
          3.24,
          3.07,
          4.73,
          3.1,
          6.05,
          3.73,
          3.61,
          3.9,
          3.39,
          4.48,
          4.26,
          6.87,
          4.14,
          4.35,
          3.86,
          4.07,
          3.14,
          2.82,
          4.51,
          3.8,
          3.83,
          5.01,
          3.51,
          4.81,
          5.95,
          3.24,
          3.75,
          5.26,
          2.93,
          3.32,
          4.08,
          3.61,
          4.88,
          3.55,
          5.46,
          5.02,
          3.32,
          3.46,
          3.88,
          4.56,
          6.31,
          2.8,
          4.26,
          3.03,
          3.37,
          3.5,
          5.39,
          6.13,
          3.92,
          2.22,
          3.5,
          4.28,
          5.98,
          3.57,
          3.42,
          3.39,
          4.35,
          3.31,
          3.83,
          2.39,
          3.65,
          4.23,
          3.76,
          2.53,
          5.28,
          4.62,
          3.73,
          6.42,
          2.06,
          3.4,
          4.42,
          4.65,
          3.6,
          3.9,
          4.86,
          4.49,
          3.14,
          4.1,
          3.76,
          3.69,
          5.16,
          2.9,
          3.26,
          4.23,
          3.4,
          5.12,
          3.65,
          2.9,
          3.72,
          3.81,
          3.1,
          5.26,
          3.77,
          4.01,
          7.16,
          2.77,
          4.78,
          3.04,
          5.84,
          3.58,
          4.82,
          4.4,
          4.11,
          4.07,
          3.98,
          2.93,
          4.6,
          6.44,
          5.89,
          5.38,
          4.31,
          3.77,
          5.04,
          3.37,
          4.35,
          3.93,
          3.19,
          4.21,
          2.98,
          4.48,
          3.99,
          7.09,
          4.95,
          2.48,
          4.04,
          3.97,
          6.25,
          4.8,
          5.8,
          4.11,
          3.35,
          4.93,
          3.87,
          5.55,
          5.42,
          3.22,
          4.65,
          4.72,
          2.78,
          4.21,
          5.17,
          5.12,
          3.98,
          3.84,
          4.05,
          5.04,
          4.66,
          3.76,
          4.68,
          6.34,
          4.88,
          4.36,
          3.39,
          1.97
         ],
         "yaxis": "y"
        },
        {
         "hovertemplate": "<b>OLS trendline</b><br>sxERA_adj = 0.966861 * xERA_adj + 0.163214<br>R<sup>2</sup>=0.908888<br><br>xERA_adj=%{x}<br>sxERA_adj=%{y} <b>(trend)</b><extra></extra>",
         "legendgroup": "",
         "marker": {
          "symbol": "circle"
         },
         "mode": "lines",
         "name": "",
         "showlegend": false,
         "type": "scatter",
         "x": [
          1.81,
          1.85,
          2.01,
          2.01,
          2.04,
          2.12,
          2.15,
          2.3,
          2.33,
          2.38,
          2.39,
          2.42,
          2.43,
          2.47,
          2.54,
          2.57,
          2.61,
          2.61,
          2.61,
          2.63,
          2.68,
          2.71,
          2.72,
          2.73,
          2.76,
          2.77,
          2.79,
          2.8,
          2.82,
          2.83,
          2.86,
          2.88,
          2.9,
          2.9,
          2.92,
          2.92,
          2.94,
          2.97,
          2.97,
          3,
          3.01,
          3.01,
          3.01,
          3.01,
          3.02,
          3.02,
          3.02,
          3.03,
          3.04,
          3.04,
          3.04,
          3.07,
          3.07,
          3.11,
          3.13,
          3.15,
          3.15,
          3.15,
          3.15,
          3.16,
          3.18,
          3.19,
          3.21,
          3.21,
          3.21,
          3.22,
          3.22,
          3.23,
          3.23,
          3.24,
          3.24,
          3.25,
          3.28,
          3.28,
          3.29,
          3.29,
          3.3,
          3.3,
          3.31,
          3.31,
          3.32,
          3.33,
          3.34,
          3.35,
          3.36,
          3.36,
          3.37,
          3.38,
          3.4,
          3.4,
          3.41,
          3.41,
          3.43,
          3.43,
          3.43,
          3.43,
          3.44,
          3.45,
          3.45,
          3.46,
          3.47,
          3.48,
          3.48,
          3.49,
          3.5,
          3.51,
          3.51,
          3.51,
          3.51,
          3.52,
          3.52,
          3.52,
          3.53,
          3.55,
          3.55,
          3.56,
          3.56,
          3.57,
          3.57,
          3.58,
          3.58,
          3.58,
          3.59,
          3.59,
          3.6,
          3.61,
          3.61,
          3.62,
          3.62,
          3.63,
          3.63,
          3.63,
          3.66,
          3.66,
          3.66,
          3.66,
          3.67,
          3.68,
          3.68,
          3.7,
          3.71,
          3.71,
          3.72,
          3.72,
          3.74,
          3.74,
          3.74,
          3.74,
          3.74,
          3.76,
          3.76,
          3.77,
          3.77,
          3.78,
          3.78,
          3.79,
          3.79,
          3.79,
          3.79,
          3.79,
          3.8,
          3.8,
          3.81,
          3.81,
          3.82,
          3.83,
          3.83,
          3.84,
          3.85,
          3.85,
          3.85,
          3.85,
          3.86,
          3.86,
          3.87,
          3.87,
          3.88,
          3.88,
          3.89,
          3.89,
          3.89,
          3.89,
          3.9,
          3.91,
          3.91,
          3.93,
          3.93,
          3.93,
          3.93,
          3.94,
          3.97,
          3.97,
          3.97,
          3.98,
          3.98,
          4.01,
          4.01,
          4.02,
          4.02,
          4.02,
          4.04,
          4.04,
          4.04,
          4.05,
          4.05,
          4.06,
          4.06,
          4.07,
          4.07,
          4.07,
          4.08,
          4.08,
          4.09,
          4.1,
          4.12,
          4.12,
          4.12,
          4.13,
          4.14,
          4.14,
          4.14,
          4.15,
          4.15,
          4.16,
          4.17,
          4.17,
          4.17,
          4.18,
          4.18,
          4.19,
          4.19,
          4.2,
          4.2,
          4.21,
          4.21,
          4.21,
          4.21,
          4.22,
          4.22,
          4.23,
          4.24,
          4.24,
          4.24,
          4.24,
          4.26,
          4.26,
          4.27,
          4.27,
          4.27,
          4.28,
          4.29,
          4.29,
          4.29,
          4.29,
          4.29,
          4.3,
          4.31,
          4.32,
          4.32,
          4.32,
          4.34,
          4.34,
          4.34,
          4.35,
          4.35,
          4.35,
          4.36,
          4.37,
          4.38,
          4.38,
          4.38,
          4.39,
          4.41,
          4.41,
          4.41,
          4.42,
          4.43,
          4.43,
          4.43,
          4.43,
          4.44,
          4.44,
          4.45,
          4.45,
          4.46,
          4.46,
          4.46,
          4.46,
          4.47,
          4.49,
          4.49,
          4.49,
          4.51,
          4.52,
          4.52,
          4.52,
          4.52,
          4.53,
          4.54,
          4.54,
          4.54,
          4.54,
          4.55,
          4.56,
          4.57,
          4.57,
          4.58,
          4.58,
          4.6,
          4.62,
          4.62,
          4.62,
          4.63,
          4.63,
          4.65,
          4.66,
          4.67,
          4.67,
          4.67,
          4.68,
          4.68,
          4.69,
          4.7,
          4.7,
          4.72,
          4.75,
          4.75,
          4.76,
          4.76,
          4.76,
          4.76,
          4.77,
          4.78,
          4.78,
          4.8,
          4.81,
          4.81,
          4.82,
          4.83,
          4.83,
          4.85,
          4.86,
          4.86,
          4.86,
          4.87,
          4.87,
          4.89,
          4.9,
          4.92,
          4.92,
          4.92,
          4.94,
          4.94,
          4.94,
          4.95,
          4.95,
          4.95,
          4.96,
          4.96,
          4.97,
          4.98,
          4.99,
          4.99,
          4.99,
          5,
          5,
          5.01,
          5.01,
          5.03,
          5.03,
          5.04,
          5.04,
          5.04,
          5.04,
          5.07,
          5.07,
          5.08,
          5.08,
          5.09,
          5.09,
          5.09,
          5.1,
          5.11,
          5.11,
          5.13,
          5.15,
          5.19,
          5.2,
          5.21,
          5.21,
          5.24,
          5.28,
          5.29,
          5.29,
          5.31,
          5.32,
          5.35,
          5.36,
          5.36,
          5.36,
          5.4,
          5.42,
          5.42,
          5.45,
          5.47,
          5.48,
          5.48,
          5.49,
          5.55,
          5.55,
          5.56,
          5.59,
          5.59,
          5.6,
          5.63,
          5.69,
          5.69,
          5.77,
          5.8,
          5.85,
          5.85,
          5.88,
          5.92,
          5.93,
          5.94,
          5.98,
          5.99,
          6.03,
          6.08,
          6.09,
          6.11,
          6.12,
          6.2,
          6.21,
          6.23,
          6.24,
          6.45,
          6.47,
          6.61,
          6.7,
          6.76,
          6.83,
          7.03,
          7.04,
          7.11,
          7.39,
          7.79,
          7.92,
          8.39
         ],
         "xaxis": "x",
         "y": [
          1.9132330271353526,
          1.9519074769316833,
          2.106605276117006,
          2.106605276117006,
          2.1356111134642544,
          2.212960013056916,
          2.241965850404164,
          2.386995037140404,
          2.4160008744876524,
          2.4643439367330653,
          2.4740125491821483,
          2.5030183865293965,
          2.512686998978479,
          2.5513614487748097,
          2.6190417359183886,
          2.6480475732656363,
          2.686722023061967,
          2.686722023061967,
          2.686722023061967,
          2.7060592479601326,
          2.7544023102055464,
          2.783408147552794,
          2.793076760001877,
          2.8027453724509597,
          2.8317512097982074,
          2.8414198222472904,
          2.8607570471454555,
          2.870425659594538,
          2.8897628844927037,
          2.8994314969417863,
          2.9284373342890344,
          2.9477745591871996,
          2.967111784085365,
          2.967111784085365,
          2.9864490089835303,
          2.9864490089835303,
          3.005786233881696,
          3.034792071228944,
          3.034792071228944,
          3.0637979085761917,
          3.0734665210252743,
          3.0734665210252743,
          3.0734665210252743,
          3.0734665210252743,
          3.0831351334743573,
          3.0831351334743573,
          3.0831351334743573,
          3.09280374592344,
          3.102472358372523,
          3.102472358372523,
          3.102472358372523,
          3.1314781957197706,
          3.1314781957197706,
          3.1701526455161013,
          3.189489870414267,
          3.208827095312432,
          3.208827095312432,
          3.208827095312432,
          3.208827095312432,
          3.218495707761515,
          3.23783293265968,
          3.2475015451087628,
          3.2668387700069283,
          3.2668387700069283,
          3.2668387700069283,
          3.2765073824560114,
          3.2765073824560114,
          3.2861759949050935,
          3.2861759949050935,
          3.2958446073541765,
          3.2958446073541765,
          3.305513219803259,
          3.334519057150507,
          3.334519057150507,
          3.34418766959959,
          3.34418766959959,
          3.3538562820486724,
          3.3538562820486724,
          3.3635248944977554,
          3.3635248944977554,
          3.3731935069468375,
          3.3828621193959205,
          3.392530731845003,
          3.402199344294086,
          3.4118679567431682,
          3.4118679567431682,
          3.4215365691922512,
          3.431205181641334,
          3.4505424065394994,
          3.4505424065394994,
          3.460211018988582,
          3.460211018988582,
          3.4795482438867475,
          3.4795482438867475,
          3.4795482438867475,
          3.4795482438867475,
          3.48921685633583,
          3.4988854687849127,
          3.4988854687849127,
          3.5085540812339953,
          3.5182226936830783,
          3.527891306132161,
          3.527891306132161,
          3.5375599185812434,
          3.547228531030326,
          3.5568971434794086,
          3.5568971434794086,
          3.5568971434794086,
          3.5568971434794086,
          3.5665657559284916,
          3.5665657559284916,
          3.5665657559284916,
          3.576234368377574,
          3.5955715932757393,
          3.5955715932757393,
          3.6052402057248223,
          3.6052402057248223,
          3.614908818173905,
          3.614908818173905,
          3.6245774306229874,
          3.6245774306229874,
          3.6245774306229874,
          3.63424604307207,
          3.63424604307207,
          3.643914655521153,
          3.6535832679702356,
          3.6535832679702356,
          3.6632518804193186,
          3.6632518804193186,
          3.6729204928684007,
          3.6729204928684007,
          3.6729204928684007,
          3.7019263302156493,
          3.7019263302156493,
          3.7019263302156493,
          3.7019263302156493,
          3.7115949426647314,
          3.7212635551138145,
          3.7212635551138145,
          3.74060078001198,
          3.7502693924610626,
          3.7502693924610626,
          3.759938004910145,
          3.759938004910145,
          3.7792752298083108,
          3.7792752298083108,
          3.7792752298083108,
          3.7792752298083108,
          3.7792752298083108,
          3.7986124547064755,
          3.7986124547064755,
          3.8082810671555585,
          3.8082810671555585,
          3.817949679604641,
          3.817949679604641,
          3.827618292053724,
          3.827618292053724,
          3.827618292053724,
          3.827618292053724,
          3.827618292053724,
          3.8372869045028066,
          3.8372869045028066,
          3.846955516951889,
          3.846955516951889,
          3.8566241294009718,
          3.866292741850055,
          3.866292741850055,
          3.8759613542991374,
          3.88562996674822,
          3.88562996674822,
          3.88562996674822,
          3.88562996674822,
          3.8952985791973025,
          3.8952985791973025,
          3.9049671916463855,
          3.9049671916463855,
          3.914635804095468,
          3.914635804095468,
          3.9243044165445506,
          3.9243044165445506,
          3.9243044165445506,
          3.9243044165445506,
          3.933973028993633,
          3.9436416414427162,
          3.9436416414427162,
          3.962978866340882,
          3.962978866340882,
          3.962978866340882,
          3.962978866340882,
          3.972647478789964,
          4.0016533161372125,
          4.0016533161372125,
          4.0016533161372125,
          4.011321928586295,
          4.011321928586295,
          4.040327765933543,
          4.040327765933543,
          4.049996378382625,
          4.049996378382625,
          4.049996378382625,
          4.069333603280791,
          4.069333603280791,
          4.069333603280791,
          4.079002215729873,
          4.079002215729873,
          4.088670828178956,
          4.088670828178956,
          4.098339440628039,
          4.098339440628039,
          4.098339440628039,
          4.108008053077121,
          4.108008053077121,
          4.117676665526204,
          4.127345277975286,
          4.146682502873452,
          4.146682502873452,
          4.146682502873452,
          4.1563511153225345,
          4.166019727771617,
          4.166019727771617,
          4.166019727771617,
          4.175688340220701,
          4.175688340220701,
          4.185356952669783,
          4.195025565118866,
          4.195025565118866,
          4.195025565118866,
          4.204694177567948,
          4.204694177567948,
          4.214362790017031,
          4.214362790017031,
          4.224031402466114,
          4.224031402466114,
          4.233700014915196,
          4.233700014915196,
          4.233700014915196,
          4.233700014915196,
          4.243368627364279,
          4.243368627364279,
          4.253037239813362,
          4.262705852262444,
          4.262705852262444,
          4.262705852262444,
          4.262705852262444,
          4.282043077160609,
          4.282043077160609,
          4.291711689609691,
          4.291711689609691,
          4.291711689609691,
          4.301380302058775,
          4.311048914507857,
          4.311048914507857,
          4.311048914507857,
          4.311048914507857,
          4.311048914507857,
          4.3207175269569404,
          4.330386139406023,
          4.340054751855106,
          4.340054751855106,
          4.340054751855106,
          4.359391976753271,
          4.359391976753271,
          4.359391976753271,
          4.369060589202354,
          4.369060589202354,
          4.369060589202354,
          4.378729201651437,
          4.388397814100519,
          4.398066426549602,
          4.398066426549602,
          4.398066426549602,
          4.407735038998684,
          4.42707226389685,
          4.42707226389685,
          4.42707226389685,
          4.436740876345932,
          4.446409488795015,
          4.446409488795015,
          4.446409488795015,
          4.446409488795015,
          4.456078101244098,
          4.456078101244098,
          4.46574671369318,
          4.46574671369318,
          4.475415326142263,
          4.475415326142263,
          4.475415326142263,
          4.475415326142263,
          4.4850839385913455,
          4.5044211634895115,
          4.5044211634895115,
          4.5044211634895115,
          4.523758388387677,
          4.533427000836759,
          4.533427000836759,
          4.533427000836759,
          4.533427000836759,
          4.543095613285843,
          4.552764225734925,
          4.552764225734925,
          4.552764225734925,
          4.552764225734925,
          4.562432838184007,
          4.57210145063309,
          4.581770063082173,
          4.581770063082173,
          4.591438675531255,
          4.591438675531255,
          4.61077590042942,
          4.630113125327586,
          4.630113125327586,
          4.630113125327586,
          4.639781737776668,
          4.639781737776668,
          4.659118962674834,
          4.668787575123917,
          4.6784561875729995,
          4.6784561875729995,
          4.6784561875729995,
          4.688124800022082,
          4.688124800022082,
          4.6977934124711656,
          4.707462024920248,
          4.707462024920248,
          4.726799249818413,
          4.755805087165661,
          4.755805087165661,
          4.765473699614743,
          4.765473699614743,
          4.765473699614743,
          4.765473699614743,
          4.775142312063826,
          4.784810924512909,
          4.784810924512909,
          4.804148149411074,
          4.813816761860156,
          4.813816761860156,
          4.82348537430924,
          4.833153986758322,
          4.833153986758322,
          4.852491211656488,
          4.862159824105571,
          4.862159824105571,
          4.862159824105571,
          4.871828436554654,
          4.871828436554654,
          4.891165661452818,
          4.900834273901902,
          4.920171498800067,
          4.920171498800067,
          4.920171498800067,
          4.939508723698232,
          4.939508723698232,
          4.939508723698232,
          4.949177336147315,
          4.949177336147315,
          4.949177336147315,
          4.958845948596397,
          4.958845948596397,
          4.96851456104548,
          4.978183173494563,
          4.987851785943645,
          4.987851785943645,
          4.987851785943645,
          4.997520398392728,
          4.997520398392728,
          5.0071890108418105,
          5.0071890108418105,
          5.0265262357399765,
          5.0265262357399765,
          5.036194848189059,
          5.036194848189059,
          5.036194848189059,
          5.036194848189059,
          5.065200685536307,
          5.065200685536307,
          5.07486929798539,
          5.07486929798539,
          5.084537910434472,
          5.084537910434472,
          5.084537910434472,
          5.094206522883555,
          5.103875135332638,
          5.103875135332638,
          5.123212360230803,
          5.142549585128969,
          5.181224034925299,
          5.1908926473743815,
          5.2005612598234645,
          5.2005612598234645,
          5.229567097170713,
          5.268241546967044,
          5.277910159416126,
          5.277910159416126,
          5.297247384314291,
          5.306915996763374,
          5.335921834110621,
          5.345590446559705,
          5.345590446559705,
          5.345590446559705,
          5.384264896356036,
          5.403602121254201,
          5.403602121254201,
          5.432607958601449,
          5.451945183499614,
          5.461613795948697,
          5.461613795948697,
          5.47128240839778,
          5.529294083092275,
          5.529294083092275,
          5.538962695541358,
          5.567968532888607,
          5.567968532888607,
          5.577637145337689,
          5.606642982684937,
          5.664654657379433,
          5.664654657379433,
          5.742003556972095,
          5.771009394319343,
          5.819352456564756,
          5.819352456564756,
          5.848358293912004,
          5.8870327437083345,
          5.8967013561574175,
          5.9063699686065005,
          5.945044418402832,
          5.954713030851914,
          5.993387480648245,
          6.041730542893658,
          6.05139915534274,
          6.0707363802409064,
          6.080404992689989,
          6.15775389228265,
          6.167422504731733,
          6.186759729629898,
          6.196428342078981,
          6.399469203509717,
          6.4188064284078825,
          6.55416700269504,
          6.641184514736785,
          6.69919618943128,
          6.7668764765748595,
          6.960248725556513,
          6.969917338005596,
          7.037597625149175,
          7.308318773723489,
          7.695063271686797,
          7.820755233524872,
          8.275180018631758
         ],
         "yaxis": "y"
        }
       ],
       "layout": {
        "coloraxis": {
         "colorbar": {
          "title": {
           "text": "GB%"
          }
         },
         "colorscale": [
          [
           0,
           "#0d0887"
          ],
          [
           0.1111111111111111,
           "#46039f"
          ],
          [
           0.2222222222222222,
           "#7201a8"
          ],
          [
           0.3333333333333333,
           "#9c179e"
          ],
          [
           0.4444444444444444,
           "#bd3786"
          ],
          [
           0.5555555555555556,
           "#d8576b"
          ],
          [
           0.6666666666666666,
           "#ed7953"
          ],
          [
           0.7777777777777778,
           "#fb9f3a"
          ],
          [
           0.8888888888888888,
           "#fdca26"
          ],
          [
           1,
           "#f0f921"
          ]
         ]
        },
        "legend": {
         "tracegroupgap": 0
        },
        "margin": {
         "t": 60
        },
        "template": {
         "data": {
          "bar": [
           {
            "error_x": {
             "color": "#2a3f5f"
            },
            "error_y": {
             "color": "#2a3f5f"
            },
            "marker": {
             "line": {
              "color": "#E5ECF6",
              "width": 0.5
             },
             "pattern": {
              "fillmode": "overlay",
              "size": 10,
              "solidity": 0.2
             }
            },
            "type": "bar"
           }
          ],
          "barpolar": [
           {
            "marker": {
             "line": {
              "color": "#E5ECF6",
              "width": 0.5
             },
             "pattern": {
              "fillmode": "overlay",
              "size": 10,
              "solidity": 0.2
             }
            },
            "type": "barpolar"
           }
          ],
          "carpet": [
           {
            "aaxis": {
             "endlinecolor": "#2a3f5f",
             "gridcolor": "white",
             "linecolor": "white",
             "minorgridcolor": "white",
             "startlinecolor": "#2a3f5f"
            },
            "baxis": {
             "endlinecolor": "#2a3f5f",
             "gridcolor": "white",
             "linecolor": "white",
             "minorgridcolor": "white",
             "startlinecolor": "#2a3f5f"
            },
            "type": "carpet"
           }
          ],
          "choropleth": [
           {
            "colorbar": {
             "outlinewidth": 0,
             "ticks": ""
            },
            "type": "choropleth"
           }
          ],
          "contour": [
           {
            "colorbar": {
             "outlinewidth": 0,
             "ticks": ""
            },
            "colorscale": [
             [
              0,
              "#0d0887"
             ],
             [
              0.1111111111111111,
              "#46039f"
             ],
             [
              0.2222222222222222,
              "#7201a8"
             ],
             [
              0.3333333333333333,
              "#9c179e"
             ],
             [
              0.4444444444444444,
              "#bd3786"
             ],
             [
              0.5555555555555556,
              "#d8576b"
             ],
             [
              0.6666666666666666,
              "#ed7953"
             ],
             [
              0.7777777777777778,
              "#fb9f3a"
             ],
             [
              0.8888888888888888,
              "#fdca26"
             ],
             [
              1,
              "#f0f921"
             ]
            ],
            "type": "contour"
           }
          ],
          "contourcarpet": [
           {
            "colorbar": {
             "outlinewidth": 0,
             "ticks": ""
            },
            "type": "contourcarpet"
           }
          ],
          "heatmap": [
           {
            "colorbar": {
             "outlinewidth": 0,
             "ticks": ""
            },
            "colorscale": [
             [
              0,
              "#0d0887"
             ],
             [
              0.1111111111111111,
              "#46039f"
             ],
             [
              0.2222222222222222,
              "#7201a8"
             ],
             [
              0.3333333333333333,
              "#9c179e"
             ],
             [
              0.4444444444444444,
              "#bd3786"
             ],
             [
              0.5555555555555556,
              "#d8576b"
             ],
             [
              0.6666666666666666,
              "#ed7953"
             ],
             [
              0.7777777777777778,
              "#fb9f3a"
             ],
             [
              0.8888888888888888,
              "#fdca26"
             ],
             [
              1,
              "#f0f921"
             ]
            ],
            "type": "heatmap"
           }
          ],
          "heatmapgl": [
           {
            "colorbar": {
             "outlinewidth": 0,
             "ticks": ""
            },
            "colorscale": [
             [
              0,
              "#0d0887"
             ],
             [
              0.1111111111111111,
              "#46039f"
             ],
             [
              0.2222222222222222,
              "#7201a8"
             ],
             [
              0.3333333333333333,
              "#9c179e"
             ],
             [
              0.4444444444444444,
              "#bd3786"
             ],
             [
              0.5555555555555556,
              "#d8576b"
             ],
             [
              0.6666666666666666,
              "#ed7953"
             ],
             [
              0.7777777777777778,
              "#fb9f3a"
             ],
             [
              0.8888888888888888,
              "#fdca26"
             ],
             [
              1,
              "#f0f921"
             ]
            ],
            "type": "heatmapgl"
           }
          ],
          "histogram": [
           {
            "marker": {
             "pattern": {
              "fillmode": "overlay",
              "size": 10,
              "solidity": 0.2
             }
            },
            "type": "histogram"
           }
          ],
          "histogram2d": [
           {
            "colorbar": {
             "outlinewidth": 0,
             "ticks": ""
            },
            "colorscale": [
             [
              0,
              "#0d0887"
             ],
             [
              0.1111111111111111,
              "#46039f"
             ],
             [
              0.2222222222222222,
              "#7201a8"
             ],
             [
              0.3333333333333333,
              "#9c179e"
             ],
             [
              0.4444444444444444,
              "#bd3786"
             ],
             [
              0.5555555555555556,
              "#d8576b"
             ],
             [
              0.6666666666666666,
              "#ed7953"
             ],
             [
              0.7777777777777778,
              "#fb9f3a"
             ],
             [
              0.8888888888888888,
              "#fdca26"
             ],
             [
              1,
              "#f0f921"
             ]
            ],
            "type": "histogram2d"
           }
          ],
          "histogram2dcontour": [
           {
            "colorbar": {
             "outlinewidth": 0,
             "ticks": ""
            },
            "colorscale": [
             [
              0,
              "#0d0887"
             ],
             [
              0.1111111111111111,
              "#46039f"
             ],
             [
              0.2222222222222222,
              "#7201a8"
             ],
             [
              0.3333333333333333,
              "#9c179e"
             ],
             [
              0.4444444444444444,
              "#bd3786"
             ],
             [
              0.5555555555555556,
              "#d8576b"
             ],
             [
              0.6666666666666666,
              "#ed7953"
             ],
             [
              0.7777777777777778,
              "#fb9f3a"
             ],
             [
              0.8888888888888888,
              "#fdca26"
             ],
             [
              1,
              "#f0f921"
             ]
            ],
            "type": "histogram2dcontour"
           }
          ],
          "mesh3d": [
           {
            "colorbar": {
             "outlinewidth": 0,
             "ticks": ""
            },
            "type": "mesh3d"
           }
          ],
          "parcoords": [
           {
            "line": {
             "colorbar": {
              "outlinewidth": 0,
              "ticks": ""
             }
            },
            "type": "parcoords"
           }
          ],
          "pie": [
           {
            "automargin": true,
            "type": "pie"
           }
          ],
          "scatter": [
           {
            "fillpattern": {
             "fillmode": "overlay",
             "size": 10,
             "solidity": 0.2
            },
            "type": "scatter"
           }
          ],
          "scatter3d": [
           {
            "line": {
             "colorbar": {
              "outlinewidth": 0,
              "ticks": ""
             }
            },
            "marker": {
             "colorbar": {
              "outlinewidth": 0,
              "ticks": ""
             }
            },
            "type": "scatter3d"
           }
          ],
          "scattercarpet": [
           {
            "marker": {
             "colorbar": {
              "outlinewidth": 0,
              "ticks": ""
             }
            },
            "type": "scattercarpet"
           }
          ],
          "scattergeo": [
           {
            "marker": {
             "colorbar": {
              "outlinewidth": 0,
              "ticks": ""
             }
            },
            "type": "scattergeo"
           }
          ],
          "scattergl": [
           {
            "marker": {
             "colorbar": {
              "outlinewidth": 0,
              "ticks": ""
             }
            },
            "type": "scattergl"
           }
          ],
          "scattermapbox": [
           {
            "marker": {
             "colorbar": {
              "outlinewidth": 0,
              "ticks": ""
             }
            },
            "type": "scattermapbox"
           }
          ],
          "scatterpolar": [
           {
            "marker": {
             "colorbar": {
              "outlinewidth": 0,
              "ticks": ""
             }
            },
            "type": "scatterpolar"
           }
          ],
          "scatterpolargl": [
           {
            "marker": {
             "colorbar": {
              "outlinewidth": 0,
              "ticks": ""
             }
            },
            "type": "scatterpolargl"
           }
          ],
          "scatterternary": [
           {
            "marker": {
             "colorbar": {
              "outlinewidth": 0,
              "ticks": ""
             }
            },
            "type": "scatterternary"
           }
          ],
          "surface": [
           {
            "colorbar": {
             "outlinewidth": 0,
             "ticks": ""
            },
            "colorscale": [
             [
              0,
              "#0d0887"
             ],
             [
              0.1111111111111111,
              "#46039f"
             ],
             [
              0.2222222222222222,
              "#7201a8"
             ],
             [
              0.3333333333333333,
              "#9c179e"
             ],
             [
              0.4444444444444444,
              "#bd3786"
             ],
             [
              0.5555555555555556,
              "#d8576b"
             ],
             [
              0.6666666666666666,
              "#ed7953"
             ],
             [
              0.7777777777777778,
              "#fb9f3a"
             ],
             [
              0.8888888888888888,
              "#fdca26"
             ],
             [
              1,
              "#f0f921"
             ]
            ],
            "type": "surface"
           }
          ],
          "table": [
           {
            "cells": {
             "fill": {
              "color": "#EBF0F8"
             },
             "line": {
              "color": "white"
             }
            },
            "header": {
             "fill": {
              "color": "#C8D4E3"
             },
             "line": {
              "color": "white"
             }
            },
            "type": "table"
           }
          ]
         },
         "layout": {
          "annotationdefaults": {
           "arrowcolor": "#2a3f5f",
           "arrowhead": 0,
           "arrowwidth": 1
          },
          "autotypenumbers": "strict",
          "coloraxis": {
           "colorbar": {
            "outlinewidth": 0,
            "ticks": ""
           }
          },
          "colorscale": {
           "diverging": [
            [
             0,
             "#8e0152"
            ],
            [
             0.1,
             "#c51b7d"
            ],
            [
             0.2,
             "#de77ae"
            ],
            [
             0.3,
             "#f1b6da"
            ],
            [
             0.4,
             "#fde0ef"
            ],
            [
             0.5,
             "#f7f7f7"
            ],
            [
             0.6,
             "#e6f5d0"
            ],
            [
             0.7,
             "#b8e186"
            ],
            [
             0.8,
             "#7fbc41"
            ],
            [
             0.9,
             "#4d9221"
            ],
            [
             1,
             "#276419"
            ]
           ],
           "sequential": [
            [
             0,
             "#0d0887"
            ],
            [
             0.1111111111111111,
             "#46039f"
            ],
            [
             0.2222222222222222,
             "#7201a8"
            ],
            [
             0.3333333333333333,
             "#9c179e"
            ],
            [
             0.4444444444444444,
             "#bd3786"
            ],
            [
             0.5555555555555556,
             "#d8576b"
            ],
            [
             0.6666666666666666,
             "#ed7953"
            ],
            [
             0.7777777777777778,
             "#fb9f3a"
            ],
            [
             0.8888888888888888,
             "#fdca26"
            ],
            [
             1,
             "#f0f921"
            ]
           ],
           "sequentialminus": [
            [
             0,
             "#0d0887"
            ],
            [
             0.1111111111111111,
             "#46039f"
            ],
            [
             0.2222222222222222,
             "#7201a8"
            ],
            [
             0.3333333333333333,
             "#9c179e"
            ],
            [
             0.4444444444444444,
             "#bd3786"
            ],
            [
             0.5555555555555556,
             "#d8576b"
            ],
            [
             0.6666666666666666,
             "#ed7953"
            ],
            [
             0.7777777777777778,
             "#fb9f3a"
            ],
            [
             0.8888888888888888,
             "#fdca26"
            ],
            [
             1,
             "#f0f921"
            ]
           ]
          },
          "colorway": [
           "#636efa",
           "#EF553B",
           "#00cc96",
           "#ab63fa",
           "#FFA15A",
           "#19d3f3",
           "#FF6692",
           "#B6E880",
           "#FF97FF",
           "#FECB52"
          ],
          "font": {
           "color": "#2a3f5f"
          },
          "geo": {
           "bgcolor": "white",
           "lakecolor": "white",
           "landcolor": "#E5ECF6",
           "showlakes": true,
           "showland": true,
           "subunitcolor": "white"
          },
          "hoverlabel": {
           "align": "left"
          },
          "hovermode": "closest",
          "mapbox": {
           "style": "light"
          },
          "paper_bgcolor": "white",
          "plot_bgcolor": "#E5ECF6",
          "polar": {
           "angularaxis": {
            "gridcolor": "white",
            "linecolor": "white",
            "ticks": ""
           },
           "bgcolor": "#E5ECF6",
           "radialaxis": {
            "gridcolor": "white",
            "linecolor": "white",
            "ticks": ""
           }
          },
          "scene": {
           "xaxis": {
            "backgroundcolor": "#E5ECF6",
            "gridcolor": "white",
            "gridwidth": 2,
            "linecolor": "white",
            "showbackground": true,
            "ticks": "",
            "zerolinecolor": "white"
           },
           "yaxis": {
            "backgroundcolor": "#E5ECF6",
            "gridcolor": "white",
            "gridwidth": 2,
            "linecolor": "white",
            "showbackground": true,
            "ticks": "",
            "zerolinecolor": "white"
           },
           "zaxis": {
            "backgroundcolor": "#E5ECF6",
            "gridcolor": "white",
            "gridwidth": 2,
            "linecolor": "white",
            "showbackground": true,
            "ticks": "",
            "zerolinecolor": "white"
           }
          },
          "shapedefaults": {
           "line": {
            "color": "#2a3f5f"
           }
          },
          "ternary": {
           "aaxis": {
            "gridcolor": "white",
            "linecolor": "white",
            "ticks": ""
           },
           "baxis": {
            "gridcolor": "white",
            "linecolor": "white",
            "ticks": ""
           },
           "bgcolor": "#E5ECF6",
           "caxis": {
            "gridcolor": "white",
            "linecolor": "white",
            "ticks": ""
           }
          },
          "title": {
           "x": 0.05
          },
          "xaxis": {
           "automargin": true,
           "gridcolor": "white",
           "linecolor": "white",
           "ticks": "",
           "title": {
            "standoff": 15
           },
           "zerolinecolor": "white",
           "zerolinewidth": 2
          },
          "yaxis": {
           "automargin": true,
           "gridcolor": "white",
           "linecolor": "white",
           "ticks": "",
           "title": {
            "standoff": 15
           },
           "zerolinecolor": "white",
           "zerolinewidth": 2
          }
         }
        },
        "xaxis": {
         "anchor": "y",
         "domain": [
          0,
          1
         ],
         "title": {
          "text": "xERA_adj"
         }
        },
        "yaxis": {
         "anchor": "x",
         "domain": [
          0,
          1
         ],
         "title": {
          "text": "sxERA_adj"
         }
        }
       }
      }
     },
     "metadata": {},
     "output_type": "display_data"
    }
   ],
   "source": [
    "import plotly.express as px\n",
    "\n",
    "px.scatter(df_2023.loc[df_2023['IP']>20], x='xERA_adj', y='sxERA_adj', color='GB%', hover_name='Name', hover_data=['ERA', 'xERA'], trendline='ols')"
   ]
  },
  {
   "cell_type": "code",
   "execution_count": 33,
   "metadata": {},
   "outputs": [
    {
     "data": {
      "application/vnd.plotly.v1+json": {
       "config": {
        "plotlyServerURL": "https://plotly.com"
       },
       "data": [
        {
         "customdata": [
          [
           1.9,
           3.73
          ],
          [
           4.46,
           4.01
          ],
          [
           3.39,
           4.44
          ],
          [
           6.08,
           5.69
          ],
          [
           5.23,
           4.84
          ],
          [
           5.64,
           5.04
          ],
          [
           3.58,
           4.78
          ],
          [
           3.91,
           4.53
          ],
          [
           3.66,
           4.19
          ],
          [
           3.4,
           4.17
          ],
          [
           3.11,
           3.57
          ],
          [
           3.77,
           4.75
          ],
          [
           3.62,
           5.21
          ],
          [
           3.9,
           4.58
          ],
          [
           5.45,
           4.23
          ],
          [
           3.29,
           4.07
          ],
          [
           5.3,
           4.51
          ],
          [
           4.7,
           5.32
          ],
          [
           4.19,
           3.7
          ],
          [
           3.46,
           3.33
          ],
          [
           4.74,
           4.12
          ],
          [
           4.46,
           3.95
          ],
          [
           5.82,
           5.74
          ],
          [
           3.02,
           3.72
          ],
          [
           4.15,
           4.49
          ],
          [
           4.02,
           5.06
          ],
          [
           2.54,
           3.73
          ],
          [
           3.88,
           4.75
          ],
          [
           2.97,
           4.45
          ],
          [
           2.78,
           3.54
          ],
          [
           6.59,
           5.62
          ],
          [
           5.01,
           5.88
          ],
          [
           5.16,
           3.76
          ],
          [
           4.04,
           3.33
          ],
          [
           2.98,
           4.58
          ],
          [
           4.8,
           3.73
          ],
          [
           7.38,
           4.71
          ],
          [
           4.88,
           4.8
          ],
          [
           4.38,
           3.98
          ],
          [
           3.18,
           4.03
          ],
          [
           3.64,
           3.04
          ],
          [
           3.3,
           3.81
          ],
          [
           5.46,
           5.4
          ],
          [
           2.69,
           3.42
          ],
          [
           4.43,
           4.58
          ],
          [
           2.87,
           4.28
          ],
          [
           4.72,
           4.85
          ],
          [
           8.49,
           4.54
          ],
          [
           3.36,
           3.69
          ],
          [
           4.32,
           4.31
          ],
          [
           3.18,
           3.64
          ],
          [
           4.77,
           4.27
          ],
          [
           3,
           3.94
          ],
          [
           4.68,
           4.17
          ],
          [
           3.88,
           3.74
          ],
          [
           3.79,
           4.75
          ],
          [
           3.36,
           3.58
          ],
          [
           5.83,
           5.53
          ],
          [
           4.25,
           4.32
          ],
          [
           4.37,
           4.86
          ],
          [
           3.66,
           4.49
          ],
          [
           3.27,
           4.45
          ],
          [
           3.15,
           3.79
          ],
          [
           3.93,
           3.84
          ],
          [
           5.49,
           5.02
          ],
          [
           6.19,
           5.38
          ],
          [
           6.07,
           5.31
          ],
          [
           4.62,
           4.52
          ],
          [
           3.45,
           3.47
          ],
          [
           4.01,
           4.47
          ],
          [
           4.82,
           5.37
          ],
          [
           1.7,
           3.6
          ],
          [
           5.05,
           3.71
          ],
          [
           3.86,
           4.28
          ],
          [
           4.96,
           4.8
          ],
          [
           4.32,
           4.56
          ],
          [
           4.79,
           4.57
          ],
          [
           6.34,
           5.13
          ],
          [
           4.01,
           4.14
          ],
          [
           3.12,
           4.07
          ],
          [
           2.55,
           3.78
          ],
          [
           3.79,
           4.37
          ],
          [
           3.21,
           3.44
          ],
          [
           3.49,
           3.86
          ],
          [
           7.04,
           6.47
          ],
          [
           4.44,
           5.42
          ],
          [
           4.59,
           5.34
          ],
          [
           2.94,
           3.02
          ],
          [
           3.76,
           4.98
          ],
          [
           3.58,
           3.71
          ],
          [
           3.62,
           4.15
          ],
          [
           3.22,
           3.75
          ],
          [
           6.19,
           4.65
          ],
          [
           4.64,
           4.85
          ],
          [
           6.47,
           4.75
          ],
          [
           4.13,
           3.19
          ],
          [
           5.86,
           4.81
          ],
          [
           6.1,
           6.01
          ],
          [
           3.84,
           4.04
          ],
          [
           4.34,
           4.2
          ],
          [
           2.89,
           4.15
          ],
          [
           4.47,
           3.72
          ],
          [
           5.5,
           4.38
          ],
          [
           5.17,
           5.63
          ],
          [
           4.38,
           4.47
          ],
          [
           3.06,
           4.16
          ],
          [
           4.28,
           3.62
          ],
          [
           3.96,
           4.37
          ],
          [
           3.37,
           4.33
          ],
          [
           3.57,
           4.65
          ],
          [
           7.79,
           7.34
          ],
          [
           3.25,
           3.22
          ],
          [
           4.97,
           4.73
          ],
          [
           4.25,
           3.73
          ],
          [
           2.76,
           3.61
          ],
          [
           3.43,
           3.9
          ],
          [
           4.86,
           6.87
          ],
          [
           4.6,
           4.35
          ],
          [
           3.46,
           3.14
          ],
          [
           4.46,
           3.83
          ],
          [
           6.12,
           4.81
          ],
          [
           4.11,
           3.75
          ],
          [
           2.36,
           3.55
          ],
          [
           4.91,
           5.46
          ],
          [
           6.45,
           5.02
          ],
          [
           4.53,
           4.26
          ],
          [
           3.12,
           3.03
          ],
          [
           2.95,
           3.5
          ],
          [
           6.91,
           5.39
          ],
          [
           2.25,
           2.22
          ],
          [
           4.06,
           3.57
          ],
          [
           4.58,
           3.42
          ],
          [
           4.13,
           4.35
          ],
          [
           2.68,
           3.31
          ],
          [
           4.2,
           3.65
          ],
          [
           4.33,
           4.23
          ],
          [
           7.23,
           5.28
          ],
          [
           4.19,
           4.62
          ],
          [
           3.17,
           3.73
          ],
          [
           6.46,
           6.42
          ],
          [
           5.55,
           4.86
          ],
          [
           4.6,
           4.1
          ],
          [
           2.61,
           3.76
          ],
          [
           2.87,
           3.4
          ],
          [
           3.65,
           3.72
          ],
          [
           4.47,
           3.81
          ],
          [
           3.73,
           3.1
          ],
          [
           5.77,
           5.26
          ],
          [
           3.51,
           3.77
          ],
          [
           4.22,
           4.78
          ],
          [
           7.16,
           5.84
          ],
          [
           5.75,
           4.82
          ],
          [
           3.75,
           4.4
          ],
          [
           3.25,
           3.98
          ],
          [
           4.98,
           4.31
          ],
          [
           3.29,
           3.77
          ],
          [
           5.3,
           5.04
          ],
          [
           3.24,
           3.19
          ],
          [
           2.84,
           3.99
          ],
          [
           7.31,
           7.09
          ],
          [
           6.38,
           4.95
          ],
          [
           4.06,
           4.04
          ],
          [
           7.2,
           5.8
          ],
          [
           3.48,
           3.35
          ],
          [
           3.65,
           3.87
          ],
          [
           6.78,
           5.55
          ],
          [
           4.75,
           5.42
          ],
          [
           3.88,
           3.22
          ],
          [
           5.23,
           4.72
          ],
          [
           4.47,
           5.17
          ],
          [
           4.6,
           5.12
          ],
          [
           2.93,
           4.05
          ],
          [
           4.75,
           4.68
          ]
         ],
         "hovertemplate": "<b>%{hovertext}</b><br><br>xERA=%{x}<br>xERA_adj=%{y}<br>ERA=%{customdata[0]}<br>sxERA_adj=%{customdata[1]}<br>GB%=%{marker.color}<extra></extra>",
         "hovertext": [
          "Andrew Abbott",
          "Sandy Alcantara",
          "Logan Allen",
          "Chase Anderson",
          "Tyler Anderson",
          "Graham Ashcraft",
          "Jaime Barria",
          "Chris Bassitt",
          "Brayan Bello",
          "Jose Berrios",
          "Tanner Bibee",
          "Shane Bieber",
          "Brandon Bielak",
          "Jake Bird",
          "Matthew Boyd",
          "Kyle Bradish",
          "Taj Bradley",
          "Jhony Brito",
          "Hunter Brown",
          "Corbin Burnes",
          "Edward Cabrera",
          "Griffin Canning",
          "Carlos Carrasco",
          "Luis Castillo",
          "Dylan Cease",
          "Yonny Chirinos",
          "Aaron Civale",
          "Mike Clevinger",
          "Alex Cobb",
          "Gerrit Cole",
          "Roansy Contreras",
          "Patrick Corbin",
          "Nestor Cortes",
          "Kutter Crawford",
          "Xzavion Curry",
          "Yu Darvish",
          "Zach Davies",
          "Anthony DeSclafani",
          "Reid Detmers",
          "Dane Dunning",
          "Zach Eflin",
          "Bryce Elder",
          "Mason Englert",
          "Nathan Eovaldi",
          "Jack Flaherty",
          "J.P. France",
          "Kyle Freeland",
          "Shintaro Fujinami",
          "Zac Gallen",
          "Braxton Garrett",
          "Kevin Gausman",
          "Domingo German",
          "Ian Gibaut",
          "Kyle Gibson",
          "Logan Gilbert",
          "Lucas Giolito",
          "Tyler Glasnow",
          "Austin Gomber",
          "Tony Gonsolin",
          "MacKenzie Gore",
          "Jon Gray",
          "Josiah Gray",
          "Sonny Gray",
          "Hunter Greene",
          "Zack Greinke",
          "Michael Grove",
          "Hogan Harris",
          "Andrew Heaney",
          "Kyle Hendricks",
          "Tommy Henry",
          "Rich Hill",
          "Tyler Holton",
          "Tanner Houck",
          "Adrian Houser",
          "Jake Irvin",
          "Cristian Javier",
          "Jakob Junis",
          "James Kaprielian",
          "Mitch Keller",
          "Merrill Kelly",
          "Clayton Kershaw",
          "Yusei Kikuchi",
          "Michael King",
          "George Kirby",
          "Corey Kluber",
          "Michael Kopech",
          "Dean Kremer",
          "Justin Lawrence",
          "Ben Lively",
          "Michael Lorenzen",
          "Seth Lugo",
          "Jesus Luzardo",
          "Jordan Lyles",
          "Daniel Lynch",
          "Lance Lynn",
          "Pablo Lopez",
          "Sean Manaea",
          "Alek Manoah",
          "Nick Martinez",
          "Steven Matz",
          "Shane McClanahan",
          "Scott McGough",
          "Luis Medina",
          "Tylor Megill",
          "Miles Mikolas",
          "Wade Miley",
          "Bobby Miller",
          "Bryce Miller",
          "Jordan Montgomery",
          "Charlie Morton",
          "Kyle Muller",
          "Joe Musgrove",
          "Ryne Nelson",
          "Aaron Nola",
          "Bailey Ober",
          "Shohei Ohtani",
          "Luis Ortiz",
          "Johan Oviedo",
          "James Paxton",
          "Freddy Peralta",
          "David Peterson",
          "Nick Pivetta",
          "Eury Perez",
          "Martin Perez",
          "Cal Quantrill",
          "Colin Rea",
          "Trevor Richards",
          "Eduardo Rodriguez",
          "Grayson Rodriguez",
          "Tyler Rogers",
          "Joe Ryan",
          "Chris Sale",
          "Patrick Sandoval",
          "Gregory Santos",
          "Max Scherzer",
          "Clarke Schmidt",
          "Connor Seabold",
          "JP Sears",
          "Kodai Senga",
          "Luis Severino",
          "Brady Singer",
          "Drew Smyly",
          "Blake Snell",
          "Justin Steele",
          "Matt Strahm",
          "Chris Stratton",
          "Spencer Strider",
          "Ross Stripling",
          "Marcus Stroman",
          "Ranger Suarez",
          "Noah Syndergaard",
          "Jameson Taillon",
          "Julio Teheran",
          "Michael Tonkin",
          "Julio Urias",
          "Framber Valdez",
          "Louie Varland",
          "Justin Verlander",
          "Michael Wacha",
          "Adam Wainwright",
          "Ken Waldichuk",
          "Taijuan Walker",
          "Luke Weaver",
          "Logan Webb",
          "Tyler Wells",
          "Joey Wentz",
          "Hayden Wesneski",
          "Zack Wheeler",
          "Garrett Whitlock",
          "Trevor Williams",
          "Brandon Williamson",
          "Josh Winckowski",
          "Alex Wood"
         ],
         "legendgroup": "",
         "marker": {
          "color": [
           0.253,
           0.501,
           0.43,
           0.36700000000000005,
           0.321,
           0.486,
           0.40299999999999997,
           0.419,
           0.562,
           0.44799999999999995,
           0.37,
           0.465,
           0.495,
           0.5479999999999999,
           0.38799999999999996,
           0.45799999999999996,
           0.35200000000000004,
           0.465,
           0.545,
           0.431,
           0.547,
           0.451,
           0.491,
           0.405,
           0.377,
           0.43200000000000005,
           0.396,
           0.305,
           0.574,
           0.377,
           0.377,
           0.446,
           0.259,
           0.38299999999999995,
           0.308,
           0.433,
           0.457,
           0.415,
           0.32799999999999996,
           0.44799999999999995,
           0.517,
           0.542,
           0.376,
           0.518,
           0.446,
           0.447,
           0.39,
           0.39899999999999997,
           0.379,
           0.466,
           0.426,
           0.379,
           0.37200000000000005,
           0.47700000000000004,
           0.41600000000000004,
           0.349,
           0.521,
           0.433,
           0.389,
           0.40399999999999997,
           0.401,
           0.414,
           0.49,
           0.326,
           0.43700000000000006,
           0.41,
           0.4,
           0.365,
           0.45899999999999996,
           0.368,
           0.374,
           0.461,
           0.49700000000000005,
           0.473,
           0.41,
           0.263,
           0.415,
           0.304,
           0.44799999999999995,
           0.452,
           0.47200000000000003,
           0.38,
           0.475,
           0.441,
           0.302,
           0.35700000000000004,
           0.373,
           0.5379999999999999,
           0.39399999999999996,
           0.42200000000000004,
           0.461,
           0.42200000000000004,
           0.327,
           0.38799999999999996,
           0.381,
           0.402,
           0.36700000000000005,
           0.369,
           0.546,
           0.45799999999999996,
           0.434,
           0.5,
           0.44799999999999995,
           0.435,
           0.38299999999999995,
           0.405,
           0.455,
           0.317,
           0.452,
           0.47100000000000003,
           0.478,
           0.445,
           0.377,
           0.415,
           0.324,
           0.452,
           0.478,
           0.47100000000000003,
           0.38299999999999995,
           0.39899999999999997,
           0.5539999999999999,
           0.34,
           0.32799999999999996,
           0.405,
           0.41100000000000003,
           0.442,
           0.304,
           0.405,
           0.426,
           0.503,
           0.318,
           0.381,
           0.51,
           0.5329999999999999,
           0.312,
           0.428,
           0.32,
           0.272,
           0.47200000000000003,
           0.37799999999999995,
           0.47700000000000004,
           0.34299999999999997,
           0.44299999999999995,
           0.5,
           0.336,
           0.41700000000000004,
           0.327,
           0.447,
           0.581,
           0.511,
           0.396,
           0.363,
           0.431,
           0.39299999999999996,
           0.36,
           0.535,
           0.426,
           0.379,
           0.337,
           0.353,
           0.401,
           0.467,
           0.35600000000000004,
           0.599,
           0.315,
           0.379,
           0.39,
           0.396,
           0.444,
           0.387,
           0.345,
           0.5329999999999999,
           0.436
          ],
          "coloraxis": "coloraxis",
          "symbol": "circle"
         },
         "mode": "markers",
         "name": "",
         "orientation": "v",
         "showlegend": false,
         "type": "scatter",
         "x": [
          3.35,
          4.29,
          4.29,
          5.11,
          4.72,
          5.32,
          4.29,
          4.44,
          4.06,
          4.63,
          3.23,
          4.88,
          5.46,
          4.26,
          4.14,
          4.12,
          4.2,
          5.39,
          3.95,
          3.27,
          3.92,
          4.03,
          6.13,
          3.78,
          4,
          6.37,
          3.55,
          4.63,
          4.35,
          3.6,
          5.32,
          6.13,
          3.81,
          3.73,
          5.22,
          3.81,
          5.15,
          5.05,
          4.12,
          4.95,
          3.11,
          4.17,
          6.37,
          3.47,
          4.66,
          4.32,
          5.39,
          4.82,
          3.84,
          4.63,
          3.65,
          4.17,
          3.62,
          4.56,
          3.57,
          4.44,
          4.06,
          5.72,
          4.82,
          4.95,
          4.44,
          4.53,
          4.06,
          3.68,
          5.22,
          4.98,
          4.56,
          4.75,
          3.68,
          4.29,
          5.57,
          3.5,
          3.89,
          4.35,
          5.05,
          4.47,
          4.35,
          4.78,
          3.7,
          4.26,
          3.5,
          4.44,
          3.57,
          3.86,
          6.13,
          5.5,
          5.39,
          2.86,
          4.5,
          4.2,
          4.29,
          3.57,
          5.01,
          4.85,
          4.82,
          3.25,
          4.98,
          6.54,
          4.59,
          4.06,
          3.95,
          4.14,
          4.44,
          6.06,
          4.95,
          4.85,
          3.81,
          4.35,
          4.12,
          4.63,
          8.18,
          3.11,
          5.01,
          3.68,
          3.52,
          3.95,
          7.79,
          4.56,
          3.18,
          3.89,
          4.95,
          4.23,
          3.5,
          5.57,
          6.02,
          4.14,
          3.15,
          3.45,
          5.72,
          2.06,
          3.06,
          3.6,
          4.26,
          3.04,
          3.65,
          4.26,
          5.35,
          4.56,
          3.62,
          6.37,
          5.15,
          4.23,
          3.86,
          3.27,
          3.5,
          3.95,
          3.08,
          5.35,
          3.95,
          4.47,
          5.64,
          5.22,
          3.89,
          3.55,
          4.14,
          4.06,
          5.08,
          3.37,
          4.17,
          7.69,
          5.01,
          4.12,
          5.98,
          3.52,
          3.95,
          5.83,
          5.57,
          3.27,
          4.59,
          5.15,
          5.57,
          3.84,
          5.25
         ],
         "xaxis": "x",
         "y": [
          3.78,
          4.15,
          4.52,
          5.03,
          4.92,
          5.03,
          4.52,
          4.34,
          4.05,
          4.53,
          3.71,
          4.81,
          5.13,
          4.19,
          4.2,
          4.07,
          4.43,
          5.48,
          3.89,
          3.3,
          4.04,
          4.02,
          6.24,
          3.74,
          4.3,
          5.4,
          3.68,
          4.7,
          4.31,
          3.68,
          5.36,
          5.94,
          3.89,
          3.51,
          5.29,
          3.66,
          5.11,
          4.95,
          4.18,
          4.49,
          3.04,
          3.86,
          6.12,
          3.43,
          4.58,
          4.32,
          5.36,
          4.82,
          3.97,
          4.43,
          3.74,
          4.34,
          3.82,
          4.32,
          3.63,
          4.8,
          4.06,
          5.47,
          4.92,
          5,
          4.49,
          4.55,
          3.83,
          3.79,
          5.07,
          5.21,
          4.94,
          4.63,
          3.93,
          4.41,
          5.45,
          3.57,
          3.85,
          4.45,
          5.04,
          4.86,
          4.27,
          4.83,
          3.97,
          4.29,
          3.52,
          4.43,
          3.51,
          3.79,
          6.03,
          5.59,
          5.42,
          2.77,
          4.89,
          4.14,
          4.12,
          3.66,
          4.96,
          4.78,
          4.83,
          3.25,
          4.72,
          6.23,
          4.35,
          3.87,
          3.98,
          3.74,
          4.17,
          5.85,
          4.86,
          4.69,
          3.53,
          4.63,
          4.24,
          4.75,
          7.39,
          3.07,
          4.94,
          3.81,
          3.76,
          3.83,
          7.11,
          4.52,
          3.24,
          3.87,
          4.62,
          4.07,
          3.61,
          5.42,
          5.8,
          4.15,
          3.13,
          3.37,
          5.11,
          2.04,
          3.36,
          3.55,
          4.24,
          3.03,
          3.63,
          4.21,
          5.21,
          4.67,
          3.74,
          6.2,
          4.77,
          4.22,
          3.94,
          3.29,
          3.58,
          4.01,
          3.28,
          4.99,
          3.88,
          4.38,
          5.85,
          5.1,
          4.45,
          3.56,
          4.02,
          3.79,
          5.01,
          3.3,
          4.21,
          7.03,
          5.04,
          4.06,
          5.69,
          3.43,
          4.35,
          5.36,
          5.48,
          3.38,
          4.46,
          5.09,
          5.6,
          3.61,
          4.96
         ],
         "yaxis": "y"
        },
        {
         "hovertemplate": "<b>OLS trendline</b><br>xERA_adj = 0.876242 * xERA + 0.515945<br>R<sup>2</sup>=0.952759<br><br>xERA=%{x}<br>xERA_adj=%{y} <b>(trend)</b><extra></extra>",
         "legendgroup": "",
         "marker": {
          "symbol": "circle"
         },
         "mode": "lines",
         "name": "",
         "showlegend": false,
         "type": "scatter",
         "x": [
          2.06,
          2.86,
          3.04,
          3.06,
          3.08,
          3.11,
          3.11,
          3.15,
          3.18,
          3.23,
          3.25,
          3.27,
          3.27,
          3.27,
          3.35,
          3.37,
          3.45,
          3.47,
          3.5,
          3.5,
          3.5,
          3.5,
          3.52,
          3.52,
          3.55,
          3.55,
          3.57,
          3.57,
          3.57,
          3.6,
          3.6,
          3.62,
          3.62,
          3.65,
          3.65,
          3.68,
          3.68,
          3.68,
          3.7,
          3.73,
          3.78,
          3.81,
          3.81,
          3.81,
          3.84,
          3.84,
          3.86,
          3.86,
          3.89,
          3.89,
          3.89,
          3.92,
          3.95,
          3.95,
          3.95,
          3.95,
          3.95,
          3.95,
          4,
          4.03,
          4.06,
          4.06,
          4.06,
          4.06,
          4.06,
          4.12,
          4.12,
          4.12,
          4.12,
          4.14,
          4.14,
          4.14,
          4.14,
          4.17,
          4.17,
          4.17,
          4.2,
          4.2,
          4.23,
          4.23,
          4.26,
          4.26,
          4.26,
          4.26,
          4.29,
          4.29,
          4.29,
          4.29,
          4.29,
          4.32,
          4.35,
          4.35,
          4.35,
          4.35,
          4.44,
          4.44,
          4.44,
          4.44,
          4.44,
          4.47,
          4.47,
          4.5,
          4.53,
          4.56,
          4.56,
          4.56,
          4.56,
          4.59,
          4.59,
          4.63,
          4.63,
          4.63,
          4.63,
          4.66,
          4.72,
          4.75,
          4.78,
          4.82,
          4.82,
          4.82,
          4.85,
          4.85,
          4.88,
          4.95,
          4.95,
          4.95,
          4.95,
          4.98,
          4.98,
          5.01,
          5.01,
          5.01,
          5.05,
          5.05,
          5.08,
          5.11,
          5.15,
          5.15,
          5.15,
          5.22,
          5.22,
          5.22,
          5.25,
          5.32,
          5.32,
          5.35,
          5.35,
          5.39,
          5.39,
          5.39,
          5.46,
          5.5,
          5.57,
          5.57,
          5.57,
          5.57,
          5.64,
          5.72,
          5.72,
          5.83,
          5.98,
          6.02,
          6.06,
          6.13,
          6.13,
          6.13,
          6.37,
          6.37,
          6.37,
          6.54,
          7.69,
          7.79,
          8.18
         ],
         "xaxis": "x",
         "y": [
          2.3210026693562082,
          3.0219959242079075,
          3.1797194065495398,
          3.1972442379208323,
          3.214769069292125,
          3.2410563163490633,
          3.2410563163490633,
          3.2761059790916485,
          3.3023932261485873,
          3.3462053045768183,
          3.363730135948111,
          3.3812549673194034,
          3.3812549673194034,
          3.3812549673194034,
          3.4513542928045737,
          3.468879124175866,
          3.538978449661036,
          3.5565032810323287,
          3.582790528089267,
          3.582790528089267,
          3.582790528089267,
          3.582790528089267,
          3.6003153594605597,
          3.6003153594605597,
          3.626602606517498,
          3.626602606517498,
          3.6441274378887907,
          3.6441274378887907,
          3.6441274378887907,
          3.6704146849457295,
          3.6704146849457295,
          3.687939516317022,
          3.687939516317022,
          3.7142267633739605,
          3.7142267633739605,
          3.7405140104308994,
          3.7405140104308994,
          3.7405140104308994,
          3.758038841802192,
          3.784326088859131,
          3.828138167287362,
          3.8544254143443006,
          3.8544254143443006,
          3.8544254143443006,
          3.880712661401239,
          3.880712661401239,
          3.8982374927725316,
          3.8982374927725316,
          3.9245247398294705,
          3.9245247398294705,
          3.9245247398294705,
          3.9508119868864093,
          3.977099233943348,
          3.977099233943348,
          3.977099233943348,
          3.977099233943348,
          3.977099233943348,
          3.977099233943348,
          4.020911312371579,
          4.047198559428518,
          4.073485806485456,
          4.073485806485456,
          4.073485806485456,
          4.073485806485456,
          4.073485806485456,
          4.126060300599335,
          4.126060300599335,
          4.126060300599335,
          4.126060300599335,
          4.143585131970626,
          4.143585131970626,
          4.143585131970626,
          4.143585131970626,
          4.169872379027565,
          4.169872379027565,
          4.169872379027565,
          4.196159626084504,
          4.196159626084504,
          4.222446873141443,
          4.222446873141443,
          4.248734120198382,
          4.248734120198382,
          4.248734120198382,
          4.248734120198382,
          4.27502136725532,
          4.27502136725532,
          4.27502136725532,
          4.27502136725532,
          4.27502136725532,
          4.3013086143122585,
          4.327595861369197,
          4.327595861369197,
          4.327595861369197,
          4.327595861369197,
          4.406457602540014,
          4.406457602540014,
          4.406457602540014,
          4.406457602540014,
          4.406457602540014,
          4.432744849596952,
          4.432744849596952,
          4.459032096653891,
          4.48531934371083,
          4.5116065907677685,
          4.5116065907677685,
          4.5116065907677685,
          4.5116065907677685,
          4.537893837824708,
          4.537893837824708,
          4.572943500567293,
          4.572943500567293,
          4.572943500567293,
          4.572943500567293,
          4.599230747624231,
          4.651805241738108,
          4.678092488795047,
          4.704379735851987,
          4.739429398594572,
          4.739429398594572,
          4.739429398594572,
          4.76571664565151,
          4.76571664565151,
          4.792003892708449,
          4.853340802507972,
          4.853340802507972,
          4.853340802507972,
          4.853340802507972,
          4.879628049564911,
          4.879628049564911,
          4.905915296621849,
          4.905915296621849,
          4.905915296621849,
          4.940964959364434,
          4.940964959364434,
          4.967252206421373,
          4.993539453478313,
          5.028589116220898,
          5.028589116220898,
          5.028589116220898,
          5.08992602602042,
          5.08992602602042,
          5.08992602602042,
          5.11621327307736,
          5.1775501828768835,
          5.1775501828768835,
          5.203837429933822,
          5.203837429933822,
          5.238887092676407,
          5.238887092676407,
          5.238887092676407,
          5.300224002475931,
          5.335273665218516,
          5.396610575018039,
          5.396610575018039,
          5.396610575018039,
          5.396610575018039,
          5.457947484817563,
          5.528046810302733,
          5.528046810302733,
          5.624433382844842,
          5.755869618129536,
          5.790919280872119,
          5.825968943614704,
          5.8873058534142295,
          5.8873058534142295,
          5.8873058534142295,
          6.097603829869739,
          6.097603829869739,
          6.097603829869739,
          6.246564896525724,
          7.254242700375043,
          7.341866857231505,
          7.683601068971708
         ],
         "yaxis": "y"
        }
       ],
       "layout": {
        "coloraxis": {
         "colorbar": {
          "title": {
           "text": "GB%"
          }
         },
         "colorscale": [
          [
           0,
           "#0d0887"
          ],
          [
           0.1111111111111111,
           "#46039f"
          ],
          [
           0.2222222222222222,
           "#7201a8"
          ],
          [
           0.3333333333333333,
           "#9c179e"
          ],
          [
           0.4444444444444444,
           "#bd3786"
          ],
          [
           0.5555555555555556,
           "#d8576b"
          ],
          [
           0.6666666666666666,
           "#ed7953"
          ],
          [
           0.7777777777777778,
           "#fb9f3a"
          ],
          [
           0.8888888888888888,
           "#fdca26"
          ],
          [
           1,
           "#f0f921"
          ]
         ]
        },
        "legend": {
         "tracegroupgap": 0
        },
        "margin": {
         "t": 60
        },
        "template": {
         "data": {
          "bar": [
           {
            "error_x": {
             "color": "#2a3f5f"
            },
            "error_y": {
             "color": "#2a3f5f"
            },
            "marker": {
             "line": {
              "color": "#E5ECF6",
              "width": 0.5
             },
             "pattern": {
              "fillmode": "overlay",
              "size": 10,
              "solidity": 0.2
             }
            },
            "type": "bar"
           }
          ],
          "barpolar": [
           {
            "marker": {
             "line": {
              "color": "#E5ECF6",
              "width": 0.5
             },
             "pattern": {
              "fillmode": "overlay",
              "size": 10,
              "solidity": 0.2
             }
            },
            "type": "barpolar"
           }
          ],
          "carpet": [
           {
            "aaxis": {
             "endlinecolor": "#2a3f5f",
             "gridcolor": "white",
             "linecolor": "white",
             "minorgridcolor": "white",
             "startlinecolor": "#2a3f5f"
            },
            "baxis": {
             "endlinecolor": "#2a3f5f",
             "gridcolor": "white",
             "linecolor": "white",
             "minorgridcolor": "white",
             "startlinecolor": "#2a3f5f"
            },
            "type": "carpet"
           }
          ],
          "choropleth": [
           {
            "colorbar": {
             "outlinewidth": 0,
             "ticks": ""
            },
            "type": "choropleth"
           }
          ],
          "contour": [
           {
            "colorbar": {
             "outlinewidth": 0,
             "ticks": ""
            },
            "colorscale": [
             [
              0,
              "#0d0887"
             ],
             [
              0.1111111111111111,
              "#46039f"
             ],
             [
              0.2222222222222222,
              "#7201a8"
             ],
             [
              0.3333333333333333,
              "#9c179e"
             ],
             [
              0.4444444444444444,
              "#bd3786"
             ],
             [
              0.5555555555555556,
              "#d8576b"
             ],
             [
              0.6666666666666666,
              "#ed7953"
             ],
             [
              0.7777777777777778,
              "#fb9f3a"
             ],
             [
              0.8888888888888888,
              "#fdca26"
             ],
             [
              1,
              "#f0f921"
             ]
            ],
            "type": "contour"
           }
          ],
          "contourcarpet": [
           {
            "colorbar": {
             "outlinewidth": 0,
             "ticks": ""
            },
            "type": "contourcarpet"
           }
          ],
          "heatmap": [
           {
            "colorbar": {
             "outlinewidth": 0,
             "ticks": ""
            },
            "colorscale": [
             [
              0,
              "#0d0887"
             ],
             [
              0.1111111111111111,
              "#46039f"
             ],
             [
              0.2222222222222222,
              "#7201a8"
             ],
             [
              0.3333333333333333,
              "#9c179e"
             ],
             [
              0.4444444444444444,
              "#bd3786"
             ],
             [
              0.5555555555555556,
              "#d8576b"
             ],
             [
              0.6666666666666666,
              "#ed7953"
             ],
             [
              0.7777777777777778,
              "#fb9f3a"
             ],
             [
              0.8888888888888888,
              "#fdca26"
             ],
             [
              1,
              "#f0f921"
             ]
            ],
            "type": "heatmap"
           }
          ],
          "heatmapgl": [
           {
            "colorbar": {
             "outlinewidth": 0,
             "ticks": ""
            },
            "colorscale": [
             [
              0,
              "#0d0887"
             ],
             [
              0.1111111111111111,
              "#46039f"
             ],
             [
              0.2222222222222222,
              "#7201a8"
             ],
             [
              0.3333333333333333,
              "#9c179e"
             ],
             [
              0.4444444444444444,
              "#bd3786"
             ],
             [
              0.5555555555555556,
              "#d8576b"
             ],
             [
              0.6666666666666666,
              "#ed7953"
             ],
             [
              0.7777777777777778,
              "#fb9f3a"
             ],
             [
              0.8888888888888888,
              "#fdca26"
             ],
             [
              1,
              "#f0f921"
             ]
            ],
            "type": "heatmapgl"
           }
          ],
          "histogram": [
           {
            "marker": {
             "pattern": {
              "fillmode": "overlay",
              "size": 10,
              "solidity": 0.2
             }
            },
            "type": "histogram"
           }
          ],
          "histogram2d": [
           {
            "colorbar": {
             "outlinewidth": 0,
             "ticks": ""
            },
            "colorscale": [
             [
              0,
              "#0d0887"
             ],
             [
              0.1111111111111111,
              "#46039f"
             ],
             [
              0.2222222222222222,
              "#7201a8"
             ],
             [
              0.3333333333333333,
              "#9c179e"
             ],
             [
              0.4444444444444444,
              "#bd3786"
             ],
             [
              0.5555555555555556,
              "#d8576b"
             ],
             [
              0.6666666666666666,
              "#ed7953"
             ],
             [
              0.7777777777777778,
              "#fb9f3a"
             ],
             [
              0.8888888888888888,
              "#fdca26"
             ],
             [
              1,
              "#f0f921"
             ]
            ],
            "type": "histogram2d"
           }
          ],
          "histogram2dcontour": [
           {
            "colorbar": {
             "outlinewidth": 0,
             "ticks": ""
            },
            "colorscale": [
             [
              0,
              "#0d0887"
             ],
             [
              0.1111111111111111,
              "#46039f"
             ],
             [
              0.2222222222222222,
              "#7201a8"
             ],
             [
              0.3333333333333333,
              "#9c179e"
             ],
             [
              0.4444444444444444,
              "#bd3786"
             ],
             [
              0.5555555555555556,
              "#d8576b"
             ],
             [
              0.6666666666666666,
              "#ed7953"
             ],
             [
              0.7777777777777778,
              "#fb9f3a"
             ],
             [
              0.8888888888888888,
              "#fdca26"
             ],
             [
              1,
              "#f0f921"
             ]
            ],
            "type": "histogram2dcontour"
           }
          ],
          "mesh3d": [
           {
            "colorbar": {
             "outlinewidth": 0,
             "ticks": ""
            },
            "type": "mesh3d"
           }
          ],
          "parcoords": [
           {
            "line": {
             "colorbar": {
              "outlinewidth": 0,
              "ticks": ""
             }
            },
            "type": "parcoords"
           }
          ],
          "pie": [
           {
            "automargin": true,
            "type": "pie"
           }
          ],
          "scatter": [
           {
            "fillpattern": {
             "fillmode": "overlay",
             "size": 10,
             "solidity": 0.2
            },
            "type": "scatter"
           }
          ],
          "scatter3d": [
           {
            "line": {
             "colorbar": {
              "outlinewidth": 0,
              "ticks": ""
             }
            },
            "marker": {
             "colorbar": {
              "outlinewidth": 0,
              "ticks": ""
             }
            },
            "type": "scatter3d"
           }
          ],
          "scattercarpet": [
           {
            "marker": {
             "colorbar": {
              "outlinewidth": 0,
              "ticks": ""
             }
            },
            "type": "scattercarpet"
           }
          ],
          "scattergeo": [
           {
            "marker": {
             "colorbar": {
              "outlinewidth": 0,
              "ticks": ""
             }
            },
            "type": "scattergeo"
           }
          ],
          "scattergl": [
           {
            "marker": {
             "colorbar": {
              "outlinewidth": 0,
              "ticks": ""
             }
            },
            "type": "scattergl"
           }
          ],
          "scattermapbox": [
           {
            "marker": {
             "colorbar": {
              "outlinewidth": 0,
              "ticks": ""
             }
            },
            "type": "scattermapbox"
           }
          ],
          "scatterpolar": [
           {
            "marker": {
             "colorbar": {
              "outlinewidth": 0,
              "ticks": ""
             }
            },
            "type": "scatterpolar"
           }
          ],
          "scatterpolargl": [
           {
            "marker": {
             "colorbar": {
              "outlinewidth": 0,
              "ticks": ""
             }
            },
            "type": "scatterpolargl"
           }
          ],
          "scatterternary": [
           {
            "marker": {
             "colorbar": {
              "outlinewidth": 0,
              "ticks": ""
             }
            },
            "type": "scatterternary"
           }
          ],
          "surface": [
           {
            "colorbar": {
             "outlinewidth": 0,
             "ticks": ""
            },
            "colorscale": [
             [
              0,
              "#0d0887"
             ],
             [
              0.1111111111111111,
              "#46039f"
             ],
             [
              0.2222222222222222,
              "#7201a8"
             ],
             [
              0.3333333333333333,
              "#9c179e"
             ],
             [
              0.4444444444444444,
              "#bd3786"
             ],
             [
              0.5555555555555556,
              "#d8576b"
             ],
             [
              0.6666666666666666,
              "#ed7953"
             ],
             [
              0.7777777777777778,
              "#fb9f3a"
             ],
             [
              0.8888888888888888,
              "#fdca26"
             ],
             [
              1,
              "#f0f921"
             ]
            ],
            "type": "surface"
           }
          ],
          "table": [
           {
            "cells": {
             "fill": {
              "color": "#EBF0F8"
             },
             "line": {
              "color": "white"
             }
            },
            "header": {
             "fill": {
              "color": "#C8D4E3"
             },
             "line": {
              "color": "white"
             }
            },
            "type": "table"
           }
          ]
         },
         "layout": {
          "annotationdefaults": {
           "arrowcolor": "#2a3f5f",
           "arrowhead": 0,
           "arrowwidth": 1
          },
          "autotypenumbers": "strict",
          "coloraxis": {
           "colorbar": {
            "outlinewidth": 0,
            "ticks": ""
           }
          },
          "colorscale": {
           "diverging": [
            [
             0,
             "#8e0152"
            ],
            [
             0.1,
             "#c51b7d"
            ],
            [
             0.2,
             "#de77ae"
            ],
            [
             0.3,
             "#f1b6da"
            ],
            [
             0.4,
             "#fde0ef"
            ],
            [
             0.5,
             "#f7f7f7"
            ],
            [
             0.6,
             "#e6f5d0"
            ],
            [
             0.7,
             "#b8e186"
            ],
            [
             0.8,
             "#7fbc41"
            ],
            [
             0.9,
             "#4d9221"
            ],
            [
             1,
             "#276419"
            ]
           ],
           "sequential": [
            [
             0,
             "#0d0887"
            ],
            [
             0.1111111111111111,
             "#46039f"
            ],
            [
             0.2222222222222222,
             "#7201a8"
            ],
            [
             0.3333333333333333,
             "#9c179e"
            ],
            [
             0.4444444444444444,
             "#bd3786"
            ],
            [
             0.5555555555555556,
             "#d8576b"
            ],
            [
             0.6666666666666666,
             "#ed7953"
            ],
            [
             0.7777777777777778,
             "#fb9f3a"
            ],
            [
             0.8888888888888888,
             "#fdca26"
            ],
            [
             1,
             "#f0f921"
            ]
           ],
           "sequentialminus": [
            [
             0,
             "#0d0887"
            ],
            [
             0.1111111111111111,
             "#46039f"
            ],
            [
             0.2222222222222222,
             "#7201a8"
            ],
            [
             0.3333333333333333,
             "#9c179e"
            ],
            [
             0.4444444444444444,
             "#bd3786"
            ],
            [
             0.5555555555555556,
             "#d8576b"
            ],
            [
             0.6666666666666666,
             "#ed7953"
            ],
            [
             0.7777777777777778,
             "#fb9f3a"
            ],
            [
             0.8888888888888888,
             "#fdca26"
            ],
            [
             1,
             "#f0f921"
            ]
           ]
          },
          "colorway": [
           "#636efa",
           "#EF553B",
           "#00cc96",
           "#ab63fa",
           "#FFA15A",
           "#19d3f3",
           "#FF6692",
           "#B6E880",
           "#FF97FF",
           "#FECB52"
          ],
          "font": {
           "color": "#2a3f5f"
          },
          "geo": {
           "bgcolor": "white",
           "lakecolor": "white",
           "landcolor": "#E5ECF6",
           "showlakes": true,
           "showland": true,
           "subunitcolor": "white"
          },
          "hoverlabel": {
           "align": "left"
          },
          "hovermode": "closest",
          "mapbox": {
           "style": "light"
          },
          "paper_bgcolor": "white",
          "plot_bgcolor": "#E5ECF6",
          "polar": {
           "angularaxis": {
            "gridcolor": "white",
            "linecolor": "white",
            "ticks": ""
           },
           "bgcolor": "#E5ECF6",
           "radialaxis": {
            "gridcolor": "white",
            "linecolor": "white",
            "ticks": ""
           }
          },
          "scene": {
           "xaxis": {
            "backgroundcolor": "#E5ECF6",
            "gridcolor": "white",
            "gridwidth": 2,
            "linecolor": "white",
            "showbackground": true,
            "ticks": "",
            "zerolinecolor": "white"
           },
           "yaxis": {
            "backgroundcolor": "#E5ECF6",
            "gridcolor": "white",
            "gridwidth": 2,
            "linecolor": "white",
            "showbackground": true,
            "ticks": "",
            "zerolinecolor": "white"
           },
           "zaxis": {
            "backgroundcolor": "#E5ECF6",
            "gridcolor": "white",
            "gridwidth": 2,
            "linecolor": "white",
            "showbackground": true,
            "ticks": "",
            "zerolinecolor": "white"
           }
          },
          "shapedefaults": {
           "line": {
            "color": "#2a3f5f"
           }
          },
          "ternary": {
           "aaxis": {
            "gridcolor": "white",
            "linecolor": "white",
            "ticks": ""
           },
           "baxis": {
            "gridcolor": "white",
            "linecolor": "white",
            "ticks": ""
           },
           "bgcolor": "#E5ECF6",
           "caxis": {
            "gridcolor": "white",
            "linecolor": "white",
            "ticks": ""
           }
          },
          "title": {
           "x": 0.05
          },
          "xaxis": {
           "automargin": true,
           "gridcolor": "white",
           "linecolor": "white",
           "ticks": "",
           "title": {
            "standoff": 15
           },
           "zerolinecolor": "white",
           "zerolinewidth": 2
          },
          "yaxis": {
           "automargin": true,
           "gridcolor": "white",
           "linecolor": "white",
           "ticks": "",
           "title": {
            "standoff": 15
           },
           "zerolinecolor": "white",
           "zerolinewidth": 2
          }
         }
        },
        "xaxis": {
         "anchor": "y",
         "domain": [
          0,
          1
         ],
         "title": {
          "text": "xERA"
         }
        },
        "yaxis": {
         "anchor": "x",
         "domain": [
          0,
          1
         ],
         "title": {
          "text": "xERA_adj"
         }
        }
       }
      }
     },
     "metadata": {},
     "output_type": "display_data"
    }
   ],
   "source": [
    "px.scatter(df_2023.loc[df_2023['IP']>50], x='xERA', y='xERA_adj', color='GB%', hover_name='Name', hover_data=['ERA', 'xERA', 'sxERA_adj'], trendline='ols')"
   ]
  },
  {
   "cell_type": "code",
   "execution_count": 28,
   "metadata": {},
   "outputs": [
    {
     "data": {
      "text/html": [
       "<div>\n",
       "<style scoped>\n",
       "    .dataframe tbody tr th:only-of-type {\n",
       "        vertical-align: middle;\n",
       "    }\n",
       "\n",
       "    .dataframe tbody tr th {\n",
       "        vertical-align: top;\n",
       "    }\n",
       "\n",
       "    .dataframe thead th {\n",
       "        text-align: right;\n",
       "    }\n",
       "</style>\n",
       "<table border=\"1\" class=\"dataframe\">\n",
       "  <thead>\n",
       "    <tr style=\"text-align: right;\">\n",
       "      <th></th>\n",
       "      <th>rf_xwoba</th>\n",
       "      <th>sxwOBA</th>\n",
       "      <th>gidp_prob</th>\n",
       "      <th>gidp_adj</th>\n",
       "      <th>sxwOBA_adj</th>\n",
       "      <th>xwOBA_adj</th>\n",
       "      <th>estimated_woba_using_speedangle</th>\n",
       "    </tr>\n",
       "  </thead>\n",
       "  <tbody>\n",
       "    <tr>\n",
       "      <th>22522</th>\n",
       "      <td>0.114</td>\n",
       "      <td>0.163</td>\n",
       "      <td>0.084</td>\n",
       "      <td>-0.055</td>\n",
       "      <td>0.109</td>\n",
       "      <td>0.079</td>\n",
       "      <td>0.134</td>\n",
       "    </tr>\n",
       "    <tr>\n",
       "      <th>34270</th>\n",
       "      <td>0.151</td>\n",
       "      <td>0.153</td>\n",
       "      <td>0.082</td>\n",
       "      <td>-0.053</td>\n",
       "      <td>0.100</td>\n",
       "      <td>0.079</td>\n",
       "      <td>0.132</td>\n",
       "    </tr>\n",
       "    <tr>\n",
       "      <th>34278</th>\n",
       "      <td>0.111</td>\n",
       "      <td>0.053</td>\n",
       "      <td>0.085</td>\n",
       "      <td>-0.055</td>\n",
       "      <td>-0.002</td>\n",
       "      <td>0.009</td>\n",
       "      <td>0.064</td>\n",
       "    </tr>\n",
       "    <tr>\n",
       "      <th>40530</th>\n",
       "      <td>0.079</td>\n",
       "      <td>0.049</td>\n",
       "      <td>0.079</td>\n",
       "      <td>-0.051</td>\n",
       "      <td>-0.002</td>\n",
       "      <td>0.060</td>\n",
       "      <td>0.111</td>\n",
       "    </tr>\n",
       "    <tr>\n",
       "      <th>46215</th>\n",
       "      <td>0.106</td>\n",
       "      <td>0.056</td>\n",
       "      <td>0.070</td>\n",
       "      <td>-0.045</td>\n",
       "      <td>0.010</td>\n",
       "      <td>0.034</td>\n",
       "      <td>0.079</td>\n",
       "    </tr>\n",
       "    <tr>\n",
       "      <th>46235</th>\n",
       "      <td>0.106</td>\n",
       "      <td>0.062</td>\n",
       "      <td>0.070</td>\n",
       "      <td>-0.045</td>\n",
       "      <td>0.017</td>\n",
       "      <td>0.024</td>\n",
       "      <td>0.069</td>\n",
       "    </tr>\n",
       "    <tr>\n",
       "      <th>50834</th>\n",
       "      <td>0.601</td>\n",
       "      <td>0.622</td>\n",
       "      <td>0.040</td>\n",
       "      <td>-0.026</td>\n",
       "      <td>0.596</td>\n",
       "      <td>0.494</td>\n",
       "      <td>0.520</td>\n",
       "    </tr>\n",
       "    <tr>\n",
       "      <th>56470</th>\n",
       "      <td>0.123</td>\n",
       "      <td>0.206</td>\n",
       "      <td>0.079</td>\n",
       "      <td>-0.052</td>\n",
       "      <td>0.155</td>\n",
       "      <td>0.182</td>\n",
       "      <td>0.234</td>\n",
       "    </tr>\n",
       "    <tr>\n",
       "      <th>62787</th>\n",
       "      <td>0.214</td>\n",
       "      <td>0.248</td>\n",
       "      <td>0.079</td>\n",
       "      <td>-0.052</td>\n",
       "      <td>0.197</td>\n",
       "      <td>0.213</td>\n",
       "      <td>0.265</td>\n",
       "    </tr>\n",
       "    <tr>\n",
       "      <th>80330</th>\n",
       "      <td>0.242</td>\n",
       "      <td>0.211</td>\n",
       "      <td>0.079</td>\n",
       "      <td>-0.052</td>\n",
       "      <td>0.160</td>\n",
       "      <td>0.192</td>\n",
       "      <td>0.244</td>\n",
       "    </tr>\n",
       "    <tr>\n",
       "      <th>80348</th>\n",
       "      <td>0.264</td>\n",
       "      <td>0.343</td>\n",
       "      <td>0.073</td>\n",
       "      <td>-0.048</td>\n",
       "      <td>0.295</td>\n",
       "      <td>0.427</td>\n",
       "      <td>0.475</td>\n",
       "    </tr>\n",
       "    <tr>\n",
       "      <th>93869</th>\n",
       "      <td>0.324</td>\n",
       "      <td>0.502</td>\n",
       "      <td>0.079</td>\n",
       "      <td>-0.052</td>\n",
       "      <td>0.451</td>\n",
       "      <td>0.188</td>\n",
       "      <td>0.240</td>\n",
       "    </tr>\n",
       "    <tr>\n",
       "      <th>118222</th>\n",
       "      <td>0.099</td>\n",
       "      <td>0.337</td>\n",
       "      <td>0.082</td>\n",
       "      <td>-0.054</td>\n",
       "      <td>0.283</td>\n",
       "      <td>0.100</td>\n",
       "      <td>0.154</td>\n",
       "    </tr>\n",
       "  </tbody>\n",
       "</table>\n",
       "</div>"
      ],
      "text/plain": [
       "        rf_xwoba  sxwOBA  gidp_prob  gidp_adj  sxwOBA_adj  xwOBA_adj  \\\n",
       "22522      0.114   0.163      0.084    -0.055       0.109      0.079   \n",
       "34270      0.151   0.153      0.082    -0.053       0.100      0.079   \n",
       "34278      0.111   0.053      0.085    -0.055      -0.002      0.009   \n",
       "40530      0.079   0.049      0.079    -0.051      -0.002      0.060   \n",
       "46215      0.106   0.056      0.070    -0.045       0.010      0.034   \n",
       "46235      0.106   0.062      0.070    -0.045       0.017      0.024   \n",
       "50834      0.601   0.622      0.040    -0.026       0.596      0.494   \n",
       "56470      0.123   0.206      0.079    -0.052       0.155      0.182   \n",
       "62787      0.214   0.248      0.079    -0.052       0.197      0.213   \n",
       "80330      0.242   0.211      0.079    -0.052       0.160      0.192   \n",
       "80348      0.264   0.343      0.073    -0.048       0.295      0.427   \n",
       "93869      0.324   0.502      0.079    -0.052       0.451      0.188   \n",
       "118222     0.099   0.337      0.082    -0.054       0.283      0.100   \n",
       "\n",
       "        estimated_woba_using_speedangle  \n",
       "22522                             0.134  \n",
       "34270                             0.132  \n",
       "34278                             0.064  \n",
       "40530                             0.111  \n",
       "46215                             0.079  \n",
       "46235                             0.069  \n",
       "50834                             0.520  \n",
       "56470                             0.234  \n",
       "62787                             0.265  \n",
       "80330                             0.244  \n",
       "80348                             0.475  \n",
       "93869                             0.240  \n",
       "118222                            0.154  "
      ]
     },
     "execution_count": 28,
     "metadata": {},
     "output_type": "execute_result"
    }
   ],
   "source": [
    "df3.loc[(df3['player_name']=='Cobb, Alex') & (df3['events']=='grounded_into_double_play'), ['rf_xwoba', 'sxwOBA', 'gidp_prob', 'gidp_adj', 'sxwOBA_adj', 'xwOBA_adj', 'estimated_woba_using_speedangle']].head(20).round(3)"
   ]
  },
  {
   "cell_type": "code",
   "execution_count": 29,
   "metadata": {},
   "outputs": [
    {
     "data": {
      "text/plain": [
       "rf_xwoba                           0.327407\n",
       "sxwOBA                             0.328423\n",
       "gidp_prob                          0.027404\n",
       "gidp_adj                          -0.011989\n",
       "sxwOBA_adj                         0.316396\n",
       "xwOBA_adj                          0.307762\n",
       "estimated_woba_using_speedangle    0.319782\n",
       "dtype: float64"
      ]
     },
     "execution_count": 29,
     "metadata": {},
     "output_type": "execute_result"
    }
   ],
   "source": [
    "df3.loc[:, ['rf_xwoba', 'sxwOBA', 'gidp_prob', 'gidp_adj', 'sxwOBA_adj', 'xwOBA_adj', 'estimated_woba_using_speedangle']].mean()"
   ]
  },
  {
   "cell_type": "code",
   "execution_count": 30,
   "metadata": {},
   "outputs": [
    {
     "data": {
      "text/plain": [
       "rf_xwoba                           0.334556\n",
       "sxwOBA                             0.337409\n",
       "gidp_prob                          0.034579\n",
       "gidp_adj                          -0.015980\n",
       "sxwOBA_adj                         0.321429\n",
       "xwOBA_adj                          0.307594\n",
       "estimated_woba_using_speedangle    0.323574\n",
       "dtype: float64"
      ]
     },
     "execution_count": 30,
     "metadata": {},
     "output_type": "execute_result"
    }
   ],
   "source": [
    "df3.loc[df3['player_name']=='Cobb, Alex', ['rf_xwoba', 'sxwOBA', 'gidp_prob', 'gidp_adj', 'sxwOBA_adj', 'xwOBA_adj', 'estimated_woba_using_speedangle']].mean()"
   ]
  },
  {
   "cell_type": "code",
   "execution_count": 31,
   "metadata": {},
   "outputs": [
    {
     "ename": "KeyError",
     "evalue": "'sxERA'",
     "output_type": "error",
     "traceback": [
      "\u001b[1;31m---------------------------------------------------------------------------\u001b[0m",
      "\u001b[1;31mKeyError\u001b[0m                                  Traceback (most recent call last)",
      "\u001b[1;32mc:\\Users\\wampl\\sxwOBA\\notebooks\\sandbox.ipynb Cell 31\u001b[0m in \u001b[0;36m1\n\u001b[1;32m----> <a href='vscode-notebook-cell:/c%3A/Users/wampl/sxwOBA/notebooks/sandbox.ipynb#X42sZmlsZQ%3D%3D?line=0'>1</a>\u001b[0m df_2023\u001b[39m.\u001b[39;49mloc[df_2023[\u001b[39m'\u001b[39;49m\u001b[39mIP\u001b[39;49m\u001b[39m'\u001b[39;49m]\u001b[39m>\u001b[39;49m\u001b[39m50\u001b[39;49m]\u001b[39m.\u001b[39;49msort_values(\u001b[39m'\u001b[39;49m\u001b[39msxERA\u001b[39;49m\u001b[39m'\u001b[39;49m, ascending\u001b[39m=\u001b[39;49m\u001b[39mTrue\u001b[39;49;00m)\u001b[39m.\u001b[39mreset_index()\u001b[39m.\u001b[39msort_values(\u001b[39m'\u001b[39m\u001b[39mdiff\u001b[39m\u001b[39m'\u001b[39m, ascending\u001b[39m=\u001b[39m\u001b[39mFalse\u001b[39;00m)\u001b[39m.\u001b[39mhead(\u001b[39m20\u001b[39m)\n",
      "File \u001b[1;32mc:\\Users\\wampl\\anaconda3\\envs\\datasci\\lib\\site-packages\\pandas\\util\\_decorators.py:331\u001b[0m, in \u001b[0;36mdeprecate_nonkeyword_arguments.<locals>.decorate.<locals>.wrapper\u001b[1;34m(*args, **kwargs)\u001b[0m\n\u001b[0;32m    325\u001b[0m \u001b[39mif\u001b[39;00m \u001b[39mlen\u001b[39m(args) \u001b[39m>\u001b[39m num_allow_args:\n\u001b[0;32m    326\u001b[0m     warnings\u001b[39m.\u001b[39mwarn(\n\u001b[0;32m    327\u001b[0m         msg\u001b[39m.\u001b[39mformat(arguments\u001b[39m=\u001b[39m_format_argument_list(allow_args)),\n\u001b[0;32m    328\u001b[0m         \u001b[39mFutureWarning\u001b[39;00m,\n\u001b[0;32m    329\u001b[0m         stacklevel\u001b[39m=\u001b[39mfind_stack_level(),\n\u001b[0;32m    330\u001b[0m     )\n\u001b[1;32m--> 331\u001b[0m \u001b[39mreturn\u001b[39;00m func(\u001b[39m*\u001b[39margs, \u001b[39m*\u001b[39m\u001b[39m*\u001b[39mkwargs)\n",
      "File \u001b[1;32mc:\\Users\\wampl\\anaconda3\\envs\\datasci\\lib\\site-packages\\pandas\\core\\frame.py:6909\u001b[0m, in \u001b[0;36mDataFrame.sort_values\u001b[1;34m(self, by, axis, ascending, inplace, kind, na_position, ignore_index, key)\u001b[0m\n\u001b[0;32m   6905\u001b[0m \u001b[39melif\u001b[39;00m \u001b[39mlen\u001b[39m(by):\n\u001b[0;32m   6906\u001b[0m     \u001b[39m# len(by) == 1\u001b[39;00m\n\u001b[0;32m   6908\u001b[0m     by \u001b[39m=\u001b[39m by[\u001b[39m0\u001b[39m]\n\u001b[1;32m-> 6909\u001b[0m     k \u001b[39m=\u001b[39m \u001b[39mself\u001b[39;49m\u001b[39m.\u001b[39;49m_get_label_or_level_values(by, axis\u001b[39m=\u001b[39;49maxis)\n\u001b[0;32m   6911\u001b[0m     \u001b[39m# need to rewrap column in Series to apply key function\u001b[39;00m\n\u001b[0;32m   6912\u001b[0m     \u001b[39mif\u001b[39;00m key \u001b[39mis\u001b[39;00m \u001b[39mnot\u001b[39;00m \u001b[39mNone\u001b[39;00m:\n\u001b[0;32m   6913\u001b[0m         \u001b[39m# error: Incompatible types in assignment (expression has type\u001b[39;00m\n\u001b[0;32m   6914\u001b[0m         \u001b[39m# \"Series\", variable has type \"ndarray\")\u001b[39;00m\n",
      "File \u001b[1;32mc:\\Users\\wampl\\anaconda3\\envs\\datasci\\lib\\site-packages\\pandas\\core\\generic.py:1850\u001b[0m, in \u001b[0;36mNDFrame._get_label_or_level_values\u001b[1;34m(self, key, axis)\u001b[0m\n\u001b[0;32m   1844\u001b[0m     values \u001b[39m=\u001b[39m (\n\u001b[0;32m   1845\u001b[0m         \u001b[39mself\u001b[39m\u001b[39m.\u001b[39maxes[axis]\n\u001b[0;32m   1846\u001b[0m         \u001b[39m.\u001b[39mget_level_values(key)  \u001b[39m# type: ignore[assignment]\u001b[39;00m\n\u001b[0;32m   1847\u001b[0m         \u001b[39m.\u001b[39m_values\n\u001b[0;32m   1848\u001b[0m     )\n\u001b[0;32m   1849\u001b[0m \u001b[39melse\u001b[39;00m:\n\u001b[1;32m-> 1850\u001b[0m     \u001b[39mraise\u001b[39;00m \u001b[39mKeyError\u001b[39;00m(key)\n\u001b[0;32m   1852\u001b[0m \u001b[39m# Check for duplicates\u001b[39;00m\n\u001b[0;32m   1853\u001b[0m \u001b[39mif\u001b[39;00m values\u001b[39m.\u001b[39mndim \u001b[39m>\u001b[39m \u001b[39m1\u001b[39m:\n",
      "\u001b[1;31mKeyError\u001b[0m: 'sxERA'"
     ]
    }
   ],
   "source": [
    "df_2023.loc[df_2023['IP']>50].sort_values('sxERA', ascending=True).reset_index().sort_values('diff', ascending=False).head(20)"
   ]
  },
  {
   "cell_type": "code",
   "execution_count": null,
   "metadata": {},
   "outputs": [
    {
     "name": "stderr",
     "output_type": "stream",
     "text": [
      "C:\\Users\\wampl\\AppData\\Local\\Temp\\ipykernel_21200\\4108902400.py:1: FutureWarning:\n",
      "\n",
      "Indexing with multiple keys (implicitly converted to a tuple of keys) will be deprecated, use a list instead.\n",
      "\n"
     ]
    },
    {
     "ename": "KeyError",
     "evalue": "\"Columns not found: 'xERA', 'xERA_adj'\"",
     "output_type": "error",
     "traceback": [
      "\u001b[1;31m---------------------------------------------------------------------------\u001b[0m",
      "\u001b[1;31mKeyError\u001b[0m                                  Traceback (most recent call last)",
      "\u001b[1;32mc:\\Users\\wampl\\sxwOBA\\notebooks\\sandbox.ipynb Cell 32\u001b[0m in \u001b[0;36m1\n\u001b[1;32m----> <a href='vscode-notebook-cell:/c%3A/Users/wampl/sxwOBA/notebooks/sandbox.ipynb#X43sZmlsZQ%3D%3D?line=0'>1</a>\u001b[0m df3\u001b[39m.\u001b[39;49mgroupby(\u001b[39m'\u001b[39;49m\u001b[39mpitcher_team\u001b[39;49m\u001b[39m'\u001b[39;49m)[\u001b[39m'\u001b[39;49m\u001b[39mxERA\u001b[39;49m\u001b[39m'\u001b[39;49m, \u001b[39m'\u001b[39;49m\u001b[39mxERA_adj\u001b[39;49m\u001b[39m'\u001b[39;49m, \u001b[39m'\u001b[39;49m\u001b[39msxwOBA_adj\u001b[39;49m\u001b[39m'\u001b[39;49m]\u001b[39m.\u001b[39mmean()\n",
      "File \u001b[1;32mc:\\Users\\wampl\\anaconda3\\envs\\datasci\\lib\\site-packages\\pandas\\core\\groupby\\generic.py:1415\u001b[0m, in \u001b[0;36mDataFrameGroupBy.__getitem__\u001b[1;34m(self, key)\u001b[0m\n\u001b[0;32m   1406\u001b[0m \u001b[39mif\u001b[39;00m \u001b[39misinstance\u001b[39m(key, \u001b[39mtuple\u001b[39m) \u001b[39mand\u001b[39;00m \u001b[39mlen\u001b[39m(key) \u001b[39m>\u001b[39m \u001b[39m1\u001b[39m:\n\u001b[0;32m   1407\u001b[0m     \u001b[39m# if len == 1, then it becomes a SeriesGroupBy and this is actually\u001b[39;00m\n\u001b[0;32m   1408\u001b[0m     \u001b[39m# valid syntax, so don't raise warning\u001b[39;00m\n\u001b[0;32m   1409\u001b[0m     warnings\u001b[39m.\u001b[39mwarn(\n\u001b[0;32m   1410\u001b[0m         \u001b[39m\"\u001b[39m\u001b[39mIndexing with multiple keys (implicitly converted to a tuple \u001b[39m\u001b[39m\"\u001b[39m\n\u001b[0;32m   1411\u001b[0m         \u001b[39m\"\u001b[39m\u001b[39mof keys) will be deprecated, use a list instead.\u001b[39m\u001b[39m\"\u001b[39m,\n\u001b[0;32m   1412\u001b[0m         \u001b[39mFutureWarning\u001b[39;00m,\n\u001b[0;32m   1413\u001b[0m         stacklevel\u001b[39m=\u001b[39mfind_stack_level(),\n\u001b[0;32m   1414\u001b[0m     )\n\u001b[1;32m-> 1415\u001b[0m \u001b[39mreturn\u001b[39;00m \u001b[39msuper\u001b[39;49m()\u001b[39m.\u001b[39;49m\u001b[39m__getitem__\u001b[39;49m(key)\n",
      "File \u001b[1;32mc:\\Users\\wampl\\anaconda3\\envs\\datasci\\lib\\site-packages\\pandas\\core\\base.py:238\u001b[0m, in \u001b[0;36mSelectionMixin.__getitem__\u001b[1;34m(self, key)\u001b[0m\n\u001b[0;32m    236\u001b[0m     \u001b[39mif\u001b[39;00m \u001b[39mlen\u001b[39m(\u001b[39mself\u001b[39m\u001b[39m.\u001b[39mobj\u001b[39m.\u001b[39mcolumns\u001b[39m.\u001b[39mintersection(key)) \u001b[39m!=\u001b[39m \u001b[39mlen\u001b[39m(\u001b[39mset\u001b[39m(key)):\n\u001b[0;32m    237\u001b[0m         bad_keys \u001b[39m=\u001b[39m \u001b[39mlist\u001b[39m(\u001b[39mset\u001b[39m(key)\u001b[39m.\u001b[39mdifference(\u001b[39mself\u001b[39m\u001b[39m.\u001b[39mobj\u001b[39m.\u001b[39mcolumns))\n\u001b[1;32m--> 238\u001b[0m         \u001b[39mraise\u001b[39;00m \u001b[39mKeyError\u001b[39;00m(\u001b[39mf\u001b[39m\u001b[39m\"\u001b[39m\u001b[39mColumns not found: \u001b[39m\u001b[39m{\u001b[39;00m\u001b[39mstr\u001b[39m(bad_keys)[\u001b[39m1\u001b[39m:\u001b[39m-\u001b[39m\u001b[39m1\u001b[39m]\u001b[39m}\u001b[39;00m\u001b[39m\"\u001b[39m)\n\u001b[0;32m    239\u001b[0m     \u001b[39mreturn\u001b[39;00m \u001b[39mself\u001b[39m\u001b[39m.\u001b[39m_gotitem(\u001b[39mlist\u001b[39m(key), ndim\u001b[39m=\u001b[39m\u001b[39m2\u001b[39m)\n\u001b[0;32m    241\u001b[0m \u001b[39melif\u001b[39;00m \u001b[39mnot\u001b[39;00m \u001b[39mgetattr\u001b[39m(\u001b[39mself\u001b[39m, \u001b[39m\"\u001b[39m\u001b[39mas_index\u001b[39m\u001b[39m\"\u001b[39m, \u001b[39mFalse\u001b[39;00m):\n",
      "\u001b[1;31mKeyError\u001b[0m: \"Columns not found: 'xERA', 'xERA_adj'\""
     ]
    }
   ],
   "source": [
    "df3.groupby('pitcher_team')['xERA', 'xERA_adj', 'sxwOBA_adj'].mean()"
   ]
  },
  {
   "cell_type": "code",
   "execution_count": null,
   "metadata": {},
   "outputs": [
    {
     "name": "stderr",
     "output_type": "stream",
     "text": [
      "C:\\Users\\wampl\\AppData\\Local\\Temp\\ipykernel_21200\\3978275196.py:1: FutureWarning:\n",
      "\n",
      "Indexing with multiple keys (implicitly converted to a tuple of keys) will be deprecated, use a list instead.\n",
      "\n"
     ]
    },
    {
     "data": {
      "text/html": [
       "<div>\n",
       "<style scoped>\n",
       "    .dataframe tbody tr th:only-of-type {\n",
       "        vertical-align: middle;\n",
       "    }\n",
       "\n",
       "    .dataframe tbody tr th {\n",
       "        vertical-align: top;\n",
       "    }\n",
       "\n",
       "    .dataframe thead th {\n",
       "        text-align: right;\n",
       "    }\n",
       "</style>\n",
       "<table border=\"1\" class=\"dataframe\">\n",
       "  <thead>\n",
       "    <tr style=\"text-align: right;\">\n",
       "      <th></th>\n",
       "      <th>sxwOBA</th>\n",
       "      <th>sxwOBA_adj</th>\n",
       "    </tr>\n",
       "    <tr>\n",
       "      <th>pitch_type</th>\n",
       "      <th></th>\n",
       "      <th></th>\n",
       "    </tr>\n",
       "  </thead>\n",
       "  <tbody>\n",
       "    <tr>\n",
       "      <th>CH</th>\n",
       "      <td>0.302542</td>\n",
       "      <td>0.295533</td>\n",
       "    </tr>\n",
       "    <tr>\n",
       "      <th>CS</th>\n",
       "      <td>0.217032</td>\n",
       "      <td>0.210069</td>\n",
       "    </tr>\n",
       "    <tr>\n",
       "      <th>CU</th>\n",
       "      <td>0.287562</td>\n",
       "      <td>0.281881</td>\n",
       "    </tr>\n",
       "    <tr>\n",
       "      <th>EP</th>\n",
       "      <td>0.498885</td>\n",
       "      <td>0.493780</td>\n",
       "    </tr>\n",
       "    <tr>\n",
       "      <th>FA</th>\n",
       "      <td>0.455321</td>\n",
       "      <td>0.449930</td>\n",
       "    </tr>\n",
       "    <tr>\n",
       "      <th>FC</th>\n",
       "      <td>0.350624</td>\n",
       "      <td>0.344367</td>\n",
       "    </tr>\n",
       "    <tr>\n",
       "      <th>FF</th>\n",
       "      <td>0.359642</td>\n",
       "      <td>0.355020</td>\n",
       "    </tr>\n",
       "    <tr>\n",
       "      <th>FO</th>\n",
       "      <td>0.192533</td>\n",
       "      <td>0.189185</td>\n",
       "    </tr>\n",
       "    <tr>\n",
       "      <th>FS</th>\n",
       "      <td>0.263834</td>\n",
       "      <td>0.257279</td>\n",
       "    </tr>\n",
       "    <tr>\n",
       "      <th>KC</th>\n",
       "      <td>0.281009</td>\n",
       "      <td>0.274881</td>\n",
       "    </tr>\n",
       "    <tr>\n",
       "      <th>KN</th>\n",
       "      <td>0.444953</td>\n",
       "      <td>0.435509</td>\n",
       "    </tr>\n",
       "    <tr>\n",
       "      <th>SC</th>\n",
       "      <td>0.347683</td>\n",
       "      <td>0.343987</td>\n",
       "    </tr>\n",
       "    <tr>\n",
       "      <th>SI</th>\n",
       "      <td>0.362357</td>\n",
       "      <td>0.353937</td>\n",
       "    </tr>\n",
       "    <tr>\n",
       "      <th>SL</th>\n",
       "      <td>0.293281</td>\n",
       "      <td>0.287802</td>\n",
       "    </tr>\n",
       "    <tr>\n",
       "      <th>ST</th>\n",
       "      <td>0.271994</td>\n",
       "      <td>0.267621</td>\n",
       "    </tr>\n",
       "    <tr>\n",
       "      <th>SV</th>\n",
       "      <td>0.304908</td>\n",
       "      <td>0.300446</td>\n",
       "    </tr>\n",
       "  </tbody>\n",
       "</table>\n",
       "</div>"
      ],
      "text/plain": [
       "              sxwOBA  sxwOBA_adj\n",
       "pitch_type                      \n",
       "CH          0.302542    0.295533\n",
       "CS          0.217032    0.210069\n",
       "CU          0.287562    0.281881\n",
       "EP          0.498885    0.493780\n",
       "FA          0.455321    0.449930\n",
       "FC          0.350624    0.344367\n",
       "FF          0.359642    0.355020\n",
       "FO          0.192533    0.189185\n",
       "FS          0.263834    0.257279\n",
       "KC          0.281009    0.274881\n",
       "KN          0.444953    0.435509\n",
       "SC          0.347683    0.343987\n",
       "SI          0.362357    0.353937\n",
       "SL          0.293281    0.287802\n",
       "ST          0.271994    0.267621\n",
       "SV          0.304908    0.300446"
      ]
     },
     "execution_count": 66,
     "metadata": {},
     "output_type": "execute_result"
    }
   ],
   "source": [
    "df3.groupby('pitch_type')['sxwOBA', 'sxwOBA_adj'].mean()"
   ]
  },
  {
   "cell_type": "code",
   "execution_count": null,
   "metadata": {},
   "outputs": [
    {
     "name": "stderr",
     "output_type": "stream",
     "text": [
      "C:\\Users\\wampl\\AppData\\Local\\Temp\\ipykernel_21200\\2529269680.py:1: FutureWarning:\n",
      "\n",
      "Indexing with multiple keys (implicitly converted to a tuple of keys) will be deprecated, use a list instead.\n",
      "\n"
     ]
    },
    {
     "data": {
      "text/html": [
       "<div>\n",
       "<style scoped>\n",
       "    .dataframe tbody tr th:only-of-type {\n",
       "        vertical-align: middle;\n",
       "    }\n",
       "\n",
       "    .dataframe tbody tr th {\n",
       "        vertical-align: top;\n",
       "    }\n",
       "\n",
       "    .dataframe thead th {\n",
       "        text-align: right;\n",
       "    }\n",
       "</style>\n",
       "<table border=\"1\" class=\"dataframe\">\n",
       "  <thead>\n",
       "    <tr style=\"text-align: right;\">\n",
       "      <th></th>\n",
       "      <th>sxwOBA</th>\n",
       "      <th>sxwOBA_adj</th>\n",
       "    </tr>\n",
       "    <tr>\n",
       "      <th>pitch_type</th>\n",
       "      <th></th>\n",
       "      <th></th>\n",
       "    </tr>\n",
       "  </thead>\n",
       "  <tbody>\n",
       "    <tr>\n",
       "      <th>CH</th>\n",
       "      <td>0.297299</td>\n",
       "      <td>0.290311</td>\n",
       "    </tr>\n",
       "    <tr>\n",
       "      <th>CS</th>\n",
       "      <td>0.367528</td>\n",
       "      <td>0.362529</td>\n",
       "    </tr>\n",
       "    <tr>\n",
       "      <th>CU</th>\n",
       "      <td>0.281527</td>\n",
       "      <td>0.276038</td>\n",
       "    </tr>\n",
       "    <tr>\n",
       "      <th>EP</th>\n",
       "      <td>0.456227</td>\n",
       "      <td>0.450593</td>\n",
       "    </tr>\n",
       "    <tr>\n",
       "      <th>FA</th>\n",
       "      <td>0.481876</td>\n",
       "      <td>0.476874</td>\n",
       "    </tr>\n",
       "    <tr>\n",
       "      <th>FC</th>\n",
       "      <td>0.335985</td>\n",
       "      <td>0.329815</td>\n",
       "    </tr>\n",
       "    <tr>\n",
       "      <th>FF</th>\n",
       "      <td>0.350966</td>\n",
       "      <td>0.346447</td>\n",
       "    </tr>\n",
       "    <tr>\n",
       "      <th>FS</th>\n",
       "      <td>0.245195</td>\n",
       "      <td>0.238466</td>\n",
       "    </tr>\n",
       "    <tr>\n",
       "      <th>KC</th>\n",
       "      <td>0.277225</td>\n",
       "      <td>0.270803</td>\n",
       "    </tr>\n",
       "    <tr>\n",
       "      <th>KN</th>\n",
       "      <td>0.538821</td>\n",
       "      <td>0.532270</td>\n",
       "    </tr>\n",
       "    <tr>\n",
       "      <th>SI</th>\n",
       "      <td>0.360105</td>\n",
       "      <td>0.351833</td>\n",
       "    </tr>\n",
       "    <tr>\n",
       "      <th>SL</th>\n",
       "      <td>0.283268</td>\n",
       "      <td>0.278140</td>\n",
       "    </tr>\n",
       "    <tr>\n",
       "      <th>ST</th>\n",
       "      <td>0.266241</td>\n",
       "      <td>0.262377</td>\n",
       "    </tr>\n",
       "    <tr>\n",
       "      <th>SV</th>\n",
       "      <td>0.270674</td>\n",
       "      <td>0.265502</td>\n",
       "    </tr>\n",
       "  </tbody>\n",
       "</table>\n",
       "</div>"
      ],
      "text/plain": [
       "              sxwOBA  sxwOBA_adj\n",
       "pitch_type                      \n",
       "CH          0.297299    0.290311\n",
       "CS          0.367528    0.362529\n",
       "CU          0.281527    0.276038\n",
       "EP          0.456227    0.450593\n",
       "FA          0.481876    0.476874\n",
       "FC          0.335985    0.329815\n",
       "FF          0.350966    0.346447\n",
       "FS          0.245195    0.238466\n",
       "KC          0.277225    0.270803\n",
       "KN          0.538821    0.532270\n",
       "SI          0.360105    0.351833\n",
       "SL          0.283268    0.278140\n",
       "ST          0.266241    0.262377\n",
       "SV          0.270674    0.265502"
      ]
     },
     "execution_count": 67,
     "metadata": {},
     "output_type": "execute_result"
    }
   ],
   "source": [
    "df2.groupby('pitch_type')['sxwOBA', 'sxwOBA_adj'].mean()"
   ]
  },
  {
   "cell_type": "code",
   "execution_count": null,
   "metadata": {},
   "outputs": [
    {
     "data": {
      "text/plain": [
       "<AxesSubplot: xlabel='launch_angle', ylabel='is_gidp'>"
      ]
     },
     "execution_count": 79,
     "metadata": {},
     "output_type": "execute_result"
    },
    {
     "data": {
      "image/png": "[encoded data removed]",
      "text/plain": [
       "<Figure size 640x480 with 1 Axes>"
      ]
     },
     "metadata": {},
     "output_type": "display_data"
    }
   ],
   "source": [
    "df3['is_gidp'] = df3['events'].isin(['grounded_into_double_play'])\n",
    "sns.regplot(data=df3, x='launch_angle', y='is_gidp', color='red', logistic=True)"
   ]
  },
  {
   "cell_type": "code",
   "execution_count": null,
   "metadata": {},
   "outputs": [],
   "source": []
  },
  {
   "cell_type": "code",
   "execution_count": null,
   "metadata": {},
   "outputs": [
    {
     "data": {
      "text/plain": [
       "count    20.000000\n",
       "mean      4.110500\n",
       "std       0.763093\n",
       "min       3.090000\n",
       "25%       3.567500\n",
       "50%       3.920000\n",
       "75%       4.550000\n",
       "max       6.260000\n",
       "Name: xERA, dtype: float64"
      ]
     },
     "execution_count": 46,
     "metadata": {},
     "output_type": "execute_result"
    }
   ],
   "source": [
    "df_2023['xERA'].describe()"
   ]
  },
  {
   "cell_type": "code",
   "execution_count": null,
   "metadata": {},
   "outputs": [
    {
     "data": {
      "text/plain": [
       "count    20.000000\n",
       "mean      3.948000\n",
       "std       0.497368\n",
       "min       3.200000\n",
       "25%       3.582500\n",
       "50%       3.945000\n",
       "75%       4.277500\n",
       "max       5.170000\n",
       "Name: sxERA, dtype: float64"
      ]
     },
     "execution_count": 47,
     "metadata": {},
     "output_type": "execute_result"
    }
   ],
   "source": [
    "df_2023['sxERA'].describe()"
   ]
  },
  {
   "cell_type": "code",
   "execution_count": null,
   "metadata": {},
   "outputs": [
    {
     "name": "stderr",
     "output_type": "stream",
     "text": [
      "C:\\Users\\wampl\\AppData\\Local\\Temp\\ipykernel_3736\\4051704210.py:1: FutureWarning:\n",
      "\n",
      "The default value of numeric_only in DataFrame.corr is deprecated. In a future version, it will default to False. Select only valid columns or specify the value of numeric_only to silence this warning.\n",
      "\n"
     ]
    },
    {
     "data": {
      "text/html": [
       "<div>\n",
       "<style scoped>\n",
       "    .dataframe tbody tr th:only-of-type {\n",
       "        vertical-align: middle;\n",
       "    }\n",
       "\n",
       "    .dataframe tbody tr th {\n",
       "        vertical-align: top;\n",
       "    }\n",
       "\n",
       "    .dataframe thead th {\n",
       "        text-align: right;\n",
       "    }\n",
       "</style>\n",
       "<table border=\"1\" class=\"dataframe\">\n",
       "  <thead>\n",
       "    <tr style=\"text-align: right;\">\n",
       "      <th></th>\n",
       "      <th>pitcher</th>\n",
       "      <th>xwOBA_adj</th>\n",
       "      <th>sxwOBA_adj</th>\n",
       "      <th>IP</th>\n",
       "      <th>ERA</th>\n",
       "      <th>FIP</th>\n",
       "      <th>xFIP</th>\n",
       "      <th>SIERA</th>\n",
       "      <th>xERA</th>\n",
       "      <th>GB%</th>\n",
       "      <th>key_mlbam</th>\n",
       "      <th>xERA_adj</th>\n",
       "      <th>sxERA_adj</th>\n",
       "    </tr>\n",
       "  </thead>\n",
       "  <tbody>\n",
       "    <tr>\n",
       "      <th>pitcher</th>\n",
       "      <td>1.000000</td>\n",
       "      <td>0.016667</td>\n",
       "      <td>0.026202</td>\n",
       "      <td>-0.088847</td>\n",
       "      <td>0.032831</td>\n",
       "      <td>0.017176</td>\n",
       "      <td>0.023368</td>\n",
       "      <td>0.014750</td>\n",
       "      <td>0.006024</td>\n",
       "      <td>0.003726</td>\n",
       "      <td>1.000000</td>\n",
       "      <td>0.015278</td>\n",
       "      <td>0.025568</td>\n",
       "    </tr>\n",
       "    <tr>\n",
       "      <th>xwOBA_adj</th>\n",
       "      <td>0.016667</td>\n",
       "      <td>1.000000</td>\n",
       "      <td>0.956401</td>\n",
       "      <td>0.062140</td>\n",
       "      <td>0.697600</td>\n",
       "      <td>0.797798</td>\n",
       "      <td>0.694138</td>\n",
       "      <td>0.747240</td>\n",
       "      <td>0.968463</td>\n",
       "      <td>-0.183998</td>\n",
       "      <td>0.016667</td>\n",
       "      <td>0.995594</td>\n",
       "      <td>0.949980</td>\n",
       "    </tr>\n",
       "    <tr>\n",
       "      <th>sxwOBA_adj</th>\n",
       "      <td>0.026202</td>\n",
       "      <td>0.956401</td>\n",
       "      <td>1.000000</td>\n",
       "      <td>0.008291</td>\n",
       "      <td>0.720495</td>\n",
       "      <td>0.803253</td>\n",
       "      <td>0.674300</td>\n",
       "      <td>0.721301</td>\n",
       "      <td>0.935770</td>\n",
       "      <td>-0.123597</td>\n",
       "      <td>0.026202</td>\n",
       "      <td>0.953319</td>\n",
       "      <td>0.995939</td>\n",
       "    </tr>\n",
       "    <tr>\n",
       "      <th>IP</th>\n",
       "      <td>-0.088847</td>\n",
       "      <td>0.062140</td>\n",
       "      <td>0.008291</td>\n",
       "      <td>1.000000</td>\n",
       "      <td>-0.065054</td>\n",
       "      <td>-0.037001</td>\n",
       "      <td>-0.087888</td>\n",
       "      <td>0.070458</td>\n",
       "      <td>0.020091</td>\n",
       "      <td>-0.025679</td>\n",
       "      <td>-0.088847</td>\n",
       "      <td>0.043970</td>\n",
       "      <td>-0.012085</td>\n",
       "    </tr>\n",
       "    <tr>\n",
       "      <th>ERA</th>\n",
       "      <td>0.032831</td>\n",
       "      <td>0.697600</td>\n",
       "      <td>0.720495</td>\n",
       "      <td>-0.065054</td>\n",
       "      <td>1.000000</td>\n",
       "      <td>0.689703</td>\n",
       "      <td>0.535857</td>\n",
       "      <td>0.544545</td>\n",
       "      <td>0.700436</td>\n",
       "      <td>-0.178336</td>\n",
       "      <td>0.032831</td>\n",
       "      <td>0.701629</td>\n",
       "      <td>0.725192</td>\n",
       "    </tr>\n",
       "    <tr>\n",
       "      <th>FIP</th>\n",
       "      <td>0.017176</td>\n",
       "      <td>0.797798</td>\n",
       "      <td>0.803253</td>\n",
       "      <td>-0.037001</td>\n",
       "      <td>0.689703</td>\n",
       "      <td>1.000000</td>\n",
       "      <td>0.788980</td>\n",
       "      <td>0.761411</td>\n",
       "      <td>0.791694</td>\n",
       "      <td>-0.233178</td>\n",
       "      <td>0.017176</td>\n",
       "      <td>0.796515</td>\n",
       "      <td>0.803575</td>\n",
       "    </tr>\n",
       "    <tr>\n",
       "      <th>xFIP</th>\n",
       "      <td>0.023368</td>\n",
       "      <td>0.694138</td>\n",
       "      <td>0.674300</td>\n",
       "      <td>-0.087888</td>\n",
       "      <td>0.535857</td>\n",
       "      <td>0.788980</td>\n",
       "      <td>1.000000</td>\n",
       "      <td>0.933732</td>\n",
       "      <td>0.674683</td>\n",
       "      <td>-0.382389</td>\n",
       "      <td>0.023368</td>\n",
       "      <td>0.693064</td>\n",
       "      <td>0.671883</td>\n",
       "    </tr>\n",
       "    <tr>\n",
       "      <th>SIERA</th>\n",
       "      <td>0.014750</td>\n",
       "      <td>0.747240</td>\n",
       "      <td>0.721301</td>\n",
       "      <td>0.070458</td>\n",
       "      <td>0.544545</td>\n",
       "      <td>0.761411</td>\n",
       "      <td>0.933732</td>\n",
       "      <td>1.000000</td>\n",
       "      <td>0.734955</td>\n",
       "      <td>-0.213785</td>\n",
       "      <td>0.014750</td>\n",
       "      <td>0.746055</td>\n",
       "      <td>0.717756</td>\n",
       "    </tr>\n",
       "    <tr>\n",
       "      <th>xERA</th>\n",
       "      <td>0.006024</td>\n",
       "      <td>0.968463</td>\n",
       "      <td>0.935770</td>\n",
       "      <td>0.020091</td>\n",
       "      <td>0.700436</td>\n",
       "      <td>0.791694</td>\n",
       "      <td>0.674683</td>\n",
       "      <td>0.734955</td>\n",
       "      <td>1.000000</td>\n",
       "      <td>-0.143648</td>\n",
       "      <td>0.006024</td>\n",
       "      <td>0.978726</td>\n",
       "      <td>0.943211</td>\n",
       "    </tr>\n",
       "    <tr>\n",
       "      <th>GB%</th>\n",
       "      <td>0.003726</td>\n",
       "      <td>-0.183998</td>\n",
       "      <td>-0.123597</td>\n",
       "      <td>-0.025679</td>\n",
       "      <td>-0.178336</td>\n",
       "      <td>-0.233178</td>\n",
       "      <td>-0.382389</td>\n",
       "      <td>-0.213785</td>\n",
       "      <td>-0.143648</td>\n",
       "      <td>1.000000</td>\n",
       "      <td>0.003726</td>\n",
       "      <td>-0.184700</td>\n",
       "      <td>-0.124972</td>\n",
       "    </tr>\n",
       "    <tr>\n",
       "      <th>key_mlbam</th>\n",
       "      <td>1.000000</td>\n",
       "      <td>0.016667</td>\n",
       "      <td>0.026202</td>\n",
       "      <td>-0.088847</td>\n",
       "      <td>0.032831</td>\n",
       "      <td>0.017176</td>\n",
       "      <td>0.023368</td>\n",
       "      <td>0.014750</td>\n",
       "      <td>0.006024</td>\n",
       "      <td>0.003726</td>\n",
       "      <td>1.000000</td>\n",
       "      <td>0.015278</td>\n",
       "      <td>0.025568</td>\n",
       "    </tr>\n",
       "    <tr>\n",
       "      <th>xERA_adj</th>\n",
       "      <td>0.015278</td>\n",
       "      <td>0.995594</td>\n",
       "      <td>0.953319</td>\n",
       "      <td>0.043970</td>\n",
       "      <td>0.701629</td>\n",
       "      <td>0.796515</td>\n",
       "      <td>0.693064</td>\n",
       "      <td>0.746055</td>\n",
       "      <td>0.978726</td>\n",
       "      <td>-0.184700</td>\n",
       "      <td>0.015278</td>\n",
       "      <td>1.000000</td>\n",
       "      <td>0.954772</td>\n",
       "    </tr>\n",
       "    <tr>\n",
       "      <th>sxERA_adj</th>\n",
       "      <td>0.025568</td>\n",
       "      <td>0.949980</td>\n",
       "      <td>0.995939</td>\n",
       "      <td>-0.012085</td>\n",
       "      <td>0.725192</td>\n",
       "      <td>0.803575</td>\n",
       "      <td>0.671883</td>\n",
       "      <td>0.717756</td>\n",
       "      <td>0.943211</td>\n",
       "      <td>-0.124972</td>\n",
       "      <td>0.025568</td>\n",
       "      <td>0.954772</td>\n",
       "      <td>1.000000</td>\n",
       "    </tr>\n",
       "  </tbody>\n",
       "</table>\n",
       "</div>"
      ],
      "text/plain": [
       "             pitcher  xwOBA_adj  sxwOBA_adj        IP       ERA       FIP  \\\n",
       "pitcher     1.000000   0.016667    0.026202 -0.088847  0.032831  0.017176   \n",
       "xwOBA_adj   0.016667   1.000000    0.956401  0.062140  0.697600  0.797798   \n",
       "sxwOBA_adj  0.026202   0.956401    1.000000  0.008291  0.720495  0.803253   \n",
       "IP         -0.088847   0.062140    0.008291  1.000000 -0.065054 -0.037001   \n",
       "ERA         0.032831   0.697600    0.720495 -0.065054  1.000000  0.689703   \n",
       "FIP         0.017176   0.797798    0.803253 -0.037001  0.689703  1.000000   \n",
       "xFIP        0.023368   0.694138    0.674300 -0.087888  0.535857  0.788980   \n",
       "SIERA       0.014750   0.747240    0.721301  0.070458  0.544545  0.761411   \n",
       "xERA        0.006024   0.968463    0.935770  0.020091  0.700436  0.791694   \n",
       "GB%         0.003726  -0.183998   -0.123597 -0.025679 -0.178336 -0.233178   \n",
       "key_mlbam   1.000000   0.016667    0.026202 -0.088847  0.032831  0.017176   \n",
       "xERA_adj    0.015278   0.995594    0.953319  0.043970  0.701629  0.796515   \n",
       "sxERA_adj   0.025568   0.949980    0.995939 -0.012085  0.725192  0.803575   \n",
       "\n",
       "                xFIP     SIERA      xERA       GB%  key_mlbam  xERA_adj  \\\n",
       "pitcher     0.023368  0.014750  0.006024  0.003726   1.000000  0.015278   \n",
       "xwOBA_adj   0.694138  0.747240  0.968463 -0.183998   0.016667  0.995594   \n",
       "sxwOBA_adj  0.674300  0.721301  0.935770 -0.123597   0.026202  0.953319   \n",
       "IP         -0.087888  0.070458  0.020091 -0.025679  -0.088847  0.043970   \n",
       "ERA         0.535857  0.544545  0.700436 -0.178336   0.032831  0.701629   \n",
       "FIP         0.788980  0.761411  0.791694 -0.233178   0.017176  0.796515   \n",
       "xFIP        1.000000  0.933732  0.674683 -0.382389   0.023368  0.693064   \n",
       "SIERA       0.933732  1.000000  0.734955 -0.213785   0.014750  0.746055   \n",
       "xERA        0.674683  0.734955  1.000000 -0.143648   0.006024  0.978726   \n",
       "GB%        -0.382389 -0.213785 -0.143648  1.000000   0.003726 -0.184700   \n",
       "key_mlbam   0.023368  0.014750  0.006024  0.003726   1.000000  0.015278   \n",
       "xERA_adj    0.693064  0.746055  0.978726 -0.184700   0.015278  1.000000   \n",
       "sxERA_adj   0.671883  0.717756  0.943211 -0.124972   0.025568  0.954772   \n",
       "\n",
       "            sxERA_adj  \n",
       "pitcher      0.025568  \n",
       "xwOBA_adj    0.949980  \n",
       "sxwOBA_adj   0.995939  \n",
       "IP          -0.012085  \n",
       "ERA          0.725192  \n",
       "FIP          0.803575  \n",
       "xFIP         0.671883  \n",
       "SIERA        0.717756  \n",
       "xERA         0.943211  \n",
       "GB%         -0.124972  \n",
       "key_mlbam    0.025568  \n",
       "xERA_adj     0.954772  \n",
       "sxERA_adj    1.000000  "
      ]
     },
     "execution_count": 108,
     "metadata": {},
     "output_type": "execute_result"
    }
   ],
   "source": [
    "df_2023.corr()"
   ]
  },
  {
   "cell_type": "code",
   "execution_count": null,
   "metadata": {},
   "outputs": [],
   "source": [
    "df3.groupby('pitch_type')['estimated_woba_using_speedangle', 'xwOBA_adj'].mean()"
   ]
  },
  {
   "cell_type": "code",
   "execution_count": null,
   "metadata": {},
   "outputs": [
    {
     "data": {
      "text/html": [
       "<div>\n",
       "<style scoped>\n",
       "    .dataframe tbody tr th:only-of-type {\n",
       "        vertical-align: middle;\n",
       "    }\n",
       "\n",
       "    .dataframe tbody tr th {\n",
       "        vertical-align: top;\n",
       "    }\n",
       "\n",
       "    .dataframe thead th {\n",
       "        text-align: right;\n",
       "    }\n",
       "</style>\n",
       "<table border=\"1\" class=\"dataframe\">\n",
       "  <thead>\n",
       "    <tr style=\"text-align: right;\">\n",
       "      <th></th>\n",
       "      <th>Unnamed: 0</th>\n",
       "      <th>pitch_type</th>\n",
       "      <th>game_date</th>\n",
       "      <th>release_speed</th>\n",
       "      <th>release_pos_x</th>\n",
       "      <th>release_pos_z</th>\n",
       "      <th>player_name</th>\n",
       "      <th>batter</th>\n",
       "      <th>pitcher</th>\n",
       "      <th>events</th>\n",
       "      <th>...</th>\n",
       "      <th>of_fielding_alignment</th>\n",
       "      <th>batter_team</th>\n",
       "      <th>pitcher_team</th>\n",
       "      <th>stand_L</th>\n",
       "      <th>stand_R</th>\n",
       "      <th>batter_name</th>\n",
       "      <th>rf_xwoba</th>\n",
       "      <th>sxwOBA</th>\n",
       "      <th>sxwoba_prob_model</th>\n",
       "      <th>pulled_barrel</th>\n",
       "    </tr>\n",
       "  </thead>\n",
       "  <tbody>\n",
       "    <tr>\n",
       "      <th>33</th>\n",
       "      <td>33</td>\n",
       "      <td>SL</td>\n",
       "      <td>2023-06-26</td>\n",
       "      <td>91.3</td>\n",
       "      <td>-1.90</td>\n",
       "      <td>5.95</td>\n",
       "      <td>Baumann, Mike</td>\n",
       "      <td>663886</td>\n",
       "      <td>657508</td>\n",
       "      <td>strikeout</td>\n",
       "      <td>...</td>\n",
       "      <td>0.0</td>\n",
       "      <td>CIN</td>\n",
       "      <td>BAL</td>\n",
       "      <td>0</td>\n",
       "      <td>1</td>\n",
       "      <td>tyler stephenson</td>\n",
       "      <td>0.0</td>\n",
       "      <td>0.0</td>\n",
       "      <td>NaN</td>\n",
       "      <td>0</td>\n",
       "    </tr>\n",
       "    <tr>\n",
       "      <th>80</th>\n",
       "      <td>80</td>\n",
       "      <td>CH</td>\n",
       "      <td>2023-06-26</td>\n",
       "      <td>83.9</td>\n",
       "      <td>-0.46</td>\n",
       "      <td>6.71</td>\n",
       "      <td>Baker, Bryan</td>\n",
       "      <td>680574</td>\n",
       "      <td>641329</td>\n",
       "      <td>strikeout</td>\n",
       "      <td>...</td>\n",
       "      <td>0.0</td>\n",
       "      <td>CIN</td>\n",
       "      <td>BAL</td>\n",
       "      <td>0</td>\n",
       "      <td>1</td>\n",
       "      <td>matt mclain</td>\n",
       "      <td>0.0</td>\n",
       "      <td>0.0</td>\n",
       "      <td>NaN</td>\n",
       "      <td>0</td>\n",
       "    </tr>\n",
       "    <tr>\n",
       "      <th>84</th>\n",
       "      <td>84</td>\n",
       "      <td>FF</td>\n",
       "      <td>2023-06-26</td>\n",
       "      <td>97.9</td>\n",
       "      <td>-0.54</td>\n",
       "      <td>6.61</td>\n",
       "      <td>Baker, Bryan</td>\n",
       "      <td>621028</td>\n",
       "      <td>641329</td>\n",
       "      <td>strikeout</td>\n",
       "      <td>...</td>\n",
       "      <td>0.0</td>\n",
       "      <td>CIN</td>\n",
       "      <td>BAL</td>\n",
       "      <td>0</td>\n",
       "      <td>1</td>\n",
       "      <td>kevin newman</td>\n",
       "      <td>0.0</td>\n",
       "      <td>0.0</td>\n",
       "      <td>NaN</td>\n",
       "      <td>0</td>\n",
       "    </tr>\n",
       "    <tr>\n",
       "      <th>177</th>\n",
       "      <td>177</td>\n",
       "      <td>FS</td>\n",
       "      <td>2023-06-26</td>\n",
       "      <td>81.0</td>\n",
       "      <td>-1.45</td>\n",
       "      <td>5.99</td>\n",
       "      <td>Cruz, Fernando</td>\n",
       "      <td>669720</td>\n",
       "      <td>518585</td>\n",
       "      <td>strikeout</td>\n",
       "      <td>...</td>\n",
       "      <td>0.0</td>\n",
       "      <td>BAL</td>\n",
       "      <td>CIN</td>\n",
       "      <td>0</td>\n",
       "      <td>1</td>\n",
       "      <td>austin hays</td>\n",
       "      <td>0.0</td>\n",
       "      <td>0.0</td>\n",
       "      <td>NaN</td>\n",
       "      <td>0</td>\n",
       "    </tr>\n",
       "    <tr>\n",
       "      <th>183</th>\n",
       "      <td>183</td>\n",
       "      <td>FS</td>\n",
       "      <td>2023-06-26</td>\n",
       "      <td>80.8</td>\n",
       "      <td>-1.19</td>\n",
       "      <td>6.09</td>\n",
       "      <td>Cruz, Fernando</td>\n",
       "      <td>622761</td>\n",
       "      <td>518585</td>\n",
       "      <td>strikeout</td>\n",
       "      <td>...</td>\n",
       "      <td>0.0</td>\n",
       "      <td>BAL</td>\n",
       "      <td>CIN</td>\n",
       "      <td>0</td>\n",
       "      <td>1</td>\n",
       "      <td>jorge mateo</td>\n",
       "      <td>0.0</td>\n",
       "      <td>0.0</td>\n",
       "      <td>NaN</td>\n",
       "      <td>0</td>\n",
       "    </tr>\n",
       "  </tbody>\n",
       "</table>\n",
       "<p>5 rows × 104 columns</p>\n",
       "</div>"
      ],
      "text/plain": [
       "     Unnamed: 0 pitch_type   game_date  release_speed  release_pos_x  \\\n",
       "33           33         SL  2023-06-26           91.3          -1.90   \n",
       "80           80         CH  2023-06-26           83.9          -0.46   \n",
       "84           84         FF  2023-06-26           97.9          -0.54   \n",
       "177         177         FS  2023-06-26           81.0          -1.45   \n",
       "183         183         FS  2023-06-26           80.8          -1.19   \n",
       "\n",
       "     release_pos_z     player_name  batter  pitcher     events  ...  \\\n",
       "33            5.95   Baumann, Mike  663886   657508  strikeout  ...   \n",
       "80            6.71    Baker, Bryan  680574   641329  strikeout  ...   \n",
       "84            6.61    Baker, Bryan  621028   641329  strikeout  ...   \n",
       "177           5.99  Cruz, Fernando  669720   518585  strikeout  ...   \n",
       "183           6.09  Cruz, Fernando  622761   518585  strikeout  ...   \n",
       "\n",
       "    of_fielding_alignment  batter_team  pitcher_team  stand_L  stand_R  \\\n",
       "33                    0.0          CIN           BAL        0        1   \n",
       "80                    0.0          CIN           BAL        0        1   \n",
       "84                    0.0          CIN           BAL        0        1   \n",
       "177                   0.0          BAL           CIN        0        1   \n",
       "183                   0.0          BAL           CIN        0        1   \n",
       "\n",
       "          batter_name rf_xwoba sxwOBA sxwoba_prob_model pulled_barrel  \n",
       "33   tyler stephenson      0.0    0.0               NaN             0  \n",
       "80        matt mclain      0.0    0.0               NaN             0  \n",
       "84       kevin newman      0.0    0.0               NaN             0  \n",
       "177       austin hays      0.0    0.0               NaN             0  \n",
       "183       jorge mateo      0.0    0.0               NaN             0  \n",
       "\n",
       "[5 rows x 104 columns]"
      ]
     },
     "execution_count": 3,
     "metadata": {},
     "output_type": "execute_result"
    }
   ],
   "source": [
    "current.loc[current['target'] == 7].head()"
   ]
  },
  {
   "cell_type": "code",
   "execution_count": null,
   "metadata": {},
   "outputs": [],
   "source": [
    "df = pd.read_csv(\"statcast_data/2023.csv\")"
   ]
  },
  {
   "cell_type": "code",
   "execution_count": null,
   "metadata": {},
   "outputs": [
    {
     "data": {
      "text/html": [
       "<div>\n",
       "<style scoped>\n",
       "    .dataframe tbody tr th:only-of-type {\n",
       "        vertical-align: middle;\n",
       "    }\n",
       "\n",
       "    .dataframe tbody tr th {\n",
       "        vertical-align: top;\n",
       "    }\n",
       "\n",
       "    .dataframe thead th {\n",
       "        text-align: right;\n",
       "    }\n",
       "</style>\n",
       "<table border=\"1\" class=\"dataframe\">\n",
       "  <thead>\n",
       "    <tr style=\"text-align: right;\">\n",
       "      <th></th>\n",
       "      <th>Unnamed: 0</th>\n",
       "      <th>pitch_type</th>\n",
       "      <th>game_date</th>\n",
       "      <th>release_speed</th>\n",
       "      <th>release_pos_x</th>\n",
       "      <th>release_pos_z</th>\n",
       "      <th>player_name</th>\n",
       "      <th>batter</th>\n",
       "      <th>pitcher</th>\n",
       "      <th>events</th>\n",
       "      <th>...</th>\n",
       "      <th>fld_score</th>\n",
       "      <th>post_away_score</th>\n",
       "      <th>post_home_score</th>\n",
       "      <th>post_bat_score</th>\n",
       "      <th>post_fld_score</th>\n",
       "      <th>if_fielding_alignment</th>\n",
       "      <th>of_fielding_alignment</th>\n",
       "      <th>spin_axis</th>\n",
       "      <th>delta_home_win_exp</th>\n",
       "      <th>delta_run_exp</th>\n",
       "    </tr>\n",
       "  </thead>\n",
       "  <tbody>\n",
       "    <tr>\n",
       "      <th>0</th>\n",
       "      <td>0</td>\n",
       "      <td>FF</td>\n",
       "      <td>2023-06-26</td>\n",
       "      <td>96.6</td>\n",
       "      <td>1.30</td>\n",
       "      <td>5.46</td>\n",
       "      <td>Pérez, Cionel</td>\n",
       "      <td>663697</td>\n",
       "      <td>672335</td>\n",
       "      <td>field_out</td>\n",
       "      <td>...</td>\n",
       "      <td>10</td>\n",
       "      <td>3</td>\n",
       "      <td>10</td>\n",
       "      <td>3</td>\n",
       "      <td>10</td>\n",
       "      <td>Standard</td>\n",
       "      <td>Standard</td>\n",
       "      <td>143.0</td>\n",
       "      <td>0.000</td>\n",
       "      <td>-0.470</td>\n",
       "    </tr>\n",
       "    <tr>\n",
       "      <th>1</th>\n",
       "      <td>1</td>\n",
       "      <td>SL</td>\n",
       "      <td>2023-06-26</td>\n",
       "      <td>84.0</td>\n",
       "      <td>1.13</td>\n",
       "      <td>5.41</td>\n",
       "      <td>Pérez, Cionel</td>\n",
       "      <td>680574</td>\n",
       "      <td>672335</td>\n",
       "      <td>hit_by_pitch</td>\n",
       "      <td>...</td>\n",
       "      <td>10</td>\n",
       "      <td>3</td>\n",
       "      <td>10</td>\n",
       "      <td>3</td>\n",
       "      <td>10</td>\n",
       "      <td>Strategic</td>\n",
       "      <td>Standard</td>\n",
       "      <td>337.0</td>\n",
       "      <td>0.000</td>\n",
       "      <td>0.268</td>\n",
       "    </tr>\n",
       "    <tr>\n",
       "      <th>2</th>\n",
       "      <td>2</td>\n",
       "      <td>FF</td>\n",
       "      <td>2023-06-26</td>\n",
       "      <td>98.1</td>\n",
       "      <td>1.02</td>\n",
       "      <td>5.43</td>\n",
       "      <td>Pérez, Cionel</td>\n",
       "      <td>680574</td>\n",
       "      <td>672335</td>\n",
       "      <td>NaN</td>\n",
       "      <td>...</td>\n",
       "      <td>10</td>\n",
       "      <td>3</td>\n",
       "      <td>10</td>\n",
       "      <td>3</td>\n",
       "      <td>10</td>\n",
       "      <td>Standard</td>\n",
       "      <td>Standard</td>\n",
       "      <td>135.0</td>\n",
       "      <td>0.000</td>\n",
       "      <td>-0.036</td>\n",
       "    </tr>\n",
       "    <tr>\n",
       "      <th>3</th>\n",
       "      <td>3</td>\n",
       "      <td>FF</td>\n",
       "      <td>2023-06-26</td>\n",
       "      <td>97.2</td>\n",
       "      <td>1.12</td>\n",
       "      <td>5.42</td>\n",
       "      <td>Pérez, Cionel</td>\n",
       "      <td>621028</td>\n",
       "      <td>672335</td>\n",
       "      <td>field_out</td>\n",
       "      <td>...</td>\n",
       "      <td>10</td>\n",
       "      <td>3</td>\n",
       "      <td>10</td>\n",
       "      <td>3</td>\n",
       "      <td>10</td>\n",
       "      <td>Strategic</td>\n",
       "      <td>Standard</td>\n",
       "      <td>146.0</td>\n",
       "      <td>0.001</td>\n",
       "      <td>-0.305</td>\n",
       "    </tr>\n",
       "    <tr>\n",
       "      <th>4</th>\n",
       "      <td>4</td>\n",
       "      <td>FF</td>\n",
       "      <td>2023-06-26</td>\n",
       "      <td>98.2</td>\n",
       "      <td>1.17</td>\n",
       "      <td>5.40</td>\n",
       "      <td>Pérez, Cionel</td>\n",
       "      <td>592200</td>\n",
       "      <td>672335</td>\n",
       "      <td>walk</td>\n",
       "      <td>...</td>\n",
       "      <td>10</td>\n",
       "      <td>3</td>\n",
       "      <td>10</td>\n",
       "      <td>3</td>\n",
       "      <td>10</td>\n",
       "      <td>Standard</td>\n",
       "      <td>Standard</td>\n",
       "      <td>138.0</td>\n",
       "      <td>-0.001</td>\n",
       "      <td>0.227</td>\n",
       "    </tr>\n",
       "  </tbody>\n",
       "</table>\n",
       "<p>5 rows × 93 columns</p>\n",
       "</div>"
      ],
      "text/plain": [
       "   Unnamed: 0 pitch_type   game_date  release_speed  release_pos_x  \\\n",
       "0           0         FF  2023-06-26           96.6           1.30   \n",
       "1           1         SL  2023-06-26           84.0           1.13   \n",
       "2           2         FF  2023-06-26           98.1           1.02   \n",
       "3           3         FF  2023-06-26           97.2           1.12   \n",
       "4           4         FF  2023-06-26           98.2           1.17   \n",
       "\n",
       "   release_pos_z    player_name  batter  pitcher        events  ... fld_score  \\\n",
       "0           5.46  Pérez, Cionel  663697   672335     field_out  ...        10   \n",
       "1           5.41  Pérez, Cionel  680574   672335  hit_by_pitch  ...        10   \n",
       "2           5.43  Pérez, Cionel  680574   672335           NaN  ...        10   \n",
       "3           5.42  Pérez, Cionel  621028   672335     field_out  ...        10   \n",
       "4           5.40  Pérez, Cionel  592200   672335          walk  ...        10   \n",
       "\n",
       "   post_away_score  post_home_score  post_bat_score  post_fld_score  \\\n",
       "0                3               10               3              10   \n",
       "1                3               10               3              10   \n",
       "2                3               10               3              10   \n",
       "3                3               10               3              10   \n",
       "4                3               10               3              10   \n",
       "\n",
       "   if_fielding_alignment of_fielding_alignment spin_axis delta_home_win_exp  \\\n",
       "0               Standard              Standard     143.0              0.000   \n",
       "1              Strategic              Standard     337.0              0.000   \n",
       "2               Standard              Standard     135.0              0.000   \n",
       "3              Strategic              Standard     146.0              0.001   \n",
       "4               Standard              Standard     138.0             -0.001   \n",
       "\n",
       "  delta_run_exp  \n",
       "0        -0.470  \n",
       "1         0.268  \n",
       "2        -0.036  \n",
       "3        -0.305  \n",
       "4         0.227  \n",
       "\n",
       "[5 rows x 93 columns]"
      ]
     },
     "execution_count": 5,
     "metadata": {},
     "output_type": "execute_result"
    }
   ],
   "source": [
    "df.head().reset_index(drop=True)"
   ]
  },
  {
   "cell_type": "code",
   "execution_count": null,
   "metadata": {},
   "outputs": [
    {
     "data": {
      "text/html": [
       "<div>\n",
       "<style scoped>\n",
       "    .dataframe tbody tr th:only-of-type {\n",
       "        vertical-align: middle;\n",
       "    }\n",
       "\n",
       "    .dataframe tbody tr th {\n",
       "        vertical-align: top;\n",
       "    }\n",
       "\n",
       "    .dataframe thead th {\n",
       "        text-align: right;\n",
       "    }\n",
       "</style>\n",
       "<table border=\"1\" class=\"dataframe\">\n",
       "  <thead>\n",
       "    <tr style=\"text-align: right;\">\n",
       "      <th></th>\n",
       "      <th>Unnamed: 0</th>\n",
       "      <th>pitch_type</th>\n",
       "      <th>game_date</th>\n",
       "      <th>release_speed</th>\n",
       "      <th>release_pos_x</th>\n",
       "      <th>release_pos_z</th>\n",
       "      <th>player_name</th>\n",
       "      <th>batter</th>\n",
       "      <th>pitcher</th>\n",
       "      <th>events</th>\n",
       "      <th>...</th>\n",
       "      <th>fld_score</th>\n",
       "      <th>post_away_score</th>\n",
       "      <th>post_home_score</th>\n",
       "      <th>post_bat_score</th>\n",
       "      <th>post_fld_score</th>\n",
       "      <th>if_fielding_alignment</th>\n",
       "      <th>of_fielding_alignment</th>\n",
       "      <th>spin_axis</th>\n",
       "      <th>delta_home_win_exp</th>\n",
       "      <th>delta_run_exp</th>\n",
       "    </tr>\n",
       "  </thead>\n",
       "  <tbody>\n",
       "    <tr>\n",
       "      <th>0</th>\n",
       "      <td>0</td>\n",
       "      <td>FF</td>\n",
       "      <td>2023-06-26</td>\n",
       "      <td>96.6</td>\n",
       "      <td>1.30</td>\n",
       "      <td>5.46</td>\n",
       "      <td>Pérez, Cionel</td>\n",
       "      <td>663697</td>\n",
       "      <td>672335</td>\n",
       "      <td>field_out</td>\n",
       "      <td>...</td>\n",
       "      <td>10</td>\n",
       "      <td>3</td>\n",
       "      <td>10</td>\n",
       "      <td>3</td>\n",
       "      <td>10</td>\n",
       "      <td>Standard</td>\n",
       "      <td>Standard</td>\n",
       "      <td>143.0</td>\n",
       "      <td>0.000</td>\n",
       "      <td>-0.470</td>\n",
       "    </tr>\n",
       "    <tr>\n",
       "      <th>1</th>\n",
       "      <td>1</td>\n",
       "      <td>SL</td>\n",
       "      <td>2023-06-26</td>\n",
       "      <td>84.0</td>\n",
       "      <td>1.13</td>\n",
       "      <td>5.41</td>\n",
       "      <td>Pérez, Cionel</td>\n",
       "      <td>680574</td>\n",
       "      <td>672335</td>\n",
       "      <td>hit_by_pitch</td>\n",
       "      <td>...</td>\n",
       "      <td>10</td>\n",
       "      <td>3</td>\n",
       "      <td>10</td>\n",
       "      <td>3</td>\n",
       "      <td>10</td>\n",
       "      <td>Strategic</td>\n",
       "      <td>Standard</td>\n",
       "      <td>337.0</td>\n",
       "      <td>0.000</td>\n",
       "      <td>0.268</td>\n",
       "    </tr>\n",
       "    <tr>\n",
       "      <th>2</th>\n",
       "      <td>2</td>\n",
       "      <td>FF</td>\n",
       "      <td>2023-06-26</td>\n",
       "      <td>98.1</td>\n",
       "      <td>1.02</td>\n",
       "      <td>5.43</td>\n",
       "      <td>Pérez, Cionel</td>\n",
       "      <td>680574</td>\n",
       "      <td>672335</td>\n",
       "      <td>NaN</td>\n",
       "      <td>...</td>\n",
       "      <td>10</td>\n",
       "      <td>3</td>\n",
       "      <td>10</td>\n",
       "      <td>3</td>\n",
       "      <td>10</td>\n",
       "      <td>Standard</td>\n",
       "      <td>Standard</td>\n",
       "      <td>135.0</td>\n",
       "      <td>0.000</td>\n",
       "      <td>-0.036</td>\n",
       "    </tr>\n",
       "    <tr>\n",
       "      <th>3</th>\n",
       "      <td>3</td>\n",
       "      <td>FF</td>\n",
       "      <td>2023-06-26</td>\n",
       "      <td>97.2</td>\n",
       "      <td>1.12</td>\n",
       "      <td>5.42</td>\n",
       "      <td>Pérez, Cionel</td>\n",
       "      <td>621028</td>\n",
       "      <td>672335</td>\n",
       "      <td>field_out</td>\n",
       "      <td>...</td>\n",
       "      <td>10</td>\n",
       "      <td>3</td>\n",
       "      <td>10</td>\n",
       "      <td>3</td>\n",
       "      <td>10</td>\n",
       "      <td>Strategic</td>\n",
       "      <td>Standard</td>\n",
       "      <td>146.0</td>\n",
       "      <td>0.001</td>\n",
       "      <td>-0.305</td>\n",
       "    </tr>\n",
       "    <tr>\n",
       "      <th>4</th>\n",
       "      <td>4</td>\n",
       "      <td>FF</td>\n",
       "      <td>2023-06-26</td>\n",
       "      <td>98.2</td>\n",
       "      <td>1.17</td>\n",
       "      <td>5.40</td>\n",
       "      <td>Pérez, Cionel</td>\n",
       "      <td>592200</td>\n",
       "      <td>672335</td>\n",
       "      <td>walk</td>\n",
       "      <td>...</td>\n",
       "      <td>10</td>\n",
       "      <td>3</td>\n",
       "      <td>10</td>\n",
       "      <td>3</td>\n",
       "      <td>10</td>\n",
       "      <td>Standard</td>\n",
       "      <td>Standard</td>\n",
       "      <td>138.0</td>\n",
       "      <td>-0.001</td>\n",
       "      <td>0.227</td>\n",
       "    </tr>\n",
       "  </tbody>\n",
       "</table>\n",
       "<p>5 rows × 93 columns</p>\n",
       "</div>"
      ],
      "text/plain": [
       "   Unnamed: 0 pitch_type   game_date  release_speed  release_pos_x  \\\n",
       "0           0         FF  2023-06-26           96.6           1.30   \n",
       "1           1         SL  2023-06-26           84.0           1.13   \n",
       "2           2         FF  2023-06-26           98.1           1.02   \n",
       "3           3         FF  2023-06-26           97.2           1.12   \n",
       "4           4         FF  2023-06-26           98.2           1.17   \n",
       "\n",
       "   release_pos_z    player_name  batter  pitcher        events  ... fld_score  \\\n",
       "0           5.46  Pérez, Cionel  663697   672335     field_out  ...        10   \n",
       "1           5.41  Pérez, Cionel  680574   672335  hit_by_pitch  ...        10   \n",
       "2           5.43  Pérez, Cionel  680574   672335           NaN  ...        10   \n",
       "3           5.42  Pérez, Cionel  621028   672335     field_out  ...        10   \n",
       "4           5.40  Pérez, Cionel  592200   672335          walk  ...        10   \n",
       "\n",
       "   post_away_score  post_home_score  post_bat_score  post_fld_score  \\\n",
       "0                3               10               3              10   \n",
       "1                3               10               3              10   \n",
       "2                3               10               3              10   \n",
       "3                3               10               3              10   \n",
       "4                3               10               3              10   \n",
       "\n",
       "   if_fielding_alignment of_fielding_alignment spin_axis delta_home_win_exp  \\\n",
       "0               Standard              Standard     143.0              0.000   \n",
       "1              Strategic              Standard     337.0              0.000   \n",
       "2               Standard              Standard     135.0              0.000   \n",
       "3              Strategic              Standard     146.0              0.001   \n",
       "4               Standard              Standard     138.0             -0.001   \n",
       "\n",
       "  delta_run_exp  \n",
       "0        -0.470  \n",
       "1         0.268  \n",
       "2        -0.036  \n",
       "3        -0.305  \n",
       "4         0.227  \n",
       "\n",
       "[5 rows x 93 columns]"
      ]
     },
     "execution_count": 6,
     "metadata": {},
     "output_type": "execute_result"
    }
   ],
   "source": [
    "df.head()"
   ]
  },
  {
   "cell_type": "code",
   "execution_count": null,
   "metadata": {},
   "outputs": [
    {
     "data": {
      "text/html": [
       "<div>\n",
       "<style scoped>\n",
       "    .dataframe tbody tr th:only-of-type {\n",
       "        vertical-align: middle;\n",
       "    }\n",
       "\n",
       "    .dataframe tbody tr th {\n",
       "        vertical-align: top;\n",
       "    }\n",
       "\n",
       "    .dataframe thead th {\n",
       "        text-align: right;\n",
       "    }\n",
       "</style>\n",
       "<table border=\"1\" class=\"dataframe\">\n",
       "  <thead>\n",
       "    <tr style=\"text-align: right;\">\n",
       "      <th></th>\n",
       "      <th>last_name</th>\n",
       "      <th>first_name</th>\n",
       "      <th>player_id</th>\n",
       "      <th>team_id</th>\n",
       "      <th>team</th>\n",
       "      <th>position</th>\n",
       "      <th>age</th>\n",
       "      <th>competitive_runs</th>\n",
       "      <th>bolts</th>\n",
       "      <th>hp_to_1b</th>\n",
       "      <th>sprint_speed</th>\n",
       "    </tr>\n",
       "  </thead>\n",
       "  <tbody>\n",
       "    <tr>\n",
       "      <th>0</th>\n",
       "      <td>De La Cruz</td>\n",
       "      <td>Elly</td>\n",
       "      <td>682829</td>\n",
       "      <td>113</td>\n",
       "      <td>CIN</td>\n",
       "      <td>3B</td>\n",
       "      <td>21</td>\n",
       "      <td>49</td>\n",
       "      <td>30.0</td>\n",
       "      <td>4.15</td>\n",
       "      <td>30.8</td>\n",
       "    </tr>\n",
       "    <tr>\n",
       "      <th>1</th>\n",
       "      <td>Witt Jr.</td>\n",
       "      <td>Bobby</td>\n",
       "      <td>677951</td>\n",
       "      <td>118</td>\n",
       "      <td>KC</td>\n",
       "      <td>SS</td>\n",
       "      <td>23</td>\n",
       "      <td>121</td>\n",
       "      <td>66.0</td>\n",
       "      <td>4.15</td>\n",
       "      <td>30.4</td>\n",
       "    </tr>\n",
       "    <tr>\n",
       "      <th>2</th>\n",
       "      <td>Thompson</td>\n",
       "      <td>Bubba</td>\n",
       "      <td>669352</td>\n",
       "      <td>140</td>\n",
       "      <td>TEX</td>\n",
       "      <td>LF</td>\n",
       "      <td>25</td>\n",
       "      <td>24</td>\n",
       "      <td>19.0</td>\n",
       "      <td>4.22</td>\n",
       "      <td>30.4</td>\n",
       "    </tr>\n",
       "    <tr>\n",
       "      <th>3</th>\n",
       "      <td>Turner</td>\n",
       "      <td>Trea</td>\n",
       "      <td>607208</td>\n",
       "      <td>143</td>\n",
       "      <td>PHI</td>\n",
       "      <td>SS</td>\n",
       "      <td>30</td>\n",
       "      <td>117</td>\n",
       "      <td>49.0</td>\n",
       "      <td>4.13</td>\n",
       "      <td>30.3</td>\n",
       "    </tr>\n",
       "    <tr>\n",
       "      <th>4</th>\n",
       "      <td>Carroll</td>\n",
       "      <td>Corbin</td>\n",
       "      <td>682998</td>\n",
       "      <td>109</td>\n",
       "      <td>AZ</td>\n",
       "      <td>LF</td>\n",
       "      <td>22</td>\n",
       "      <td>131</td>\n",
       "      <td>58.0</td>\n",
       "      <td>4.08</td>\n",
       "      <td>30.1</td>\n",
       "    </tr>\n",
       "  </tbody>\n",
       "</table>\n",
       "</div>"
      ],
      "text/plain": [
       "    last_name first_name  player_id  team_id team position  age  \\\n",
       "0  De La Cruz       Elly     682829      113  CIN       3B   21   \n",
       "1    Witt Jr.      Bobby     677951      118   KC       SS   23   \n",
       "2    Thompson      Bubba     669352      140  TEX       LF   25   \n",
       "3      Turner       Trea     607208      143  PHI       SS   30   \n",
       "4     Carroll     Corbin     682998      109   AZ       LF   22   \n",
       "\n",
       "   competitive_runs  bolts  hp_to_1b  sprint_speed  \n",
       "0                49   30.0      4.15          30.8  \n",
       "1               121   66.0      4.15          30.4  \n",
       "2                24   19.0      4.22          30.4  \n",
       "3               117   49.0      4.13          30.3  \n",
       "4               131   58.0      4.08          30.1  "
      ]
     },
     "execution_count": 7,
     "metadata": {},
     "output_type": "execute_result"
    }
   ],
   "source": [
    "sprint_speed = pb.statcast_sprint_speed(2023, min_opp=5)\n",
    "sprint_speed.head()"
   ]
  },
  {
   "cell_type": "code",
   "execution_count": null,
   "metadata": {},
   "outputs": [],
   "source": [
    "import pandas as pd\n",
    "import os\n",
    "\n",
    "# read in the dataframes\n",
    "base_dir = \"C:/Users/wampl/sxwOBA\"\n",
    "leaders_2021 = pd.read_csv(os.path.join(base_dir, \"leaders\", \"spray_xwoba_2021.csv\"))\n",
    "leaders_2022 = pd.read_csv(os.path.join(base_dir, \"leaders\", \"spray_xwoba_2022.csv\"))\n",
    "leaders_2023 = pd.read_csv(os.path.join(base_dir, \"leaders\", \"spray_xwoba_2023.csv\"))\n",
    "\n",
    "# merge the dataframes on the 'batter' column\n",
    "merged_leaders = pd.merge(leaders_2021, leaders_2022, on='batter', suffixes=('_2021', '_2022'))\n",
    "merged_leaders = pd.merge(merged_leaders, leaders_2023, on='batter', suffixes=('', '_2023'))"
   ]
  },
  {
   "cell_type": "code",
   "execution_count": null,
   "metadata": {},
   "outputs": [
    {
     "name": "stderr",
     "output_type": "stream",
     "text": [
      "C:\\Users\\wampl\\AppData\\Local\\Temp\\ipykernel_20336\\4171482807.py:1: FutureWarning: The default value of numeric_only in DataFrame.corr is deprecated. In a future version, it will default to False. Select only valid columns or specify the value of numeric_only to silence this warning.\n",
      "  merged_leaders.loc[(merged_leaders['PA_2021']>300) & (merged_leaders['PA_2022']>300)].corr()[['wOBA', 'wOBA_2022']]\n"
     ]
    },
    {
     "data": {
      "text/html": [
       "<div>\n",
       "<style scoped>\n",
       "    .dataframe tbody tr th:only-of-type {\n",
       "        vertical-align: middle;\n",
       "    }\n",
       "\n",
       "    .dataframe tbody tr th {\n",
       "        vertical-align: top;\n",
       "    }\n",
       "\n",
       "    .dataframe thead th {\n",
       "        text-align: right;\n",
       "    }\n",
       "</style>\n",
       "<table border=\"1\" class=\"dataframe\">\n",
       "  <thead>\n",
       "    <tr style=\"text-align: right;\">\n",
       "      <th></th>\n",
       "      <th>wOBA</th>\n",
       "      <th>wOBA_2022</th>\n",
       "    </tr>\n",
       "  </thead>\n",
       "  <tbody>\n",
       "    <tr>\n",
       "      <th>batter</th>\n",
       "      <td>0.108966</td>\n",
       "      <td>0.063766</td>\n",
       "    </tr>\n",
       "    <tr>\n",
       "      <th>PA_2021</th>\n",
       "      <td>0.167567</td>\n",
       "      <td>0.307540</td>\n",
       "    </tr>\n",
       "    <tr>\n",
       "      <th>wOBA_2021</th>\n",
       "      <td>0.306904</td>\n",
       "      <td>0.464917</td>\n",
       "    </tr>\n",
       "    <tr>\n",
       "      <th>xwOBA_2021</th>\n",
       "      <td>0.393755</td>\n",
       "      <td>0.521283</td>\n",
       "    </tr>\n",
       "    <tr>\n",
       "      <th>sxwOBA_2021</th>\n",
       "      <td>0.404682</td>\n",
       "      <td>0.527477</td>\n",
       "    </tr>\n",
       "    <tr>\n",
       "      <th>diff_2021</th>\n",
       "      <td>-0.021274</td>\n",
       "      <td>-0.054874</td>\n",
       "    </tr>\n",
       "    <tr>\n",
       "      <th>diff%_2021</th>\n",
       "      <td>-0.032209</td>\n",
       "      <td>-0.092631</td>\n",
       "    </tr>\n",
       "    <tr>\n",
       "      <th>BB%_2021</th>\n",
       "      <td>0.269205</td>\n",
       "      <td>0.177710</td>\n",
       "    </tr>\n",
       "    <tr>\n",
       "      <th>K%_2021</th>\n",
       "      <td>-0.123615</td>\n",
       "      <td>-0.109015</td>\n",
       "    </tr>\n",
       "    <tr>\n",
       "      <th>HR_2021</th>\n",
       "      <td>0.271092</td>\n",
       "      <td>0.419307</td>\n",
       "    </tr>\n",
       "    <tr>\n",
       "      <th>LA_2021</th>\n",
       "      <td>0.100741</td>\n",
       "      <td>0.002881</td>\n",
       "    </tr>\n",
       "    <tr>\n",
       "      <th>Barrels_2021</th>\n",
       "      <td>0.310644</td>\n",
       "      <td>0.490984</td>\n",
       "    </tr>\n",
       "    <tr>\n",
       "      <th>pulled_barrels_2021</th>\n",
       "      <td>0.227522</td>\n",
       "      <td>0.366172</td>\n",
       "    </tr>\n",
       "    <tr>\n",
       "      <th>year_2021</th>\n",
       "      <td>NaN</td>\n",
       "      <td>NaN</td>\n",
       "    </tr>\n",
       "    <tr>\n",
       "      <th>PA_2022</th>\n",
       "      <td>0.359423</td>\n",
       "      <td>0.563574</td>\n",
       "    </tr>\n",
       "    <tr>\n",
       "      <th>wOBA_2022</th>\n",
       "      <td>0.464888</td>\n",
       "      <td>1.000000</td>\n",
       "    </tr>\n",
       "    <tr>\n",
       "      <th>xwOBA_2022</th>\n",
       "      <td>0.484594</td>\n",
       "      <td>0.861940</td>\n",
       "    </tr>\n",
       "    <tr>\n",
       "      <th>sxwOBA_2022</th>\n",
       "      <td>0.513113</td>\n",
       "      <td>0.896255</td>\n",
       "    </tr>\n",
       "    <tr>\n",
       "      <th>diff_2022</th>\n",
       "      <td>0.116458</td>\n",
       "      <td>0.150543</td>\n",
       "    </tr>\n",
       "    <tr>\n",
       "      <th>diff%_2022</th>\n",
       "      <td>0.066337</td>\n",
       "      <td>0.051582</td>\n",
       "    </tr>\n",
       "    <tr>\n",
       "      <th>BB%_2022</th>\n",
       "      <td>0.289884</td>\n",
       "      <td>0.426952</td>\n",
       "    </tr>\n",
       "    <tr>\n",
       "      <th>K%_2022</th>\n",
       "      <td>-0.093414</td>\n",
       "      <td>-0.186902</td>\n",
       "    </tr>\n",
       "    <tr>\n",
       "      <th>HR_2022</th>\n",
       "      <td>0.395937</td>\n",
       "      <td>0.700287</td>\n",
       "    </tr>\n",
       "    <tr>\n",
       "      <th>LA_2022</th>\n",
       "      <td>0.149242</td>\n",
       "      <td>0.073727</td>\n",
       "    </tr>\n",
       "    <tr>\n",
       "      <th>Barrels_2022</th>\n",
       "      <td>0.424907</td>\n",
       "      <td>0.692879</td>\n",
       "    </tr>\n",
       "    <tr>\n",
       "      <th>pulled_barrels_2022</th>\n",
       "      <td>0.391186</td>\n",
       "      <td>0.615656</td>\n",
       "    </tr>\n",
       "    <tr>\n",
       "      <th>year_2022</th>\n",
       "      <td>NaN</td>\n",
       "      <td>NaN</td>\n",
       "    </tr>\n",
       "    <tr>\n",
       "      <th>PA</th>\n",
       "      <td>0.383186</td>\n",
       "      <td>0.515825</td>\n",
       "    </tr>\n",
       "    <tr>\n",
       "      <th>wOBA</th>\n",
       "      <td>1.000000</td>\n",
       "      <td>0.464888</td>\n",
       "    </tr>\n",
       "    <tr>\n",
       "      <th>xwOBA</th>\n",
       "      <td>0.866945</td>\n",
       "      <td>0.564482</td>\n",
       "    </tr>\n",
       "    <tr>\n",
       "      <th>sxwOBA</th>\n",
       "      <td>0.894827</td>\n",
       "      <td>0.522955</td>\n",
       "    </tr>\n",
       "    <tr>\n",
       "      <th>diff</th>\n",
       "      <td>0.064791</td>\n",
       "      <td>-0.164431</td>\n",
       "    </tr>\n",
       "    <tr>\n",
       "      <th>diff%</th>\n",
       "      <td>-0.011626</td>\n",
       "      <td>-0.170615</td>\n",
       "    </tr>\n",
       "    <tr>\n",
       "      <th>BB%</th>\n",
       "      <td>0.317476</td>\n",
       "      <td>0.334463</td>\n",
       "    </tr>\n",
       "    <tr>\n",
       "      <th>K%</th>\n",
       "      <td>-0.203520</td>\n",
       "      <td>-0.202461</td>\n",
       "    </tr>\n",
       "    <tr>\n",
       "      <th>HR</th>\n",
       "      <td>0.583034</td>\n",
       "      <td>0.558187</td>\n",
       "    </tr>\n",
       "    <tr>\n",
       "      <th>LA</th>\n",
       "      <td>0.205991</td>\n",
       "      <td>0.093890</td>\n",
       "    </tr>\n",
       "    <tr>\n",
       "      <th>Barrels</th>\n",
       "      <td>0.580827</td>\n",
       "      <td>0.592126</td>\n",
       "    </tr>\n",
       "    <tr>\n",
       "      <th>pulled_barrels</th>\n",
       "      <td>0.534838</td>\n",
       "      <td>0.507489</td>\n",
       "    </tr>\n",
       "    <tr>\n",
       "      <th>year</th>\n",
       "      <td>NaN</td>\n",
       "      <td>NaN</td>\n",
       "    </tr>\n",
       "  </tbody>\n",
       "</table>\n",
       "</div>"
      ],
      "text/plain": [
       "                         wOBA  wOBA_2022\n",
       "batter               0.108966   0.063766\n",
       "PA_2021              0.167567   0.307540\n",
       "wOBA_2021            0.306904   0.464917\n",
       "xwOBA_2021           0.393755   0.521283\n",
       "sxwOBA_2021          0.404682   0.527477\n",
       "diff_2021           -0.021274  -0.054874\n",
       "diff%_2021          -0.032209  -0.092631\n",
       "BB%_2021             0.269205   0.177710\n",
       "K%_2021             -0.123615  -0.109015\n",
       "HR_2021              0.271092   0.419307\n",
       "LA_2021              0.100741   0.002881\n",
       "Barrels_2021         0.310644   0.490984\n",
       "pulled_barrels_2021  0.227522   0.366172\n",
       "year_2021                 NaN        NaN\n",
       "PA_2022              0.359423   0.563574\n",
       "wOBA_2022            0.464888   1.000000\n",
       "xwOBA_2022           0.484594   0.861940\n",
       "sxwOBA_2022          0.513113   0.896255\n",
       "diff_2022            0.116458   0.150543\n",
       "diff%_2022           0.066337   0.051582\n",
       "BB%_2022             0.289884   0.426952\n",
       "K%_2022             -0.093414  -0.186902\n",
       "HR_2022              0.395937   0.700287\n",
       "LA_2022              0.149242   0.073727\n",
       "Barrels_2022         0.424907   0.692879\n",
       "pulled_barrels_2022  0.391186   0.615656\n",
       "year_2022                 NaN        NaN\n",
       "PA                   0.383186   0.515825\n",
       "wOBA                 1.000000   0.464888\n",
       "xwOBA                0.866945   0.564482\n",
       "sxwOBA               0.894827   0.522955\n",
       "diff                 0.064791  -0.164431\n",
       "diff%               -0.011626  -0.170615\n",
       "BB%                  0.317476   0.334463\n",
       "K%                  -0.203520  -0.202461\n",
       "HR                   0.583034   0.558187\n",
       "LA                   0.205991   0.093890\n",
       "Barrels              0.580827   0.592126\n",
       "pulled_barrels       0.534838   0.507489\n",
       "year                      NaN        NaN"
      ]
     },
     "execution_count": 5,
     "metadata": {},
     "output_type": "execute_result"
    }
   ],
   "source": [
    "merged_leaders.loc[(merged_leaders['PA_2021']>300) & (merged_leaders['PA_2022']>300)].corr()[['wOBA', 'wOBA_2022']]\n"
   ]
  },
  {
   "cell_type": "code",
   "execution_count": null,
   "metadata": {},
   "outputs": [],
   "source": [
    "df = merged_leaders[['wOBA_2021', 'wOBA_2022', 'wOBA', 'xwOBA_2021', 'xwOBA_2022', 'xwOBA', 'sxwOBA_2021', 'sxwOBA_2022', 'sxwOBA']]"
   ]
  },
  {
   "cell_type": "code",
   "execution_count": null,
   "metadata": {},
   "outputs": [],
   "source": [
    "import plotly.express as px\n",
    "merged_leaders['weighted_woba_2022_2023'] = ((merged_leaders['wOBA_2022']*merged_leaders['PA_2022'])+(merged_leaders['wOBA']*merged_leaders['PA'])) / (merged_leaders['PA_2022'] + merged_leaders['PA'])\n",
    "merged_leaders = merged_leaders.round(3)"
   ]
  },
  {
   "cell_type": "code",
   "execution_count": null,
   "metadata": {},
   "outputs": [
    {
     "data": {
      "application/vnd.plotly.v1+json": {
       "config": {
        "plotlyServerURL": "https://plotly.com"
       },
       "data": [
        {
         "customdata": [
          [
           "Miguel Cabrera",
           526
          ],
          [
           "Nelson Cruz",
           584
          ],
          [
           "David Peralta",
           538
          ],
          [
           "Evan Longoria",
           291
          ],
          [
           "Charlie Blackmon",
           582
          ],
          [
           "Martin Maldonado",
           426
          ],
          [
           "Donovan Solano",
           344
          ],
          [
           "Andrew McCutchen",
           574
          ],
          [
           "Justin Turner",
           612
          ],
          [
           "Joey Votto",
           533
          ],
          [
           "Elvis Andrus",
           541
          ],
          [
           "Carlos Santana",
           659
          ],
          [
           "Brandon Belt",
           381
          ],
          [
           "Yuli Gurriel",
           605
          ],
          [
           "Miguel Rojas",
           539
          ],
          [
           "Eduardo Escobar",
           599
          ],
          [
           "Ehire Adrianza",
           209
          ],
          [
           "Tommy Pham",
           561
          ],
          [
           "J.D. Martinez",
           634
          ],
          [
           "Paul Goldschmidt",
           679
          ],
          [
           "Sandy Leon",
           220
          ],
          [
           "Jose Altuve",
           678
          ],
          [
           "Jean Segura",
           567
          ],
          [
           "Starling Marte",
           526
          ],
          [
           "Travis d'Arnaud",
           229
          ],
          [
           "Josh Donaldson",
           543
          ],
          [
           "Freddie Freeman",
           695
          ],
          [
           "Yasmani Grandal",
           375
          ],
          [
           "Jason Heyward",
           353
          ],
          [
           "DJ LeMahieu",
           679
          ],
          [
           "Mike Moustakas",
           206
          ],
          [
           "Anthony Rizzo",
           576
          ],
          [
           "Giancarlo Stanton",
           579
          ],
          [
           "Salvador Perez",
           665
          ],
          [
           "Wilmer Flores",
           436
          ],
          [
           "Avisail Garcia",
           515
          ],
          [
           "Marcell Ozuna",
           208
          ],
          [
           "Jesus Aguilar",
           510
          ],
          [
           "Jon Berti",
           271
          ],
          [
           "Brandon Crawford",
           549
          ],
          [
           "C.J. Cron",
           547
          ],
          [
           "Yan Gomes",
           375
          ],
          [
           "Robbie Grossman",
           671
          ],
          [
           "Josh Harrison",
           558
          ],
          [
           "Kyle Higashioka",
           211
          ],
          [
           "Eric Hosmer",
           565
          ],
          [
           "James McCann",
           412
          ],
          [
           "Brad Miller",
           377
          ],
          [
           "Anthony Rendon",
           249
          ],
          [
           "Marcus Semien",
           724
          ],
          [
           "George Springer",
           342
          ],
          [
           "Christian Vazquez",
           498
          ],
          [
           "Kolten Wong",
           492
          ],
          [
           "Randal Grichuk",
           545
          ],
          [
           "Bryce Harper",
           599
          ],
          [
           "Jose Abreu",
           659
          ],
          [
           "Elias Diaz",
           371
          ],
          [
           "Omar Narvaez",
           445
          ],
          [
           "Eugenio Suarez",
           574
          ],
          [
           "Gio Urshela",
           442
          ],
          [
           "Jonathan Schoop",
           674
          ],
          [
           "Nolan Arenado",
           653
          ],
          [
           "Tucker Barnhart",
           388
          ],
          [
           "Kyle Farmer",
           529
          ],
          [
           "Mitch Haniger",
           691
          ],
          [
           "Enrique Hernandez",
           585
          ],
          [
           "Max Muncy",
           592
          ],
          [
           "Wil Myers",
           500
          ],
          [
           "A.J. Pollock",
           422
          ],
          [
           "Michael A. Taylor",
           528
          ],
          [
           "Luke Voit",
           241
          ],
          [
           "Christian Walker",
           445
          ],
          [
           "Mike Zunino",
           375
          ],
          [
           "Matt Carpenter",
           249
          ],
          [
           "Corey Dickerson",
           365
          ],
          [
           "Darin Ruf",
           312
          ],
          [
           "Mike Yastrzemski",
           532
          ],
          [
           "Willson Contreras",
           483
          ],
          [
           "Kris Bryant",
           586
          ],
          [
           "Mark Canha",
           625
          ],
          [
           "Curt Casali",
           231
          ],
          [
           "Nick Castellanos",
           585
          ],
          [
           "Aaron Judge",
           633
          ],
          [
           "Manny Machado",
           640
          ],
          [
           "Joc Pederson",
           481
          ],
          [
           "J.T. Realmuto",
           537
          ],
          [
           "Hunter Renfroe",
           572
          ],
          [
           "Eddie Rosario",
           412
          ],
          [
           "Christian Yelich",
           475
          ],
          [
           "Whit Merrifield",
           720
          ],
          [
           "Xander Bogaerts",
           603
          ],
          [
           "Hanser Alberto",
           255
          ],
          [
           "Jorge Polanco",
           644
          ],
          [
           "Adam Duvall",
           555
          ],
          [
           "Kevin Kiermaier",
           390
          ],
          [
           "Jorge Alfaro",
           311
          ],
          [
           "Jurickson Profar",
           412
          ],
          [
           "Javier Baez",
           547
          ],
          [
           "Austin Hedges",
           312
          ],
          [
           "Francisco Lindor",
           524
          ],
          [
           "Rougned Odor",
           361
          ],
          [
           "Austin Slater",
           306
          ],
          [
           "Daniel Vogelbach",
           258
          ],
          [
           "Gary Sanchez",
           440
          ],
          [
           "Max Kepler",
           490
          ],
          [
           "Ji-Man Choi",
           305
          ],
          [
           "Jackie Bradley Jr.",
           428
          ],
          [
           "Tommy La Stella",
           242
          ],
          [
           "Jeimer Candelario",
           626
          ],
          [
           "Yonathan Daza",
           331
          ],
          [
           "Ramon Urias",
           296
          ],
          [
           "Nick Ahmed",
           473
          ],
          [
           "Brian Anderson",
           264
          ],
          [
           "Austin Barnes",
           225
          ],
          [
           "Josh Bell",
           568
          ],
          [
           "Mookie Betts",
           550
          ],
          [
           "Victor Caratini",
           356
          ],
          [
           "J.D. Davis",
           211
          ],
          [
           "Michael Perez",
           231
          ],
          [
           "Harold Castro",
           339
          ],
          [
           "Raimel Tapia",
           533
          ],
          [
           "Teoscar Hernandez",
           595
          ],
          [
           "Ketel Marte",
           374
          ],
          [
           "Eric Haase",
           381
          ],
          [
           "Brandon Nimmo",
           386
          ],
          [
           "Jace Peterson",
           302
          ],
          [
           "Trea Turner",
           646
          ],
          [
           "Matt Beaty",
           234
          ],
          [
           "Kevin Pillar",
           347
          ],
          [
           "Jacob Stallings",
           427
          ],
          [
           "Jose Ramirez",
           636
          ],
          [
           "Alex Bregman",
           400
          ],
          [
           "Joey Gallo",
           616
          ],
          [
           "Carson Kelly",
           359
          ],
          [
           "Corey Seager",
           409
          ],
          [
           "Jesse Winker",
           485
          ],
          [
           "Tom Murphy",
           325
          ],
          [
           "Franmil Reyes",
           466
          ],
          [
           "Luis Torrens",
           378
          ],
          [
           "Dansby Swanson",
           653
          ],
          [
           "Kevin Newman",
           554
          ],
          [
           "Chris Taylor",
           582
          ],
          [
           "Carlos Correa",
           640
          ],
          [
           "Brett Phillips",
           292
          ],
          [
           "Tyrone Taylor",
           271
          ],
          [
           "Byron Buxton",
           254
          ],
          [
           "Taylor Ward",
           237
          ],
          [
           "Patrick Wisdom",
           375
          ],
          [
           "Joey Wendle",
           501
          ],
          [
           "Matt Olson",
           673
          ],
          [
           "Matt Duffy",
           322
          ],
          [
           "Manuel Margot",
           464
          ],
          [
           "Jorge Mateo",
           209
          ],
          [
           "Harold Ramirez",
           361
          ],
          [
           "Anthony Santander",
           438
          ],
          [
           "Pete Alonso",
           637
          ],
          [
           "Cavan Biggio",
           294
          ],
          [
           "Adam Frazier",
           639
          ],
          [
           "Jose Trevino",
           302
          ],
          [
           "Nick Gordon",
           216
          ],
          [
           "Reese McGuire",
           217
          ],
          [
           "Jorge Soler",
           602
          ],
          [
           "Edmundo Sosa",
           326
          ],
          [
           "Andy Ibanez",
           272
          ],
          [
           "Jake Cronenworth",
           643
          ],
          [
           "Jackson Frazier",
           218
          ],
          [
           "Austin Meadows",
           591
          ],
          [
           "Oscar Mercado",
           238
          ],
          [
           "Tim Anderson",
           551
          ],
          [
           "Cody Bellinger",
           350
          ],
          [
           "Willie Calhoun",
           284
          ],
          [
           "J.P. Crawford",
           687
          ],
          [
           "Hunter Dozier",
           543
          ],
          [
           "Jake Fraley",
           265
          ],
          [
           "Mitch Garver",
           243
          ],
          [
           "Garrett Hampson",
           494
          ],
          [
           "Jonah Heim",
           285
          ],
          [
           "Trey Mancini",
           616
          ],
          [
           "Billy McKinney",
           300
          ],
          [
           "Ryan McMahon",
           596
          ],
          [
           "Tyler O'Neill",
           537
          ],
          [
           "Dominic Smith",
           493
          ],
          [
           "Rowdy Tellez",
           325
          ],
          [
           "Eli White",
           220
          ],
          [
           "Francisco Mejia",
           277
          ],
          [
           "Amed Rosario",
           588
          ],
          [
           "Willy Adames",
           555
          ],
          [
           "Andrew Benintendi",
           538
          ],
          [
           "Garrett Cooper",
           250
          ],
          [
           "Danny Jansen",
           205
          ],
          [
           "Tony Kemp",
           397
          ],
          [
           "Isiah Kiner-Falefa",
           677
          ],
          [
           "Jeff McNeil",
           426
          ],
          [
           "Yu Chang",
           251
          ],
          [
           "Ozzie Albies",
           686
          ],
          [
           "Victor Robles",
           369
          ],
          [
           "Rafael Devers",
           664
          ],
          [
           "Josh Naylor",
           250
          ],
          [
           "Abraham Toro",
           375
          ],
          [
           "Aledmys Diaz",
           319
          ],
          [
           "Luis Urias",
           570
          ],
          [
           "Luis Arraez",
           479
          ],
          [
           "Eloy Jimenez",
           231
          ],
          [
           "Gleyber Torres",
           516
          ],
          [
           "Willi Castro",
           450
          ],
          [
           "Yandy Diaz",
           541
          ],
          [
           "Bryan De La Cruz",
           219
          ],
          [
           "Matt Chapman",
           622
          ],
          [
           "Sam Hilliard",
           238
          ],
          [
           "Connor Joe",
           211
          ],
          [
           "Cedric Mullins II",
           675
          ],
          [
           "Ryan O'Hearn",
           254
          ],
          [
           "Kyle Schwarber",
           471
          ],
          [
           "Pavin Smith",
           545
          ],
          [
           "Lane Thomas",
           264
          ],
          [
           "Alex Verdugo",
           604
          ],
          [
           "Paul DeJong",
           402
          ],
          [
           "Ramon Laureano",
           378
          ],
          [
           "Yoan Moncada",
           616
          ],
          [
           "Shohei Ohtani",
           639
          ],
          [
           "Ronald Acuna Jr.",
           360
          ],
          [
           "Jesus Sanchez",
           251
          ],
          [
           "Daulton Varsho",
           315
          ],
          [
           "Austin Riley",
           662
          ],
          [
           "Nick Madrigal",
           215
          ],
          [
           "Trevor Larnach",
           301
          ],
          [
           "Ryan Mountcastle",
           586
          ],
          [
           "Ke'Bryan Hayes",
           396
          ],
          [
           "Kyle Tucker",
           567
          ],
          [
           "Jonathan India",
           631
          ],
          [
           "Trent Grisham",
           527
          ],
          [
           "Tyler Stephenson",
           402
          ],
          [
           "Nathaniel Lowe",
           642
          ],
          [
           "Ian Happ",
           535
          ],
          [
           "Ty France",
           650
          ],
          [
           "Brandon Lowe",
           615
          ],
          [
           "Harrison Bader",
           401
          ],
          [
           "David Fletcher",
           665
          ],
          [
           "Dylan Moore",
           377
          ],
          [
           "Myles Straw",
           638
          ],
          [
           "Alec Bohm",
           417
          ],
          [
           "LaMonte Wade Jr.",
           381
          ],
          [
           "Seth Brown",
           307
          ],
          [
           "Jared Walsh",
           585
          ],
          [
           "Vladimir Guerrero Jr.",
           698
          ],
          [
           "Juan Soto",
           654
          ],
          [
           "Jazz Chisholm Jr.",
           507
          ],
          [
           "Andres Gimenez",
           210
          ],
          [
           "Alex Kirilloff",
           231
          ],
          [
           "Bo Bichette",
           690
          ],
          [
           "Dylan Carlson",
           619
          ],
          [
           "Bobby Dalbec",
           453
          ],
          [
           "Adolis Garcia",
           622
          ],
          [
           "Lourdes Gurriel Jr.",
           541
          ],
          [
           "Brent Rooker",
           213
          ],
          [
           "Randy Arozarena",
           604
          ],
          [
           "Akil Baddoo",
           461
          ],
          [
           "Bryan Reynolds",
           646
          ],
          [
           "Josh Rojas",
           550
          ],
          [
           "Brandon Marsh",
           260
          ],
          [
           "Sean Murphy",
           448
          ],
          [
           "Tommy Edman",
           691
          ],
          [
           "Will Smith",
           501
          ],
          [
           "Santiago Espinal",
           246
          ],
          [
           "Austin Hays",
           529
          ],
          [
           "Nicky Lopez",
           565
          ],
          [
           "Yordan Alvarez",
           598
          ],
          [
           "Luis Garcia",
           247
          ],
          [
           "Jarred Kelenic",
           377
          ],
          [
           "Luis Robert",
           296
          ],
          [
           "Ha-seong Kim",
           298
          ],
          [
           "Chas McCormick",
           320
          ],
          [
           "Wander Franco",
           308
          ],
          [
           "Ryan Jeffers",
           293
          ],
          [
           "Owen Miller",
           202
          ],
          [
           "Andrew Vaughn",
           469
          ]
         ],
         "hovertemplate": "xwOBA_2021=%{x}<br>sxwOBA_2021=%{y}<br>Name=%{customdata[0]}<br>PA_2021=%{customdata[1]}<br>weighted_woba_2022_2023=%{marker.color}<extra></extra>",
         "legendgroup": "",
         "marker": {
          "color": [
           0.279,
           0.293,
           0.312,
           0.335,
           0.323,
           0.259,
           0.33,
           0.327,
           0.346,
           0.321,
           0.293,
           0.305,
           0.321,
           0.291,
           0.262,
           0.312,
           0.208,
           0.311,
           0.347,
           0.403,
           0.222,
           0.388,
           0.285,
           0.332,
           0.348,
           0.297,
           0.395,
           0.282,
           0.299,
           0.317,
           0.305,
           0.349,
           0.316,
           0.325,
           0.317,
           0.258,
           0.316,
           0.287,
           0.295,
           0.288,
           0.329,
           0.289,
           0.287,
           0.295,
           0.275,
           0.305,
           0.245,
           0.267,
           0.314,
           0.327,
           0.342,
           0.3,
           0.308,
           0.323,
           0.361,
           0.332,
           0.312,
           0.267,
           0.328,
           0.325,
           0.244,
           0.365,
           0.248,
           0.307,
           0.306,
           0.28,
           0.325,
           0.289,
           0.285,
           0.292,
           0.304,
           0.353,
           0.242,
           0.373,
           0.303,
           0.291,
           0.318,
           0.336,
           0.344,
           0.336,
           0.275,
           0.326,
           0.454,
           0.36,
           0.374,
           0.346,
           0.339,
           0.304,
           0.335,
           0.303,
           0.35,
           0.274,
           0.33,
           0.32,
           0.31,
           0.284,
           0.316,
           0.281,
           0.217,
           0.336,
           0.284,
           0.355,
           0.336,
           0.294,
           0.298,
           0.313,
           0.235,
           0.274,
           0.304,
           0.317,
           0.315,
           0.278,
           0.3,
           0.27,
           0.334,
           0.372,
           0.291,
           0.345,
           0.245,
           0.292,
           0.29,
           0.336,
           0.341,
           0.3,
           0.352,
           0.296,
           0.334,
           0.192,
           0.314,
           0.26,
           0.362,
           0.348,
           0.301,
           0.271,
           0.355,
           0.301,
           0.336,
           0.274,
           0.264,
           0.338,
           0.305,
           0.301,
           0.342,
           0.211,
           0.293,
           0.342,
           0.342,
           0.318,
           0.29,
           0.354,
           0.294,
           0.309,
           0.278,
           0.336,
           0.343,
           0.364,
           0.3,
           0.28,
           0.281,
           0.302,
           0.296,
           0.338,
           0.276,
           0.276,
           0.311,
           0.274,
           0.297,
           0.277,
           0.293,
           0.295,
           0.291,
           0.314,
           0.29,
           0.356,
           0.313,
           0.279,
           0.322,
           0.309,
           0.269,
           0.336,
           0.3,
           0.283,
           0.319,
           0.249,
           0.281,
           0.303,
           0.314,
           0.331,
           0.32,
           0.343,
           0.279,
           0.283,
           0.343,
           0.263,
           0.326,
           0.279,
           0.361,
           0.333,
           0.255,
           0.28,
           0.321,
           0.37,
           0.349,
           0.326,
           0.292,
           0.377,
           0.32,
           0.337,
           0.271,
           0.32,
           0.326,
           0.322,
           0.346,
           0.296,
           0.33,
           0.334,
           0.279,
           0.289,
           0.277,
           0.387,
           0.366,
           0.31,
           0.314,
           0.362,
           0.277,
           0.307,
           0.309,
           0.295,
           0.346,
           0.325,
           0.288,
           0.329,
           0.362,
           0.346,
           0.336,
           0.306,
           0.295,
           0.273,
           0.331,
           0.263,
           0.31,
           0.346,
           0.31,
           0.27,
           0.351,
           0.384,
           0.34,
           0.344,
           0.313,
           0.354,
           0.309,
           0.285,
           0.332,
           0.335,
           0.33,
           0.354,
           0.277,
           0.351,
           0.31,
           0.314,
           0.349,
           0.316,
           0.363,
           0.301,
           0.332,
           0.26,
           0.422,
           0.305,
           0.298,
           0.347,
           0.317,
           0.331,
           0.335,
           0.313,
           0.296,
           0.329
          ],
          "coloraxis": "coloraxis",
          "symbol": "circle"
         },
         "mode": "markers",
         "name": "",
         "orientation": "v",
         "showlegend": false,
         "type": "scatter",
         "x": [
          0.315,
          0.363,
          0.293,
          0.351,
          0.359,
          0.267,
          0.335,
          0.344,
          0.359,
          0.406,
          0.308,
          0.335,
          0.374,
          0.326,
          0.292,
          0.328,
          0.314,
          0.35,
          0.374,
          0.397,
          0.216,
          0.332,
          0.319,
          0.347,
          0.312,
          0.388,
          0.416,
          0.412,
          0.294,
          0.34,
          0.276,
          0.347,
          0.363,
          0.374,
          0.312,
          0.366,
          0.347,
          0.334,
          0.302,
          0.356,
          0.364,
          0.341,
          0.334,
          0.333,
          0.343,
          0.326,
          0.284,
          0.345,
          0.303,
          0.336,
          0.361,
          0.276,
          0.308,
          0.297,
          0.43,
          0.349,
          0.318,
          0.304,
          0.326,
          0.304,
          0.311,
          0.311,
          0.265,
          0.302,
          0.353,
          0.346,
          0.407,
          0.295,
          0.359,
          0.3,
          0.359,
          0.311,
          0.354,
          0.34,
          0.295,
          0.381,
          0.318,
          0.346,
          0.346,
          0.332,
          0.28,
          0.374,
          0.418,
          0.376,
          0.333,
          0.329,
          0.354,
          0.319,
          0.337,
          0.301,
          0.359,
          0.294,
          0.348,
          0.33,
          0.283,
          0.292,
          0.302,
          0.325,
          0.228,
          0.344,
          0.29,
          0.335,
          0.337,
          0.336,
          0.347,
          0.342,
          0.253,
          0.342,
          0.356,
          0.286,
          0.344,
          0.249,
          0.299,
          0.274,
          0.367,
          0.357,
          0.29,
          0.338,
          0.244,
          0.315,
          0.281,
          0.37,
          0.372,
          0.322,
          0.35,
          0.319,
          0.364,
          0.308,
          0.281,
          0.314,
          0.376,
          0.332,
          0.354,
          0.346,
          0.392,
          0.39,
          0.292,
          0.353,
          0.318,
          0.332,
          0.275,
          0.329,
          0.373,
          0.284,
          0.314,
          0.407,
          0.344,
          0.321,
          0.286,
          0.378,
          0.325,
          0.318,
          0.287,
          0.308,
          0.328,
          0.377,
          0.285,
          0.324,
          0.285,
          0.318,
          0.281,
          0.359,
          0.326,
          0.32,
          0.344,
          0.313,
          0.326,
          0.279,
          0.329,
          0.281,
          0.323,
          0.298,
          0.299,
          0.335,
          0.386,
          0.291,
          0.285,
          0.341,
          0.291,
          0.325,
          0.392,
          0.325,
          0.34,
          0.249,
          0.285,
          0.3,
          0.325,
          0.331,
          0.362,
          0.333,
          0.321,
          0.292,
          0.315,
          0.282,
          0.329,
          0.288,
          0.394,
          0.311,
          0.323,
          0.319,
          0.333,
          0.337,
          0.325,
          0.331,
          0.291,
          0.332,
          0.301,
          0.321,
          0.311,
          0.37,
          0.344,
          0.294,
          0.399,
          0.312,
          0.322,
          0.34,
          0.312,
          0.335,
          0.353,
          0.408,
          0.429,
          0.333,
          0.323,
          0.366,
          0.289,
          0.306,
          0.326,
          0.299,
          0.396,
          0.352,
          0.309,
          0.324,
          0.323,
          0.317,
          0.346,
          0.36,
          0.295,
          0.28,
          0.288,
          0.303,
          0.313,
          0.347,
          0.318,
          0.326,
          0.417,
          0.429,
          0.307,
          0.268,
          0.37,
          0.355,
          0.322,
          0.344,
          0.299,
          0.339,
          0.341,
          0.304,
          0.309,
          0.386,
          0.295,
          0.324,
          0.337,
          0.316,
          0.364,
          0.307,
          0.316,
          0.283,
          0.389,
          0.279,
          0.314,
          0.382,
          0.265,
          0.311,
          0.329,
          0.299,
          0.267,
          0.332
         ],
         "xaxis": "x",
         "y": [
          0.316,
          0.366,
          0.32,
          0.363,
          0.356,
          0.266,
          0.343,
          0.346,
          0.352,
          0.402,
          0.31,
          0.314,
          0.382,
          0.35,
          0.309,
          0.336,
          0.327,
          0.347,
          0.364,
          0.396,
          0.226,
          0.363,
          0.339,
          0.362,
          0.309,
          0.37,
          0.418,
          0.409,
          0.29,
          0.355,
          0.278,
          0.36,
          0.369,
          0.374,
          0.332,
          0.373,
          0.335,
          0.343,
          0.299,
          0.372,
          0.372,
          0.336,
          0.344,
          0.333,
          0.306,
          0.338,
          0.28,
          0.36,
          0.321,
          0.352,
          0.371,
          0.292,
          0.317,
          0.309,
          0.429,
          0.363,
          0.325,
          0.317,
          0.316,
          0.302,
          0.327,
          0.327,
          0.29,
          0.31,
          0.361,
          0.335,
          0.392,
          0.311,
          0.37,
          0.298,
          0.348,
          0.315,
          0.368,
          0.324,
          0.31,
          0.393,
          0.337,
          0.358,
          0.344,
          0.339,
          0.284,
          0.378,
          0.415,
          0.37,
          0.324,
          0.357,
          0.361,
          0.311,
          0.346,
          0.316,
          0.369,
          0.295,
          0.362,
          0.335,
          0.305,
          0.303,
          0.305,
          0.341,
          0.231,
          0.348,
          0.295,
          0.356,
          0.355,
          0.325,
          0.345,
          0.339,
          0.252,
          0.327,
          0.368,
          0.314,
          0.354,
          0.27,
          0.286,
          0.276,
          0.374,
          0.362,
          0.297,
          0.339,
          0.236,
          0.316,
          0.314,
          0.392,
          0.377,
          0.325,
          0.374,
          0.314,
          0.39,
          0.322,
          0.298,
          0.329,
          0.397,
          0.327,
          0.358,
          0.342,
          0.384,
          0.401,
          0.291,
          0.359,
          0.321,
          0.336,
          0.29,
          0.34,
          0.386,
          0.294,
          0.328,
          0.413,
          0.351,
          0.33,
          0.308,
          0.403,
          0.337,
          0.328,
          0.289,
          0.333,
          0.325,
          0.374,
          0.308,
          0.342,
          0.273,
          0.315,
          0.29,
          0.356,
          0.336,
          0.342,
          0.37,
          0.301,
          0.335,
          0.318,
          0.337,
          0.286,
          0.316,
          0.314,
          0.304,
          0.351,
          0.375,
          0.294,
          0.296,
          0.342,
          0.311,
          0.331,
          0.397,
          0.325,
          0.331,
          0.27,
          0.296,
          0.327,
          0.334,
          0.338,
          0.371,
          0.366,
          0.34,
          0.319,
          0.318,
          0.299,
          0.342,
          0.293,
          0.4,
          0.323,
          0.332,
          0.312,
          0.339,
          0.34,
          0.329,
          0.33,
          0.302,
          0.346,
          0.332,
          0.328,
          0.325,
          0.368,
          0.377,
          0.3,
          0.393,
          0.32,
          0.321,
          0.35,
          0.314,
          0.337,
          0.354,
          0.423,
          0.415,
          0.349,
          0.335,
          0.373,
          0.31,
          0.307,
          0.333,
          0.307,
          0.396,
          0.367,
          0.331,
          0.331,
          0.345,
          0.325,
          0.348,
          0.374,
          0.328,
          0.308,
          0.296,
          0.315,
          0.324,
          0.347,
          0.322,
          0.343,
          0.432,
          0.44,
          0.321,
          0.283,
          0.336,
          0.38,
          0.334,
          0.347,
          0.312,
          0.346,
          0.332,
          0.323,
          0.334,
          0.397,
          0.317,
          0.327,
          0.334,
          0.338,
          0.373,
          0.335,
          0.322,
          0.305,
          0.382,
          0.29,
          0.309,
          0.383,
          0.288,
          0.329,
          0.345,
          0.307,
          0.26,
          0.321
         ],
         "yaxis": "y"
        }
       ],
       "layout": {
        "coloraxis": {
         "colorbar": {
          "title": {
           "text": "weighted_woba_2022_2023"
          }
         },
         "colorscale": [
          [
           0,
           "#0d0887"
          ],
          [
           0.1111111111111111,
           "#46039f"
          ],
          [
           0.2222222222222222,
           "#7201a8"
          ],
          [
           0.3333333333333333,
           "#9c179e"
          ],
          [
           0.4444444444444444,
           "#bd3786"
          ],
          [
           0.5555555555555556,
           "#d8576b"
          ],
          [
           0.6666666666666666,
           "#ed7953"
          ],
          [
           0.7777777777777778,
           "#fb9f3a"
          ],
          [
           0.8888888888888888,
           "#fdca26"
          ],
          [
           1,
           "#f0f921"
          ]
         ]
        },
        "legend": {
         "tracegroupgap": 0
        },
        "margin": {
         "t": 60
        },
        "template": {
         "data": {
          "bar": [
           {
            "error_x": {
             "color": "#2a3f5f"
            },
            "error_y": {
             "color": "#2a3f5f"
            },
            "marker": {
             "line": {
              "color": "#E5ECF6",
              "width": 0.5
             },
             "pattern": {
              "fillmode": "overlay",
              "size": 10,
              "solidity": 0.2
             }
            },
            "type": "bar"
           }
          ],
          "barpolar": [
           {
            "marker": {
             "line": {
              "color": "#E5ECF6",
              "width": 0.5
             },
             "pattern": {
              "fillmode": "overlay",
              "size": 10,
              "solidity": 0.2
             }
            },
            "type": "barpolar"
           }
          ],
          "carpet": [
           {
            "aaxis": {
             "endlinecolor": "#2a3f5f",
             "gridcolor": "white",
             "linecolor": "white",
             "minorgridcolor": "white",
             "startlinecolor": "#2a3f5f"
            },
            "baxis": {
             "endlinecolor": "#2a3f5f",
             "gridcolor": "white",
             "linecolor": "white",
             "minorgridcolor": "white",
             "startlinecolor": "#2a3f5f"
            },
            "type": "carpet"
           }
          ],
          "choropleth": [
           {
            "colorbar": {
             "outlinewidth": 0,
             "ticks": ""
            },
            "type": "choropleth"
           }
          ],
          "contour": [
           {
            "colorbar": {
             "outlinewidth": 0,
             "ticks": ""
            },
            "colorscale": [
             [
              0,
              "#0d0887"
             ],
             [
              0.1111111111111111,
              "#46039f"
             ],
             [
              0.2222222222222222,
              "#7201a8"
             ],
             [
              0.3333333333333333,
              "#9c179e"
             ],
             [
              0.4444444444444444,
              "#bd3786"
             ],
             [
              0.5555555555555556,
              "#d8576b"
             ],
             [
              0.6666666666666666,
              "#ed7953"
             ],
             [
              0.7777777777777778,
              "#fb9f3a"
             ],
             [
              0.8888888888888888,
              "#fdca26"
             ],
             [
              1,
              "#f0f921"
             ]
            ],
            "type": "contour"
           }
          ],
          "contourcarpet": [
           {
            "colorbar": {
             "outlinewidth": 0,
             "ticks": ""
            },
            "type": "contourcarpet"
           }
          ],
          "heatmap": [
           {
            "colorbar": {
             "outlinewidth": 0,
             "ticks": ""
            },
            "colorscale": [
             [
              0,
              "#0d0887"
             ],
             [
              0.1111111111111111,
              "#46039f"
             ],
             [
              0.2222222222222222,
              "#7201a8"
             ],
             [
              0.3333333333333333,
              "#9c179e"
             ],
             [
              0.4444444444444444,
              "#bd3786"
             ],
             [
              0.5555555555555556,
              "#d8576b"
             ],
             [
              0.6666666666666666,
              "#ed7953"
             ],
             [
              0.7777777777777778,
              "#fb9f3a"
             ],
             [
              0.8888888888888888,
              "#fdca26"
             ],
             [
              1,
              "#f0f921"
             ]
            ],
            "type": "heatmap"
           }
          ],
          "heatmapgl": [
           {
            "colorbar": {
             "outlinewidth": 0,
             "ticks": ""
            },
            "colorscale": [
             [
              0,
              "#0d0887"
             ],
             [
              0.1111111111111111,
              "#46039f"
             ],
             [
              0.2222222222222222,
              "#7201a8"
             ],
             [
              0.3333333333333333,
              "#9c179e"
             ],
             [
              0.4444444444444444,
              "#bd3786"
             ],
             [
              0.5555555555555556,
              "#d8576b"
             ],
             [
              0.6666666666666666,
              "#ed7953"
             ],
             [
              0.7777777777777778,
              "#fb9f3a"
             ],
             [
              0.8888888888888888,
              "#fdca26"
             ],
             [
              1,
              "#f0f921"
             ]
            ],
            "type": "heatmapgl"
           }
          ],
          "histogram": [
           {
            "marker": {
             "pattern": {
              "fillmode": "overlay",
              "size": 10,
              "solidity": 0.2
             }
            },
            "type": "histogram"
           }
          ],
          "histogram2d": [
           {
            "colorbar": {
             "outlinewidth": 0,
             "ticks": ""
            },
            "colorscale": [
             [
              0,
              "#0d0887"
             ],
             [
              0.1111111111111111,
              "#46039f"
             ],
             [
              0.2222222222222222,
              "#7201a8"
             ],
             [
              0.3333333333333333,
              "#9c179e"
             ],
             [
              0.4444444444444444,
              "#bd3786"
             ],
             [
              0.5555555555555556,
              "#d8576b"
             ],
             [
              0.6666666666666666,
              "#ed7953"
             ],
             [
              0.7777777777777778,
              "#fb9f3a"
             ],
             [
              0.8888888888888888,
              "#fdca26"
             ],
             [
              1,
              "#f0f921"
             ]
            ],
            "type": "histogram2d"
           }
          ],
          "histogram2dcontour": [
           {
            "colorbar": {
             "outlinewidth": 0,
             "ticks": ""
            },
            "colorscale": [
             [
              0,
              "#0d0887"
             ],
             [
              0.1111111111111111,
              "#46039f"
             ],
             [
              0.2222222222222222,
              "#7201a8"
             ],
             [
              0.3333333333333333,
              "#9c179e"
             ],
             [
              0.4444444444444444,
              "#bd3786"
             ],
             [
              0.5555555555555556,
              "#d8576b"
             ],
             [
              0.6666666666666666,
              "#ed7953"
             ],
             [
              0.7777777777777778,
              "#fb9f3a"
             ],
             [
              0.8888888888888888,
              "#fdca26"
             ],
             [
              1,
              "#f0f921"
             ]
            ],
            "type": "histogram2dcontour"
           }
          ],
          "mesh3d": [
           {
            "colorbar": {
             "outlinewidth": 0,
             "ticks": ""
            },
            "type": "mesh3d"
           }
          ],
          "parcoords": [
           {
            "line": {
             "colorbar": {
              "outlinewidth": 0,
              "ticks": ""
             }
            },
            "type": "parcoords"
           }
          ],
          "pie": [
           {
            "automargin": true,
            "type": "pie"
           }
          ],
          "scatter": [
           {
            "fillpattern": {
             "fillmode": "overlay",
             "size": 10,
             "solidity": 0.2
            },
            "type": "scatter"
           }
          ],
          "scatter3d": [
           {
            "line": {
             "colorbar": {
              "outlinewidth": 0,
              "ticks": ""
             }
            },
            "marker": {
             "colorbar": {
              "outlinewidth": 0,
              "ticks": ""
             }
            },
            "type": "scatter3d"
           }
          ],
          "scattercarpet": [
           {
            "marker": {
             "colorbar": {
              "outlinewidth": 0,
              "ticks": ""
             }
            },
            "type": "scattercarpet"
           }
          ],
          "scattergeo": [
           {
            "marker": {
             "colorbar": {
              "outlinewidth": 0,
              "ticks": ""
             }
            },
            "type": "scattergeo"
           }
          ],
          "scattergl": [
           {
            "marker": {
             "colorbar": {
              "outlinewidth": 0,
              "ticks": ""
             }
            },
            "type": "scattergl"
           }
          ],
          "scattermapbox": [
           {
            "marker": {
             "colorbar": {
              "outlinewidth": 0,
              "ticks": ""
             }
            },
            "type": "scattermapbox"
           }
          ],
          "scatterpolar": [
           {
            "marker": {
             "colorbar": {
              "outlinewidth": 0,
              "ticks": ""
             }
            },
            "type": "scatterpolar"
           }
          ],
          "scatterpolargl": [
           {
            "marker": {
             "colorbar": {
              "outlinewidth": 0,
              "ticks": ""
             }
            },
            "type": "scatterpolargl"
           }
          ],
          "scatterternary": [
           {
            "marker": {
             "colorbar": {
              "outlinewidth": 0,
              "ticks": ""
             }
            },
            "type": "scatterternary"
           }
          ],
          "surface": [
           {
            "colorbar": {
             "outlinewidth": 0,
             "ticks": ""
            },
            "colorscale": [
             [
              0,
              "#0d0887"
             ],
             [
              0.1111111111111111,
              "#46039f"
             ],
             [
              0.2222222222222222,
              "#7201a8"
             ],
             [
              0.3333333333333333,
              "#9c179e"
             ],
             [
              0.4444444444444444,
              "#bd3786"
             ],
             [
              0.5555555555555556,
              "#d8576b"
             ],
             [
              0.6666666666666666,
              "#ed7953"
             ],
             [
              0.7777777777777778,
              "#fb9f3a"
             ],
             [
              0.8888888888888888,
              "#fdca26"
             ],
             [
              1,
              "#f0f921"
             ]
            ],
            "type": "surface"
           }
          ],
          "table": [
           {
            "cells": {
             "fill": {
              "color": "#EBF0F8"
             },
             "line": {
              "color": "white"
             }
            },
            "header": {
             "fill": {
              "color": "#C8D4E3"
             },
             "line": {
              "color": "white"
             }
            },
            "type": "table"
           }
          ]
         },
         "layout": {
          "annotationdefaults": {
           "arrowcolor": "#2a3f5f",
           "arrowhead": 0,
           "arrowwidth": 1
          },
          "autotypenumbers": "strict",
          "coloraxis": {
           "colorbar": {
            "outlinewidth": 0,
            "ticks": ""
           }
          },
          "colorscale": {
           "diverging": [
            [
             0,
             "#8e0152"
            ],
            [
             0.1,
             "#c51b7d"
            ],
            [
             0.2,
             "#de77ae"
            ],
            [
             0.3,
             "#f1b6da"
            ],
            [
             0.4,
             "#fde0ef"
            ],
            [
             0.5,
             "#f7f7f7"
            ],
            [
             0.6,
             "#e6f5d0"
            ],
            [
             0.7,
             "#b8e186"
            ],
            [
             0.8,
             "#7fbc41"
            ],
            [
             0.9,
             "#4d9221"
            ],
            [
             1,
             "#276419"
            ]
           ],
           "sequential": [
            [
             0,
             "#0d0887"
            ],
            [
             0.1111111111111111,
             "#46039f"
            ],
            [
             0.2222222222222222,
             "#7201a8"
            ],
            [
             0.3333333333333333,
             "#9c179e"
            ],
            [
             0.4444444444444444,
             "#bd3786"
            ],
            [
             0.5555555555555556,
             "#d8576b"
            ],
            [
             0.6666666666666666,
             "#ed7953"
            ],
            [
             0.7777777777777778,
             "#fb9f3a"
            ],
            [
             0.8888888888888888,
             "#fdca26"
            ],
            [
             1,
             "#f0f921"
            ]
           ],
           "sequentialminus": [
            [
             0,
             "#0d0887"
            ],
            [
             0.1111111111111111,
             "#46039f"
            ],
            [
             0.2222222222222222,
             "#7201a8"
            ],
            [
             0.3333333333333333,
             "#9c179e"
            ],
            [
             0.4444444444444444,
             "#bd3786"
            ],
            [
             0.5555555555555556,
             "#d8576b"
            ],
            [
             0.6666666666666666,
             "#ed7953"
            ],
            [
             0.7777777777777778,
             "#fb9f3a"
            ],
            [
             0.8888888888888888,
             "#fdca26"
            ],
            [
             1,
             "#f0f921"
            ]
           ]
          },
          "colorway": [
           "#636efa",
           "#EF553B",
           "#00cc96",
           "#ab63fa",
           "#FFA15A",
           "#19d3f3",
           "#FF6692",
           "#B6E880",
           "#FF97FF",
           "#FECB52"
          ],
          "font": {
           "color": "#2a3f5f"
          },
          "geo": {
           "bgcolor": "white",
           "lakecolor": "white",
           "landcolor": "#E5ECF6",
           "showlakes": true,
           "showland": true,
           "subunitcolor": "white"
          },
          "hoverlabel": {
           "align": "left"
          },
          "hovermode": "closest",
          "mapbox": {
           "style": "light"
          },
          "paper_bgcolor": "white",
          "plot_bgcolor": "#E5ECF6",
          "polar": {
           "angularaxis": {
            "gridcolor": "white",
            "linecolor": "white",
            "ticks": ""
           },
           "bgcolor": "#E5ECF6",
           "radialaxis": {
            "gridcolor": "white",
            "linecolor": "white",
            "ticks": ""
           }
          },
          "scene": {
           "xaxis": {
            "backgroundcolor": "#E5ECF6",
            "gridcolor": "white",
            "gridwidth": 2,
            "linecolor": "white",
            "showbackground": true,
            "ticks": "",
            "zerolinecolor": "white"
           },
           "yaxis": {
            "backgroundcolor": "#E5ECF6",
            "gridcolor": "white",
            "gridwidth": 2,
            "linecolor": "white",
            "showbackground": true,
            "ticks": "",
            "zerolinecolor": "white"
           },
           "zaxis": {
            "backgroundcolor": "#E5ECF6",
            "gridcolor": "white",
            "gridwidth": 2,
            "linecolor": "white",
            "showbackground": true,
            "ticks": "",
            "zerolinecolor": "white"
           }
          },
          "shapedefaults": {
           "line": {
            "color": "#2a3f5f"
           }
          },
          "ternary": {
           "aaxis": {
            "gridcolor": "white",
            "linecolor": "white",
            "ticks": ""
           },
           "baxis": {
            "gridcolor": "white",
            "linecolor": "white",
            "ticks": ""
           },
           "bgcolor": "#E5ECF6",
           "caxis": {
            "gridcolor": "white",
            "linecolor": "white",
            "ticks": ""
           }
          },
          "title": {
           "x": 0.05
          },
          "xaxis": {
           "automargin": true,
           "gridcolor": "white",
           "linecolor": "white",
           "ticks": "",
           "title": {
            "standoff": 15
           },
           "zerolinecolor": "white",
           "zerolinewidth": 2
          },
          "yaxis": {
           "automargin": true,
           "gridcolor": "white",
           "linecolor": "white",
           "ticks": "",
           "title": {
            "standoff": 15
           },
           "zerolinecolor": "white",
           "zerolinewidth": 2
          }
         }
        },
        "xaxis": {
         "anchor": "y",
         "domain": [
          0,
          1
         ],
         "title": {
          "text": "xwOBA_2021"
         }
        },
        "yaxis": {
         "anchor": "x",
         "domain": [
          0,
          1
         ],
         "title": {
          "text": "sxwOBA_2021"
         }
        }
       }
      }
     },
     "metadata": {},
     "output_type": "display_data"
    }
   ],
   "source": [
    "px.scatter(data_frame=merged_leaders.loc[merged_leaders['PA_2021'] > 200], x='xwOBA_2021', y='sxwOBA_2021', color='weighted_woba_2022_2023', hover_data=['Name', 'PA_2021'])"
   ]
  },
  {
   "cell_type": "code",
   "execution_count": null,
   "metadata": {},
   "outputs": [
    {
     "data": {
      "application/vnd.plotly.v1+json": {
       "config": {
        "plotlyServerURL": "https://plotly.com"
       },
       "data": [
        {
         "customdata": [
          [
           "Miguel Cabrera",
           526
          ],
          [
           "Nelson Cruz",
           584
          ],
          [
           "David Peralta",
           538
          ],
          [
           "Evan Longoria",
           291
          ],
          [
           "Charlie Blackmon",
           582
          ],
          [
           "Martin Maldonado",
           426
          ],
          [
           "Donovan Solano",
           344
          ],
          [
           "Andrew McCutchen",
           574
          ],
          [
           "Justin Turner",
           612
          ],
          [
           "Joey Votto",
           533
          ],
          [
           "Elvis Andrus",
           541
          ],
          [
           "Carlos Santana",
           659
          ],
          [
           "Brandon Belt",
           381
          ],
          [
           "Yuli Gurriel",
           605
          ],
          [
           "Miguel Rojas",
           539
          ],
          [
           "Eduardo Escobar",
           599
          ],
          [
           "Ehire Adrianza",
           209
          ],
          [
           "Tommy Pham",
           561
          ],
          [
           "J.D. Martinez",
           634
          ],
          [
           "Paul Goldschmidt",
           679
          ],
          [
           "Sandy Leon",
           220
          ],
          [
           "Jose Altuve",
           678
          ],
          [
           "Jean Segura",
           567
          ],
          [
           "Starling Marte",
           526
          ],
          [
           "Travis d'Arnaud",
           229
          ],
          [
           "Josh Donaldson",
           543
          ],
          [
           "Freddie Freeman",
           695
          ],
          [
           "Yasmani Grandal",
           375
          ],
          [
           "Jason Heyward",
           353
          ],
          [
           "DJ LeMahieu",
           679
          ],
          [
           "Mike Moustakas",
           206
          ],
          [
           "Anthony Rizzo",
           576
          ],
          [
           "Giancarlo Stanton",
           579
          ],
          [
           "Salvador Perez",
           665
          ],
          [
           "Wilmer Flores",
           436
          ],
          [
           "Avisail Garcia",
           515
          ],
          [
           "Marcell Ozuna",
           208
          ],
          [
           "Jesus Aguilar",
           510
          ],
          [
           "Jon Berti",
           271
          ],
          [
           "Brandon Crawford",
           549
          ],
          [
           "C.J. Cron",
           547
          ],
          [
           "Yan Gomes",
           375
          ],
          [
           "Robbie Grossman",
           671
          ],
          [
           "Josh Harrison",
           558
          ],
          [
           "Kyle Higashioka",
           211
          ],
          [
           "Eric Hosmer",
           565
          ],
          [
           "James McCann",
           412
          ],
          [
           "Brad Miller",
           377
          ],
          [
           "Anthony Rendon",
           249
          ],
          [
           "Marcus Semien",
           724
          ],
          [
           "George Springer",
           342
          ],
          [
           "Christian Vazquez",
           498
          ],
          [
           "Kolten Wong",
           492
          ],
          [
           "Randal Grichuk",
           545
          ],
          [
           "Bryce Harper",
           599
          ],
          [
           "Jose Abreu",
           659
          ],
          [
           "Elias Diaz",
           371
          ],
          [
           "Omar Narvaez",
           445
          ],
          [
           "Eugenio Suarez",
           574
          ],
          [
           "Gio Urshela",
           442
          ],
          [
           "Jonathan Schoop",
           674
          ],
          [
           "Nolan Arenado",
           653
          ],
          [
           "Tucker Barnhart",
           388
          ],
          [
           "Kyle Farmer",
           529
          ],
          [
           "Mitch Haniger",
           691
          ],
          [
           "Enrique Hernandez",
           585
          ],
          [
           "Max Muncy",
           592
          ],
          [
           "Wil Myers",
           500
          ],
          [
           "A.J. Pollock",
           422
          ],
          [
           "Michael A. Taylor",
           528
          ],
          [
           "Luke Voit",
           241
          ],
          [
           "Christian Walker",
           445
          ],
          [
           "Mike Zunino",
           375
          ],
          [
           "Matt Carpenter",
           249
          ],
          [
           "Corey Dickerson",
           365
          ],
          [
           "Darin Ruf",
           312
          ],
          [
           "Mike Yastrzemski",
           532
          ],
          [
           "Willson Contreras",
           483
          ],
          [
           "Kris Bryant",
           586
          ],
          [
           "Mark Canha",
           625
          ],
          [
           "Curt Casali",
           231
          ],
          [
           "Nick Castellanos",
           585
          ],
          [
           "Aaron Judge",
           633
          ],
          [
           "Manny Machado",
           640
          ],
          [
           "Joc Pederson",
           481
          ],
          [
           "J.T. Realmuto",
           537
          ],
          [
           "Hunter Renfroe",
           572
          ],
          [
           "Eddie Rosario",
           412
          ],
          [
           "Christian Yelich",
           475
          ],
          [
           "Whit Merrifield",
           720
          ],
          [
           "Xander Bogaerts",
           603
          ],
          [
           "Hanser Alberto",
           255
          ],
          [
           "Jorge Polanco",
           644
          ],
          [
           "Adam Duvall",
           555
          ],
          [
           "Kevin Kiermaier",
           390
          ],
          [
           "Jorge Alfaro",
           311
          ],
          [
           "Jurickson Profar",
           412
          ],
          [
           "Javier Baez",
           547
          ],
          [
           "Austin Hedges",
           312
          ],
          [
           "Francisco Lindor",
           524
          ],
          [
           "Rougned Odor",
           361
          ],
          [
           "Austin Slater",
           306
          ],
          [
           "Daniel Vogelbach",
           258
          ],
          [
           "Gary Sanchez",
           440
          ],
          [
           "Max Kepler",
           490
          ],
          [
           "Ji-Man Choi",
           305
          ],
          [
           "Jackie Bradley Jr.",
           428
          ],
          [
           "Tommy La Stella",
           242
          ],
          [
           "Jeimer Candelario",
           626
          ],
          [
           "Yonathan Daza",
           331
          ],
          [
           "Ramon Urias",
           296
          ],
          [
           "Nick Ahmed",
           473
          ],
          [
           "Brian Anderson",
           264
          ],
          [
           "Austin Barnes",
           225
          ],
          [
           "Josh Bell",
           568
          ],
          [
           "Mookie Betts",
           550
          ],
          [
           "Victor Caratini",
           356
          ],
          [
           "J.D. Davis",
           211
          ],
          [
           "Michael Perez",
           231
          ],
          [
           "Harold Castro",
           339
          ],
          [
           "Raimel Tapia",
           533
          ],
          [
           "Teoscar Hernandez",
           595
          ],
          [
           "Ketel Marte",
           374
          ],
          [
           "Eric Haase",
           381
          ],
          [
           "Brandon Nimmo",
           386
          ],
          [
           "Jace Peterson",
           302
          ],
          [
           "Trea Turner",
           646
          ],
          [
           "Matt Beaty",
           234
          ],
          [
           "Kevin Pillar",
           347
          ],
          [
           "Jacob Stallings",
           427
          ],
          [
           "Jose Ramirez",
           636
          ],
          [
           "Alex Bregman",
           400
          ],
          [
           "Joey Gallo",
           616
          ],
          [
           "Carson Kelly",
           359
          ],
          [
           "Corey Seager",
           409
          ],
          [
           "Jesse Winker",
           485
          ],
          [
           "Tom Murphy",
           325
          ],
          [
           "Franmil Reyes",
           466
          ],
          [
           "Luis Torrens",
           378
          ],
          [
           "Dansby Swanson",
           653
          ],
          [
           "Kevin Newman",
           554
          ],
          [
           "Chris Taylor",
           582
          ],
          [
           "Carlos Correa",
           640
          ],
          [
           "Brett Phillips",
           292
          ],
          [
           "Tyrone Taylor",
           271
          ],
          [
           "Byron Buxton",
           254
          ],
          [
           "Taylor Ward",
           237
          ],
          [
           "Patrick Wisdom",
           375
          ],
          [
           "Joey Wendle",
           501
          ],
          [
           "Matt Olson",
           673
          ],
          [
           "Matt Duffy",
           322
          ],
          [
           "Manuel Margot",
           464
          ],
          [
           "Jorge Mateo",
           209
          ],
          [
           "Harold Ramirez",
           361
          ],
          [
           "Anthony Santander",
           438
          ],
          [
           "Pete Alonso",
           637
          ],
          [
           "Cavan Biggio",
           294
          ],
          [
           "Adam Frazier",
           639
          ],
          [
           "Jose Trevino",
           302
          ],
          [
           "Nick Gordon",
           216
          ],
          [
           "Reese McGuire",
           217
          ],
          [
           "Jorge Soler",
           602
          ],
          [
           "Edmundo Sosa",
           326
          ],
          [
           "Andy Ibanez",
           272
          ],
          [
           "Jake Cronenworth",
           643
          ],
          [
           "Jackson Frazier",
           218
          ],
          [
           "Austin Meadows",
           591
          ],
          [
           "Oscar Mercado",
           238
          ],
          [
           "Tim Anderson",
           551
          ],
          [
           "Cody Bellinger",
           350
          ],
          [
           "Willie Calhoun",
           284
          ],
          [
           "J.P. Crawford",
           687
          ],
          [
           "Hunter Dozier",
           543
          ],
          [
           "Jake Fraley",
           265
          ],
          [
           "Mitch Garver",
           243
          ],
          [
           "Garrett Hampson",
           494
          ],
          [
           "Jonah Heim",
           285
          ],
          [
           "Trey Mancini",
           616
          ],
          [
           "Billy McKinney",
           300
          ],
          [
           "Ryan McMahon",
           596
          ],
          [
           "Tyler O'Neill",
           537
          ],
          [
           "Dominic Smith",
           493
          ],
          [
           "Rowdy Tellez",
           325
          ],
          [
           "Eli White",
           220
          ],
          [
           "Francisco Mejia",
           277
          ],
          [
           "Amed Rosario",
           588
          ],
          [
           "Willy Adames",
           555
          ],
          [
           "Andrew Benintendi",
           538
          ],
          [
           "Garrett Cooper",
           250
          ],
          [
           "Danny Jansen",
           205
          ],
          [
           "Tony Kemp",
           397
          ],
          [
           "Isiah Kiner-Falefa",
           677
          ],
          [
           "Jeff McNeil",
           426
          ],
          [
           "Yu Chang",
           251
          ],
          [
           "Ozzie Albies",
           686
          ],
          [
           "Victor Robles",
           369
          ],
          [
           "Rafael Devers",
           664
          ],
          [
           "Josh Naylor",
           250
          ],
          [
           "Abraham Toro",
           375
          ],
          [
           "Aledmys Diaz",
           319
          ],
          [
           "Luis Urias",
           570
          ],
          [
           "Luis Arraez",
           479
          ],
          [
           "Eloy Jimenez",
           231
          ],
          [
           "Gleyber Torres",
           516
          ],
          [
           "Willi Castro",
           450
          ],
          [
           "Yandy Diaz",
           541
          ],
          [
           "Bryan De La Cruz",
           219
          ],
          [
           "Matt Chapman",
           622
          ],
          [
           "Sam Hilliard",
           238
          ],
          [
           "Connor Joe",
           211
          ],
          [
           "Cedric Mullins II",
           675
          ],
          [
           "Ryan O'Hearn",
           254
          ],
          [
           "Kyle Schwarber",
           471
          ],
          [
           "Pavin Smith",
           545
          ],
          [
           "Lane Thomas",
           264
          ],
          [
           "Alex Verdugo",
           604
          ],
          [
           "Paul DeJong",
           402
          ],
          [
           "Ramon Laureano",
           378
          ],
          [
           "Yoan Moncada",
           616
          ],
          [
           "Shohei Ohtani",
           639
          ],
          [
           "Ronald Acuna Jr.",
           360
          ],
          [
           "Jesus Sanchez",
           251
          ],
          [
           "Daulton Varsho",
           315
          ],
          [
           "Austin Riley",
           662
          ],
          [
           "Nick Madrigal",
           215
          ],
          [
           "Trevor Larnach",
           301
          ],
          [
           "Ryan Mountcastle",
           586
          ],
          [
           "Ke'Bryan Hayes",
           396
          ],
          [
           "Kyle Tucker",
           567
          ],
          [
           "Jonathan India",
           631
          ],
          [
           "Trent Grisham",
           527
          ],
          [
           "Tyler Stephenson",
           402
          ],
          [
           "Nathaniel Lowe",
           642
          ],
          [
           "Ian Happ",
           535
          ],
          [
           "Ty France",
           650
          ],
          [
           "Brandon Lowe",
           615
          ],
          [
           "Harrison Bader",
           401
          ],
          [
           "David Fletcher",
           665
          ],
          [
           "Dylan Moore",
           377
          ],
          [
           "Myles Straw",
           638
          ],
          [
           "Alec Bohm",
           417
          ],
          [
           "LaMonte Wade Jr.",
           381
          ],
          [
           "Seth Brown",
           307
          ],
          [
           "Jared Walsh",
           585
          ],
          [
           "Vladimir Guerrero Jr.",
           698
          ],
          [
           "Juan Soto",
           654
          ],
          [
           "Jazz Chisholm Jr.",
           507
          ],
          [
           "Andres Gimenez",
           210
          ],
          [
           "Alex Kirilloff",
           231
          ],
          [
           "Bo Bichette",
           690
          ],
          [
           "Dylan Carlson",
           619
          ],
          [
           "Bobby Dalbec",
           453
          ],
          [
           "Adolis Garcia",
           622
          ],
          [
           "Lourdes Gurriel Jr.",
           541
          ],
          [
           "Brent Rooker",
           213
          ],
          [
           "Randy Arozarena",
           604
          ],
          [
           "Akil Baddoo",
           461
          ],
          [
           "Bryan Reynolds",
           646
          ],
          [
           "Josh Rojas",
           550
          ],
          [
           "Brandon Marsh",
           260
          ],
          [
           "Sean Murphy",
           448
          ],
          [
           "Tommy Edman",
           691
          ],
          [
           "Will Smith",
           501
          ],
          [
           "Santiago Espinal",
           246
          ],
          [
           "Austin Hays",
           529
          ],
          [
           "Nicky Lopez",
           565
          ],
          [
           "Yordan Alvarez",
           598
          ],
          [
           "Luis Garcia",
           247
          ],
          [
           "Jarred Kelenic",
           377
          ],
          [
           "Luis Robert",
           296
          ],
          [
           "Ha-seong Kim",
           298
          ],
          [
           "Chas McCormick",
           320
          ],
          [
           "Wander Franco",
           308
          ],
          [
           "Ryan Jeffers",
           293
          ],
          [
           "Owen Miller",
           202
          ],
          [
           "Andrew Vaughn",
           469
          ]
         ],
         "hovertemplate": "xwOBA_2021=%{x}<br>weighted_woba_2022_2023=%{y}<br>Name=%{customdata[0]}<br>PA_2021=%{customdata[1]}<extra></extra>",
         "legendgroup": "",
         "marker": {
          "color": "#636efa",
          "symbol": "circle"
         },
         "mode": "markers",
         "name": "",
         "orientation": "v",
         "showlegend": false,
         "type": "scatter",
         "x": [
          0.315,
          0.363,
          0.293,
          0.351,
          0.359,
          0.267,
          0.335,
          0.344,
          0.359,
          0.406,
          0.308,
          0.335,
          0.374,
          0.326,
          0.292,
          0.328,
          0.314,
          0.35,
          0.374,
          0.397,
          0.216,
          0.332,
          0.319,
          0.347,
          0.312,
          0.388,
          0.416,
          0.412,
          0.294,
          0.34,
          0.276,
          0.347,
          0.363,
          0.374,
          0.312,
          0.366,
          0.347,
          0.334,
          0.302,
          0.356,
          0.364,
          0.341,
          0.334,
          0.333,
          0.343,
          0.326,
          0.284,
          0.345,
          0.303,
          0.336,
          0.361,
          0.276,
          0.308,
          0.297,
          0.43,
          0.349,
          0.318,
          0.304,
          0.326,
          0.304,
          0.311,
          0.311,
          0.265,
          0.302,
          0.353,
          0.346,
          0.407,
          0.295,
          0.359,
          0.3,
          0.359,
          0.311,
          0.354,
          0.34,
          0.295,
          0.381,
          0.318,
          0.346,
          0.346,
          0.332,
          0.28,
          0.374,
          0.418,
          0.376,
          0.333,
          0.329,
          0.354,
          0.319,
          0.337,
          0.301,
          0.359,
          0.294,
          0.348,
          0.33,
          0.283,
          0.292,
          0.302,
          0.325,
          0.228,
          0.344,
          0.29,
          0.335,
          0.337,
          0.336,
          0.347,
          0.342,
          0.253,
          0.342,
          0.356,
          0.286,
          0.344,
          0.249,
          0.299,
          0.274,
          0.367,
          0.357,
          0.29,
          0.338,
          0.244,
          0.315,
          0.281,
          0.37,
          0.372,
          0.322,
          0.35,
          0.319,
          0.364,
          0.308,
          0.281,
          0.314,
          0.376,
          0.332,
          0.354,
          0.346,
          0.392,
          0.39,
          0.292,
          0.353,
          0.318,
          0.332,
          0.275,
          0.329,
          0.373,
          0.284,
          0.314,
          0.407,
          0.344,
          0.321,
          0.286,
          0.378,
          0.325,
          0.318,
          0.287,
          0.308,
          0.328,
          0.377,
          0.285,
          0.324,
          0.285,
          0.318,
          0.281,
          0.359,
          0.326,
          0.32,
          0.344,
          0.313,
          0.326,
          0.279,
          0.329,
          0.281,
          0.323,
          0.298,
          0.299,
          0.335,
          0.386,
          0.291,
          0.285,
          0.341,
          0.291,
          0.325,
          0.392,
          0.325,
          0.34,
          0.249,
          0.285,
          0.3,
          0.325,
          0.331,
          0.362,
          0.333,
          0.321,
          0.292,
          0.315,
          0.282,
          0.329,
          0.288,
          0.394,
          0.311,
          0.323,
          0.319,
          0.333,
          0.337,
          0.325,
          0.331,
          0.291,
          0.332,
          0.301,
          0.321,
          0.311,
          0.37,
          0.344,
          0.294,
          0.399,
          0.312,
          0.322,
          0.34,
          0.312,
          0.335,
          0.353,
          0.408,
          0.429,
          0.333,
          0.323,
          0.366,
          0.289,
          0.306,
          0.326,
          0.299,
          0.396,
          0.352,
          0.309,
          0.324,
          0.323,
          0.317,
          0.346,
          0.36,
          0.295,
          0.28,
          0.288,
          0.303,
          0.313,
          0.347,
          0.318,
          0.326,
          0.417,
          0.429,
          0.307,
          0.268,
          0.37,
          0.355,
          0.322,
          0.344,
          0.299,
          0.339,
          0.341,
          0.304,
          0.309,
          0.386,
          0.295,
          0.324,
          0.337,
          0.316,
          0.364,
          0.307,
          0.316,
          0.283,
          0.389,
          0.279,
          0.314,
          0.382,
          0.265,
          0.311,
          0.329,
          0.299,
          0.267,
          0.332
         ],
         "xaxis": "x",
         "y": [
          0.279,
          0.293,
          0.312,
          0.335,
          0.323,
          0.259,
          0.33,
          0.327,
          0.346,
          0.321,
          0.293,
          0.305,
          0.321,
          0.291,
          0.262,
          0.312,
          0.208,
          0.311,
          0.347,
          0.403,
          0.222,
          0.388,
          0.285,
          0.332,
          0.348,
          0.297,
          0.395,
          0.282,
          0.299,
          0.317,
          0.305,
          0.349,
          0.316,
          0.325,
          0.317,
          0.258,
          0.316,
          0.287,
          0.295,
          0.288,
          0.329,
          0.289,
          0.287,
          0.295,
          0.275,
          0.305,
          0.245,
          0.267,
          0.314,
          0.327,
          0.342,
          0.3,
          0.308,
          0.323,
          0.361,
          0.332,
          0.312,
          0.267,
          0.328,
          0.325,
          0.244,
          0.365,
          0.248,
          0.307,
          0.306,
          0.28,
          0.325,
          0.289,
          0.285,
          0.292,
          0.304,
          0.353,
          0.242,
          0.373,
          0.303,
          0.291,
          0.318,
          0.336,
          0.344,
          0.336,
          0.275,
          0.326,
          0.454,
          0.36,
          0.374,
          0.346,
          0.339,
          0.304,
          0.335,
          0.303,
          0.35,
          0.274,
          0.33,
          0.32,
          0.31,
          0.284,
          0.316,
          0.281,
          0.217,
          0.336,
          0.284,
          0.355,
          0.336,
          0.294,
          0.298,
          0.313,
          0.235,
          0.274,
          0.304,
          0.317,
          0.315,
          0.278,
          0.3,
          0.27,
          0.334,
          0.372,
          0.291,
          0.345,
          0.245,
          0.292,
          0.29,
          0.336,
          0.341,
          0.3,
          0.352,
          0.296,
          0.334,
          0.192,
          0.314,
          0.26,
          0.362,
          0.348,
          0.301,
          0.271,
          0.355,
          0.301,
          0.336,
          0.274,
          0.264,
          0.338,
          0.305,
          0.301,
          0.342,
          0.211,
          0.293,
          0.342,
          0.342,
          0.318,
          0.29,
          0.354,
          0.294,
          0.309,
          0.278,
          0.336,
          0.343,
          0.364,
          0.3,
          0.28,
          0.281,
          0.302,
          0.296,
          0.338,
          0.276,
          0.276,
          0.311,
          0.274,
          0.297,
          0.277,
          0.293,
          0.295,
          0.291,
          0.314,
          0.29,
          0.356,
          0.313,
          0.279,
          0.322,
          0.309,
          0.269,
          0.336,
          0.3,
          0.283,
          0.319,
          0.249,
          0.281,
          0.303,
          0.314,
          0.331,
          0.32,
          0.343,
          0.279,
          0.283,
          0.343,
          0.263,
          0.326,
          0.279,
          0.361,
          0.333,
          0.255,
          0.28,
          0.321,
          0.37,
          0.349,
          0.326,
          0.292,
          0.377,
          0.32,
          0.337,
          0.271,
          0.32,
          0.326,
          0.322,
          0.346,
          0.296,
          0.33,
          0.334,
          0.279,
          0.289,
          0.277,
          0.387,
          0.366,
          0.31,
          0.314,
          0.362,
          0.277,
          0.307,
          0.309,
          0.295,
          0.346,
          0.325,
          0.288,
          0.329,
          0.362,
          0.346,
          0.336,
          0.306,
          0.295,
          0.273,
          0.331,
          0.263,
          0.31,
          0.346,
          0.31,
          0.27,
          0.351,
          0.384,
          0.34,
          0.344,
          0.313,
          0.354,
          0.309,
          0.285,
          0.332,
          0.335,
          0.33,
          0.354,
          0.277,
          0.351,
          0.31,
          0.314,
          0.349,
          0.316,
          0.363,
          0.301,
          0.332,
          0.26,
          0.422,
          0.305,
          0.298,
          0.347,
          0.317,
          0.331,
          0.335,
          0.313,
          0.296,
          0.329
         ],
         "yaxis": "y"
        },
        {
         "hovertemplate": "<b>OLS trendline</b><br>weighted_woba_2022_2023 = 0.540118 * xwOBA_2021 + 0.134677<br>R<sup>2</sup>=0.309427<br><br>xwOBA_2021=%{x}<br>weighted_woba_2022_2023=%{y} <b>(trend)</b><extra></extra>",
         "legendgroup": "",
         "marker": {
          "color": "#636efa",
          "symbol": "circle"
         },
         "mode": "lines",
         "name": "",
         "showlegend": false,
         "type": "scatter",
         "x": [
          0.216,
          0.228,
          0.244,
          0.249,
          0.249,
          0.253,
          0.265,
          0.265,
          0.267,
          0.267,
          0.268,
          0.274,
          0.275,
          0.276,
          0.276,
          0.279,
          0.279,
          0.28,
          0.28,
          0.281,
          0.281,
          0.281,
          0.281,
          0.282,
          0.283,
          0.283,
          0.284,
          0.284,
          0.285,
          0.285,
          0.285,
          0.285,
          0.286,
          0.286,
          0.287,
          0.288,
          0.288,
          0.289,
          0.29,
          0.29,
          0.291,
          0.291,
          0.291,
          0.292,
          0.292,
          0.292,
          0.292,
          0.293,
          0.294,
          0.294,
          0.294,
          0.295,
          0.295,
          0.295,
          0.295,
          0.297,
          0.298,
          0.299,
          0.299,
          0.299,
          0.299,
          0.299,
          0.3,
          0.3,
          0.301,
          0.301,
          0.302,
          0.302,
          0.302,
          0.303,
          0.303,
          0.304,
          0.304,
          0.304,
          0.306,
          0.307,
          0.307,
          0.308,
          0.308,
          0.308,
          0.308,
          0.309,
          0.309,
          0.311,
          0.311,
          0.311,
          0.311,
          0.311,
          0.311,
          0.312,
          0.312,
          0.312,
          0.312,
          0.313,
          0.313,
          0.314,
          0.314,
          0.314,
          0.314,
          0.315,
          0.315,
          0.315,
          0.316,
          0.316,
          0.317,
          0.318,
          0.318,
          0.318,
          0.318,
          0.318,
          0.318,
          0.319,
          0.319,
          0.319,
          0.319,
          0.32,
          0.321,
          0.321,
          0.321,
          0.322,
          0.322,
          0.322,
          0.323,
          0.323,
          0.323,
          0.323,
          0.324,
          0.324,
          0.324,
          0.325,
          0.325,
          0.325,
          0.325,
          0.325,
          0.325,
          0.326,
          0.326,
          0.326,
          0.326,
          0.326,
          0.326,
          0.326,
          0.328,
          0.328,
          0.329,
          0.329,
          0.329,
          0.329,
          0.329,
          0.33,
          0.331,
          0.331,
          0.332,
          0.332,
          0.332,
          0.332,
          0.332,
          0.332,
          0.333,
          0.333,
          0.333,
          0.333,
          0.333,
          0.334,
          0.334,
          0.335,
          0.335,
          0.335,
          0.335,
          0.335,
          0.336,
          0.336,
          0.337,
          0.337,
          0.337,
          0.337,
          0.338,
          0.339,
          0.34,
          0.34,
          0.34,
          0.34,
          0.341,
          0.341,
          0.341,
          0.342,
          0.342,
          0.343,
          0.344,
          0.344,
          0.344,
          0.344,
          0.344,
          0.344,
          0.344,
          0.345,
          0.346,
          0.346,
          0.346,
          0.346,
          0.346,
          0.347,
          0.347,
          0.347,
          0.347,
          0.347,
          0.348,
          0.349,
          0.35,
          0.35,
          0.351,
          0.352,
          0.353,
          0.353,
          0.353,
          0.354,
          0.354,
          0.354,
          0.355,
          0.356,
          0.356,
          0.357,
          0.359,
          0.359,
          0.359,
          0.359,
          0.359,
          0.359,
          0.36,
          0.361,
          0.362,
          0.363,
          0.363,
          0.364,
          0.364,
          0.364,
          0.366,
          0.366,
          0.367,
          0.37,
          0.37,
          0.37,
          0.372,
          0.373,
          0.374,
          0.374,
          0.374,
          0.374,
          0.376,
          0.376,
          0.377,
          0.378,
          0.381,
          0.382,
          0.386,
          0.386,
          0.388,
          0.389,
          0.39,
          0.392,
          0.392,
          0.394,
          0.396,
          0.397,
          0.399,
          0.406,
          0.407,
          0.407,
          0.408,
          0.412,
          0.416,
          0.417,
          0.418,
          0.429,
          0.429,
          0.43
         ],
         "xaxis": "x",
         "y": [
          0.2513421850535375,
          0.2578236013227867,
          0.26646548968178563,
          0.2691660797939728,
          0.2691660797939728,
          0.2713265518837225,
          0.2778079681529717,
          0.2778079681529717,
          0.27888820419784655,
          0.27888820419784655,
          0.279428322220284,
          0.2826690303549086,
          0.283209148377346,
          0.2837492663997835,
          0.2837492663997835,
          0.2853696204670958,
          0.2853696204670958,
          0.28590973848953316,
          0.28590973848953316,
          0.28644985651197064,
          0.28644985651197064,
          0.28644985651197064,
          0.28644985651197064,
          0.286989974534408,
          0.2875300925568455,
          0.2875300925568455,
          0.2880702105792829,
          0.2880702105792829,
          0.2886103286017203,
          0.2886103286017203,
          0.2886103286017203,
          0.2886103286017203,
          0.2891504466241578,
          0.2891504466241578,
          0.2896905646465952,
          0.2902306826690326,
          0.2902306826690326,
          0.2907708006914701,
          0.29131091871390746,
          0.29131091871390746,
          0.29185103673634494,
          0.29185103673634494,
          0.29185103673634494,
          0.29239115475878236,
          0.29239115475878236,
          0.29239115475878236,
          0.29239115475878236,
          0.2929312727812198,
          0.29347139080365725,
          0.29347139080365725,
          0.29347139080365725,
          0.29401150882609467,
          0.29401150882609467,
          0.29401150882609467,
          0.29401150882609467,
          0.29509174487096956,
          0.2956318628934069,
          0.2961719809158444,
          0.2961719809158444,
          0.2961719809158444,
          0.2961719809158444,
          0.2961719809158444,
          0.2967120989382818,
          0.2967120989382818,
          0.29725221696071924,
          0.29725221696071924,
          0.2977923349831567,
          0.2977923349831567,
          0.2977923349831567,
          0.29833245300559413,
          0.29833245300559413,
          0.29887257102803155,
          0.29887257102803155,
          0.29887257102803155,
          0.2999528070729064,
          0.30049292509534387,
          0.30049292509534387,
          0.3010330431177813,
          0.3010330431177813,
          0.3010330431177813,
          0.3010330431177813,
          0.3015731611402187,
          0.3015731611402187,
          0.3026533971850936,
          0.3026533971850936,
          0.3026533971850936,
          0.3026533971850936,
          0.3026533971850936,
          0.3026533971850936,
          0.303193515207531,
          0.303193515207531,
          0.303193515207531,
          0.303193515207531,
          0.3037336332299685,
          0.3037336332299685,
          0.30427375125240586,
          0.30427375125240586,
          0.30427375125240586,
          0.30427375125240586,
          0.30481386927484333,
          0.30481386927484333,
          0.30481386927484333,
          0.30535398729728075,
          0.30535398729728075,
          0.30589410531971817,
          0.30643422334215564,
          0.30643422334215564,
          0.30643422334215564,
          0.30643422334215564,
          0.30643422334215564,
          0.30643422334215564,
          0.30697434136459306,
          0.30697434136459306,
          0.30697434136459306,
          0.30697434136459306,
          0.3075144593870305,
          0.30805457740946796,
          0.30805457740946796,
          0.30805457740946796,
          0.3085946954319053,
          0.3085946954319053,
          0.3085946954319053,
          0.3091348134543428,
          0.3091348134543428,
          0.3091348134543428,
          0.3091348134543428,
          0.3096749314767802,
          0.3096749314767802,
          0.3096749314767802,
          0.31021504949921763,
          0.31021504949921763,
          0.31021504949921763,
          0.31021504949921763,
          0.31021504949921763,
          0.31021504949921763,
          0.3107551675216551,
          0.3107551675216551,
          0.3107551675216551,
          0.3107551675216551,
          0.3107551675216551,
          0.3107551675216551,
          0.3107551675216551,
          0.31183540356652995,
          0.31183540356652995,
          0.3123755215889674,
          0.3123755215889674,
          0.3123755215889674,
          0.3123755215889674,
          0.3123755215889674,
          0.3129156396114048,
          0.31345575763384226,
          0.31345575763384226,
          0.3139958756562797,
          0.3139958756562797,
          0.3139958756562797,
          0.3139958756562797,
          0.3139958756562797,
          0.3139958756562797,
          0.3145359936787171,
          0.3145359936787171,
          0.3145359936787171,
          0.3145359936787171,
          0.3145359936787171,
          0.31507611170115457,
          0.31507611170115457,
          0.315616229723592,
          0.315616229723592,
          0.315616229723592,
          0.315616229723592,
          0.315616229723592,
          0.3161563477460294,
          0.3161563477460294,
          0.3166964657684669,
          0.3166964657684669,
          0.3166964657684669,
          0.3166964657684669,
          0.31723658379090425,
          0.3177767018133417,
          0.31831681983577914,
          0.31831681983577914,
          0.31831681983577914,
          0.31831681983577914,
          0.31885693785821656,
          0.31885693785821656,
          0.31885693785821656,
          0.31939705588065403,
          0.31939705588065403,
          0.31993717390309145,
          0.3204772919255289,
          0.3204772919255289,
          0.3204772919255289,
          0.3204772919255289,
          0.3204772919255289,
          0.3204772919255289,
          0.3204772919255289,
          0.3210174099479663,
          0.3215575279704037,
          0.3215575279704037,
          0.3215575279704037,
          0.3215575279704037,
          0.3215575279704037,
          0.3220976459928412,
          0.3220976459928412,
          0.3220976459928412,
          0.3220976459928412,
          0.3220976459928412,
          0.32263776401527855,
          0.323177882037716,
          0.32371800006015344,
          0.32371800006015344,
          0.32425811808259086,
          0.32479823610502834,
          0.32533835412746576,
          0.32533835412746576,
          0.32533835412746576,
          0.3258784721499032,
          0.3258784721499032,
          0.3258784721499032,
          0.32641859017234065,
          0.326958708194778,
          0.326958708194778,
          0.3274988262172155,
          0.3285790622620903,
          0.3285790622620903,
          0.3285790622620903,
          0.3285790622620903,
          0.3285790622620903,
          0.3285790622620903,
          0.3291191802845278,
          0.3296592983069652,
          0.33019941632940264,
          0.3307395343518401,
          0.3307395343518401,
          0.3312796523742775,
          0.3312796523742775,
          0.3312796523742775,
          0.33235988841915237,
          0.33235988841915237,
          0.3329000064415898,
          0.3345203605089021,
          0.3345203605089021,
          0.3345203605089021,
          0.33560059655377694,
          0.3361407145762144,
          0.33668083259865184,
          0.33668083259865184,
          0.33668083259865184,
          0.33668083259865184,
          0.33776106864352673,
          0.33776106864352673,
          0.33830118666596415,
          0.33884130468840157,
          0.3404616587557139,
          0.34100177677815136,
          0.34316224886790103,
          0.34316224886790103,
          0.3442424849127759,
          0.34478260293521334,
          0.3453227209576508,
          0.34640295700252566,
          0.34640295700252566,
          0.3474831930474005,
          0.3485634290922754,
          0.3491035471147128,
          0.35018378315958765,
          0.35396460931664975,
          0.3545047273390871,
          0.3545047273390871,
          0.3550448453615246,
          0.35720531745127426,
          0.35936578954102405,
          0.3599059075634614,
          0.3604460255858989,
          0.36638732383271067,
          0.36638732383271067,
          0.3669274418551481
         ],
         "yaxis": "y"
        }
       ],
       "layout": {
        "legend": {
         "tracegroupgap": 0
        },
        "margin": {
         "t": 60
        },
        "template": {
         "data": {
          "bar": [
           {
            "error_x": {
             "color": "#2a3f5f"
            },
            "error_y": {
             "color": "#2a3f5f"
            },
            "marker": {
             "line": {
              "color": "#E5ECF6",
              "width": 0.5
             },
             "pattern": {
              "fillmode": "overlay",
              "size": 10,
              "solidity": 0.2
             }
            },
            "type": "bar"
           }
          ],
          "barpolar": [
           {
            "marker": {
             "line": {
              "color": "#E5ECF6",
              "width": 0.5
             },
             "pattern": {
              "fillmode": "overlay",
              "size": 10,
              "solidity": 0.2
             }
            },
            "type": "barpolar"
           }
          ],
          "carpet": [
           {
            "aaxis": {
             "endlinecolor": "#2a3f5f",
             "gridcolor": "white",
             "linecolor": "white",
             "minorgridcolor": "white",
             "startlinecolor": "#2a3f5f"
            },
            "baxis": {
             "endlinecolor": "#2a3f5f",
             "gridcolor": "white",
             "linecolor": "white",
             "minorgridcolor": "white",
             "startlinecolor": "#2a3f5f"
            },
            "type": "carpet"
           }
          ],
          "choropleth": [
           {
            "colorbar": {
             "outlinewidth": 0,
             "ticks": ""
            },
            "type": "choropleth"
           }
          ],
          "contour": [
           {
            "colorbar": {
             "outlinewidth": 0,
             "ticks": ""
            },
            "colorscale": [
             [
              0,
              "#0d0887"
             ],
             [
              0.1111111111111111,
              "#46039f"
             ],
             [
              0.2222222222222222,
              "#7201a8"
             ],
             [
              0.3333333333333333,
              "#9c179e"
             ],
             [
              0.4444444444444444,
              "#bd3786"
             ],
             [
              0.5555555555555556,
              "#d8576b"
             ],
             [
              0.6666666666666666,
              "#ed7953"
             ],
             [
              0.7777777777777778,
              "#fb9f3a"
             ],
             [
              0.8888888888888888,
              "#fdca26"
             ],
             [
              1,
              "#f0f921"
             ]
            ],
            "type": "contour"
           }
          ],
          "contourcarpet": [
           {
            "colorbar": {
             "outlinewidth": 0,
             "ticks": ""
            },
            "type": "contourcarpet"
           }
          ],
          "heatmap": [
           {
            "colorbar": {
             "outlinewidth": 0,
             "ticks": ""
            },
            "colorscale": [
             [
              0,
              "#0d0887"
             ],
             [
              0.1111111111111111,
              "#46039f"
             ],
             [
              0.2222222222222222,
              "#7201a8"
             ],
             [
              0.3333333333333333,
              "#9c179e"
             ],
             [
              0.4444444444444444,
              "#bd3786"
             ],
             [
              0.5555555555555556,
              "#d8576b"
             ],
             [
              0.6666666666666666,
              "#ed7953"
             ],
             [
              0.7777777777777778,
              "#fb9f3a"
             ],
             [
              0.8888888888888888,
              "#fdca26"
             ],
             [
              1,
              "#f0f921"
             ]
            ],
            "type": "heatmap"
           }
          ],
          "heatmapgl": [
           {
            "colorbar": {
             "outlinewidth": 0,
             "ticks": ""
            },
            "colorscale": [
             [
              0,
              "#0d0887"
             ],
             [
              0.1111111111111111,
              "#46039f"
             ],
             [
              0.2222222222222222,
              "#7201a8"
             ],
             [
              0.3333333333333333,
              "#9c179e"
             ],
             [
              0.4444444444444444,
              "#bd3786"
             ],
             [
              0.5555555555555556,
              "#d8576b"
             ],
             [
              0.6666666666666666,
              "#ed7953"
             ],
             [
              0.7777777777777778,
              "#fb9f3a"
             ],
             [
              0.8888888888888888,
              "#fdca26"
             ],
             [
              1,
              "#f0f921"
             ]
            ],
            "type": "heatmapgl"
           }
          ],
          "histogram": [
           {
            "marker": {
             "pattern": {
              "fillmode": "overlay",
              "size": 10,
              "solidity": 0.2
             }
            },
            "type": "histogram"
           }
          ],
          "histogram2d": [
           {
            "colorbar": {
             "outlinewidth": 0,
             "ticks": ""
            },
            "colorscale": [
             [
              0,
              "#0d0887"
             ],
             [
              0.1111111111111111,
              "#46039f"
             ],
             [
              0.2222222222222222,
              "#7201a8"
             ],
             [
              0.3333333333333333,
              "#9c179e"
             ],
             [
              0.4444444444444444,
              "#bd3786"
             ],
             [
              0.5555555555555556,
              "#d8576b"
             ],
             [
              0.6666666666666666,
              "#ed7953"
             ],
             [
              0.7777777777777778,
              "#fb9f3a"
             ],
             [
              0.8888888888888888,
              "#fdca26"
             ],
             [
              1,
              "#f0f921"
             ]
            ],
            "type": "histogram2d"
           }
          ],
          "histogram2dcontour": [
           {
            "colorbar": {
             "outlinewidth": 0,
             "ticks": ""
            },
            "colorscale": [
             [
              0,
              "#0d0887"
             ],
             [
              0.1111111111111111,
              "#46039f"
             ],
             [
              0.2222222222222222,
              "#7201a8"
             ],
             [
              0.3333333333333333,
              "#9c179e"
             ],
             [
              0.4444444444444444,
              "#bd3786"
             ],
             [
              0.5555555555555556,
              "#d8576b"
             ],
             [
              0.6666666666666666,
              "#ed7953"
             ],
             [
              0.7777777777777778,
              "#fb9f3a"
             ],
             [
              0.8888888888888888,
              "#fdca26"
             ],
             [
              1,
              "#f0f921"
             ]
            ],
            "type": "histogram2dcontour"
           }
          ],
          "mesh3d": [
           {
            "colorbar": {
             "outlinewidth": 0,
             "ticks": ""
            },
            "type": "mesh3d"
           }
          ],
          "parcoords": [
           {
            "line": {
             "colorbar": {
              "outlinewidth": 0,
              "ticks": ""
             }
            },
            "type": "parcoords"
           }
          ],
          "pie": [
           {
            "automargin": true,
            "type": "pie"
           }
          ],
          "scatter": [
           {
            "fillpattern": {
             "fillmode": "overlay",
             "size": 10,
             "solidity": 0.2
            },
            "type": "scatter"
           }
          ],
          "scatter3d": [
           {
            "line": {
             "colorbar": {
              "outlinewidth": 0,
              "ticks": ""
             }
            },
            "marker": {
             "colorbar": {
              "outlinewidth": 0,
              "ticks": ""
             }
            },
            "type": "scatter3d"
           }
          ],
          "scattercarpet": [
           {
            "marker": {
             "colorbar": {
              "outlinewidth": 0,
              "ticks": ""
             }
            },
            "type": "scattercarpet"
           }
          ],
          "scattergeo": [
           {
            "marker": {
             "colorbar": {
              "outlinewidth": 0,
              "ticks": ""
             }
            },
            "type": "scattergeo"
           }
          ],
          "scattergl": [
           {
            "marker": {
             "colorbar": {
              "outlinewidth": 0,
              "ticks": ""
             }
            },
            "type": "scattergl"
           }
          ],
          "scattermapbox": [
           {
            "marker": {
             "colorbar": {
              "outlinewidth": 0,
              "ticks": ""
             }
            },
            "type": "scattermapbox"
           }
          ],
          "scatterpolar": [
           {
            "marker": {
             "colorbar": {
              "outlinewidth": 0,
              "ticks": ""
             }
            },
            "type": "scatterpolar"
           }
          ],
          "scatterpolargl": [
           {
            "marker": {
             "colorbar": {
              "outlinewidth": 0,
              "ticks": ""
             }
            },
            "type": "scatterpolargl"
           }
          ],
          "scatterternary": [
           {
            "marker": {
             "colorbar": {
              "outlinewidth": 0,
              "ticks": ""
             }
            },
            "type": "scatterternary"
           }
          ],
          "surface": [
           {
            "colorbar": {
             "outlinewidth": 0,
             "ticks": ""
            },
            "colorscale": [
             [
              0,
              "#0d0887"
             ],
             [
              0.1111111111111111,
              "#46039f"
             ],
             [
              0.2222222222222222,
              "#7201a8"
             ],
             [
              0.3333333333333333,
              "#9c179e"
             ],
             [
              0.4444444444444444,
              "#bd3786"
             ],
             [
              0.5555555555555556,
              "#d8576b"
             ],
             [
              0.6666666666666666,
              "#ed7953"
             ],
             [
              0.7777777777777778,
              "#fb9f3a"
             ],
             [
              0.8888888888888888,
              "#fdca26"
             ],
             [
              1,
              "#f0f921"
             ]
            ],
            "type": "surface"
           }
          ],
          "table": [
           {
            "cells": {
             "fill": {
              "color": "#EBF0F8"
             },
             "line": {
              "color": "white"
             }
            },
            "header": {
             "fill": {
              "color": "#C8D4E3"
             },
             "line": {
              "color": "white"
             }
            },
            "type": "table"
           }
          ]
         },
         "layout": {
          "annotationdefaults": {
           "arrowcolor": "#2a3f5f",
           "arrowhead": 0,
           "arrowwidth": 1
          },
          "autotypenumbers": "strict",
          "coloraxis": {
           "colorbar": {
            "outlinewidth": 0,
            "ticks": ""
           }
          },
          "colorscale": {
           "diverging": [
            [
             0,
             "#8e0152"
            ],
            [
             0.1,
             "#c51b7d"
            ],
            [
             0.2,
             "#de77ae"
            ],
            [
             0.3,
             "#f1b6da"
            ],
            [
             0.4,
             "#fde0ef"
            ],
            [
             0.5,
             "#f7f7f7"
            ],
            [
             0.6,
             "#e6f5d0"
            ],
            [
             0.7,
             "#b8e186"
            ],
            [
             0.8,
             "#7fbc41"
            ],
            [
             0.9,
             "#4d9221"
            ],
            [
             1,
             "#276419"
            ]
           ],
           "sequential": [
            [
             0,
             "#0d0887"
            ],
            [
             0.1111111111111111,
             "#46039f"
            ],
            [
             0.2222222222222222,
             "#7201a8"
            ],
            [
             0.3333333333333333,
             "#9c179e"
            ],
            [
             0.4444444444444444,
             "#bd3786"
            ],
            [
             0.5555555555555556,
             "#d8576b"
            ],
            [
             0.6666666666666666,
             "#ed7953"
            ],
            [
             0.7777777777777778,
             "#fb9f3a"
            ],
            [
             0.8888888888888888,
             "#fdca26"
            ],
            [
             1,
             "#f0f921"
            ]
           ],
           "sequentialminus": [
            [
             0,
             "#0d0887"
            ],
            [
             0.1111111111111111,
             "#46039f"
            ],
            [
             0.2222222222222222,
             "#7201a8"
            ],
            [
             0.3333333333333333,
             "#9c179e"
            ],
            [
             0.4444444444444444,
             "#bd3786"
            ],
            [
             0.5555555555555556,
             "#d8576b"
            ],
            [
             0.6666666666666666,
             "#ed7953"
            ],
            [
             0.7777777777777778,
             "#fb9f3a"
            ],
            [
             0.8888888888888888,
             "#fdca26"
            ],
            [
             1,
             "#f0f921"
            ]
           ]
          },
          "colorway": [
           "#636efa",
           "#EF553B",
           "#00cc96",
           "#ab63fa",
           "#FFA15A",
           "#19d3f3",
           "#FF6692",
           "#B6E880",
           "#FF97FF",
           "#FECB52"
          ],
          "font": {
           "color": "#2a3f5f"
          },
          "geo": {
           "bgcolor": "white",
           "lakecolor": "white",
           "landcolor": "#E5ECF6",
           "showlakes": true,
           "showland": true,
           "subunitcolor": "white"
          },
          "hoverlabel": {
           "align": "left"
          },
          "hovermode": "closest",
          "mapbox": {
           "style": "light"
          },
          "paper_bgcolor": "white",
          "plot_bgcolor": "#E5ECF6",
          "polar": {
           "angularaxis": {
            "gridcolor": "white",
            "linecolor": "white",
            "ticks": ""
           },
           "bgcolor": "#E5ECF6",
           "radialaxis": {
            "gridcolor": "white",
            "linecolor": "white",
            "ticks": ""
           }
          },
          "scene": {
           "xaxis": {
            "backgroundcolor": "#E5ECF6",
            "gridcolor": "white",
            "gridwidth": 2,
            "linecolor": "white",
            "showbackground": true,
            "ticks": "",
            "zerolinecolor": "white"
           },
           "yaxis": {
            "backgroundcolor": "#E5ECF6",
            "gridcolor": "white",
            "gridwidth": 2,
            "linecolor": "white",
            "showbackground": true,
            "ticks": "",
            "zerolinecolor": "white"
           },
           "zaxis": {
            "backgroundcolor": "#E5ECF6",
            "gridcolor": "white",
            "gridwidth": 2,
            "linecolor": "white",
            "showbackground": true,
            "ticks": "",
            "zerolinecolor": "white"
           }
          },
          "shapedefaults": {
           "line": {
            "color": "#2a3f5f"
           }
          },
          "ternary": {
           "aaxis": {
            "gridcolor": "white",
            "linecolor": "white",
            "ticks": ""
           },
           "baxis": {
            "gridcolor": "white",
            "linecolor": "white",
            "ticks": ""
           },
           "bgcolor": "#E5ECF6",
           "caxis": {
            "gridcolor": "white",
            "linecolor": "white",
            "ticks": ""
           }
          },
          "title": {
           "x": 0.05
          },
          "xaxis": {
           "automargin": true,
           "gridcolor": "white",
           "linecolor": "white",
           "ticks": "",
           "title": {
            "standoff": 15
           },
           "zerolinecolor": "white",
           "zerolinewidth": 2
          },
          "yaxis": {
           "automargin": true,
           "gridcolor": "white",
           "linecolor": "white",
           "ticks": "",
           "title": {
            "standoff": 15
           },
           "zerolinecolor": "white",
           "zerolinewidth": 2
          }
         }
        },
        "xaxis": {
         "anchor": "y",
         "domain": [
          0,
          1
         ],
         "title": {
          "text": "xwOBA_2021"
         }
        },
        "yaxis": {
         "anchor": "x",
         "domain": [
          0,
          1
         ],
         "title": {
          "text": "weighted_woba_2022_2023"
         }
        }
       }
      }
     },
     "metadata": {},
     "output_type": "display_data"
    }
   ],
   "source": [
    "px.scatter(data_frame=merged_leaders.loc[merged_leaders['PA_2021'] > 200], x='xwOBA_2021', y='weighted_woba_2022_2023', trendline='ols',hover_data=['Name', 'PA_2021'])"
   ]
  },
  {
   "cell_type": "code",
   "execution_count": null,
   "metadata": {},
   "outputs": [
    {
     "data": {
      "application/vnd.plotly.v1+json": {
       "config": {
        "plotlyServerURL": "https://plotly.com"
       },
       "data": [
        {
         "customdata": [
          [
           "Miguel Cabrera",
           526
          ],
          [
           "Nelson Cruz",
           584
          ],
          [
           "David Peralta",
           538
          ],
          [
           "Evan Longoria",
           291
          ],
          [
           "Charlie Blackmon",
           582
          ],
          [
           "Martin Maldonado",
           426
          ],
          [
           "Donovan Solano",
           344
          ],
          [
           "Andrew McCutchen",
           574
          ],
          [
           "Justin Turner",
           612
          ],
          [
           "Joey Votto",
           533
          ],
          [
           "Elvis Andrus",
           541
          ],
          [
           "Carlos Santana",
           659
          ],
          [
           "Brandon Belt",
           381
          ],
          [
           "Yuli Gurriel",
           605
          ],
          [
           "Miguel Rojas",
           539
          ],
          [
           "Eduardo Escobar",
           599
          ],
          [
           "Ehire Adrianza",
           209
          ],
          [
           "Tommy Pham",
           561
          ],
          [
           "J.D. Martinez",
           634
          ],
          [
           "Paul Goldschmidt",
           679
          ],
          [
           "Sandy Leon",
           220
          ],
          [
           "Jose Altuve",
           678
          ],
          [
           "Jean Segura",
           567
          ],
          [
           "Starling Marte",
           526
          ],
          [
           "Travis d'Arnaud",
           229
          ],
          [
           "Josh Donaldson",
           543
          ],
          [
           "Freddie Freeman",
           695
          ],
          [
           "Yasmani Grandal",
           375
          ],
          [
           "Jason Heyward",
           353
          ],
          [
           "DJ LeMahieu",
           679
          ],
          [
           "Mike Moustakas",
           206
          ],
          [
           "Anthony Rizzo",
           576
          ],
          [
           "Giancarlo Stanton",
           579
          ],
          [
           "Salvador Perez",
           665
          ],
          [
           "Wilmer Flores",
           436
          ],
          [
           "Avisail Garcia",
           515
          ],
          [
           "Marcell Ozuna",
           208
          ],
          [
           "Jesus Aguilar",
           510
          ],
          [
           "Jon Berti",
           271
          ],
          [
           "Brandon Crawford",
           549
          ],
          [
           "C.J. Cron",
           547
          ],
          [
           "Yan Gomes",
           375
          ],
          [
           "Robbie Grossman",
           671
          ],
          [
           "Josh Harrison",
           558
          ],
          [
           "Kyle Higashioka",
           211
          ],
          [
           "Eric Hosmer",
           565
          ],
          [
           "James McCann",
           412
          ],
          [
           "Brad Miller",
           377
          ],
          [
           "Anthony Rendon",
           249
          ],
          [
           "Marcus Semien",
           724
          ],
          [
           "George Springer",
           342
          ],
          [
           "Christian Vazquez",
           498
          ],
          [
           "Kolten Wong",
           492
          ],
          [
           "Randal Grichuk",
           545
          ],
          [
           "Bryce Harper",
           599
          ],
          [
           "Jose Abreu",
           659
          ],
          [
           "Elias Diaz",
           371
          ],
          [
           "Omar Narvaez",
           445
          ],
          [
           "Eugenio Suarez",
           574
          ],
          [
           "Gio Urshela",
           442
          ],
          [
           "Jonathan Schoop",
           674
          ],
          [
           "Nolan Arenado",
           653
          ],
          [
           "Tucker Barnhart",
           388
          ],
          [
           "Kyle Farmer",
           529
          ],
          [
           "Mitch Haniger",
           691
          ],
          [
           "Enrique Hernandez",
           585
          ],
          [
           "Max Muncy",
           592
          ],
          [
           "Wil Myers",
           500
          ],
          [
           "A.J. Pollock",
           422
          ],
          [
           "Michael A. Taylor",
           528
          ],
          [
           "Luke Voit",
           241
          ],
          [
           "Christian Walker",
           445
          ],
          [
           "Mike Zunino",
           375
          ],
          [
           "Matt Carpenter",
           249
          ],
          [
           "Corey Dickerson",
           365
          ],
          [
           "Darin Ruf",
           312
          ],
          [
           "Mike Yastrzemski",
           532
          ],
          [
           "Willson Contreras",
           483
          ],
          [
           "Kris Bryant",
           586
          ],
          [
           "Mark Canha",
           625
          ],
          [
           "Curt Casali",
           231
          ],
          [
           "Nick Castellanos",
           585
          ],
          [
           "Aaron Judge",
           633
          ],
          [
           "Manny Machado",
           640
          ],
          [
           "Joc Pederson",
           481
          ],
          [
           "J.T. Realmuto",
           537
          ],
          [
           "Hunter Renfroe",
           572
          ],
          [
           "Eddie Rosario",
           412
          ],
          [
           "Christian Yelich",
           475
          ],
          [
           "Whit Merrifield",
           720
          ],
          [
           "Xander Bogaerts",
           603
          ],
          [
           "Hanser Alberto",
           255
          ],
          [
           "Jorge Polanco",
           644
          ],
          [
           "Adam Duvall",
           555
          ],
          [
           "Kevin Kiermaier",
           390
          ],
          [
           "Jorge Alfaro",
           311
          ],
          [
           "Jurickson Profar",
           412
          ],
          [
           "Javier Baez",
           547
          ],
          [
           "Austin Hedges",
           312
          ],
          [
           "Francisco Lindor",
           524
          ],
          [
           "Rougned Odor",
           361
          ],
          [
           "Austin Slater",
           306
          ],
          [
           "Daniel Vogelbach",
           258
          ],
          [
           "Gary Sanchez",
           440
          ],
          [
           "Max Kepler",
           490
          ],
          [
           "Ji-Man Choi",
           305
          ],
          [
           "Jackie Bradley Jr.",
           428
          ],
          [
           "Tommy La Stella",
           242
          ],
          [
           "Jeimer Candelario",
           626
          ],
          [
           "Yonathan Daza",
           331
          ],
          [
           "Ramon Urias",
           296
          ],
          [
           "Nick Ahmed",
           473
          ],
          [
           "Brian Anderson",
           264
          ],
          [
           "Austin Barnes",
           225
          ],
          [
           "Josh Bell",
           568
          ],
          [
           "Mookie Betts",
           550
          ],
          [
           "Victor Caratini",
           356
          ],
          [
           "J.D. Davis",
           211
          ],
          [
           "Michael Perez",
           231
          ],
          [
           "Harold Castro",
           339
          ],
          [
           "Raimel Tapia",
           533
          ],
          [
           "Teoscar Hernandez",
           595
          ],
          [
           "Ketel Marte",
           374
          ],
          [
           "Eric Haase",
           381
          ],
          [
           "Brandon Nimmo",
           386
          ],
          [
           "Jace Peterson",
           302
          ],
          [
           "Trea Turner",
           646
          ],
          [
           "Matt Beaty",
           234
          ],
          [
           "Kevin Pillar",
           347
          ],
          [
           "Jacob Stallings",
           427
          ],
          [
           "Jose Ramirez",
           636
          ],
          [
           "Alex Bregman",
           400
          ],
          [
           "Joey Gallo",
           616
          ],
          [
           "Carson Kelly",
           359
          ],
          [
           "Corey Seager",
           409
          ],
          [
           "Jesse Winker",
           485
          ],
          [
           "Tom Murphy",
           325
          ],
          [
           "Franmil Reyes",
           466
          ],
          [
           "Luis Torrens",
           378
          ],
          [
           "Dansby Swanson",
           653
          ],
          [
           "Kevin Newman",
           554
          ],
          [
           "Chris Taylor",
           582
          ],
          [
           "Carlos Correa",
           640
          ],
          [
           "Brett Phillips",
           292
          ],
          [
           "Tyrone Taylor",
           271
          ],
          [
           "Byron Buxton",
           254
          ],
          [
           "Taylor Ward",
           237
          ],
          [
           "Patrick Wisdom",
           375
          ],
          [
           "Joey Wendle",
           501
          ],
          [
           "Matt Olson",
           673
          ],
          [
           "Matt Duffy",
           322
          ],
          [
           "Manuel Margot",
           464
          ],
          [
           "Jorge Mateo",
           209
          ],
          [
           "Harold Ramirez",
           361
          ],
          [
           "Anthony Santander",
           438
          ],
          [
           "Pete Alonso",
           637
          ],
          [
           "Cavan Biggio",
           294
          ],
          [
           "Adam Frazier",
           639
          ],
          [
           "Jose Trevino",
           302
          ],
          [
           "Nick Gordon",
           216
          ],
          [
           "Reese McGuire",
           217
          ],
          [
           "Jorge Soler",
           602
          ],
          [
           "Edmundo Sosa",
           326
          ],
          [
           "Andy Ibanez",
           272
          ],
          [
           "Jake Cronenworth",
           643
          ],
          [
           "Jackson Frazier",
           218
          ],
          [
           "Austin Meadows",
           591
          ],
          [
           "Oscar Mercado",
           238
          ],
          [
           "Tim Anderson",
           551
          ],
          [
           "Cody Bellinger",
           350
          ],
          [
           "Willie Calhoun",
           284
          ],
          [
           "J.P. Crawford",
           687
          ],
          [
           "Hunter Dozier",
           543
          ],
          [
           "Jake Fraley",
           265
          ],
          [
           "Mitch Garver",
           243
          ],
          [
           "Garrett Hampson",
           494
          ],
          [
           "Jonah Heim",
           285
          ],
          [
           "Trey Mancini",
           616
          ],
          [
           "Billy McKinney",
           300
          ],
          [
           "Ryan McMahon",
           596
          ],
          [
           "Tyler O'Neill",
           537
          ],
          [
           "Dominic Smith",
           493
          ],
          [
           "Rowdy Tellez",
           325
          ],
          [
           "Eli White",
           220
          ],
          [
           "Francisco Mejia",
           277
          ],
          [
           "Amed Rosario",
           588
          ],
          [
           "Willy Adames",
           555
          ],
          [
           "Andrew Benintendi",
           538
          ],
          [
           "Garrett Cooper",
           250
          ],
          [
           "Danny Jansen",
           205
          ],
          [
           "Tony Kemp",
           397
          ],
          [
           "Isiah Kiner-Falefa",
           677
          ],
          [
           "Jeff McNeil",
           426
          ],
          [
           "Yu Chang",
           251
          ],
          [
           "Ozzie Albies",
           686
          ],
          [
           "Victor Robles",
           369
          ],
          [
           "Rafael Devers",
           664
          ],
          [
           "Josh Naylor",
           250
          ],
          [
           "Abraham Toro",
           375
          ],
          [
           "Aledmys Diaz",
           319
          ],
          [
           "Luis Urias",
           570
          ],
          [
           "Luis Arraez",
           479
          ],
          [
           "Eloy Jimenez",
           231
          ],
          [
           "Gleyber Torres",
           516
          ],
          [
           "Willi Castro",
           450
          ],
          [
           "Yandy Diaz",
           541
          ],
          [
           "Bryan De La Cruz",
           219
          ],
          [
           "Matt Chapman",
           622
          ],
          [
           "Sam Hilliard",
           238
          ],
          [
           "Connor Joe",
           211
          ],
          [
           "Cedric Mullins II",
           675
          ],
          [
           "Ryan O'Hearn",
           254
          ],
          [
           "Kyle Schwarber",
           471
          ],
          [
           "Pavin Smith",
           545
          ],
          [
           "Lane Thomas",
           264
          ],
          [
           "Alex Verdugo",
           604
          ],
          [
           "Paul DeJong",
           402
          ],
          [
           "Ramon Laureano",
           378
          ],
          [
           "Yoan Moncada",
           616
          ],
          [
           "Shohei Ohtani",
           639
          ],
          [
           "Ronald Acuna Jr.",
           360
          ],
          [
           "Jesus Sanchez",
           251
          ],
          [
           "Daulton Varsho",
           315
          ],
          [
           "Austin Riley",
           662
          ],
          [
           "Nick Madrigal",
           215
          ],
          [
           "Trevor Larnach",
           301
          ],
          [
           "Ryan Mountcastle",
           586
          ],
          [
           "Ke'Bryan Hayes",
           396
          ],
          [
           "Kyle Tucker",
           567
          ],
          [
           "Jonathan India",
           631
          ],
          [
           "Trent Grisham",
           527
          ],
          [
           "Tyler Stephenson",
           402
          ],
          [
           "Nathaniel Lowe",
           642
          ],
          [
           "Ian Happ",
           535
          ],
          [
           "Ty France",
           650
          ],
          [
           "Brandon Lowe",
           615
          ],
          [
           "Harrison Bader",
           401
          ],
          [
           "David Fletcher",
           665
          ],
          [
           "Dylan Moore",
           377
          ],
          [
           "Myles Straw",
           638
          ],
          [
           "Alec Bohm",
           417
          ],
          [
           "LaMonte Wade Jr.",
           381
          ],
          [
           "Seth Brown",
           307
          ],
          [
           "Jared Walsh",
           585
          ],
          [
           "Vladimir Guerrero Jr.",
           698
          ],
          [
           "Juan Soto",
           654
          ],
          [
           "Jazz Chisholm Jr.",
           507
          ],
          [
           "Andres Gimenez",
           210
          ],
          [
           "Alex Kirilloff",
           231
          ],
          [
           "Bo Bichette",
           690
          ],
          [
           "Dylan Carlson",
           619
          ],
          [
           "Bobby Dalbec",
           453
          ],
          [
           "Adolis Garcia",
           622
          ],
          [
           "Lourdes Gurriel Jr.",
           541
          ],
          [
           "Brent Rooker",
           213
          ],
          [
           "Randy Arozarena",
           604
          ],
          [
           "Akil Baddoo",
           461
          ],
          [
           "Bryan Reynolds",
           646
          ],
          [
           "Josh Rojas",
           550
          ],
          [
           "Brandon Marsh",
           260
          ],
          [
           "Sean Murphy",
           448
          ],
          [
           "Tommy Edman",
           691
          ],
          [
           "Will Smith",
           501
          ],
          [
           "Santiago Espinal",
           246
          ],
          [
           "Austin Hays",
           529
          ],
          [
           "Nicky Lopez",
           565
          ],
          [
           "Yordan Alvarez",
           598
          ],
          [
           "Luis Garcia",
           247
          ],
          [
           "Jarred Kelenic",
           377
          ],
          [
           "Luis Robert",
           296
          ],
          [
           "Ha-seong Kim",
           298
          ],
          [
           "Chas McCormick",
           320
          ],
          [
           "Wander Franco",
           308
          ],
          [
           "Ryan Jeffers",
           293
          ],
          [
           "Owen Miller",
           202
          ],
          [
           "Andrew Vaughn",
           469
          ]
         ],
         "hovertemplate": "sxwOBA_2021=%{x}<br>weighted_woba_2022_2023=%{y}<br>Name=%{customdata[0]}<br>PA_2021=%{customdata[1]}<extra></extra>",
         "legendgroup": "",
         "marker": {
          "color": "#636efa",
          "symbol": "circle"
         },
         "mode": "markers",
         "name": "",
         "orientation": "v",
         "showlegend": false,
         "type": "scatter",
         "x": [
          0.316,
          0.366,
          0.32,
          0.363,
          0.356,
          0.266,
          0.343,
          0.346,
          0.352,
          0.402,
          0.31,
          0.314,
          0.382,
          0.35,
          0.309,
          0.336,
          0.327,
          0.347,
          0.364,
          0.396,
          0.226,
          0.363,
          0.339,
          0.362,
          0.309,
          0.37,
          0.418,
          0.409,
          0.29,
          0.355,
          0.278,
          0.36,
          0.369,
          0.374,
          0.332,
          0.373,
          0.335,
          0.343,
          0.299,
          0.372,
          0.372,
          0.336,
          0.344,
          0.333,
          0.306,
          0.338,
          0.28,
          0.36,
          0.321,
          0.352,
          0.371,
          0.292,
          0.317,
          0.309,
          0.429,
          0.363,
          0.325,
          0.317,
          0.316,
          0.302,
          0.327,
          0.327,
          0.29,
          0.31,
          0.361,
          0.335,
          0.392,
          0.311,
          0.37,
          0.298,
          0.348,
          0.315,
          0.368,
          0.324,
          0.31,
          0.393,
          0.337,
          0.358,
          0.344,
          0.339,
          0.284,
          0.378,
          0.415,
          0.37,
          0.324,
          0.357,
          0.361,
          0.311,
          0.346,
          0.316,
          0.369,
          0.295,
          0.362,
          0.335,
          0.305,
          0.303,
          0.305,
          0.341,
          0.231,
          0.348,
          0.295,
          0.356,
          0.355,
          0.325,
          0.345,
          0.339,
          0.252,
          0.327,
          0.368,
          0.314,
          0.354,
          0.27,
          0.286,
          0.276,
          0.374,
          0.362,
          0.297,
          0.339,
          0.236,
          0.316,
          0.314,
          0.392,
          0.377,
          0.325,
          0.374,
          0.314,
          0.39,
          0.322,
          0.298,
          0.329,
          0.397,
          0.327,
          0.358,
          0.342,
          0.384,
          0.401,
          0.291,
          0.359,
          0.321,
          0.336,
          0.29,
          0.34,
          0.386,
          0.294,
          0.328,
          0.413,
          0.351,
          0.33,
          0.308,
          0.403,
          0.337,
          0.328,
          0.289,
          0.333,
          0.325,
          0.374,
          0.308,
          0.342,
          0.273,
          0.315,
          0.29,
          0.356,
          0.336,
          0.342,
          0.37,
          0.301,
          0.335,
          0.318,
          0.337,
          0.286,
          0.316,
          0.314,
          0.304,
          0.351,
          0.375,
          0.294,
          0.296,
          0.342,
          0.311,
          0.331,
          0.397,
          0.325,
          0.331,
          0.27,
          0.296,
          0.327,
          0.334,
          0.338,
          0.371,
          0.366,
          0.34,
          0.319,
          0.318,
          0.299,
          0.342,
          0.293,
          0.4,
          0.323,
          0.332,
          0.312,
          0.339,
          0.34,
          0.329,
          0.33,
          0.302,
          0.346,
          0.332,
          0.328,
          0.325,
          0.368,
          0.377,
          0.3,
          0.393,
          0.32,
          0.321,
          0.35,
          0.314,
          0.337,
          0.354,
          0.423,
          0.415,
          0.349,
          0.335,
          0.373,
          0.31,
          0.307,
          0.333,
          0.307,
          0.396,
          0.367,
          0.331,
          0.331,
          0.345,
          0.325,
          0.348,
          0.374,
          0.328,
          0.308,
          0.296,
          0.315,
          0.324,
          0.347,
          0.322,
          0.343,
          0.432,
          0.44,
          0.321,
          0.283,
          0.336,
          0.38,
          0.334,
          0.347,
          0.312,
          0.346,
          0.332,
          0.323,
          0.334,
          0.397,
          0.317,
          0.327,
          0.334,
          0.338,
          0.373,
          0.335,
          0.322,
          0.305,
          0.382,
          0.29,
          0.309,
          0.383,
          0.288,
          0.329,
          0.345,
          0.307,
          0.26,
          0.321
         ],
         "xaxis": "x",
         "y": [
          0.279,
          0.293,
          0.312,
          0.335,
          0.323,
          0.259,
          0.33,
          0.327,
          0.346,
          0.321,
          0.293,
          0.305,
          0.321,
          0.291,
          0.262,
          0.312,
          0.208,
          0.311,
          0.347,
          0.403,
          0.222,
          0.388,
          0.285,
          0.332,
          0.348,
          0.297,
          0.395,
          0.282,
          0.299,
          0.317,
          0.305,
          0.349,
          0.316,
          0.325,
          0.317,
          0.258,
          0.316,
          0.287,
          0.295,
          0.288,
          0.329,
          0.289,
          0.287,
          0.295,
          0.275,
          0.305,
          0.245,
          0.267,
          0.314,
          0.327,
          0.342,
          0.3,
          0.308,
          0.323,
          0.361,
          0.332,
          0.312,
          0.267,
          0.328,
          0.325,
          0.244,
          0.365,
          0.248,
          0.307,
          0.306,
          0.28,
          0.325,
          0.289,
          0.285,
          0.292,
          0.304,
          0.353,
          0.242,
          0.373,
          0.303,
          0.291,
          0.318,
          0.336,
          0.344,
          0.336,
          0.275,
          0.326,
          0.454,
          0.36,
          0.374,
          0.346,
          0.339,
          0.304,
          0.335,
          0.303,
          0.35,
          0.274,
          0.33,
          0.32,
          0.31,
          0.284,
          0.316,
          0.281,
          0.217,
          0.336,
          0.284,
          0.355,
          0.336,
          0.294,
          0.298,
          0.313,
          0.235,
          0.274,
          0.304,
          0.317,
          0.315,
          0.278,
          0.3,
          0.27,
          0.334,
          0.372,
          0.291,
          0.345,
          0.245,
          0.292,
          0.29,
          0.336,
          0.341,
          0.3,
          0.352,
          0.296,
          0.334,
          0.192,
          0.314,
          0.26,
          0.362,
          0.348,
          0.301,
          0.271,
          0.355,
          0.301,
          0.336,
          0.274,
          0.264,
          0.338,
          0.305,
          0.301,
          0.342,
          0.211,
          0.293,
          0.342,
          0.342,
          0.318,
          0.29,
          0.354,
          0.294,
          0.309,
          0.278,
          0.336,
          0.343,
          0.364,
          0.3,
          0.28,
          0.281,
          0.302,
          0.296,
          0.338,
          0.276,
          0.276,
          0.311,
          0.274,
          0.297,
          0.277,
          0.293,
          0.295,
          0.291,
          0.314,
          0.29,
          0.356,
          0.313,
          0.279,
          0.322,
          0.309,
          0.269,
          0.336,
          0.3,
          0.283,
          0.319,
          0.249,
          0.281,
          0.303,
          0.314,
          0.331,
          0.32,
          0.343,
          0.279,
          0.283,
          0.343,
          0.263,
          0.326,
          0.279,
          0.361,
          0.333,
          0.255,
          0.28,
          0.321,
          0.37,
          0.349,
          0.326,
          0.292,
          0.377,
          0.32,
          0.337,
          0.271,
          0.32,
          0.326,
          0.322,
          0.346,
          0.296,
          0.33,
          0.334,
          0.279,
          0.289,
          0.277,
          0.387,
          0.366,
          0.31,
          0.314,
          0.362,
          0.277,
          0.307,
          0.309,
          0.295,
          0.346,
          0.325,
          0.288,
          0.329,
          0.362,
          0.346,
          0.336,
          0.306,
          0.295,
          0.273,
          0.331,
          0.263,
          0.31,
          0.346,
          0.31,
          0.27,
          0.351,
          0.384,
          0.34,
          0.344,
          0.313,
          0.354,
          0.309,
          0.285,
          0.332,
          0.335,
          0.33,
          0.354,
          0.277,
          0.351,
          0.31,
          0.314,
          0.349,
          0.316,
          0.363,
          0.301,
          0.332,
          0.26,
          0.422,
          0.305,
          0.298,
          0.347,
          0.317,
          0.331,
          0.335,
          0.313,
          0.296,
          0.329
         ],
         "yaxis": "y"
        },
        {
         "hovertemplate": "<b>OLS trendline</b><br>weighted_woba_2022_2023 = 0.562898 * sxwOBA_2021 + 0.122881<br>R<sup>2</sup>=0.311018<br><br>sxwOBA_2021=%{x}<br>weighted_woba_2022_2023=%{y} <b>(trend)</b><extra></extra>",
         "legendgroup": "",
         "marker": {
          "color": "#636efa",
          "symbol": "circle"
         },
         "mode": "lines",
         "name": "",
         "showlegend": false,
         "type": "scatter",
         "x": [
          0.226,
          0.231,
          0.236,
          0.252,
          0.26,
          0.266,
          0.27,
          0.27,
          0.273,
          0.276,
          0.278,
          0.28,
          0.283,
          0.284,
          0.286,
          0.286,
          0.288,
          0.289,
          0.29,
          0.29,
          0.29,
          0.29,
          0.29,
          0.291,
          0.292,
          0.293,
          0.294,
          0.294,
          0.295,
          0.295,
          0.296,
          0.296,
          0.296,
          0.297,
          0.298,
          0.298,
          0.299,
          0.299,
          0.3,
          0.301,
          0.302,
          0.302,
          0.303,
          0.304,
          0.305,
          0.305,
          0.305,
          0.306,
          0.307,
          0.307,
          0.307,
          0.308,
          0.308,
          0.308,
          0.309,
          0.309,
          0.309,
          0.309,
          0.31,
          0.31,
          0.31,
          0.31,
          0.311,
          0.311,
          0.311,
          0.312,
          0.312,
          0.314,
          0.314,
          0.314,
          0.314,
          0.314,
          0.314,
          0.315,
          0.315,
          0.315,
          0.316,
          0.316,
          0.316,
          0.316,
          0.316,
          0.317,
          0.317,
          0.317,
          0.318,
          0.318,
          0.319,
          0.32,
          0.32,
          0.321,
          0.321,
          0.321,
          0.321,
          0.321,
          0.322,
          0.322,
          0.322,
          0.323,
          0.323,
          0.324,
          0.324,
          0.324,
          0.325,
          0.325,
          0.325,
          0.325,
          0.325,
          0.325,
          0.325,
          0.327,
          0.327,
          0.327,
          0.327,
          0.327,
          0.327,
          0.327,
          0.328,
          0.328,
          0.328,
          0.328,
          0.329,
          0.329,
          0.329,
          0.33,
          0.33,
          0.331,
          0.331,
          0.331,
          0.331,
          0.332,
          0.332,
          0.332,
          0.332,
          0.333,
          0.333,
          0.333,
          0.334,
          0.334,
          0.334,
          0.334,
          0.335,
          0.335,
          0.335,
          0.335,
          0.335,
          0.335,
          0.336,
          0.336,
          0.336,
          0.336,
          0.336,
          0.337,
          0.337,
          0.337,
          0.337,
          0.338,
          0.338,
          0.338,
          0.339,
          0.339,
          0.339,
          0.339,
          0.339,
          0.34,
          0.34,
          0.34,
          0.341,
          0.342,
          0.342,
          0.342,
          0.342,
          0.342,
          0.343,
          0.343,
          0.343,
          0.344,
          0.344,
          0.345,
          0.345,
          0.345,
          0.346,
          0.346,
          0.346,
          0.346,
          0.347,
          0.347,
          0.347,
          0.348,
          0.348,
          0.348,
          0.349,
          0.35,
          0.35,
          0.351,
          0.351,
          0.352,
          0.352,
          0.354,
          0.354,
          0.355,
          0.355,
          0.356,
          0.356,
          0.356,
          0.357,
          0.358,
          0.358,
          0.359,
          0.36,
          0.36,
          0.361,
          0.361,
          0.362,
          0.362,
          0.362,
          0.363,
          0.363,
          0.363,
          0.364,
          0.366,
          0.366,
          0.367,
          0.368,
          0.368,
          0.368,
          0.369,
          0.369,
          0.37,
          0.37,
          0.37,
          0.37,
          0.371,
          0.371,
          0.372,
          0.372,
          0.373,
          0.373,
          0.373,
          0.374,
          0.374,
          0.374,
          0.374,
          0.374,
          0.375,
          0.377,
          0.377,
          0.378,
          0.38,
          0.382,
          0.382,
          0.383,
          0.384,
          0.386,
          0.39,
          0.392,
          0.392,
          0.393,
          0.393,
          0.396,
          0.396,
          0.397,
          0.397,
          0.397,
          0.4,
          0.401,
          0.402,
          0.403,
          0.409,
          0.413,
          0.415,
          0.415,
          0.418,
          0.423,
          0.429,
          0.432,
          0.44
         ],
         "xaxis": "x",
         "y": [
          0.25009623974616213,
          0.25291072755679744,
          0.25572521536743276,
          0.26473157636146566,
          0.26923475685848214,
          0.27261214223124447,
          0.2748637324797527,
          0.2748637324797527,
          0.2765524251661339,
          0.27824111785251504,
          0.2793669129767692,
          0.28049270810102334,
          0.28218140078740445,
          0.2827442983495315,
          0.2838700934737856,
          0.2838700934737856,
          0.2849958885980397,
          0.2855587861601668,
          0.28612168372229385,
          0.28612168372229385,
          0.28612168372229385,
          0.28612168372229385,
          0.28612168372229385,
          0.28668458128442087,
          0.287247478846548,
          0.287810376408675,
          0.2883732739708021,
          0.2883732739708021,
          0.28893617153292916,
          0.28893617153292916,
          0.2894990690950562,
          0.2894990690950562,
          0.2894990690950562,
          0.29006196665718326,
          0.29062486421931033,
          0.29062486421931033,
          0.29118776178143735,
          0.29118776178143735,
          0.2917506593435644,
          0.2923135569056915,
          0.2928764544678185,
          0.2928764544678185,
          0.29343935202994564,
          0.29400224959207266,
          0.29456514715419974,
          0.29456514715419974,
          0.29456514715419974,
          0.2951280447163268,
          0.2956909422784538,
          0.2956909422784538,
          0.2956909422784538,
          0.2962538398405809,
          0.2962538398405809,
          0.2962538398405809,
          0.296816737402708,
          0.296816737402708,
          0.296816737402708,
          0.296816737402708,
          0.297379634964835,
          0.297379634964835,
          0.297379634964835,
          0.297379634964835,
          0.29794253252696207,
          0.29794253252696207,
          0.29794253252696207,
          0.29850543008908914,
          0.29850543008908914,
          0.2996312252133433,
          0.2996312252133433,
          0.2996312252133433,
          0.2996312252133433,
          0.2996312252133433,
          0.2996312252133433,
          0.3001941227754703,
          0.3001941227754703,
          0.3001941227754703,
          0.3007570203375974,
          0.3007570203375974,
          0.3007570203375974,
          0.3007570203375974,
          0.3007570203375974,
          0.30131991789972445,
          0.30131991789972445,
          0.30131991789972445,
          0.3018828154618515,
          0.3018828154618515,
          0.30244571302397855,
          0.3030086105861056,
          0.3030086105861056,
          0.30357150814823264,
          0.30357150814823264,
          0.30357150814823264,
          0.30357150814823264,
          0.30357150814823264,
          0.3041344057103597,
          0.3041344057103597,
          0.3041344057103597,
          0.3046973032724868,
          0.3046973032724868,
          0.3052602008346138,
          0.3052602008346138,
          0.3052602008346138,
          0.30582309839674093,
          0.30582309839674093,
          0.30582309839674093,
          0.30582309839674093,
          0.30582309839674093,
          0.30582309839674093,
          0.30582309839674093,
          0.306948893520995,
          0.306948893520995,
          0.306948893520995,
          0.306948893520995,
          0.306948893520995,
          0.306948893520995,
          0.306948893520995,
          0.3075117910831221,
          0.3075117910831221,
          0.3075117910831221,
          0.3075117910831221,
          0.3080746886452491,
          0.3080746886452491,
          0.3080746886452491,
          0.3086375862073762,
          0.3086375862073762,
          0.30920048376950326,
          0.30920048376950326,
          0.30920048376950326,
          0.30920048376950326,
          0.3097633813316303,
          0.3097633813316303,
          0.3097633813316303,
          0.3097633813316303,
          0.31032627889375736,
          0.31032627889375736,
          0.31032627889375736,
          0.31088917645588443,
          0.31088917645588443,
          0.31088917645588443,
          0.31088917645588443,
          0.31145207401801145,
          0.31145207401801145,
          0.31145207401801145,
          0.31145207401801145,
          0.31145207401801145,
          0.31145207401801145,
          0.3120149715801386,
          0.3120149715801386,
          0.3120149715801386,
          0.3120149715801386,
          0.3120149715801386,
          0.3125778691422656,
          0.3125778691422656,
          0.3125778691422656,
          0.3125778691422656,
          0.3131407667043926,
          0.3131407667043926,
          0.3131407667043926,
          0.31370366426651974,
          0.31370366426651974,
          0.31370366426651974,
          0.31370366426651974,
          0.31370366426651974,
          0.31426656182864676,
          0.31426656182864676,
          0.31426656182864676,
          0.31482945939077384,
          0.3153923569529009,
          0.3153923569529009,
          0.3153923569529009,
          0.3153923569529009,
          0.3153923569529009,
          0.31595525451502793,
          0.31595525451502793,
          0.31595525451502793,
          0.31651815207715495,
          0.31651815207715495,
          0.317081049639282,
          0.317081049639282,
          0.317081049639282,
          0.3176439472014091,
          0.3176439472014091,
          0.3176439472014091,
          0.3176439472014091,
          0.3182068447635361,
          0.3182068447635361,
          0.3182068447635361,
          0.31876974232566324,
          0.31876974232566324,
          0.31876974232566324,
          0.31933263988779026,
          0.31989553744991733,
          0.31989553744991733,
          0.3204584350120444,
          0.3204584350120444,
          0.3210213325741714,
          0.3210213325741714,
          0.3221471276984256,
          0.3221471276984256,
          0.3227100252605526,
          0.3227100252605526,
          0.32327292282267966,
          0.32327292282267966,
          0.32327292282267966,
          0.32383582038480674,
          0.32439871794693376,
          0.32439871794693376,
          0.3249616155090609,
          0.3255245130711879,
          0.3255245130711879,
          0.326087410633315,
          0.326087410633315,
          0.32665030819544205,
          0.32665030819544205,
          0.32665030819544205,
          0.32721320575756907,
          0.32721320575756907,
          0.32721320575756907,
          0.32777610331969614,
          0.32890189844395024,
          0.32890189844395024,
          0.3294647960060773,
          0.3300276935682044,
          0.3300276935682044,
          0.3300276935682044,
          0.3305905911303314,
          0.3305905911303314,
          0.33115348869245853,
          0.33115348869245853,
          0.33115348869245853,
          0.33115348869245853,
          0.33171638625458555,
          0.33171638625458555,
          0.3322792838167126,
          0.3322792838167126,
          0.3328421813788397,
          0.3328421813788397,
          0.3328421813788397,
          0.3334050789409667,
          0.3334050789409667,
          0.3334050789409667,
          0.3334050789409667,
          0.3334050789409667,
          0.3339679765030938,
          0.3350937716273479,
          0.3350937716273479,
          0.33565666918947495,
          0.33678246431372905,
          0.3379082594379832,
          0.3379082594379832,
          0.33847115700011027,
          0.33903405456223734,
          0.34015984968649143,
          0.3424114399349997,
          0.3435372350592538,
          0.3435372350592538,
          0.34410013262138084,
          0.34410013262138084,
          0.345788825307762,
          0.345788825307762,
          0.3463517228698891,
          0.3463517228698891,
          0.3463517228698891,
          0.34804041555627024,
          0.3486033131183973,
          0.34916621068052434,
          0.34972910824265147,
          0.35310649361541374,
          0.355358083863922,
          0.35648387898817613,
          0.35648387898817613,
          0.3581725716745573,
          0.36098705948519255,
          0.36436444485795494,
          0.3660531375443361,
          0.3705563180413526
         ],
         "yaxis": "y"
        }
       ],
       "layout": {
        "legend": {
         "tracegroupgap": 0
        },
        "margin": {
         "t": 60
        },
        "template": {
         "data": {
          "bar": [
           {
            "error_x": {
             "color": "#2a3f5f"
            },
            "error_y": {
             "color": "#2a3f5f"
            },
            "marker": {
             "line": {
              "color": "#E5ECF6",
              "width": 0.5
             },
             "pattern": {
              "fillmode": "overlay",
              "size": 10,
              "solidity": 0.2
             }
            },
            "type": "bar"
           }
          ],
          "barpolar": [
           {
            "marker": {
             "line": {
              "color": "#E5ECF6",
              "width": 0.5
             },
             "pattern": {
              "fillmode": "overlay",
              "size": 10,
              "solidity": 0.2
             }
            },
            "type": "barpolar"
           }
          ],
          "carpet": [
           {
            "aaxis": {
             "endlinecolor": "#2a3f5f",
             "gridcolor": "white",
             "linecolor": "white",
             "minorgridcolor": "white",
             "startlinecolor": "#2a3f5f"
            },
            "baxis": {
             "endlinecolor": "#2a3f5f",
             "gridcolor": "white",
             "linecolor": "white",
             "minorgridcolor": "white",
             "startlinecolor": "#2a3f5f"
            },
            "type": "carpet"
           }
          ],
          "choropleth": [
           {
            "colorbar": {
             "outlinewidth": 0,
             "ticks": ""
            },
            "type": "choropleth"
           }
          ],
          "contour": [
           {
            "colorbar": {
             "outlinewidth": 0,
             "ticks": ""
            },
            "colorscale": [
             [
              0,
              "#0d0887"
             ],
             [
              0.1111111111111111,
              "#46039f"
             ],
             [
              0.2222222222222222,
              "#7201a8"
             ],
             [
              0.3333333333333333,
              "#9c179e"
             ],
             [
              0.4444444444444444,
              "#bd3786"
             ],
             [
              0.5555555555555556,
              "#d8576b"
             ],
             [
              0.6666666666666666,
              "#ed7953"
             ],
             [
              0.7777777777777778,
              "#fb9f3a"
             ],
             [
              0.8888888888888888,
              "#fdca26"
             ],
             [
              1,
              "#f0f921"
             ]
            ],
            "type": "contour"
           }
          ],
          "contourcarpet": [
           {
            "colorbar": {
             "outlinewidth": 0,
             "ticks": ""
            },
            "type": "contourcarpet"
           }
          ],
          "heatmap": [
           {
            "colorbar": {
             "outlinewidth": 0,
             "ticks": ""
            },
            "colorscale": [
             [
              0,
              "#0d0887"
             ],
             [
              0.1111111111111111,
              "#46039f"
             ],
             [
              0.2222222222222222,
              "#7201a8"
             ],
             [
              0.3333333333333333,
              "#9c179e"
             ],
             [
              0.4444444444444444,
              "#bd3786"
             ],
             [
              0.5555555555555556,
              "#d8576b"
             ],
             [
              0.6666666666666666,
              "#ed7953"
             ],
             [
              0.7777777777777778,
              "#fb9f3a"
             ],
             [
              0.8888888888888888,
              "#fdca26"
             ],
             [
              1,
              "#f0f921"
             ]
            ],
            "type": "heatmap"
           }
          ],
          "heatmapgl": [
           {
            "colorbar": {
             "outlinewidth": 0,
             "ticks": ""
            },
            "colorscale": [
             [
              0,
              "#0d0887"
             ],
             [
              0.1111111111111111,
              "#46039f"
             ],
             [
              0.2222222222222222,
              "#7201a8"
             ],
             [
              0.3333333333333333,
              "#9c179e"
             ],
             [
              0.4444444444444444,
              "#bd3786"
             ],
             [
              0.5555555555555556,
              "#d8576b"
             ],
             [
              0.6666666666666666,
              "#ed7953"
             ],
             [
              0.7777777777777778,
              "#fb9f3a"
             ],
             [
              0.8888888888888888,
              "#fdca26"
             ],
             [
              1,
              "#f0f921"
             ]
            ],
            "type": "heatmapgl"
           }
          ],
          "histogram": [
           {
            "marker": {
             "pattern": {
              "fillmode": "overlay",
              "size": 10,
              "solidity": 0.2
             }
            },
            "type": "histogram"
           }
          ],
          "histogram2d": [
           {
            "colorbar": {
             "outlinewidth": 0,
             "ticks": ""
            },
            "colorscale": [
             [
              0,
              "#0d0887"
             ],
             [
              0.1111111111111111,
              "#46039f"
             ],
             [
              0.2222222222222222,
              "#7201a8"
             ],
             [
              0.3333333333333333,
              "#9c179e"
             ],
             [
              0.4444444444444444,
              "#bd3786"
             ],
             [
              0.5555555555555556,
              "#d8576b"
             ],
             [
              0.6666666666666666,
              "#ed7953"
             ],
             [
              0.7777777777777778,
              "#fb9f3a"
             ],
             [
              0.8888888888888888,
              "#fdca26"
             ],
             [
              1,
              "#f0f921"
             ]
            ],
            "type": "histogram2d"
           }
          ],
          "histogram2dcontour": [
           {
            "colorbar": {
             "outlinewidth": 0,
             "ticks": ""
            },
            "colorscale": [
             [
              0,
              "#0d0887"
             ],
             [
              0.1111111111111111,
              "#46039f"
             ],
             [
              0.2222222222222222,
              "#7201a8"
             ],
             [
              0.3333333333333333,
              "#9c179e"
             ],
             [
              0.4444444444444444,
              "#bd3786"
             ],
             [
              0.5555555555555556,
              "#d8576b"
             ],
             [
              0.6666666666666666,
              "#ed7953"
             ],
             [
              0.7777777777777778,
              "#fb9f3a"
             ],
             [
              0.8888888888888888,
              "#fdca26"
             ],
             [
              1,
              "#f0f921"
             ]
            ],
            "type": "histogram2dcontour"
           }
          ],
          "mesh3d": [
           {
            "colorbar": {
             "outlinewidth": 0,
             "ticks": ""
            },
            "type": "mesh3d"
           }
          ],
          "parcoords": [
           {
            "line": {
             "colorbar": {
              "outlinewidth": 0,
              "ticks": ""
             }
            },
            "type": "parcoords"
           }
          ],
          "pie": [
           {
            "automargin": true,
            "type": "pie"
           }
          ],
          "scatter": [
           {
            "fillpattern": {
             "fillmode": "overlay",
             "size": 10,
             "solidity": 0.2
            },
            "type": "scatter"
           }
          ],
          "scatter3d": [
           {
            "line": {
             "colorbar": {
              "outlinewidth": 0,
              "ticks": ""
             }
            },
            "marker": {
             "colorbar": {
              "outlinewidth": 0,
              "ticks": ""
             }
            },
            "type": "scatter3d"
           }
          ],
          "scattercarpet": [
           {
            "marker": {
             "colorbar": {
              "outlinewidth": 0,
              "ticks": ""
             }
            },
            "type": "scattercarpet"
           }
          ],
          "scattergeo": [
           {
            "marker": {
             "colorbar": {
              "outlinewidth": 0,
              "ticks": ""
             }
            },
            "type": "scattergeo"
           }
          ],
          "scattergl": [
           {
            "marker": {
             "colorbar": {
              "outlinewidth": 0,
              "ticks": ""
             }
            },
            "type": "scattergl"
           }
          ],
          "scattermapbox": [
           {
            "marker": {
             "colorbar": {
              "outlinewidth": 0,
              "ticks": ""
             }
            },
            "type": "scattermapbox"
           }
          ],
          "scatterpolar": [
           {
            "marker": {
             "colorbar": {
              "outlinewidth": 0,
              "ticks": ""
             }
            },
            "type": "scatterpolar"
           }
          ],
          "scatterpolargl": [
           {
            "marker": {
             "colorbar": {
              "outlinewidth": 0,
              "ticks": ""
             }
            },
            "type": "scatterpolargl"
           }
          ],
          "scatterternary": [
           {
            "marker": {
             "colorbar": {
              "outlinewidth": 0,
              "ticks": ""
             }
            },
            "type": "scatterternary"
           }
          ],
          "surface": [
           {
            "colorbar": {
             "outlinewidth": 0,
             "ticks": ""
            },
            "colorscale": [
             [
              0,
              "#0d0887"
             ],
             [
              0.1111111111111111,
              "#46039f"
             ],
             [
              0.2222222222222222,
              "#7201a8"
             ],
             [
              0.3333333333333333,
              "#9c179e"
             ],
             [
              0.4444444444444444,
              "#bd3786"
             ],
             [
              0.5555555555555556,
              "#d8576b"
             ],
             [
              0.6666666666666666,
              "#ed7953"
             ],
             [
              0.7777777777777778,
              "#fb9f3a"
             ],
             [
              0.8888888888888888,
              "#fdca26"
             ],
             [
              1,
              "#f0f921"
             ]
            ],
            "type": "surface"
           }
          ],
          "table": [
           {
            "cells": {
             "fill": {
              "color": "#EBF0F8"
             },
             "line": {
              "color": "white"
             }
            },
            "header": {
             "fill": {
              "color": "#C8D4E3"
             },
             "line": {
              "color": "white"
             }
            },
            "type": "table"
           }
          ]
         },
         "layout": {
          "annotationdefaults": {
           "arrowcolor": "#2a3f5f",
           "arrowhead": 0,
           "arrowwidth": 1
          },
          "autotypenumbers": "strict",
          "coloraxis": {
           "colorbar": {
            "outlinewidth": 0,
            "ticks": ""
           }
          },
          "colorscale": {
           "diverging": [
            [
             0,
             "#8e0152"
            ],
            [
             0.1,
             "#c51b7d"
            ],
            [
             0.2,
             "#de77ae"
            ],
            [
             0.3,
             "#f1b6da"
            ],
            [
             0.4,
             "#fde0ef"
            ],
            [
             0.5,
             "#f7f7f7"
            ],
            [
             0.6,
             "#e6f5d0"
            ],
            [
             0.7,
             "#b8e186"
            ],
            [
             0.8,
             "#7fbc41"
            ],
            [
             0.9,
             "#4d9221"
            ],
            [
             1,
             "#276419"
            ]
           ],
           "sequential": [
            [
             0,
             "#0d0887"
            ],
            [
             0.1111111111111111,
             "#46039f"
            ],
            [
             0.2222222222222222,
             "#7201a8"
            ],
            [
             0.3333333333333333,
             "#9c179e"
            ],
            [
             0.4444444444444444,
             "#bd3786"
            ],
            [
             0.5555555555555556,
             "#d8576b"
            ],
            [
             0.6666666666666666,
             "#ed7953"
            ],
            [
             0.7777777777777778,
             "#fb9f3a"
            ],
            [
             0.8888888888888888,
             "#fdca26"
            ],
            [
             1,
             "#f0f921"
            ]
           ],
           "sequentialminus": [
            [
             0,
             "#0d0887"
            ],
            [
             0.1111111111111111,
             "#46039f"
            ],
            [
             0.2222222222222222,
             "#7201a8"
            ],
            [
             0.3333333333333333,
             "#9c179e"
            ],
            [
             0.4444444444444444,
             "#bd3786"
            ],
            [
             0.5555555555555556,
             "#d8576b"
            ],
            [
             0.6666666666666666,
             "#ed7953"
            ],
            [
             0.7777777777777778,
             "#fb9f3a"
            ],
            [
             0.8888888888888888,
             "#fdca26"
            ],
            [
             1,
             "#f0f921"
            ]
           ]
          },
          "colorway": [
           "#636efa",
           "#EF553B",
           "#00cc96",
           "#ab63fa",
           "#FFA15A",
           "#19d3f3",
           "#FF6692",
           "#B6E880",
           "#FF97FF",
           "#FECB52"
          ],
          "font": {
           "color": "#2a3f5f"
          },
          "geo": {
           "bgcolor": "white",
           "lakecolor": "white",
           "landcolor": "#E5ECF6",
           "showlakes": true,
           "showland": true,
           "subunitcolor": "white"
          },
          "hoverlabel": {
           "align": "left"
          },
          "hovermode": "closest",
          "mapbox": {
           "style": "light"
          },
          "paper_bgcolor": "white",
          "plot_bgcolor": "#E5ECF6",
          "polar": {
           "angularaxis": {
            "gridcolor": "white",
            "linecolor": "white",
            "ticks": ""
           },
           "bgcolor": "#E5ECF6",
           "radialaxis": {
            "gridcolor": "white",
            "linecolor": "white",
            "ticks": ""
           }
          },
          "scene": {
           "xaxis": {
            "backgroundcolor": "#E5ECF6",
            "gridcolor": "white",
            "gridwidth": 2,
            "linecolor": "white",
            "showbackground": true,
            "ticks": "",
            "zerolinecolor": "white"
           },
           "yaxis": {
            "backgroundcolor": "#E5ECF6",
            "gridcolor": "white",
            "gridwidth": 2,
            "linecolor": "white",
            "showbackground": true,
            "ticks": "",
            "zerolinecolor": "white"
           },
           "zaxis": {
            "backgroundcolor": "#E5ECF6",
            "gridcolor": "white",
            "gridwidth": 2,
            "linecolor": "white",
            "showbackground": true,
            "ticks": "",
            "zerolinecolor": "white"
           }
          },
          "shapedefaults": {
           "line": {
            "color": "#2a3f5f"
           }
          },
          "ternary": {
           "aaxis": {
            "gridcolor": "white",
            "linecolor": "white",
            "ticks": ""
           },
           "baxis": {
            "gridcolor": "white",
            "linecolor": "white",
            "ticks": ""
           },
           "bgcolor": "#E5ECF6",
           "caxis": {
            "gridcolor": "white",
            "linecolor": "white",
            "ticks": ""
           }
          },
          "title": {
           "x": 0.05
          },
          "xaxis": {
           "automargin": true,
           "gridcolor": "white",
           "linecolor": "white",
           "ticks": "",
           "title": {
            "standoff": 15
           },
           "zerolinecolor": "white",
           "zerolinewidth": 2
          },
          "yaxis": {
           "automargin": true,
           "gridcolor": "white",
           "linecolor": "white",
           "ticks": "",
           "title": {
            "standoff": 15
           },
           "zerolinecolor": "white",
           "zerolinewidth": 2
          }
         }
        },
        "xaxis": {
         "anchor": "y",
         "domain": [
          0,
          1
         ],
         "title": {
          "text": "sxwOBA_2021"
         }
        },
        "yaxis": {
         "anchor": "x",
         "domain": [
          0,
          1
         ],
         "title": {
          "text": "weighted_woba_2022_2023"
         }
        }
       }
      }
     },
     "metadata": {},
     "output_type": "display_data"
    }
   ],
   "source": [
    "px.scatter(data_frame=merged_leaders.loc[merged_leaders['PA_2021'] > 200], x='sxwOBA_2021', y='weighted_woba_2022_2023', trendline='ols',hover_data=['Name', 'PA_2021'])"
   ]
  },
  {
   "cell_type": "code",
   "execution_count": null,
   "metadata": {},
   "outputs": [
    {
     "name": "stderr",
     "output_type": "stream",
     "text": [
      "C:\\Users\\wampl\\AppData\\Local\\Temp\\ipykernel_18912\\2764258261.py:1: FutureWarning:\n",
      "\n",
      "The default value of numeric_only in DataFrame.corr is deprecated. In a future version, it will default to False. Select only valid columns or specify the value of numeric_only to silence this warning.\n",
      "\n"
     ]
    },
    {
     "data": {
      "text/html": [
       "<div>\n",
       "<style scoped>\n",
       "    .dataframe tbody tr th:only-of-type {\n",
       "        vertical-align: middle;\n",
       "    }\n",
       "\n",
       "    .dataframe tbody tr th {\n",
       "        vertical-align: top;\n",
       "    }\n",
       "\n",
       "    .dataframe thead th {\n",
       "        text-align: right;\n",
       "    }\n",
       "</style>\n",
       "<table border=\"1\" class=\"dataframe\">\n",
       "  <thead>\n",
       "    <tr style=\"text-align: right;\">\n",
       "      <th></th>\n",
       "      <th>wOBA</th>\n",
       "      <th>wOBA_2022</th>\n",
       "      <th>weighted_woba_2022_2023</th>\n",
       "    </tr>\n",
       "  </thead>\n",
       "  <tbody>\n",
       "    <tr>\n",
       "      <th>batter</th>\n",
       "      <td>0.12</td>\n",
       "      <td>0.06</td>\n",
       "      <td>0.11</td>\n",
       "    </tr>\n",
       "    <tr>\n",
       "      <th>PA_2021</th>\n",
       "      <td>0.17</td>\n",
       "      <td>0.31</td>\n",
       "      <td>0.31</td>\n",
       "    </tr>\n",
       "    <tr>\n",
       "      <th>wOBA_2021</th>\n",
       "      <td>0.32</td>\n",
       "      <td>0.46</td>\n",
       "      <td>0.50</td>\n",
       "    </tr>\n",
       "    <tr>\n",
       "      <th>xwOBA_2021</th>\n",
       "      <td>0.41</td>\n",
       "      <td>0.52</td>\n",
       "      <td>0.57</td>\n",
       "    </tr>\n",
       "    <tr>\n",
       "      <th>sxwOBA_2021</th>\n",
       "      <td>0.41</td>\n",
       "      <td>0.53</td>\n",
       "      <td>0.57</td>\n",
       "    </tr>\n",
       "    <tr>\n",
       "      <th>diff_2021</th>\n",
       "      <td>-0.05</td>\n",
       "      <td>-0.06</td>\n",
       "      <td>-0.07</td>\n",
       "    </tr>\n",
       "    <tr>\n",
       "      <th>diff%_2021</th>\n",
       "      <td>-0.06</td>\n",
       "      <td>-0.10</td>\n",
       "      <td>-0.11</td>\n",
       "    </tr>\n",
       "    <tr>\n",
       "      <th>BB%_2021</th>\n",
       "      <td>0.25</td>\n",
       "      <td>0.18</td>\n",
       "      <td>0.25</td>\n",
       "    </tr>\n",
       "    <tr>\n",
       "      <th>K%_2021</th>\n",
       "      <td>-0.11</td>\n",
       "      <td>-0.11</td>\n",
       "      <td>-0.10</td>\n",
       "    </tr>\n",
       "    <tr>\n",
       "      <th>HR_2021</th>\n",
       "      <td>0.29</td>\n",
       "      <td>0.42</td>\n",
       "      <td>0.44</td>\n",
       "    </tr>\n",
       "    <tr>\n",
       "      <th>LA_2021</th>\n",
       "      <td>0.13</td>\n",
       "      <td>0.00</td>\n",
       "      <td>0.06</td>\n",
       "    </tr>\n",
       "    <tr>\n",
       "      <th>Barrels_2021</th>\n",
       "      <td>0.33</td>\n",
       "      <td>0.49</td>\n",
       "      <td>0.51</td>\n",
       "    </tr>\n",
       "    <tr>\n",
       "      <th>pulled_barrels_2021</th>\n",
       "      <td>0.25</td>\n",
       "      <td>0.36</td>\n",
       "      <td>0.39</td>\n",
       "    </tr>\n",
       "    <tr>\n",
       "      <th>year_2021</th>\n",
       "      <td>NaN</td>\n",
       "      <td>NaN</td>\n",
       "      <td>NaN</td>\n",
       "    </tr>\n",
       "    <tr>\n",
       "      <th>PA_2022</th>\n",
       "      <td>0.32</td>\n",
       "      <td>0.56</td>\n",
       "      <td>0.57</td>\n",
       "    </tr>\n",
       "    <tr>\n",
       "      <th>wOBA_2022</th>\n",
       "      <td>0.45</td>\n",
       "      <td>1.00</td>\n",
       "      <td>0.94</td>\n",
       "    </tr>\n",
       "    <tr>\n",
       "      <th>xwOBA_2022</th>\n",
       "      <td>0.46</td>\n",
       "      <td>0.86</td>\n",
       "      <td>0.84</td>\n",
       "    </tr>\n",
       "    <tr>\n",
       "      <th>sxwOBA_2022</th>\n",
       "      <td>0.49</td>\n",
       "      <td>0.90</td>\n",
       "      <td>0.87</td>\n",
       "    </tr>\n",
       "    <tr>\n",
       "      <th>diff_2022</th>\n",
       "      <td>0.10</td>\n",
       "      <td>0.14</td>\n",
       "      <td>0.13</td>\n",
       "    </tr>\n",
       "    <tr>\n",
       "      <th>diff%_2022</th>\n",
       "      <td>0.06</td>\n",
       "      <td>0.05</td>\n",
       "      <td>0.04</td>\n",
       "    </tr>\n",
       "    <tr>\n",
       "      <th>BB%_2022</th>\n",
       "      <td>0.27</td>\n",
       "      <td>0.43</td>\n",
       "      <td>0.45</td>\n",
       "    </tr>\n",
       "    <tr>\n",
       "      <th>K%_2022</th>\n",
       "      <td>-0.08</td>\n",
       "      <td>-0.19</td>\n",
       "      <td>-0.15</td>\n",
       "    </tr>\n",
       "    <tr>\n",
       "      <th>HR_2022</th>\n",
       "      <td>0.37</td>\n",
       "      <td>0.70</td>\n",
       "      <td>0.68</td>\n",
       "    </tr>\n",
       "    <tr>\n",
       "      <th>LA_2022</th>\n",
       "      <td>0.17</td>\n",
       "      <td>0.07</td>\n",
       "      <td>0.12</td>\n",
       "    </tr>\n",
       "    <tr>\n",
       "      <th>Barrels_2022</th>\n",
       "      <td>0.40</td>\n",
       "      <td>0.69</td>\n",
       "      <td>0.69</td>\n",
       "    </tr>\n",
       "    <tr>\n",
       "      <th>pulled_barrels_2022</th>\n",
       "      <td>0.36</td>\n",
       "      <td>0.62</td>\n",
       "      <td>0.61</td>\n",
       "    </tr>\n",
       "    <tr>\n",
       "      <th>year_2022</th>\n",
       "      <td>NaN</td>\n",
       "      <td>NaN</td>\n",
       "      <td>NaN</td>\n",
       "    </tr>\n",
       "    <tr>\n",
       "      <th>PA</th>\n",
       "      <td>0.36</td>\n",
       "      <td>0.52</td>\n",
       "      <td>0.56</td>\n",
       "    </tr>\n",
       "    <tr>\n",
       "      <th>wOBA</th>\n",
       "      <td>1.00</td>\n",
       "      <td>0.45</td>\n",
       "      <td>0.65</td>\n",
       "    </tr>\n",
       "    <tr>\n",
       "      <th>xwOBA</th>\n",
       "      <td>0.84</td>\n",
       "      <td>0.55</td>\n",
       "      <td>0.70</td>\n",
       "    </tr>\n",
       "    <tr>\n",
       "      <th>sxwOBA</th>\n",
       "      <td>0.88</td>\n",
       "      <td>0.51</td>\n",
       "      <td>0.67</td>\n",
       "    </tr>\n",
       "    <tr>\n",
       "      <th>diff</th>\n",
       "      <td>0.05</td>\n",
       "      <td>-0.15</td>\n",
       "      <td>-0.14</td>\n",
       "    </tr>\n",
       "    <tr>\n",
       "      <th>diff%</th>\n",
       "      <td>-0.01</td>\n",
       "      <td>-0.16</td>\n",
       "      <td>-0.15</td>\n",
       "    </tr>\n",
       "    <tr>\n",
       "      <th>BB%</th>\n",
       "      <td>0.31</td>\n",
       "      <td>0.31</td>\n",
       "      <td>0.39</td>\n",
       "    </tr>\n",
       "    <tr>\n",
       "      <th>K%</th>\n",
       "      <td>-0.23</td>\n",
       "      <td>-0.20</td>\n",
       "      <td>-0.24</td>\n",
       "    </tr>\n",
       "    <tr>\n",
       "      <th>HR</th>\n",
       "      <td>0.53</td>\n",
       "      <td>0.56</td>\n",
       "      <td>0.66</td>\n",
       "    </tr>\n",
       "    <tr>\n",
       "      <th>LA</th>\n",
       "      <td>0.23</td>\n",
       "      <td>0.10</td>\n",
       "      <td>0.17</td>\n",
       "    </tr>\n",
       "    <tr>\n",
       "      <th>Barrels</th>\n",
       "      <td>0.54</td>\n",
       "      <td>0.59</td>\n",
       "      <td>0.69</td>\n",
       "    </tr>\n",
       "    <tr>\n",
       "      <th>pulled_barrels</th>\n",
       "      <td>0.49</td>\n",
       "      <td>0.50</td>\n",
       "      <td>0.61</td>\n",
       "    </tr>\n",
       "    <tr>\n",
       "      <th>year</th>\n",
       "      <td>NaN</td>\n",
       "      <td>NaN</td>\n",
       "      <td>NaN</td>\n",
       "    </tr>\n",
       "    <tr>\n",
       "      <th>weighted_woba_2022_2023</th>\n",
       "      <td>0.65</td>\n",
       "      <td>0.94</td>\n",
       "      <td>1.00</td>\n",
       "    </tr>\n",
       "  </tbody>\n",
       "</table>\n",
       "</div>"
      ],
      "text/plain": [
       "                         wOBA  wOBA_2022  weighted_woba_2022_2023\n",
       "batter                   0.12       0.06                     0.11\n",
       "PA_2021                  0.17       0.31                     0.31\n",
       "wOBA_2021                0.32       0.46                     0.50\n",
       "xwOBA_2021               0.41       0.52                     0.57\n",
       "sxwOBA_2021              0.41       0.53                     0.57\n",
       "diff_2021               -0.05      -0.06                    -0.07\n",
       "diff%_2021              -0.06      -0.10                    -0.11\n",
       "BB%_2021                 0.25       0.18                     0.25\n",
       "K%_2021                 -0.11      -0.11                    -0.10\n",
       "HR_2021                  0.29       0.42                     0.44\n",
       "LA_2021                  0.13       0.00                     0.06\n",
       "Barrels_2021             0.33       0.49                     0.51\n",
       "pulled_barrels_2021      0.25       0.36                     0.39\n",
       "year_2021                 NaN        NaN                      NaN\n",
       "PA_2022                  0.32       0.56                     0.57\n",
       "wOBA_2022                0.45       1.00                     0.94\n",
       "xwOBA_2022               0.46       0.86                     0.84\n",
       "sxwOBA_2022              0.49       0.90                     0.87\n",
       "diff_2022                0.10       0.14                     0.13\n",
       "diff%_2022               0.06       0.05                     0.04\n",
       "BB%_2022                 0.27       0.43                     0.45\n",
       "K%_2022                 -0.08      -0.19                    -0.15\n",
       "HR_2022                  0.37       0.70                     0.68\n",
       "LA_2022                  0.17       0.07                     0.12\n",
       "Barrels_2022             0.40       0.69                     0.69\n",
       "pulled_barrels_2022      0.36       0.62                     0.61\n",
       "year_2022                 NaN        NaN                      NaN\n",
       "PA                       0.36       0.52                     0.56\n",
       "wOBA                     1.00       0.45                     0.65\n",
       "xwOBA                    0.84       0.55                     0.70\n",
       "sxwOBA                   0.88       0.51                     0.67\n",
       "diff                     0.05      -0.15                    -0.14\n",
       "diff%                   -0.01      -0.16                    -0.15\n",
       "BB%                      0.31       0.31                     0.39\n",
       "K%                      -0.23      -0.20                    -0.24\n",
       "HR                       0.53       0.56                     0.66\n",
       "LA                       0.23       0.10                     0.17\n",
       "Barrels                  0.54       0.59                     0.69\n",
       "pulled_barrels           0.49       0.50                     0.61\n",
       "year                      NaN        NaN                      NaN\n",
       "weighted_woba_2022_2023  0.65       0.94                     1.00"
      ]
     },
     "execution_count": 15,
     "metadata": {},
     "output_type": "execute_result"
    }
   ],
   "source": [
    "merged_leaders.loc[(merged_leaders['PA_2021']>300) & (merged_leaders['PA_2022']>300)].corr().round(2)[['wOBA', 'wOBA_2022', 'weighted_woba_2022_2023']]"
   ]
  },
  {
   "cell_type": "code",
   "execution_count": null,
   "metadata": {},
   "outputs": [
    {
     "name": "stderr",
     "output_type": "stream",
     "text": [
      "C:\\Users\\wampl\\AppData\\Local\\Temp\\ipykernel_18912\\3546130828.py:1: FutureWarning:\n",
      "\n",
      "The default value of numeric_only in DataFrame.corr is deprecated. In a future version, it will default to False. Select only valid columns or specify the value of numeric_only to silence this warning.\n",
      "\n"
     ]
    },
    {
     "data": {
      "text/html": [
       "<div>\n",
       "<style scoped>\n",
       "    .dataframe tbody tr th:only-of-type {\n",
       "        vertical-align: middle;\n",
       "    }\n",
       "\n",
       "    .dataframe tbody tr th {\n",
       "        vertical-align: top;\n",
       "    }\n",
       "\n",
       "    .dataframe thead th {\n",
       "        text-align: right;\n",
       "    }\n",
       "</style>\n",
       "<table border=\"1\" class=\"dataframe\">\n",
       "  <thead>\n",
       "    <tr style=\"text-align: right;\">\n",
       "      <th></th>\n",
       "      <th>xwOBA_2021</th>\n",
       "      <th>xwOBA_2022</th>\n",
       "      <th>xwOBA</th>\n",
       "      <th>sxwOBA_2021</th>\n",
       "      <th>sxwOBA_2022</th>\n",
       "      <th>sxwOBA</th>\n",
       "      <th>weighted_woba_2022_2023</th>\n",
       "    </tr>\n",
       "  </thead>\n",
       "  <tbody>\n",
       "    <tr>\n",
       "      <th>batter</th>\n",
       "      <td>-0.192785</td>\n",
       "      <td>-0.112765</td>\n",
       "      <td>-0.003013</td>\n",
       "      <td>-0.156760</td>\n",
       "      <td>-0.058444</td>\n",
       "      <td>-0.024414</td>\n",
       "      <td>-0.026492</td>\n",
       "    </tr>\n",
       "    <tr>\n",
       "      <th>PA_2021</th>\n",
       "      <td>0.475474</td>\n",
       "      <td>0.399038</td>\n",
       "      <td>0.285704</td>\n",
       "      <td>0.472975</td>\n",
       "      <td>0.364846</td>\n",
       "      <td>0.310559</td>\n",
       "      <td>0.373656</td>\n",
       "    </tr>\n",
       "    <tr>\n",
       "      <th>wOBA_2021</th>\n",
       "      <td>0.806209</td>\n",
       "      <td>0.387855</td>\n",
       "      <td>0.240683</td>\n",
       "      <td>0.882557</td>\n",
       "      <td>0.350721</td>\n",
       "      <td>0.215739</td>\n",
       "      <td>0.372852</td>\n",
       "    </tr>\n",
       "    <tr>\n",
       "      <th>xwOBA_2021</th>\n",
       "      <td>1.000000</td>\n",
       "      <td>0.541533</td>\n",
       "      <td>0.397005</td>\n",
       "      <td>0.947180</td>\n",
       "      <td>0.466332</td>\n",
       "      <td>0.369322</td>\n",
       "      <td>0.522129</td>\n",
       "    </tr>\n",
       "    <tr>\n",
       "      <th>sxwOBA_2021</th>\n",
       "      <td>0.947180</td>\n",
       "      <td>0.506733</td>\n",
       "      <td>0.364515</td>\n",
       "      <td>1.000000</td>\n",
       "      <td>0.461454</td>\n",
       "      <td>0.335578</td>\n",
       "      <td>0.504773</td>\n",
       "    </tr>\n",
       "    <tr>\n",
       "      <th>diff_2021</th>\n",
       "      <td>-0.082221</td>\n",
       "      <td>-0.063781</td>\n",
       "      <td>-0.068443</td>\n",
       "      <td>0.241739</td>\n",
       "      <td>0.023046</td>\n",
       "      <td>-0.074609</td>\n",
       "      <td>-0.011163</td>\n",
       "    </tr>\n",
       "    <tr>\n",
       "      <th>diff%_2021</th>\n",
       "      <td>-0.191472</td>\n",
       "      <td>-0.089049</td>\n",
       "      <td>-0.105689</td>\n",
       "      <td>0.126569</td>\n",
       "      <td>0.004333</td>\n",
       "      <td>-0.117168</td>\n",
       "      <td>-0.063794</td>\n",
       "    </tr>\n",
       "    <tr>\n",
       "      <th>BB%_2021</th>\n",
       "      <td>0.442049</td>\n",
       "      <td>0.145540</td>\n",
       "      <td>0.160459</td>\n",
       "      <td>0.479318</td>\n",
       "      <td>0.110670</td>\n",
       "      <td>0.155788</td>\n",
       "      <td>0.198681</td>\n",
       "    </tr>\n",
       "    <tr>\n",
       "      <th>K%_2021</th>\n",
       "      <td>-0.282067</td>\n",
       "      <td>-0.163983</td>\n",
       "      <td>-0.111277</td>\n",
       "      <td>-0.331625</td>\n",
       "      <td>-0.206915</td>\n",
       "      <td>-0.133783</td>\n",
       "      <td>-0.203825</td>\n",
       "    </tr>\n",
       "    <tr>\n",
       "      <th>HR_2021</th>\n",
       "      <td>0.616922</td>\n",
       "      <td>0.464997</td>\n",
       "      <td>0.342418</td>\n",
       "      <td>0.586518</td>\n",
       "      <td>0.397086</td>\n",
       "      <td>0.334357</td>\n",
       "      <td>0.430863</td>\n",
       "    </tr>\n",
       "    <tr>\n",
       "      <th>LA_2021</th>\n",
       "      <td>0.004898</td>\n",
       "      <td>0.015967</td>\n",
       "      <td>-0.029279</td>\n",
       "      <td>-0.115039</td>\n",
       "      <td>-0.047707</td>\n",
       "      <td>-0.037472</td>\n",
       "      <td>-0.030043</td>\n",
       "    </tr>\n",
       "    <tr>\n",
       "      <th>Barrels_2021</th>\n",
       "      <td>0.668176</td>\n",
       "      <td>0.507662</td>\n",
       "      <td>0.382831</td>\n",
       "      <td>0.613044</td>\n",
       "      <td>0.438406</td>\n",
       "      <td>0.371964</td>\n",
       "      <td>0.470973</td>\n",
       "    </tr>\n",
       "    <tr>\n",
       "      <th>pulled_barrels_2021</th>\n",
       "      <td>0.594093</td>\n",
       "      <td>0.434609</td>\n",
       "      <td>0.306994</td>\n",
       "      <td>0.569733</td>\n",
       "      <td>0.378288</td>\n",
       "      <td>0.312184</td>\n",
       "      <td>0.414300</td>\n",
       "    </tr>\n",
       "    <tr>\n",
       "      <th>year_2021</th>\n",
       "      <td>NaN</td>\n",
       "      <td>NaN</td>\n",
       "      <td>NaN</td>\n",
       "      <td>NaN</td>\n",
       "      <td>NaN</td>\n",
       "      <td>NaN</td>\n",
       "      <td>NaN</td>\n",
       "    </tr>\n",
       "    <tr>\n",
       "      <th>PA_2022</th>\n",
       "      <td>0.500548</td>\n",
       "      <td>0.515168</td>\n",
       "      <td>0.387678</td>\n",
       "      <td>0.494270</td>\n",
       "      <td>0.522352</td>\n",
       "      <td>0.419489</td>\n",
       "      <td>0.546386</td>\n",
       "    </tr>\n",
       "    <tr>\n",
       "      <th>wOBA_2022</th>\n",
       "      <td>0.361566</td>\n",
       "      <td>0.817880</td>\n",
       "      <td>0.295068</td>\n",
       "      <td>0.357055</td>\n",
       "      <td>0.874184</td>\n",
       "      <td>0.296953</td>\n",
       "      <td>0.717054</td>\n",
       "    </tr>\n",
       "    <tr>\n",
       "      <th>xwOBA_2022</th>\n",
       "      <td>0.541533</td>\n",
       "      <td>1.000000</td>\n",
       "      <td>0.431096</td>\n",
       "      <td>0.506733</td>\n",
       "      <td>0.937181</td>\n",
       "      <td>0.443448</td>\n",
       "      <td>0.743547</td>\n",
       "    </tr>\n",
       "    <tr>\n",
       "      <th>sxwOBA_2022</th>\n",
       "      <td>0.466332</td>\n",
       "      <td>0.937181</td>\n",
       "      <td>0.388583</td>\n",
       "      <td>0.461454</td>\n",
       "      <td>1.000000</td>\n",
       "      <td>0.407413</td>\n",
       "      <td>0.725809</td>\n",
       "    </tr>\n",
       "    <tr>\n",
       "      <th>diff_2022</th>\n",
       "      <td>-0.119217</td>\n",
       "      <td>-0.002148</td>\n",
       "      <td>-0.045164</td>\n",
       "      <td>-0.039634</td>\n",
       "      <td>0.346831</td>\n",
       "      <td>-0.024395</td>\n",
       "      <td>0.081451</td>\n",
       "    </tr>\n",
       "    <tr>\n",
       "      <th>diff%_2022</th>\n",
       "      <td>-0.143550</td>\n",
       "      <td>-0.094703</td>\n",
       "      <td>-0.068526</td>\n",
       "      <td>-0.068370</td>\n",
       "      <td>0.250649</td>\n",
       "      <td>-0.044684</td>\n",
       "      <td>0.007685</td>\n",
       "    </tr>\n",
       "    <tr>\n",
       "      <th>BB%_2022</th>\n",
       "      <td>0.286669</td>\n",
       "      <td>0.409269</td>\n",
       "      <td>0.157209</td>\n",
       "      <td>0.259608</td>\n",
       "      <td>0.324462</td>\n",
       "      <td>0.181885</td>\n",
       "      <td>0.325897</td>\n",
       "    </tr>\n",
       "    <tr>\n",
       "      <th>K%_2022</th>\n",
       "      <td>-0.144186</td>\n",
       "      <td>-0.350376</td>\n",
       "      <td>-0.121139</td>\n",
       "      <td>-0.186757</td>\n",
       "      <td>-0.416760</td>\n",
       "      <td>-0.207422</td>\n",
       "      <td>-0.259728</td>\n",
       "    </tr>\n",
       "    <tr>\n",
       "      <th>HR_2022</th>\n",
       "      <td>0.529972</td>\n",
       "      <td>0.626869</td>\n",
       "      <td>0.443345</td>\n",
       "      <td>0.493661</td>\n",
       "      <td>0.605677</td>\n",
       "      <td>0.436479</td>\n",
       "      <td>0.644168</td>\n",
       "    </tr>\n",
       "    <tr>\n",
       "      <th>LA_2022</th>\n",
       "      <td>0.062043</td>\n",
       "      <td>0.004515</td>\n",
       "      <td>0.046147</td>\n",
       "      <td>0.020336</td>\n",
       "      <td>-0.064579</td>\n",
       "      <td>-0.009928</td>\n",
       "      <td>0.044121</td>\n",
       "    </tr>\n",
       "    <tr>\n",
       "      <th>Barrels_2022</th>\n",
       "      <td>0.581876</td>\n",
       "      <td>0.684366</td>\n",
       "      <td>0.478694</td>\n",
       "      <td>0.536305</td>\n",
       "      <td>0.627139</td>\n",
       "      <td>0.459720</td>\n",
       "      <td>0.642198</td>\n",
       "    </tr>\n",
       "    <tr>\n",
       "      <th>pulled_barrels_2022</th>\n",
       "      <td>0.522851</td>\n",
       "      <td>0.606825</td>\n",
       "      <td>0.439144</td>\n",
       "      <td>0.481251</td>\n",
       "      <td>0.594403</td>\n",
       "      <td>0.441831</td>\n",
       "      <td>0.609675</td>\n",
       "    </tr>\n",
       "    <tr>\n",
       "      <th>year_2022</th>\n",
       "      <td>NaN</td>\n",
       "      <td>NaN</td>\n",
       "      <td>NaN</td>\n",
       "      <td>NaN</td>\n",
       "      <td>NaN</td>\n",
       "      <td>NaN</td>\n",
       "      <td>NaN</td>\n",
       "    </tr>\n",
       "    <tr>\n",
       "      <th>PA</th>\n",
       "      <td>0.430199</td>\n",
       "      <td>0.481012</td>\n",
       "      <td>0.481755</td>\n",
       "      <td>0.430375</td>\n",
       "      <td>0.483649</td>\n",
       "      <td>0.555183</td>\n",
       "      <td>0.635129</td>\n",
       "    </tr>\n",
       "    <tr>\n",
       "      <th>wOBA</th>\n",
       "      <td>0.305442</td>\n",
       "      <td>0.311318</td>\n",
       "      <td>0.818784</td>\n",
       "      <td>0.284912</td>\n",
       "      <td>0.291287</td>\n",
       "      <td>0.839919</td>\n",
       "      <td>0.603604</td>\n",
       "    </tr>\n",
       "    <tr>\n",
       "      <th>xwOBA</th>\n",
       "      <td>0.397005</td>\n",
       "      <td>0.431096</td>\n",
       "      <td>1.000000</td>\n",
       "      <td>0.364515</td>\n",
       "      <td>0.388583</td>\n",
       "      <td>0.874836</td>\n",
       "      <td>0.655050</td>\n",
       "    </tr>\n",
       "    <tr>\n",
       "      <th>sxwOBA</th>\n",
       "      <td>0.369322</td>\n",
       "      <td>0.443448</td>\n",
       "      <td>0.874836</td>\n",
       "      <td>0.335578</td>\n",
       "      <td>0.407413</td>\n",
       "      <td>1.000000</td>\n",
       "      <td>0.682777</td>\n",
       "    </tr>\n",
       "    <tr>\n",
       "      <th>diff</th>\n",
       "      <td>-0.046501</td>\n",
       "      <td>0.034741</td>\n",
       "      <td>-0.228536</td>\n",
       "      <td>-0.049770</td>\n",
       "      <td>0.046783</td>\n",
       "      <td>0.271666</td>\n",
       "      <td>0.070792</td>\n",
       "    </tr>\n",
       "    <tr>\n",
       "      <th>diff%</th>\n",
       "      <td>0.095113</td>\n",
       "      <td>0.130605</td>\n",
       "      <td>0.226441</td>\n",
       "      <td>0.064983</td>\n",
       "      <td>0.157452</td>\n",
       "      <td>0.362586</td>\n",
       "      <td>0.262086</td>\n",
       "    </tr>\n",
       "    <tr>\n",
       "      <th>BB%</th>\n",
       "      <td>0.292001</td>\n",
       "      <td>0.231937</td>\n",
       "      <td>0.402696</td>\n",
       "      <td>0.268734</td>\n",
       "      <td>0.196373</td>\n",
       "      <td>0.320717</td>\n",
       "      <td>0.370511</td>\n",
       "    </tr>\n",
       "    <tr>\n",
       "      <th>K%</th>\n",
       "      <td>-0.033975</td>\n",
       "      <td>-0.027951</td>\n",
       "      <td>-0.283780</td>\n",
       "      <td>-0.071900</td>\n",
       "      <td>-0.077728</td>\n",
       "      <td>-0.301677</td>\n",
       "      <td>-0.158189</td>\n",
       "    </tr>\n",
       "    <tr>\n",
       "      <th>HR</th>\n",
       "      <td>0.486572</td>\n",
       "      <td>0.485182</td>\n",
       "      <td>0.546086</td>\n",
       "      <td>0.455214</td>\n",
       "      <td>0.447490</td>\n",
       "      <td>0.568009</td>\n",
       "      <td>0.631358</td>\n",
       "    </tr>\n",
       "    <tr>\n",
       "      <th>LA</th>\n",
       "      <td>-0.004917</td>\n",
       "      <td>0.018996</td>\n",
       "      <td>-0.005635</td>\n",
       "      <td>-0.029266</td>\n",
       "      <td>-0.021643</td>\n",
       "      <td>-0.024179</td>\n",
       "      <td>0.088415</td>\n",
       "    </tr>\n",
       "    <tr>\n",
       "      <th>Barrels</th>\n",
       "      <td>0.520456</td>\n",
       "      <td>0.538779</td>\n",
       "      <td>0.610459</td>\n",
       "      <td>0.483664</td>\n",
       "      <td>0.488105</td>\n",
       "      <td>0.603807</td>\n",
       "      <td>0.655554</td>\n",
       "    </tr>\n",
       "    <tr>\n",
       "      <th>pulled_barrels</th>\n",
       "      <td>0.470353</td>\n",
       "      <td>0.459550</td>\n",
       "      <td>0.532255</td>\n",
       "      <td>0.431983</td>\n",
       "      <td>0.424911</td>\n",
       "      <td>0.562936</td>\n",
       "      <td>0.606647</td>\n",
       "    </tr>\n",
       "    <tr>\n",
       "      <th>year</th>\n",
       "      <td>NaN</td>\n",
       "      <td>NaN</td>\n",
       "      <td>NaN</td>\n",
       "      <td>NaN</td>\n",
       "      <td>NaN</td>\n",
       "      <td>NaN</td>\n",
       "      <td>NaN</td>\n",
       "    </tr>\n",
       "    <tr>\n",
       "      <th>weighted_woba_2022_2023</th>\n",
       "      <td>0.522129</td>\n",
       "      <td>0.743547</td>\n",
       "      <td>0.655050</td>\n",
       "      <td>0.504773</td>\n",
       "      <td>0.725809</td>\n",
       "      <td>0.682777</td>\n",
       "      <td>1.000000</td>\n",
       "    </tr>\n",
       "  </tbody>\n",
       "</table>\n",
       "</div>"
      ],
      "text/plain": [
       "                         xwOBA_2021  xwOBA_2022     xwOBA  sxwOBA_2021  \\\n",
       "batter                    -0.192785   -0.112765 -0.003013    -0.156760   \n",
       "PA_2021                    0.475474    0.399038  0.285704     0.472975   \n",
       "wOBA_2021                  0.806209    0.387855  0.240683     0.882557   \n",
       "xwOBA_2021                 1.000000    0.541533  0.397005     0.947180   \n",
       "sxwOBA_2021                0.947180    0.506733  0.364515     1.000000   \n",
       "diff_2021                 -0.082221   -0.063781 -0.068443     0.241739   \n",
       "diff%_2021                -0.191472   -0.089049 -0.105689     0.126569   \n",
       "BB%_2021                   0.442049    0.145540  0.160459     0.479318   \n",
       "K%_2021                   -0.282067   -0.163983 -0.111277    -0.331625   \n",
       "HR_2021                    0.616922    0.464997  0.342418     0.586518   \n",
       "LA_2021                    0.004898    0.015967 -0.029279    -0.115039   \n",
       "Barrels_2021               0.668176    0.507662  0.382831     0.613044   \n",
       "pulled_barrels_2021        0.594093    0.434609  0.306994     0.569733   \n",
       "year_2021                       NaN         NaN       NaN          NaN   \n",
       "PA_2022                    0.500548    0.515168  0.387678     0.494270   \n",
       "wOBA_2022                  0.361566    0.817880  0.295068     0.357055   \n",
       "xwOBA_2022                 0.541533    1.000000  0.431096     0.506733   \n",
       "sxwOBA_2022                0.466332    0.937181  0.388583     0.461454   \n",
       "diff_2022                 -0.119217   -0.002148 -0.045164    -0.039634   \n",
       "diff%_2022                -0.143550   -0.094703 -0.068526    -0.068370   \n",
       "BB%_2022                   0.286669    0.409269  0.157209     0.259608   \n",
       "K%_2022                   -0.144186   -0.350376 -0.121139    -0.186757   \n",
       "HR_2022                    0.529972    0.626869  0.443345     0.493661   \n",
       "LA_2022                    0.062043    0.004515  0.046147     0.020336   \n",
       "Barrels_2022               0.581876    0.684366  0.478694     0.536305   \n",
       "pulled_barrels_2022        0.522851    0.606825  0.439144     0.481251   \n",
       "year_2022                       NaN         NaN       NaN          NaN   \n",
       "PA                         0.430199    0.481012  0.481755     0.430375   \n",
       "wOBA                       0.305442    0.311318  0.818784     0.284912   \n",
       "xwOBA                      0.397005    0.431096  1.000000     0.364515   \n",
       "sxwOBA                     0.369322    0.443448  0.874836     0.335578   \n",
       "diff                      -0.046501    0.034741 -0.228536    -0.049770   \n",
       "diff%                      0.095113    0.130605  0.226441     0.064983   \n",
       "BB%                        0.292001    0.231937  0.402696     0.268734   \n",
       "K%                        -0.033975   -0.027951 -0.283780    -0.071900   \n",
       "HR                         0.486572    0.485182  0.546086     0.455214   \n",
       "LA                        -0.004917    0.018996 -0.005635    -0.029266   \n",
       "Barrels                    0.520456    0.538779  0.610459     0.483664   \n",
       "pulled_barrels             0.470353    0.459550  0.532255     0.431983   \n",
       "year                            NaN         NaN       NaN          NaN   \n",
       "weighted_woba_2022_2023    0.522129    0.743547  0.655050     0.504773   \n",
       "\n",
       "                         sxwOBA_2022    sxwOBA  weighted_woba_2022_2023  \n",
       "batter                     -0.058444 -0.024414                -0.026492  \n",
       "PA_2021                     0.364846  0.310559                 0.373656  \n",
       "wOBA_2021                   0.350721  0.215739                 0.372852  \n",
       "xwOBA_2021                  0.466332  0.369322                 0.522129  \n",
       "sxwOBA_2021                 0.461454  0.335578                 0.504773  \n",
       "diff_2021                   0.023046 -0.074609                -0.011163  \n",
       "diff%_2021                  0.004333 -0.117168                -0.063794  \n",
       "BB%_2021                    0.110670  0.155788                 0.198681  \n",
       "K%_2021                    -0.206915 -0.133783                -0.203825  \n",
       "HR_2021                     0.397086  0.334357                 0.430863  \n",
       "LA_2021                    -0.047707 -0.037472                -0.030043  \n",
       "Barrels_2021                0.438406  0.371964                 0.470973  \n",
       "pulled_barrels_2021         0.378288  0.312184                 0.414300  \n",
       "year_2021                        NaN       NaN                      NaN  \n",
       "PA_2022                     0.522352  0.419489                 0.546386  \n",
       "wOBA_2022                   0.874184  0.296953                 0.717054  \n",
       "xwOBA_2022                  0.937181  0.443448                 0.743547  \n",
       "sxwOBA_2022                 1.000000  0.407413                 0.725809  \n",
       "diff_2022                   0.346831 -0.024395                 0.081451  \n",
       "diff%_2022                  0.250649 -0.044684                 0.007685  \n",
       "BB%_2022                    0.324462  0.181885                 0.325897  \n",
       "K%_2022                    -0.416760 -0.207422                -0.259728  \n",
       "HR_2022                     0.605677  0.436479                 0.644168  \n",
       "LA_2022                    -0.064579 -0.009928                 0.044121  \n",
       "Barrels_2022                0.627139  0.459720                 0.642198  \n",
       "pulled_barrels_2022         0.594403  0.441831                 0.609675  \n",
       "year_2022                        NaN       NaN                      NaN  \n",
       "PA                          0.483649  0.555183                 0.635129  \n",
       "wOBA                        0.291287  0.839919                 0.603604  \n",
       "xwOBA                       0.388583  0.874836                 0.655050  \n",
       "sxwOBA                      0.407413  1.000000                 0.682777  \n",
       "diff                        0.046783  0.271666                 0.070792  \n",
       "diff%                       0.157452  0.362586                 0.262086  \n",
       "BB%                         0.196373  0.320717                 0.370511  \n",
       "K%                         -0.077728 -0.301677                -0.158189  \n",
       "HR                          0.447490  0.568009                 0.631358  \n",
       "LA                         -0.021643 -0.024179                 0.088415  \n",
       "Barrels                     0.488105  0.603807                 0.655554  \n",
       "pulled_barrels              0.424911  0.562936                 0.606647  \n",
       "year                             NaN       NaN                      NaN  \n",
       "weighted_woba_2022_2023     0.725809  0.682777                 1.000000  "
      ]
     },
     "execution_count": 16,
     "metadata": {},
     "output_type": "execute_result"
    }
   ],
   "source": [
    "merged_leaders.corr()[['xwOBA_2021', 'xwOBA_2022', 'xwOBA', 'sxwOBA_2021', 'sxwOBA_2022', 'sxwOBA', 'weighted_woba_2022_2023']]"
   ]
  },
  {
   "cell_type": "code",
   "execution_count": null,
   "metadata": {},
   "outputs": [],
   "source": []
  }
 ],
 "metadata": {
  "kernelspec": {
   "display_name": "datasci",
   "language": "python",
   "name": "python3"
  },
  "language_info": {
   "codemirror_mode": {
    "name": "ipython",
    "version": 3
   },
   "file_extension": ".py",
   "mimetype": "text/x-python",
   "name": "python",
   "nbconvert_exporter": "python",
   "pygments_lexer": "ipython3",
   "version": "3.10.8"
  },
  "orig_nbformat": 4
 },
 "nbformat": 4,
 "nbformat_minor": 2
}
