{
 "cells": [
  {
   "cell_type": "code",
   "execution_count": 1,
   "metadata": {},
   "outputs": [],
   "source": [
    "import pandas as pd\n",
    "import numpy as np\n",
    "import pybaseball as pb\n",
    "import math\n",
    "import os\n",
    "import datetime as dt\n",
    "from sklearn.ensemble import RandomForestRegressor\n",
    "from sklearn.model_selection import cross_val_score\n",
    "from pybaseball import cache\n",
    "cache.enable()"
   ]
  },
  {
   "cell_type": "code",
   "execution_count": 2,
   "metadata": {},
   "outputs": [],
   "source": [
    "today = dt.date.today()\n",
    "\n",
    "selected_stats = [\n",
    "    'Name', 'G', 'AB', 'PA', 'H', '2B', '3B', 'HR', 'R',\n",
    "    'RBI', 'SB', 'CS', 'BB%', 'K%', 'OBP', 'SLG', 'wOBA',\n",
    "    'xwOBA', 'xBA', 'xSLG', 'Barrels', 'EV', 'LA', 'WAR',\n",
    "    'key_mlbam'\n",
    "]"
   ]
  },
  {
   "cell_type": "code",
   "execution_count": null,
   "metadata": {},
   "outputs": [],
   "source": [
    "# def get_season_data():\n",
    "#     \"\"\"\n",
    "#     A script that queries 2022 statcast data week-by-week from opening day up to current date to handle api limits.\n",
    "#     \"\"\"\n",
    "\n",
    "#     ## Searches for previously queried statcast data, if not found data is queried via pybaseball\n",
    "#     ## https://github.com/jldbc/pybaseball for more info\n",
    "\n",
    "#     ## Divides query length into n queries of week length to handle api limits\n",
    "#     if len(os.listdir('statcast_data')) == 0:\n",
    "#         print(\"no statcast file found, querying 2022 data via pybaseball\")\n",
    "\n",
    "#         weeks = []\n",
    "#         start = dt.date(2022, 4, 7)\n",
    "#         days = (today-start).days\n",
    "#         num_weeks = (days // 7) + 2\n",
    "#         counter = 0\n",
    "#         for d in range(days):\n",
    "#             if d%7 == 0:\n",
    "#                 end = start + dt.timedelta(days=7)\n",
    "#                 week = pb.statcast(start.strftime(\"%Y-%m-%d\"), end.strftime(\"%Y-%m-%d\"))\n",
    "#                 weeks.append(week)\n",
    "#                 counter+=1\n",
    "#                 print(\"week {}/{} complete\".format(counter, num_weeks))\n",
    "#                 start = end\n",
    "                \n",
    "#             elif (d+1) == days:\n",
    "#                 end = start + dt.timedelta(days=(d%7))\n",
    "#                 week = pb.statcast(start.strftime(\"%Y-%m-%d\"), end.strftime(\"%Y-%m-%d\"))\n",
    "#                 counter+=1\n",
    "#                 print(\"week {}/{} complete\".format(counter, num_weeks))\n",
    "#             df = pd.concat(weeks)\n",
    "#             df.to_csv(\"statcast_data/{}.csv\".format(today)) ## Saves statcast play-by-play data to .csv\n",
    "#         return df\n",
    "#     else:\n",
    "#         df = pd.read_csv('statcast_data/2022-10-18.csv')\n",
    "#         print(\"loading in saved statcast file\")\n",
    "#         return df"
   ]
  },
  {
   "cell_type": "code",
   "execution_count": 3,
   "metadata": {},
   "outputs": [],
   "source": [
    "def get_fg_stats(year, selected_stats=selected_stats):\n",
    "    out = pb.fg_batting_data(year, qual=0)\n",
    "    print(out.shape)\n",
    "    id_table = pb.playerid_reverse_lookup(out['IDfg'], key_type='fangraphs')\n",
    "    out = pd.merge(out, id_table, left_on='IDfg', right_on='key_fangraphs')\n",
    "\n",
    "    return out[selected_stats]\n"
   ]
  },
  {
   "cell_type": "code",
   "execution_count": 6,
   "metadata": {},
   "outputs": [],
   "source": [
    "def preprocess_data():\n",
    "    ## Retrieving 2022 statcast data via pybaseball\n",
    "    df = pb.statcast(\"2022-04-01\", \"2022-10-02\")\n",
    "    df = df.drop_duplicates()\n",
    "    df['batter'] = df.batter.astype(int)\n",
    "\n",
    "\n",
    "    ## Creating a batter name column from mlbam ids\n",
    "    names = pb.playerid_reverse_lookup(df['batter'])\n",
    "    names['batter_name'] = names['name_first'] + \" \" + names['name_last']\n",
    "    names = names[['key_mlbam', 'batter_name']]\n",
    "    df = pd.merge(df, names, how='left', left_on='batter', right_on='key_mlbam')\n",
    "\n",
    "\n",
    "    ## Subsetting for batted ball events with non-null variables of interest\n",
    "    bbe = df.loc[(df['description'] == 'hit_into_play') & (df['estimated_woba_using_speedangle'].notna())]\n",
    "    non_bbe = df.loc[(df['estimated_woba_using_speedangle'].isna()) & (df['description'] != 'hit_into_play')]\n",
    "\n",
    "    print(bbe[['launch_speed', 'launch_angle', 'hc_x', 'hc_y', 'estimated_woba_using_speedangle']].isna().sum())\n",
    "    print(bbe[['hc_x', 'hc_y']].isna().sum())\n",
    "    bbe = bbe.dropna(subset=['hc_x', 'hc_y'])\n",
    "\n",
    "    ## Rotating hit coordinates over 1st quadrant of xy-plane for ease in calculating spray angle\n",
    "    bbe['hc_x_adj'] = bbe['hc_x'].sub(126)\n",
    "    bbe['hc_y_adj'] = 204.5 - bbe['hc_y']\n",
    "    rad = -math.pi/4\n",
    "    rotation_mat = np.array([[math.cos(rad), math.sin(rad)],\n",
    "                            [-math.sin(rad), math.cos(rad)]])\n",
    "    bbe[['field_x', 'field_y']] = bbe[['hc_x_adj', 'hc_y_adj']].dot(rotation_mat).astype(np.float64)\n",
    "\n",
    "    ## Calculating spray angle (theta_deg) from inverse tangent function of transformed hit coordinates\n",
    "    bbe['field_x'] = bbe['field_x'].astype(float)\n",
    "    bbe['field_y'] = bbe['field_y'].astype(float)\n",
    "    bbe['theta'] = np.arctan(bbe['field_y'].div(bbe['field_x']))\n",
    "    bbe['theta_deg'] = bbe['theta'].mul(180/math.pi)\n",
    "\n",
    "    ## Generating discrete categories for hit direction based on spray angle\n",
    "    labels = ['right', 'center', 'left']\n",
    "    bins = pd.IntervalIndex.from_tuples([(bbe['theta_deg'].min(), 30), (30, 60), (60, bbe['theta_deg'].max())])\n",
    "    bbe['hit_direction'] = pd.cut(bbe['theta_deg'], bins=bins).map(dict(zip(bins, labels)))\n",
    "\n",
    "    ## Generating \"pull\" and \"pulled_barrel\" boolean columns to signify a pulled batted ball and pulled barrel\n",
    "    bbe['pull'] = np.where(np.logical_or(np.logical_and((bbe['stand']=='R'),(bbe['hit_direction']=='left')),\n",
    "                            np.logical_and((bbe['stand']=='L'),(bbe['hit_direction']==1))), 1, 0)\n",
    "    bbe['pulled_barrel'] = np.where(np.logical_and((bbe['pull']==1),(bbe['launch_speed_angle']==6)), 1, 0)\n",
    "    return df, bbe, non_bbe\n"
   ]
  },
  {
   "cell_type": "code",
   "execution_count": 7,
   "metadata": {},
   "outputs": [
    {
     "name": "stdout",
     "output_type": "stream",
     "text": [
      "This is a large query, it may take a moment to complete\n"
     ]
    },
    {
     "name": "stderr",
     "output_type": "stream",
     "text": [
      "100%|██████████| 185/185 [00:24<00:00,  7.59it/s]\n"
     ]
    },
    {
     "name": "stdout",
     "output_type": "stream",
     "text": [
      "launch_speed                        0\n",
      "launch_angle                        0\n",
      "hc_x                               43\n",
      "hc_y                               43\n",
      "estimated_woba_using_speedangle     0\n",
      "dtype: int64\n",
      "hc_x    43\n",
      "hc_y    43\n",
      "dtype: int64\n"
     ]
    }
   ],
   "source": [
    "df, bbe, non_bbe = preprocess_data()"
   ]
  },
  {
   "cell_type": "code",
   "execution_count": 5,
   "metadata": {},
   "outputs": [
    {
     "ename": "NameError",
     "evalue": "name 'df' is not defined",
     "output_type": "error",
     "traceback": [
      "\u001b[0;31m---------------------------------------------------------------------------\u001b[0m",
      "\u001b[0;31mNameError\u001b[0m                                 Traceback (most recent call last)",
      "\u001b[0;32m/var/folders/mn/zccfyhzs2q1702wmw5mwrrgr0000gn/T/ipykernel_25242/857714779.py\u001b[0m in \u001b[0;36m<module>\u001b[0;34m\u001b[0m\n\u001b[0;32m----> 1\u001b[0;31m \u001b[0mdf\u001b[0m\u001b[0;34m.\u001b[0m\u001b[0mshape\u001b[0m\u001b[0;34m\u001b[0m\u001b[0;34m\u001b[0m\u001b[0m\n\u001b[0m",
      "\u001b[0;31mNameError\u001b[0m: name 'df' is not defined"
     ]
    }
   ],
   "source": [
    "df.shape"
   ]
  },
  {
   "cell_type": "code",
   "execution_count": null,
   "metadata": {},
   "outputs": [],
   "source": [
    "model = RandomForestRegressor(\n",
    "    n_estimators=100,\n",
    "    min_samples_leaf = 100\n",
    ")"
   ]
  },
  {
   "cell_type": "code",
   "execution_count": 5,
   "metadata": {},
   "outputs": [],
   "source": [
    "def train_xwoba_model(bbe, non_bbe):\n",
    "    ## Training a random forest regression model based on exit velocity and launch angle and using cross-validation to measure performance\n",
    "    X = bbe[['launch_speed', 'launch_angle']]\n",
    "    y = bbe['woba_value'].values\n",
    "    \n",
    "    model.fit(X, y)\n",
    "    print(\"CV xwOBA fit (R^2):\") \n",
    "    print(cross_val_score(model, X, y, cv=5))\n",
    "    y_pred = model.predict(X)\n",
    "\n",
    "\n",
    "    ## Grouping events by batter to get mean xwOBAcon for each player\n",
    "    bbe['rf_xwoba'] = y_pred\n",
    "    xwobacon_leaders = bbe.groupby(['batter_name', 'batter'])['rf_xwoba'].agg(['mean', 'count'])\n",
    "    print('\\n')\n",
    "    print(xwobacon_leaders.shape)\n",
    "\n",
    "\n",
    "    ## Counting all wOBA events (bbe, strikeouts, hbp, and BB) to count up total plate appearances\n",
    "    num_pa = non_bbe.groupby(['batter_name', 'batter'])['woba_value'].agg(['mean', 'count'])\n",
    "    print('\\n')\n",
    "    print(num_pa.shape)\n",
    "\n",
    "    ## Calculating xwOBA from bbe xwOBAcon and non-bbe wOBA\n",
    "    xwobacon_leaders['non_bbe'] = num_pa['mean']\n",
    "    xwobacon_leaders['non_bbe_count'] = num_pa['count']\n",
    "    xwobacon_leaders['total'] = num_pa['count'].add(xwobacon_leaders['count'])\n",
    "\n",
    "    xwobacon_leaders['xwoba'] = ((xwobacon_leaders['mean']*xwobacon_leaders['count']) + \\\n",
    "                                (xwobacon_leaders['non_bbe']*xwobacon_leaders['non_bbe_count'])) / \\\n",
    "                                xwobacon_leaders['total']\n",
    "    return xwobacon_leaders\n"
   ]
  },
  {
   "cell_type": "code",
   "execution_count": 6,
   "metadata": {},
   "outputs": [],
   "source": [
    "def train_sxwoba_model(bbe, non_bbe):\n",
    "    ## Incorporating spray angle into the random forest model\n",
    "    bbe_spray = bbe.dropna(subset=['launch_speed', 'launch_angle', 'woba_value'])\n",
    "    print(bbe_spray.columns)\n",
    "    bbe_spray[['launch_speed', 'launch_angle', 'theta_deg']] = bbe_spray[['launch_speed', 'launch_angle', 'theta_deg']].fillna(0)\n",
    "\n",
    "    X_spray = bbe_spray[['launch_speed', 'launch_angle', 'theta_deg']]\n",
    "    y_spray = bbe_spray['woba_value'].values\n",
    "\n",
    "    print(\"CV Spray angle xwOBA fit (R^2):\") \n",
    "    print(cross_val_score(model, X_spray, y_spray, cv=5))\n",
    "\n",
    "    model.fit(X_spray, y_spray)\n",
    "    y_pred_spray = model.predict(X_spray)\n",
    "\n",
    "    bbe['sxwOBA'] = y_pred_spray\n",
    "\n",
    "    return bbe\n"
   ]
  },
  {
   "cell_type": "code",
   "execution_count": null,
   "metadata": {},
   "outputs": [],
   "source": [
    "def generate_leaderboards(bbe):\n",
    "\n",
    "    ## Generating spray angle xwOBA leaderboards\n",
    "    spray_xwobacon = bbe.groupby(['batter_name', 'batter'])['sxwOBA'].agg(['mean', 'count'])\n",
    "    print('\\n')\n",
    "    print(spray_xwobacon.shape)\n",
    "\n",
    "    ## Adding spray angle xwOBA and pulled barrels to leaderboards\n",
    "    pulled_barrels = bbe.groupby(['batter_name', 'batter'])['pulled_barrel'].agg(['mean', 'count'])\n",
    "    xwobacon_leaders['pulled_barrels'] = pulled_barrels['count'].mul(pulled_barrels['mean']).round ()\n",
    "    xwobacon_leaders['spray_xwoba_count'] = spray_xwobacon['count']\n",
    "    xwobacon_leaders['sxwOBA'] = spray_xwobacon['mean']\n",
    "    xwobacon_leaders = xwobacon_leaders.reset_index()\n",
    "    print(xwobacon_leaders.head())\n",
    "\n",
    "    ## Generating weighted average of bbe and non-bbe xwOBA and wOBA (cannot calculate xwOBA of non-bbe events)\n",
    "    xwoba_sum = xwobacon_leaders['mean'].mul(xwobacon_leaders['spray_xwoba_count'])\n",
    "    bbe_sum = xwobacon_leaders['sxwOBA'].mul(xwobacon_leaders['spray_xwoba_count'])\n",
    "    non_bbe_sum = xwobacon_leaders['non_bbe'].mul(xwobacon_leaders['non_bbe_count'])\n",
    "    total = xwobacon_leaders['non_bbe_count'].add(xwobacon_leaders['spray_xwoba_count'])\n",
    "    spray_xwoba = (bbe_sum + non_bbe_sum) / total # spray angle xwOBA\n",
    "\n",
    "    ## Creating data frame from leaders \n",
    "    cumulative_stats = get_fg_stats(2022)\n",
    "    print('cumulative stats:', cumulative_stats.shape)\n",
    "    spray_xwoba_leaders = pd.DataFrame.from_dict({\n",
    "    'batter_name' : xwobacon_leaders['batter_name'],\n",
    "    'batter_id': xwobacon_leaders['batter'],\n",
    "    'sxwOBA': spray_xwoba,\n",
    "    'pulled_barrels': xwobacon_leaders['pulled_barrels'],\n",
    "    'bbe' : total\n",
    "    })\n",
    "    spray_xwoba_leaders = spray_xwoba_leaders.merge(cumulative_stats, left_on='batter_id', right_on='key_mlbam')\n",
    "    print('\\n')\n",
    "    print('spray xwoba:', spray_xwoba_leaders.shape)\n",
    "    print(cumulative_stats.loc[cumulative_stats['Name']=='David Villar'])\n",
    "    \n",
    "\n",
    "    ## Data manipulation and inclusion of % diff column\n",
    "    spray_xwoba_leaders = spray_xwoba_leaders.loc[(spray_xwoba_leaders['xwOBA']!=0) & (spray_xwoba_leaders['sxwOBA']!=0)]  # prevents division by zero\n",
    "    print(spray_xwoba_leaders.head())\n",
    "    spray_xwoba_leaders['diff'] = spray_xwoba_leaders['sxwOBA'].sub(spray_xwoba_leaders['xwOBA'])\n",
    "    spray_xwoba_leaders['diff %'] = spray_xwoba_leaders['diff'].div(spray_xwoba_leaders['xwOBA']).mul(100).round(2)\n",
    "    print('\\n')\n",
    "    print(spray_xwoba_leaders.shape)\n",
    "\n",
    "\n",
    "    spray_xwoba_leaders = spray_xwoba_leaders[['batter_name', 'batter_id', 'PA', 'wOBA', 'xwOBA', 'sxwOBA', 'diff', 'diff %', 'BB%', 'K%', 'Barrels', 'pulled_barrels']]\n",
    "    spray_xwoba_leaders['Pulled Barrel %'] = spray_xwoba_leaders['pulled_barrels'].div(spray_xwoba_leaders['Barrels']).mul(100).round()\n",
    "    spray_xwoba_leaders['BB%'] = spray_xwoba_leaders['BB%'].mul(100)\n",
    "    spray_xwoba_leaders['K%'] = spray_xwoba_leaders['K%'].mul(100)\n",
    "    spray_xwoba_leaders = spray_xwoba_leaders.round(3)\n",
    "\n",
    "    bbe['field_x'] = bbe.field_x.mul(2)\n",
    "    bbe['field_y'] = bbe.field_y.mul(2)\n",
    "    \n",
    "    ## Save leaderboards and bbe data to csv_file\n",
    "    return spray_xwoba_leaders\n",
    "    "
   ]
  },
  {
   "cell_type": "code",
   "execution_count": null,
   "metadata": {},
   "outputs": [],
   "source": []
  }
 ],
 "metadata": {
  "kernelspec": {
   "display_name": "datasci",
   "language": "python",
   "name": "python3"
  },
  "language_info": {
   "codemirror_mode": {
    "name": "ipython",
    "version": 3
   },
   "file_extension": ".py",
   "mimetype": "text/x-python",
   "name": "python",
   "nbconvert_exporter": "python",
   "pygments_lexer": "ipython3",
   "version": "3.9.7"
  },
  "orig_nbformat": 4,
  "vscode": {
   "interpreter": {
    "hash": "ce42c9ab7d85dd1a6c2adc7da7aac7380dfadda24e1910ffc8a24471f0ab8512"
   }
  }
 },
 "nbformat": 4,
 "nbformat_minor": 2
}
