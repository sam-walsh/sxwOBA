{
 "cells": [
  {
   "cell_type": "code",
   "execution_count": 90,
   "metadata": {},
   "outputs": [],
   "source": [
    "import pandas as pd\n",
    "import numpy as np\n",
    "import pybaseball as pb\n",
    "import math\n",
    "import os\n",
    "import datetime as dt\n",
    "from sklearn.ensemble import RandomForestRegressor\n",
    "from sklearn.model_selection import cross_val_score\n",
    "import shap\n",
    "import seaborn as sns\n",
    "import plotly.express as px\n",
    "from pybaseball import cache\n",
    "cache.enable()\n",
    "pd.set_option('display.max_columns', None)\n",
    "pd.set_option('display.max_rows', None)"
   ]
  },
  {
   "cell_type": "code",
   "execution_count": 91,
   "metadata": {},
   "outputs": [],
   "source": [
    "today = dt.date.today()\n",
    "\n",
    "selected_stats = [\n",
    "    'Name', 'G', 'AB', 'PA', 'H', '2B', '3B', 'HR', 'R',\n",
    "    'RBI', 'SB', 'CS', 'BB%', 'K%', 'OBP', 'SLG', 'wOBA',\n",
    "    'xwOBA', 'xBA', 'xSLG', 'Barrels', 'EV', 'LA', 'WAR',\n",
    "    'key_mlbam'\n",
    "]"
   ]
  },
  {
   "cell_type": "code",
   "execution_count": 92,
   "metadata": {},
   "outputs": [],
   "source": [
    "def get_fg_stats(year, selected_stats=selected_stats):\n",
    "    out = pb.fg_batting_data(year, qual=0)\n",
    "    print(out.shape)\n",
    "    id_table = pb.playerid_reverse_lookup(out['IDfg'], key_type='fangraphs')\n",
    "    out = pd.merge(out, id_table, left_on='IDfg', right_on='key_fangraphs')\n",
    "\n",
    "    return out[selected_stats]\n"
   ]
  },
  {
   "cell_type": "code",
   "execution_count": 93,
   "metadata": {},
   "outputs": [],
   "source": [
    "def impute_missing_sprayangle(bbe, edge_cases=[39485]):\n",
    "    \"\"\"\n",
    "    Imputes missing values in the \"theta_deg\" (spray angle) column of the batted ball events data frame.\n",
    "\n",
    "    Parameters:\n",
    "    bbe (pandas.DataFrame): The batted ball events data frame.\n",
    "    edge_cases (list): A list of mlbam ids for players whose missing values should be imputed with special logic.\n",
    "\n",
    "    Returns:\n",
    "    bbe (pandas.DataFrame): The batted ball events data frame with missing values in the \"theta_deg\" column imputed.\n",
    "    \"\"\"\n",
    "\n",
    "    ## Print summary statistics of spray angle column\n",
    "    print(bbe['theta_deg'].describe())\n",
    "    \n",
    "    ## Calculate mean spray angle by batter stance (left or right)\n",
    "    splits = bbe.groupby('stand')['theta_deg'].mean().round()\n",
    "    \n",
    "    ## Impute missing spray angles for home runs hit to pulled side\n",
    "    pull_hr_index = bbe.loc[(bbe['hc_x'].isna())&(bbe['events']=='home_run')].index.tolist()\n",
    "    print(pull_hr_index)\n",
    "    for player in edge_cases:\n",
    "        if player in pull_hr_index:\n",
    "            pull_hr_index.remove(player)\n",
    "\n",
    "    bbe.loc[pull_hr_index, 'theta_deg'] = 0\n",
    "    bbe.loc[pull_hr_index, 'theta_deg'] = bbe.loc[pull_hr_index, 'theta_deg'].where((bbe['stand']=='L'), 90)\n",
    "    bbe.loc[pull_hr_index].head(3)\n",
    "\n",
    "    ## Impute missing spray angles for all other batted ball events\n",
    "    other_missing = bbe.loc[(bbe['hc_x'].isna()) & (bbe['events']!='home_run')].index.tolist()\n",
    "    other_missing.extend(edge_cases)\n",
    "\n",
    "    bbe.loc[other_missing, 'theta_deg'] = splits[0]\n",
    "    bbe.loc[other_missing, 'theta_deg'] = bbe.loc[other_missing, 'theta_deg'].where(bbe['stand']=='L', splits[1])\n",
    "    bbe.loc[other_missing].head(3)\n",
    "\n",
    "    ## Fill any remaining missing values with a default value of 45 degrees\n",
    "    bbe['theta_deg'] = bbe['theta_deg'].fillna(45)\n",
    "    print(bbe['theta_deg'].describe())\n",
    "\n",
    "    return bbe\n"
   ]
  },
  {
   "cell_type": "code",
   "execution_count": 94,
   "metadata": {},
   "outputs": [],
   "source": [
    "def preprocess_data(dropna_cols=[]):\n",
    "    \"\"\"\n",
    "    Performs preprocessing on baseball statistics data, including cleaning and transforming the data,\n",
    "    and generating new columns based on derived features.\n",
    "\n",
    "    Parameters:\n",
    "    dropna_cols (list): A list of column names to drop from the batted ball events data frame if they contain null values.\n",
    "\n",
    "    Returns:\n",
    "    df (pandas.DataFrame): The original baseball statistics data frame.\n",
    "    bbe (pandas.DataFrame): The processed batted ball events data frame.\n",
    "    non_bbe (pandas.DataFrame): A subset of the baseball statistics data frame containing only rows where the \n",
    "                               \"estimated_woba_using_speedangle\" column is null and the \"description\" column does not \n",
    "                               contain the string \"hit_into_play\".\n",
    "    \"\"\"\n",
    "\n",
    "    ## Retrieving 2022 statcast data via pybaseball\n",
    "    print(\"Reading in data\")\n",
    "    df = pd.read_csv(\"statcast_data/2022.csv\")\n",
    "    df = df.drop_duplicates()\n",
    "    df['batter'] = df.batter.astype(int)\n",
    "    \n",
    "    ## Creating a batter name column from mlbam ids\n",
    "    names = pb.playerid_reverse_lookup(df['batter'])\n",
    "    print(names.head())\n",
    "    names['batter_name'] = names['name_first'] + \" \" + names['name_last']\n",
    "    names = names[['key_mlbam', 'batter_name']]\n",
    "    df = pd.merge(df, names, how='left', left_on='batter', right_on='key_mlbam')\n",
    "    \n",
    "    ## Subsetting for batted ball events with non-null variables of interest\n",
    "    print(\"Subsetting for batted ball events\")\n",
    "    bbe = pd.read_csv(\"bbe.csv\")\n",
    "    non_bbe = df.loc[(df['estimated_woba_using_speedangle'].isna()) & (df['description'] != 'hit_into_play')]\n",
    "    bbe = bbe.dropna(subset=dropna_cols)\n",
    "    \n",
    "    ## Rotating hit coordinates over 1st quadrant of xy-plane for ease in calculating spray angle\n",
    "    print(\"Rotating hit coordinates\")\n",
    "    bbe.loc[:, 'hc_x_adj'] = bbe['hc_x'].sub(126)\n",
    "    bbe.loc[:, 'hc_y_adj'] = 204.5 - bbe['hc_y']\n",
    "    rad = -math.pi/4\n",
    "    rotation_mat = np.array([[math.cos(rad), math.sin(rad)],\n",
    "                            [-math.sin(rad), math.cos(rad)]])\n",
    "    bbe[['field_x', 'field_y']] = bbe[['hc_x_adj', 'hc_y_adj']].dot(rotation_mat).astype(np.float64)\n",
    "    \n",
    "    ## Calculating spray angle (theta_deg) from inverse tangent function of transformed hit coordinates\n",
    "    print(\"Calculating spray angle\")\n",
    "    bbe['field_x'] = bbe['field_x'].astype(float)\n",
    "    bbe['field_y'] = bbe['field_y'].astype(float)\n",
    "    bbe['theta'] = np.arctan(bbe['field_y'].div(bbe['field_x']))\n",
    "    bbe['theta_deg'] = bbe['theta'].mul(180/math.pi)\n",
    "    print(bbe[['hc_x', 'hc_y', 'hc_x_adj', 'hc_y_adj', 'field_x', 'field_y', 'theta', 'theta_deg']].head())\n",
    "    bbe = impute_missing_sprayangle(bbe)\n",
    "\n",
    "    ## Generating discrete categories for hit direction based on spray angle\n",
    "    print(\"Generating hit direction categories\")\n",
    "    labels = ['right', 'center', 'left']\n",
    "    bins = pd.IntervalIndex.from_tuples([(bbe['theta_deg'].min(), 30), (30, 60), (60, bbe['theta_deg'].max())])\n",
    "    bbe['hit_direction'] = pd.cut(bbe['theta_deg'], bins=bins).map(dict(zip(bins, labels)))\n",
    "\n",
    "    ## Generating \"pull\" and \"pulled_barrel\" boolean columns to signify a pulled batted ball and pulled barrel\n",
    "    print(\"Generating pull and pulled_barrel columns\")\n",
    "    bbe['pull'] = np.where(np.logical_or(np.logical_and((bbe['stand']=='R'),(bbe['hit_direction']=='left')),\n",
    "                            np.logical_and((bbe['stand']=='L'),(bbe['hit_direction']=='right'))), 1, 0)\n",
    "    bbe['pulled_barrel'] = np.where(np.logical_and((bbe['pull']==1),(bbe['launch_speed_angle']==6)), 1, 0)\n",
    "\n",
    "    return df, bbe, non_bbe\n"
   ]
  },
  {
   "cell_type": "code",
   "execution_count": 95,
   "metadata": {},
   "outputs": [
    {
     "name": "stdout",
     "output_type": "stream",
     "text": [
      "Reading in data\n",
      "  name_last name_first  key_mlbam key_retro  key_bbref  key_fangraphs  \\\n",
      "0    miller       owen     680911  millo002  milleow01          24655   \n",
      "1     edman      tommy     669242  edmat001  edmanto01          19470   \n",
      "2  castillo      diego     660636  castd004  castidi02          19906   \n",
      "3     lopez      nicky     670032  lopen001  lopezni01          19339   \n",
      "4      lowe    brandon     664040  loweb001   lowebr01          18882   \n",
      "\n",
      "   mlb_played_first  mlb_played_last  \n",
      "0            2021.0           2022.0  \n",
      "1            2019.0           2022.0  \n",
      "2            2022.0           2022.0  \n",
      "3            2019.0           2022.0  \n",
      "4            2018.0           2022.0  \n",
      "Subsetting for batted ball events\n",
      "Rotating hit coordinates\n",
      "Calculating spray angle\n",
      "     hc_x    hc_y  hc_x_adj  hc_y_adj     field_x    field_y     theta  \\\n",
      "0  132.96  110.11      6.96     94.39   71.665272  61.822346  0.711795   \n",
      "1  100.93  153.13    -25.07     51.37   18.596908  54.051242  1.239422   \n",
      "2  224.97   92.80     98.97    111.70  148.966186   9.001469  0.060353   \n",
      "3  161.77   82.19     35.77    122.31  111.779440  61.193021  0.500879   \n",
      "4   96.35  138.46    -29.65     66.04   25.731616  67.663048  1.207395   \n",
      "\n",
      "   theta_deg  \n",
      "0  40.782835  \n",
      "1  71.013673  \n",
      "2   3.457965  \n",
      "3  28.698251  \n",
      "4  69.178665  \n",
      "count    123614.000000\n",
      "mean         42.172072\n",
      "std          29.995891\n",
      "min         -90.000000\n",
      "25%          20.975923\n",
      "50%          44.447673\n",
      "75%          66.019673\n",
      "max          89.997432\n",
      "Name: theta_deg, dtype: float64\n",
      "[6611, 18194, 18269, 22123, 37259, 39485, 40026, 44916, 48979, 52065, 62209, 65077, 68313, 77264, 78541, 82782, 83167, 87479, 97214, 99520, 109390, 111509, 119327, 121439]\n",
      "count    123729.000000\n",
      "mean         42.175404\n",
      "std          29.988493\n",
      "min         -90.000000\n",
      "25%          20.988070\n",
      "50%          44.476403\n",
      "75%          66.011068\n",
      "max          90.000000\n",
      "Name: theta_deg, dtype: float64\n",
      "Generating hit direction categories\n",
      "Generating pull and pulled_barrel columns\n"
     ]
    }
   ],
   "source": [
    "df, bbe, non_bbe = preprocess_data()"
   ]
  },
  {
   "cell_type": "code",
   "execution_count": 96,
   "metadata": {},
   "outputs": [
    {
     "data": {
      "text/plain": [
       "array(['field_out', 'single', 'home_run', 'double', 'force_out',\n",
       "       'grounded_into_double_play', 'fielders_choice', 'triple',\n",
       "       'sac_fly', 'fielders_choice_out', 'sac_bunt', 'double_play',\n",
       "       'field_error', 'triple_play', 'sac_fly_double_play',\n",
       "       'catcher_interf'], dtype=object)"
      ]
     },
     "execution_count": 96,
     "metadata": {},
     "output_type": "execute_result"
    }
   ],
   "source": [
    "df.loc[df['description'] == 'hit_into_play'].events.unique()"
   ]
  },
  {
   "cell_type": "code",
   "execution_count": null,
   "metadata": {},
   "outputs": [],
   "source": []
  },
  {
   "cell_type": "code",
   "execution_count": 97,
   "metadata": {},
   "outputs": [],
   "source": [
    "stand_dummies = pd.get_dummies(bbe['stand'], prefix='stand')\n",
    "bbe = pd.concat([bbe, stand_dummies], axis=1)"
   ]
  },
  {
   "cell_type": "code",
   "execution_count": 98,
   "metadata": {},
   "outputs": [
    {
     "data": {
      "text/html": [
       "<div>\n",
       "<style scoped>\n",
       "    .dataframe tbody tr th:only-of-type {\n",
       "        vertical-align: middle;\n",
       "    }\n",
       "\n",
       "    .dataframe tbody tr th {\n",
       "        vertical-align: top;\n",
       "    }\n",
       "\n",
       "    .dataframe thead th {\n",
       "        text-align: right;\n",
       "    }\n",
       "</style>\n",
       "<table border=\"1\" class=\"dataframe\">\n",
       "  <thead>\n",
       "    <tr style=\"text-align: right;\">\n",
       "      <th></th>\n",
       "      <th>batter_name</th>\n",
       "      <th>stand_L</th>\n",
       "    </tr>\n",
       "  </thead>\n",
       "  <tbody>\n",
       "    <tr>\n",
       "      <th>0</th>\n",
       "      <td>cavan biggio</td>\n",
       "      <td>1</td>\n",
       "    </tr>\n",
       "    <tr>\n",
       "      <th>1</th>\n",
       "      <td>ryan mckenna</td>\n",
       "      <td>0</td>\n",
       "    </tr>\n",
       "    <tr>\n",
       "      <th>2</th>\n",
       "      <td>terrin vavra</td>\n",
       "      <td>1</td>\n",
       "    </tr>\n",
       "    <tr>\n",
       "      <th>3</th>\n",
       "      <td>gunnar henderson</td>\n",
       "      <td>1</td>\n",
       "    </tr>\n",
       "    <tr>\n",
       "      <th>4</th>\n",
       "      <td>ryan mountcastle</td>\n",
       "      <td>0</td>\n",
       "    </tr>\n",
       "  </tbody>\n",
       "</table>\n",
       "</div>"
      ],
      "text/plain": [
       "        batter_name  stand_L\n",
       "0      cavan biggio        1\n",
       "1      ryan mckenna        0\n",
       "2      terrin vavra        1\n",
       "3  gunnar henderson        1\n",
       "4  ryan mountcastle        0"
      ]
     },
     "execution_count": 98,
     "metadata": {},
     "output_type": "execute_result"
    }
   ],
   "source": [
    "bbe[['batter_name', 'stand_L']].head()"
   ]
  },
  {
   "cell_type": "code",
   "execution_count": 99,
   "metadata": {},
   "outputs": [
    {
     "data": {
      "text/plain": [
       "hc_x                               45\n",
       "hc_y                               45\n",
       "launch_speed                        0\n",
       "launch_angle                        0\n",
       "woba_value                          0\n",
       "estimated_woba_using_speedangle     0\n",
       "stand_R                             0\n",
       "stand_L                             0\n",
       "dtype: int64"
      ]
     },
     "execution_count": 99,
     "metadata": {},
     "output_type": "execute_result"
    }
   ],
   "source": [
    "bbe[['hc_x', 'hc_y', 'launch_speed', 'launch_angle', 'woba_value', 'estimated_woba_using_speedangle', 'stand_R', 'stand_L']].isna().sum()"
   ]
  },
  {
   "cell_type": "code",
   "execution_count": 100,
   "metadata": {},
   "outputs": [
    {
     "data": {
      "text/plain": [
       "field_out                    60585\n",
       "single                       21134\n",
       "double                        6490\n",
       "home_run                      4312\n",
       "force_out                     3130\n",
       "grounded_into_double_play     2775\n",
       "sac_fly                       1006\n",
       "field_error                    942\n",
       "triple                         530\n",
       "sac_bunt                       327\n",
       "double_play                    326\n",
       "fielders_choice                314\n",
       "fielders_choice_out            231\n",
       "sac_fly_double_play             18\n",
       "triple_play                      6\n",
       "Name: events, dtype: int64"
      ]
     },
     "execution_count": 100,
     "metadata": {},
     "output_type": "execute_result"
    }
   ],
   "source": [
    "bbe.loc[df['hc_x'].isna()].events.value_counts()"
   ]
  },
  {
   "attachments": {},
   "cell_type": "markdown",
   "metadata": {},
   "source": [
    "#### Imputing missing hit coordinate data with video\n",
    "Looking at the 24 home runs with missing `hc_x` and `hc_y` coordinates, only one was not pulled down the foul line or close to the foul line\n",
    "- Matt Olson HR (29), [dead pull RF](https://www.mlb.com/video/matt-olson-homers-29-on-a-fly-ball-to-right-field-austin-riley-scores?q=matt%20olson%20home%20run%20off%20cory%20abbott&cp=MIXED&qt=FREETEXT&p=0)\n",
    "- CJ Cron HR (27), [dead pull LF](https://www.mlb.com/video/keynan-middleton-in-play-run-s-to-c-j-cron?q=cj%20cron%20home%20run%20off%20keynan%20middleton&cp=MIXED&qt=FREETEXT&p=0)\n",
    "- Jeimer Candelario HR (13), [dead pull LF](https://www.mlb.com/video/jeimer-candelario-homers-13-on-a-fly-ball-to-left-field-spencer-torkelson?q=jeimer%20candelario%20homer%20off%20daniel%20lynch&cp=MIXED&qt=FREETEXT&p=0)\n",
    "- Aaron Judge HR (53), [dead pull LF](https://www.mlb.com/video/aaron-judge-homers-53-on-a-fly-ball-to-left-field?q=aaron%20judge%20homer%20off%20shawn%20armstrong&cp=MIXED&qt=FREETEXT&p=0)\n",
    "- Corey Seager HR (26), [dead pull RF](https://www.mlb.com/video/marco-gonzales-in-play-run-s-to-corey-seager-shqh6r-sgdmlw?q=corey%20seager%20homer%20off%20marco%20gonzales&cp=MIXED&qt=FREETEXT&p=0)\n",
    "- **Ryan McMahon HR (11), [right-center](https://www.mlb.com/video/ryan-mcmahon-homers-11-on-a-fly-ball-to-center-field-brendan-rodgers-scor?q=ryan%20mcmahon%20homer%20off%20tj%20mcfarland&cp=MIXED&qt=FREETEXT&p=0)**\n",
    "- JT Realmuto HR (13), [dead pull LF](https://www.mlb.com/video/j-t-realmuto-homers-13-on-a-fly-ball-to-left-field-qprksz?q=jt%20realmuto%20homer%20off%20braxton%20garrett&cp=MIXED&qt=FREETEXT&p=0)\n",
    "- Jose Abreu HR (13), [dead pull LF](https://www.mlb.com/video/jose-abreu-homers-13-on-a-fly-ball-to-left-field-andrew-vaughn-scores?q=jose%20abreu%20homer%20off%20brad%20keller&cp=MIXED&qt=FREETEXT&p=0)\n",
    "- Charlie Blackmon HR (16), [dead pull RF](https://www.mlb.com/video/charlie-blackmon-homers-16-on-a-fly-ball-to-right-field?q=charlie%20blackmon%20homer%20off%20lucas%20giolito&cp=MIXED&qt=FREETEXT&p=0)\n",
    "- Daulton Varsho HR (13), [dead pull RF](https://www.mlb.com/video/daulton-varsho-homers-13-on-a-fly-ball-to-right-field?q=daulton%20varsho%20homer%20off%20jordan%20weems&cp=MIXED&qt=FREETEXT&p=0)\n",
    "- Kyle Schwarber HR (25), [dead pull RF](https://www.mlb.com/video/kyle-schwarber-homers-25-on-a-fly-ball-to-right-field-rqeehi?q=Kyle%20Schwarber%20homer%20off%20Paolo%20Espino&cp=MIXED&qt=FREETEXT&p=0)\n",
    "- Trent Grisham HR (7), [dead pull RF](https://www.mlb.com/video/tony-gonsolin-in-play-run-s-to-trent-grisham-xm0iym?q=Trent%20Grisham%20homer%20off%20Tony%20Gonsolin&cp=MIXED&qt=FREETEXT&p=0)\n",
    "- Juan Yepez HR (7), [dead pull LF](https://www.mlb.com/video/juan-yepez-homers-7-on-a-fly-ball-to-left-field?q=Juan%20Yepez%20homer%20off%20Alec%20Mills&cp=MIXED&qt=FREETEXT&p=0)\n",
    "- Christian Walker HR (16), [dead pull LF](https://www.mlb.com/video/christian-walker-homers-16-on-a-fly-ball-to-left-field-ketel-marte-scores?q=christian%20walker%20homer%20off%20mike%20minor&cp=MIXED&qt=FREETEXT&p=0)\n",
    "- William Contreras HR (9), [dead pull LF](https://www.mlb.com/video/william-contreras-homers-9-on-a-fly-ball-to-left-field?q=William%20Contreras%20homer%20off%20jose%20quintana&cp=MIXED&qt=FREETEXT&p=0)\n",
    "- Yordan Alvarez HR (16), [pull LF](https://www.mlb.com/video/yordan-alvarez-homers-16-on-a-fly-ball-to-right-field?q=yordan%20alvarez%20homer%20off%20arodys%20vizcaino&cp=MIXED&qt=FREETEXT&p=0)\n",
    "- George Springer HR (11), [dead pull LF](https://www.mlb.com/video/george-springer-homers-11-on-a-fly-ball-to-left-field-phgb8o?q=George%20Springer%20homer%20off%20Devin%20Smeltzer&cp=MIXED&qt=FREETEXT&p=0)\n",
    "- Jesus Sanchez HR (5), [dead pull RF](https://www.mlb.com/video/jesus-sanchez-homers-5-on-a-fly-ball-to-right-field?q=Jesus%20sanchez%20homer%20off%20ryan%20feltner&cp=MIXED&qt=FREETEXT&p=0)\n",
    "- Marcell Ozuna HR (6), [dead pull LF](https://www.mlb.com/video/brad-boxberger-in-play-run-s-to-marcell-ozuna?q=marcell%20ozuna%20homer%20off%20brad%20boxberger&cp=MIXED&qt=FREETEXT&p=0)\n",
    "- Ryan O'Hearn HR (1), [dead pull RF](https://www.mlb.com/video/carlos-estevez-in-play-run-s-to-ryan-o-hearn-x6443?q=Ryan%20O%27Hearn%20homer%20off%20Carlos%20Estevez&cp=MIXED&qt=FREETEXT&p=0)\n",
    "- Matt Chapman HR (4), [dead pull LF](https://www.mlb.com/video/matt-chapman-homers-4-on-a-fly-ball-to-left-field-lourdes-gurriel-jr-scor?q=Matt%20Chapman%20homer%20off%20Phil%20Maton&cp=MIXED&qt=FREETEXT&p=0)\n",
    "- Charlie Blackmon HR (3), [dead pull RF](https://www.mlb.com/video/charlie-blackmon-homers-3-on-a-fly-ball-to-right-field-quvhkw?q=Charlie%20Blackmon%20homer%20off%20Zach%20Eflin&cp=MIXED&qt=FREETEXT&p=0)\n",
    "- Garrett Cooper HR (1), [dead pull LF](https://www.mlb.com/video/garrett-cooper-homers-1-on-a-fly-ball-to-left-field-fhxttd?q=garrett%20cooper%20homer%20off%20kyle%20gibson&cp=MIXED&qt=FREETEXT&p=0)\n",
    "- CJ Cron HR (1), [dead pull LF](https://www.mlb.com/video/c-j-cron-s-2-run-homer?q=cj%20cron%20homer%20off%20julio%20urias&cp=MIXED&qt=FREETEXT&p=0)\n",
    "\n",
    "> While not all of the 'dead pull' HRs are completely straight down the line (e.g. Varsho), they are all very close to it. Therefore, I will impute the spray angle `(theta_deg)` of these BBEs as 0 degrees for those hit to RF, and 90 degrees for LF for simplicity/consistency.\n",
    "> Non-HR BBEs with missing hit coordinates are not so predictable in terms of spray angle. Along with McMahon's home run, the spray angle of these BBEs (20 total) will be imputed with the mean spray angle.\n"
   ]
  },
  {
   "cell_type": "code",
   "execution_count": 101,
   "metadata": {},
   "outputs": [],
   "source": [
    "# model = RandomForestRegressor(\n",
    "#     n_estimators=100,\n",
    "#     min_samples_leaf = 50,\n",
    "#     n_jobs=-1\n",
    "# )\n",
    "\n",
    "import xgboost as xgb\n",
    "model = xgb.XGBRegressor(tree_method='gpu_hist')"
   ]
  },
  {
   "cell_type": "code",
   "execution_count": 102,
   "metadata": {},
   "outputs": [],
   "source": [
    "def train_xwoba_model(bbe, non_bbe):\n",
    "    ## Training a random forest regression model based on exit velocity and launch angle and using cross-validation to measure performance\n",
    "    X = bbe[['launch_speed', 'launch_angle']]\n",
    "    y = bbe['woba_value'].values\n",
    "    \n",
    "    model.fit(X, y)\n",
    "    print(\"CV xwOBA fit (R^2):\") \n",
    "    print(cross_val_score(model, X, y, cv=5))\n",
    "    y_pred = model.predict(X)\n",
    "\n",
    "\n",
    "    ## Grouping events by batter to get mean xwOBAcon for each player\n",
    "    bbe['rf_xwoba'] = y_pred\n",
    "    xwobacon_leaders = bbe.groupby(['batter_name', 'batter'])['rf_xwoba'].agg(['mean', 'count'])\n",
    "    print('\\n')\n",
    "    print(xwobacon_leaders.shape)\n",
    "\n",
    "\n",
    "    ## Counting all wOBA events (bbe, strikeouts, hbp, and BB) to count up total plate appearances\n",
    "    num_pa = non_bbe.groupby(['batter_name', 'batter'])['woba_value'].agg(['mean', 'count'])\n",
    "    print('\\n')\n",
    "    print(num_pa.shape)\n",
    "\n",
    "    ## Calculating xwOBA from bbe xwOBAcon and non-bbe wOBA\n",
    "    xwobacon_leaders['non_bbe'] = num_pa['mean']\n",
    "    xwobacon_leaders['non_bbe_count'] = num_pa['count']\n",
    "    xwobacon_leaders['total'] = num_pa['count'].add(xwobacon_leaders['count'])\n",
    "\n",
    "    xwobacon_leaders['xwoba'] = ((xwobacon_leaders['mean']*xwobacon_leaders['count']) + \\\n",
    "                                (xwobacon_leaders['non_bbe']*xwobacon_leaders['non_bbe_count'])) / \\\n",
    "                                xwobacon_leaders['total']\n",
    "    return xwobacon_leaders\n"
   ]
  },
  {
   "cell_type": "code",
   "execution_count": 103,
   "metadata": {},
   "outputs": [],
   "source": [
    "def train_sxwoba_model(bbe, non_bbe, model=model):\n",
    "    ## Incorporating spray angle into the random forest model\n",
    "    X_spray = bbe[['launch_speed', 'launch_angle', 'theta_deg', 'stand_R']]\n",
    "    y_spray = bbe['woba_value'].values\n",
    "\n",
    "    print(\"CV Spray angle xwOBA fit (R^2):\") \n",
    "    print(cross_val_score(model, X_spray, y_spray, cv=5))\n",
    "\n",
    "    model.fit(X_spray, y_spray)\n",
    "    y_pred_spray = model.predict(X_spray)\n",
    "\n",
    "    return bbe, non_bbe, y_pred_spray, model, X_spray, y_spray\n"
   ]
  },
  {
   "cell_type": "code",
   "execution_count": 105,
   "metadata": {},
   "outputs": [],
   "source": [
    "def generate_leaderboards(bbe, non_bbe, y_pred_spray):\n",
    "\n",
    "    def aggregate_stats(df, columns, agg_column):\n",
    "        return df.groupby(columns)[agg_column].agg(['mean', 'count'])\n",
    "\n",
    "    bbe['sxwOBA'] = y_pred_spray\n",
    "    num_pa = aggregate_stats(non_bbe, ['batter_name', 'batter'], 'woba_value')\n",
    "\n",
    "    sxwobacon_leaders = aggregate_stats(bbe, ['batter_name', 'batter'], 'sxwOBA')\n",
    "    spray_xwobacon = aggregate_stats(bbe, ['batter_name', 'batter'], 'sxwOBA')\n",
    "    pulled_barrels = aggregate_stats(bbe, ['batter_name', 'batter'], 'pulled_barrel')\n",
    "\n",
    "    sxwobacon_leaders['non_bbe'] = num_pa['mean']\n",
    "    sxwobacon_leaders['non_bbe_count'] = num_pa['count']\n",
    "    sxwobacon_leaders['total'] = num_pa['count'].add(sxwobacon_leaders['count'])\n",
    "\n",
    "    sxwobacon_leaders['xwoba'] = ((sxwobacon_leaders['mean']*sxwobacon_leaders['count']) + \\\n",
    "                                  (sxwobacon_leaders['non_bbe']*sxwobacon_leaders['non_bbe_count'])) / \\\n",
    "                                  sxwobacon_leaders['total']\n",
    "\n",
    "    sxwobacon_leaders['pulled_barrels'] = pulled_barrels['mean'].mul(pulled_barrels['count'])\n",
    "    sxwobacon_leaders['spray_xwoba_count'] = spray_xwobacon['count']\n",
    "    sxwobacon_leaders['sxwOBA'] = spray_xwobacon['mean']\n",
    "    sxwobacon_leaders = sxwobacon_leaders.reset_index()\n",
    "\n",
    "    bbe_sum = sxwobacon_leaders['sxwOBA'].mul(sxwobacon_leaders['spray_xwoba_count'])\n",
    "    non_bbe_sum = sxwobacon_leaders['non_bbe'].mul(sxwobacon_leaders['non_bbe_count'])\n",
    "    total = sxwobacon_leaders['non_bbe_count'].add(sxwobacon_leaders['spray_xwoba_count'])\n",
    "    spray_xwoba = (bbe_sum + non_bbe_sum) / total\n",
    "\n",
    "    cumulative_stats = get_fg_stats(2022)\n",
    "    spray_xwoba_leaders = pd.DataFrame({\n",
    "        'batter_name': sxwobacon_leaders['batter_name'],\n",
    "        'batter_id': sxwobacon_leaders['batter'],\n",
    "        'sxwOBA': spray_xwoba,\n",
    "        'pulled_barrels': sxwobacon_leaders['pulled_barrels'],\n",
    "        'bbe': total\n",
    "    })\n",
    "    spray_xwoba_leaders = spray_xwoba_leaders.merge(cumulative_stats, left_on='batter_id', right_on='key_mlbam')\n",
    "\n",
    "    spray_xwoba_leaders = spray_xwoba_leaders.loc[(spray_xwoba_leaders['xwOBA'] != 0) & (spray_xwoba_leaders['sxwOBA'] != 0)]\n",
    "    spray_xwoba_leaders['diff'] = spray_xwoba_leaders['sxwOBA'].sub(spray_xwoba_leaders['xwOBA'])\n",
    "    spray_xwoba_leaders['diff %'] = spray_xwoba_leaders['diff'].div(spray_xwoba_leaders['xwOBA']).mul(100).round(2)\n",
    "    spray_xwoba_leaders['Pulled Barrel %'] = spray_xwoba_leaders['pulled_barrels'].div(spray_xwoba_leaders['Barrels']).mul(100).round()\n",
    "    spray_xwoba_leaders['BB%'] = spray_xwoba_leaders['BB%'].mul(100)\n",
    "    spray_xwoba_leaders['K%'] = spray_xwoba_leaders['K%'].mul(100)\n",
    "    spray_xwoba_leaders = spray_xwoba_leaders.round(3)\n",
    "\n",
    "    bbe['field_x'] = bbe.field_x.mul(2)\n",
    "    bbe['field_y'] = bbe.field_y.mul(2)\n",
    "\n",
    "    spray_xwoba_leaders = spray_xwoba_leaders[['batter_name', 'batter_id', 'PA', 'wOBA', 'xwOBA', 'sxwOBA', 'diff', 'diff %', 'BB%', 'K%', 'Barrels', 'pulled_barrels']]\n",
    "\n",
    "    return spray_xwoba_leaders\n",
    "                                                   \n",
    "    \n"
   ]
  },
  {
   "cell_type": "code",
   "execution_count": 106,
   "metadata": {},
   "outputs": [],
   "source": [
    "def generate_leaderboards(bbe, non_bbe, y_pred_spray, aggregate_by_pitchers=False):\n",
    "\n",
    "    def aggregate_stats(df, columns, agg_column):\n",
    "        return df.groupby(columns)[agg_column].agg(['mean', 'count'])\n",
    "\n",
    "    aggregation_columns = ['pitcher_name', 'pitcher'] if aggregate_by_pitchers else ['batter_name', 'batter']\n",
    "\n",
    "    bbe['sxwOBA'] = y_pred_spray\n",
    "    num_pa = aggregate_stats(non_bbe, aggregation_columns, 'woba_value')\n",
    "\n",
    "    sxwobacon_leaders = aggregate_stats(bbe, aggregation_columns, 'sxwOBA')\n",
    "    spray_xwobacon = aggregate_stats(bbe, aggregation_columns, 'sxwOBA')\n",
    "    pulled_barrels = aggregate_stats(bbe, aggregation_columns, 'pulled_barrel')\n",
    "\n",
    "    sxwobacon_leaders['non_bbe'] = num_pa['mean']\n",
    "    sxwobacon_leaders['non_bbe_count'] = num_pa['count']\n",
    "    sxwobacon_leaders['total'] = num_pa['count'].add(sxwobacon_leaders['count'])\n",
    "\n",
    "    sxwobacon_leaders['xwoba'] = ((sxwobacon_leaders['mean']*sxwobacon_leaders['count']) + \\\n",
    "                                  (sxwobacon_leaders['non_bbe']*sxwobacon_leaders['non_bbe_count'])) / \\\n",
    "                                  sxwobacon_leaders['total']\n",
    "\n",
    "    sxwobacon_leaders['pulled_barrels'] = pulled_barrels['mean'].mul(pulled_barrels['count'])\n",
    "    sxwobacon_leaders['spray_xwoba_count'] = spray_xwobacon['count']\n",
    "    sxwobacon_leaders['sxwOBA'] = spray_xwobacon['mean']\n",
    "    sxwobacon_leaders = sxwobacon_leaders.reset_index()\n",
    "\n",
    "    bbe_sum = sxwobacon_leaders['sxwOBA'].mul(sxwobacon_leaders['spray_xwoba_count'])\n",
    "    non_bbe_sum = sxwobacon_leaders['non_bbe'].mul(sxwobacon_leaders['non_bbe_count'])\n",
    "    total = sxwobacon_leaders['non_bbe_count'].add(sxwobacon_leaders['spray_xwoba_count'])\n",
    "    spray_xwoba = (bbe_sum + non_bbe_sum) / total\n",
    "\n",
    "    cumulative_stats = get_fg_stats(2022)\n",
    "    spray_xwoba_leaders = pd.DataFrame({\n",
    "        'name': sxwobacon_leaders[aggregation_columns[0]],\n",
    "        'id': sxwobacon_leaders[aggregation_columns[1]],\n",
    "        'sxwOBA': spray_xwoba,\n",
    "        'pulled_barrels': sxwobacon_leaders['pulled_barrels'],\n",
    "        'bbe': total\n",
    "    })\n",
    "    spray_xwoba_leaders = spray_xwoba_leaders.merge(cumulative_stats, left_on='id', right_on='key_mlbam')\n",
    "\n",
    "    spray_xwoba_leaders = spray_xwoba_leaders.loc[(spray_xwoba_leaders['xwOBA'] != 0) & (spray_xwoba_leaders['sxwOBA'] != 0)]\n",
    "    spray_xwoba_leaders['diff'] = spray_xwoba_leaders['sxwOBA'].sub(spray_xwoba_leaders['xwOBA'])\n",
    "    spray_xwoba_leaders['diff %'] = spray_xwoba_leaders['diff'].div(spray_xwoba_leaders['xwOBA']).mul(100).round(2)\n",
    "    spray_xwoba_leaders['Pulled Barrel %'] = spray_xwoba_leaders['pulled_barrels'].div(spray_xwoba_leaders['Barrels']).mul(100).round()\n",
    "    spray_xwoba_leaders['BB%'] = spray_xwoba_leaders['BB%'].mul(100)\n",
    "    spray_xwoba_leaders['K%'] = spray_xwoba_leaders['K%'].mul(100)\n",
    "    spray_xwoba_leaders = spray_xwoba_leaders.round(3)\n",
    "\n",
    "    bbe['field_x'] = bbe.field_x.mul(2)\n",
    "    bbe['field_y'] = bbe.field_y.mul(2)\n",
    "\n",
    "    columns_to_display = ['name', 'id', 'PA', 'wOBA', 'xwOBA', 'sxwOBA', 'diff', 'diff %', 'BB%', 'K%', 'Barrels', 'pulled_barrels']\n",
    "    spray_xwoba_leaders = spray_xwoba_leaders[columns_to_display]\n",
    "\n",
    "    return spray_xwoba_leaders\n"
   ]
  },
  {
   "cell_type": "code",
   "execution_count": 107,
   "metadata": {},
   "outputs": [
    {
     "name": "stdout",
     "output_type": "stream",
     "text": [
      "CV Spray angle xwOBA fit (R^2):\n",
      "[0.55915356 0.55948001 0.56356687 0.56653327 0.52343004]\n"
     ]
    },
    {
     "ename": "KeyError",
     "evalue": "'pitcher_name'",
     "output_type": "error",
     "traceback": [
      "\u001b[1;31m---------------------------------------------------------------------------\u001b[0m",
      "\u001b[1;31mKeyError\u001b[0m                                  Traceback (most recent call last)",
      "\u001b[1;32mc:\\Users\\wampl\\sxwOBA\\modeling.ipynb Cell 20\u001b[0m in \u001b[0;36m2\n\u001b[0;32m      <a href='vscode-notebook-cell:/c%3A/Users/wampl/sxwOBA/modeling.ipynb#X21sZmlsZQ%3D%3D?line=0'>1</a>\u001b[0m bbe, non_bbe, y_pred_spray, model, X_spray, y_spray \u001b[39m=\u001b[39m train_sxwoba_model(bbe, non_bbe)\n\u001b[1;32m----> <a href='vscode-notebook-cell:/c%3A/Users/wampl/sxwOBA/modeling.ipynb#X21sZmlsZQ%3D%3D?line=1'>2</a>\u001b[0m pitcher_leaderboard \u001b[39m=\u001b[39m generate_leaderboards(bbe, non_bbe, y_pred_spray, aggregate_by_pitchers\u001b[39m=\u001b[39;49m\u001b[39mTrue\u001b[39;49;00m)\n\u001b[0;32m      <a href='vscode-notebook-cell:/c%3A/Users/wampl/sxwOBA/modeling.ipynb#X21sZmlsZQ%3D%3D?line=2'>3</a>\u001b[0m leaders \u001b[39m=\u001b[39m generate_leaderboards(bbe, non_bbe, y_pred_spray)\n\u001b[0;32m      <a href='vscode-notebook-cell:/c%3A/Users/wampl/sxwOBA/modeling.ipynb#X21sZmlsZQ%3D%3D?line=3'>4</a>\u001b[0m leaders\u001b[39m.\u001b[39mhead(\u001b[39m3\u001b[39m)\n",
      "\u001b[1;32mc:\\Users\\wampl\\sxwOBA\\modeling.ipynb Cell 20\u001b[0m in \u001b[0;36m9\n\u001b[0;32m      <a href='vscode-notebook-cell:/c%3A/Users/wampl/sxwOBA/modeling.ipynb#X21sZmlsZQ%3D%3D?line=5'>6</a>\u001b[0m aggregation_columns \u001b[39m=\u001b[39m [\u001b[39m'\u001b[39m\u001b[39mpitcher_name\u001b[39m\u001b[39m'\u001b[39m, \u001b[39m'\u001b[39m\u001b[39mpitcher\u001b[39m\u001b[39m'\u001b[39m] \u001b[39mif\u001b[39;00m aggregate_by_pitchers \u001b[39melse\u001b[39;00m [\u001b[39m'\u001b[39m\u001b[39mbatter_name\u001b[39m\u001b[39m'\u001b[39m, \u001b[39m'\u001b[39m\u001b[39mbatter\u001b[39m\u001b[39m'\u001b[39m]\n\u001b[0;32m      <a href='vscode-notebook-cell:/c%3A/Users/wampl/sxwOBA/modeling.ipynb#X21sZmlsZQ%3D%3D?line=7'>8</a>\u001b[0m bbe[\u001b[39m'\u001b[39m\u001b[39msxwOBA\u001b[39m\u001b[39m'\u001b[39m] \u001b[39m=\u001b[39m y_pred_spray\n\u001b[1;32m----> <a href='vscode-notebook-cell:/c%3A/Users/wampl/sxwOBA/modeling.ipynb#X21sZmlsZQ%3D%3D?line=8'>9</a>\u001b[0m num_pa \u001b[39m=\u001b[39m aggregate_stats(non_bbe, aggregation_columns, \u001b[39m'\u001b[39;49m\u001b[39mwoba_value\u001b[39;49m\u001b[39m'\u001b[39;49m)\n\u001b[0;32m     <a href='vscode-notebook-cell:/c%3A/Users/wampl/sxwOBA/modeling.ipynb#X21sZmlsZQ%3D%3D?line=10'>11</a>\u001b[0m sxwobacon_leaders \u001b[39m=\u001b[39m aggregate_stats(bbe, aggregation_columns, \u001b[39m'\u001b[39m\u001b[39msxwOBA\u001b[39m\u001b[39m'\u001b[39m)\n\u001b[0;32m     <a href='vscode-notebook-cell:/c%3A/Users/wampl/sxwOBA/modeling.ipynb#X21sZmlsZQ%3D%3D?line=11'>12</a>\u001b[0m spray_xwobacon \u001b[39m=\u001b[39m aggregate_stats(bbe, aggregation_columns, \u001b[39m'\u001b[39m\u001b[39msxwOBA\u001b[39m\u001b[39m'\u001b[39m)\n",
      "\u001b[1;32mc:\\Users\\wampl\\sxwOBA\\modeling.ipynb Cell 20\u001b[0m in \u001b[0;36m4\n\u001b[0;32m      <a href='vscode-notebook-cell:/c%3A/Users/wampl/sxwOBA/modeling.ipynb#X21sZmlsZQ%3D%3D?line=2'>3</a>\u001b[0m \u001b[39mdef\u001b[39;00m \u001b[39maggregate_stats\u001b[39m(df, columns, agg_column):\n\u001b[1;32m----> <a href='vscode-notebook-cell:/c%3A/Users/wampl/sxwOBA/modeling.ipynb#X21sZmlsZQ%3D%3D?line=3'>4</a>\u001b[0m     \u001b[39mreturn\u001b[39;00m df\u001b[39m.\u001b[39;49mgroupby(columns)[agg_column]\u001b[39m.\u001b[39magg([\u001b[39m'\u001b[39m\u001b[39mmean\u001b[39m\u001b[39m'\u001b[39m, \u001b[39m'\u001b[39m\u001b[39mcount\u001b[39m\u001b[39m'\u001b[39m])\n",
      "File \u001b[1;32mc:\\Users\\wampl\\anaconda3\\envs\\sxwoba\\lib\\site-packages\\pandas\\core\\frame.py:8399\u001b[0m, in \u001b[0;36mDataFrame.groupby\u001b[1;34m(self, by, axis, level, as_index, sort, group_keys, squeeze, observed, dropna)\u001b[0m\n\u001b[0;32m   8396\u001b[0m     \u001b[39mraise\u001b[39;00m \u001b[39mTypeError\u001b[39;00m(\u001b[39m\"\u001b[39m\u001b[39mYou have to supply one of \u001b[39m\u001b[39m'\u001b[39m\u001b[39mby\u001b[39m\u001b[39m'\u001b[39m\u001b[39m and \u001b[39m\u001b[39m'\u001b[39m\u001b[39mlevel\u001b[39m\u001b[39m'\u001b[39m\u001b[39m\"\u001b[39m)\n\u001b[0;32m   8397\u001b[0m axis \u001b[39m=\u001b[39m \u001b[39mself\u001b[39m\u001b[39m.\u001b[39m_get_axis_number(axis)\n\u001b[1;32m-> 8399\u001b[0m \u001b[39mreturn\u001b[39;00m DataFrameGroupBy(\n\u001b[0;32m   8400\u001b[0m     obj\u001b[39m=\u001b[39;49m\u001b[39mself\u001b[39;49m,\n\u001b[0;32m   8401\u001b[0m     keys\u001b[39m=\u001b[39;49mby,\n\u001b[0;32m   8402\u001b[0m     axis\u001b[39m=\u001b[39;49maxis,\n\u001b[0;32m   8403\u001b[0m     level\u001b[39m=\u001b[39;49mlevel,\n\u001b[0;32m   8404\u001b[0m     as_index\u001b[39m=\u001b[39;49mas_index,\n\u001b[0;32m   8405\u001b[0m     sort\u001b[39m=\u001b[39;49msort,\n\u001b[0;32m   8406\u001b[0m     group_keys\u001b[39m=\u001b[39;49mgroup_keys,\n\u001b[0;32m   8407\u001b[0m     squeeze\u001b[39m=\u001b[39;49msqueeze,\n\u001b[0;32m   8408\u001b[0m     observed\u001b[39m=\u001b[39;49mobserved,\n\u001b[0;32m   8409\u001b[0m     dropna\u001b[39m=\u001b[39;49mdropna,\n\u001b[0;32m   8410\u001b[0m )\n",
      "File \u001b[1;32mc:\\Users\\wampl\\anaconda3\\envs\\sxwoba\\lib\\site-packages\\pandas\\core\\groupby\\groupby.py:959\u001b[0m, in \u001b[0;36mGroupBy.__init__\u001b[1;34m(self, obj, keys, axis, level, grouper, exclusions, selection, as_index, sort, group_keys, squeeze, observed, mutated, dropna)\u001b[0m\n\u001b[0;32m    956\u001b[0m \u001b[39mif\u001b[39;00m grouper \u001b[39mis\u001b[39;00m \u001b[39mNone\u001b[39;00m:\n\u001b[0;32m    957\u001b[0m     \u001b[39mfrom\u001b[39;00m \u001b[39mpandas\u001b[39;00m\u001b[39m.\u001b[39;00m\u001b[39mcore\u001b[39;00m\u001b[39m.\u001b[39;00m\u001b[39mgroupby\u001b[39;00m\u001b[39m.\u001b[39;00m\u001b[39mgrouper\u001b[39;00m \u001b[39mimport\u001b[39;00m get_grouper\n\u001b[1;32m--> 959\u001b[0m     grouper, exclusions, obj \u001b[39m=\u001b[39m get_grouper(\n\u001b[0;32m    960\u001b[0m         obj,\n\u001b[0;32m    961\u001b[0m         keys,\n\u001b[0;32m    962\u001b[0m         axis\u001b[39m=\u001b[39;49maxis,\n\u001b[0;32m    963\u001b[0m         level\u001b[39m=\u001b[39;49mlevel,\n\u001b[0;32m    964\u001b[0m         sort\u001b[39m=\u001b[39;49msort,\n\u001b[0;32m    965\u001b[0m         observed\u001b[39m=\u001b[39;49mobserved,\n\u001b[0;32m    966\u001b[0m         mutated\u001b[39m=\u001b[39;49m\u001b[39mself\u001b[39;49m\u001b[39m.\u001b[39;49mmutated,\n\u001b[0;32m    967\u001b[0m         dropna\u001b[39m=\u001b[39;49m\u001b[39mself\u001b[39;49m\u001b[39m.\u001b[39;49mdropna,\n\u001b[0;32m    968\u001b[0m     )\n\u001b[0;32m    970\u001b[0m \u001b[39mself\u001b[39m\u001b[39m.\u001b[39mobj \u001b[39m=\u001b[39m obj\n\u001b[0;32m    971\u001b[0m \u001b[39mself\u001b[39m\u001b[39m.\u001b[39maxis \u001b[39m=\u001b[39m obj\u001b[39m.\u001b[39m_get_axis_number(axis)\n",
      "File \u001b[1;32mc:\\Users\\wampl\\anaconda3\\envs\\sxwoba\\lib\\site-packages\\pandas\\core\\groupby\\grouper.py:888\u001b[0m, in \u001b[0;36mget_grouper\u001b[1;34m(obj, key, axis, level, sort, observed, mutated, validate, dropna)\u001b[0m\n\u001b[0;32m    886\u001b[0m         in_axis, level, gpr \u001b[39m=\u001b[39m \u001b[39mFalse\u001b[39;00m, gpr, \u001b[39mNone\u001b[39;00m\n\u001b[0;32m    887\u001b[0m     \u001b[39melse\u001b[39;00m:\n\u001b[1;32m--> 888\u001b[0m         \u001b[39mraise\u001b[39;00m \u001b[39mKeyError\u001b[39;00m(gpr)\n\u001b[0;32m    889\u001b[0m \u001b[39melif\u001b[39;00m \u001b[39misinstance\u001b[39m(gpr, Grouper) \u001b[39mand\u001b[39;00m gpr\u001b[39m.\u001b[39mkey \u001b[39mis\u001b[39;00m \u001b[39mnot\u001b[39;00m \u001b[39mNone\u001b[39;00m:\n\u001b[0;32m    890\u001b[0m     \u001b[39m# Add key to exclusions\u001b[39;00m\n\u001b[0;32m    891\u001b[0m     exclusions\u001b[39m.\u001b[39madd(gpr\u001b[39m.\u001b[39mkey)\n",
      "\u001b[1;31mKeyError\u001b[0m: 'pitcher_name'"
     ]
    }
   ],
   "source": [
    "bbe, non_bbe, y_pred_spray, model, X_spray, y_spray = train_sxwoba_model(bbe, non_bbe)\n",
    "pitcher_leaderboard = generate_leaderboards(bbe, non_bbe, y_pred_spray, aggregate_by_pitchers=True)\n",
    "leaders = generate_leaderboards(bbe, non_bbe, y_pred_spray)\n",
    "leaders.head(3)"
   ]
  },
  {
   "cell_type": "code",
   "execution_count": null,
   "metadata": {},
   "outputs": [],
   "source": [
    "pitcher_leaderboard.head()"
   ]
  },
  {
   "cell_type": "code",
   "execution_count": null,
   "metadata": {},
   "outputs": [
    {
     "name": "stderr",
     "output_type": "stream",
     "text": [
      "c:\\Users\\wampl\\anaconda3\\envs\\sxwoba\\lib\\site-packages\\xgboost\\core.py:122: UserWarning:\n",
      "\n",
      "ntree_limit is deprecated, use `iteration_range` or model slicing instead.\n",
      "\n"
     ]
    }
   ],
   "source": [
    "explainer = shap.TreeExplainer(model, iteration_range=(0, 9))\n",
    "shap_values = explainer.shap_values(X_spray)"
   ]
  },
  {
   "cell_type": "code",
   "execution_count": null,
   "metadata": {},
   "outputs": [
    {
     "name": "stderr",
     "output_type": "stream",
     "text": [
      "c:\\Users\\wampl\\anaconda3\\envs\\sxwoba\\lib\\site-packages\\shap\\plots\\_beeswarm.py:664: UserWarning:\n",
      "\n",
      "No data for colormapping provided via 'c'. Parameters 'vmin', 'vmax' will be ignored\n",
      "\n"
     ]
    },
    {
     "data": {
      "image/png": "[encoded data removed]",
      "text/plain": [
       "<Figure size 800x310 with 2 Axes>"
      ]
     },
     "metadata": {},
     "output_type": "display_data"
    }
   ],
   "source": [
    "shap.summary_plot(shap_values, X_spray)"
   ]
  },
  {
   "cell_type": "code",
   "execution_count": null,
   "metadata": {},
   "outputs": [
    {
     "data": {
      "image/png": "[encoded data removed]",
      "text/plain": [
       "<Figure size 800x310 with 1 Axes>"
      ]
     },
     "metadata": {},
     "output_type": "display_data"
    }
   ],
   "source": [
    "shap.summary_plot(shap_values, X_spray, plot_type='bar')"
   ]
  },
  {
   "cell_type": "code",
   "execution_count": null,
   "metadata": {},
   "outputs": [
    {
     "data": {
      "image/png": "[encoded data removed]",
      "text/plain": [
       "<Figure size 800x310 with 1 Axes>"
      ]
     },
     "metadata": {},
     "output_type": "display_data"
    }
   ],
   "source": [
    "shap.summary_plot(shap_values[y_spray > 1], X_spray[y_spray > 1], plot_type='bar')"
   ]
  },
  {
   "cell_type": "code",
   "execution_count": null,
   "metadata": {},
   "outputs": [
    {
     "data": {
      "image/png": "[encoded data removed]",
      "text/plain": [
       "<Figure size 800x310 with 1 Axes>"
      ]
     },
     "metadata": {},
     "output_type": "display_data"
    }
   ],
   "source": [
    "shap.summary_plot(shap_values[y_spray < 1], X_spray[y_spray < 1], plot_type='bar')"
   ]
  },
  {
   "cell_type": "code",
   "execution_count": null,
   "metadata": {},
   "outputs": [
    {
     "data": {
      "text/plain": [
       "array([-0.0291399 , -0.05619774, -0.01705751,  0.00170115], dtype=float32)"
      ]
     },
     "execution_count": 72,
     "metadata": {},
     "output_type": "execute_result"
    }
   ],
   "source": [
    "shap_values[y_spray < 1].mean(axis=0)"
   ]
  },
  {
   "cell_type": "code",
   "execution_count": null,
   "metadata": {},
   "outputs": [
    {
     "data": {
      "text/plain": [
       "array([0.16554554, 0.22302976, 0.10273937, 0.02860237], dtype=float32)"
      ]
     },
     "execution_count": 73,
     "metadata": {},
     "output_type": "execute_result"
    }
   ],
   "source": [
    "shap_values[y_spray < 1].std(axis=0)"
   ]
  },
  {
   "cell_type": "code",
   "execution_count": null,
   "metadata": {},
   "outputs": [
    {
     "data": {
      "text/plain": [
       "0.007128888888888888"
      ]
     },
     "execution_count": 74,
     "metadata": {},
     "output_type": "execute_result"
    }
   ],
   "source": [
    "leaders['sxwOBA'].sub(leaders['xwOBA']).mean()"
   ]
  },
  {
   "cell_type": "code",
   "execution_count": null,
   "metadata": {},
   "outputs": [
    {
     "data": {
      "text/plain": [
       "count    123729.000000\n",
       "mean         42.175404\n",
       "std          29.988493\n",
       "min         -90.000000\n",
       "25%          20.988070\n",
       "50%          44.476403\n",
       "75%          66.011068\n",
       "max          90.000000\n",
       "Name: theta_deg, dtype: float64"
      ]
     },
     "execution_count": 75,
     "metadata": {},
     "output_type": "execute_result"
    }
   ],
   "source": [
    "bbe['theta_deg'].describe()"
   ]
  },
  {
   "cell_type": "code",
   "execution_count": null,
   "metadata": {},
   "outputs": [
    {
     "data": {
      "text/plain": [
       "batter_name\n",
       "aaron hicks              276\n",
       "aaron judge              398\n",
       "aaron whitefield           6\n",
       "abraham almonte           23\n",
       "abraham toro             263\n",
       "adalberto mondesí         30\n",
       "adam duvall              188\n",
       "adam engel               168\n",
       "adam frazier             477\n",
       "adam haseley              15\n",
       "adley rutschman          315\n",
       "adolis garcía            426\n",
       "aj pollock               394\n",
       "akil baddoo              136\n",
       "alan trejo                86\n",
       "albert almora            167\n",
       "albert pujols            258\n",
       "alcides escobar           92\n",
       "alec bohm                486\n",
       "alec burleson             39\n",
       "aledmys díaz             253\n",
       "alejandro kirk           415\n",
       "alejo lopez              121\n",
       "alek thomas              308\n",
       "alex bregman             480\n",
       "alex call                 84\n",
       "alex dickerson            24\n",
       "alex jackson               5\n",
       "alex kirilloff           110\n",
       "alex verdugo             513\n",
       "alfonso rivas            165\n",
       "amed rosario             529\n",
       "andrelton simmons         63\n",
       "andrew benintendi        390\n",
       "andrew knapp              28\n",
       "andrew knizner           199\n",
       "andrew mccutchen         394\n",
       "andrew vaughn            412\n",
       "andrew velazquez         211\n",
       "andrés giménez           386\n",
       "andy ibáñez               98\n",
       "anthony alford             2\n",
       "anthony bemboom           35\n",
       "anthony rendon           131\n",
       "anthony rizzo            366\n",
       "anthony santander        457\n",
       "aramis garcia             76\n",
       "aristides aquino         154\n",
       "austin allen               5\n",
       "austin barnes            145\n",
       "austin dean                8\n",
       "austin hays              422\n",
       "austin hedges            228\n",
       "austin meadows           110\n",
       "austin nola              296\n",
       "austin riley             450\n",
       "austin romine             84\n",
       "austin slater            190\n",
       "austin wynns             126\n",
       "avisaíl garcía           248\n",
       "ben deluzio               16\n",
       "ben gamel                272\n",
       "billy hamilton             9\n",
       "billy mckinney            37\n",
       "bligh madris              82\n",
       "bo bichette              494\n",
       "bo naylor                  3\n",
       "bobby bradley              8\n",
       "bobby dalbec             202\n",
       "bobby witt               459\n",
       "brad miller              152\n",
       "bradley zimmer            61\n",
       "brandon belt             174\n",
       "brandon crawford         311\n",
       "brandon dixon              9\n",
       "brandon drury            393\n",
       "brandon lowe             175\n",
       "brandon marsh            272\n",
       "brandon nimmo            468\n",
       "brendan donovan          323\n",
       "brendan rodgers          428\n",
       "brendon davis              7\n",
       "brent rooker              21\n",
       "brett baty                30\n",
       "brett phillips           112\n",
       "brian anderson           237\n",
       "brian o'keefe              1\n",
       "brian serven             145\n",
       "bryan de la cruz         243\n",
       "bryan lavastida            8\n",
       "bryan reynolds           403\n",
       "bryce harper             289\n",
       "bryce johnson             11\n",
       "bryson stott             339\n",
       "bubba thompson           116\n",
       "buddy kennedy             62\n",
       "byron buxton             225\n",
       "c. j. cron               415\n",
       "cal mitchell             162\n",
       "cal raleigh              253\n",
       "cal stevenson             40\n",
       "caleb hamilton             5\n",
       "cam gallagher             31\n",
       "canaan smith-njigba        5\n",
       "carlos correa            405\n",
       "carlos pérez              16\n",
       "carlos sanchez            25\n",
       "carlos santana           345\n",
       "carson kelly             249\n",
       "cavan biggio             173\n",
       "cedric mullins           485\n",
       "chad pinder              243\n",
       "chad wallach              26\n",
       "chadwick tromp             4\n",
       "charles leblanc          103\n",
       "charlie blackmon         426\n",
       "charlie culberson         88\n",
       "chas mccormick           254\n",
       "chris okey                 7\n",
       "chris owings              33\n",
       "chris taylor             244\n",
       "christian arroyo         235\n",
       "christian bethancourt    238\n",
       "christian lopes            4\n",
       "christian vázquez        331\n",
       "christian walker         457\n",
       "christian yelich         416\n",
       "christopher morel        243\n",
       "chuckie robinson          43\n",
       "cj abrams                235\n",
       "cody bellinger           359\n",
       "cody thomas               18\n",
       "cole tucker               38\n",
       "colin moran               81\n",
       "conner capel              44\n",
       "connor joe               305\n",
       "connor wong               34\n",
       "cooper hummel            111\n",
       "corbin carroll            73\n",
       "corey dickerson          234\n",
       "corey seager             493\n",
       "cristian pache           173\n",
       "curt casali               99\n",
       "césar hernández          448\n",
       "dairon blanco              3\n",
       "dalton guthrie            14\n",
       "dan vogelbach            272\n",
       "danny jansen             175\n",
       "danny mendick             75\n",
       "dansby swanson           461\n",
       "darick hall               92\n",
       "darin ruf                232\n",
       "daulton varsho           388\n",
       "david bote                71\n",
       "david fletcher           201\n",
       "david hensley             23\n",
       "david mackinnon           34\n",
       "david peralta            331\n",
       "david villar              99\n",
       "daz cameron               44\n",
       "dee strange-gordon        51\n",
       "derek hill                59\n",
       "dermis garcia             61\n",
       "deven marrero              3\n",
       "didi gregorius           179\n",
       "diego castillo           191\n",
       "dillon thomas              5\n",
       "dixon machado             10\n",
       "dj lemahieu              398\n",
       "dj stewart                 1\n",
       "dom nuñez                 25\n",
       "dominic smith             99\n",
       "donny sands                2\n",
       "donovan solano           216\n",
       "donovan walton            60\n",
       "drew ellis                 9\n",
       "drew jackson               2\n",
       "drew waters               56\n",
       "dustin garneau             6\n",
       "dylan carlson            340\n",
       "dylan moore              132\n",
       "eddie rosario            184\n",
       "eddy alvarez              18\n",
       "edmundo sosa             128\n",
       "eduardo escobar          371\n",
       "edward olivares          125\n",
       "edwin rios                50\n",
       "eguy rosario               3\n",
       "ehire adrianza            73\n",
       "elehuris montero         116\n",
       "eli white                 65\n",
       "elias díaz               267\n",
       "elier hernandez           19\n",
       "eloy jiménez             224\n",
       "elvis andrus             441\n",
       "emmanuel rivera          248\n",
       "ender inciarte             8\n",
       "enrique hernández        293\n",
       "eric haase               227\n",
       "eric hosmer              313\n",
       "erik gonzález             25\n",
       "ernie clement            140\n",
       "esteban quiroz            32\n",
       "esteury ruiz              28\n",
       "estevan florial           18\n",
       "eugenio suárez           351\n",
       "evan longoria            186\n",
       "ezequiel duran           152\n",
       "ezequiel tovar            24\n",
       "ford proctor              17\n",
       "franchy cordero          154\n",
       "francisco lindor         503\n",
       "francisco mejía          225\n",
       "francisco álvarez          8\n",
       "frank schwindel          213\n",
       "franmil reyes            283\n",
       "freddie freeman          514\n",
       "freddy fermin              4\n",
       "gabriel arias             32\n",
       "gabriel moreno            61\n",
       "garrett cooper           299\n",
       "garrett hampson          138\n",
       "garrett mitchell          34\n",
       "garrett stubbs            77\n",
       "gary sanchez             287\n",
       "gavin lux                328\n",
       "gavin sheets             292\n",
       "george springer          417\n",
       "geraldo perdomo          339\n",
       "giancarlo stanton        263\n",
       "gilberto celestino       234\n",
       "gio urshela              408\n",
       "gleyber torres           401\n",
       "gosuke katoh               7\n",
       "grayson greiner            3\n",
       "greg allen                80\n",
       "guillermo heredia         44\n",
       "gunnar henderson          82\n",
       "ha-seong kim             421\n",
       "hanser alberto           131\n",
       "harold castro            342\n",
       "harold ramírez           334\n",
       "harrison bader           232\n",
       "heliot ramos              14\n",
       "hoy park                  40\n",
       "hunter dozier            336\n",
       "hunter renfroe           358\n",
       "ian happ                 424\n",
       "ildemaro vargas          188\n",
       "isaac paredes            265\n",
       "isiah kiner-falefa       418\n",
       "israel pineda              6\n",
       "iván herrera              12\n",
       "j. d. davis              198\n",
       "j. d. martinez           392\n",
       "j. j. matijevic           42\n",
       "j. p. crawford           441\n",
       "j. t. realmuto           389\n",
       "jace peterson            207\n",
       "jack mayfield             53\n",
       "jack suwinski            212\n",
       "jackie bradley           269\n",
       "jackson frazier           26\n",
       "jacob stallings          266\n",
       "jake burger              112\n",
       "jake cave                117\n",
       "jake cronenworth         462\n",
       "jake fraley              162\n",
       "jake hager                34\n",
       "jake lamb                 59\n",
       "jake marisnick            53\n",
       "jake mccarthy            249\n",
       "jake meyers               96\n",
       "james mccann             130\n",
       "james outman               6\n",
       "jared walsh              285\n",
       "jared young               12\n",
       "jarred kelenic           103\n",
       "jarren duran             142\n",
       "jason castro              39\n",
       "jason delay              106\n",
       "jason heyward            105\n",
       "jason krizan               5\n",
       "jason vosler              70\n",
       "javier báez              406\n",
       "jaylin davis              13\n",
       "jazz chisholm            149\n",
       "jean segura              294\n",
       "jed lowrie               130\n",
       "jeff mcneil              477\n",
       "jeimer candelario        321\n",
       "jerar encarnacion         46\n",
       "jeremy peña              390\n",
       "jermaine palacios         46\n",
       "jesse winker             355\n",
       "jesús aguilar            349\n",
       "jesús sánchez            222\n",
       "jeter downs               19\n",
       "ji hwan bae               27\n",
       "ji-man choi              236\n",
       "jj bleday                139\n",
       "jo adell                 162\n",
       "joc pederson             282\n",
       "joe dunand                 7\n",
       "joey bart                148\n",
       "joey gallo               188\n",
       "joey meneses             171\n",
       "joey votto               223\n",
       "joey wendle              300\n",
       "johan camargo            116\n",
       "jon berti                269\n",
       "jonah bride              132\n",
       "jonah heim               319\n",
       "jonathan aranda           54\n",
       "jonathan araúz            28\n",
       "jonathan davis            51\n",
       "jonathan india           290\n",
       "jonathan schoop          374\n",
       "jonathan villar          142\n",
       "jordan diaz               42\n",
       "jordan groshans           48\n",
       "jordan luplow            145\n",
       "jorge alfaro             159\n",
       "jorge mateo              351\n",
       "jorge polanco            283\n",
       "jorge soler              180\n",
       "jose altuve              438\n",
       "jose barrero              88\n",
       "jose herrera              81\n",
       "jose miranda             353\n",
       "jose rojas                36\n",
       "jose siri                194\n",
       "jose trevino             270\n",
       "josh bell                455\n",
       "josh donaldson           335\n",
       "josh harrison            319\n",
       "josh jung                 59\n",
       "josh lester                2\n",
       "josh lowe                116\n",
       "josh naylor              372\n",
       "josh palacios             32\n",
       "josh rojas               354\n",
       "josh smith               168\n",
       "josh vanmeter            128\n",
       "josé abreu               493\n",
       "josé azocar              158\n",
       "josé godoy                11\n",
       "josé iglesias            383\n",
       "josé ramírez             527\n",
       "jt riddle                  3\n",
       "juan lagares              45\n",
       "juan soto                428\n",
       "juan yepez               196\n",
       "julio rodríguez          363\n",
       "jurickson profar         475\n",
       "justin turner            386\n",
       "justin upton              24\n",
       "ka'ai tom                  1\n",
       "ke'bryan hayes           381\n",
       "keibert ruiz             343\n",
       "kelvin gutiérrez          19\n",
       "kerry carpenter           72\n",
       "keston hiura             123\n",
       "ketel marte              395\n",
       "kevin kiermaier          145\n",
       "kevin newman             241\n",
       "kevin padlo               23\n",
       "kevin pillar               8\n",
       "kevin plawecki           137\n",
       "kevin smith              102\n",
       "khalil lee                 2\n",
       "kody clemens              86\n",
       "kole calhoun             255\n",
       "kolten wong              348\n",
       "korey lee                 16\n",
       "kramer robertson           1\n",
       "kris bryant              135\n",
       "kurt suzuki              113\n",
       "kyle farmer              432\n",
       "kyle garlick             103\n",
       "kyle higashioka          182\n",
       "kyle isbel               183\n",
       "kyle lewis                36\n",
       "kyle schwarber           378\n",
       "kyle stowers              62\n",
       "kyle tucker              450\n",
       "lamonte wade             169\n",
       "lane thomas              367\n",
       "lars nootbaar            224\n",
       "lenyn sosa                23\n",
       "leody taveras            229\n",
       "leury garcia             238\n",
       "lewin díaz               108\n",
       "lewis brinson             23\n",
       "liover peguero             1\n",
       "livan soto                43\n",
       "logan o'hoppe             11\n",
       "lorenzo cain             110\n",
       "lourdes gurriel          372\n",
       "lucius fox                18\n",
       "luis arraez              506\n",
       "luis barrera              61\n",
       "luis campusano            38\n",
       "luis garcía              281\n",
       "luis gonzález            241\n",
       "luis guillorme           253\n",
       "luis liberato              2\n",
       "luis rengifo             411\n",
       "luis robert              304\n",
       "luis torrens             102\n",
       "luis urías               310\n",
       "luke maile               130\n",
       "luke raley                38\n",
       "luke voit                327\n",
       "luke williams             83\n",
       "magneuris sierra          67\n",
       "maikel franco            296\n",
       "maikel garcia             17\n",
       "manny machado            447\n",
       "manny piña                13\n",
       "manuel margot            268\n",
       "marcell ozuna            350\n",
       "marcus semien            547\n",
       "marcus wilson              1\n",
       "mario feliciano            3\n",
       "mark canha               367\n",
       "mark contreras            38\n",
       "mark kolozsvary           11\n",
       "mark mathias              52\n",
       "mark payton               17\n",
       "mark vientos              24\n",
       "martín maldonado         233\n",
       "marwin gonzalez          134\n",
       "matt beaty                35\n",
       "matt carpenter            94\n",
       "matt chapman             372\n",
       "matt davidson             21\n",
       "matt duffy               177\n",
       "matt olson               449\n",
       "matt reynolds            165\n",
       "matt thaiss               46\n",
       "matt vierling            261\n",
       "matt wallner              32\n",
       "matthew batten            13\n",
       "mauricio dubón           221\n",
       "max kepler               326\n",
       "max muncy                328\n",
       "max schrock               20\n",
       "max stassi               222\n",
       "meibrys viloria           35\n",
       "michael brantley         212\n",
       "michael chavis           278\n",
       "michael harris           307\n",
       "michael hermosillo        35\n",
       "michael massey           130\n",
       "michael papierski         67\n",
       "michael perez             90\n",
       "michael siani             17\n",
       "michael stefanic          50\n",
       "michael taylor           309\n",
       "michael toglia            67\n",
       "mickey mcdonald            1\n",
       "mickey moniak             63\n",
       "miguel andújar           107\n",
       "miguel cabrera           299\n",
       "miguel rojas             413\n",
       "miguel sanó               36\n",
       "miguel vargas             35\n",
       "mike brosseau             93\n",
       "mike ford                 91\n",
       "mike moustakas           180\n",
       "mike trout               300\n",
       "mike yastrzemski         350\n",
       "mike zunino               70\n",
       "miles mastrobuoni         10\n",
       "mitch garver             137\n",
       "mitch haniger            161\n",
       "mj melendez              334\n",
       "monte harrison             3\n",
       "mookie betts             469\n",
       "myles straw              452\n",
       "narciso crook              6\n",
       "nate eaton                80\n",
       "nate mondou                1\n",
       "nathaniel lowe           445\n",
       "nelson cruz              328\n",
       "nelson velázquez         117\n",
       "nick ahmed                37\n",
       "nick allen               242\n",
       "nick castellanos         394\n",
       "nick fortes              170\n",
       "nick gordon              309\n",
       "nick madrigal            179\n",
       "nick maton                45\n",
       "nick plummer              17\n",
       "nick pratto               96\n",
       "nick senzel              298\n",
       "nick solak                64\n",
       "nicky lopez              384\n",
       "nico hoerner             417\n",
       "niko goodrum              20\n",
       "nolan arenado            488\n",
       "nolan gorman             180\n",
       "nolan jones               55\n",
       "nomar mazara             119\n",
       "odúbel herrera           141\n",
       "omar narváez             206\n",
       "oneil cruz               205\n",
       "orlando arcia            159\n",
       "oscar gonzalez           287\n",
       "oscar mercado             93\n",
       "oswald peraza             40\n",
       "oswaldo cabrera          112\n",
       "otto lopez                 8\n",
       "owen miller              339\n",
       "ozzie albies             204\n",
       "p. j. higgins            145\n",
       "pablo reyes               13\n",
       "patrick mazeika           61\n",
       "patrick wisdom           285\n",
       "paul dejong              133\n",
       "paul goldschmidt         422\n",
       "pavin smith              181\n",
       "payton henry              20\n",
       "pedro severino            11\n",
       "pete alonso              478\n",
       "peyton burdick            57\n",
       "philip gosselin           50\n",
       "rafael devers            442\n",
       "rafael ortega            249\n",
       "raimel tapia             333\n",
       "ramón laureano           242\n",
       "ramón urías              310\n",
       "randal grichuk           378\n",
       "randy arozarena          430\n",
       "reese mcguire            202\n",
       "reiver sanmartin           1\n",
       "rené pinto                45\n",
       "rhys hoskins             423\n",
       "richie martin             20\n",
       "richie palacios           92\n",
       "riley adams               95\n",
       "riley greene             257\n",
       "rob brantly                3\n",
       "rob refsnyder            110\n",
       "robbie grossman          286\n",
       "roberto perez             35\n",
       "robinson canó             75\n",
       "robinson chirinos        130\n",
       "rodolfo castro           179\n",
       "roman quinn               43\n",
       "romy gonzalez             66\n",
       "ronald acuña             341\n",
       "ronald guzmán              1\n",
       "ronnie dawson              1\n",
       "rougned odor             319\n",
       "rowdy tellez             409\n",
       "royce lewis               35\n",
       "ryan aguilar               9\n",
       "ryan jeffers             150\n",
       "ryan kreidler             55\n",
       "ryan mckenna             103\n",
       "ryan mcmahon             373\n",
       "ryan mountcastle         404\n",
       "ryan o'hearn              99\n",
       "rylan bannon               9\n",
       "salvador perez           339\n",
       "sam haggerty             126\n",
       "sam hilliard             119\n",
       "sam huff                  79\n",
       "sandy leon                46\n",
       "santiago espinal         385\n",
       "sean bouchard             50\n",
       "sean murphy              418\n",
       "sebastian rivero          17\n",
       "seby zavala              118\n",
       "seiya suzuki             286\n",
       "sergio alcántara         154\n",
       "seth beer                 79\n",
       "seth brown               354\n",
       "shea langeliers           91\n",
       "sheldon neuse            187\n",
       "shohei ohtani            427\n",
       "skye bolt                 76\n",
       "spencer steer             69\n",
       "spencer torkelson        262\n",
       "starling marte           369\n",
       "steele walker             10\n",
       "stephen piscotty          80\n",
       "stephen vogt             126\n",
       "steven duggar             32\n",
       "steven kwan              506\n",
       "steven souza              11\n",
       "stone garrett             50\n",
       "stuart fairchild          63\n",
       "símon muzziotti            6\n",
       "taylor jones               1\n",
       "taylor motter              3\n",
       "taylor trammell           71\n",
       "taylor walls             290\n",
       "taylor ward              379\n",
       "teoscar hernández        347\n",
       "terrance gore              5\n",
       "terrin vavra              71\n",
       "thairo estrada           403\n",
       "tim anderson             275\n",
       "tim beckham               16\n",
       "tim locastro              35\n",
       "tj friedl                191\n",
       "tom murphy                20\n",
       "tommy edman              465\n",
       "tommy la stella          153\n",
       "tommy pham               390\n",
       "tomás nido               221\n",
       "tony kemp                435\n",
       "tony wolters               1\n",
       "travis blankenhorn         2\n",
       "travis d'arnaud          303\n",
       "travis demeritte          58\n",
       "travis jankowski          45\n",
       "travis shaw               12\n",
       "travis swaggerty           5\n",
       "trayce thompson          128\n",
       "trea turner              524\n",
       "trent grisham            309\n",
       "tres barrera              35\n",
       "trevor larnach           105\n",
       "trevor story             239\n",
       "trey mancini             388\n",
       "triston casas             53\n",
       "tucker barnhart          206\n",
       "tucupita marcano         122\n",
       "ty france                456\n",
       "tyler freeman             65\n",
       "tyler heineman           144\n",
       "tyler naquin             216\n",
       "tyler nevin              113\n",
       "tyler o'neill            237\n",
       "tyler stephenson         121\n",
       "tyler wade               119\n",
       "tyrone taylor            273\n",
       "vaughn grissom           108\n",
       "victor caratini          207\n",
       "victor reyes             242\n",
       "victor robles            277\n",
       "vidal bruján             112\n",
       "vimael machín            179\n",
       "vinnie pasquantino       225\n",
       "vinny capra                4\n",
       "vladimir guerrero        521\n",
       "wander franco            285\n",
       "whit merrifield          426\n",
       "wil myers                176\n",
       "will benson               37\n",
       "will brennan              37\n",
       "will smith               416\n",
       "willi castro             286\n",
       "william contreras        231\n",
       "willians astudillo        51\n",
       "willie calhoun            43\n",
       "willson contreras        309\n",
       "willy adames             401\n",
       "wilmer difo                5\n",
       "wilmer flores            429\n",
       "wynton bernard            34\n",
       "xander bogaerts          444\n",
       "yadiel hernández         230\n",
       "yadier molina            223\n",
       "yainer diaz                6\n",
       "yairo munoz               47\n",
       "yan gomes                232\n",
       "yandy díaz               409\n",
       "yasmani grandal          250\n",
       "yermín mercedes           56\n",
       "yonathan daza            319\n",
       "yonny hernandez           22\n",
       "yordan alvarez           370\n",
       "yoshi tsutsugo           124\n",
       "yoán moncada             283\n",
       "yu chang                 111\n",
       "yuli gurriel             472\n",
       "zach mckinstry           116\n",
       "zach reks                 24\n",
       "zack collins              57\n",
       "zack short                 6\n",
       "Name: woba_value, dtype: int64"
      ]
     },
     "execution_count": 76,
     "metadata": {},
     "output_type": "execute_result"
    }
   ],
   "source": [
    "bbe.groupby('batter_name')['woba_value'].count()"
   ]
  },
  {
   "cell_type": "code",
   "execution_count": null,
   "metadata": {},
   "outputs": [
    {
     "data": {
      "text/plain": [
       "677"
      ]
     },
     "execution_count": 77,
     "metadata": {},
     "output_type": "execute_result"
    }
   ],
   "source": [
    "df.loc[(df['batter_name']=='aaron judge') & (df['woba_value'].notna())].events.count()"
   ]
  },
  {
   "cell_type": "code",
   "execution_count": null,
   "metadata": {},
   "outputs": [
    {
     "data": {
      "text/plain": [
       "field_out                    190\n",
       "strikeout                    175\n",
       "walk                          92\n",
       "single                        87\n",
       "home_run                      62\n",
       "double                        28\n",
       "grounded_into_double_play     14\n",
       "force_out                     11\n",
       "hit_by_pitch                   6\n",
       "sac_fly                        5\n",
       "catcher_interf                 4\n",
       "double_play                    1\n",
       "fielders_choice                1\n",
       "field_error                    1\n",
       "Name: events, dtype: int64"
      ]
     },
     "execution_count": 78,
     "metadata": {},
     "output_type": "execute_result"
    }
   ],
   "source": [
    "df.loc[(df['batter_name']=='aaron judge')].events.value_counts()"
   ]
  },
  {
   "cell_type": "code",
   "execution_count": null,
   "metadata": {},
   "outputs": [
    {
     "data": {
      "text/plain": [
       "woba_value                         0.371283\n",
       "estimated_woba_using_speedangle    0.358557\n",
       "sxwOBA                             0.371275\n",
       "dtype: float64"
      ]
     },
     "execution_count": 79,
     "metadata": {},
     "output_type": "execute_result"
    }
   ],
   "source": [
    "bbe[['woba_value', 'estimated_woba_using_speedangle', 'sxwOBA']].mean()"
   ]
  },
  {
   "cell_type": "code",
   "execution_count": null,
   "metadata": {},
   "outputs": [
    {
     "data": {
      "text/plain": [
       "woba_value                         0.317084\n",
       "estimated_woba_using_speedangle    0.358557\n",
       "dtype: float64"
      ]
     },
     "execution_count": 80,
     "metadata": {},
     "output_type": "execute_result"
    }
   ],
   "source": [
    "df[['woba_value', 'estimated_woba_using_speedangle']].mean()"
   ]
  },
  {
   "cell_type": "code",
   "execution_count": null,
   "metadata": {},
   "outputs": [
    {
     "data": {
      "text/html": [
       "<div>\n",
       "<style scoped>\n",
       "    .dataframe tbody tr th:only-of-type {\n",
       "        vertical-align: middle;\n",
       "    }\n",
       "\n",
       "    .dataframe tbody tr th {\n",
       "        vertical-align: top;\n",
       "    }\n",
       "\n",
       "    .dataframe thead th {\n",
       "        text-align: right;\n",
       "    }\n",
       "</style>\n",
       "<table border=\"1\" class=\"dataframe\">\n",
       "  <thead>\n",
       "    <tr style=\"text-align: right;\">\n",
       "      <th></th>\n",
       "      <th>batter_name</th>\n",
       "      <th>batter_id</th>\n",
       "      <th>PA</th>\n",
       "      <th>wOBA</th>\n",
       "      <th>xwOBA</th>\n",
       "      <th>sxwOBA</th>\n",
       "      <th>diff</th>\n",
       "      <th>diff %</th>\n",
       "      <th>BB%</th>\n",
       "      <th>K%</th>\n",
       "      <th>Barrels</th>\n",
       "      <th>pulled_barrels</th>\n",
       "    </tr>\n",
       "  </thead>\n",
       "  <tbody>\n",
       "    <tr>\n",
       "      <th>1</th>\n",
       "      <td>aaron judge</td>\n",
       "      <td>592450</td>\n",
       "      <td>696</td>\n",
       "      <td>0.458</td>\n",
       "      <td>0.463</td>\n",
       "      <td>0.470</td>\n",
       "      <td>0.007</td>\n",
       "      <td>1.44</td>\n",
       "      <td>15.9</td>\n",
       "      <td>25.1</td>\n",
       "      <td>106.0</td>\n",
       "      <td>45.0</td>\n",
       "    </tr>\n",
       "    <tr>\n",
       "      <th>676</th>\n",
       "      <td>yordan alvarez</td>\n",
       "      <td>670541</td>\n",
       "      <td>561</td>\n",
       "      <td>0.427</td>\n",
       "      <td>0.462</td>\n",
       "      <td>0.432</td>\n",
       "      <td>-0.030</td>\n",
       "      <td>-6.56</td>\n",
       "      <td>13.9</td>\n",
       "      <td>18.9</td>\n",
       "      <td>78.0</td>\n",
       "      <td>29.0</td>\n",
       "    </tr>\n",
       "    <tr>\n",
       "      <th>16</th>\n",
       "      <td>albert pujols</td>\n",
       "      <td>405395</td>\n",
       "      <td>351</td>\n",
       "      <td>0.380</td>\n",
       "      <td>0.365</td>\n",
       "      <td>0.406</td>\n",
       "      <td>0.041</td>\n",
       "      <td>11.17</td>\n",
       "      <td>8.0</td>\n",
       "      <td>15.7</td>\n",
       "      <td>31.0</td>\n",
       "      <td>23.0</td>\n",
       "    </tr>\n",
       "    <tr>\n",
       "      <th>471</th>\n",
       "      <td>mike trout</td>\n",
       "      <td>545361</td>\n",
       "      <td>499</td>\n",
       "      <td>0.418</td>\n",
       "      <td>0.395</td>\n",
       "      <td>0.403</td>\n",
       "      <td>0.008</td>\n",
       "      <td>2.00</td>\n",
       "      <td>10.8</td>\n",
       "      <td>27.9</td>\n",
       "      <td>59.0</td>\n",
       "      <td>23.0</td>\n",
       "    </tr>\n",
       "    <tr>\n",
       "      <th>216</th>\n",
       "      <td>freddie freeman</td>\n",
       "      <td>518692</td>\n",
       "      <td>708</td>\n",
       "      <td>0.393</td>\n",
       "      <td>0.403</td>\n",
       "      <td>0.399</td>\n",
       "      <td>-0.004</td>\n",
       "      <td>-1.00</td>\n",
       "      <td>11.9</td>\n",
       "      <td>14.4</td>\n",
       "      <td>52.0</td>\n",
       "      <td>21.0</td>\n",
       "    </tr>\n",
       "  </tbody>\n",
       "</table>\n",
       "</div>"
      ],
      "text/plain": [
       "         batter_name  batter_id   PA   wOBA  xwOBA  sxwOBA   diff  diff %  \\\n",
       "1        aaron judge     592450  696  0.458  0.463   0.470  0.007    1.44   \n",
       "676   yordan alvarez     670541  561  0.427  0.462   0.432 -0.030   -6.56   \n",
       "16     albert pujols     405395  351  0.380  0.365   0.406  0.041   11.17   \n",
       "471       mike trout     545361  499  0.418  0.395   0.403  0.008    2.00   \n",
       "216  freddie freeman     518692  708  0.393  0.403   0.399 -0.004   -1.00   \n",
       "\n",
       "      BB%    K%  Barrels  pulled_barrels  \n",
       "1    15.9  25.1    106.0            45.0  \n",
       "676  13.9  18.9     78.0            29.0  \n",
       "16    8.0  15.7     31.0            23.0  \n",
       "471  10.8  27.9     59.0            23.0  \n",
       "216  11.9  14.4     52.0            21.0  "
      ]
     },
     "execution_count": 81,
     "metadata": {},
     "output_type": "execute_result"
    }
   ],
   "source": [
    "leaders.loc[leaders['PA'] > 250].sort_values('sxwOBA', ascending=False).head(5)"
   ]
  },
  {
   "cell_type": "code",
   "execution_count": null,
   "metadata": {},
   "outputs": [
    {
     "data": {
      "text/html": [
       "<div>\n",
       "<style scoped>\n",
       "    .dataframe tbody tr th:only-of-type {\n",
       "        vertical-align: middle;\n",
       "    }\n",
       "\n",
       "    .dataframe tbody tr th {\n",
       "        vertical-align: top;\n",
       "    }\n",
       "\n",
       "    .dataframe thead th {\n",
       "        text-align: right;\n",
       "    }\n",
       "</style>\n",
       "<table border=\"1\" class=\"dataframe\">\n",
       "  <thead>\n",
       "    <tr style=\"text-align: right;\">\n",
       "      <th></th>\n",
       "      <th>batter_name</th>\n",
       "      <th>batter_id</th>\n",
       "      <th>PA</th>\n",
       "      <th>wOBA</th>\n",
       "      <th>xwOBA</th>\n",
       "      <th>sxwOBA</th>\n",
       "      <th>diff</th>\n",
       "      <th>diff %</th>\n",
       "      <th>BB%</th>\n",
       "      <th>K%</th>\n",
       "      <th>Barrels</th>\n",
       "      <th>pulled_barrels</th>\n",
       "    </tr>\n",
       "  </thead>\n",
       "  <tbody>\n",
       "    <tr>\n",
       "      <th>1</th>\n",
       "      <td>aaron judge</td>\n",
       "      <td>592450</td>\n",
       "      <td>696</td>\n",
       "      <td>0.458</td>\n",
       "      <td>0.463</td>\n",
       "      <td>0.470</td>\n",
       "      <td>0.007</td>\n",
       "      <td>1.44</td>\n",
       "      <td>15.9</td>\n",
       "      <td>25.1</td>\n",
       "      <td>106.0</td>\n",
       "      <td>45.0</td>\n",
       "    </tr>\n",
       "    <tr>\n",
       "      <th>676</th>\n",
       "      <td>yordan alvarez</td>\n",
       "      <td>670541</td>\n",
       "      <td>561</td>\n",
       "      <td>0.427</td>\n",
       "      <td>0.462</td>\n",
       "      <td>0.432</td>\n",
       "      <td>-0.030</td>\n",
       "      <td>-6.56</td>\n",
       "      <td>13.9</td>\n",
       "      <td>18.9</td>\n",
       "      <td>78.0</td>\n",
       "      <td>29.0</td>\n",
       "    </tr>\n",
       "    <tr>\n",
       "      <th>216</th>\n",
       "      <td>freddie freeman</td>\n",
       "      <td>518692</td>\n",
       "      <td>708</td>\n",
       "      <td>0.393</td>\n",
       "      <td>0.403</td>\n",
       "      <td>0.399</td>\n",
       "      <td>-0.004</td>\n",
       "      <td>-1.00</td>\n",
       "      <td>11.9</td>\n",
       "      <td>14.4</td>\n",
       "      <td>52.0</td>\n",
       "      <td>21.0</td>\n",
       "    </tr>\n",
       "    <tr>\n",
       "      <th>351</th>\n",
       "      <td>juan soto</td>\n",
       "      <td>665742</td>\n",
       "      <td>664</td>\n",
       "      <td>0.376</td>\n",
       "      <td>0.401</td>\n",
       "      <td>0.391</td>\n",
       "      <td>-0.010</td>\n",
       "      <td>-2.41</td>\n",
       "      <td>20.3</td>\n",
       "      <td>14.5</td>\n",
       "      <td>53.0</td>\n",
       "      <td>23.0</td>\n",
       "    </tr>\n",
       "    <tr>\n",
       "      <th>471</th>\n",
       "      <td>mike trout</td>\n",
       "      <td>545361</td>\n",
       "      <td>499</td>\n",
       "      <td>0.418</td>\n",
       "      <td>0.395</td>\n",
       "      <td>0.403</td>\n",
       "      <td>0.008</td>\n",
       "      <td>2.00</td>\n",
       "      <td>10.8</td>\n",
       "      <td>27.9</td>\n",
       "      <td>59.0</td>\n",
       "      <td>23.0</td>\n",
       "    </tr>\n",
       "  </tbody>\n",
       "</table>\n",
       "</div>"
      ],
      "text/plain": [
       "         batter_name  batter_id   PA   wOBA  xwOBA  sxwOBA   diff  diff %  \\\n",
       "1        aaron judge     592450  696  0.458  0.463   0.470  0.007    1.44   \n",
       "676   yordan alvarez     670541  561  0.427  0.462   0.432 -0.030   -6.56   \n",
       "216  freddie freeman     518692  708  0.393  0.403   0.399 -0.004   -1.00   \n",
       "351        juan soto     665742  664  0.376  0.401   0.391 -0.010   -2.41   \n",
       "471       mike trout     545361  499  0.418  0.395   0.403  0.008    2.00   \n",
       "\n",
       "      BB%    K%  Barrels  pulled_barrels  \n",
       "1    15.9  25.1    106.0            45.0  \n",
       "676  13.9  18.9     78.0            29.0  \n",
       "216  11.9  14.4     52.0            21.0  \n",
       "351  20.3  14.5     53.0            23.0  \n",
       "471  10.8  27.9     59.0            23.0  "
      ]
     },
     "execution_count": 82,
     "metadata": {},
     "output_type": "execute_result"
    }
   ],
   "source": [
    "leaders.loc[leaders['PA'] > 400].sort_values('xwOBA', ascending=False).head(5)"
   ]
  },
  {
   "cell_type": "code",
   "execution_count": null,
   "metadata": {},
   "outputs": [
    {
     "name": "stdout",
     "output_type": "stream",
     "text": [
      "rmse (xwOBA): 0.044283714923292146\n",
      "rmse (sxwOBA): 0.03856037113698754\n"
     ]
    }
   ],
   "source": [
    "leaders = leaders.dropna(subset=['sxwOBA'])\n",
    "from sklearn.metrics import mean_squared_error\n",
    "print(\"rmse (xwOBA): \" + str(np.sqrt(mean_squared_error(leaders['wOBA'], leaders['xwOBA']))))\n",
    "print(\"rmse (sxwOBA): \" + str(np.sqrt(mean_squared_error(leaders['wOBA'], leaders['sxwOBA']))))"
   ]
  },
  {
   "cell_type": "code",
   "execution_count": null,
   "metadata": {},
   "outputs": [
    {
     "name": "stdout",
     "output_type": "stream",
     "text": [
      "mae (xwOBA): 0.1688611088263786\n",
      "mae (sxwOBA): 0.15941095273491043\n"
     ]
    }
   ],
   "source": [
    "from sklearn.metrics import mean_absolute_error\n",
    "print(\"mae (xwOBA): \" + str(np.sqrt(mean_absolute_error(leaders['wOBA'], leaders['xwOBA']))))\n",
    "print(\"mae (sxwOBA): \" + str(np.sqrt(mean_absolute_error(leaders['wOBA'], leaders['sxwOBA']))))"
   ]
  },
  {
   "cell_type": "code",
   "execution_count": null,
   "metadata": {},
   "outputs": [],
   "source": [
    "leaders['absolute_error_xwoba'] = np.abs(leaders['wOBA'].sub(leaders['xwOBA']))\n",
    "leaders['absolute_error_sxwoba'] = np.abs(leaders['wOBA'].sub(leaders['sxwOBA']))"
   ]
  },
  {
   "cell_type": "code",
   "execution_count": null,
   "metadata": {},
   "outputs": [
    {
     "data": {
      "application/vnd.plotly.v1+json": {
       "config": {
        "plotlyServerURL": "https://plotly.com"
       },
       "data": [
        {
         "customdata": [
          [
           "aaron hicks"
          ],
          [
           "aaron judge"
          ],
          [
           "abraham toro"
          ],
          [
           "adam duvall"
          ],
          [
           "adam frazier"
          ],
          [
           "adley rutschman"
          ],
          [
           "adolis garcía"
          ],
          [
           "aj pollock"
          ],
          [
           "albert pujols"
          ],
          [
           "alec bohm"
          ],
          [
           "aledmys díaz"
          ],
          [
           "alejandro kirk"
          ],
          [
           "alek thomas"
          ],
          [
           "alex bregman"
          ],
          [
           "alex verdugo"
          ],
          [
           "amed rosario"
          ],
          [
           "andrew benintendi"
          ],
          [
           "andrew mccutchen"
          ],
          [
           "andrew vaughn"
          ],
          [
           "andrew velazquez"
          ],
          [
           "andrés giménez"
          ],
          [
           "anthony rizzo"
          ],
          [
           "anthony santander"
          ],
          [
           "austin hays"
          ],
          [
           "austin hedges"
          ],
          [
           "austin nola"
          ],
          [
           "austin riley"
          ],
          [
           "austin slater"
          ],
          [
           "avisaíl garcía"
          ],
          [
           "ben gamel"
          ],
          [
           "bo bichette"
          ],
          [
           "bobby dalbec"
          ],
          [
           "bobby witt"
          ],
          [
           "brandon crawford"
          ],
          [
           "brandon drury"
          ],
          [
           "brandon marsh"
          ],
          [
           "brandon nimmo"
          ],
          [
           "brendan donovan"
          ],
          [
           "brendan rodgers"
          ],
          [
           "brian anderson"
          ],
          [
           "bryan de la cruz"
          ],
          [
           "bryan reynolds"
          ],
          [
           "bryce harper"
          ],
          [
           "bryson stott"
          ],
          [
           "byron buxton"
          ],
          [
           "c. j. cron"
          ],
          [
           "cal raleigh"
          ],
          [
           "carlos correa"
          ],
          [
           "carlos santana"
          ],
          [
           "carson kelly"
          ],
          [
           "cavan biggio"
          ],
          [
           "cedric mullins"
          ],
          [
           "chad pinder"
          ],
          [
           "charlie blackmon"
          ],
          [
           "chas mccormick"
          ],
          [
           "chris taylor"
          ],
          [
           "christian bethancourt"
          ],
          [
           "christian vázquez"
          ],
          [
           "christian walker"
          ],
          [
           "christian yelich"
          ],
          [
           "christopher morel"
          ],
          [
           "cj abrams"
          ],
          [
           "cody bellinger"
          ],
          [
           "connor joe"
          ],
          [
           "corey seager"
          ],
          [
           "césar hernández"
          ],
          [
           "dan vogelbach"
          ],
          [
           "dansby swanson"
          ],
          [
           "darin ruf"
          ],
          [
           "daulton varsho"
          ],
          [
           "david peralta"
          ],
          [
           "dj lemahieu"
          ],
          [
           "donovan solano"
          ],
          [
           "dylan carlson"
          ],
          [
           "eduardo escobar"
          ],
          [
           "elias díaz"
          ],
          [
           "eloy jiménez"
          ],
          [
           "elvis andrus"
          ],
          [
           "emmanuel rivera"
          ],
          [
           "enrique hernández"
          ],
          [
           "eric haase"
          ],
          [
           "eric hosmer"
          ],
          [
           "eugenio suárez"
          ],
          [
           "francisco lindor"
          ],
          [
           "franmil reyes"
          ],
          [
           "freddie freeman"
          ],
          [
           "garrett cooper"
          ],
          [
           "gary sanchez"
          ],
          [
           "gavin lux"
          ],
          [
           "gavin sheets"
          ],
          [
           "george springer"
          ],
          [
           "geraldo perdomo"
          ],
          [
           "giancarlo stanton"
          ],
          [
           "gilberto celestino"
          ],
          [
           "gio urshela"
          ],
          [
           "gleyber torres"
          ],
          [
           "ha-seong kim"
          ],
          [
           "harold castro"
          ],
          [
           "harold ramírez"
          ],
          [
           "harrison bader"
          ],
          [
           "hunter dozier"
          ],
          [
           "hunter renfroe"
          ],
          [
           "ian happ"
          ],
          [
           "isaac paredes"
          ],
          [
           "isiah kiner-falefa"
          ],
          [
           "j. d. davis"
          ],
          [
           "j. d. martinez"
          ],
          [
           "j. p. crawford"
          ],
          [
           "j. t. realmuto"
          ],
          [
           "jace peterson"
          ],
          [
           "jack suwinski"
          ],
          [
           "jackie bradley"
          ],
          [
           "jacob stallings"
          ],
          [
           "jake cronenworth"
          ],
          [
           "jake mccarthy"
          ],
          [
           "jared walsh"
          ],
          [
           "javier báez"
          ],
          [
           "jean segura"
          ],
          [
           "jeff mcneil"
          ],
          [
           "jeimer candelario"
          ],
          [
           "jeremy peña"
          ],
          [
           "jesse winker"
          ],
          [
           "jesús aguilar"
          ],
          [
           "jesús sánchez"
          ],
          [
           "ji-man choi"
          ],
          [
           "joc pederson"
          ],
          [
           "joey gallo"
          ],
          [
           "joey votto"
          ],
          [
           "joey wendle"
          ],
          [
           "jon berti"
          ],
          [
           "jonah heim"
          ],
          [
           "jonathan india"
          ],
          [
           "jonathan schoop"
          ],
          [
           "jorge mateo"
          ],
          [
           "jorge polanco"
          ],
          [
           "jorge soler"
          ],
          [
           "jose altuve"
          ],
          [
           "jose miranda"
          ],
          [
           "jose siri"
          ],
          [
           "jose trevino"
          ],
          [
           "josh bell"
          ],
          [
           "josh donaldson"
          ],
          [
           "josh harrison"
          ],
          [
           "josh naylor"
          ],
          [
           "josh rojas"
          ],
          [
           "josé abreu"
          ],
          [
           "josé iglesias"
          ],
          [
           "josé ramírez"
          ],
          [
           "juan soto"
          ],
          [
           "julio rodríguez"
          ],
          [
           "jurickson profar"
          ],
          [
           "justin turner"
          ],
          [
           "ke'bryan hayes"
          ],
          [
           "keibert ruiz"
          ],
          [
           "ketel marte"
          ],
          [
           "kevin newman"
          ],
          [
           "kole calhoun"
          ],
          [
           "kolten wong"
          ],
          [
           "kyle farmer"
          ],
          [
           "kyle schwarber"
          ],
          [
           "kyle tucker"
          ],
          [
           "lane thomas"
          ],
          [
           "lars nootbaar"
          ],
          [
           "leody taveras"
          ],
          [
           "leury garcia"
          ],
          [
           "lourdes gurriel"
          ],
          [
           "luis arraez"
          ],
          [
           "luis garcía"
          ],
          [
           "luis gonzález"
          ],
          [
           "luis guillorme"
          ],
          [
           "luis rengifo"
          ],
          [
           "luis robert"
          ],
          [
           "luis urías"
          ],
          [
           "luke voit"
          ],
          [
           "maikel franco"
          ],
          [
           "manny machado"
          ],
          [
           "manuel margot"
          ],
          [
           "marcell ozuna"
          ],
          [
           "marcus semien"
          ],
          [
           "mark canha"
          ],
          [
           "martín maldonado"
          ],
          [
           "matt chapman"
          ],
          [
           "matt olson"
          ],
          [
           "matt vierling"
          ],
          [
           "max kepler"
          ],
          [
           "max muncy"
          ],
          [
           "max stassi"
          ],
          [
           "michael chavis"
          ],
          [
           "michael harris"
          ],
          [
           "michael taylor"
          ],
          [
           "miguel cabrera"
          ],
          [
           "miguel rojas"
          ],
          [
           "mike trout"
          ],
          [
           "mike yastrzemski"
          ],
          [
           "mj melendez"
          ],
          [
           "mookie betts"
          ],
          [
           "myles straw"
          ],
          [
           "nathaniel lowe"
          ],
          [
           "nelson cruz"
          ],
          [
           "nick allen"
          ],
          [
           "nick castellanos"
          ],
          [
           "nick gordon"
          ],
          [
           "nick senzel"
          ],
          [
           "nicky lopez"
          ],
          [
           "nico hoerner"
          ],
          [
           "nolan arenado"
          ],
          [
           "nolan gorman"
          ],
          [
           "oneil cruz"
          ],
          [
           "oscar gonzalez"
          ],
          [
           "owen miller"
          ],
          [
           "patrick wisdom"
          ],
          [
           "paul goldschmidt"
          ],
          [
           "pete alonso"
          ],
          [
           "rafael devers"
          ],
          [
           "rafael ortega"
          ],
          [
           "raimel tapia"
          ],
          [
           "ramón laureano"
          ],
          [
           "ramón urías"
          ],
          [
           "randal grichuk"
          ],
          [
           "randy arozarena"
          ],
          [
           "rhys hoskins"
          ],
          [
           "riley greene"
          ],
          [
           "robbie grossman"
          ],
          [
           "ronald acuña"
          ],
          [
           "rougned odor"
          ],
          [
           "rowdy tellez"
          ],
          [
           "ryan mcmahon"
          ],
          [
           "ryan mountcastle"
          ],
          [
           "salvador perez"
          ],
          [
           "santiago espinal"
          ],
          [
           "sean murphy"
          ],
          [
           "seiya suzuki"
          ],
          [
           "seth brown"
          ],
          [
           "shohei ohtani"
          ],
          [
           "spencer torkelson"
          ],
          [
           "starling marte"
          ],
          [
           "steven kwan"
          ],
          [
           "taylor walls"
          ],
          [
           "taylor ward"
          ],
          [
           "teoscar hernández"
          ],
          [
           "thairo estrada"
          ],
          [
           "tim anderson"
          ],
          [
           "tommy edman"
          ],
          [
           "tommy pham"
          ],
          [
           "tomás nido"
          ],
          [
           "tony kemp"
          ],
          [
           "travis d'arnaud"
          ],
          [
           "trea turner"
          ],
          [
           "trent grisham"
          ],
          [
           "trevor story"
          ],
          [
           "trey mancini"
          ],
          [
           "tucker barnhart"
          ],
          [
           "ty france"
          ],
          [
           "tyler naquin"
          ],
          [
           "tyler o'neill"
          ],
          [
           "tyrone taylor"
          ],
          [
           "victor caratini"
          ],
          [
           "victor reyes"
          ],
          [
           "victor robles"
          ],
          [
           "vladimir guerrero"
          ],
          [
           "wander franco"
          ],
          [
           "whit merrifield"
          ],
          [
           "will smith"
          ],
          [
           "willi castro"
          ],
          [
           "william contreras"
          ],
          [
           "willson contreras"
          ],
          [
           "willy adames"
          ],
          [
           "wilmer flores"
          ],
          [
           "xander bogaerts"
          ],
          [
           "yadiel hernández"
          ],
          [
           "yandy díaz"
          ],
          [
           "yasmani grandal"
          ],
          [
           "yonathan daza"
          ],
          [
           "yordan alvarez"
          ],
          [
           "yoán moncada"
          ],
          [
           "yuli gurriel"
          ]
         ],
         "hovertemplate": "absolute_error_xwoba=%{x}<br>absolute_error_sxwoba=%{y}<br>batter_name=%{customdata[0]}<br>PA=%{marker.color}<extra></extra>",
         "legendgroup": "",
         "marker": {
          "color": [
           453,
           696,
           352,
           315,
           602,
           470,
           657,
           527,
           351,
           631,
           327,
           541,
           411,
           656,
           644,
           670,
           521,
           580,
           555,
           349,
           557,
           548,
           647,
           582,
           338,
           397,
           693,
           325,
           380,
           423,
           697,
           353,
           632,
           458,
           568,
           461,
           673,
           468,
           581,
           383,
           355,
           614,
           426,
           466,
           382,
           632,
           415,
           590,
           506,
           354,
           303,
           672,
           379,
           577,
           407,
           454,
           333,
           426,
           667,
           671,
           425,
           302,
           550,
           467,
           663,
           617,
           461,
           696,
           388,
           592,
           490,
           541,
           304,
           488,
           542,
           381,
           327,
           577,
           359,
           402,
           351,
           419,
           629,
           706,
           473,
           708,
           469,
           471,
           471,
           410,
           583,
           500,
           452,
           347,
           551,
           572,
           582,
           443,
           435,
           313,
           500,
           522,
           641,
           381,
           531,
           365,
           596,
           603,
           562,
           328,
           372,
           370,
           384,
           684,
           354,
           454,
           590,
           387,
           589,
           467,
           558,
           547,
           507,
           343,
           419,
           433,
           410,
           376,
           371,
           404,
           450,
           431,
           510,
           533,
           445,
           306,
           604,
           483,
           325,
           353,
           647,
           546,
           425,
           498,
           510,
           679,
           467,
           685,
           664,
           560,
           658,
           532,
           560,
           433,
           558,
           309,
           424,
           497,
           583,
           669,
           609,
           548,
           347,
           341,
           315,
           493,
           603,
           377,
           350,
           335,
           511,
           401,
           472,
           568,
           388,
           644,
           363,
           507,
           724,
           542,
           379,
           621,
           699,
           357,
           446,
           565,
           375,
           426,
           441,
           456,
           433,
           507,
           499,
           558,
           534,
           639,
           596,
           645,
           507,
           326,
           558,
           443,
           420,
           480,
           517,
           620,
           313,
           361,
           382,
           472,
           534,
           651,
           685,
           614,
           371,
           433,
           383,
           445,
           538,
           645,
           672,
           418,
           477,
           533,
           472,
           599,
           597,
           609,
           473,
           491,
           612,
           446,
           555,
           666,
           404,
           505,
           638,
           466,
           564,
           535,
           541,
           351,
           630,
           622,
           313,
           558,
           426,
           708,
           524,
           396,
           587,
           308,
           613,
           334,
           383,
           405,
           314,
           336,
           407,
           706,
           344,
           550,
           578,
           392,
           376,
           487,
           617,
           602,
           631,
           327,
           558,
           376,
           408,
           561,
           433,
           584
          ],
          "coloraxis": "coloraxis",
          "symbol": "circle"
         },
         "mode": "markers",
         "name": "",
         "orientation": "v",
         "showlegend": false,
         "type": "scatter",
         "x": [
          0.01100000000000001,
          0.0050000000000000044,
          0.03799999999999998,
          0.0020000000000000018,
          0.022999999999999965,
          0.011999999999999955,
          0.0020000000000000018,
          0.020000000000000018,
          0.015000000000000013,
          0.02300000000000002,
          0.007000000000000006,
          0.0040000000000000036,
          0.0050000000000000044,
          0.008000000000000007,
          0.010000000000000009,
          0.0010000000000000009,
          0.008000000000000007,
          0.016000000000000014,
          0.008000000000000007,
          0.007000000000000006,
          0.03799999999999998,
          0.0030000000000000027,
          0.01599999999999996,
          0.016000000000000014,
          0.014999999999999986,
          0.015000000000000013,
          0.0010000000000000009,
          0.007000000000000006,
          0.02300000000000002,
          0.008000000000000007,
          0.012999999999999956,
          0.009000000000000008,
          0.0020000000000000018,
          0.0020000000000000018,
          0.033999999999999975,
          0.009000000000000008,
          0.010999999999999954,
          0.009999999999999953,
          0.0050000000000000044,
          0.016000000000000014,
          0.04199999999999998,
          0.019999999999999962,
          0.01100000000000001,
          0.0050000000000000044,
          0.0020000000000000018,
          0.014000000000000012,
          0.006000000000000005,
          0.0010000000000000009,
          0.043999999999999984,
          0.012999999999999956,
          0.014000000000000012,
          0.027000000000000024,
          0.0010000000000000009,
          0.016000000000000014,
          0.0010000000000000009,
          0.020999999999999963,
          0.017000000000000015,
          0.01100000000000001,
          0.013000000000000012,
          0.01100000000000001,
          0.0020000000000000018,
          0.0010000000000000009,
          0.00599999999999995,
          0.0030000000000000027,
          0.04099999999999998,
          0.007000000000000006,
          0.0010000000000000009,
          0,
          0.019000000000000017,
          0.025000000000000022,
          0.0020000000000000018,
          0.014999999999999958,
          0.0040000000000000036,
          0.0050000000000000044,
          0.0030000000000000027,
          0.009999999999999953,
          0.0050000000000000044,
          0.017000000000000015,
          0.0040000000000000036,
          0.01599999999999996,
          0.020000000000000018,
          0.0020000000000000018,
          0.004999999999999949,
          0.01100000000000001,
          0.0050000000000000044,
          0.010000000000000009,
          0.01100000000000001,
          0.031000000000000028,
          0.014000000000000012,
          0.025000000000000022,
          0.009999999999999953,
          0.016000000000000014,
          0.023999999999999966,
          0.010000000000000009,
          0.009000000000000008,
          0.009000000000000008,
          0.0040000000000000036,
          0.019000000000000017,
          0.013000000000000012,
          0.01599999999999996,
          0.0030000000000000027,
          0.023999999999999966,
          0.03300000000000003,
          0.026000000000000023,
          0.0050000000000000044,
          0.019999999999999962,
          0.00599999999999995,
          0.009000000000000008,
          0.0030000000000000027,
          0.0030000000000000027,
          0.0040000000000000036,
          0.016000000000000014,
          0.009000000000000008,
          0.015000000000000013,
          0.039000000000000035,
          0.0020000000000000018,
          0.006000000000000005,
          0.017000000000000015,
          0.04199999999999998,
          0.014999999999999958,
          0.009000000000000008,
          0.03199999999999997,
          0.010000000000000009,
          0,
          0.015000000000000013,
          0.006000000000000005,
          0.009000000000000008,
          0.01200000000000001,
          0.012999999999999956,
          0.008000000000000007,
          0.015000000000000013,
          0.013000000000000012,
          0.02300000000000002,
          0.009000000000000008,
          0.024999999999999967,
          0.017000000000000015,
          0.04300000000000004,
          0.01200000000000001,
          0.007000000000000006,
          0.011999999999999955,
          0.0050000000000000044,
          0.0030000000000000027,
          0.02100000000000002,
          0.0040000000000000036,
          0.018000000000000016,
          0.01200000000000001,
          0.030999999999999972,
          0.04299999999999998,
          0.025000000000000022,
          0.02899999999999997,
          0.0050000000000000044,
          0.0040000000000000036,
          0.009000000000000008,
          0.029000000000000026,
          0.0020000000000000018,
          0.018000000000000016,
          0.033999999999999975,
          0.031000000000000028,
          0.0020000000000000018,
          0.020000000000000018,
          0.0050000000000000044,
          0.02200000000000002,
          0.003999999999999948,
          0.02699999999999997,
          0.037000000000000005,
          0.006000000000000005,
          0.01699999999999996,
          0.0020000000000000018,
          0.033999999999999975,
          0.009000000000000008,
          0.018000000000000016,
          0.0030000000000000027,
          0.0010000000000000009,
          0.01100000000000001,
          0.01100000000000001,
          0.043999999999999984,
          0.009000000000000008,
          0.039000000000000035,
          0.01100000000000001,
          0.020000000000000018,
          0.01100000000000001,
          0.010000000000000009,
          0.0030000000000000027,
          0.04200000000000004,
          0.040000000000000036,
          0.02100000000000002,
          0.008000000000000007,
          0.020999999999999963,
          0.032999999999999974,
          0.008000000000000007,
          0,
          0.024999999999999967,
          0.022999999999999965,
          0.007000000000000006,
          0.02200000000000002,
          0.029000000000000026,
          0.018000000000000016,
          0.02400000000000002,
          0.028000000000000025,
          0.007000000000000006,
          0.0020000000000000018,
          0.01200000000000001,
          0.02699999999999997,
          0.02200000000000002,
          0.019000000000000017,
          0.04199999999999998,
          0.025000000000000022,
          0.016000000000000014,
          0.019000000000000017,
          0.0040000000000000036,
          0.02100000000000002,
          0.05199999999999999,
          0.01200000000000001,
          0.01200000000000001,
          0.0020000000000000018,
          0.007000000000000006,
          0.013000000000000012,
          0.007000000000000006,
          0.033999999999999975,
          0.03500000000000003,
          0.006999999999999951,
          0.013000000000000012,
          0.0019999999999999463,
          0.030999999999999972,
          0.0010000000000000009,
          0.021999999999999964,
          0.0040000000000000036,
          0.045999999999999985,
          0.0020000000000000018,
          0.007000000000000006,
          0.012999999999999956,
          0.007000000000000006,
          0.015000000000000013,
          0.015000000000000013,
          0.032999999999999974,
          0.01899999999999996,
          0.029000000000000026,
          0.018000000000000016,
          0.0010000000000000009,
          0.0030000000000000027,
          0.018000000000000016,
          0.017000000000000015,
          0.010000000000000009,
          0.007000000000000006,
          0.021999999999999964,
          0.019999999999999962,
          0.030000000000000027,
          0.014999999999999958,
          0.014999999999999958,
          0.015000000000000013,
          0.015000000000000013,
          0.009000000000000008,
          0.016000000000000014,
          0.014000000000000012,
          0.02400000000000002,
          0.007000000000000006,
          0.020000000000000018,
          0.008000000000000007,
          0.016000000000000014,
          0.0030000000000000027,
          0.008000000000000007,
          0.006000000000000005,
          0.0030000000000000027,
          0.0050000000000000044,
          0.02300000000000002,
          0.007000000000000006,
          0.0020000000000000018,
          0.0020000000000000018,
          0.03999999999999998,
          0.0050000000000000044,
          0.0010000000000000009,
          0.02699999999999997,
          0.015000000000000013,
          0.03500000000000003,
          0.013999999999999957,
          0.013999999999999957
         ],
         "xaxis": "x",
         "y": [
          0.02400000000000002,
          0.011999999999999955,
          0.03400000000000003,
          0.014000000000000012,
          0.034999999999999976,
          0.0030000000000000027,
          0.0020000000000000018,
          0.026000000000000023,
          0.026000000000000023,
          0.02200000000000002,
          0.008000000000000007,
          0.03200000000000003,
          0,
          0.018000000000000016,
          0.014000000000000012,
          0,
          0.009000000000000008,
          0.02300000000000002,
          0.01799999999999996,
          0.0010000000000000009,
          0.02699999999999997,
          0.0020000000000000018,
          0.023999999999999966,
          0.0030000000000000027,
          0.04200000000000001,
          0.02300000000000002,
          0.008000000000000007,
          0.0050000000000000044,
          0.01200000000000001,
          0.007000000000000006,
          0.007000000000000006,
          0.029000000000000026,
          0.0030000000000000027,
          0.0010000000000000009,
          0.022999999999999965,
          0.0010000000000000009,
          0.009000000000000008,
          0.0050000000000000044,
          0.016000000000000014,
          0.02400000000000002,
          0.028000000000000025,
          0.01799999999999996,
          0.0010000000000000009,
          0.0050000000000000044,
          0.017000000000000015,
          0.0010000000000000009,
          0.01100000000000001,
          0.010000000000000009,
          0.044999999999999984,
          0.023999999999999966,
          0.0030000000000000027,
          0.013000000000000012,
          0.0019999999999999463,
          0.0010000000000000009,
          0.015000000000000013,
          0.006000000000000005,
          0.020000000000000018,
          0.0040000000000000036,
          0.02100000000000002,
          0.008000000000000007,
          0.007000000000000006,
          0.0050000000000000044,
          0.006999999999999951,
          0.0040000000000000036,
          0.025999999999999968,
          0.02200000000000002,
          0.0040000000000000036,
          0.007000000000000006,
          0.030000000000000027,
          0.01100000000000001,
          0.01100000000000001,
          0.02699999999999997,
          0.0050000000000000044,
          0.008000000000000007,
          0.0050000000000000044,
          0.01100000000000001,
          0.028000000000000025,
          0.018000000000000016,
          0.016000000000000014,
          0.01799999999999996,
          0.01100000000000001,
          0.0020000000000000018,
          0.00599999999999995,
          0.0030000000000000027,
          0.006999999999999951,
          0.006000000000000005,
          0.02899999999999997,
          0.04500000000000004,
          0.020000000000000018,
          0.0040000000000000036,
          0.010000000000000009,
          0.027000000000000024,
          0.034999999999999976,
          0.01799999999999996,
          0.006000000000000005,
          0.0020000000000000018,
          0.010000000000000009,
          0.019000000000000017,
          0.007000000000000006,
          0.034999999999999976,
          0.015000000000000013,
          0.008999999999999952,
          0.019000000000000017,
          0.021999999999999964,
          0.014000000000000012,
          0.01899999999999996,
          0.007999999999999952,
          0.031000000000000028,
          0.013000000000000012,
          0.02200000000000002,
          0.007000000000000006,
          0.015000000000000013,
          0.023999999999999966,
          0.014000000000000012,
          0.055999999999999994,
          0.0030000000000000027,
          0.009000000000000008,
          0.0010000000000000009,
          0.023999999999999966,
          0.019999999999999962,
          0.0020000000000000018,
          0.03799999999999998,
          0.02100000000000002,
          0.01200000000000001,
          0.032999999999999974,
          0.006000000000000005,
          0.01100000000000001,
          0.0020000000000000018,
          0.008000000000000007,
          0.0010000000000000009,
          0.018000000000000016,
          0.0040000000000000036,
          0.03400000000000003,
          0.0019999999999999463,
          0.022999999999999965,
          0.027000000000000024,
          0.016000000000000014,
          0.01799999999999996,
          0.007000000000000006,
          0.0020000000000000018,
          0.014000000000000012,
          0.025000000000000022,
          0.008000000000000007,
          0.01599999999999996,
          0.01200000000000001,
          0.016000000000000014,
          0.010000000000000009,
          0.023999999999999966,
          0.015000000000000013,
          0.02699999999999997,
          0.020000000000000018,
          0.00599999999999995,
          0.014000000000000012,
          0.04200000000000004,
          0.0030000000000000027,
          0.009000000000000008,
          0.030999999999999972,
          0.0010000000000000009,
          0.01100000000000001,
          0.01200000000000001,
          0.014000000000000012,
          0.014000000000000012,
          0.013999999999999957,
          0.021999999999999964,
          0.034,
          0.0020000000000000018,
          0.0030000000000000027,
          0.017000000000000015,
          0.02799999999999997,
          0.016000000000000014,
          0.01200000000000001,
          0.017000000000000015,
          0.01100000000000001,
          0.01200000000000001,
          0.02899999999999997,
          0.013000000000000012,
          0.007000000000000006,
          0.05099999999999999,
          0.0040000000000000036,
          0.0019999999999999463,
          0.010000000000000009,
          0.010000000000000009,
          0.01100000000000001,
          0.030000000000000027,
          0.03400000000000003,
          0.016000000000000014,
          0.018000000000000016,
          0.01699999999999996,
          0.03899999999999998,
          0.010000000000000009,
          0.019999999999999962,
          0.03999999999999998,
          0.014999999999999958,
          0.014000000000000012,
          0.016000000000000014,
          0.009000000000000008,
          0.025999999999999968,
          0.01200000000000001,
          0.05199999999999999,
          0.02300000000000002,
          0.0030000000000000027,
          0.0030000000000000027,
          0.03699999999999998,
          0.020000000000000018,
          0.007000000000000006,
          0.0010000000000000009,
          0.02200000000000002,
          0.010000000000000009,
          0.009000000000000008,
          0.015000000000000013,
          0.0050000000000000044,
          0.022999999999999965,
          0.006000000000000005,
          0.009000000000000008,
          0.02100000000000002,
          0.0010000000000000009,
          0.026000000000000023,
          0.018000000000000016,
          0.017000000000000015,
          0.02200000000000002,
          0.0050000000000000044,
          0.0010000000000000009,
          0.0010000000000000009,
          0.013999999999999957,
          0.0040000000000000036,
          0.007000000000000006,
          0.0020000000000000018,
          0.035999999999999976,
          0.006000000000000005,
          0.01100000000000001,
          0.03199999999999997,
          0.0050000000000000044,
          0.006000000000000005,
          0.0020000000000000018,
          0.04299999999999998,
          0.022999999999999965,
          0.018000000000000016,
          0.030999999999999972,
          0.0050000000000000044,
          0.0020000000000000018,
          0,
          0.015000000000000013,
          0.010000000000000009,
          0.009000000000000008,
          0.01699999999999996,
          0.009999999999999953,
          0.006000000000000005,
          0.008999999999999952,
          0.008999999999999952,
          0.016000000000000014,
          0.03799999999999998,
          0.014000000000000012,
          0.01799999999999996,
          0.009000000000000008,
          0.015000000000000013,
          0.010000000000000009,
          0.02200000000000002,
          0.017000000000000015,
          0.01100000000000001,
          0.02400000000000002,
          0.019000000000000017,
          0.0010000000000000009,
          0,
          0.0050000000000000044,
          0.01200000000000001,
          0.020000000000000018,
          0.0050000000000000044,
          0.017000000000000015,
          0.024999999999999967,
          0.0030000000000000027,
          0.018000000000000016,
          0.035999999999999976,
          0.006000000000000005,
          0.0050000000000000044,
          0.0010000000000000009,
          0.0050000000000000044
         ],
         "yaxis": "y"
        }
       ],
       "layout": {
        "coloraxis": {
         "colorbar": {
          "title": {
           "text": "PA"
          }
         },
         "colorscale": [
          [
           0,
           "#0d0887"
          ],
          [
           0.1111111111111111,
           "#46039f"
          ],
          [
           0.2222222222222222,
           "#7201a8"
          ],
          [
           0.3333333333333333,
           "#9c179e"
          ],
          [
           0.4444444444444444,
           "#bd3786"
          ],
          [
           0.5555555555555556,
           "#d8576b"
          ],
          [
           0.6666666666666666,
           "#ed7953"
          ],
          [
           0.7777777777777778,
           "#fb9f3a"
          ],
          [
           0.8888888888888888,
           "#fdca26"
          ],
          [
           1,
           "#f0f921"
          ]
         ]
        },
        "legend": {
         "tracegroupgap": 0
        },
        "margin": {
         "t": 60
        },
        "template": {
         "data": {
          "bar": [
           {
            "error_x": {
             "color": "#2a3f5f"
            },
            "error_y": {
             "color": "#2a3f5f"
            },
            "marker": {
             "line": {
              "color": "#E5ECF6",
              "width": 0.5
             },
             "pattern": {
              "fillmode": "overlay",
              "size": 10,
              "solidity": 0.2
             }
            },
            "type": "bar"
           }
          ],
          "barpolar": [
           {
            "marker": {
             "line": {
              "color": "#E5ECF6",
              "width": 0.5
             },
             "pattern": {
              "fillmode": "overlay",
              "size": 10,
              "solidity": 0.2
             }
            },
            "type": "barpolar"
           }
          ],
          "carpet": [
           {
            "aaxis": {
             "endlinecolor": "#2a3f5f",
             "gridcolor": "white",
             "linecolor": "white",
             "minorgridcolor": "white",
             "startlinecolor": "#2a3f5f"
            },
            "baxis": {
             "endlinecolor": "#2a3f5f",
             "gridcolor": "white",
             "linecolor": "white",
             "minorgridcolor": "white",
             "startlinecolor": "#2a3f5f"
            },
            "type": "carpet"
           }
          ],
          "choropleth": [
           {
            "colorbar": {
             "outlinewidth": 0,
             "ticks": ""
            },
            "type": "choropleth"
           }
          ],
          "contour": [
           {
            "colorbar": {
             "outlinewidth": 0,
             "ticks": ""
            },
            "colorscale": [
             [
              0,
              "#0d0887"
             ],
             [
              0.1111111111111111,
              "#46039f"
             ],
             [
              0.2222222222222222,
              "#7201a8"
             ],
             [
              0.3333333333333333,
              "#9c179e"
             ],
             [
              0.4444444444444444,
              "#bd3786"
             ],
             [
              0.5555555555555556,
              "#d8576b"
             ],
             [
              0.6666666666666666,
              "#ed7953"
             ],
             [
              0.7777777777777778,
              "#fb9f3a"
             ],
             [
              0.8888888888888888,
              "#fdca26"
             ],
             [
              1,
              "#f0f921"
             ]
            ],
            "type": "contour"
           }
          ],
          "contourcarpet": [
           {
            "colorbar": {
             "outlinewidth": 0,
             "ticks": ""
            },
            "type": "contourcarpet"
           }
          ],
          "heatmap": [
           {
            "colorbar": {
             "outlinewidth": 0,
             "ticks": ""
            },
            "colorscale": [
             [
              0,
              "#0d0887"
             ],
             [
              0.1111111111111111,
              "#46039f"
             ],
             [
              0.2222222222222222,
              "#7201a8"
             ],
             [
              0.3333333333333333,
              "#9c179e"
             ],
             [
              0.4444444444444444,
              "#bd3786"
             ],
             [
              0.5555555555555556,
              "#d8576b"
             ],
             [
              0.6666666666666666,
              "#ed7953"
             ],
             [
              0.7777777777777778,
              "#fb9f3a"
             ],
             [
              0.8888888888888888,
              "#fdca26"
             ],
             [
              1,
              "#f0f921"
             ]
            ],
            "type": "heatmap"
           }
          ],
          "heatmapgl": [
           {
            "colorbar": {
             "outlinewidth": 0,
             "ticks": ""
            },
            "colorscale": [
             [
              0,
              "#0d0887"
             ],
             [
              0.1111111111111111,
              "#46039f"
             ],
             [
              0.2222222222222222,
              "#7201a8"
             ],
             [
              0.3333333333333333,
              "#9c179e"
             ],
             [
              0.4444444444444444,
              "#bd3786"
             ],
             [
              0.5555555555555556,
              "#d8576b"
             ],
             [
              0.6666666666666666,
              "#ed7953"
             ],
             [
              0.7777777777777778,
              "#fb9f3a"
             ],
             [
              0.8888888888888888,
              "#fdca26"
             ],
             [
              1,
              "#f0f921"
             ]
            ],
            "type": "heatmapgl"
           }
          ],
          "histogram": [
           {
            "marker": {
             "pattern": {
              "fillmode": "overlay",
              "size": 10,
              "solidity": 0.2
             }
            },
            "type": "histogram"
           }
          ],
          "histogram2d": [
           {
            "colorbar": {
             "outlinewidth": 0,
             "ticks": ""
            },
            "colorscale": [
             [
              0,
              "#0d0887"
             ],
             [
              0.1111111111111111,
              "#46039f"
             ],
             [
              0.2222222222222222,
              "#7201a8"
             ],
             [
              0.3333333333333333,
              "#9c179e"
             ],
             [
              0.4444444444444444,
              "#bd3786"
             ],
             [
              0.5555555555555556,
              "#d8576b"
             ],
             [
              0.6666666666666666,
              "#ed7953"
             ],
             [
              0.7777777777777778,
              "#fb9f3a"
             ],
             [
              0.8888888888888888,
              "#fdca26"
             ],
             [
              1,
              "#f0f921"
             ]
            ],
            "type": "histogram2d"
           }
          ],
          "histogram2dcontour": [
           {
            "colorbar": {
             "outlinewidth": 0,
             "ticks": ""
            },
            "colorscale": [
             [
              0,
              "#0d0887"
             ],
             [
              0.1111111111111111,
              "#46039f"
             ],
             [
              0.2222222222222222,
              "#7201a8"
             ],
             [
              0.3333333333333333,
              "#9c179e"
             ],
             [
              0.4444444444444444,
              "#bd3786"
             ],
             [
              0.5555555555555556,
              "#d8576b"
             ],
             [
              0.6666666666666666,
              "#ed7953"
             ],
             [
              0.7777777777777778,
              "#fb9f3a"
             ],
             [
              0.8888888888888888,
              "#fdca26"
             ],
             [
              1,
              "#f0f921"
             ]
            ],
            "type": "histogram2dcontour"
           }
          ],
          "mesh3d": [
           {
            "colorbar": {
             "outlinewidth": 0,
             "ticks": ""
            },
            "type": "mesh3d"
           }
          ],
          "parcoords": [
           {
            "line": {
             "colorbar": {
              "outlinewidth": 0,
              "ticks": ""
             }
            },
            "type": "parcoords"
           }
          ],
          "pie": [
           {
            "automargin": true,
            "type": "pie"
           }
          ],
          "scatter": [
           {
            "fillpattern": {
             "fillmode": "overlay",
             "size": 10,
             "solidity": 0.2
            },
            "type": "scatter"
           }
          ],
          "scatter3d": [
           {
            "line": {
             "colorbar": {
              "outlinewidth": 0,
              "ticks": ""
             }
            },
            "marker": {
             "colorbar": {
              "outlinewidth": 0,
              "ticks": ""
             }
            },
            "type": "scatter3d"
           }
          ],
          "scattercarpet": [
           {
            "marker": {
             "colorbar": {
              "outlinewidth": 0,
              "ticks": ""
             }
            },
            "type": "scattercarpet"
           }
          ],
          "scattergeo": [
           {
            "marker": {
             "colorbar": {
              "outlinewidth": 0,
              "ticks": ""
             }
            },
            "type": "scattergeo"
           }
          ],
          "scattergl": [
           {
            "marker": {
             "colorbar": {
              "outlinewidth": 0,
              "ticks": ""
             }
            },
            "type": "scattergl"
           }
          ],
          "scattermapbox": [
           {
            "marker": {
             "colorbar": {
              "outlinewidth": 0,
              "ticks": ""
             }
            },
            "type": "scattermapbox"
           }
          ],
          "scatterpolar": [
           {
            "marker": {
             "colorbar": {
              "outlinewidth": 0,
              "ticks": ""
             }
            },
            "type": "scatterpolar"
           }
          ],
          "scatterpolargl": [
           {
            "marker": {
             "colorbar": {
              "outlinewidth": 0,
              "ticks": ""
             }
            },
            "type": "scatterpolargl"
           }
          ],
          "scatterternary": [
           {
            "marker": {
             "colorbar": {
              "outlinewidth": 0,
              "ticks": ""
             }
            },
            "type": "scatterternary"
           }
          ],
          "surface": [
           {
            "colorbar": {
             "outlinewidth": 0,
             "ticks": ""
            },
            "colorscale": [
             [
              0,
              "#0d0887"
             ],
             [
              0.1111111111111111,
              "#46039f"
             ],
             [
              0.2222222222222222,
              "#7201a8"
             ],
             [
              0.3333333333333333,
              "#9c179e"
             ],
             [
              0.4444444444444444,
              "#bd3786"
             ],
             [
              0.5555555555555556,
              "#d8576b"
             ],
             [
              0.6666666666666666,
              "#ed7953"
             ],
             [
              0.7777777777777778,
              "#fb9f3a"
             ],
             [
              0.8888888888888888,
              "#fdca26"
             ],
             [
              1,
              "#f0f921"
             ]
            ],
            "type": "surface"
           }
          ],
          "table": [
           {
            "cells": {
             "fill": {
              "color": "#EBF0F8"
             },
             "line": {
              "color": "white"
             }
            },
            "header": {
             "fill": {
              "color": "#C8D4E3"
             },
             "line": {
              "color": "white"
             }
            },
            "type": "table"
           }
          ]
         },
         "layout": {
          "annotationdefaults": {
           "arrowcolor": "#2a3f5f",
           "arrowhead": 0,
           "arrowwidth": 1
          },
          "autotypenumbers": "strict",
          "coloraxis": {
           "colorbar": {
            "outlinewidth": 0,
            "ticks": ""
           }
          },
          "colorscale": {
           "diverging": [
            [
             0,
             "#8e0152"
            ],
            [
             0.1,
             "#c51b7d"
            ],
            [
             0.2,
             "#de77ae"
            ],
            [
             0.3,
             "#f1b6da"
            ],
            [
             0.4,
             "#fde0ef"
            ],
            [
             0.5,
             "#f7f7f7"
            ],
            [
             0.6,
             "#e6f5d0"
            ],
            [
             0.7,
             "#b8e186"
            ],
            [
             0.8,
             "#7fbc41"
            ],
            [
             0.9,
             "#4d9221"
            ],
            [
             1,
             "#276419"
            ]
           ],
           "sequential": [
            [
             0,
             "#0d0887"
            ],
            [
             0.1111111111111111,
             "#46039f"
            ],
            [
             0.2222222222222222,
             "#7201a8"
            ],
            [
             0.3333333333333333,
             "#9c179e"
            ],
            [
             0.4444444444444444,
             "#bd3786"
            ],
            [
             0.5555555555555556,
             "#d8576b"
            ],
            [
             0.6666666666666666,
             "#ed7953"
            ],
            [
             0.7777777777777778,
             "#fb9f3a"
            ],
            [
             0.8888888888888888,
             "#fdca26"
            ],
            [
             1,
             "#f0f921"
            ]
           ],
           "sequentialminus": [
            [
             0,
             "#0d0887"
            ],
            [
             0.1111111111111111,
             "#46039f"
            ],
            [
             0.2222222222222222,
             "#7201a8"
            ],
            [
             0.3333333333333333,
             "#9c179e"
            ],
            [
             0.4444444444444444,
             "#bd3786"
            ],
            [
             0.5555555555555556,
             "#d8576b"
            ],
            [
             0.6666666666666666,
             "#ed7953"
            ],
            [
             0.7777777777777778,
             "#fb9f3a"
            ],
            [
             0.8888888888888888,
             "#fdca26"
            ],
            [
             1,
             "#f0f921"
            ]
           ]
          },
          "colorway": [
           "#636efa",
           "#EF553B",
           "#00cc96",
           "#ab63fa",
           "#FFA15A",
           "#19d3f3",
           "#FF6692",
           "#B6E880",
           "#FF97FF",
           "#FECB52"
          ],
          "font": {
           "color": "#2a3f5f"
          },
          "geo": {
           "bgcolor": "white",
           "lakecolor": "white",
           "landcolor": "#E5ECF6",
           "showlakes": true,
           "showland": true,
           "subunitcolor": "white"
          },
          "hoverlabel": {
           "align": "left"
          },
          "hovermode": "closest",
          "mapbox": {
           "style": "light"
          },
          "paper_bgcolor": "white",
          "plot_bgcolor": "#E5ECF6",
          "polar": {
           "angularaxis": {
            "gridcolor": "white",
            "linecolor": "white",
            "ticks": ""
           },
           "bgcolor": "#E5ECF6",
           "radialaxis": {
            "gridcolor": "white",
            "linecolor": "white",
            "ticks": ""
           }
          },
          "scene": {
           "xaxis": {
            "backgroundcolor": "#E5ECF6",
            "gridcolor": "white",
            "gridwidth": 2,
            "linecolor": "white",
            "showbackground": true,
            "ticks": "",
            "zerolinecolor": "white"
           },
           "yaxis": {
            "backgroundcolor": "#E5ECF6",
            "gridcolor": "white",
            "gridwidth": 2,
            "linecolor": "white",
            "showbackground": true,
            "ticks": "",
            "zerolinecolor": "white"
           },
           "zaxis": {
            "backgroundcolor": "#E5ECF6",
            "gridcolor": "white",
            "gridwidth": 2,
            "linecolor": "white",
            "showbackground": true,
            "ticks": "",
            "zerolinecolor": "white"
           }
          },
          "shapedefaults": {
           "line": {
            "color": "#2a3f5f"
           }
          },
          "ternary": {
           "aaxis": {
            "gridcolor": "white",
            "linecolor": "white",
            "ticks": ""
           },
           "baxis": {
            "gridcolor": "white",
            "linecolor": "white",
            "ticks": ""
           },
           "bgcolor": "#E5ECF6",
           "caxis": {
            "gridcolor": "white",
            "linecolor": "white",
            "ticks": ""
           }
          },
          "title": {
           "x": 0.05
          },
          "xaxis": {
           "automargin": true,
           "gridcolor": "white",
           "linecolor": "white",
           "ticks": "",
           "title": {
            "standoff": 15
           },
           "zerolinecolor": "white",
           "zerolinewidth": 2
          },
          "yaxis": {
           "automargin": true,
           "gridcolor": "white",
           "linecolor": "white",
           "ticks": "",
           "title": {
            "standoff": 15
           },
           "zerolinecolor": "white",
           "zerolinewidth": 2
          }
         }
        },
        "xaxis": {
         "anchor": "y",
         "domain": [
          0,
          1
         ],
         "title": {
          "text": "absolute_error_xwoba"
         }
        },
        "yaxis": {
         "anchor": "x",
         "domain": [
          0,
          1
         ],
         "title": {
          "text": "absolute_error_sxwoba"
         }
        }
       }
      }
     },
     "metadata": {},
     "output_type": "display_data"
    }
   ],
   "source": [
    "px.scatter(data_frame=leaders.loc[leaders['PA']>300], x='absolute_error_xwoba', y='absolute_error_sxwoba', color='PA', hover_data=['batter_name'])"
   ]
  },
  {
   "cell_type": "code",
   "execution_count": null,
   "metadata": {},
   "outputs": [
    {
     "data": {
      "text/html": [
       "<div>\n",
       "<style scoped>\n",
       "    .dataframe tbody tr th:only-of-type {\n",
       "        vertical-align: middle;\n",
       "    }\n",
       "\n",
       "    .dataframe tbody tr th {\n",
       "        vertical-align: top;\n",
       "    }\n",
       "\n",
       "    .dataframe thead th {\n",
       "        text-align: right;\n",
       "    }\n",
       "</style>\n",
       "<table border=\"1\" class=\"dataframe\">\n",
       "  <thead>\n",
       "    <tr style=\"text-align: right;\">\n",
       "      <th></th>\n",
       "      <th>batter_name</th>\n",
       "      <th>batter_id</th>\n",
       "      <th>PA</th>\n",
       "      <th>wOBA</th>\n",
       "      <th>xwOBA</th>\n",
       "      <th>sxwOBA</th>\n",
       "      <th>diff</th>\n",
       "      <th>diff %</th>\n",
       "      <th>BB%</th>\n",
       "      <th>K%</th>\n",
       "      <th>Barrels</th>\n",
       "      <th>pulled_barrels</th>\n",
       "      <th>absolute_error_xwoba</th>\n",
       "      <th>absolute_error_sxwoba</th>\n",
       "    </tr>\n",
       "  </thead>\n",
       "  <tbody>\n",
       "    <tr>\n",
       "      <th>0</th>\n",
       "      <td>aaron hicks</td>\n",
       "      <td>543305</td>\n",
       "      <td>453</td>\n",
       "      <td>0.292</td>\n",
       "      <td>0.303</td>\n",
       "      <td>0.316</td>\n",
       "      <td>0.013</td>\n",
       "      <td>4.23</td>\n",
       "      <td>13.7</td>\n",
       "      <td>24.1</td>\n",
       "      <td>16.0</td>\n",
       "      <td>11.0</td>\n",
       "      <td>0.011</td>\n",
       "      <td>0.024</td>\n",
       "    </tr>\n",
       "    <tr>\n",
       "      <th>1</th>\n",
       "      <td>aaron judge</td>\n",
       "      <td>592450</td>\n",
       "      <td>696</td>\n",
       "      <td>0.458</td>\n",
       "      <td>0.463</td>\n",
       "      <td>0.470</td>\n",
       "      <td>0.007</td>\n",
       "      <td>1.44</td>\n",
       "      <td>15.9</td>\n",
       "      <td>25.1</td>\n",
       "      <td>106.0</td>\n",
       "      <td>45.0</td>\n",
       "      <td>0.005</td>\n",
       "      <td>0.012</td>\n",
       "    </tr>\n",
       "    <tr>\n",
       "      <th>2</th>\n",
       "      <td>aaron whitefield</td>\n",
       "      <td>664334</td>\n",
       "      <td>11</td>\n",
       "      <td>0.000</td>\n",
       "      <td>0.189</td>\n",
       "      <td>0.209</td>\n",
       "      <td>0.020</td>\n",
       "      <td>10.67</td>\n",
       "      <td>0.0</td>\n",
       "      <td>45.5</td>\n",
       "      <td>1.0</td>\n",
       "      <td>1.0</td>\n",
       "      <td>0.189</td>\n",
       "      <td>0.209</td>\n",
       "    </tr>\n",
       "    <tr>\n",
       "      <th>3</th>\n",
       "      <td>abraham almonte</td>\n",
       "      <td>501659</td>\n",
       "      <td>37</td>\n",
       "      <td>0.306</td>\n",
       "      <td>0.234</td>\n",
       "      <td>0.251</td>\n",
       "      <td>0.017</td>\n",
       "      <td>7.25</td>\n",
       "      <td>2.7</td>\n",
       "      <td>32.4</td>\n",
       "      <td>1.0</td>\n",
       "      <td>1.0</td>\n",
       "      <td>0.072</td>\n",
       "      <td>0.055</td>\n",
       "    </tr>\n",
       "    <tr>\n",
       "      <th>4</th>\n",
       "      <td>abraham toro</td>\n",
       "      <td>647351</td>\n",
       "      <td>352</td>\n",
       "      <td>0.246</td>\n",
       "      <td>0.284</td>\n",
       "      <td>0.280</td>\n",
       "      <td>-0.004</td>\n",
       "      <td>-1.52</td>\n",
       "      <td>6.3</td>\n",
       "      <td>18.5</td>\n",
       "      <td>18.0</td>\n",
       "      <td>12.0</td>\n",
       "      <td>0.038</td>\n",
       "      <td>0.034</td>\n",
       "    </tr>\n",
       "  </tbody>\n",
       "</table>\n",
       "</div>"
      ],
      "text/plain": [
       "        batter_name  batter_id   PA   wOBA  xwOBA  sxwOBA   diff  diff %  \\\n",
       "0       aaron hicks     543305  453  0.292  0.303   0.316  0.013    4.23   \n",
       "1       aaron judge     592450  696  0.458  0.463   0.470  0.007    1.44   \n",
       "2  aaron whitefield     664334   11  0.000  0.189   0.209  0.020   10.67   \n",
       "3   abraham almonte     501659   37  0.306  0.234   0.251  0.017    7.25   \n",
       "4      abraham toro     647351  352  0.246  0.284   0.280 -0.004   -1.52   \n",
       "\n",
       "    BB%    K%  Barrels  pulled_barrels  absolute_error_xwoba  \\\n",
       "0  13.7  24.1     16.0            11.0                 0.011   \n",
       "1  15.9  25.1    106.0            45.0                 0.005   \n",
       "2   0.0  45.5      1.0             1.0                 0.189   \n",
       "3   2.7  32.4      1.0             1.0                 0.072   \n",
       "4   6.3  18.5     18.0            12.0                 0.038   \n",
       "\n",
       "   absolute_error_sxwoba  \n",
       "0                  0.024  \n",
       "1                  0.012  \n",
       "2                  0.209  \n",
       "3                  0.055  \n",
       "4                  0.034  "
      ]
     },
     "execution_count": 87,
     "metadata": {},
     "output_type": "execute_result"
    }
   ],
   "source": [
    "leaders.head()"
   ]
  },
  {
   "cell_type": "code",
   "execution_count": null,
   "metadata": {},
   "outputs": [
    {
     "data": {
      "text/plain": [
       "'2022-10-05'"
      ]
     },
     "execution_count": 89,
     "metadata": {},
     "output_type": "execute_result"
    }
   ],
   "source": [
    "bbe['game_date'].max()"
   ]
  },
  {
   "cell_type": "code",
   "execution_count": null,
   "metadata": {},
   "outputs": [],
   "source": []
  }
 ],
 "metadata": {
  "kernelspec": {
   "display_name": "sxwOBA",
   "language": "python",
   "name": "python3"
  },
  "language_info": {
   "codemirror_mode": {
    "name": "ipython",
    "version": 3
   },
   "file_extension": ".py",
   "mimetype": "text/x-python",
   "name": "python",
   "nbconvert_exporter": "python",
   "pygments_lexer": "ipython3",
   "version": "3.10.8"
  },
  "orig_nbformat": 4,
  "vscode": {
   "interpreter": {
    "hash": "eecdc8ed4f76b20d4a86af4fcade57f6784d39d749d4de64aea7d2bf1aeeffe0"
   }
  }
 },
 "nbformat": 4,
 "nbformat_minor": 2
}
